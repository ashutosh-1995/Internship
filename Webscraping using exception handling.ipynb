{
 "cells": [
  {
   "cell_type": "code",
   "execution_count": 1,
   "id": "ff55c924",
   "metadata": {},
   "outputs": [],
   "source": [
    "import pandas as pd\n",
    "import selenium\n",
    "import time\n",
    "from selenium import webdriver\n",
    "import warnings\n",
    "warnings.filterwarnings('ignore')"
   ]
  },
  {
   "cell_type": "markdown",
   "id": "015fb458",
   "metadata": {},
   "source": [
    "Ans 1. - Python program to search all type under a particular product from amazon.in webpage."
   ]
  },
  {
   "cell_type": "code",
   "execution_count": 2,
   "id": "cd68e3fe",
   "metadata": {},
   "outputs": [],
   "source": [
    "driver = webdriver.Chrome('C:/Users/dell/Downloads/chromedriver_win32/chromedriver.exe')"
   ]
  },
  {
   "cell_type": "code",
   "execution_count": 42,
   "id": "f820514b",
   "metadata": {},
   "outputs": [],
   "source": [
    "driver.get('https://www.amazon.in/')"
   ]
  },
  {
   "cell_type": "code",
   "execution_count": 43,
   "id": "2eb4d7a6",
   "metadata": {},
   "outputs": [],
   "source": [
    "se = driver.find_element_by_id('twotabsearchtextbox')"
   ]
  },
  {
   "cell_type": "code",
   "execution_count": 44,
   "id": "eb55e719",
   "metadata": {},
   "outputs": [],
   "source": [
    "se.send_keys('guitar')"
   ]
  },
  {
   "cell_type": "code",
   "execution_count": 45,
   "id": "bdef4b67",
   "metadata": {},
   "outputs": [],
   "source": [
    "se_btn = driver.find_element_by_id('nav-search-submit-button')"
   ]
  },
  {
   "cell_type": "code",
   "execution_count": 46,
   "id": "123bbc82",
   "metadata": {},
   "outputs": [],
   "source": [
    "se_btn.click()"
   ]
  },
  {
   "cell_type": "markdown",
   "id": "5d1feac6",
   "metadata": {},
   "source": [
    "Ans 2. - Python program to scrape the data for first 3 pages of the product from the first question."
   ]
  },
  {
   "cell_type": "code",
   "execution_count": 13,
   "id": "88faf5ca",
   "metadata": {},
   "outputs": [],
   "source": [
    "url = []\n",
    "start = 0\n",
    "end = 3\n",
    "for pages in range(start, end):\n",
    "    guit = driver.find_elements_by_xpath(\"//a[@class= 'a-link-normal s-link-style a-text-normal']\")\n",
    "    for i in guit:\n",
    "        url.append(i.get_attribute('href'))"
   ]
  },
  {
   "cell_type": "code",
   "execution_count": 14,
   "id": "78de1aa8",
   "metadata": {},
   "outputs": [
    {
     "data": {
      "text/plain": [
       "180"
      ]
     },
     "execution_count": 14,
     "metadata": {},
     "output_type": "execute_result"
    }
   ],
   "source": [
    "len(url)"
   ]
  },
  {
   "cell_type": "code",
   "execution_count": 47,
   "id": "245df1dd",
   "metadata": {},
   "outputs": [],
   "source": [
    "brand_name = []\n",
    "product_name = []\n",
    "prices = []\n",
    "exchanges = []\n",
    "deli_list = []\n",
    "avail_list = []\n",
    "for j in url:\n",
    "    driver.get(j)\n",
    "    time.sleep(2)\n",
    "    try:\n",
    "        brand = driver.find_element_by_xpath(\"//td[@class= 'a-span9']\")\n",
    "        brand_name.append(brand.text.replace(\"/n\",\"new line\"))\n",
    "    except:\n",
    "        brand_name.append(\"-\")\n",
    "        \n",
    "    try:\n",
    "        product = driver.find_element_by_xpath(\"//h1[@class= 'a-size-large a-spacing-none']\")\n",
    "        product_name.append(product.text.replace(\"/n\",\"new line\"))\n",
    "    except:\n",
    "        product_name.append(\"-\")\n",
    "        \n",
    "    try:\n",
    "        price = driver.find_element_by_xpath(\"//span[@class= 'a-offscreen']\")\n",
    "        prices.append(price.text.replace(\"/n\",\"new line\"))\n",
    "    except:\n",
    "        prices.append(\"-\")\n",
    "        \n",
    "    try:\n",
    "        exchange = driver.find_element_by_xpath(\"//a[@class= 'a-size-small a-link-normal a-text-normal']\")\n",
    "        exchanges.append(exchange.text)\n",
    "    except:\n",
    "        exchanges.append(\"-\")\n",
    "        \n",
    "    try:\n",
    "        deliver = driver.find_element_by_xpath(\"//div[@class= 'a-column a-span12 a-text-left']\")\n",
    "        deli_list.append(deliver.text)\n",
    "    except:\n",
    "        exchanges.append(\"-\")\n",
    "        \n",
    "    try:\n",
    "        availability = driver.find_element_by_xpath(\"//div[@class= 'a-section a-spacing-none }']\")\n",
    "        avail_list.append(availability.text)\n",
    "    except:\n",
    "        avail_list.append(\"-\")"
   ]
  },
  {
   "cell_type": "code",
   "execution_count": 50,
   "id": "710e8416",
   "metadata": {},
   "outputs": [
    {
     "name": "stdout",
     "output_type": "stream",
     "text": [
      "180\n",
      "180\n",
      "180\n",
      "180\n",
      "180\n",
      "180\n"
     ]
    }
   ],
   "source": [
    "print(len(brand_name))\n",
    "print(len(product_name))\n",
    "print(len(prices))\n",
    "print(len(exchanges))\n",
    "print(len(deli_list))\n",
    "print(len(avail_list))"
   ]
  },
  {
   "cell_type": "code",
   "execution_count": 54,
   "id": "c448f0b2",
   "metadata": {},
   "outputs": [],
   "source": [
    "guitars = pd.DataFrame({'Brand Name': brand_name, 'Product Name': product_name, 'Price': prices, 'Replacement/Exchane': exchanges,\n",
    "                       'Expected Delivery': deli_list, 'Availability': avail_list, 'Product URL': url})"
   ]
  },
  {
   "cell_type": "code",
   "execution_count": 55,
   "id": "6b4fcebb",
   "metadata": {},
   "outputs": [
    {
     "data": {
      "text/html": [
       "<div>\n",
       "<style scoped>\n",
       "    .dataframe tbody tr th:only-of-type {\n",
       "        vertical-align: middle;\n",
       "    }\n",
       "\n",
       "    .dataframe tbody tr th {\n",
       "        vertical-align: top;\n",
       "    }\n",
       "\n",
       "    .dataframe thead th {\n",
       "        text-align: right;\n",
       "    }\n",
       "</style>\n",
       "<table border=\"1\" class=\"dataframe\">\n",
       "  <thead>\n",
       "    <tr style=\"text-align: right;\">\n",
       "      <th></th>\n",
       "      <th>Brand Name</th>\n",
       "      <th>Product Name</th>\n",
       "      <th>Price</th>\n",
       "      <th>Replacement/Exchane</th>\n",
       "      <th>Expected Delivery</th>\n",
       "      <th>Availability</th>\n",
       "      <th>Product URL</th>\n",
       "    </tr>\n",
       "  </thead>\n",
       "  <tbody>\n",
       "    <tr>\n",
       "      <th>0</th>\n",
       "      <td>VAULT</td>\n",
       "      <td>Vault ST1 Premium Electric Guitar - Metallic Blue</td>\n",
       "      <td></td>\n",
       "      <td>Pay on Delivery</td>\n",
       "      <td>FREE delivery: Thursday, Dec 30 Details</td>\n",
       "      <td>In stock.</td>\n",
       "      <td>https://www.amazon.in/gp/slredirect/picassoRed...</td>\n",
       "    </tr>\n",
       "    <tr>\n",
       "      <th>1</th>\n",
       "      <td>Guitar Bro</td>\n",
       "      <td>GUITAR BRO - COMBO (Black Acoustic Guitar for ...</td>\n",
       "      <td></td>\n",
       "      <td>7 Days Replacement</td>\n",
       "      <td>FREE delivery: Dec 31 - Jan 4\\nFastest deliver...</td>\n",
       "      <td>In stock.</td>\n",
       "      <td>https://www.amazon.in/gp/slredirect/picassoRed...</td>\n",
       "    </tr>\n",
       "    <tr>\n",
       "      <th>2</th>\n",
       "      <td>Kadence</td>\n",
       "      <td>Kadence Guitar Slowhand Series Premium Electri...</td>\n",
       "      <td></td>\n",
       "      <td>Pay on Delivery</td>\n",
       "      <td>FREE delivery: Friday, Dec 31 Details</td>\n",
       "      <td>In stock.</td>\n",
       "      <td>https://www.amazon.in/gp/slredirect/picassoRed...</td>\n",
       "    </tr>\n",
       "    <tr>\n",
       "      <th>3</th>\n",
       "      <td>blueberry</td>\n",
       "      <td>Blueberry B-40, 40\" Acoustic Guitar Kit with B...</td>\n",
       "      <td></td>\n",
       "      <td>Pay on Delivery</td>\n",
       "      <td>FREE delivery: Wednesday, Dec 29 Details</td>\n",
       "      <td>In stock.</td>\n",
       "      <td>https://www.amazon.in/gp/slredirect/picassoRed...</td>\n",
       "    </tr>\n",
       "    <tr>\n",
       "      <th>4</th>\n",
       "      <td>YAMAHA</td>\n",
       "      <td>Yamaha F310, 6-Strings Acoustic Guitar, Natural</td>\n",
       "      <td></td>\n",
       "      <td>7 Days Replacement</td>\n",
       "      <td>Select delivery location</td>\n",
       "      <td>-</td>\n",
       "      <td>https://www.amazon.in/Yamaha-F310-6-Strings-Ac...</td>\n",
       "    </tr>\n",
       "    <tr>\n",
       "      <th>...</th>\n",
       "      <td>...</td>\n",
       "      <td>...</td>\n",
       "      <td>...</td>\n",
       "      <td>...</td>\n",
       "      <td>...</td>\n",
       "      <td>...</td>\n",
       "      <td>...</td>\n",
       "    </tr>\n",
       "    <tr>\n",
       "      <th>175</th>\n",
       "      <td>YAMAHA</td>\n",
       "      <td>Yamaha PACIFICA012 Electric Guitar, Dark Blue ...</td>\n",
       "      <td></td>\n",
       "      <td>Pay on Delivery</td>\n",
       "      <td>FREE delivery: Friday, Dec 31 Details</td>\n",
       "      <td>In stock.</td>\n",
       "      <td>https://www.amazon.in/Yamaha-PACIFICA012-Elect...</td>\n",
       "    </tr>\n",
       "    <tr>\n",
       "      <th>176</th>\n",
       "      <td>MUSTANG</td>\n",
       "      <td>Capo Guitar Capo with 5 Pack Guitar Picks Guit...</td>\n",
       "      <td></td>\n",
       "      <td>7 Days Replacement</td>\n",
       "      <td>FREE delivery: Tuesday, Dec 28\\nif you order w...</td>\n",
       "      <td>In stock.</td>\n",
       "      <td>https://www.amazon.in/gp/slredirect/picassoRed...</td>\n",
       "    </tr>\n",
       "    <tr>\n",
       "      <th>177</th>\n",
       "      <td>Blueberry</td>\n",
       "      <td>Blueberry 38C, 38\" Acoustic Guitar Kit with Ba...</td>\n",
       "      <td></td>\n",
       "      <td>Pay on Delivery</td>\n",
       "      <td>FREE delivery: Wednesday, Dec 29 Details</td>\n",
       "      <td>In stock.</td>\n",
       "      <td>https://www.amazon.in/gp/slredirect/picassoRed...</td>\n",
       "    </tr>\n",
       "    <tr>\n",
       "      <th>178</th>\n",
       "      <td>blueberry</td>\n",
       "      <td>Blueberry B40, 40 Inch Acoustic Guitar Kit inb...</td>\n",
       "      <td></td>\n",
       "      <td>Pay on Delivery</td>\n",
       "      <td>FREE delivery: Wednesday, Dec 29 Details</td>\n",
       "      <td>In stock.</td>\n",
       "      <td>https://www.amazon.in/gp/slredirect/picassoRed...</td>\n",
       "    </tr>\n",
       "    <tr>\n",
       "      <th>179</th>\n",
       "      <td>blueberry</td>\n",
       "      <td>Blueberry 38C, 38\" Acoustic Guitar Kit with Ba...</td>\n",
       "      <td></td>\n",
       "      <td>Pay on Delivery</td>\n",
       "      <td>FREE delivery: Wednesday, Dec 29 Details</td>\n",
       "      <td>In stock.</td>\n",
       "      <td>https://www.amazon.in/gp/slredirect/picassoRed...</td>\n",
       "    </tr>\n",
       "  </tbody>\n",
       "</table>\n",
       "<p>180 rows × 7 columns</p>\n",
       "</div>"
      ],
      "text/plain": [
       "     Brand Name                                       Product Name Price  \\\n",
       "0         VAULT  Vault ST1 Premium Electric Guitar - Metallic Blue         \n",
       "1    Guitar Bro  GUITAR BRO - COMBO (Black Acoustic Guitar for ...         \n",
       "2       Kadence  Kadence Guitar Slowhand Series Premium Electri...         \n",
       "3     blueberry  Blueberry B-40, 40\" Acoustic Guitar Kit with B...         \n",
       "4        YAMAHA    Yamaha F310, 6-Strings Acoustic Guitar, Natural         \n",
       "..          ...                                                ...   ...   \n",
       "175      YAMAHA  Yamaha PACIFICA012 Electric Guitar, Dark Blue ...         \n",
       "176     MUSTANG  Capo Guitar Capo with 5 Pack Guitar Picks Guit...         \n",
       "177   Blueberry  Blueberry 38C, 38\" Acoustic Guitar Kit with Ba...         \n",
       "178   blueberry  Blueberry B40, 40 Inch Acoustic Guitar Kit inb...         \n",
       "179   blueberry  Blueberry 38C, 38\" Acoustic Guitar Kit with Ba...         \n",
       "\n",
       "    Replacement/Exchane                                  Expected Delivery  \\\n",
       "0       Pay on Delivery            FREE delivery: Thursday, Dec 30 Details   \n",
       "1    7 Days Replacement  FREE delivery: Dec 31 - Jan 4\\nFastest deliver...   \n",
       "2       Pay on Delivery              FREE delivery: Friday, Dec 31 Details   \n",
       "3       Pay on Delivery           FREE delivery: Wednesday, Dec 29 Details   \n",
       "4    7 Days Replacement                           Select delivery location   \n",
       "..                  ...                                                ...   \n",
       "175     Pay on Delivery              FREE delivery: Friday, Dec 31 Details   \n",
       "176  7 Days Replacement  FREE delivery: Tuesday, Dec 28\\nif you order w...   \n",
       "177     Pay on Delivery           FREE delivery: Wednesday, Dec 29 Details   \n",
       "178     Pay on Delivery           FREE delivery: Wednesday, Dec 29 Details   \n",
       "179     Pay on Delivery           FREE delivery: Wednesday, Dec 29 Details   \n",
       "\n",
       "    Availability                                        Product URL  \n",
       "0      In stock.  https://www.amazon.in/gp/slredirect/picassoRed...  \n",
       "1      In stock.  https://www.amazon.in/gp/slredirect/picassoRed...  \n",
       "2      In stock.  https://www.amazon.in/gp/slredirect/picassoRed...  \n",
       "3      In stock.  https://www.amazon.in/gp/slredirect/picassoRed...  \n",
       "4              -  https://www.amazon.in/Yamaha-F310-6-Strings-Ac...  \n",
       "..           ...                                                ...  \n",
       "175    In stock.  https://www.amazon.in/Yamaha-PACIFICA012-Elect...  \n",
       "176    In stock.  https://www.amazon.in/gp/slredirect/picassoRed...  \n",
       "177    In stock.  https://www.amazon.in/gp/slredirect/picassoRed...  \n",
       "178    In stock.  https://www.amazon.in/gp/slredirect/picassoRed...  \n",
       "179    In stock.  https://www.amazon.in/gp/slredirect/picassoRed...  \n",
       "\n",
       "[180 rows x 7 columns]"
      ]
     },
     "execution_count": 55,
     "metadata": {},
     "output_type": "execute_result"
    }
   ],
   "source": [
    "guitars"
   ]
  },
  {
   "cell_type": "code",
   "execution_count": 62,
   "id": "dcb015da",
   "metadata": {},
   "outputs": [],
   "source": [
    "prices = []\n",
    "for k in url:\n",
    "    driver.get(k)\n",
    "    time.sleep(2)\n",
    "    try:\n",
    "        price = driver.find_element_by_xpath(\"//td[@class= 'a-span12']\")\n",
    "        prices.append(price.text.replace(\"/n\",\"new line\"))\n",
    "    except:\n",
    "        prices.append(\"-\")"
   ]
  },
  {
   "cell_type": "code",
   "execution_count": 64,
   "id": "168f3412",
   "metadata": {},
   "outputs": [],
   "source": [
    "guitars['Price'] = prices"
   ]
  },
  {
   "cell_type": "code",
   "execution_count": 65,
   "id": "c10c8e69",
   "metadata": {},
   "outputs": [
    {
     "data": {
      "text/html": [
       "<div>\n",
       "<style scoped>\n",
       "    .dataframe tbody tr th:only-of-type {\n",
       "        vertical-align: middle;\n",
       "    }\n",
       "\n",
       "    .dataframe tbody tr th {\n",
       "        vertical-align: top;\n",
       "    }\n",
       "\n",
       "    .dataframe thead th {\n",
       "        text-align: right;\n",
       "    }\n",
       "</style>\n",
       "<table border=\"1\" class=\"dataframe\">\n",
       "  <thead>\n",
       "    <tr style=\"text-align: right;\">\n",
       "      <th></th>\n",
       "      <th>Brand Name</th>\n",
       "      <th>Product Name</th>\n",
       "      <th>Price</th>\n",
       "      <th>Replacement/Exchane</th>\n",
       "      <th>Expected Delivery</th>\n",
       "      <th>Availability</th>\n",
       "      <th>Product URL</th>\n",
       "    </tr>\n",
       "  </thead>\n",
       "  <tbody>\n",
       "    <tr>\n",
       "      <th>0</th>\n",
       "      <td>VAULT</td>\n",
       "      <td>Vault ST1 Premium Electric Guitar - Metallic Blue</td>\n",
       "      <td>-</td>\n",
       "      <td>Pay on Delivery</td>\n",
       "      <td>FREE delivery: Thursday, Dec 30 Details</td>\n",
       "      <td>In stock.</td>\n",
       "      <td>https://www.amazon.in/gp/slredirect/picassoRed...</td>\n",
       "    </tr>\n",
       "    <tr>\n",
       "      <th>1</th>\n",
       "      <td>Guitar Bro</td>\n",
       "      <td>GUITAR BRO - COMBO (Black Acoustic Guitar for ...</td>\n",
       "      <td>-</td>\n",
       "      <td>7 Days Replacement</td>\n",
       "      <td>FREE delivery: Dec 31 - Jan 4\\nFastest deliver...</td>\n",
       "      <td>In stock.</td>\n",
       "      <td>https://www.amazon.in/gp/slredirect/picassoRed...</td>\n",
       "    </tr>\n",
       "    <tr>\n",
       "      <th>2</th>\n",
       "      <td>Kadence</td>\n",
       "      <td>Kadence Guitar Slowhand Series Premium Electri...</td>\n",
       "      <td>₹11,499.00</td>\n",
       "      <td>Pay on Delivery</td>\n",
       "      <td>FREE delivery: Friday, Dec 31 Details</td>\n",
       "      <td>In stock.</td>\n",
       "      <td>https://www.amazon.in/gp/slredirect/picassoRed...</td>\n",
       "    </tr>\n",
       "    <tr>\n",
       "      <th>3</th>\n",
       "      <td>blueberry</td>\n",
       "      <td>Blueberry B-40, 40\" Acoustic Guitar Kit with B...</td>\n",
       "      <td>-</td>\n",
       "      <td>Pay on Delivery</td>\n",
       "      <td>FREE delivery: Wednesday, Dec 29 Details</td>\n",
       "      <td>In stock.</td>\n",
       "      <td>https://www.amazon.in/gp/slredirect/picassoRed...</td>\n",
       "    </tr>\n",
       "    <tr>\n",
       "      <th>4</th>\n",
       "      <td>YAMAHA</td>\n",
       "      <td>Yamaha F310, 6-Strings Acoustic Guitar, Natural</td>\n",
       "      <td>-</td>\n",
       "      <td>7 Days Replacement</td>\n",
       "      <td>Select delivery location</td>\n",
       "      <td>-</td>\n",
       "      <td>https://www.amazon.in/Yamaha-F310-6-Strings-Ac...</td>\n",
       "    </tr>\n",
       "    <tr>\n",
       "      <th>...</th>\n",
       "      <td>...</td>\n",
       "      <td>...</td>\n",
       "      <td>...</td>\n",
       "      <td>...</td>\n",
       "      <td>...</td>\n",
       "      <td>...</td>\n",
       "      <td>...</td>\n",
       "    </tr>\n",
       "    <tr>\n",
       "      <th>175</th>\n",
       "      <td>YAMAHA</td>\n",
       "      <td>Yamaha PACIFICA012 Electric Guitar, Dark Blue ...</td>\n",
       "      <td>-</td>\n",
       "      <td>Pay on Delivery</td>\n",
       "      <td>FREE delivery: Friday, Dec 31 Details</td>\n",
       "      <td>In stock.</td>\n",
       "      <td>https://www.amazon.in/Yamaha-PACIFICA012-Elect...</td>\n",
       "    </tr>\n",
       "    <tr>\n",
       "      <th>176</th>\n",
       "      <td>MUSTANG</td>\n",
       "      <td>Capo Guitar Capo with 5 Pack Guitar Picks Guit...</td>\n",
       "      <td>-</td>\n",
       "      <td>7 Days Replacement</td>\n",
       "      <td>FREE delivery: Tuesday, Dec 28\\nif you order w...</td>\n",
       "      <td>In stock.</td>\n",
       "      <td>https://www.amazon.in/gp/slredirect/picassoRed...</td>\n",
       "    </tr>\n",
       "    <tr>\n",
       "      <th>177</th>\n",
       "      <td>Blueberry</td>\n",
       "      <td>Blueberry 38C, 38\" Acoustic Guitar Kit with Ba...</td>\n",
       "      <td>-</td>\n",
       "      <td>Pay on Delivery</td>\n",
       "      <td>FREE delivery: Wednesday, Dec 29 Details</td>\n",
       "      <td>In stock.</td>\n",
       "      <td>https://www.amazon.in/gp/slredirect/picassoRed...</td>\n",
       "    </tr>\n",
       "    <tr>\n",
       "      <th>178</th>\n",
       "      <td>blueberry</td>\n",
       "      <td>Blueberry B40, 40 Inch Acoustic Guitar Kit inb...</td>\n",
       "      <td>-</td>\n",
       "      <td>Pay on Delivery</td>\n",
       "      <td>FREE delivery: Wednesday, Dec 29 Details</td>\n",
       "      <td>In stock.</td>\n",
       "      <td>https://www.amazon.in/gp/slredirect/picassoRed...</td>\n",
       "    </tr>\n",
       "    <tr>\n",
       "      <th>179</th>\n",
       "      <td>blueberry</td>\n",
       "      <td>Blueberry 38C, 38\" Acoustic Guitar Kit with Ba...</td>\n",
       "      <td>-</td>\n",
       "      <td>Pay on Delivery</td>\n",
       "      <td>FREE delivery: Wednesday, Dec 29 Details</td>\n",
       "      <td>In stock.</td>\n",
       "      <td>https://www.amazon.in/gp/slredirect/picassoRed...</td>\n",
       "    </tr>\n",
       "  </tbody>\n",
       "</table>\n",
       "<p>180 rows × 7 columns</p>\n",
       "</div>"
      ],
      "text/plain": [
       "     Brand Name                                       Product Name  \\\n",
       "0         VAULT  Vault ST1 Premium Electric Guitar - Metallic Blue   \n",
       "1    Guitar Bro  GUITAR BRO - COMBO (Black Acoustic Guitar for ...   \n",
       "2       Kadence  Kadence Guitar Slowhand Series Premium Electri...   \n",
       "3     blueberry  Blueberry B-40, 40\" Acoustic Guitar Kit with B...   \n",
       "4        YAMAHA    Yamaha F310, 6-Strings Acoustic Guitar, Natural   \n",
       "..          ...                                                ...   \n",
       "175      YAMAHA  Yamaha PACIFICA012 Electric Guitar, Dark Blue ...   \n",
       "176     MUSTANG  Capo Guitar Capo with 5 Pack Guitar Picks Guit...   \n",
       "177   Blueberry  Blueberry 38C, 38\" Acoustic Guitar Kit with Ba...   \n",
       "178   blueberry  Blueberry B40, 40 Inch Acoustic Guitar Kit inb...   \n",
       "179   blueberry  Blueberry 38C, 38\" Acoustic Guitar Kit with Ba...   \n",
       "\n",
       "          Price Replacement/Exchane  \\\n",
       "0             -     Pay on Delivery   \n",
       "1             -  7 Days Replacement   \n",
       "2    ₹11,499.00     Pay on Delivery   \n",
       "3             -     Pay on Delivery   \n",
       "4             -  7 Days Replacement   \n",
       "..          ...                 ...   \n",
       "175           -     Pay on Delivery   \n",
       "176           -  7 Days Replacement   \n",
       "177           -     Pay on Delivery   \n",
       "178           -     Pay on Delivery   \n",
       "179           -     Pay on Delivery   \n",
       "\n",
       "                                     Expected Delivery Availability  \\\n",
       "0              FREE delivery: Thursday, Dec 30 Details    In stock.   \n",
       "1    FREE delivery: Dec 31 - Jan 4\\nFastest deliver...    In stock.   \n",
       "2                FREE delivery: Friday, Dec 31 Details    In stock.   \n",
       "3             FREE delivery: Wednesday, Dec 29 Details    In stock.   \n",
       "4                             Select delivery location            -   \n",
       "..                                                 ...          ...   \n",
       "175              FREE delivery: Friday, Dec 31 Details    In stock.   \n",
       "176  FREE delivery: Tuesday, Dec 28\\nif you order w...    In stock.   \n",
       "177           FREE delivery: Wednesday, Dec 29 Details    In stock.   \n",
       "178           FREE delivery: Wednesday, Dec 29 Details    In stock.   \n",
       "179           FREE delivery: Wednesday, Dec 29 Details    In stock.   \n",
       "\n",
       "                                           Product URL  \n",
       "0    https://www.amazon.in/gp/slredirect/picassoRed...  \n",
       "1    https://www.amazon.in/gp/slredirect/picassoRed...  \n",
       "2    https://www.amazon.in/gp/slredirect/picassoRed...  \n",
       "3    https://www.amazon.in/gp/slredirect/picassoRed...  \n",
       "4    https://www.amazon.in/Yamaha-F310-6-Strings-Ac...  \n",
       "..                                                 ...  \n",
       "175  https://www.amazon.in/Yamaha-PACIFICA012-Elect...  \n",
       "176  https://www.amazon.in/gp/slredirect/picassoRed...  \n",
       "177  https://www.amazon.in/gp/slredirect/picassoRed...  \n",
       "178  https://www.amazon.in/gp/slredirect/picassoRed...  \n",
       "179  https://www.amazon.in/gp/slredirect/picassoRed...  \n",
       "\n",
       "[180 rows x 7 columns]"
      ]
     },
     "execution_count": 65,
     "metadata": {},
     "output_type": "execute_result"
    }
   ],
   "source": [
    "guitars"
   ]
  },
  {
   "cell_type": "markdown",
   "id": "467b78cb",
   "metadata": {},
   "source": [
    "Ans 3. - Python program to scrape data from images.google.com using exception handling."
   ]
  },
  {
   "cell_type": "code",
   "execution_count": 3,
   "id": "a8593719",
   "metadata": {},
   "outputs": [],
   "source": [
    "driver.get(\"https://images.google.com/?gws_rd=ssl\")"
   ]
  },
  {
   "cell_type": "code",
   "execution_count": 15,
   "id": "55a91b84",
   "metadata": {},
   "outputs": [],
   "source": [
    "se = driver.find_element_by_xpath(\"//input[@class= 'gLFyf gsfi']\")"
   ]
  },
  {
   "cell_type": "code",
   "execution_count": 6,
   "id": "6a343e29",
   "metadata": {},
   "outputs": [],
   "source": [
    "se.send_keys('fruits')"
   ]
  },
  {
   "cell_type": "code",
   "execution_count": 17,
   "id": "a47121cd",
   "metadata": {},
   "outputs": [],
   "source": [
    "se_btn = driver.find_element_by_xpath(\"//div[@class= 'zgAlFc']\")"
   ]
  },
  {
   "cell_type": "code",
   "execution_count": 8,
   "id": "65d9ba64",
   "metadata": {},
   "outputs": [],
   "source": [
    "se_btn.click()"
   ]
  },
  {
   "cell_type": "code",
   "execution_count": 10,
   "id": "e494df87",
   "metadata": {},
   "outputs": [],
   "source": [
    "imgs = []\n",
    "img = driver.find_elements_by_xpath(\"//img[@class= 'rg_i Q4LuWd']\")\n",
    "for i in img:\n",
    "    imgs.append(i.get_attribute('src'))"
   ]
  },
  {
   "cell_type": "code",
   "execution_count": 12,
   "id": "19228805",
   "metadata": {},
   "outputs": [
    {
     "data": {
      "text/plain": [
       "49"
      ]
     },
     "execution_count": 12,
     "metadata": {},
     "output_type": "execute_result"
    }
   ],
   "source": [
    "len(imgs)"
   ]
  },
  {
   "cell_type": "code",
   "execution_count": 43,
   "id": "35429d20",
   "metadata": {},
   "outputs": [],
   "source": [
    "se = driver.find_element_by_xpath(\"//input[@class= 'gLFyf gsfi']\")"
   ]
  },
  {
   "cell_type": "code",
   "execution_count": 16,
   "id": "45af9f7c",
   "metadata": {},
   "outputs": [],
   "source": [
    "se.send_keys('cars')"
   ]
  },
  {
   "cell_type": "code",
   "execution_count": 44,
   "id": "523d80e3",
   "metadata": {},
   "outputs": [],
   "source": [
    "se_btn = driver.find_element_by_xpath(\"//div[@class= 'zgAlFc']\")"
   ]
  },
  {
   "cell_type": "code",
   "execution_count": 18,
   "id": "8aba800c",
   "metadata": {},
   "outputs": [],
   "source": [
    "se_btn.click()"
   ]
  },
  {
   "cell_type": "code",
   "execution_count": 19,
   "id": "01f16b8a",
   "metadata": {},
   "outputs": [],
   "source": [
    "cars = []\n",
    "car = driver.find_elements_by_xpath(\"//img[@class= 'rg_i Q4LuWd']\")\n",
    "for i in car:\n",
    "    cars.append(i.get_attribute('src'))"
   ]
  },
  {
   "cell_type": "code",
   "execution_count": 21,
   "id": "77ec2bb5",
   "metadata": {},
   "outputs": [
    {
     "data": {
      "text/plain": [
       "48"
      ]
     },
     "execution_count": 21,
     "metadata": {},
     "output_type": "execute_result"
    }
   ],
   "source": [
    "len(cars)"
   ]
  },
  {
   "cell_type": "code",
   "execution_count": 22,
   "id": "ce206a3d",
   "metadata": {},
   "outputs": [],
   "source": [
    "se = driver.find_element_by_xpath(\"//input[@class= 'gLFyf gsfi']\")"
   ]
  },
  {
   "cell_type": "code",
   "execution_count": 23,
   "id": "e58d947d",
   "metadata": {},
   "outputs": [],
   "source": [
    "se.send_keys('Machine Learning')"
   ]
  },
  {
   "cell_type": "code",
   "execution_count": 24,
   "id": "01ef834b",
   "metadata": {},
   "outputs": [],
   "source": [
    "se_btn = driver.find_element_by_xpath(\"//div[@class= 'zgAlFc']\")"
   ]
  },
  {
   "cell_type": "code",
   "execution_count": 25,
   "id": "9828a215",
   "metadata": {},
   "outputs": [],
   "source": [
    "se_btn.click()"
   ]
  },
  {
   "cell_type": "code",
   "execution_count": 26,
   "id": "cc261dc5",
   "metadata": {},
   "outputs": [],
   "source": [
    "mls = []\n",
    "ml = driver.find_elements_by_xpath(\"//img[@class= 'rg_i Q4LuWd']\")\n",
    "for i in ml:\n",
    "    mls.append(i.get_attribute('src'))"
   ]
  },
  {
   "cell_type": "code",
   "execution_count": 28,
   "id": "9ff0f890",
   "metadata": {},
   "outputs": [
    {
     "data": {
      "text/plain": [
       "48"
      ]
     },
     "execution_count": 28,
     "metadata": {},
     "output_type": "execute_result"
    }
   ],
   "source": [
    "len(mls)"
   ]
  },
  {
   "cell_type": "code",
   "execution_count": 29,
   "id": "d6e65521",
   "metadata": {},
   "outputs": [],
   "source": [
    "se = driver.find_element_by_xpath(\"//input[@class= 'gLFyf gsfi']\")"
   ]
  },
  {
   "cell_type": "code",
   "execution_count": 30,
   "id": "85fcafb2",
   "metadata": {},
   "outputs": [],
   "source": [
    "se.send_keys('guitar')"
   ]
  },
  {
   "cell_type": "code",
   "execution_count": 31,
   "id": "e2e1172e",
   "metadata": {},
   "outputs": [],
   "source": [
    "se_btn = driver.find_element_by_xpath(\"//div[@class= 'zgAlFc']\")"
   ]
  },
  {
   "cell_type": "code",
   "execution_count": 32,
   "id": "f054fc75",
   "metadata": {},
   "outputs": [],
   "source": [
    "se_btn.click()"
   ]
  },
  {
   "cell_type": "code",
   "execution_count": 33,
   "id": "389e1a1c",
   "metadata": {},
   "outputs": [],
   "source": [
    "guits = []\n",
    "guit = driver.find_elements_by_xpath(\"//img[@class= 'rg_i Q4LuWd']\")\n",
    "for i in guit:\n",
    "    guits.append(i.get_attribute('src'))"
   ]
  },
  {
   "cell_type": "code",
   "execution_count": 35,
   "id": "8500c1b8",
   "metadata": {},
   "outputs": [
    {
     "data": {
      "text/plain": [
       "48"
      ]
     },
     "execution_count": 35,
     "metadata": {},
     "output_type": "execute_result"
    }
   ],
   "source": [
    "len(guits)"
   ]
  },
  {
   "cell_type": "code",
   "execution_count": 36,
   "id": "6af512b0",
   "metadata": {},
   "outputs": [],
   "source": [
    "se = driver.find_element_by_xpath(\"//input[@class= 'gLFyf gsfi']\")"
   ]
  },
  {
   "cell_type": "code",
   "execution_count": 37,
   "id": "b09ca888",
   "metadata": {},
   "outputs": [],
   "source": [
    "se.send_keys('cakes')"
   ]
  },
  {
   "cell_type": "code",
   "execution_count": 38,
   "id": "4e16e31b",
   "metadata": {},
   "outputs": [],
   "source": [
    "se_btn = driver.find_element_by_xpath(\"//div[@class= 'zgAlFc']\")"
   ]
  },
  {
   "cell_type": "code",
   "execution_count": 39,
   "id": "1ecc79d3",
   "metadata": {},
   "outputs": [],
   "source": [
    "se_btn.click()"
   ]
  },
  {
   "cell_type": "code",
   "execution_count": 40,
   "id": "2ceb0699",
   "metadata": {},
   "outputs": [],
   "source": [
    "cakes = []\n",
    "cake = driver.find_elements_by_xpath(\"//img[@class= 'rg_i Q4LuWd']\")\n",
    "for i in cake:\n",
    "    cakes.append(i.get_attribute('src'))"
   ]
  },
  {
   "cell_type": "code",
   "execution_count": 42,
   "id": "40578bdd",
   "metadata": {},
   "outputs": [
    {
     "data": {
      "text/plain": [
       "48"
      ]
     },
     "execution_count": 42,
     "metadata": {},
     "output_type": "execute_result"
    }
   ],
   "source": [
    "len(cakes)"
   ]
  },
  {
   "cell_type": "code",
   "execution_count": 46,
   "id": "13d3a8d2",
   "metadata": {},
   "outputs": [],
   "source": [
    "imgs = imgs[:48]"
   ]
  },
  {
   "cell_type": "code",
   "execution_count": 47,
   "id": "06bb305b",
   "metadata": {},
   "outputs": [],
   "source": [
    "images = pd.DataFrame({'Fruits': imgs, 'Cars': cars, 'Machine Learning': mls, 'Guitar': guits, 'Cakes': cakes})"
   ]
  },
  {
   "cell_type": "code",
   "execution_count": 48,
   "id": "414b1e73",
   "metadata": {},
   "outputs": [],
   "source": [
    "images = images.iloc[:10, :]"
   ]
  },
  {
   "cell_type": "code",
   "execution_count": 49,
   "id": "b892696a",
   "metadata": {},
   "outputs": [
    {
     "data": {
      "text/html": [
       "<div>\n",
       "<style scoped>\n",
       "    .dataframe tbody tr th:only-of-type {\n",
       "        vertical-align: middle;\n",
       "    }\n",
       "\n",
       "    .dataframe tbody tr th {\n",
       "        vertical-align: top;\n",
       "    }\n",
       "\n",
       "    .dataframe thead th {\n",
       "        text-align: right;\n",
       "    }\n",
       "</style>\n",
       "<table border=\"1\" class=\"dataframe\">\n",
       "  <thead>\n",
       "    <tr style=\"text-align: right;\">\n",
       "      <th></th>\n",
       "      <th>Fruits</th>\n",
       "      <th>Cars</th>\n",
       "      <th>Machine Learning</th>\n",
       "      <th>Guitar</th>\n",
       "      <th>Cakes</th>\n",
       "    </tr>\n",
       "  </thead>\n",
       "  <tbody>\n",
       "    <tr>\n",
       "      <th>0</th>\n",
       "      <td>data:image/jpeg;base64,/9j/4AAQSkZJRgABAQAAAQA...</td>\n",
       "      <td>data:image/jpeg;base64,/9j/4AAQSkZJRgABAQAAAQA...</td>\n",
       "      <td>data:image/png;base64,iVBORw0KGgoAAAANSUhEUgAA...</td>\n",
       "      <td>data:image/jpeg;base64,/9j/4AAQSkZJRgABAQAAAQA...</td>\n",
       "      <td>data:image/jpeg;base64,/9j/4AAQSkZJRgABAQAAAQA...</td>\n",
       "    </tr>\n",
       "    <tr>\n",
       "      <th>1</th>\n",
       "      <td>data:image/jpeg;base64,/9j/4AAQSkZJRgABAQAAAQA...</td>\n",
       "      <td>data:image/jpeg;base64,/9j/4AAQSkZJRgABAQAAAQA...</td>\n",
       "      <td>data:image/png;base64,iVBORw0KGgoAAAANSUhEUgAA...</td>\n",
       "      <td>data:image/jpeg;base64,/9j/4AAQSkZJRgABAQAAAQA...</td>\n",
       "      <td>data:image/jpeg;base64,/9j/4AAQSkZJRgABAQAAAQA...</td>\n",
       "    </tr>\n",
       "    <tr>\n",
       "      <th>2</th>\n",
       "      <td>data:image/jpeg;base64,/9j/4AAQSkZJRgABAQAAAQA...</td>\n",
       "      <td>data:image/jpeg;base64,/9j/4AAQSkZJRgABAQAAAQA...</td>\n",
       "      <td>data:image/jpeg;base64,/9j/4AAQSkZJRgABAQAAAQA...</td>\n",
       "      <td>data:image/jpeg;base64,/9j/4AAQSkZJRgABAQAAAQA...</td>\n",
       "      <td>data:image/jpeg;base64,/9j/4AAQSkZJRgABAQAAAQA...</td>\n",
       "    </tr>\n",
       "    <tr>\n",
       "      <th>3</th>\n",
       "      <td>data:image/jpeg;base64,/9j/4AAQSkZJRgABAQAAAQA...</td>\n",
       "      <td>data:image/jpeg;base64,/9j/4AAQSkZJRgABAQAAAQA...</td>\n",
       "      <td>data:image/jpeg;base64,/9j/4AAQSkZJRgABAQAAAQA...</td>\n",
       "      <td>data:image/jpeg;base64,/9j/4AAQSkZJRgABAQAAAQA...</td>\n",
       "      <td>data:image/jpeg;base64,/9j/4AAQSkZJRgABAQAAAQA...</td>\n",
       "    </tr>\n",
       "    <tr>\n",
       "      <th>4</th>\n",
       "      <td>data:image/jpeg;base64,/9j/4AAQSkZJRgABAQAAAQA...</td>\n",
       "      <td>data:image/jpeg;base64,/9j/4AAQSkZJRgABAQAAAQA...</td>\n",
       "      <td>data:image/jpeg;base64,/9j/4AAQSkZJRgABAQAAAQA...</td>\n",
       "      <td>data:image/jpeg;base64,/9j/4AAQSkZJRgABAQAAAQA...</td>\n",
       "      <td>data:image/jpeg;base64,/9j/4AAQSkZJRgABAQAAAQA...</td>\n",
       "    </tr>\n",
       "    <tr>\n",
       "      <th>5</th>\n",
       "      <td>data:image/jpeg;base64,/9j/4AAQSkZJRgABAQAAAQA...</td>\n",
       "      <td>data:image/jpeg;base64,/9j/4AAQSkZJRgABAQAAAQA...</td>\n",
       "      <td>data:image/jpeg;base64,/9j/4AAQSkZJRgABAQAAAQA...</td>\n",
       "      <td>data:image/jpeg;base64,/9j/4AAQSkZJRgABAQAAAQA...</td>\n",
       "      <td>data:image/jpeg;base64,/9j/4AAQSkZJRgABAQAAAQA...</td>\n",
       "    </tr>\n",
       "    <tr>\n",
       "      <th>6</th>\n",
       "      <td>data:image/jpeg;base64,/9j/4AAQSkZJRgABAQAAAQA...</td>\n",
       "      <td>data:image/jpeg;base64,/9j/4AAQSkZJRgABAQAAAQA...</td>\n",
       "      <td>data:image/jpeg;base64,/9j/4AAQSkZJRgABAQAAAQA...</td>\n",
       "      <td>data:image/jpeg;base64,/9j/4AAQSkZJRgABAQAAAQA...</td>\n",
       "      <td>data:image/jpeg;base64,/9j/4AAQSkZJRgABAQAAAQA...</td>\n",
       "    </tr>\n",
       "    <tr>\n",
       "      <th>7</th>\n",
       "      <td>data:image/jpeg;base64,/9j/4AAQSkZJRgABAQAAAQA...</td>\n",
       "      <td>data:image/jpeg;base64,/9j/4AAQSkZJRgABAQAAAQA...</td>\n",
       "      <td>data:image/jpeg;base64,/9j/4AAQSkZJRgABAQAAAQA...</td>\n",
       "      <td>data:image/jpeg;base64,/9j/4AAQSkZJRgABAQAAAQA...</td>\n",
       "      <td>data:image/jpeg;base64,/9j/4AAQSkZJRgABAQAAAQA...</td>\n",
       "    </tr>\n",
       "    <tr>\n",
       "      <th>8</th>\n",
       "      <td>data:image/jpeg;base64,/9j/4AAQSkZJRgABAQAAAQA...</td>\n",
       "      <td>data:image/jpeg;base64,/9j/4AAQSkZJRgABAQAAAQA...</td>\n",
       "      <td>data:image/png;base64,iVBORw0KGgoAAAANSUhEUgAA...</td>\n",
       "      <td>data:image/jpeg;base64,/9j/4AAQSkZJRgABAQAAAQA...</td>\n",
       "      <td>data:image/jpeg;base64,/9j/4AAQSkZJRgABAQAAAQA...</td>\n",
       "    </tr>\n",
       "    <tr>\n",
       "      <th>9</th>\n",
       "      <td>data:image/jpeg;base64,/9j/4AAQSkZJRgABAQAAAQA...</td>\n",
       "      <td>data:image/jpeg;base64,/9j/4AAQSkZJRgABAQAAAQA...</td>\n",
       "      <td>data:image/jpeg;base64,/9j/4AAQSkZJRgABAQAAAQA...</td>\n",
       "      <td>data:image/jpeg;base64,/9j/4AAQSkZJRgABAQAAAQA...</td>\n",
       "      <td>data:image/jpeg;base64,/9j/4AAQSkZJRgABAQAAAQA...</td>\n",
       "    </tr>\n",
       "  </tbody>\n",
       "</table>\n",
       "</div>"
      ],
      "text/plain": [
       "                                              Fruits  \\\n",
       "0  data:image/jpeg;base64,/9j/4AAQSkZJRgABAQAAAQA...   \n",
       "1  data:image/jpeg;base64,/9j/4AAQSkZJRgABAQAAAQA...   \n",
       "2  data:image/jpeg;base64,/9j/4AAQSkZJRgABAQAAAQA...   \n",
       "3  data:image/jpeg;base64,/9j/4AAQSkZJRgABAQAAAQA...   \n",
       "4  data:image/jpeg;base64,/9j/4AAQSkZJRgABAQAAAQA...   \n",
       "5  data:image/jpeg;base64,/9j/4AAQSkZJRgABAQAAAQA...   \n",
       "6  data:image/jpeg;base64,/9j/4AAQSkZJRgABAQAAAQA...   \n",
       "7  data:image/jpeg;base64,/9j/4AAQSkZJRgABAQAAAQA...   \n",
       "8  data:image/jpeg;base64,/9j/4AAQSkZJRgABAQAAAQA...   \n",
       "9  data:image/jpeg;base64,/9j/4AAQSkZJRgABAQAAAQA...   \n",
       "\n",
       "                                                Cars  \\\n",
       "0  data:image/jpeg;base64,/9j/4AAQSkZJRgABAQAAAQA...   \n",
       "1  data:image/jpeg;base64,/9j/4AAQSkZJRgABAQAAAQA...   \n",
       "2  data:image/jpeg;base64,/9j/4AAQSkZJRgABAQAAAQA...   \n",
       "3  data:image/jpeg;base64,/9j/4AAQSkZJRgABAQAAAQA...   \n",
       "4  data:image/jpeg;base64,/9j/4AAQSkZJRgABAQAAAQA...   \n",
       "5  data:image/jpeg;base64,/9j/4AAQSkZJRgABAQAAAQA...   \n",
       "6  data:image/jpeg;base64,/9j/4AAQSkZJRgABAQAAAQA...   \n",
       "7  data:image/jpeg;base64,/9j/4AAQSkZJRgABAQAAAQA...   \n",
       "8  data:image/jpeg;base64,/9j/4AAQSkZJRgABAQAAAQA...   \n",
       "9  data:image/jpeg;base64,/9j/4AAQSkZJRgABAQAAAQA...   \n",
       "\n",
       "                                    Machine Learning  \\\n",
       "0  data:image/png;base64,iVBORw0KGgoAAAANSUhEUgAA...   \n",
       "1  data:image/png;base64,iVBORw0KGgoAAAANSUhEUgAA...   \n",
       "2  data:image/jpeg;base64,/9j/4AAQSkZJRgABAQAAAQA...   \n",
       "3  data:image/jpeg;base64,/9j/4AAQSkZJRgABAQAAAQA...   \n",
       "4  data:image/jpeg;base64,/9j/4AAQSkZJRgABAQAAAQA...   \n",
       "5  data:image/jpeg;base64,/9j/4AAQSkZJRgABAQAAAQA...   \n",
       "6  data:image/jpeg;base64,/9j/4AAQSkZJRgABAQAAAQA...   \n",
       "7  data:image/jpeg;base64,/9j/4AAQSkZJRgABAQAAAQA...   \n",
       "8  data:image/png;base64,iVBORw0KGgoAAAANSUhEUgAA...   \n",
       "9  data:image/jpeg;base64,/9j/4AAQSkZJRgABAQAAAQA...   \n",
       "\n",
       "                                              Guitar  \\\n",
       "0  data:image/jpeg;base64,/9j/4AAQSkZJRgABAQAAAQA...   \n",
       "1  data:image/jpeg;base64,/9j/4AAQSkZJRgABAQAAAQA...   \n",
       "2  data:image/jpeg;base64,/9j/4AAQSkZJRgABAQAAAQA...   \n",
       "3  data:image/jpeg;base64,/9j/4AAQSkZJRgABAQAAAQA...   \n",
       "4  data:image/jpeg;base64,/9j/4AAQSkZJRgABAQAAAQA...   \n",
       "5  data:image/jpeg;base64,/9j/4AAQSkZJRgABAQAAAQA...   \n",
       "6  data:image/jpeg;base64,/9j/4AAQSkZJRgABAQAAAQA...   \n",
       "7  data:image/jpeg;base64,/9j/4AAQSkZJRgABAQAAAQA...   \n",
       "8  data:image/jpeg;base64,/9j/4AAQSkZJRgABAQAAAQA...   \n",
       "9  data:image/jpeg;base64,/9j/4AAQSkZJRgABAQAAAQA...   \n",
       "\n",
       "                                               Cakes  \n",
       "0  data:image/jpeg;base64,/9j/4AAQSkZJRgABAQAAAQA...  \n",
       "1  data:image/jpeg;base64,/9j/4AAQSkZJRgABAQAAAQA...  \n",
       "2  data:image/jpeg;base64,/9j/4AAQSkZJRgABAQAAAQA...  \n",
       "3  data:image/jpeg;base64,/9j/4AAQSkZJRgABAQAAAQA...  \n",
       "4  data:image/jpeg;base64,/9j/4AAQSkZJRgABAQAAAQA...  \n",
       "5  data:image/jpeg;base64,/9j/4AAQSkZJRgABAQAAAQA...  \n",
       "6  data:image/jpeg;base64,/9j/4AAQSkZJRgABAQAAAQA...  \n",
       "7  data:image/jpeg;base64,/9j/4AAQSkZJRgABAQAAAQA...  \n",
       "8  data:image/jpeg;base64,/9j/4AAQSkZJRgABAQAAAQA...  \n",
       "9  data:image/jpeg;base64,/9j/4AAQSkZJRgABAQAAAQA...  "
      ]
     },
     "execution_count": 49,
     "metadata": {},
     "output_type": "execute_result"
    }
   ],
   "source": [
    "images"
   ]
  },
  {
   "cell_type": "markdown",
   "id": "171e7f4d",
   "metadata": {},
   "source": [
    "Ans 4. - Python program to scrape data of phone for the first page of flipkart.in webpage using exception handling."
   ]
  },
  {
   "cell_type": "code",
   "execution_count": 3,
   "id": "e1655288",
   "metadata": {},
   "outputs": [],
   "source": [
    "driver.get('https://www.flipkart.com/')"
   ]
  },
  {
   "cell_type": "code",
   "execution_count": 4,
   "id": "93880ea1",
   "metadata": {},
   "outputs": [],
   "source": [
    "se = driver.find_element_by_xpath(\"//input[@class= '_3704LK']\")"
   ]
  },
  {
   "cell_type": "code",
   "execution_count": 5,
   "id": "15309954",
   "metadata": {},
   "outputs": [],
   "source": [
    "se.send_keys(\"pixel 4A\")"
   ]
  },
  {
   "cell_type": "code",
   "execution_count": 6,
   "id": "497f0aee",
   "metadata": {},
   "outputs": [],
   "source": [
    "se_btn = driver.find_element_by_xpath(\"//button[@class= 'L0Z3Pu']\")"
   ]
  },
  {
   "cell_type": "code",
   "execution_count": 7,
   "id": "04034b62",
   "metadata": {},
   "outputs": [],
   "source": [
    "se_btn.click()"
   ]
  },
  {
   "cell_type": "code",
   "execution_count": 8,
   "id": "a9322f8f",
   "metadata": {},
   "outputs": [],
   "source": [
    "url = []\n",
    "ur = driver.find_elements_by_xpath(\"//a[@class= '_1fQZEK']\")\n",
    "for i in ur:\n",
    "    url.append(i.get_attribute('href'))"
   ]
  },
  {
   "cell_type": "code",
   "execution_count": 10,
   "id": "541d7988",
   "metadata": {},
   "outputs": [
    {
     "data": {
      "text/plain": [
       "24"
      ]
     },
     "execution_count": 10,
     "metadata": {},
     "output_type": "execute_result"
    }
   ],
   "source": [
    "len(url)"
   ]
  },
  {
   "cell_type": "code",
   "execution_count": 29,
   "id": "67b604dd",
   "metadata": {},
   "outputs": [],
   "source": [
    "brand_name = []\n",
    "storage_list = []\n",
    "color_list = []\n",
    "camera_list = []\n",
    "display_list = []\n",
    "battery_list = []\n",
    "price_list = []\n",
    "for j in url:\n",
    "    driver.get(j)\n",
    "    time.sleep(2)\n",
    "    try:\n",
    "        brand = driver.find_element_by_xpath(\"//span[@class= 'B_NuCI']\")\n",
    "        brand_name.append(brand.text.replace(\"/n\",\"new line\"))\n",
    "    except:\n",
    "        brand_name.append(\"-\")\n",
    "    \n",
    "    try:\n",
    "        storage = driver.find_element_by_xpath(\"//div[@class= '_2418kt']\")\n",
    "        storage_list.append(storage.text.replace(\"/n\",\"new line\"))\n",
    "    except:\n",
    "        storage_list.append(\"-\")\n",
    "        \n",
    "    try:\n",
    "        colour = driver.find_element_by_xpath(\"//table[@class= '_14cfVK']\")\n",
    "        color_list.append(colour.text.replace(\"/n\",\"new line\"))\n",
    "    except:\n",
    "        color_list.append(\"-\")\n",
    "        \n",
    "    try:\n",
    "        price = driver.find_element_by_xpath(\"//div[@class= '_30jeq3 _16Jk6d']\")\n",
    "        price_list.append(price.text.replace(\"/n\",\"new line\"))\n",
    "    except:\n",
    "        price_list.append(\"-\")"
   ]
  },
  {
   "cell_type": "code",
   "execution_count": 32,
   "id": "9beccfac",
   "metadata": {},
   "outputs": [
    {
     "name": "stdout",
     "output_type": "stream",
     "text": [
      "24\n",
      "24\n",
      "24\n",
      "24\n"
     ]
    }
   ],
   "source": [
    "print(len(price_list))\n",
    "print(len(brand_name))\n",
    "print(len(storage_list))\n",
    "print(len(color_list))"
   ]
  },
  {
   "cell_type": "code",
   "execution_count": 33,
   "id": "3a92e989",
   "metadata": {},
   "outputs": [],
   "source": [
    "a = pd.DataFrame(storage_list, columns= ['b'])"
   ]
  },
  {
   "cell_type": "code",
   "execution_count": 34,
   "id": "81608240",
   "metadata": {},
   "outputs": [
    {
     "data": {
      "text/html": [
       "<div>\n",
       "<style scoped>\n",
       "    .dataframe tbody tr th:only-of-type {\n",
       "        vertical-align: middle;\n",
       "    }\n",
       "\n",
       "    .dataframe tbody tr th {\n",
       "        vertical-align: top;\n",
       "    }\n",
       "\n",
       "    .dataframe thead th {\n",
       "        text-align: right;\n",
       "    }\n",
       "</style>\n",
       "<table border=\"1\" class=\"dataframe\">\n",
       "  <thead>\n",
       "    <tr style=\"text-align: right;\">\n",
       "      <th></th>\n",
       "      <th>b</th>\n",
       "    </tr>\n",
       "  </thead>\n",
       "  <tbody>\n",
       "    <tr>\n",
       "      <th>0</th>\n",
       "      <td>6 GB RAM | 128 GB ROM\\n14.76 cm (5.81 inch) Fu...</td>\n",
       "    </tr>\n",
       "    <tr>\n",
       "      <th>1</th>\n",
       "      <td>6 GB RAM | 128 GB ROM | Expandable Upto 512 GB...</td>\n",
       "    </tr>\n",
       "    <tr>\n",
       "      <th>2</th>\n",
       "      <td>4 GB RAM | 64 GB ROM\\n16.59 cm (6.53 inch) Ful...</td>\n",
       "    </tr>\n",
       "    <tr>\n",
       "      <th>3</th>\n",
       "      <td>4 GB RAM | 64 GB ROM\\n16.59 cm (6.53 inch) Ful...</td>\n",
       "    </tr>\n",
       "    <tr>\n",
       "      <th>4</th>\n",
       "      <td>4 GB RAM | 64 GB ROM\\n16.59 cm (6.53 inch) HD+...</td>\n",
       "    </tr>\n",
       "    <tr>\n",
       "      <th>5</th>\n",
       "      <td>6 GB RAM | 128 GB ROM\\n16.59 cm (6.53 inch) Fu...</td>\n",
       "    </tr>\n",
       "    <tr>\n",
       "      <th>6</th>\n",
       "      <td>4 GB RAM | 64 GB ROM\\n16.59 cm (6.53 inch) Ful...</td>\n",
       "    </tr>\n",
       "    <tr>\n",
       "      <th>7</th>\n",
       "      <td>2 GB RAM | 32 GB ROM | Expandable Upto 256 GB\\...</td>\n",
       "    </tr>\n",
       "    <tr>\n",
       "      <th>8</th>\n",
       "      <td>2 GB RAM | 32 GB ROM | Expandable Upto 256 GB\\...</td>\n",
       "    </tr>\n",
       "    <tr>\n",
       "      <th>9</th>\n",
       "      <td>6 GB RAM | 128 GB ROM | Expandable Upto 512 GB...</td>\n",
       "    </tr>\n",
       "    <tr>\n",
       "      <th>10</th>\n",
       "      <td>2 GB RAM | 32 GB ROM | Expandable Upto 256 GB\\...</td>\n",
       "    </tr>\n",
       "    <tr>\n",
       "      <th>11</th>\n",
       "      <td>6 GB RAM | 128 GB ROM | Expandable Upto 1 TB\\n...</td>\n",
       "    </tr>\n",
       "    <tr>\n",
       "      <th>12</th>\n",
       "      <td>64 MB RAM | 128 MB ROM | Expandable Upto 32 GB...</td>\n",
       "    </tr>\n",
       "    <tr>\n",
       "      <th>13</th>\n",
       "      <td>6 GB RAM | 128 GB ROM\\n16.59 cm (6.53 inch) Fu...</td>\n",
       "    </tr>\n",
       "    <tr>\n",
       "      <th>14</th>\n",
       "      <td>4 GB RAM | 128 GB ROM\\n16.94 cm (6.67 inch) Di...</td>\n",
       "    </tr>\n",
       "    <tr>\n",
       "      <th>15</th>\n",
       "      <td>8 GB RAM | 128 GB ROM\\n16.94 cm (6.67 inch) Di...</td>\n",
       "    </tr>\n",
       "    <tr>\n",
       "      <th>16</th>\n",
       "      <td>2 GB RAM | 32 GB ROM\\n16.59 cm (6.53 inch) Ful...</td>\n",
       "    </tr>\n",
       "    <tr>\n",
       "      <th>17</th>\n",
       "      <td>2 GB RAM | 32 GB ROM\\n16.59 cm (6.53 inch) Ful...</td>\n",
       "    </tr>\n",
       "    <tr>\n",
       "      <th>18</th>\n",
       "      <td>8 GB RAM | 128 GB ROM | Expandable Upto 512 GB...</td>\n",
       "    </tr>\n",
       "    <tr>\n",
       "      <th>19</th>\n",
       "      <td>4 MB RAM | 4 MB ROM\\n6.1 cm (2.4 inch) Display...</td>\n",
       "    </tr>\n",
       "    <tr>\n",
       "      <th>20</th>\n",
       "      <td>4 GB RAM | 64 GB ROM\\n16.94 cm (6.67 inch) Dis...</td>\n",
       "    </tr>\n",
       "    <tr>\n",
       "      <th>21</th>\n",
       "      <td>2 GB RAM | 64 GB ROM | Expandable Upto 256 GB\\...</td>\n",
       "    </tr>\n",
       "    <tr>\n",
       "      <th>22</th>\n",
       "      <td>6 GB RAM | 64 GB ROM\\n16.51 cm (6.5 inch) Disp...</td>\n",
       "    </tr>\n",
       "    <tr>\n",
       "      <th>23</th>\n",
       "      <td>1 GB RAM | 16 GB ROM | Expandable Upto 32 GB\\n...</td>\n",
       "    </tr>\n",
       "  </tbody>\n",
       "</table>\n",
       "</div>"
      ],
      "text/plain": [
       "                                                    b\n",
       "0   6 GB RAM | 128 GB ROM\\n14.76 cm (5.81 inch) Fu...\n",
       "1   6 GB RAM | 128 GB ROM | Expandable Upto 512 GB...\n",
       "2   4 GB RAM | 64 GB ROM\\n16.59 cm (6.53 inch) Ful...\n",
       "3   4 GB RAM | 64 GB ROM\\n16.59 cm (6.53 inch) Ful...\n",
       "4   4 GB RAM | 64 GB ROM\\n16.59 cm (6.53 inch) HD+...\n",
       "5   6 GB RAM | 128 GB ROM\\n16.59 cm (6.53 inch) Fu...\n",
       "6   4 GB RAM | 64 GB ROM\\n16.59 cm (6.53 inch) Ful...\n",
       "7   2 GB RAM | 32 GB ROM | Expandable Upto 256 GB\\...\n",
       "8   2 GB RAM | 32 GB ROM | Expandable Upto 256 GB\\...\n",
       "9   6 GB RAM | 128 GB ROM | Expandable Upto 512 GB...\n",
       "10  2 GB RAM | 32 GB ROM | Expandable Upto 256 GB\\...\n",
       "11  6 GB RAM | 128 GB ROM | Expandable Upto 1 TB\\n...\n",
       "12  64 MB RAM | 128 MB ROM | Expandable Upto 32 GB...\n",
       "13  6 GB RAM | 128 GB ROM\\n16.59 cm (6.53 inch) Fu...\n",
       "14  4 GB RAM | 128 GB ROM\\n16.94 cm (6.67 inch) Di...\n",
       "15  8 GB RAM | 128 GB ROM\\n16.94 cm (6.67 inch) Di...\n",
       "16  2 GB RAM | 32 GB ROM\\n16.59 cm (6.53 inch) Ful...\n",
       "17  2 GB RAM | 32 GB ROM\\n16.59 cm (6.53 inch) Ful...\n",
       "18  8 GB RAM | 128 GB ROM | Expandable Upto 512 GB...\n",
       "19  4 MB RAM | 4 MB ROM\\n6.1 cm (2.4 inch) Display...\n",
       "20  4 GB RAM | 64 GB ROM\\n16.94 cm (6.67 inch) Dis...\n",
       "21  2 GB RAM | 64 GB ROM | Expandable Upto 256 GB\\...\n",
       "22  6 GB RAM | 64 GB ROM\\n16.51 cm (6.5 inch) Disp...\n",
       "23  1 GB RAM | 16 GB ROM | Expandable Upto 32 GB\\n..."
      ]
     },
     "execution_count": 34,
     "metadata": {},
     "output_type": "execute_result"
    }
   ],
   "source": [
    "a"
   ]
  },
  {
   "cell_type": "code",
   "execution_count": 35,
   "id": "fe0321c6",
   "metadata": {},
   "outputs": [],
   "source": [
    "ram = []\n",
    "for i in a['b']:\n",
    "    i = i[:9]\n",
    "    ram.append(i)"
   ]
  },
  {
   "cell_type": "code",
   "execution_count": 37,
   "id": "10514440",
   "metadata": {},
   "outputs": [
    {
     "data": {
      "text/plain": [
       "24"
      ]
     },
     "execution_count": 37,
     "metadata": {},
     "output_type": "execute_result"
    }
   ],
   "source": [
    "len(ram)"
   ]
  },
  {
   "cell_type": "code",
   "execution_count": 43,
   "id": "b2a24959",
   "metadata": {},
   "outputs": [],
   "source": [
    "rom = []\n",
    "for i in a['b']:\n",
    "    i = i[10:18]\n",
    "    rom.append(i)"
   ]
  },
  {
   "cell_type": "code",
   "execution_count": 40,
   "id": "ab2cd71d",
   "metadata": {},
   "outputs": [
    {
     "data": {
      "text/plain": [
       "24"
      ]
     },
     "execution_count": 40,
     "metadata": {},
     "output_type": "execute_result"
    }
   ],
   "source": [
    "len(rom)"
   ]
  },
  {
   "cell_type": "code",
   "execution_count": 55,
   "id": "6ce61982",
   "metadata": {},
   "outputs": [],
   "source": [
    "display = []\n",
    "for i in a['b']:\n",
    "    i = i[22:65]\n",
    "    display.append(i)"
   ]
  },
  {
   "cell_type": "code",
   "execution_count": 57,
   "id": "13e2e78d",
   "metadata": {},
   "outputs": [
    {
     "data": {
      "text/plain": [
       "24"
      ]
     },
     "execution_count": 57,
     "metadata": {},
     "output_type": "execute_result"
    }
   ],
   "source": [
    "len(display)"
   ]
  },
  {
   "cell_type": "code",
   "execution_count": 76,
   "id": "2b900739",
   "metadata": {},
   "outputs": [
    {
     "data": {
      "text/plain": [
       "24"
      ]
     },
     "execution_count": 76,
     "metadata": {},
     "output_type": "execute_result"
    }
   ],
   "source": [
    "len(storage_list)"
   ]
  },
  {
   "cell_type": "code",
   "execution_count": 63,
   "id": "4e9bd31c",
   "metadata": {},
   "outputs": [],
   "source": [
    "rear = []\n",
    "for i in a['b']:\n",
    "    i = i[60:80]\n",
    "    rear.append(i)"
   ]
  },
  {
   "cell_type": "code",
   "execution_count": 72,
   "id": "811a5e11",
   "metadata": {},
   "outputs": [
    {
     "data": {
      "text/plain": [
       "24"
      ]
     },
     "execution_count": 72,
     "metadata": {},
     "output_type": "execute_result"
    }
   ],
   "source": [
    "len(rear)"
   ]
  },
  {
   "cell_type": "code",
   "execution_count": 69,
   "id": "d494bb58",
   "metadata": {},
   "outputs": [],
   "source": [
    "front = []\n",
    "for i in a['b']:\n",
    "    i = i[81:97]\n",
    "    front.append(i)"
   ]
  },
  {
   "cell_type": "code",
   "execution_count": 71,
   "id": "1481d965",
   "metadata": {},
   "outputs": [
    {
     "data": {
      "text/plain": [
       "24"
      ]
     },
     "execution_count": 71,
     "metadata": {},
     "output_type": "execute_result"
    }
   ],
   "source": [
    "len(front)"
   ]
  },
  {
   "cell_type": "code",
   "execution_count": 73,
   "id": "60ffeaf6",
   "metadata": {},
   "outputs": [],
   "source": [
    "battery = []\n",
    "for i in a['b']:\n",
    "    i = i[98:110]\n",
    "    battery.append(i)"
   ]
  },
  {
   "cell_type": "code",
   "execution_count": 75,
   "id": "6170469a",
   "metadata": {},
   "outputs": [
    {
     "data": {
      "text/plain": [
       "24"
      ]
     },
     "execution_count": 75,
     "metadata": {},
     "output_type": "execute_result"
    }
   ],
   "source": [
    "len(battery)"
   ]
  },
  {
   "cell_type": "code",
   "execution_count": 77,
   "id": "09b6a29c",
   "metadata": {},
   "outputs": [
    {
     "data": {
      "text/plain": [
       "['In The Box\\nHandset, 18 W USB Type C Power Adapter, USB Type C to USB Type C Cable (USB 2.0, 1m), Quick Switch Adapter, SIM Tool, Quick Start Guide\\nModel Number\\nG025N\\nModel Name\\nPixel 4a\\nColor\\nJust Black\\nBrowse Type\\nSmartphones\\nSIM Type\\nDual Sim(Physical + eSIM)\\nHybrid Sim Slot\\nNo\\nTouchscreen\\nYes',\n",
       " 'In The Box\\nHandset, Adapter, USB Type-C Cable, Soft Case, SIM Eject Tool, User Guide, Warranty Card\\nModel Number\\n21061119BI\\nModel Name\\n10 Prime\\nColor\\nAstral White\\nBrowse Type\\nSmartphones\\nSIM Type\\nDual Sim\\nHybrid Sim Slot\\nNo\\nTouchscreen\\nYes',\n",
       " 'In The Box\\nHandset,Power adapter, usb cable, SIM eject tool, warranty card, user guide and clear soft case\\nModel Number\\nMOBHQAB7 / M2010J19SI\\nModel Name\\n9 Power\\nColor\\nFiery Red\\nBrowse Type\\nSmartphones\\nSIM Type\\nDual Sim\\nHybrid Sim Slot\\nYes\\nTouchscreen\\nYes',\n",
       " 'In The Box\\nHandset,Power adapter, usb cable, SIM eject tool, warranty card, user guide and clear soft case\\nModel Number\\nMZB084XIN / m2010j19si / MOBHQAB1\\nModel Name\\n9 Power\\nColor\\nMighty Black\\nBrowse Type\\nSmartphones\\nSIM Type\\nDual Sim\\nHybrid Sim Slot\\nYes\\nTouchscreen\\nYes',\n",
       " 'In The Box\\nHandset /Power adapter/5V2A Charger/ Micro-USB cable / SIM eject tool / Warranty card / User guide\\nModel Number\\nM2006C3MII\\nModel Name\\nRedmi 9\\nColor\\nSky Blue\\nBrowse Type\\nSmartphones\\nSIM Type\\nDual Sim\\nHybrid Sim Slot\\nNo\\nTouchscreen\\nYes',\n",
       " 'In The Box\\nHandset,Power adapter, usb cable, SIM eject tool, warranty card, user guide and clear soft case\\nModel Number\\nb089mtr9jw /m2010j19si\\nModel Name\\n9 Power\\nColor\\nMighty Black\\nBrowse Type\\nSmartphones\\nSIM Type\\nDual Sim\\nHybrid Sim Slot\\nYes\\nTouchscreen\\nYes',\n",
       " 'In The Box\\nHandset,Power adapter, usb cable, SIM eject tool, warranty card, user guide and clear soft case\\nModel Number\\nM2010J19SI / MZB0850IN\\nModel Name\\n9 Power\\nColor\\nElectric Green\\nBrowse Type\\nSmartphones\\nSIM Type\\nDual Sim\\nHybrid Sim Slot\\nYes\\nTouchscreen\\nYes',\n",
       " 'In The Box\\nHandset, Power Adapter, Data Cable, User Manual, Warranty Card\\nModel Number\\nPR651\\nModel Name\\nSpark 7\\nColor\\nSpruce Green\\nBrowse Type\\nSmartphones\\nSIM Type\\nDual Sim\\nHybrid Sim Slot\\nNo\\nTouchscreen\\nYes',\n",
       " 'In The Box\\nHandset, Power Adapter, Data Cable, User Manual, Warranty Card\\nModel Number\\nPR651\\nModel Name\\nSpark 7\\nColor\\nMagnet Black\\nBrowse Type\\nSmartphones\\nSIM Type\\nDual Sim\\nHybrid Sim Slot\\nNo\\nTouchscreen\\nYes',\n",
       " 'In The Box\\nSmartphone, 18W Flash USB Power Adaptor, Type C USB Cable, SIM Ejector Tool, TPU Cover\\nModel Number\\nCG7\\nModel Name\\nCamon 17\\nColor\\nFrost Silver\\nBrowse Type\\nSmartphones\\nSIM Type\\nDual Sim\\nHybrid Sim Slot\\nNo\\nTouchscreen\\nYes',\n",
       " 'In The Box\\nHandset, Power Adapter, Data Cable, User Manual, Warranty Card\\nModel Number\\nKE5\\nModel Name\\nSpark go 2021\\nColor\\nMaldives Blue\\nBrowse Type\\nSmartphones\\nSIM Type\\nDual Sim\\nHybrid Sim Slot\\nNo\\nTouchscreen\\nYes',\n",
       " 'In The Box\\nHandset, 15W Fast Charging Adapter, SIM Tray Ejector, USB Cable, User Manual\\nModel Number\\nSM-M526B/DS\\nModel Name\\nGalaxy M52 5G\\nColor\\nIcy Blue\\nBrowse Type\\nSmartphones\\nSIM Type\\nDual Sim\\nHybrid Sim Slot\\nYes\\nTouchscreen\\nYes',\n",
       " 'In The Box\\nHandset, Micro USB Charger, Battery, Quick Start Guide\\nModel Number\\nTA-1278 / 12QENB21A01CYN1\\nModel Name\\n215 4G DS 2020\\nColor\\nCyan\\nBrowse Type\\nFeature Phones\\nSIM Type\\nDual Sim\\nHybrid Sim Slot\\nNo\\nTouchscreen\\nNo',\n",
       " 'In The Box\\nHandset,Power adapter, usb cable, SIM eject tool, warranty card, user guide and clear soft case\\nModel Number\\nM2010J19SI / MZB08SWIN\\nModel Name\\n9 Power\\nColor\\nFiery Red\\nBrowse Type\\nSmartphones\\nSIM Type\\nDual Sim\\nHybrid Sim Slot\\nYes\\nTouchscreen\\nYes',\n",
       " 'In The Box\\nHandset, USB cable, SIM eject tool, Warranty card, User guide, Clear soft case\\nModel Number\\n2109106A1I\\nModel Name\\nREDMI NOTE 10 LITE\\nColor\\nGlacier White\\nBrowse Type\\nSmartphones\\nSIM Type\\nDual Sim\\nHybrid Sim Slot\\nYes\\nTouchscreen\\nYes',\n",
       " 'In The Box\\nHandset, Power adapter, USB cable, SIM eject tool, Warranty card, User guide, Clear soft case, Screen protector pre-applied on the phone\\nModel Number\\nM2101K6P\\nModel Name\\nNote 10 Pro\\nColor\\nDark Night\\nBrowse Type\\nSmartphones\\nSIM Type\\nDual Sim\\nHybrid Sim Slot\\nNo\\nTouchscreen\\nYes',\n",
       " 'In The Box\\nHandset,Power adapter, USB cable, sim eject tool, warranty card and user guide\\nModel Number\\nm2006C3LI\\nModel Name\\nRedmi 9A\\nColor\\nSeaBlue\\nBrowse Type\\nSmartphones\\nSIM Type\\nDual Sim\\nHybrid Sim Slot\\nYes\\nTouchscreen\\nYes',\n",
       " 'In The Box\\nHandset,Power adapter, USB cable, sim eject tool, warranty card and user guide\\nModel Number\\nM2006C3LI\\nModel Name\\nRedmi 9A\\nColor\\nNature Green\\nBrowse Type\\nSmartphones\\nSIM Type\\nDual Sim\\nHybrid Sim Slot\\nYes\\nTouchscreen\\nYes',\n",
       " 'In The Box\\nHandset, (Non-removable Battery Included), Travel Adapter, USB Cable, Ejection Pin, User Manual,Warranty card\\nModel Number\\nSM-M315FZBHINS\\nModel Name\\nGalaxy M31\\nColor\\nOcean Blue\\nBrowse Type\\nSmartphones\\nSIM Type\\nDual Sim\\nHybrid Sim Slot\\nNo\\nTouchscreen\\nYes',\n",
       " 'In The Box\\nHandset,Charger,Battery,User Guide,Warranty Card\\nModel Number\\nit5026\\nModel Name\\nit5026\\nColor\\nBlue\\nBrowse Type\\nFeature Phones\\nSIM Type\\nDual Sim\\nHybrid Sim Slot\\nNo\\nTouchscreen\\nNo',\n",
       " 'In The Box\\nHandset, Adapter, USB Type -C Cabel, SIM Eject Tool, Warranty Card, Protective Case\\nModel Number\\n2109106A1I\\nModel Name\\nREDMI Note 10 lite\\nColor\\nGlacier White\\nBrowse Type\\nSmartphones\\nSIM Type\\nDual Sim\\nHybrid Sim Slot\\nYes\\nTouchscreen\\nYes',\n",
       " 'In The Box\\nHandset, Adaptor, USB Cable, TPU Cover, SIM Ejector Tool\\nModel Number\\nKG6\\nModel Name\\nSpark 8\\nColor\\nAtlantic Blue\\nBrowse Type\\nSmartphones\\nSIM Type\\nDual Sim\\nHybrid Sim Slot\\nNo\\nTouchscreen\\nYes',\n",
       " 'In The Box\\nHANDSET, CHARGER, DATA CABLE, PROTECTIVE BACK COVER, SIM EJECTOR PIN\\nModel Number\\nZ6\\nModel Name\\nZ6\\nColor\\nAQUA BLUE\\nBrowse Type\\nSmartphones\\nSIM Type\\nDual Sim\\nHybrid Sim Slot\\nNo\\nTouchscreen\\nYes',\n",
       " 'In The Box\\nHandset, Battery, Charger, user manual, warranty card\\nModel Number\\nL5002\\nModel Name\\nA25\\nColor\\nGradation Blue\\nBrowse Type\\nSmartphones\\nSIM Type\\nDual Sim\\nHybrid Sim Slot\\nNo\\nTouchscreen\\nYes']"
      ]
     },
     "execution_count": 77,
     "metadata": {},
     "output_type": "execute_result"
    }
   ],
   "source": [
    "color_list"
   ]
  },
  {
   "cell_type": "code",
   "execution_count": 78,
   "id": "e1169b2c",
   "metadata": {},
   "outputs": [],
   "source": [
    "c = pd.DataFrame(color_list, columns= ['d']) "
   ]
  },
  {
   "cell_type": "code",
   "execution_count": 98,
   "id": "d5446e6b",
   "metadata": {},
   "outputs": [],
   "source": [
    "co = []\n",
    "for i in c['d']:\n",
    "    i = i[-104:-75]\n",
    "    co.append(i)"
   ]
  },
  {
   "cell_type": "code",
   "execution_count": 100,
   "id": "8a9ac85b",
   "metadata": {},
   "outputs": [
    {
     "data": {
      "text/plain": [
       "24"
      ]
     },
     "execution_count": 100,
     "metadata": {},
     "output_type": "execute_result"
    }
   ],
   "source": [
    "len(co)"
   ]
  },
  {
   "cell_type": "code",
   "execution_count": 101,
   "id": "266bfbcc",
   "metadata": {},
   "outputs": [],
   "source": [
    "phones = pd.DataFrame({'Brand Name with Product Name': brand_name, 'RAM': ram, 'ROM': rom, 'Display Size': display,\n",
    "                      'Rear Camera': rear, 'Front Camera': front, 'Battery': battery, 'Color Available': co,\n",
    "                      'Product URL': url})"
   ]
  },
  {
   "cell_type": "code",
   "execution_count": 102,
   "id": "de08ccc1",
   "metadata": {},
   "outputs": [
    {
     "data": {
      "text/html": [
       "<div>\n",
       "<style scoped>\n",
       "    .dataframe tbody tr th:only-of-type {\n",
       "        vertical-align: middle;\n",
       "    }\n",
       "\n",
       "    .dataframe tbody tr th {\n",
       "        vertical-align: top;\n",
       "    }\n",
       "\n",
       "    .dataframe thead th {\n",
       "        text-align: right;\n",
       "    }\n",
       "</style>\n",
       "<table border=\"1\" class=\"dataframe\">\n",
       "  <thead>\n",
       "    <tr style=\"text-align: right;\">\n",
       "      <th></th>\n",
       "      <th>Brand Name with Product Name</th>\n",
       "      <th>RAM</th>\n",
       "      <th>ROM</th>\n",
       "      <th>Display Size</th>\n",
       "      <th>Rear Camera</th>\n",
       "      <th>Front Camera</th>\n",
       "      <th>Battery</th>\n",
       "      <th>Color Available</th>\n",
       "      <th>Product URL</th>\n",
       "    </tr>\n",
       "  </thead>\n",
       "  <tbody>\n",
       "    <tr>\n",
       "      <th>0</th>\n",
       "      <td>Google Pixel 4a (Just Black, 128 GB)  (6 GB RAM)</td>\n",
       "      <td>6 GB RAM</td>\n",
       "      <td>128 GB</td>\n",
       "      <td>14.76 cm (5.81 inch) Full HD+ Display\\n12.2M</td>\n",
       "      <td>12.2MP Rear Camera |</td>\n",
       "      <td>8MP Front Camera</td>\n",
       "      <td>3140 mAh Bat</td>\n",
       "      <td>Just Black\\nBrowse Type\\nSmartp</td>\n",
       "      <td>https://www.flipkart.com/google-pixel-4a-just-...</td>\n",
       "    </tr>\n",
       "    <tr>\n",
       "      <th>1</th>\n",
       "      <td>REDMI 10 Prime (Astral White, 128 GB)  (6 GB RAM)</td>\n",
       "      <td>6 GB RAM</td>\n",
       "      <td>128 GB</td>\n",
       "      <td>| Expandable Upto 512 GB\\n16.51 cm (6.5 inch</td>\n",
       "      <td>inch) Full HD Displ</td>\n",
       "      <td>y\\n50MP + 8MP + 2</td>\n",
       "      <td>P + 2MP | 8M</td>\n",
       "      <td>10 Prime\\nColor\\nAstral White\\nB</td>\n",
       "      <td>https://www.flipkart.com/redmi-10-prime-astral...</td>\n",
       "    </tr>\n",
       "    <tr>\n",
       "      <th>2</th>\n",
       "      <td>REDMI 9 Power (Fiery Red, 64 GB)  (4 GB RAM)</td>\n",
       "      <td>4 GB RAM</td>\n",
       "      <td>64 GB R</td>\n",
       "      <td>6.59 cm (6.53 inch) Full HD+ Display\\n48MP +</td>\n",
       "      <td>8MP + 8MP + 2MP + 2M</td>\n",
       "      <td>| 8MP Front Cam</td>\n",
       "      <td>ra\\n6000 mAh</td>\n",
       "      <td>me\\n9 Power\\nColor\\nFiery Red\\nBr</td>\n",
       "      <td>https://www.flipkart.com/redmi-9-power-fiery-r...</td>\n",
       "    </tr>\n",
       "    <tr>\n",
       "      <th>3</th>\n",
       "      <td>REDMI 9 Power (Mighty Black, 64 GB)  (4 GB RAM)</td>\n",
       "      <td>4 GB RAM</td>\n",
       "      <td>64 GB R</td>\n",
       "      <td>6.59 cm (6.53 inch) Full HD+ Display\\n48MP +</td>\n",
       "      <td>8MP + 8MP + 2MP + 2M</td>\n",
       "      <td>| 8MP Front Cam</td>\n",
       "      <td>ra\\n6000 mAh</td>\n",
       "      <td>9 Power\\nColor\\nMighty Black\\nBr</td>\n",
       "      <td>https://www.flipkart.com/redmi-9-power-mighty-...</td>\n",
       "    </tr>\n",
       "    <tr>\n",
       "      <th>4</th>\n",
       "      <td>Redmi 9 (Sky Blue, 64 GB)  (4 GB RAM)</td>\n",
       "      <td>4 GB RAM</td>\n",
       "      <td>64 GB R</td>\n",
       "      <td>6.59 cm (6.53 inch) HD+ Display\\n13MP + 2MP</td>\n",
       "      <td>2MP | 5MP Front Cam</td>\n",
       "      <td>ra\\n5000 mAh Batt</td>\n",
       "      <td>ry\\nMediaTek</td>\n",
       "      <td>Name\\nRedmi 9\\nColor\\nSky Blue\\nB</td>\n",
       "      <td>https://www.flipkart.com/redmi-9-sky-blue-64-g...</td>\n",
       "    </tr>\n",
       "    <tr>\n",
       "      <th>5</th>\n",
       "      <td>REDMI 9 Power (Mighty Black, 128 GB)  (6 GB RAM)</td>\n",
       "      <td>6 GB RAM</td>\n",
       "      <td>128 GB</td>\n",
       "      <td>16.59 cm (6.53 inch) Full HD+ Display\\n48MP</td>\n",
       "      <td>48MP + 8MP + 2MP + 2</td>\n",
       "      <td>P | 8MP Front Ca</td>\n",
       "      <td>era\\n6000 mAh</td>\n",
       "      <td>9 Power\\nColor\\nMighty Black\\nBr</td>\n",
       "      <td>https://www.flipkart.com/redmi-9-power-mighty-...</td>\n",
       "    </tr>\n",
       "    <tr>\n",
       "      <th>6</th>\n",
       "      <td>REDMI 9 Power (Electric Green, 64 GB)  (4 GB RAM)</td>\n",
       "      <td>4 GB RAM</td>\n",
       "      <td>64 GB R</td>\n",
       "      <td>6.59 cm (6.53 inch) Full HD+ Display\\n48MP +</td>\n",
       "      <td>8MP + 8MP + 2MP + 2M</td>\n",
       "      <td>| 8MP Front Cam</td>\n",
       "      <td>ra\\n6000 mAh</td>\n",
       "      <td>Power\\nColor\\nElectric Green\\nBr</td>\n",
       "      <td>https://www.flipkart.com/redmi-9-power-electri...</td>\n",
       "    </tr>\n",
       "    <tr>\n",
       "      <th>7</th>\n",
       "      <td>Tecno Spark 7 (Spruce Green, 32 GB)  (2 GB RAM)</td>\n",
       "      <td>2 GB RAM</td>\n",
       "      <td>32 GB R</td>\n",
       "      <td>Expandable Upto 256 GB\\n16.56 cm (6.52 inch</td>\n",
       "      <td>inch) HD+ Display\\n1</td>\n",
       "      <td>MP Rear Camera |</td>\n",
       "      <td>8MP Front Ca</td>\n",
       "      <td>\\nSpark 7\\nColor\\nSpruce Green\\nB</td>\n",
       "      <td>https://www.flipkart.com/tecno-spark-7-spruce-...</td>\n",
       "    </tr>\n",
       "    <tr>\n",
       "      <th>8</th>\n",
       "      <td>Tecno Spark 7 (Magnet Black, 32 GB)  (2 GB RAM)</td>\n",
       "      <td>2 GB RAM</td>\n",
       "      <td>32 GB R</td>\n",
       "      <td>Expandable Upto 256 GB\\n16.56 cm (6.52 inch</td>\n",
       "      <td>inch) HD+ Display\\n1</td>\n",
       "      <td>MP Rear Camera |</td>\n",
       "      <td>8MP Front Ca</td>\n",
       "      <td>\\nSpark 7\\nColor\\nMagnet Black\\nB</td>\n",
       "      <td>https://www.flipkart.com/tecno-spark-7-magnet-...</td>\n",
       "    </tr>\n",
       "    <tr>\n",
       "      <th>9</th>\n",
       "      <td>Tecno Camon 17 (Frost Silver, 128 GB)  (6 GB RAM)</td>\n",
       "      <td>6 GB RAM</td>\n",
       "      <td>128 GB</td>\n",
       "      <td>| Expandable Upto 512 GB\\n17.27 cm (6.8 inch</td>\n",
       "      <td>inch) Full HD Displ</td>\n",
       "      <td>y\\n64MP + 2MP + 2</td>\n",
       "      <td>P | 16MP Fro</td>\n",
       "      <td>Camon 17\\nColor\\nFrost Silver\\nB</td>\n",
       "      <td>https://www.flipkart.com/tecno-camon-17-frost-...</td>\n",
       "    </tr>\n",
       "    <tr>\n",
       "      <th>10</th>\n",
       "      <td>Tecno Spark go 2021 (Maldives Blue, 32 GB)  (2...</td>\n",
       "      <td>2 GB RAM</td>\n",
       "      <td>32 GB R</td>\n",
       "      <td>Expandable Upto 256 GB\\n16.56 cm (6.52 inch</td>\n",
       "      <td>inch) HD+ Display\\n1</td>\n",
       "      <td>MP Rear Camera |</td>\n",
       "      <td>8MP Front Ca</td>\n",
       "      <td>go 2021\\nColor\\nMaldives Blue\\nB</td>\n",
       "      <td>https://www.flipkart.com/tecno-spark-go-2021-m...</td>\n",
       "    </tr>\n",
       "    <tr>\n",
       "      <th>11</th>\n",
       "      <td>SAMSUNG Galaxy M52 5G (Icy Blue, 128 GB)  (6 G...</td>\n",
       "      <td>6 GB RAM</td>\n",
       "      <td>128 GB</td>\n",
       "      <td>| Expandable Upto 1 TB\\n17.02 cm (6.7 inch)</td>\n",
       "      <td>nch) Full HD+ Displa</td>\n",
       "      <td>\\n64MP + 12MP + 5</td>\n",
       "      <td>P | 32MP Fro</td>\n",
       "      <td>laxy M52 5G\\nColor\\nIcy Blue\\nBr</td>\n",
       "      <td>https://www.flipkart.com/samsung-galaxy-m52-5g...</td>\n",
       "    </tr>\n",
       "    <tr>\n",
       "      <th>12</th>\n",
       "      <td>Nokia 215 4G DS 2020  (Cyan)</td>\n",
       "      <td>64 MB RAM</td>\n",
       "      <td>| 128 MB</td>\n",
       "      <td>| Expandable Upto 32 GB\\n6.1 cm (2.4 inch)</td>\n",
       "      <td>nch) QVGA Display\\n11</td>\n",
       "      <td>0 mAh Battery\\nUn</td>\n",
       "      <td>soc Processo</td>\n",
       "      <td>215 4G DS 2020\\nColor\\nCyan\\nBro</td>\n",
       "      <td>https://www.flipkart.com/nokia-215-4g-ds-2020/...</td>\n",
       "    </tr>\n",
       "    <tr>\n",
       "      <th>13</th>\n",
       "      <td>REDMI 9 Power (Fiery Red, 128 GB)  (6 GB RAM)</td>\n",
       "      <td>6 GB RAM</td>\n",
       "      <td>128 GB</td>\n",
       "      <td>16.59 cm (6.53 inch) Full HD+ Display\\n48MP</td>\n",
       "      <td>48MP + 8MP + 2MP + 2</td>\n",
       "      <td>P | 8MP Front Ca</td>\n",
       "      <td>era\\n6000 mAh</td>\n",
       "      <td>me\\n9 Power\\nColor\\nFiery Red\\nBr</td>\n",
       "      <td>https://www.flipkart.com/redmi-9-power-fiery-r...</td>\n",
       "    </tr>\n",
       "    <tr>\n",
       "      <th>14</th>\n",
       "      <td>REDMI NOTE 10 LITE (Glacier White, 128 GB)  (4...</td>\n",
       "      <td>4 GB RAM</td>\n",
       "      <td>128 GB</td>\n",
       "      <td>16.94 cm (6.67 inch) Display\\n48MP Rear Came</td>\n",
       "      <td>Camera\\n5020 mAh Bat</td>\n",
       "      <td>ery</td>\n",
       "      <td></td>\n",
       "      <td>0 LITE\\nColor\\nGlacier White\\nBr</td>\n",
       "      <td>https://www.flipkart.com/redmi-note-10-lite-gl...</td>\n",
       "    </tr>\n",
       "    <tr>\n",
       "      <th>15</th>\n",
       "      <td>REDMI Note 10 Pro (Dark Night, 128 GB)  (8 GB ...</td>\n",
       "      <td>8 GB RAM</td>\n",
       "      <td>128 GB</td>\n",
       "      <td>16.94 cm (6.67 inch) Display\\n64MP Rear Came</td>\n",
       "      <td>Camera\\n5020 mAh Bat</td>\n",
       "      <td>ery</td>\n",
       "      <td></td>\n",
       "      <td>ote 10 Pro\\nColor\\nDark Night\\nB</td>\n",
       "      <td>https://www.flipkart.com/redmi-note-10-pro-dar...</td>\n",
       "    </tr>\n",
       "    <tr>\n",
       "      <th>16</th>\n",
       "      <td>Redmi 9A (SeaBlue, 32 GB)  (2 GB RAM)</td>\n",
       "      <td>2 GB RAM</td>\n",
       "      <td>32 GB R</td>\n",
       "      <td>6.59 cm (6.53 inch) Full HD+ Display\\n13MP R</td>\n",
       "      <td>3MP Rear Camera\\n5000</td>\n",
       "      <td>mAh Battery</td>\n",
       "      <td></td>\n",
       "      <td>ame\\nRedmi 9A\\nColor\\nSeaBlue\\nBr</td>\n",
       "      <td>https://www.flipkart.com/redmi-9a-seablue-32-g...</td>\n",
       "    </tr>\n",
       "    <tr>\n",
       "      <th>17</th>\n",
       "      <td>Redmi 9A (Nature Green, 32 GB)  (2 GB RAM)</td>\n",
       "      <td>2 GB RAM</td>\n",
       "      <td>32 GB R</td>\n",
       "      <td>6.59 cm (6.53 inch) Full HD+ Display\\n13MP R</td>\n",
       "      <td>3MP Rear Camera\\n5000</td>\n",
       "      <td>mAh Battery</td>\n",
       "      <td></td>\n",
       "      <td>edmi 9A\\nColor\\nNature Green\\nBr</td>\n",
       "      <td>https://www.flipkart.com/redmi-9a-nature-green...</td>\n",
       "    </tr>\n",
       "    <tr>\n",
       "      <th>18</th>\n",
       "      <td>SAMSUNG Galaxy M31 (Ocean Blue, 128 GB)  (8 GB...</td>\n",
       "      <td>8 GB RAM</td>\n",
       "      <td>128 GB</td>\n",
       "      <td>| Expandable Upto 512 GB\\n16.26 cm (6.4 inch</td>\n",
       "      <td>inch) Full HD+ Disp</td>\n",
       "      <td>ay\\n64MP + 8MP +</td>\n",
       "      <td>MP + 5MP | 3</td>\n",
       "      <td>Galaxy M31\\nColor\\nOcean Blue\\nB</td>\n",
       "      <td>https://www.flipkart.com/samsung-galaxy-m31-oc...</td>\n",
       "    </tr>\n",
       "    <tr>\n",
       "      <th>19</th>\n",
       "      <td>Itel it5026  (Blue)</td>\n",
       "      <td>4 MB RAM</td>\n",
       "      <td>4 MB RO</td>\n",
       "      <td>1 cm (2.4 inch) Display\\n2MP Rear Camera\\n120</td>\n",
       "      <td>a\\n1200 mAh Battery</td>\n",
       "      <td></td>\n",
       "      <td></td>\n",
       "      <td>el Name\\nit5026\\nColor\\nBlue\\nBro</td>\n",
       "      <td>https://www.flipkart.com/itel-it5026/p/itm2d63...</td>\n",
       "    </tr>\n",
       "    <tr>\n",
       "      <th>20</th>\n",
       "      <td>REDMI Note 10 lite (Glacier White, 64 GB)  (4 ...</td>\n",
       "      <td>4 GB RAM</td>\n",
       "      <td>64 GB R</td>\n",
       "      <td>6.94 cm (6.67 inch) Display\\n48MP Rear Camer</td>\n",
       "      <td>Camera\\n5018 mAh Batt</td>\n",
       "      <td>ry</td>\n",
       "      <td></td>\n",
       "      <td>0 lite\\nColor\\nGlacier White\\nBr</td>\n",
       "      <td>https://www.flipkart.com/redmi-note-10-lite-gl...</td>\n",
       "    </tr>\n",
       "    <tr>\n",
       "      <th>21</th>\n",
       "      <td>Tecno Spark 8 (Atlantic Blue, 64 GB)  (2 GB RAM)</td>\n",
       "      <td>2 GB RAM</td>\n",
       "      <td>64 GB R</td>\n",
       "      <td>Expandable Upto 256 GB\\n16.56 cm (6.52 inch</td>\n",
       "      <td>inch) HD+ Display\\n1</td>\n",
       "      <td>MP Rear Camera |</td>\n",
       "      <td>8MP Front Ca</td>\n",
       "      <td>Spark 8\\nColor\\nAtlantic Blue\\nB</td>\n",
       "      <td>https://www.flipkart.com/tecno-spark-8-atlanti...</td>\n",
       "    </tr>\n",
       "    <tr>\n",
       "      <th>22</th>\n",
       "      <td>LAVA Z6 (AQUA BLUE, 64 GB)  (6 GB RAM)</td>\n",
       "      <td>6 GB RAM</td>\n",
       "      <td>64 GB R</td>\n",
       "      <td>6.51 cm (6.5 inch) Display\\n13MP Rear Camera</td>\n",
       "      <td>amera\\n5000 mAh Batte</td>\n",
       "      <td>y</td>\n",
       "      <td></td>\n",
       "      <td>del Name\\nZ6\\nColor\\nAQUA BLUE\\nB</td>\n",
       "      <td>https://www.flipkart.com/lava-z6-aqua-blue-64-...</td>\n",
       "    </tr>\n",
       "    <tr>\n",
       "      <th>23</th>\n",
       "      <td>Itel A25 (Gradation Blue, 16 GB)  (1 GB RAM)</td>\n",
       "      <td>1 GB RAM</td>\n",
       "      <td>16 GB R</td>\n",
       "      <td>Expandable Upto 32 GB\\n12.7 cm (5 inch) HD</td>\n",
       "      <td>) HD Display\\n5MP Rea</td>\n",
       "      <td>Camera | 2MP Fr</td>\n",
       "      <td>nt Camera\\n30</td>\n",
       "      <td>me\\nA25\\nColor\\nGradation Blue\\nB</td>\n",
       "      <td>https://www.flipkart.com/itel-a25-gradation-bl...</td>\n",
       "    </tr>\n",
       "  </tbody>\n",
       "</table>\n",
       "</div>"
      ],
      "text/plain": [
       "                         Brand Name with Product Name        RAM       ROM  \\\n",
       "0    Google Pixel 4a (Just Black, 128 GB)  (6 GB RAM)  6 GB RAM    128 GB    \n",
       "1   REDMI 10 Prime (Astral White, 128 GB)  (6 GB RAM)  6 GB RAM    128 GB    \n",
       "2        REDMI 9 Power (Fiery Red, 64 GB)  (4 GB RAM)  4 GB RAM    64 GB R   \n",
       "3     REDMI 9 Power (Mighty Black, 64 GB)  (4 GB RAM)  4 GB RAM    64 GB R   \n",
       "4               Redmi 9 (Sky Blue, 64 GB)  (4 GB RAM)  4 GB RAM    64 GB R   \n",
       "5    REDMI 9 Power (Mighty Black, 128 GB)  (6 GB RAM)  6 GB RAM    128 GB    \n",
       "6   REDMI 9 Power (Electric Green, 64 GB)  (4 GB RAM)  4 GB RAM    64 GB R   \n",
       "7     Tecno Spark 7 (Spruce Green, 32 GB)  (2 GB RAM)  2 GB RAM    32 GB R   \n",
       "8     Tecno Spark 7 (Magnet Black, 32 GB)  (2 GB RAM)  2 GB RAM    32 GB R   \n",
       "9   Tecno Camon 17 (Frost Silver, 128 GB)  (6 GB RAM)  6 GB RAM    128 GB    \n",
       "10  Tecno Spark go 2021 (Maldives Blue, 32 GB)  (2...  2 GB RAM    32 GB R   \n",
       "11  SAMSUNG Galaxy M52 5G (Icy Blue, 128 GB)  (6 G...  6 GB RAM    128 GB    \n",
       "12                       Nokia 215 4G DS 2020  (Cyan)  64 MB RAM  | 128 MB   \n",
       "13      REDMI 9 Power (Fiery Red, 128 GB)  (6 GB RAM)  6 GB RAM    128 GB    \n",
       "14  REDMI NOTE 10 LITE (Glacier White, 128 GB)  (4...  4 GB RAM    128 GB    \n",
       "15  REDMI Note 10 Pro (Dark Night, 128 GB)  (8 GB ...  8 GB RAM    128 GB    \n",
       "16              Redmi 9A (SeaBlue, 32 GB)  (2 GB RAM)  2 GB RAM    32 GB R   \n",
       "17         Redmi 9A (Nature Green, 32 GB)  (2 GB RAM)  2 GB RAM    32 GB R   \n",
       "18  SAMSUNG Galaxy M31 (Ocean Blue, 128 GB)  (8 GB...  8 GB RAM    128 GB    \n",
       "19                                Itel it5026  (Blue)  4 MB RAM    4 MB RO   \n",
       "20  REDMI Note 10 lite (Glacier White, 64 GB)  (4 ...  4 GB RAM    64 GB R   \n",
       "21   Tecno Spark 8 (Atlantic Blue, 64 GB)  (2 GB RAM)  2 GB RAM    64 GB R   \n",
       "22             LAVA Z6 (AQUA BLUE, 64 GB)  (6 GB RAM)  6 GB RAM    64 GB R   \n",
       "23       Itel A25 (Gradation Blue, 16 GB)  (1 GB RAM)  1 GB RAM    16 GB R   \n",
       "\n",
       "                                     Display Size            Rear Camera  \\\n",
       "0    14.76 cm (5.81 inch) Full HD+ Display\\n12.2M   12.2MP Rear Camera |   \n",
       "1    | Expandable Upto 512 GB\\n16.51 cm (6.5 inch    inch) Full HD Displ   \n",
       "2    6.59 cm (6.53 inch) Full HD+ Display\\n48MP +   8MP + 8MP + 2MP + 2M   \n",
       "3    6.59 cm (6.53 inch) Full HD+ Display\\n48MP +   8MP + 8MP + 2MP + 2M   \n",
       "4    6.59 cm (6.53 inch) HD+ Display\\n13MP + 2MP     2MP | 5MP Front Cam   \n",
       "5    16.59 cm (6.53 inch) Full HD+ Display\\n48MP    48MP + 8MP + 2MP + 2   \n",
       "6    6.59 cm (6.53 inch) Full HD+ Display\\n48MP +   8MP + 8MP + 2MP + 2M   \n",
       "7     Expandable Upto 256 GB\\n16.56 cm (6.52 inch   inch) HD+ Display\\n1   \n",
       "8     Expandable Upto 256 GB\\n16.56 cm (6.52 inch   inch) HD+ Display\\n1   \n",
       "9    | Expandable Upto 512 GB\\n17.27 cm (6.8 inch    inch) Full HD Displ   \n",
       "10    Expandable Upto 256 GB\\n16.56 cm (6.52 inch   inch) HD+ Display\\n1   \n",
       "11   | Expandable Upto 1 TB\\n17.02 cm (6.7 inch)    nch) Full HD+ Displa   \n",
       "12    | Expandable Upto 32 GB\\n6.1 cm (2.4 inch)   nch) QVGA Display\\n11   \n",
       "13   16.59 cm (6.53 inch) Full HD+ Display\\n48MP    48MP + 8MP + 2MP + 2   \n",
       "14   16.94 cm (6.67 inch) Display\\n48MP Rear Came   Camera\\n5020 mAh Bat   \n",
       "15   16.94 cm (6.67 inch) Display\\n64MP Rear Came   Camera\\n5020 mAh Bat   \n",
       "16   6.59 cm (6.53 inch) Full HD+ Display\\n13MP R  3MP Rear Camera\\n5000   \n",
       "17   6.59 cm (6.53 inch) Full HD+ Display\\n13MP R  3MP Rear Camera\\n5000   \n",
       "18   | Expandable Upto 512 GB\\n16.26 cm (6.4 inch    inch) Full HD+ Disp   \n",
       "19  1 cm (2.4 inch) Display\\n2MP Rear Camera\\n120    a\\n1200 mAh Battery   \n",
       "20   6.94 cm (6.67 inch) Display\\n48MP Rear Camer  Camera\\n5018 mAh Batt   \n",
       "21    Expandable Upto 256 GB\\n16.56 cm (6.52 inch   inch) HD+ Display\\n1   \n",
       "22   6.51 cm (6.5 inch) Display\\n13MP Rear Camera  amera\\n5000 mAh Batte   \n",
       "23    Expandable Upto 32 GB\\n12.7 cm (5 inch) HD   ) HD Display\\n5MP Rea   \n",
       "\n",
       "         Front Camera        Battery                    Color Available  \\\n",
       "0    8MP Front Camera   3140 mAh Bat    Just Black\\nBrowse Type\\nSmartp   \n",
       "1   y\\n50MP + 8MP + 2   P + 2MP | 8M   10 Prime\\nColor\\nAstral White\\nB   \n",
       "2     | 8MP Front Cam  ra\\n6000 mAh   me\\n9 Power\\nColor\\nFiery Red\\nBr   \n",
       "3     | 8MP Front Cam  ra\\n6000 mAh    9 Power\\nColor\\nMighty Black\\nBr   \n",
       "4   ra\\n5000 mAh Batt  ry\\nMediaTek   Name\\nRedmi 9\\nColor\\nSky Blue\\nB   \n",
       "5    P | 8MP Front Ca  era\\n6000 mAh   9 Power\\nColor\\nMighty Black\\nBr   \n",
       "6     | 8MP Front Cam  ra\\n6000 mAh    Power\\nColor\\nElectric Green\\nBr   \n",
       "7    MP Rear Camera |   8MP Front Ca  \\nSpark 7\\nColor\\nSpruce Green\\nB   \n",
       "8    MP Rear Camera |   8MP Front Ca  \\nSpark 7\\nColor\\nMagnet Black\\nB   \n",
       "9   y\\n64MP + 2MP + 2   P | 16MP Fro   Camon 17\\nColor\\nFrost Silver\\nB   \n",
       "10   MP Rear Camera |   8MP Front Ca   go 2021\\nColor\\nMaldives Blue\\nB   \n",
       "11  \\n64MP + 12MP + 5   P | 32MP Fro   laxy M52 5G\\nColor\\nIcy Blue\\nBr   \n",
       "12  0 mAh Battery\\nUn   soc Processo   215 4G DS 2020\\nColor\\nCyan\\nBro   \n",
       "13   P | 8MP Front Ca  era\\n6000 mAh  me\\n9 Power\\nColor\\nFiery Red\\nBr   \n",
       "14                ery                  0 LITE\\nColor\\nGlacier White\\nBr   \n",
       "15                ery                  ote 10 Pro\\nColor\\nDark Night\\nB   \n",
       "16        mAh Battery                 ame\\nRedmi 9A\\nColor\\nSeaBlue\\nBr   \n",
       "17        mAh Battery                  edmi 9A\\nColor\\nNature Green\\nBr   \n",
       "18  ay\\n64MP + 8MP +    MP + 5MP | 3   Galaxy M31\\nColor\\nOcean Blue\\nB   \n",
       "19                                    el Name\\nit5026\\nColor\\nBlue\\nBro   \n",
       "20                 ry                  0 lite\\nColor\\nGlacier White\\nBr   \n",
       "21   MP Rear Camera |   8MP Front Ca   Spark 8\\nColor\\nAtlantic Blue\\nB   \n",
       "22                  y                 del Name\\nZ6\\nColor\\nAQUA BLUE\\nB   \n",
       "23    Camera | 2MP Fr  nt Camera\\n30  me\\nA25\\nColor\\nGradation Blue\\nB   \n",
       "\n",
       "                                          Product URL  \n",
       "0   https://www.flipkart.com/google-pixel-4a-just-...  \n",
       "1   https://www.flipkart.com/redmi-10-prime-astral...  \n",
       "2   https://www.flipkart.com/redmi-9-power-fiery-r...  \n",
       "3   https://www.flipkart.com/redmi-9-power-mighty-...  \n",
       "4   https://www.flipkart.com/redmi-9-sky-blue-64-g...  \n",
       "5   https://www.flipkart.com/redmi-9-power-mighty-...  \n",
       "6   https://www.flipkart.com/redmi-9-power-electri...  \n",
       "7   https://www.flipkart.com/tecno-spark-7-spruce-...  \n",
       "8   https://www.flipkart.com/tecno-spark-7-magnet-...  \n",
       "9   https://www.flipkart.com/tecno-camon-17-frost-...  \n",
       "10  https://www.flipkart.com/tecno-spark-go-2021-m...  \n",
       "11  https://www.flipkart.com/samsung-galaxy-m52-5g...  \n",
       "12  https://www.flipkart.com/nokia-215-4g-ds-2020/...  \n",
       "13  https://www.flipkart.com/redmi-9-power-fiery-r...  \n",
       "14  https://www.flipkart.com/redmi-note-10-lite-gl...  \n",
       "15  https://www.flipkart.com/redmi-note-10-pro-dar...  \n",
       "16  https://www.flipkart.com/redmi-9a-seablue-32-g...  \n",
       "17  https://www.flipkart.com/redmi-9a-nature-green...  \n",
       "18  https://www.flipkart.com/samsung-galaxy-m31-oc...  \n",
       "19  https://www.flipkart.com/itel-it5026/p/itm2d63...  \n",
       "20  https://www.flipkart.com/redmi-note-10-lite-gl...  \n",
       "21  https://www.flipkart.com/tecno-spark-8-atlanti...  \n",
       "22  https://www.flipkart.com/lava-z6-aqua-blue-64-...  \n",
       "23  https://www.flipkart.com/itel-a25-gradation-bl...  "
      ]
     },
     "execution_count": 102,
     "metadata": {},
     "output_type": "execute_result"
    }
   ],
   "source": [
    "phones"
   ]
  },
  {
   "cell_type": "markdown",
   "id": "5d449f9e",
   "metadata": {},
   "source": [
    "Ans 5. - Python program to scrape the data of latitude and longitude from google map webpage using exception handling."
   ]
  },
  {
   "cell_type": "code",
   "execution_count": 3,
   "id": "0f929ac9",
   "metadata": {},
   "outputs": [],
   "source": [
    "driver.get('https://www.google.com/maps/@28.6457856,77.1063808,12z')"
   ]
  },
  {
   "cell_type": "code",
   "execution_count": 4,
   "id": "5a1d1efd",
   "metadata": {},
   "outputs": [],
   "source": [
    "se = driver.find_element_by_xpath(\"//input[@class= 'tactile-searchbox-input']\")"
   ]
  },
  {
   "cell_type": "code",
   "execution_count": 5,
   "id": "adc9d98c",
   "metadata": {},
   "outputs": [],
   "source": [
    "se.send_keys('New Delhi')"
   ]
  },
  {
   "cell_type": "code",
   "execution_count": 6,
   "id": "d2d4ed78",
   "metadata": {},
   "outputs": [],
   "source": [
    "se_btn = driver.find_element_by_xpath(\"//button[@class= 'nhb85d-BIqFsb']\")"
   ]
  },
  {
   "cell_type": "code",
   "execution_count": 7,
   "id": "24b9f975",
   "metadata": {},
   "outputs": [],
   "source": [
    "se_btn.click()"
   ]
  },
  {
   "cell_type": "code",
   "execution_count": 26,
   "id": "e54b87bd",
   "metadata": {},
   "outputs": [],
   "source": [
    "url = driver.current_url"
   ]
  },
  {
   "cell_type": "code",
   "execution_count": 33,
   "id": "4449a97d",
   "metadata": {},
   "outputs": [
    {
     "data": {
      "text/plain": [
       "'https://www.google.com/maps/place/New+Delhi,+Delhi/@28.5272803,77.0688997,11z/data=!3m1!4b1!4m5!3m4!1s0x390cfd5b347eb62d:0x52c2b7494e204dce!8m2!3d28.6139391!4d77.20902'"
      ]
     },
     "execution_count": 33,
     "metadata": {},
     "output_type": "execute_result"
    }
   ],
   "source": [
    "url"
   ]
  },
  {
   "cell_type": "code",
   "execution_count": 37,
   "id": "9ff6514d",
   "metadata": {},
   "outputs": [],
   "source": [
    "a = url[52:73]"
   ]
  },
  {
   "cell_type": "code",
   "execution_count": 38,
   "id": "95070cf1",
   "metadata": {},
   "outputs": [],
   "source": [
    "b = a[:10]"
   ]
  },
  {
   "cell_type": "code",
   "execution_count": 46,
   "id": "bf03facb",
   "metadata": {},
   "outputs": [
    {
     "data": {
      "text/plain": [
       "'28.5272803'"
      ]
     },
     "execution_count": 46,
     "metadata": {},
     "output_type": "execute_result"
    }
   ],
   "source": [
    "b = str(b)\n",
    "b"
   ]
  },
  {
   "cell_type": "code",
   "execution_count": 40,
   "id": "5a765d77",
   "metadata": {},
   "outputs": [],
   "source": [
    "c = a[11:]"
   ]
  },
  {
   "cell_type": "code",
   "execution_count": 47,
   "id": "c54405e3",
   "metadata": {},
   "outputs": [
    {
     "data": {
      "text/plain": [
       "'77.0688997'"
      ]
     },
     "execution_count": 47,
     "metadata": {},
     "output_type": "execute_result"
    }
   ],
   "source": [
    "c = str(c)\n",
    "c"
   ]
  },
  {
   "cell_type": "code",
   "execution_count": 50,
   "id": "0b958fe3",
   "metadata": {},
   "outputs": [],
   "source": [
    "b = pd.DataFrame({'Latitude': [b], 'Longitude': [c]})"
   ]
  },
  {
   "cell_type": "code",
   "execution_count": 51,
   "id": "2f9e56e3",
   "metadata": {},
   "outputs": [
    {
     "data": {
      "text/html": [
       "<div>\n",
       "<style scoped>\n",
       "    .dataframe tbody tr th:only-of-type {\n",
       "        vertical-align: middle;\n",
       "    }\n",
       "\n",
       "    .dataframe tbody tr th {\n",
       "        vertical-align: top;\n",
       "    }\n",
       "\n",
       "    .dataframe thead th {\n",
       "        text-align: right;\n",
       "    }\n",
       "</style>\n",
       "<table border=\"1\" class=\"dataframe\">\n",
       "  <thead>\n",
       "    <tr style=\"text-align: right;\">\n",
       "      <th></th>\n",
       "      <th>Latitude</th>\n",
       "      <th>Longitude</th>\n",
       "    </tr>\n",
       "  </thead>\n",
       "  <tbody>\n",
       "    <tr>\n",
       "      <th>0</th>\n",
       "      <td>28.5272803</td>\n",
       "      <td>77.0688997</td>\n",
       "    </tr>\n",
       "  </tbody>\n",
       "</table>\n",
       "</div>"
      ],
      "text/plain": [
       "     Latitude   Longitude\n",
       "0  28.5272803  77.0688997"
      ]
     },
     "execution_count": 51,
     "metadata": {},
     "output_type": "execute_result"
    }
   ],
   "source": [
    "b"
   ]
  },
  {
   "cell_type": "markdown",
   "id": "169f7bc3",
   "metadata": {},
   "source": [
    "Ans 6. - Python program to scrape the data of funding deals from trak.in webpage using exception handling."
   ]
  },
  {
   "cell_type": "code",
   "execution_count": 3,
   "id": "dd1d9c6b",
   "metadata": {},
   "outputs": [],
   "source": [
    "driver.get('https://trak.in/india-startup-funding-investment-2015/')"
   ]
  },
  {
   "cell_type": "code",
   "execution_count": 44,
   "id": "1e541007",
   "metadata": {},
   "outputs": [],
   "source": [
    "dates = []\n",
    "da = driver.find_elements_by_xpath(\"//td[@class= 'column-2']\")\n",
    "for i in da:\n",
    "    dates.append(i.text)"
   ]
  },
  {
   "cell_type": "code",
   "execution_count": 46,
   "id": "30863244",
   "metadata": {},
   "outputs": [
    {
     "data": {
      "text/plain": [
       "392"
      ]
     },
     "execution_count": 46,
     "metadata": {},
     "output_type": "execute_result"
    }
   ],
   "source": [
    "len(dates)"
   ]
  },
  {
   "cell_type": "code",
   "execution_count": 47,
   "id": "d0e98c9e",
   "metadata": {},
   "outputs": [],
   "source": [
    "s_name = []\n",
    "na = driver.find_elements_by_xpath(\"//td[@class= 'column-3']\")\n",
    "for i in na:\n",
    "    s_name.append(i.text)"
   ]
  },
  {
   "cell_type": "code",
   "execution_count": 49,
   "id": "801022ad",
   "metadata": {},
   "outputs": [
    {
     "data": {
      "text/plain": [
       "392"
      ]
     },
     "execution_count": 49,
     "metadata": {},
     "output_type": "execute_result"
    }
   ],
   "source": [
    "len(s_name)"
   ]
  },
  {
   "cell_type": "code",
   "execution_count": 51,
   "id": "989d71a4",
   "metadata": {},
   "outputs": [],
   "source": [
    "i_type = []\n",
    "j = driver.find_elements_by_xpath(\"//td[@class= 'column-4']\")\n",
    "for i in j:\n",
    "    i_type.append(i.text)"
   ]
  },
  {
   "cell_type": "code",
   "execution_count": 53,
   "id": "e39f8457",
   "metadata": {},
   "outputs": [
    {
     "data": {
      "text/plain": [
       "392"
      ]
     },
     "execution_count": 53,
     "metadata": {},
     "output_type": "execute_result"
    }
   ],
   "source": [
    "len(i_type)"
   ]
  },
  {
   "cell_type": "code",
   "execution_count": 54,
   "id": "5556b5c7",
   "metadata": {},
   "outputs": [],
   "source": [
    "sub_type = []\n",
    "sub = driver.find_elements_by_xpath(\"//td[@class= 'column-5']\")\n",
    "for i in sub:\n",
    "    sub_type.append(i.text)"
   ]
  },
  {
   "cell_type": "code",
   "execution_count": 56,
   "id": "c697f0ea",
   "metadata": {},
   "outputs": [
    {
     "data": {
      "text/plain": [
       "392"
      ]
     },
     "execution_count": 56,
     "metadata": {},
     "output_type": "execute_result"
    }
   ],
   "source": [
    "len(sub_type)"
   ]
  },
  {
   "cell_type": "code",
   "execution_count": 57,
   "id": "a20b7492",
   "metadata": {},
   "outputs": [],
   "source": [
    "cities = []\n",
    "city = driver.find_elements_by_xpath(\"//td[@class= 'column-6']\")\n",
    "for i in city:\n",
    "    cities.append(i.text)"
   ]
  },
  {
   "cell_type": "code",
   "execution_count": 59,
   "id": "05a9d644",
   "metadata": {},
   "outputs": [
    {
     "data": {
      "text/plain": [
       "392"
      ]
     },
     "execution_count": 59,
     "metadata": {},
     "output_type": "execute_result"
    }
   ],
   "source": [
    "len(cities)"
   ]
  },
  {
   "cell_type": "code",
   "execution_count": 60,
   "id": "35365281",
   "metadata": {},
   "outputs": [],
   "source": [
    "investors = []\n",
    "inv = driver.find_elements_by_xpath(\"//td[@class= 'column-7']\")\n",
    "for i in inv:\n",
    "    investors.append(i.text)"
   ]
  },
  {
   "cell_type": "code",
   "execution_count": 62,
   "id": "946ab69f",
   "metadata": {},
   "outputs": [
    {
     "data": {
      "text/plain": [
       "392"
      ]
     },
     "execution_count": 62,
     "metadata": {},
     "output_type": "execute_result"
    }
   ],
   "source": [
    "len(investors)"
   ]
  },
  {
   "cell_type": "code",
   "execution_count": 63,
   "id": "b0319140",
   "metadata": {},
   "outputs": [],
   "source": [
    "funds = []\n",
    "fund = driver.find_elements_by_xpath(\"//td[@class= 'column-8']\")\n",
    "for i in fund:\n",
    "    funds.append(i.text)"
   ]
  },
  {
   "cell_type": "code",
   "execution_count": 65,
   "id": "aba6164a",
   "metadata": {},
   "outputs": [
    {
     "data": {
      "text/plain": [
       "392"
      ]
     },
     "execution_count": 65,
     "metadata": {},
     "output_type": "execute_result"
    }
   ],
   "source": [
    "len(funds)"
   ]
  },
  {
   "cell_type": "code",
   "execution_count": 66,
   "id": "dfa0a630",
   "metadata": {},
   "outputs": [],
   "source": [
    "amounts = []\n",
    "a = driver.find_elements_by_xpath(\"//td[@class= 'column-9']\")\n",
    "for i in a:\n",
    "    amounts.append(i.text)"
   ]
  },
  {
   "cell_type": "code",
   "execution_count": 68,
   "id": "cbe2fbf6",
   "metadata": {},
   "outputs": [
    {
     "data": {
      "text/plain": [
       "392"
      ]
     },
     "execution_count": 68,
     "metadata": {},
     "output_type": "execute_result"
    }
   ],
   "source": [
    "len(amounts)"
   ]
  },
  {
   "cell_type": "code",
   "execution_count": 69,
   "id": "86ff023f",
   "metadata": {},
   "outputs": [],
   "source": [
    "fundings = pd.DataFrame({'Funding Date': dates, 'Startup Name': s_name, 'Industry Type': i_type, 'Industry Sub-Type': sub_type,\n",
    "                       'Location': cities, 'Investors Name': investors, 'Funding Type': funds, 'Amount in USD': amounts})"
   ]
  },
  {
   "cell_type": "code",
   "execution_count": 71,
   "id": "91371382",
   "metadata": {},
   "outputs": [],
   "source": [
    "fundings = fundings.iloc[5:29, :]"
   ]
  },
  {
   "cell_type": "code",
   "execution_count": 73,
   "id": "dae8365e",
   "metadata": {},
   "outputs": [],
   "source": [
    "fundings = fundings.reset_index()"
   ]
  },
  {
   "cell_type": "code",
   "execution_count": 75,
   "id": "f5a3e1d7",
   "metadata": {},
   "outputs": [],
   "source": [
    "fundings.drop(['index'], axis= 1, inplace= True)"
   ]
  },
  {
   "cell_type": "code",
   "execution_count": 76,
   "id": "694acf25",
   "metadata": {},
   "outputs": [
    {
     "data": {
      "text/html": [
       "<div>\n",
       "<style scoped>\n",
       "    .dataframe tbody tr th:only-of-type {\n",
       "        vertical-align: middle;\n",
       "    }\n",
       "\n",
       "    .dataframe tbody tr th {\n",
       "        vertical-align: top;\n",
       "    }\n",
       "\n",
       "    .dataframe thead th {\n",
       "        text-align: right;\n",
       "    }\n",
       "</style>\n",
       "<table border=\"1\" class=\"dataframe\">\n",
       "  <thead>\n",
       "    <tr style=\"text-align: right;\">\n",
       "      <th></th>\n",
       "      <th>Funding Date</th>\n",
       "      <th>Startup Name</th>\n",
       "      <th>Industry Type</th>\n",
       "      <th>Industry Sub-Type</th>\n",
       "      <th>Location</th>\n",
       "      <th>Investors Name</th>\n",
       "      <th>Funding Type</th>\n",
       "      <th>Amount in USD</th>\n",
       "    </tr>\n",
       "  </thead>\n",
       "  <tbody>\n",
       "    <tr>\n",
       "      <th>0</th>\n",
       "      <td>04/03/2021</td>\n",
       "      <td>DealShare</td>\n",
       "      <td>E-commerce</td>\n",
       "      <td>Online shopping platform</td>\n",
       "      <td>Jaipur, Rajasthan</td>\n",
       "      <td>Innoven Capital</td>\n",
       "      <td>Debt Financing</td>\n",
       "      <td>250,000,000</td>\n",
       "    </tr>\n",
       "    <tr>\n",
       "      <th>1</th>\n",
       "      <td>31/03/2021</td>\n",
       "      <td>Uniphore</td>\n",
       "      <td>Technology</td>\n",
       "      <td>Conversational Service Automation (CSA)</td>\n",
       "      <td>Palo Alto</td>\n",
       "      <td>Sorenson Capital Partners</td>\n",
       "      <td>Series D</td>\n",
       "      <td>140,000,000</td>\n",
       "    </tr>\n",
       "    <tr>\n",
       "      <th>2</th>\n",
       "      <td>30/03/2021</td>\n",
       "      <td>Dunzo</td>\n",
       "      <td>E-commerce</td>\n",
       "      <td>Hyper-local delivery app</td>\n",
       "      <td>Bengaluru</td>\n",
       "      <td>Krishtal Advisors Pte Ltd</td>\n",
       "      <td>Series E</td>\n",
       "      <td>8,000,000</td>\n",
       "    </tr>\n",
       "    <tr>\n",
       "      <th>3</th>\n",
       "      <td>30/03/2021</td>\n",
       "      <td>BYJU’S</td>\n",
       "      <td>Edu-tech</td>\n",
       "      <td>Online tutoring</td>\n",
       "      <td>Bengaluru</td>\n",
       "      <td>MC Global Edtech, B Capital, Baron, others</td>\n",
       "      <td>Series F</td>\n",
       "      <td>460,000,000</td>\n",
       "    </tr>\n",
       "    <tr>\n",
       "      <th>4</th>\n",
       "      <td>23/03/2021</td>\n",
       "      <td>SkilloVilla</td>\n",
       "      <td>Edu-tech</td>\n",
       "      <td>Career and job-oriented upskilling.</td>\n",
       "      <td>Bengaluru</td>\n",
       "      <td>Titan Capital, others</td>\n",
       "      <td>Seed</td>\n",
       "      <td>300,000,000</td>\n",
       "    </tr>\n",
       "    <tr>\n",
       "      <th>5</th>\n",
       "      <td>25/03/2021</td>\n",
       "      <td>CityMall</td>\n",
       "      <td>E-commerce</td>\n",
       "      <td>Social ecommerce and online grocery platform</td>\n",
       "      <td>Gurgaon</td>\n",
       "      <td>Accel Partners</td>\n",
       "      <td>Series A</td>\n",
       "      <td>11,000,000</td>\n",
       "    </tr>\n",
       "    <tr>\n",
       "      <th>6</th>\n",
       "      <td>26/03/2021</td>\n",
       "      <td>DotPe</td>\n",
       "      <td>FinTech</td>\n",
       "      <td>Commerce and payments platform to offline ente...</td>\n",
       "      <td>Gurgaon</td>\n",
       "      <td>PayU</td>\n",
       "      <td>Series A</td>\n",
       "      <td>27,500,000</td>\n",
       "    </tr>\n",
       "    <tr>\n",
       "      <th>7</th>\n",
       "      <td>11/02/2021</td>\n",
       "      <td>Doubtnut</td>\n",
       "      <td>Edu Tech</td>\n",
       "      <td>E-Learning Platform</td>\n",
       "      <td>Gurgaon</td>\n",
       "      <td>SIG Global, Sequoia Capital, WaterBridge Ventu...</td>\n",
       "      <td>Series B</td>\n",
       "      <td>2,500,000</td>\n",
       "    </tr>\n",
       "    <tr>\n",
       "      <th>8</th>\n",
       "      <td>22/02/2021</td>\n",
       "      <td>Zomato</td>\n",
       "      <td>Hospitality</td>\n",
       "      <td>Online Food Delivery Platform</td>\n",
       "      <td>Gurgaon</td>\n",
       "      <td>Tiger Global, Kora</td>\n",
       "      <td>Venture</td>\n",
       "      <td>250,000,000</td>\n",
       "    </tr>\n",
       "    <tr>\n",
       "      <th>9</th>\n",
       "      <td>19/02/2021</td>\n",
       "      <td>Fingerlix</td>\n",
       "      <td>Hospitality</td>\n",
       "      <td>Semi-cooked food delivery app</td>\n",
       "      <td>Mumbai</td>\n",
       "      <td>Rhodium Trust, Accel Partners and Swiggy</td>\n",
       "      <td>Series C</td>\n",
       "      <td>2,747,045.20</td>\n",
       "    </tr>\n",
       "    <tr>\n",
       "      <th>10</th>\n",
       "      <td>17/02/2021</td>\n",
       "      <td>Zolve</td>\n",
       "      <td>FinTech</td>\n",
       "      <td>Global Neobank Venture</td>\n",
       "      <td>Mumbai</td>\n",
       "      <td>Accel Partners and Lightspeed Venture Partners</td>\n",
       "      <td>Seed</td>\n",
       "      <td>1,50,00,000</td>\n",
       "    </tr>\n",
       "    <tr>\n",
       "      <th>11</th>\n",
       "      <td>15/02/2021</td>\n",
       "      <td>KreditBee</td>\n",
       "      <td>Finance</td>\n",
       "      <td>Digital lending platform</td>\n",
       "      <td>Bengaluru</td>\n",
       "      <td>Azim Premji’s PremjiInvest and South Korea’s M...</td>\n",
       "      <td>Series C</td>\n",
       "      <td>75,000,000</td>\n",
       "    </tr>\n",
       "    <tr>\n",
       "      <th>12</th>\n",
       "      <td>12/02/2021</td>\n",
       "      <td>Pepperfry</td>\n",
       "      <td>E-commerce</td>\n",
       "      <td>Multi-brand furniture brand</td>\n",
       "      <td>Mumbai</td>\n",
       "      <td>InnoVen Capital</td>\n",
       "      <td>Debt Financing</td>\n",
       "      <td>4,773,958</td>\n",
       "    </tr>\n",
       "    <tr>\n",
       "      <th>13</th>\n",
       "      <td>12/02/2021</td>\n",
       "      <td>Grofers</td>\n",
       "      <td>E-Commerce</td>\n",
       "      <td>Online supermarket</td>\n",
       "      <td>Gurgaon</td>\n",
       "      <td>SoftBank Vision Fund (SVF)</td>\n",
       "      <td>Unspecified</td>\n",
       "      <td>55,000,000</td>\n",
       "    </tr>\n",
       "    <tr>\n",
       "      <th>14</th>\n",
       "      <td>09/02/2021</td>\n",
       "      <td>Nothing</td>\n",
       "      <td>Technology</td>\n",
       "      <td>Consumer Technology Venture</td>\n",
       "      <td>London</td>\n",
       "      <td>GV</td>\n",
       "      <td>Series A</td>\n",
       "      <td>15,000,000</td>\n",
       "    </tr>\n",
       "    <tr>\n",
       "      <th>15</th>\n",
       "      <td>09/02/2021</td>\n",
       "      <td>SplashLearn</td>\n",
       "      <td>EdTech</td>\n",
       "      <td>Game-based learning programme</td>\n",
       "      <td>Gurgaon</td>\n",
       "      <td>Owl Ventures</td>\n",
       "      <td>Series C</td>\n",
       "      <td>18,000,000</td>\n",
       "    </tr>\n",
       "    <tr>\n",
       "      <th>16</th>\n",
       "      <td>15/01/2021</td>\n",
       "      <td>Digit Insurance</td>\n",
       "      <td>Financial Services</td>\n",
       "      <td>Insurance Services</td>\n",
       "      <td>Bengaluru</td>\n",
       "      <td>A91 Partners, Faering Capital, TVS Capital Funds</td>\n",
       "      <td>Venture</td>\n",
       "      <td>1,80,00,000</td>\n",
       "    </tr>\n",
       "    <tr>\n",
       "      <th>17</th>\n",
       "      <td>28/01/2021</td>\n",
       "      <td>Bombay Shaving Company</td>\n",
       "      <td>Consumer Goods Company</td>\n",
       "      <td>Shave care, beard care, and skincare products</td>\n",
       "      <td>New Delhi</td>\n",
       "      <td>Reckitt Benckiser</td>\n",
       "      <td>Venture</td>\n",
       "      <td>6,172,258.50</td>\n",
       "    </tr>\n",
       "    <tr>\n",
       "      <th>18</th>\n",
       "      <td>19/01/2021</td>\n",
       "      <td>DeHaat</td>\n",
       "      <td>AgriTech Startup</td>\n",
       "      <td>online marketplace for farm products and services</td>\n",
       "      <td>Patna</td>\n",
       "      <td>Prosus Ventures</td>\n",
       "      <td>Series C</td>\n",
       "      <td>30,000,000</td>\n",
       "    </tr>\n",
       "    <tr>\n",
       "      <th>19</th>\n",
       "      <td>19/01/2021</td>\n",
       "      <td>Darwinbox</td>\n",
       "      <td>SaaS</td>\n",
       "      <td>HR Tech</td>\n",
       "      <td>Mumbai</td>\n",
       "      <td>Salesforce Ventures</td>\n",
       "      <td>Seed</td>\n",
       "      <td>15,000,000</td>\n",
       "    </tr>\n",
       "    <tr>\n",
       "      <th>20</th>\n",
       "      <td>18/01/2021</td>\n",
       "      <td>mfine</td>\n",
       "      <td>Health Tech Startup</td>\n",
       "      <td>AI-powered telemedicine mobile app</td>\n",
       "      <td>Bengaluru</td>\n",
       "      <td>Heritas Capital Management</td>\n",
       "      <td>Venture Round</td>\n",
       "      <td>16,000,000</td>\n",
       "    </tr>\n",
       "    <tr>\n",
       "      <th>21</th>\n",
       "      <td>18/01/2021</td>\n",
       "      <td>Udayy</td>\n",
       "      <td>EdTech</td>\n",
       "      <td>Online learning platform for kids in class 1-5</td>\n",
       "      <td>Gurgaon</td>\n",
       "      <td>Sequoia Capital</td>\n",
       "      <td>Seed Funding</td>\n",
       "      <td>15,000,000</td>\n",
       "    </tr>\n",
       "    <tr>\n",
       "      <th>22</th>\n",
       "      <td>11/01/2021</td>\n",
       "      <td>True Elements</td>\n",
       "      <td>Food Startup</td>\n",
       "      <td>Whole Food plant based Nashta</td>\n",
       "      <td>Pune</td>\n",
       "      <td>SIDBI Venture Capital</td>\n",
       "      <td>Series</td>\n",
       "      <td>100,000,000</td>\n",
       "    </tr>\n",
       "    <tr>\n",
       "      <th>23</th>\n",
       "      <td>13/01/2021</td>\n",
       "      <td>Saveo</td>\n",
       "      <td>B2B E-commerce</td>\n",
       "      <td>Pharmacies</td>\n",
       "      <td>Bengaluru</td>\n",
       "      <td>Matrix Partners India, RTP Global, others</td>\n",
       "      <td>Seed</td>\n",
       "      <td>4,000,000</td>\n",
       "    </tr>\n",
       "  </tbody>\n",
       "</table>\n",
       "</div>"
      ],
      "text/plain": [
       "   Funding Date            Startup Name           Industry Type  \\\n",
       "0    04/03/2021               DealShare              E-commerce   \n",
       "1    31/03/2021                Uniphore              Technology   \n",
       "2    30/03/2021                   Dunzo              E-commerce   \n",
       "3    30/03/2021                  BYJU’S                Edu-tech   \n",
       "4    23/03/2021             SkilloVilla                Edu-tech   \n",
       "5    25/03/2021                CityMall              E-commerce   \n",
       "6    26/03/2021                   DotPe                 FinTech   \n",
       "7    11/02/2021                Doubtnut                Edu Tech   \n",
       "8    22/02/2021                  Zomato             Hospitality   \n",
       "9    19/02/2021               Fingerlix             Hospitality   \n",
       "10   17/02/2021                   Zolve                 FinTech   \n",
       "11   15/02/2021               KreditBee                 Finance   \n",
       "12   12/02/2021               Pepperfry              E-commerce   \n",
       "13   12/02/2021                 Grofers              E-Commerce   \n",
       "14   09/02/2021                 Nothing              Technology   \n",
       "15   09/02/2021             SplashLearn                  EdTech   \n",
       "16   15/01/2021         Digit Insurance      Financial Services   \n",
       "17   28/01/2021  Bombay Shaving Company  Consumer Goods Company   \n",
       "18   19/01/2021                  DeHaat        AgriTech Startup   \n",
       "19   19/01/2021               Darwinbox                    SaaS   \n",
       "20   18/01/2021                   mfine     Health Tech Startup   \n",
       "21   18/01/2021                   Udayy                  EdTech   \n",
       "22   11/01/2021           True Elements            Food Startup   \n",
       "23   13/01/2021                   Saveo          B2B E-commerce   \n",
       "\n",
       "                                    Industry Sub-Type           Location  \\\n",
       "0                            Online shopping platform  Jaipur, Rajasthan   \n",
       "1             Conversational Service Automation (CSA)          Palo Alto   \n",
       "2                            Hyper-local delivery app          Bengaluru   \n",
       "3                                     Online tutoring          Bengaluru   \n",
       "4                 Career and job-oriented upskilling.          Bengaluru   \n",
       "5        Social ecommerce and online grocery platform            Gurgaon   \n",
       "6   Commerce and payments platform to offline ente...            Gurgaon   \n",
       "7                                 E-Learning Platform            Gurgaon   \n",
       "8                       Online Food Delivery Platform            Gurgaon   \n",
       "9                       Semi-cooked food delivery app             Mumbai   \n",
       "10                             Global Neobank Venture             Mumbai   \n",
       "11                           Digital lending platform          Bengaluru   \n",
       "12                        Multi-brand furniture brand             Mumbai   \n",
       "13                                 Online supermarket            Gurgaon   \n",
       "14                        Consumer Technology Venture             London   \n",
       "15                      Game-based learning programme            Gurgaon   \n",
       "16                                 Insurance Services          Bengaluru   \n",
       "17      Shave care, beard care, and skincare products          New Delhi   \n",
       "18  online marketplace for farm products and services              Patna   \n",
       "19                                            HR Tech             Mumbai   \n",
       "20                 AI-powered telemedicine mobile app          Bengaluru   \n",
       "21     Online learning platform for kids in class 1-5            Gurgaon   \n",
       "22                      Whole Food plant based Nashta               Pune   \n",
       "23                                         Pharmacies          Bengaluru   \n",
       "\n",
       "                                       Investors Name    Funding Type  \\\n",
       "0                                     Innoven Capital  Debt Financing   \n",
       "1                           Sorenson Capital Partners        Series D   \n",
       "2                           Krishtal Advisors Pte Ltd        Series E   \n",
       "3          MC Global Edtech, B Capital, Baron, others        Series F   \n",
       "4                               Titan Capital, others            Seed   \n",
       "5                                      Accel Partners        Series A   \n",
       "6                                                PayU        Series A   \n",
       "7   SIG Global, Sequoia Capital, WaterBridge Ventu...        Series B   \n",
       "8                                  Tiger Global, Kora         Venture   \n",
       "9            Rhodium Trust, Accel Partners and Swiggy        Series C   \n",
       "10     Accel Partners and Lightspeed Venture Partners            Seed   \n",
       "11  Azim Premji’s PremjiInvest and South Korea’s M...        Series C   \n",
       "12                                    InnoVen Capital  Debt Financing   \n",
       "13                         SoftBank Vision Fund (SVF)     Unspecified   \n",
       "14                                                 GV        Series A   \n",
       "15                                       Owl Ventures        Series C   \n",
       "16   A91 Partners, Faering Capital, TVS Capital Funds         Venture   \n",
       "17                                  Reckitt Benckiser         Venture   \n",
       "18                                    Prosus Ventures        Series C   \n",
       "19                                Salesforce Ventures            Seed   \n",
       "20                         Heritas Capital Management   Venture Round   \n",
       "21                                    Sequoia Capital    Seed Funding   \n",
       "22                              SIDBI Venture Capital          Series   \n",
       "23          Matrix Partners India, RTP Global, others            Seed   \n",
       "\n",
       "   Amount in USD  \n",
       "0    250,000,000  \n",
       "1    140,000,000  \n",
       "2      8,000,000  \n",
       "3    460,000,000  \n",
       "4    300,000,000  \n",
       "5     11,000,000  \n",
       "6     27,500,000  \n",
       "7      2,500,000  \n",
       "8    250,000,000  \n",
       "9   2,747,045.20  \n",
       "10   1,50,00,000  \n",
       "11    75,000,000  \n",
       "12     4,773,958  \n",
       "13    55,000,000  \n",
       "14    15,000,000  \n",
       "15    18,000,000  \n",
       "16   1,80,00,000  \n",
       "17  6,172,258.50  \n",
       "18    30,000,000  \n",
       "19    15,000,000  \n",
       "20    16,000,000  \n",
       "21    15,000,000  \n",
       "22   100,000,000  \n",
       "23     4,000,000  "
      ]
     },
     "execution_count": 76,
     "metadata": {},
     "output_type": "execute_result"
    }
   ],
   "source": [
    "fundings"
   ]
  },
  {
   "cell_type": "markdown",
   "id": "f8e80a94",
   "metadata": {},
   "source": [
    "Ans 7. - Python program to scrape the best gaming laptop data from digit.in webpage using exception handling."
   ]
  },
  {
   "cell_type": "code",
   "execution_count": 77,
   "id": "ad32a9ce",
   "metadata": {},
   "outputs": [],
   "source": [
    "driver.get('https://www.digit.in/top-products/best-gaming-laptops-40.html')"
   ]
  },
  {
   "cell_type": "code",
   "execution_count": 78,
   "id": "4b9ad4ef",
   "metadata": {},
   "outputs": [],
   "source": [
    "url = []\n",
    "ur = driver.find_elements_by_xpath(\"//div[@class= 'TopNumbeHeading sticky-footer']/a\")\n",
    "for i in ur:\n",
    "    url.append(i.get_attribute('href'))"
   ]
  },
  {
   "cell_type": "code",
   "execution_count": 79,
   "id": "8713c75d",
   "metadata": {},
   "outputs": [
    {
     "data": {
      "text/plain": [
       "['https://www.digit.in/laptops/acer-nitro-5-ryzen-9-2021-price-245857.html',\n",
       " 'https://www.digit.in/laptops/asus-rog-strix-scar-15-ryzen-9-5900hx-2021-price-245899.html',\n",
       " 'https://www.digit.in/laptops/alienware-area-51m-r2-price-228193.html',\n",
       " 'https://www.digit.in/laptops/alienware-m15-r3-price-228207.html',\n",
       " 'https://www.digit.in/laptops/asus-rog-strix-scar-15-price-228221.html',\n",
       " 'https://www.digit.in/laptops/asus-rog-zephyrus-g14-price-209173.html',\n",
       " 'https://www.digit.in/laptops/lenovo-legion-5i-price-228235.html',\n",
       " 'https://www.digit.in/laptops/asus-rog-zephyrus-duo-15-price-215799.html',\n",
       " 'https://www.digit.in/laptops/acer-aspire-7-gaming-price-223781.html']"
      ]
     },
     "execution_count": 79,
     "metadata": {},
     "output_type": "execute_result"
    }
   ],
   "source": [
    "url"
   ]
  },
  {
   "cell_type": "code",
   "execution_count": 80,
   "id": "b6601532",
   "metadata": {},
   "outputs": [],
   "source": [
    "name = []\n",
    "status = []\n",
    "specs = []\n",
    "price = []\n",
    "for i in url:\n",
    "    driver.get(i)\n",
    "    time.sleep(2)\n",
    "    try:\n",
    "        na = driver.find_element_by_xpath(\"//div[@class= 'heading-wraper']/h1\")\n",
    "        name.append(na.text.replace(\"/n\",\"new line\"))\n",
    "    except:\n",
    "        name.append(\"-\")\n",
    "        \n",
    "    try:\n",
    "        st = driver.find_element_by_xpath(\"//strong[@class= 'red']\")\n",
    "        status.append(st.text.replace(\"/n\",\"new line\"))\n",
    "    except:\n",
    "        status.append(\"-\")\n",
    "        \n",
    "    try:\n",
    "        sp = driver.find_element_by_xpath(\"//div[@class= 'key_specifications  notspecs ']\")\n",
    "        specs.append(sp.text.replace(\"/n\",\"new line\"))\n",
    "    except:\n",
    "        specs.append(\"-\")\n",
    "        \n",
    "    try:\n",
    "        pr = driver.find_element_by_xpath(\"//div[@class= 'price']/strong\")\n",
    "        price.append(pr.text.replace(\"/n\",\"new line\"))\n",
    "    except:\n",
    "        price.append(\"-\")"
   ]
  },
  {
   "cell_type": "code",
   "execution_count": 81,
   "id": "52f9551a",
   "metadata": {},
   "outputs": [
    {
     "data": {
      "text/plain": [
       "['Acer NITRO 5 Ryzen 9 (2021)',\n",
       " 'ASUS ROG Strix Scar 15 Ryzen 9-5900HX (2021)',\n",
       " 'Alienware Area 51M R2',\n",
       " 'Alienware m15 R3',\n",
       " 'ASUS ROG Strix Scar 15',\n",
       " 'Asus ROG Zephyrus G14',\n",
       " 'Lenovo Legion 5i',\n",
       " 'Asus ROG Zephyrus Duo 15',\n",
       " 'Acer Aspire 7 Gaming']"
      ]
     },
     "execution_count": 81,
     "metadata": {},
     "output_type": "execute_result"
    }
   ],
   "source": [
    "name"
   ]
  },
  {
   "cell_type": "code",
   "execution_count": 82,
   "id": "c44672ec",
   "metadata": {},
   "outputs": [
    {
     "data": {
      "text/plain": [
       "['LAUNCHED',\n",
       " 'LAUNCHED',\n",
       " 'LAUNCHED',\n",
       " 'LAUNCHED',\n",
       " 'LAUNCHED',\n",
       " 'LAUNCHED',\n",
       " 'LAUNCHED',\n",
       " 'LAUNCHED',\n",
       " 'LAUNCHED']"
      ]
     },
     "execution_count": 82,
     "metadata": {},
     "output_type": "execute_result"
    }
   ],
   "source": [
    "status"
   ]
  },
  {
   "cell_type": "code",
   "execution_count": 90,
   "id": "cc96c6fe",
   "metadata": {},
   "outputs": [
    {
     "data": {
      "text/plain": [
       "['Key Specifications\\nOS\\nWindows 10\\nDisplay\\n15.6\" (1920 X 1080)\\nProcessor\\nAMD Ryzen 9 Octa Core | 2.4 GHz\\nMemory\\n1 TB HDD/16 GBGB DDR4',\n",
       " 'Key Specifications\\nOS\\nWindows 10\\nDisplay\\n15.6\" (2560 X 1440)\\nProcessor\\nAMD Ryzen 9 Octa Core - 5900HX | 3.3 GHz\\nMemory\\n2 TB SSD/32 GBGB DDR4',\n",
       " 'Key Specifications\\nOS\\nWindows 10 Home\\nDisplay\\n17.3\" (1920 X 1080)\\nProcessor\\n10th Gen Intel® Core™ I7-10700 | 2.90 GHz\\nMemory\\n1 TB SSD/16 GBGB DDR4',\n",
       " 'Key Specifications\\nOS\\nWindows 10 Home\\nDisplay\\n15.6\" (3840 X 2160)\\nProcessor\\n10th Gen Intel® Core™ I9-10980HK | NA\\nMemory\\n1 TB SSD/16 GBGB DDR4',\n",
       " 'Key Specifications\\nOS\\nWindows 10 Home\\nDisplay\\n15.6\" (1920 X 1080)\\nProcessor\\nAMD Ryzen™ 9 5900HX | 3.3 GHz\\nMemory\\n1 TB SSD/16 GBGB DDR4',\n",
       " 'Key Specifications\\nOS\\nWindows 10 Home\\nDisplay\\n14\" (1920 X 1080)\\nProcessor\\nAMD 3rd Gen Ryzen 9 | 3.3 GHz\\nMemory\\n1 TB SSD/16 GBGB DDR4',\n",
       " 'Key Specifications\\nOS\\nWindows 10 Pro\\nDisplay\\n15.6\" (1920 X 1080)\\nProcessor\\n10th Gen Intel® Core™ I5-10300H | 2.50 GHz\\nMemory\\n1 TB SSD/16 GBGB DDR4',\n",
       " 'Key Specifications\\nOS\\nWindows 10\\nDisplay\\n15.6\" (3840 X 1100)\\nProcessor\\nIntel Core I7 10th Gen 10875H | NA\\nMemory\\n512 GB SSD/4 GBGB DDR4',\n",
       " 'Key Specifications\\nOS\\nWindows 10 Home\\nDisplay\\n15.6\" (1920 X 1080)\\nProcessor\\nAMD Ryzen™ 5-5500U Hexa-Core | NA\\nMemory\\n512 GB SSD/8 GBGB DDR4']"
      ]
     },
     "execution_count": 90,
     "metadata": {},
     "output_type": "execute_result"
    }
   ],
   "source": [
    "specs"
   ]
  },
  {
   "cell_type": "code",
   "execution_count": 85,
   "id": "b887c34a",
   "metadata": {},
   "outputs": [
    {
     "data": {
      "text/plain": [
       "['₹ 129,990',\n",
       " '₹ 268,990',\n",
       " '₹ 342,989',\n",
       " '₹ 319,990',\n",
       " '₹ 215,990',\n",
       " '₹ 164,990',\n",
       " '₹ 76,988',\n",
       " '₹ 185,000',\n",
       " '₹ 57,500']"
      ]
     },
     "execution_count": 85,
     "metadata": {},
     "output_type": "execute_result"
    }
   ],
   "source": [
    "price"
   ]
  },
  {
   "cell_type": "code",
   "execution_count": 86,
   "id": "5d0fa638",
   "metadata": {},
   "outputs": [],
   "source": [
    "gaming = pd.DataFrame({'Laptop Name': name, 'Market Status': status, 'Specifications': specs, 'Market Price': price})"
   ]
  },
  {
   "cell_type": "code",
   "execution_count": 91,
   "id": "c4c7a8eb",
   "metadata": {},
   "outputs": [
    {
     "data": {
      "text/html": [
       "<div>\n",
       "<style scoped>\n",
       "    .dataframe tbody tr th:only-of-type {\n",
       "        vertical-align: middle;\n",
       "    }\n",
       "\n",
       "    .dataframe tbody tr th {\n",
       "        vertical-align: top;\n",
       "    }\n",
       "\n",
       "    .dataframe thead th {\n",
       "        text-align: right;\n",
       "    }\n",
       "</style>\n",
       "<table border=\"1\" class=\"dataframe\">\n",
       "  <thead>\n",
       "    <tr style=\"text-align: right;\">\n",
       "      <th></th>\n",
       "      <th>Laptop Name</th>\n",
       "      <th>Market Status</th>\n",
       "      <th>Specifications</th>\n",
       "      <th>Market Price</th>\n",
       "    </tr>\n",
       "  </thead>\n",
       "  <tbody>\n",
       "    <tr>\n",
       "      <th>0</th>\n",
       "      <td>Acer NITRO 5 Ryzen 9 (2021)</td>\n",
       "      <td>LAUNCHED</td>\n",
       "      <td>Key Specifications\\nOS\\nWindows 10\\nDisplay\\n1...</td>\n",
       "      <td>₹ 129,990</td>\n",
       "    </tr>\n",
       "    <tr>\n",
       "      <th>1</th>\n",
       "      <td>ASUS ROG Strix Scar 15 Ryzen 9-5900HX (2021)</td>\n",
       "      <td>LAUNCHED</td>\n",
       "      <td>Key Specifications\\nOS\\nWindows 10\\nDisplay\\n1...</td>\n",
       "      <td>₹ 268,990</td>\n",
       "    </tr>\n",
       "    <tr>\n",
       "      <th>2</th>\n",
       "      <td>Alienware Area 51M R2</td>\n",
       "      <td>LAUNCHED</td>\n",
       "      <td>Key Specifications\\nOS\\nWindows 10 Home\\nDispl...</td>\n",
       "      <td>₹ 342,989</td>\n",
       "    </tr>\n",
       "    <tr>\n",
       "      <th>3</th>\n",
       "      <td>Alienware m15 R3</td>\n",
       "      <td>LAUNCHED</td>\n",
       "      <td>Key Specifications\\nOS\\nWindows 10 Home\\nDispl...</td>\n",
       "      <td>₹ 319,990</td>\n",
       "    </tr>\n",
       "    <tr>\n",
       "      <th>4</th>\n",
       "      <td>ASUS ROG Strix Scar 15</td>\n",
       "      <td>LAUNCHED</td>\n",
       "      <td>Key Specifications\\nOS\\nWindows 10 Home\\nDispl...</td>\n",
       "      <td>₹ 215,990</td>\n",
       "    </tr>\n",
       "    <tr>\n",
       "      <th>5</th>\n",
       "      <td>Asus ROG Zephyrus G14</td>\n",
       "      <td>LAUNCHED</td>\n",
       "      <td>Key Specifications\\nOS\\nWindows 10 Home\\nDispl...</td>\n",
       "      <td>₹ 164,990</td>\n",
       "    </tr>\n",
       "    <tr>\n",
       "      <th>6</th>\n",
       "      <td>Lenovo Legion 5i</td>\n",
       "      <td>LAUNCHED</td>\n",
       "      <td>Key Specifications\\nOS\\nWindows 10 Pro\\nDispla...</td>\n",
       "      <td>₹ 76,988</td>\n",
       "    </tr>\n",
       "    <tr>\n",
       "      <th>7</th>\n",
       "      <td>Asus ROG Zephyrus Duo 15</td>\n",
       "      <td>LAUNCHED</td>\n",
       "      <td>Key Specifications\\nOS\\nWindows 10\\nDisplay\\n1...</td>\n",
       "      <td>₹ 185,000</td>\n",
       "    </tr>\n",
       "    <tr>\n",
       "      <th>8</th>\n",
       "      <td>Acer Aspire 7 Gaming</td>\n",
       "      <td>LAUNCHED</td>\n",
       "      <td>Key Specifications\\nOS\\nWindows 10 Home\\nDispl...</td>\n",
       "      <td>₹ 57,500</td>\n",
       "    </tr>\n",
       "  </tbody>\n",
       "</table>\n",
       "</div>"
      ],
      "text/plain": [
       "                                    Laptop Name Market Status  \\\n",
       "0                   Acer NITRO 5 Ryzen 9 (2021)      LAUNCHED   \n",
       "1  ASUS ROG Strix Scar 15 Ryzen 9-5900HX (2021)      LAUNCHED   \n",
       "2                         Alienware Area 51M R2      LAUNCHED   \n",
       "3                              Alienware m15 R3      LAUNCHED   \n",
       "4                        ASUS ROG Strix Scar 15      LAUNCHED   \n",
       "5                         Asus ROG Zephyrus G14      LAUNCHED   \n",
       "6                              Lenovo Legion 5i      LAUNCHED   \n",
       "7                      Asus ROG Zephyrus Duo 15      LAUNCHED   \n",
       "8                          Acer Aspire 7 Gaming      LAUNCHED   \n",
       "\n",
       "                                      Specifications Market Price  \n",
       "0  Key Specifications\\nOS\\nWindows 10\\nDisplay\\n1...    ₹ 129,990  \n",
       "1  Key Specifications\\nOS\\nWindows 10\\nDisplay\\n1...    ₹ 268,990  \n",
       "2  Key Specifications\\nOS\\nWindows 10 Home\\nDispl...    ₹ 342,989  \n",
       "3  Key Specifications\\nOS\\nWindows 10 Home\\nDispl...    ₹ 319,990  \n",
       "4  Key Specifications\\nOS\\nWindows 10 Home\\nDispl...    ₹ 215,990  \n",
       "5  Key Specifications\\nOS\\nWindows 10 Home\\nDispl...    ₹ 164,990  \n",
       "6  Key Specifications\\nOS\\nWindows 10 Pro\\nDispla...     ₹ 76,988  \n",
       "7  Key Specifications\\nOS\\nWindows 10\\nDisplay\\n1...    ₹ 185,000  \n",
       "8  Key Specifications\\nOS\\nWindows 10 Home\\nDispl...     ₹ 57,500  "
      ]
     },
     "execution_count": 91,
     "metadata": {},
     "output_type": "execute_result"
    }
   ],
   "source": [
    "gaming"
   ]
  },
  {
   "cell_type": "markdown",
   "id": "28eda791",
   "metadata": {},
   "source": [
    "Ans 8. - Python program to scrape details of billionaires from forbes.com webpage using exception handling."
   ]
  },
  {
   "cell_type": "code",
   "execution_count": 94,
   "id": "0e72e184",
   "metadata": {},
   "outputs": [],
   "source": [
    "driver.get(\"https://www.forbes.com/billionaires/\")"
   ]
  },
  {
   "cell_type": "code",
   "execution_count": 116,
   "id": "34c892b8",
   "metadata": {},
   "outputs": [],
   "source": [
    "start = 0\n",
    "end = 3\n",
    "url = []\n",
    "for pages in range(start, end):\n",
    "    ur = driver.find_elements_by_xpath(\"//div[@class= 'personName']\")\n",
    "    for i in ur:\n",
    "        url.append(i.text)"
   ]
  },
  {
   "cell_type": "code",
   "execution_count": 120,
   "id": "13ac9850",
   "metadata": {},
   "outputs": [
    {
     "data": {
      "text/plain": [
       "600"
      ]
     },
     "execution_count": 120,
     "metadata": {},
     "output_type": "execute_result"
    }
   ],
   "source": [
    "len(url)"
   ]
  },
  {
   "cell_type": "code",
   "execution_count": 121,
   "id": "924fd92e",
   "metadata": {},
   "outputs": [],
   "source": [
    "ran = []\n",
    "for pages in range(start, end):\n",
    "    ra = driver.find_elements_by_xpath(\"//div[@class= 'rank']\")\n",
    "    for i in ra:\n",
    "        ran.append(i.text)"
   ]
  },
  {
   "cell_type": "code",
   "execution_count": 122,
   "id": "bbc11c17",
   "metadata": {},
   "outputs": [
    {
     "data": {
      "text/plain": [
       "600"
      ]
     },
     "execution_count": 122,
     "metadata": {},
     "output_type": "execute_result"
    }
   ],
   "source": [
    "len(ran)"
   ]
  },
  {
   "cell_type": "code",
   "execution_count": 123,
   "id": "0912fc53",
   "metadata": {},
   "outputs": [],
   "source": [
    "worth = []\n",
    "for pages in range(start, end):\n",
    "    wo = driver.find_elements_by_xpath(\"//div[@class= 'netWorth']\")\n",
    "    for i in wo:\n",
    "        worth.append(i.text)"
   ]
  },
  {
   "cell_type": "code",
   "execution_count": 124,
   "id": "d2af449b",
   "metadata": {},
   "outputs": [
    {
     "data": {
      "text/plain": [
       "600"
      ]
     },
     "execution_count": 124,
     "metadata": {},
     "output_type": "execute_result"
    }
   ],
   "source": [
    "len(worth)"
   ]
  },
  {
   "cell_type": "code",
   "execution_count": 125,
   "id": "e732d6a9",
   "metadata": {},
   "outputs": [],
   "source": [
    "country = []\n",
    "for pages in range(start, end):\n",
    "    co = driver.find_elements_by_xpath(\"//div[@class= 'countryOfCitizenship']\")\n",
    "    for i in co:\n",
    "        country.append(i.text)"
   ]
  },
  {
   "cell_type": "code",
   "execution_count": 126,
   "id": "0a520385",
   "metadata": {},
   "outputs": [
    {
     "data": {
      "text/plain": [
       "600"
      ]
     },
     "execution_count": 126,
     "metadata": {},
     "output_type": "execute_result"
    }
   ],
   "source": [
    "len(country)"
   ]
  },
  {
   "cell_type": "code",
   "execution_count": 127,
   "id": "b4abd105",
   "metadata": {},
   "outputs": [],
   "source": [
    "company = []\n",
    "for pages in range(start, end):\n",
    "    com = driver.find_elements_by_xpath(\"//div[@class= 'source-column']\")\n",
    "    for i in com:\n",
    "        company.append(i.text)"
   ]
  },
  {
   "cell_type": "code",
   "execution_count": 128,
   "id": "90dcb38a",
   "metadata": {},
   "outputs": [
    {
     "data": {
      "text/plain": [
       "600"
      ]
     },
     "execution_count": 128,
     "metadata": {},
     "output_type": "execute_result"
    }
   ],
   "source": [
    "len(company)"
   ]
  },
  {
   "cell_type": "code",
   "execution_count": 129,
   "id": "cff19e82",
   "metadata": {},
   "outputs": [],
   "source": [
    "billionaires = pd.DataFrame({'Rank': ran, 'Name': url, 'Net Worth': worth, 'Country of origin': country, 'Company Name': company})"
   ]
  },
  {
   "cell_type": "code",
   "execution_count": 130,
   "id": "17177ff8",
   "metadata": {},
   "outputs": [
    {
     "data": {
      "text/html": [
       "<div>\n",
       "<style scoped>\n",
       "    .dataframe tbody tr th:only-of-type {\n",
       "        vertical-align: middle;\n",
       "    }\n",
       "\n",
       "    .dataframe tbody tr th {\n",
       "        vertical-align: top;\n",
       "    }\n",
       "\n",
       "    .dataframe thead th {\n",
       "        text-align: right;\n",
       "    }\n",
       "</style>\n",
       "<table border=\"1\" class=\"dataframe\">\n",
       "  <thead>\n",
       "    <tr style=\"text-align: right;\">\n",
       "      <th></th>\n",
       "      <th>Rank</th>\n",
       "      <th>Name</th>\n",
       "      <th>Net Worth</th>\n",
       "      <th>Country of origin</th>\n",
       "      <th>Company Name</th>\n",
       "    </tr>\n",
       "  </thead>\n",
       "  <tbody>\n",
       "    <tr>\n",
       "      <th>0</th>\n",
       "      <td>1.</td>\n",
       "      <td>Jeff Bezos</td>\n",
       "      <td>$177 B</td>\n",
       "      <td>United States</td>\n",
       "      <td>Amazon</td>\n",
       "    </tr>\n",
       "    <tr>\n",
       "      <th>1</th>\n",
       "      <td>2.</td>\n",
       "      <td>Elon Musk</td>\n",
       "      <td>$151 B</td>\n",
       "      <td>United States</td>\n",
       "      <td>Tesla, SpaceX</td>\n",
       "    </tr>\n",
       "    <tr>\n",
       "      <th>2</th>\n",
       "      <td>3.</td>\n",
       "      <td>Bernard Arnault &amp; family</td>\n",
       "      <td>$150 B</td>\n",
       "      <td>France</td>\n",
       "      <td>LVMH</td>\n",
       "    </tr>\n",
       "    <tr>\n",
       "      <th>3</th>\n",
       "      <td>4.</td>\n",
       "      <td>Bill Gates</td>\n",
       "      <td>$124 B</td>\n",
       "      <td>United States</td>\n",
       "      <td>Microsoft</td>\n",
       "    </tr>\n",
       "    <tr>\n",
       "      <th>4</th>\n",
       "      <td>5.</td>\n",
       "      <td>Mark Zuckerberg</td>\n",
       "      <td>$97 B</td>\n",
       "      <td>United States</td>\n",
       "      <td>Facebook</td>\n",
       "    </tr>\n",
       "    <tr>\n",
       "      <th>...</th>\n",
       "      <td>...</td>\n",
       "      <td>...</td>\n",
       "      <td>...</td>\n",
       "      <td>...</td>\n",
       "      <td>...</td>\n",
       "    </tr>\n",
       "    <tr>\n",
       "      <th>595</th>\n",
       "      <td>195.</td>\n",
       "      <td>Harry Triguboff</td>\n",
       "      <td>$11.2 B</td>\n",
       "      <td>Australia</td>\n",
       "      <td>real estate</td>\n",
       "    </tr>\n",
       "    <tr>\n",
       "      <th>596</th>\n",
       "      <td>197.</td>\n",
       "      <td>Leonid Fedun &amp; family</td>\n",
       "      <td>$11.1 B</td>\n",
       "      <td>Russia</td>\n",
       "      <td>oil</td>\n",
       "    </tr>\n",
       "    <tr>\n",
       "      <th>597</th>\n",
       "      <td>197.</td>\n",
       "      <td>Eyal Ofer</td>\n",
       "      <td>$11.1 B</td>\n",
       "      <td>Israel</td>\n",
       "      <td>real estate, shipping</td>\n",
       "    </tr>\n",
       "    <tr>\n",
       "      <th>598</th>\n",
       "      <td>197.</td>\n",
       "      <td>Evan Spiegel</td>\n",
       "      <td>$11.1 B</td>\n",
       "      <td>United States</td>\n",
       "      <td>Snapchat</td>\n",
       "    </tr>\n",
       "    <tr>\n",
       "      <th>599</th>\n",
       "      <td>200.</td>\n",
       "      <td>Luis Carlos Sarmiento</td>\n",
       "      <td>$11 B</td>\n",
       "      <td>Colombia</td>\n",
       "      <td>banking</td>\n",
       "    </tr>\n",
       "  </tbody>\n",
       "</table>\n",
       "<p>600 rows × 5 columns</p>\n",
       "</div>"
      ],
      "text/plain": [
       "     Rank                      Name Net Worth Country of origin  \\\n",
       "0      1.                Jeff Bezos    $177 B     United States   \n",
       "1      2.                 Elon Musk    $151 B     United States   \n",
       "2      3.  Bernard Arnault & family    $150 B            France   \n",
       "3      4.                Bill Gates    $124 B     United States   \n",
       "4      5.           Mark Zuckerberg     $97 B     United States   \n",
       "..    ...                       ...       ...               ...   \n",
       "595  195.           Harry Triguboff   $11.2 B         Australia   \n",
       "596  197.     Leonid Fedun & family   $11.1 B            Russia   \n",
       "597  197.                 Eyal Ofer   $11.1 B            Israel   \n",
       "598  197.              Evan Spiegel   $11.1 B     United States   \n",
       "599  200.     Luis Carlos Sarmiento     $11 B          Colombia   \n",
       "\n",
       "              Company Name  \n",
       "0                   Amazon  \n",
       "1            Tesla, SpaceX  \n",
       "2                     LVMH  \n",
       "3                Microsoft  \n",
       "4                 Facebook  \n",
       "..                     ...  \n",
       "595            real estate  \n",
       "596                    oil  \n",
       "597  real estate, shipping  \n",
       "598               Snapchat  \n",
       "599                banking  \n",
       "\n",
       "[600 rows x 5 columns]"
      ]
     },
     "execution_count": 130,
     "metadata": {},
     "output_type": "execute_result"
    }
   ],
   "source": [
    "billionaires"
   ]
  },
  {
   "cell_type": "markdown",
   "id": "a3a867c8",
   "metadata": {},
   "source": [
    "Ans 9. - Python program to scrape the data of comments from youtube video using exception handling."
   ]
  },
  {
   "cell_type": "code",
   "execution_count": 3,
   "id": "ae2bb24a",
   "metadata": {},
   "outputs": [],
   "source": [
    "driver.get(\"https://www.youtube.com/watch?v=PejQbGZraqg\")"
   ]
  },
  {
   "cell_type": "code",
   "execution_count": 7,
   "id": "649a9826",
   "metadata": {},
   "outputs": [],
   "source": [
    "url = []\n",
    "ur = driver.find_elements_by_xpath(\"//yt-formatted-string[@class= 'style-scope ytd-comment-renderer']\")\n",
    "for i in ur:\n",
    "    url.append(i.text)"
   ]
  },
  {
   "cell_type": "code",
   "execution_count": 8,
   "id": "be9baf87",
   "metadata": {},
   "outputs": [
    {
     "data": {
      "text/plain": [
       "520"
      ]
     },
     "execution_count": 8,
     "metadata": {},
     "output_type": "execute_result"
    }
   ],
   "source": [
    "len(url)"
   ]
  },
  {
   "cell_type": "code",
   "execution_count": 10,
   "id": "97686efd",
   "metadata": {},
   "outputs": [],
   "source": [
    "upvote = []\n",
    "up = driver.find_elements_by_xpath(\"//span[@class= 'style-scope ytd-comment-action-buttons-renderer']\")\n",
    "for i in up:\n",
    "    upvote.append(i.text)"
   ]
  },
  {
   "cell_type": "code",
   "execution_count": 11,
   "id": "6f9a8378",
   "metadata": {},
   "outputs": [
    {
     "data": {
      "text/plain": [
       "520"
      ]
     },
     "execution_count": 11,
     "metadata": {},
     "output_type": "execute_result"
    }
   ],
   "source": [
    "len(upvote)"
   ]
  },
  {
   "cell_type": "code",
   "execution_count": 13,
   "id": "c704e354",
   "metadata": {},
   "outputs": [],
   "source": [
    "tim = []\n",
    "ti = driver.find_elements_by_xpath(\"//a[@class= 'yt-simple-endpoint style-scope yt-formatted-string']\")\n",
    "for i in ti:\n",
    "    tim.append(i.text)"
   ]
  },
  {
   "cell_type": "code",
   "execution_count": 14,
   "id": "560d3bce",
   "metadata": {},
   "outputs": [
    {
     "data": {
      "text/plain": [
       "546"
      ]
     },
     "execution_count": 14,
     "metadata": {},
     "output_type": "execute_result"
    }
   ],
   "source": [
    "len(tim)"
   ]
  },
  {
   "cell_type": "code",
   "execution_count": 20,
   "id": "0dcf5e9c",
   "metadata": {},
   "outputs": [],
   "source": [
    "tim = tim[18:]"
   ]
  },
  {
   "cell_type": "code",
   "execution_count": 22,
   "id": "2d7479db",
   "metadata": {},
   "outputs": [
    {
     "data": {
      "text/plain": [
       "528"
      ]
     },
     "execution_count": 22,
     "metadata": {},
     "output_type": "execute_result"
    }
   ],
   "source": [
    "len(tim)"
   ]
  },
  {
   "cell_type": "code",
   "execution_count": 25,
   "id": "0a42eb84",
   "metadata": {},
   "outputs": [],
   "source": [
    "tim = tim[:-8]"
   ]
  },
  {
   "cell_type": "code",
   "execution_count": 26,
   "id": "7f0ef042",
   "metadata": {},
   "outputs": [],
   "source": [
    "comment = pd.DataFrame({'Comment': url, 'Comment Upvotes': upvote, 'Posted Time': tim})"
   ]
  },
  {
   "cell_type": "code",
   "execution_count": 27,
   "id": "e27f889c",
   "metadata": {},
   "outputs": [
    {
     "data": {
      "text/html": [
       "<div>\n",
       "<style scoped>\n",
       "    .dataframe tbody tr th:only-of-type {\n",
       "        vertical-align: middle;\n",
       "    }\n",
       "\n",
       "    .dataframe tbody tr th {\n",
       "        vertical-align: top;\n",
       "    }\n",
       "\n",
       "    .dataframe thead th {\n",
       "        text-align: right;\n",
       "    }\n",
       "</style>\n",
       "<table border=\"1\" class=\"dataframe\">\n",
       "  <thead>\n",
       "    <tr style=\"text-align: right;\">\n",
       "      <th></th>\n",
       "      <th>Comment</th>\n",
       "      <th>Comment Upvotes</th>\n",
       "      <th>Posted Time</th>\n",
       "    </tr>\n",
       "  </thead>\n",
       "  <tbody>\n",
       "    <tr>\n",
       "      <th>0</th>\n",
       "      <td></td>\n",
       "      <td></td>\n",
       "      <td>#NewMusic</td>\n",
       "    </tr>\n",
       "    <tr>\n",
       "      <th>1</th>\n",
       "      <td>Pull up on you like agency ️‍</td>\n",
       "      <td>23K</td>\n",
       "      <td>1 month ago</td>\n",
       "    </tr>\n",
       "    <tr>\n",
       "      <th>2</th>\n",
       "      <td></td>\n",
       "      <td></td>\n",
       "      <td></td>\n",
       "    </tr>\n",
       "    <tr>\n",
       "      <th>3</th>\n",
       "      <td></td>\n",
       "      <td>9.4K</td>\n",
       "      <td>1 month ago</td>\n",
       "    </tr>\n",
       "    <tr>\n",
       "      <th>4</th>\n",
       "      <td></td>\n",
       "      <td></td>\n",
       "      <td></td>\n",
       "    </tr>\n",
       "    <tr>\n",
       "      <th>...</th>\n",
       "      <td>...</td>\n",
       "      <td>...</td>\n",
       "      <td>...</td>\n",
       "    </tr>\n",
       "    <tr>\n",
       "      <th>515</th>\n",
       "      <td>दुःख | दर्द | अफ़सोस | वेदना | व्यथा | शोक | सं...</td>\n",
       "      <td>3</td>\n",
       "      <td></td>\n",
       "    </tr>\n",
       "    <tr>\n",
       "      <th>516</th>\n",
       "      <td></td>\n",
       "      <td></td>\n",
       "      <td>2 weeks ago</td>\n",
       "    </tr>\n",
       "    <tr>\n",
       "      <th>517</th>\n",
       "      <td>Bars, References, Shoutouts, Subliminals ... F...</td>\n",
       "      <td>187</td>\n",
       "      <td></td>\n",
       "    </tr>\n",
       "    <tr>\n",
       "      <th>518</th>\n",
       "      <td></td>\n",
       "      <td></td>\n",
       "      <td>1 day ago</td>\n",
       "    </tr>\n",
       "    <tr>\n",
       "      <th>519</th>\n",
       "      <td>\"Saare Genres Ke Gaane Milenge Yaha Par\" \\nHe ...</td>\n",
       "      <td></td>\n",
       "      <td></td>\n",
       "    </tr>\n",
       "  </tbody>\n",
       "</table>\n",
       "<p>520 rows × 3 columns</p>\n",
       "</div>"
      ],
      "text/plain": [
       "                                               Comment Comment Upvotes  \\\n",
       "0                                                                        \n",
       "1                        Pull up on you like agency ️‍             23K   \n",
       "2                                                                        \n",
       "3                                                                 9.4K   \n",
       "4                                                                        \n",
       "..                                                 ...             ...   \n",
       "515  दुःख | दर्द | अफ़सोस | वेदना | व्यथा | शोक | सं...               3   \n",
       "516                                                                      \n",
       "517  Bars, References, Shoutouts, Subliminals ... F...             187   \n",
       "518                                                                      \n",
       "519  \"Saare Genres Ke Gaane Milenge Yaha Par\" \\nHe ...                   \n",
       "\n",
       "     Posted Time  \n",
       "0      #NewMusic  \n",
       "1    1 month ago  \n",
       "2                 \n",
       "3    1 month ago  \n",
       "4                 \n",
       "..           ...  \n",
       "515               \n",
       "516  2 weeks ago  \n",
       "517               \n",
       "518    1 day ago  \n",
       "519               \n",
       "\n",
       "[520 rows x 3 columns]"
      ]
     },
     "execution_count": 27,
     "metadata": {},
     "output_type": "execute_result"
    }
   ],
   "source": [
    "comment"
   ]
  },
  {
   "cell_type": "code",
   "execution_count": 29,
   "id": "c6e9c066",
   "metadata": {},
   "outputs": [],
   "source": [
    "comment = comment.iloc[:500, :]"
   ]
  },
  {
   "cell_type": "code",
   "execution_count": 30,
   "id": "eab2f2fd",
   "metadata": {},
   "outputs": [
    {
     "data": {
      "text/html": [
       "<div>\n",
       "<style scoped>\n",
       "    .dataframe tbody tr th:only-of-type {\n",
       "        vertical-align: middle;\n",
       "    }\n",
       "\n",
       "    .dataframe tbody tr th {\n",
       "        vertical-align: top;\n",
       "    }\n",
       "\n",
       "    .dataframe thead th {\n",
       "        text-align: right;\n",
       "    }\n",
       "</style>\n",
       "<table border=\"1\" class=\"dataframe\">\n",
       "  <thead>\n",
       "    <tr style=\"text-align: right;\">\n",
       "      <th></th>\n",
       "      <th>Comment</th>\n",
       "      <th>Comment Upvotes</th>\n",
       "      <th>Posted Time</th>\n",
       "    </tr>\n",
       "  </thead>\n",
       "  <tbody>\n",
       "    <tr>\n",
       "      <th>0</th>\n",
       "      <td></td>\n",
       "      <td></td>\n",
       "      <td>#NewMusic</td>\n",
       "    </tr>\n",
       "    <tr>\n",
       "      <th>1</th>\n",
       "      <td>Pull up on you like agency ️‍</td>\n",
       "      <td>23K</td>\n",
       "      <td>1 month ago</td>\n",
       "    </tr>\n",
       "    <tr>\n",
       "      <th>2</th>\n",
       "      <td></td>\n",
       "      <td></td>\n",
       "      <td></td>\n",
       "    </tr>\n",
       "    <tr>\n",
       "      <th>3</th>\n",
       "      <td></td>\n",
       "      <td>9.4K</td>\n",
       "      <td>1 month ago</td>\n",
       "    </tr>\n",
       "    <tr>\n",
       "      <th>4</th>\n",
       "      <td></td>\n",
       "      <td></td>\n",
       "      <td></td>\n",
       "    </tr>\n",
       "    <tr>\n",
       "      <th>...</th>\n",
       "      <td>...</td>\n",
       "      <td>...</td>\n",
       "      <td>...</td>\n",
       "    </tr>\n",
       "    <tr>\n",
       "      <th>495</th>\n",
       "      <td>You you you you you you- inspirational words b...</td>\n",
       "      <td>1</td>\n",
       "      <td></td>\n",
       "    </tr>\n",
       "    <tr>\n",
       "      <th>496</th>\n",
       "      <td></td>\n",
       "      <td></td>\n",
       "      <td>2 weeks ago</td>\n",
       "    </tr>\n",
       "    <tr>\n",
       "      <th>497</th>\n",
       "      <td>No cap</td>\n",
       "      <td>6</td>\n",
       "      <td></td>\n",
       "    </tr>\n",
       "    <tr>\n",
       "      <th>498</th>\n",
       "      <td></td>\n",
       "      <td></td>\n",
       "      <td>4 days ago</td>\n",
       "    </tr>\n",
       "    <tr>\n",
       "      <th>499</th>\n",
       "      <td>Ⓜ️c stan x raftaar is impossible \\nⓂ️c stan di...</td>\n",
       "      <td></td>\n",
       "      <td></td>\n",
       "    </tr>\n",
       "  </tbody>\n",
       "</table>\n",
       "<p>500 rows × 3 columns</p>\n",
       "</div>"
      ],
      "text/plain": [
       "                                               Comment Comment Upvotes  \\\n",
       "0                                                                        \n",
       "1                        Pull up on you like agency ️‍             23K   \n",
       "2                                                                        \n",
       "3                                                                 9.4K   \n",
       "4                                                                        \n",
       "..                                                 ...             ...   \n",
       "495  You you you you you you- inspirational words b...               1   \n",
       "496                                                                      \n",
       "497                                             No cap               6   \n",
       "498                                                                      \n",
       "499  Ⓜ️c stan x raftaar is impossible \\nⓂ️c stan di...                   \n",
       "\n",
       "     Posted Time  \n",
       "0      #NewMusic  \n",
       "1    1 month ago  \n",
       "2                 \n",
       "3    1 month ago  \n",
       "4                 \n",
       "..           ...  \n",
       "495               \n",
       "496  2 weeks ago  \n",
       "497               \n",
       "498   4 days ago  \n",
       "499               \n",
       "\n",
       "[500 rows x 3 columns]"
      ]
     },
     "execution_count": 30,
     "metadata": {},
     "output_type": "execute_result"
    }
   ],
   "source": [
    "comment"
   ]
  },
  {
   "cell_type": "markdown",
   "id": "f054bdb0",
   "metadata": {},
   "source": [
    "Ans 10. - Python program to scrape the data of hostels from hostelworld.com webpage using exception handling."
   ]
  },
  {
   "cell_type": "code",
   "execution_count": 5,
   "id": "a1d2615e",
   "metadata": {},
   "outputs": [],
   "source": [
    "driver.get(\"https://www.hostelworld.com/s?q=London,%20England&country=England&city=London&type=city&id=3&from=2021-12-31&to=2022-01-03&guests=2&page=1\")"
   ]
  },
  {
   "cell_type": "code",
   "execution_count": 6,
   "id": "becb2069",
   "metadata": {},
   "outputs": [],
   "source": [
    "name = []\n",
    "na = driver.find_elements_by_xpath(\"//h2[@class= 'title title-6']\")\n",
    "for i in na:\n",
    "    name.append(i.text)"
   ]
  },
  {
   "cell_type": "code",
   "execution_count": 7,
   "id": "cc928d4b",
   "metadata": {},
   "outputs": [
    {
     "data": {
      "text/plain": [
       "30"
      ]
     },
     "execution_count": 7,
     "metadata": {},
     "output_type": "execute_result"
    }
   ],
   "source": [
    "len(name)"
   ]
  },
  {
   "cell_type": "code",
   "execution_count": 8,
   "id": "fda1528a",
   "metadata": {},
   "outputs": [],
   "source": [
    "distance = []\n",
    "di = driver.find_elements_by_xpath(\"//span[@class= 'description']\")\n",
    "for i in di:\n",
    "    distance.append(i.text)"
   ]
  },
  {
   "cell_type": "code",
   "execution_count": 9,
   "id": "78527827",
   "metadata": {},
   "outputs": [
    {
     "data": {
      "text/plain": [
       "30"
      ]
     },
     "execution_count": 9,
     "metadata": {},
     "output_type": "execute_result"
    }
   ],
   "source": [
    "len(distance)"
   ]
  },
  {
   "cell_type": "code",
   "execution_count": 10,
   "id": "79236f2e",
   "metadata": {},
   "outputs": [],
   "source": [
    "rating = []\n",
    "ra = driver.find_elements_by_xpath(\"//div[@class= 'score orange big']\")\n",
    "for i in ra:\n",
    "    rating.append(i.text)"
   ]
  },
  {
   "cell_type": "code",
   "execution_count": 11,
   "id": "62347551",
   "metadata": {},
   "outputs": [
    {
     "data": {
      "text/plain": [
       "30"
      ]
     },
     "execution_count": 11,
     "metadata": {},
     "output_type": "execute_result"
    }
   ],
   "source": [
    "len(rating)"
   ]
  },
  {
   "cell_type": "code",
   "execution_count": 12,
   "id": "da0479f9",
   "metadata": {},
   "outputs": [],
   "source": [
    "over= []\n",
    "ov = driver.find_elements_by_xpath(\"//div[@class= 'keyword']/span\")\n",
    "for i in ov:\n",
    "    over.append(i.text)"
   ]
  },
  {
   "cell_type": "code",
   "execution_count": 13,
   "id": "a480b291",
   "metadata": {
    "scrolled": true
   },
   "outputs": [
    {
     "data": {
      "text/plain": [
       "32"
      ]
     },
     "execution_count": 13,
     "metadata": {},
     "output_type": "execute_result"
    }
   ],
   "source": [
    "len(over)"
   ]
  },
  {
   "cell_type": "code",
   "execution_count": 14,
   "id": "e1aa2412",
   "metadata": {},
   "outputs": [],
   "source": [
    "over = over[2:]"
   ]
  },
  {
   "cell_type": "code",
   "execution_count": 15,
   "id": "6f6b6a83",
   "metadata": {},
   "outputs": [
    {
     "data": {
      "text/plain": [
       "30"
      ]
     },
     "execution_count": 15,
     "metadata": {},
     "output_type": "execute_result"
    }
   ],
   "source": [
    "len(over)"
   ]
  },
  {
   "cell_type": "code",
   "execution_count": 16,
   "id": "aaeaee39",
   "metadata": {},
   "outputs": [],
   "source": [
    "tot = []\n",
    "to = driver.find_elements_by_xpath(\"//div[@class= 'reviews']\")\n",
    "for i in to:\n",
    "    tot.append(i.text)"
   ]
  },
  {
   "cell_type": "code",
   "execution_count": 17,
   "id": "17364d8f",
   "metadata": {},
   "outputs": [
    {
     "data": {
      "text/plain": [
       "30"
      ]
     },
     "execution_count": 17,
     "metadata": {},
     "output_type": "execute_result"
    }
   ],
   "source": [
    "len(tot)"
   ]
  },
  {
   "cell_type": "code",
   "execution_count": 21,
   "id": "e8820be2",
   "metadata": {},
   "outputs": [],
   "source": [
    "price = []\n",
    "for i in driver.find_elements_by_xpath(\"//div[@class= 'price title-5']\"):\n",
    "    price.append(i.text)"
   ]
  },
  {
   "cell_type": "code",
   "execution_count": 23,
   "id": "6ea1dd8c",
   "metadata": {},
   "outputs": [
    {
     "data": {
      "text/plain": [
       "44"
      ]
     },
     "execution_count": 23,
     "metadata": {},
     "output_type": "execute_result"
    }
   ],
   "source": [
    "len(price)"
   ]
  },
  {
   "cell_type": "code",
   "execution_count": 26,
   "id": "9e871174",
   "metadata": {},
   "outputs": [],
   "source": [
    "price = price[:30]"
   ]
  },
  {
   "cell_type": "code",
   "execution_count": 28,
   "id": "d84c9dc5",
   "metadata": {},
   "outputs": [],
   "source": [
    "url = []\n",
    "for i in driver.find_elements_by_xpath(\"//h2[@class= 'title title-6']/a\"):\n",
    "    url.append(i.get_attribute('href'))"
   ]
  },
  {
   "cell_type": "code",
   "execution_count": 30,
   "id": "84501ee2",
   "metadata": {},
   "outputs": [
    {
     "data": {
      "text/plain": [
       "30"
      ]
     },
     "execution_count": 30,
     "metadata": {},
     "output_type": "execute_result"
    }
   ],
   "source": [
    "len(url)"
   ]
  },
  {
   "cell_type": "code",
   "execution_count": 31,
   "id": "1ec633a1",
   "metadata": {},
   "outputs": [],
   "source": [
    "description = []\n",
    "for i in url:\n",
    "    driver.get(i)\n",
    "    time.sleep(2)\n",
    "    try:\n",
    "        de = driver.find_element_by_xpath(\"//div[@class= 'content collapse-content']\")\n",
    "        description.append(de.text.replace(\"/n\",\"new line\"))\n",
    "    except:\n",
    "        description.append(\"-\")"
   ]
  },
  {
   "cell_type": "code",
   "execution_count": 33,
   "id": "30fd0fa8",
   "metadata": {},
   "outputs": [
    {
     "data": {
      "text/plain": [
       "30"
      ]
     },
     "execution_count": 33,
     "metadata": {},
     "output_type": "execute_result"
    }
   ],
   "source": [
    "len(description)"
   ]
  },
  {
   "cell_type": "code",
   "execution_count": 34,
   "id": "731becf5",
   "metadata": {},
   "outputs": [],
   "source": [
    "facility = []\n",
    "for i in url:\n",
    "    driver.get(i)\n",
    "    time.sleep(2)\n",
    "    try:\n",
    "        fa = driver.find_element_by_xpath(\"//div[@class= 'room-details']\")\n",
    "        facility.append(fa.text.replace(\"/n\",\"new line\"))\n",
    "    except:\n",
    "        facility.append(\"-\")"
   ]
  },
  {
   "cell_type": "code",
   "execution_count": 36,
   "id": "186365fd",
   "metadata": {},
   "outputs": [
    {
     "data": {
      "text/plain": [
       "30"
      ]
     },
     "execution_count": 36,
     "metadata": {},
     "output_type": "execute_result"
    }
   ],
   "source": [
    "len(facility)"
   ]
  },
  {
   "cell_type": "code",
   "execution_count": 37,
   "id": "2aaec4bc",
   "metadata": {},
   "outputs": [],
   "source": [
    "hostel1 = pd.DataFrame({'Hostel Name': name, 'Distance from Center': distance, 'Hostel Rating': rating, 'Overall Review': over,\n",
    "                       'Total Review': tot, 'Dorm Price': price, 'Description': description, 'Facility': facility})"
   ]
  },
  {
   "cell_type": "code",
   "execution_count": 39,
   "id": "c284a69a",
   "metadata": {},
   "outputs": [],
   "source": [
    "url2 = []\n",
    "ur2 = driver.find_elements_by_xpath(\"//h2[@class= 'title title-6']/a\")\n",
    "for i in ur2:\n",
    "    url2.append(i.get_attribute('href'))"
   ]
  },
  {
   "cell_type": "code",
   "execution_count": 41,
   "id": "bf0218b1",
   "metadata": {},
   "outputs": [
    {
     "data": {
      "text/plain": [
       "28"
      ]
     },
     "execution_count": 41,
     "metadata": {},
     "output_type": "execute_result"
    }
   ],
   "source": [
    "len(url2)"
   ]
  },
  {
   "cell_type": "code",
   "execution_count": 42,
   "id": "99429365",
   "metadata": {},
   "outputs": [],
   "source": [
    "distance = []\n",
    "for i in driver.find_elements_by_xpath(\"//span[@class= 'description']\"):\n",
    "    distance.append(i.text)"
   ]
  },
  {
   "cell_type": "code",
   "execution_count": 44,
   "id": "32e39de6",
   "metadata": {},
   "outputs": [
    {
     "data": {
      "text/plain": [
       "28"
      ]
     },
     "execution_count": 44,
     "metadata": {},
     "output_type": "execute_result"
    }
   ],
   "source": [
    "len(distance)"
   ]
  },
  {
   "cell_type": "code",
   "execution_count": 45,
   "id": "56574ca7",
   "metadata": {},
   "outputs": [],
   "source": [
    "name = []\n",
    "rating = []\n",
    "total = []\n",
    "over = []\n",
    "price = []\n",
    "description = []\n",
    "facility = []\n",
    "for i in url2:\n",
    "    driver.get(i)\n",
    "    time.sleep(2)\n",
    "    try:\n",
    "        na = driver.find_element_by_xpath(\"//div[@class= 'title-2']\")\n",
    "        name.append(na.text.replace(\"/n\",\"new line\"))\n",
    "    except:\n",
    "        name.append(\"-\")\n",
    "        \n",
    "    try:\n",
    "        ra = driver.find_element_by_xpath(\"//div[@class= 'score orange big']\")\n",
    "        rating.append(ra.text.replace(\"/n\",\"new line\"))\n",
    "    except:\n",
    "        rating.append(\"-\")\n",
    "    \n",
    "    try:\n",
    "        to = driver.find_element_by_xpath(\"//div[@class= 'reviews']\")\n",
    "        total.append(to.text.replace(\"/n\",\"new line\"))\n",
    "    except:\n",
    "        total.append(\"-\")\n",
    "    \n",
    "    try:\n",
    "        ov = driver.find_element_by_xpath(\"//div[@class= 'keyword']\")\n",
    "        over.append(ov.text.replace(\"/n\",\"new line\"))\n",
    "    except:\n",
    "        over.append(\"-\")\n",
    "        \n",
    "    try:\n",
    "        pr = driver.find_element_by_xpath(\"//div[@class= 'price']\")\n",
    "        price.append(pr.text.replace(\"/n\",\"new line\"))\n",
    "    except:\n",
    "        price.append(\"-\")\n",
    "        \n",
    "    try:\n",
    "        de = driver.find_element_by_xpath(\"//div[@class= 'content collapse-content']\")\n",
    "        description.append(de.text.replace(\"/n\",\"new line\"))\n",
    "    except:\n",
    "        description.append(\"-\")\n",
    "    \n",
    "    try:\n",
    "        fa = driver.find_element_by_xpath(\"//ul[@class= 'facility-sections']\")\n",
    "        facility.append(fa.text.replace(\"/n\",\"new line\"))\n",
    "    except:\n",
    "        facility.append(\"-\")"
   ]
  },
  {
   "cell_type": "code",
   "execution_count": 47,
   "id": "13b2e5b0",
   "metadata": {},
   "outputs": [
    {
     "data": {
      "text/plain": [
       "28"
      ]
     },
     "execution_count": 47,
     "metadata": {},
     "output_type": "execute_result"
    }
   ],
   "source": [
    "len(name)"
   ]
  },
  {
   "cell_type": "code",
   "execution_count": 49,
   "id": "ae095488",
   "metadata": {},
   "outputs": [
    {
     "data": {
      "text/plain": [
       "28"
      ]
     },
     "execution_count": 49,
     "metadata": {},
     "output_type": "execute_result"
    }
   ],
   "source": [
    "len(rating)"
   ]
  },
  {
   "cell_type": "code",
   "execution_count": 51,
   "id": "7d2d9197",
   "metadata": {},
   "outputs": [
    {
     "data": {
      "text/plain": [
       "28"
      ]
     },
     "execution_count": 51,
     "metadata": {},
     "output_type": "execute_result"
    }
   ],
   "source": [
    "len(total)"
   ]
  },
  {
   "cell_type": "code",
   "execution_count": 53,
   "id": "db1f4426",
   "metadata": {},
   "outputs": [
    {
     "data": {
      "text/plain": [
       "28"
      ]
     },
     "execution_count": 53,
     "metadata": {},
     "output_type": "execute_result"
    }
   ],
   "source": [
    "len(over)"
   ]
  },
  {
   "cell_type": "code",
   "execution_count": 55,
   "id": "95cdfcd3",
   "metadata": {},
   "outputs": [
    {
     "data": {
      "text/plain": [
       "28"
      ]
     },
     "execution_count": 55,
     "metadata": {},
     "output_type": "execute_result"
    }
   ],
   "source": [
    "len(price)"
   ]
  },
  {
   "cell_type": "code",
   "execution_count": 57,
   "id": "a607af07",
   "metadata": {},
   "outputs": [
    {
     "data": {
      "text/plain": [
       "28"
      ]
     },
     "execution_count": 57,
     "metadata": {},
     "output_type": "execute_result"
    }
   ],
   "source": [
    "len(description)"
   ]
  },
  {
   "cell_type": "code",
   "execution_count": 59,
   "id": "025a6279",
   "metadata": {},
   "outputs": [
    {
     "data": {
      "text/plain": [
       "28"
      ]
     },
     "execution_count": 59,
     "metadata": {},
     "output_type": "execute_result"
    }
   ],
   "source": [
    "len(facility)"
   ]
  },
  {
   "cell_type": "code",
   "execution_count": 60,
   "id": "ca1671e5",
   "metadata": {},
   "outputs": [],
   "source": [
    "hostel2 = pd.DataFrame({'Hostel Name': name, 'Distance from Center': distance, 'Hostel Rating': rating, 'Overall Review': over,\n",
    "                       'Total Review': total, 'Dorm Price': price, 'Description': description, 'Facility': facility})"
   ]
  },
  {
   "cell_type": "code",
   "execution_count": 61,
   "id": "57bc7497",
   "metadata": {},
   "outputs": [
    {
     "data": {
      "text/html": [
       "<div>\n",
       "<style scoped>\n",
       "    .dataframe tbody tr th:only-of-type {\n",
       "        vertical-align: middle;\n",
       "    }\n",
       "\n",
       "    .dataframe tbody tr th {\n",
       "        vertical-align: top;\n",
       "    }\n",
       "\n",
       "    .dataframe thead th {\n",
       "        text-align: right;\n",
       "    }\n",
       "</style>\n",
       "<table border=\"1\" class=\"dataframe\">\n",
       "  <thead>\n",
       "    <tr style=\"text-align: right;\">\n",
       "      <th></th>\n",
       "      <th>Hostel Name</th>\n",
       "      <th>Distance from Center</th>\n",
       "      <th>Hostel Rating</th>\n",
       "      <th>Overall Review</th>\n",
       "      <th>Total Review</th>\n",
       "      <th>Dorm Price</th>\n",
       "      <th>Description</th>\n",
       "      <th>Facility</th>\n",
       "    </tr>\n",
       "  </thead>\n",
       "  <tbody>\n",
       "    <tr>\n",
       "      <th>0</th>\n",
       "      <td>Clink261</td>\n",
       "      <td>Hostel - 3.2km from city centre</td>\n",
       "      <td>7.0</td>\n",
       "      <td>Very Good</td>\n",
       "      <td>3202 Total Reviews</td>\n",
       "      <td>Rs2235.27</td>\n",
       "      <td>Welcome to Clink261!\\n\\nClink261 is a comforta...</td>\n",
       "      <td>Free\\nLinen Included Free City Maps Free WiFi\\...</td>\n",
       "    </tr>\n",
       "    <tr>\n",
       "      <th>1</th>\n",
       "      <td>YHA London Central</td>\n",
       "      <td>Hostel - 2.9km from city centre</td>\n",
       "      <td>9.1</td>\n",
       "      <td>Superb</td>\n",
       "      <td>4705 Total Reviews</td>\n",
       "      <td>Rs10821.55</td>\n",
       "      <td>Temporary changes at YHA London Central\\n\\nThi...</td>\n",
       "      <td>Free\\nLinen Included Free City Maps Free WiFi\\...</td>\n",
       "    </tr>\n",
       "    <tr>\n",
       "      <th>2</th>\n",
       "      <td>Kensal Green Backpackers</td>\n",
       "      <td>Hostel - 8.2km from city centre</td>\n",
       "      <td>6.6</td>\n",
       "      <td>Good</td>\n",
       "      <td>3608 Total Reviews</td>\n",
       "      <td>Rs1239.25</td>\n",
       "      <td>Kensal Green Backpackers is a legendary hostel...</td>\n",
       "      <td>Free\\nLinen Included Free City Maps\\nGeneral\\n...</td>\n",
       "    </tr>\n",
       "    <tr>\n",
       "      <th>3</th>\n",
       "      <td>Saint James Backpackers</td>\n",
       "      <td>Hostel - 5.5km from city centre</td>\n",
       "      <td>6.8</td>\n",
       "      <td>Good</td>\n",
       "      <td>1778 Total Reviews</td>\n",
       "      <td>Rs5793.21</td>\n",
       "      <td>We are located in central London - just 5 minu...</td>\n",
       "      <td>Free\\nFree Breakfast Linen Included Free City ...</td>\n",
       "    </tr>\n",
       "    <tr>\n",
       "      <th>4</th>\n",
       "      <td>YHA London Oxford Street</td>\n",
       "      <td>Hostel - 2.1km from city centre</td>\n",
       "      <td>9.7</td>\n",
       "      <td>Superb</td>\n",
       "      <td>4498 Total Reviews</td>\n",
       "      <td>Rs9950.16</td>\n",
       "      <td>A quiet hideaway from the bustle of the busies...</td>\n",
       "      <td>Free\\nLinen Included Free City Maps Free WiFi\\...</td>\n",
       "    </tr>\n",
       "    <tr>\n",
       "      <th>5</th>\n",
       "      <td>The Backpackshack</td>\n",
       "      <td>Hostel - 10.9km from city centre</td>\n",
       "      <td>8.9</td>\n",
       "      <td>Fabulous</td>\n",
       "      <td>715 Total Reviews</td>\n",
       "      <td>Rs4020.27</td>\n",
       "      <td>Our hostel is located inside a traditional Eng...</td>\n",
       "      <td>Free\\nLinen Included Free Parking Towels Inclu...</td>\n",
       "    </tr>\n",
       "    <tr>\n",
       "      <th>6</th>\n",
       "      <td>Le Junction Hostel - Pub &amp; Garden</td>\n",
       "      <td>Hostel - 9.8km from city centre</td>\n",
       "      <td>7.5</td>\n",
       "      <td>Very Good</td>\n",
       "      <td>387 Total Reviews</td>\n",
       "      <td>Rs1306.59</td>\n",
       "      <td>Set over a pub and restaurant in Willesden Jun...</td>\n",
       "      <td>Free\\nLinen Included Free City Maps Free WiFi ...</td>\n",
       "    </tr>\n",
       "    <tr>\n",
       "      <th>7</th>\n",
       "      <td>Abercorn House</td>\n",
       "      <td>Hostel - 7.3km from city centre</td>\n",
       "      <td>6.9</td>\n",
       "      <td>Good</td>\n",
       "      <td>3676 Total Reviews</td>\n",
       "      <td>Rs3952.93</td>\n",
       "      <td>-</td>\n",
       "      <td>Free\\nLinen Included Free City Maps Towels Inc...</td>\n",
       "    </tr>\n",
       "    <tr>\n",
       "      <th>8</th>\n",
       "      <td>London Backpackers</td>\n",
       "      <td>Hostel - 11.9km from city centre</td>\n",
       "      <td>8.4</td>\n",
       "      <td>Fabulous</td>\n",
       "      <td>4171 Total Reviews</td>\n",
       "      <td>Rs1990.03</td>\n",
       "      <td>IMPORTANT NOTICE: This hostel is for 18 - 35-y...</td>\n",
       "      <td>Free\\nFree Breakfast Linen Included Free City ...</td>\n",
       "    </tr>\n",
       "    <tr>\n",
       "      <th>9</th>\n",
       "      <td>Venture Hostel</td>\n",
       "      <td>Hostel - 6.9km from city centre</td>\n",
       "      <td>-</td>\n",
       "      <td>Rating</td>\n",
       "      <td>1175 Total Reviews</td>\n",
       "      <td>Rs5728.88</td>\n",
       "      <td>Welcome to Venture Hostel.Venture Hostel is a ...</td>\n",
       "      <td>Free\\nLinen Included Free City Maps Free WiFi ...</td>\n",
       "    </tr>\n",
       "    <tr>\n",
       "      <th>10</th>\n",
       "      <td>Britannia Inn Hotel</td>\n",
       "      <td>Hotel - 14.5km from city centre</td>\n",
       "      <td>9.7</td>\n",
       "      <td>Superb</td>\n",
       "      <td>17 Total Reviews</td>\n",
       "      <td>Rs7437.49</td>\n",
       "      <td>The Britannia Inn Hotel is situated near the I...</td>\n",
       "      <td>Free\\nFree Breakfast Free Parking Free Interne...</td>\n",
       "    </tr>\n",
       "    <tr>\n",
       "      <th>11</th>\n",
       "      <td>London House Hotel</td>\n",
       "      <td>Hotel - 5.3km from city centre</td>\n",
       "      <td>-</td>\n",
       "      <td>No Rating</td>\n",
       "      <td>0 Total Reviews</td>\n",
       "      <td>Rs10995.43</td>\n",
       "      <td>Our lovely boutique hotel is conveniently loca...</td>\n",
       "      <td>Free\\nFree City Maps Free WiFi\\nGeneral\\nKey C...</td>\n",
       "    </tr>\n",
       "    <tr>\n",
       "      <th>12</th>\n",
       "      <td>Park Hotel</td>\n",
       "      <td>Hotel - 4.9km from city centre</td>\n",
       "      <td>-</td>\n",
       "      <td>No Rating</td>\n",
       "      <td>0 Total Reviews</td>\n",
       "      <td>Rs12059.80</td>\n",
       "      <td>A friendly, family run hotel offering comforta...</td>\n",
       "      <td>Free\\nLinen Included Towels Included Free WiFi...</td>\n",
       "    </tr>\n",
       "    <tr>\n",
       "      <th>13</th>\n",
       "      <td>City Hotel Carlton</td>\n",
       "      <td>Hotel - 1.8km from city centre</td>\n",
       "      <td>-</td>\n",
       "      <td>Rating</td>\n",
       "      <td>39 Total Reviews</td>\n",
       "      <td>Rs7638.51</td>\n",
       "      <td>I regret booking this property. The location w...</td>\n",
       "      <td>Free\\nFree Internet Access\\nGeneral\\nSwimming ...</td>\n",
       "    </tr>\n",
       "    <tr>\n",
       "      <th>14</th>\n",
       "      <td>Barry House</td>\n",
       "      <td>Bed and Breakfast - 4.2km from city centre</td>\n",
       "      <td>8.3</td>\n",
       "      <td>Fabulous</td>\n",
       "      <td>6 Total Reviews</td>\n",
       "      <td>Rs7494.78</td>\n",
       "      <td>Barry House is a Central London bed and breakf...</td>\n",
       "      <td>Free\\nFree Breakfast Free City Maps Towels Inc...</td>\n",
       "    </tr>\n",
       "    <tr>\n",
       "      <th>15</th>\n",
       "      <td>The Dover</td>\n",
       "      <td>Hotel - 1.9km from city centre</td>\n",
       "      <td>-</td>\n",
       "      <td>No Rating</td>\n",
       "      <td>0 Total Reviews</td>\n",
       "      <td>-</td>\n",
       "      <td>With friendly staff, excellent service and an ...</td>\n",
       "      <td>Free\\nFree Breakfast Free City Maps Towels Inc...</td>\n",
       "    </tr>\n",
       "    <tr>\n",
       "      <th>16</th>\n",
       "      <td>Best Western Boltons London Kensington</td>\n",
       "      <td>Hotel - 5.4km from city centre</td>\n",
       "      <td>-</td>\n",
       "      <td>Rating</td>\n",
       "      <td>2 Total Reviews</td>\n",
       "      <td>Rs30882.69</td>\n",
       "      <td>Combining Victorian charm with Modern Luxury T...</td>\n",
       "      <td>Free\\nTowels Included Free WiFi\\nGeneral\\nKey ...</td>\n",
       "    </tr>\n",
       "    <tr>\n",
       "      <th>17</th>\n",
       "      <td>Elmwood Hotel</td>\n",
       "      <td>Hotel - 3.2km from city centre</td>\n",
       "      <td>6.3</td>\n",
       "      <td>Good</td>\n",
       "      <td>113 Total Reviews</td>\n",
       "      <td>Rs5997.23</td>\n",
       "      <td>We booked 2 rooms but were told by the recepti...</td>\n",
       "      <td>Free\\nFree Internet Access\\nGeneral\\nHair Drye...</td>\n",
       "    </tr>\n",
       "    <tr>\n",
       "      <th>18</th>\n",
       "      <td>Hyde Park Court Hotel</td>\n",
       "      <td>Hotel - 4.3km from city centre</td>\n",
       "      <td>-</td>\n",
       "      <td>No Rating</td>\n",
       "      <td>0 Total Reviews</td>\n",
       "      <td>Rs7035.47</td>\n",
       "      <td>The Hyde Park Court Hotel is a centrally locat...</td>\n",
       "      <td>Free\\nFree Breakfast Free City Maps Free WiFi ...</td>\n",
       "    </tr>\n",
       "    <tr>\n",
       "      <th>19</th>\n",
       "      <td>Fairway Hotel</td>\n",
       "      <td>Bed and Breakfast - 3.3km from city centre</td>\n",
       "      <td>-</td>\n",
       "      <td>No Rating</td>\n",
       "      <td>0 Total Reviews</td>\n",
       "      <td>Rs8442.56</td>\n",
       "      <td>Comfortable family run B&amp;B hotel , very centra...</td>\n",
       "      <td>Free\\nFree Breakfast Towels Included Free WiFi...</td>\n",
       "    </tr>\n",
       "    <tr>\n",
       "      <th>20</th>\n",
       "      <td>Golders Park Hotel</td>\n",
       "      <td>Hotel - 10.4km from city centre</td>\n",
       "      <td>-</td>\n",
       "      <td>No Rating</td>\n",
       "      <td>0 Total Reviews</td>\n",
       "      <td>Rs6499.77</td>\n",
       "      <td>Set in London, 4.3 miles from London Zoo, Gold...</td>\n",
       "      <td>Free\\nLinen Included Free Parking Towels Inclu...</td>\n",
       "    </tr>\n",
       "    <tr>\n",
       "      <th>21</th>\n",
       "      <td>Wellesley Hotel</td>\n",
       "      <td>Hotel - 14.7km from city centre</td>\n",
       "      <td>-</td>\n",
       "      <td>No Rating</td>\n",
       "      <td>0 Total Reviews</td>\n",
       "      <td>Rs6030.40</td>\n",
       "      <td>In the Heart of Ilford, Greater London region,...</td>\n",
       "      <td>Free\\nLinen Included Free Parking Towels Inclu...</td>\n",
       "    </tr>\n",
       "    <tr>\n",
       "      <th>22</th>\n",
       "      <td>Tony's House Hotel</td>\n",
       "      <td>Hotel - 4.3km from city centre</td>\n",
       "      <td>9.4</td>\n",
       "      <td>Superb</td>\n",
       "      <td>406 Total Reviews</td>\n",
       "      <td>Rs8911.93</td>\n",
       "      <td>Central London Hotel Accommodation situated in...</td>\n",
       "      <td>Free\\nFree Breakfast Free Internet Access\\nGen...</td>\n",
       "    </tr>\n",
       "    <tr>\n",
       "      <th>23</th>\n",
       "      <td>Aron Guest House</td>\n",
       "      <td>Bed and Breakfast - 13.1km from city centre</td>\n",
       "      <td>-</td>\n",
       "      <td>No Rating</td>\n",
       "      <td>0 Total Reviews</td>\n",
       "      <td>Rs7035.47</td>\n",
       "      <td>Aron Guest House provides an excellent base, w...</td>\n",
       "      <td>Free\\nFree Parking Towels Included Free WiFi\\n...</td>\n",
       "    </tr>\n",
       "    <tr>\n",
       "      <th>24</th>\n",
       "      <td>Beaconsfield</td>\n",
       "      <td>Hotel - 8.6km from city centre</td>\n",
       "      <td>-</td>\n",
       "      <td>No Rating</td>\n",
       "      <td>0 Total Reviews</td>\n",
       "      <td>Rs19330.45</td>\n",
       "      <td>Beaconsfield is a basic, budget hotel, situate...</td>\n",
       "      <td>Free\\nFree WiFi\\nFood &amp; Drink\\nBar Tea &amp; Coffe...</td>\n",
       "    </tr>\n",
       "    <tr>\n",
       "      <th>25</th>\n",
       "      <td>The W14 Hotel &amp; Bar</td>\n",
       "      <td>Hotel - 6.5km from city centre</td>\n",
       "      <td>9.7</td>\n",
       "      <td>Superb</td>\n",
       "      <td>277 Total Reviews</td>\n",
       "      <td>Rs9648.64</td>\n",
       "      <td>The W14 Hotel London is a 3 star Superior Budg...</td>\n",
       "      <td>Free\\nFree Breakfast Linen Included Free City ...</td>\n",
       "    </tr>\n",
       "    <tr>\n",
       "      <th>26</th>\n",
       "      <td>Park Hotel Essex</td>\n",
       "      <td>Hotel - 24.1km from city centre</td>\n",
       "      <td>8.0</td>\n",
       "      <td>Fabulous</td>\n",
       "      <td>109 Total Reviews</td>\n",
       "      <td>Rs16248.92</td>\n",
       "      <td>This Hotel is the right choice for visitors wh...</td>\n",
       "      <td>Free\\nFree Breakfast Free Parking\\nGeneral\\nPa...</td>\n",
       "    </tr>\n",
       "    <tr>\n",
       "      <th>27</th>\n",
       "      <td>Cranbrook Hotel</td>\n",
       "      <td>Hotel - 14.8km from city centre</td>\n",
       "      <td>-</td>\n",
       "      <td>No Rating</td>\n",
       "      <td>0 Total Reviews</td>\n",
       "      <td>Rs6934.96</td>\n",
       "      <td>We are located about twenty minutes by tube fr...</td>\n",
       "      <td>Free\\nFree Breakfast Free Parking\\nGeneral\\nHo...</td>\n",
       "    </tr>\n",
       "  </tbody>\n",
       "</table>\n",
       "</div>"
      ],
      "text/plain": [
       "                               Hostel Name  \\\n",
       "0                                 Clink261   \n",
       "1                       YHA London Central   \n",
       "2                 Kensal Green Backpackers   \n",
       "3                  Saint James Backpackers   \n",
       "4                 YHA London Oxford Street   \n",
       "5                        The Backpackshack   \n",
       "6        Le Junction Hostel - Pub & Garden   \n",
       "7                           Abercorn House   \n",
       "8                       London Backpackers   \n",
       "9                           Venture Hostel   \n",
       "10                     Britannia Inn Hotel   \n",
       "11                      London House Hotel   \n",
       "12                              Park Hotel   \n",
       "13                      City Hotel Carlton   \n",
       "14                             Barry House   \n",
       "15                               The Dover   \n",
       "16  Best Western Boltons London Kensington   \n",
       "17                           Elmwood Hotel   \n",
       "18                   Hyde Park Court Hotel   \n",
       "19                           Fairway Hotel   \n",
       "20                      Golders Park Hotel   \n",
       "21                         Wellesley Hotel   \n",
       "22                      Tony's House Hotel   \n",
       "23                        Aron Guest House   \n",
       "24                            Beaconsfield   \n",
       "25                     The W14 Hotel & Bar   \n",
       "26                        Park Hotel Essex   \n",
       "27                         Cranbrook Hotel   \n",
       "\n",
       "                           Distance from Center Hostel Rating Overall Review  \\\n",
       "0               Hostel - 3.2km from city centre           7.0      Very Good   \n",
       "1               Hostel - 2.9km from city centre           9.1         Superb   \n",
       "2               Hostel - 8.2km from city centre           6.6           Good   \n",
       "3               Hostel - 5.5km from city centre           6.8           Good   \n",
       "4               Hostel - 2.1km from city centre           9.7         Superb   \n",
       "5              Hostel - 10.9km from city centre           8.9       Fabulous   \n",
       "6               Hostel - 9.8km from city centre           7.5      Very Good   \n",
       "7               Hostel - 7.3km from city centre           6.9           Good   \n",
       "8              Hostel - 11.9km from city centre           8.4       Fabulous   \n",
       "9               Hostel - 6.9km from city centre             -         Rating   \n",
       "10              Hotel - 14.5km from city centre           9.7         Superb   \n",
       "11               Hotel - 5.3km from city centre             -      No Rating   \n",
       "12               Hotel - 4.9km from city centre             -      No Rating   \n",
       "13               Hotel - 1.8km from city centre             -         Rating   \n",
       "14   Bed and Breakfast - 4.2km from city centre           8.3       Fabulous   \n",
       "15               Hotel - 1.9km from city centre             -      No Rating   \n",
       "16               Hotel - 5.4km from city centre             -         Rating   \n",
       "17               Hotel - 3.2km from city centre           6.3           Good   \n",
       "18               Hotel - 4.3km from city centre             -      No Rating   \n",
       "19   Bed and Breakfast - 3.3km from city centre             -      No Rating   \n",
       "20              Hotel - 10.4km from city centre             -      No Rating   \n",
       "21              Hotel - 14.7km from city centre             -      No Rating   \n",
       "22               Hotel - 4.3km from city centre           9.4         Superb   \n",
       "23  Bed and Breakfast - 13.1km from city centre             -      No Rating   \n",
       "24               Hotel - 8.6km from city centre             -      No Rating   \n",
       "25               Hotel - 6.5km from city centre           9.7         Superb   \n",
       "26              Hotel - 24.1km from city centre           8.0       Fabulous   \n",
       "27              Hotel - 14.8km from city centre             -      No Rating   \n",
       "\n",
       "          Total Review  Dorm Price  \\\n",
       "0   3202 Total Reviews   Rs2235.27   \n",
       "1   4705 Total Reviews  Rs10821.55   \n",
       "2   3608 Total Reviews   Rs1239.25   \n",
       "3   1778 Total Reviews   Rs5793.21   \n",
       "4   4498 Total Reviews   Rs9950.16   \n",
       "5    715 Total Reviews   Rs4020.27   \n",
       "6    387 Total Reviews   Rs1306.59   \n",
       "7   3676 Total Reviews   Rs3952.93   \n",
       "8   4171 Total Reviews   Rs1990.03   \n",
       "9   1175 Total Reviews   Rs5728.88   \n",
       "10    17 Total Reviews   Rs7437.49   \n",
       "11     0 Total Reviews  Rs10995.43   \n",
       "12     0 Total Reviews  Rs12059.80   \n",
       "13    39 Total Reviews   Rs7638.51   \n",
       "14     6 Total Reviews   Rs7494.78   \n",
       "15     0 Total Reviews           -   \n",
       "16     2 Total Reviews  Rs30882.69   \n",
       "17   113 Total Reviews   Rs5997.23   \n",
       "18     0 Total Reviews   Rs7035.47   \n",
       "19     0 Total Reviews   Rs8442.56   \n",
       "20     0 Total Reviews   Rs6499.77   \n",
       "21     0 Total Reviews   Rs6030.40   \n",
       "22   406 Total Reviews   Rs8911.93   \n",
       "23     0 Total Reviews   Rs7035.47   \n",
       "24     0 Total Reviews  Rs19330.45   \n",
       "25   277 Total Reviews   Rs9648.64   \n",
       "26   109 Total Reviews  Rs16248.92   \n",
       "27     0 Total Reviews   Rs6934.96   \n",
       "\n",
       "                                          Description  \\\n",
       "0   Welcome to Clink261!\\n\\nClink261 is a comforta...   \n",
       "1   Temporary changes at YHA London Central\\n\\nThi...   \n",
       "2   Kensal Green Backpackers is a legendary hostel...   \n",
       "3   We are located in central London - just 5 minu...   \n",
       "4   A quiet hideaway from the bustle of the busies...   \n",
       "5   Our hostel is located inside a traditional Eng...   \n",
       "6   Set over a pub and restaurant in Willesden Jun...   \n",
       "7                                                   -   \n",
       "8   IMPORTANT NOTICE: This hostel is for 18 - 35-y...   \n",
       "9   Welcome to Venture Hostel.Venture Hostel is a ...   \n",
       "10  The Britannia Inn Hotel is situated near the I...   \n",
       "11  Our lovely boutique hotel is conveniently loca...   \n",
       "12  A friendly, family run hotel offering comforta...   \n",
       "13  I regret booking this property. The location w...   \n",
       "14  Barry House is a Central London bed and breakf...   \n",
       "15  With friendly staff, excellent service and an ...   \n",
       "16  Combining Victorian charm with Modern Luxury T...   \n",
       "17  We booked 2 rooms but were told by the recepti...   \n",
       "18  The Hyde Park Court Hotel is a centrally locat...   \n",
       "19  Comfortable family run B&B hotel , very centra...   \n",
       "20  Set in London, 4.3 miles from London Zoo, Gold...   \n",
       "21  In the Heart of Ilford, Greater London region,...   \n",
       "22  Central London Hotel Accommodation situated in...   \n",
       "23  Aron Guest House provides an excellent base, w...   \n",
       "24  Beaconsfield is a basic, budget hotel, situate...   \n",
       "25  The W14 Hotel London is a 3 star Superior Budg...   \n",
       "26  This Hotel is the right choice for visitors wh...   \n",
       "27  We are located about twenty minutes by tube fr...   \n",
       "\n",
       "                                             Facility  \n",
       "0   Free\\nLinen Included Free City Maps Free WiFi\\...  \n",
       "1   Free\\nLinen Included Free City Maps Free WiFi\\...  \n",
       "2   Free\\nLinen Included Free City Maps\\nGeneral\\n...  \n",
       "3   Free\\nFree Breakfast Linen Included Free City ...  \n",
       "4   Free\\nLinen Included Free City Maps Free WiFi\\...  \n",
       "5   Free\\nLinen Included Free Parking Towels Inclu...  \n",
       "6   Free\\nLinen Included Free City Maps Free WiFi ...  \n",
       "7   Free\\nLinen Included Free City Maps Towels Inc...  \n",
       "8   Free\\nFree Breakfast Linen Included Free City ...  \n",
       "9   Free\\nLinen Included Free City Maps Free WiFi ...  \n",
       "10  Free\\nFree Breakfast Free Parking Free Interne...  \n",
       "11  Free\\nFree City Maps Free WiFi\\nGeneral\\nKey C...  \n",
       "12  Free\\nLinen Included Towels Included Free WiFi...  \n",
       "13  Free\\nFree Internet Access\\nGeneral\\nSwimming ...  \n",
       "14  Free\\nFree Breakfast Free City Maps Towels Inc...  \n",
       "15  Free\\nFree Breakfast Free City Maps Towels Inc...  \n",
       "16  Free\\nTowels Included Free WiFi\\nGeneral\\nKey ...  \n",
       "17  Free\\nFree Internet Access\\nGeneral\\nHair Drye...  \n",
       "18  Free\\nFree Breakfast Free City Maps Free WiFi ...  \n",
       "19  Free\\nFree Breakfast Towels Included Free WiFi...  \n",
       "20  Free\\nLinen Included Free Parking Towels Inclu...  \n",
       "21  Free\\nLinen Included Free Parking Towels Inclu...  \n",
       "22  Free\\nFree Breakfast Free Internet Access\\nGen...  \n",
       "23  Free\\nFree Parking Towels Included Free WiFi\\n...  \n",
       "24  Free\\nFree WiFi\\nFood & Drink\\nBar Tea & Coffe...  \n",
       "25  Free\\nFree Breakfast Linen Included Free City ...  \n",
       "26  Free\\nFree Breakfast Free Parking\\nGeneral\\nPa...  \n",
       "27  Free\\nFree Breakfast Free Parking\\nGeneral\\nHo...  "
      ]
     },
     "execution_count": 61,
     "metadata": {},
     "output_type": "execute_result"
    }
   ],
   "source": [
    "hostel2"
   ]
  },
  {
   "cell_type": "code",
   "execution_count": 62,
   "id": "37d583d8",
   "metadata": {},
   "outputs": [],
   "source": [
    "hostel = pd.concat([hostel1, hostel2], axis= 0)"
   ]
  },
  {
   "cell_type": "code",
   "execution_count": 64,
   "id": "f65b8770",
   "metadata": {},
   "outputs": [],
   "source": [
    "hostel = hostel.reset_index()"
   ]
  },
  {
   "cell_type": "code",
   "execution_count": 66,
   "id": "411a3057",
   "metadata": {},
   "outputs": [],
   "source": [
    "hostel.drop(['index'], axis= 1, inplace= True)"
   ]
  },
  {
   "cell_type": "code",
   "execution_count": 67,
   "id": "c1915b69",
   "metadata": {},
   "outputs": [
    {
     "data": {
      "text/html": [
       "<div>\n",
       "<style scoped>\n",
       "    .dataframe tbody tr th:only-of-type {\n",
       "        vertical-align: middle;\n",
       "    }\n",
       "\n",
       "    .dataframe tbody tr th {\n",
       "        vertical-align: top;\n",
       "    }\n",
       "\n",
       "    .dataframe thead th {\n",
       "        text-align: right;\n",
       "    }\n",
       "</style>\n",
       "<table border=\"1\" class=\"dataframe\">\n",
       "  <thead>\n",
       "    <tr style=\"text-align: right;\">\n",
       "      <th></th>\n",
       "      <th>Hostel Name</th>\n",
       "      <th>Distance from Center</th>\n",
       "      <th>Hostel Rating</th>\n",
       "      <th>Overall Review</th>\n",
       "      <th>Total Review</th>\n",
       "      <th>Dorm Price</th>\n",
       "      <th>Description</th>\n",
       "      <th>Facility</th>\n",
       "    </tr>\n",
       "  </thead>\n",
       "  <tbody>\n",
       "    <tr>\n",
       "      <th>0</th>\n",
       "      <td>Mornington Camden</td>\n",
       "      <td>Hostel - 4.1km from city centre</td>\n",
       "      <td>8.3</td>\n",
       "      <td>Fabulous</td>\n",
       "      <td>44 Total Reviews</td>\n",
       "      <td>Rs3883</td>\n",
       "      <td>Mornington Camden Hostel is a high class spaci...</td>\n",
       "      <td>Deluxe private bathrooms overlooking garden. E...</td>\n",
       "    </tr>\n",
       "    <tr>\n",
       "      <th>1</th>\n",
       "      <td>Smart Russell Square Hostel</td>\n",
       "      <td>Hostel - 2.6km from city centre</td>\n",
       "      <td>6.7</td>\n",
       "      <td>Good</td>\n",
       "      <td>9561 Total Reviews</td>\n",
       "      <td>Rs1503</td>\n",
       "      <td>Really is a great Hostel, at a very reasonable...</td>\n",
       "      <td>Our 15 Bedded dorm with en-suite bathroom offe...</td>\n",
       "    </tr>\n",
       "    <tr>\n",
       "      <th>2</th>\n",
       "      <td>Smart Camden Inn Hostel</td>\n",
       "      <td>Hostel - 4.4km from city centre</td>\n",
       "      <td>8.4</td>\n",
       "      <td>Fabulous</td>\n",
       "      <td>2731 Total Reviews</td>\n",
       "      <td>Rs6493</td>\n",
       "      <td>We booked a private room and it was really lov...</td>\n",
       "      <td>- Private Room (Max 2 persons) - 1 Double Bed ...</td>\n",
       "    </tr>\n",
       "    <tr>\n",
       "      <th>3</th>\n",
       "      <td>Queen Elizabeth Chelsea</td>\n",
       "      <td>Hostel - 5.7km from city centre</td>\n",
       "      <td>7.5</td>\n",
       "      <td>Very Good</td>\n",
       "      <td>3212 Total Reviews</td>\n",
       "      <td>Rs1971</td>\n",
       "      <td>PLEASE NOTE WE ONLY ACCEPT GUESTS FROM THE AGE...</td>\n",
       "      <td>Twin room with bunkbed</td>\n",
       "    </tr>\n",
       "    <tr>\n",
       "      <th>4</th>\n",
       "      <td>Pickwick Hall</td>\n",
       "      <td>Hostel - 2.3km from city centre</td>\n",
       "      <td>9.0</td>\n",
       "      <td>Superb</td>\n",
       "      <td>2273 Total Reviews</td>\n",
       "      <td>Rs3602</td>\n",
       "      <td>Pickwick Hall provides accommodation for touri...</td>\n",
       "      <td>-</td>\n",
       "    </tr>\n",
       "    <tr>\n",
       "      <th>5</th>\n",
       "      <td>New Cross Inn Hostel</td>\n",
       "      <td>Hostel - 6.1km from city centre</td>\n",
       "      <td>7.4</td>\n",
       "      <td>Very Good</td>\n",
       "      <td>1047 Total Reviews</td>\n",
       "      <td>Rs1719</td>\n",
       "      <td>Welcome to New Cross Inn Hostel!\\n\\nA Friendly...</td>\n",
       "      <td>-</td>\n",
       "    </tr>\n",
       "    <tr>\n",
       "      <th>6</th>\n",
       "      <td>No.8 Willesden Hostel London</td>\n",
       "      <td>Hostel - 10km from city centre</td>\n",
       "      <td>7.5</td>\n",
       "      <td>Very Good</td>\n",
       "      <td>4630 Total Reviews</td>\n",
       "      <td>Rs6633</td>\n",
       "      <td>At No.8 we take pride in our Customer Service ...</td>\n",
       "      <td>Spacious &amp; Modern Bedroom with a Single Bed, C...</td>\n",
       "    </tr>\n",
       "    <tr>\n",
       "      <th>7</th>\n",
       "      <td>Safestay London Elephant &amp; Castle</td>\n",
       "      <td>Hostel - 1.7km from city centre</td>\n",
       "      <td>7.9</td>\n",
       "      <td>Very Good</td>\n",
       "      <td>4020 Total Reviews</td>\n",
       "      <td>Rs2564.41 Rs2308</td>\n",
       "      <td>Safestay at Elephant &amp; Castle is ideal if you ...</td>\n",
       "      <td>This room consists of a single bed over a doub...</td>\n",
       "    </tr>\n",
       "    <tr>\n",
       "      <th>8</th>\n",
       "      <td>Barmy Badger Backpackers</td>\n",
       "      <td>Hostel - 5.5km from city centre</td>\n",
       "      <td>9.3</td>\n",
       "      <td>Superb</td>\n",
       "      <td>1687 Total Reviews</td>\n",
       "      <td>Rs2977</td>\n",
       "      <td>The Badger is unique for London in that we hav...</td>\n",
       "      <td>Bunk bed with sink in room. Laptop safe in per...</td>\n",
       "    </tr>\n",
       "    <tr>\n",
       "      <th>9</th>\n",
       "      <td>No.8 Seven Sisters</td>\n",
       "      <td>Hostel - 9km from city centre</td>\n",
       "      <td>6.7</td>\n",
       "      <td>Good</td>\n",
       "      <td>3681 Total Reviews</td>\n",
       "      <td>Rs1134</td>\n",
       "      <td>For Great Facilities, Comfort &amp; Affordability ...</td>\n",
       "      <td>Spacious &amp; Modern Bedroom with 3 Bunk Beds, Co...</td>\n",
       "    </tr>\n",
       "    <tr>\n",
       "      <th>10</th>\n",
       "      <td>Burlington Residence</td>\n",
       "      <td>Hostel - 7.1km from city centre</td>\n",
       "      <td>9.2</td>\n",
       "      <td>Superb</td>\n",
       "      <td>33 Total Reviews</td>\n",
       "      <td>Rs9649</td>\n",
       "      <td>Situated in South West London, close to Balham...</td>\n",
       "      <td>One brand new in-built triple bunk bed and en-...</td>\n",
       "    </tr>\n",
       "    <tr>\n",
       "      <th>11</th>\n",
       "      <td>Park Villa</td>\n",
       "      <td>Hostel - 6.3km from city centre</td>\n",
       "      <td>8.3</td>\n",
       "      <td>Fabulous</td>\n",
       "      <td>854 Total Reviews</td>\n",
       "      <td>Rs2412</td>\n",
       "      <td>Park Villa is a new boutique hostel in the hea...</td>\n",
       "      <td>This room features two single beds, with lots ...</td>\n",
       "    </tr>\n",
       "    <tr>\n",
       "      <th>12</th>\n",
       "      <td>Wombat's The City Hostel London</td>\n",
       "      <td>Hostel - 3.6km from city centre</td>\n",
       "      <td>8.8</td>\n",
       "      <td>Fabulous</td>\n",
       "      <td>13358 Total Reviews</td>\n",
       "      <td>Rs6164</td>\n",
       "      <td>Wombat's The City Hostel London is definitely ...</td>\n",
       "      <td>Private Double Room with * a comfy double bed ...</td>\n",
       "    </tr>\n",
       "    <tr>\n",
       "      <th>13</th>\n",
       "      <td>St Christopher's Greenwich</td>\n",
       "      <td>Hostel - 7.6km from city centre</td>\n",
       "      <td>6.7</td>\n",
       "      <td>Good</td>\n",
       "      <td>3152 Total Reviews</td>\n",
       "      <td>Rs2513</td>\n",
       "      <td>COVID 19 Policy Update.\\nIn response to Corona...</td>\n",
       "      <td>Spacious triple bunk room complete with locker...</td>\n",
       "    </tr>\n",
       "    <tr>\n",
       "      <th>14</th>\n",
       "      <td>St Christopher's Oasis-Female Only</td>\n",
       "      <td>Hostel - 1.8km from city centre</td>\n",
       "      <td>8.0</td>\n",
       "      <td>Fabulous</td>\n",
       "      <td>617 Total Reviews</td>\n",
       "      <td>Rs1268</td>\n",
       "      <td>COVID 19 Policy Update.\\nIn response to Corona...</td>\n",
       "      <td>Spacious standard bunk room complete with lock...</td>\n",
       "    </tr>\n",
       "    <tr>\n",
       "      <th>15</th>\n",
       "      <td>St Christopher's Camden</td>\n",
       "      <td>Hostel - 4.3km from city centre</td>\n",
       "      <td>7.2</td>\n",
       "      <td>Very Good</td>\n",
       "      <td>3729 Total Reviews</td>\n",
       "      <td>Rs5997</td>\n",
       "      <td>COVID 19 Policy Update.\\nIn response to Corona...</td>\n",
       "      <td>Spacious triple bunk room complete with locker...</td>\n",
       "    </tr>\n",
       "    <tr>\n",
       "      <th>16</th>\n",
       "      <td>St Christopher's Shepherds Bush</td>\n",
       "      <td>Hostel - 7km from city centre</td>\n",
       "      <td>8.6</td>\n",
       "      <td>Fabulous</td>\n",
       "      <td>639 Total Reviews</td>\n",
       "      <td>Rs3484.24 Rs2787</td>\n",
       "      <td>COVID 19 Policy Update.\\nIn response to Corona...</td>\n",
       "      <td>Spacious triple bunk room complete with locker...</td>\n",
       "    </tr>\n",
       "    <tr>\n",
       "      <th>17</th>\n",
       "      <td>St Christopher's Hammersmith</td>\n",
       "      <td>Hostel - 7.5km from city centre</td>\n",
       "      <td>7.6</td>\n",
       "      <td>Very Good</td>\n",
       "      <td>3967 Total Reviews</td>\n",
       "      <td>Rs7850</td>\n",
       "      <td>In response to Coronavirus (COVID-19), additio...</td>\n",
       "      <td>Spacious triple bunk room complete with locker...</td>\n",
       "    </tr>\n",
       "    <tr>\n",
       "      <th>18</th>\n",
       "      <td>Smart Hyde Park Inn Hostel</td>\n",
       "      <td>Hostel - 5km from city centre</td>\n",
       "      <td>6.8</td>\n",
       "      <td>Good</td>\n",
       "      <td>6258 Total Reviews</td>\n",
       "      <td>Rs3096</td>\n",
       "      <td>Hi I was going first time saw staff women shor...</td>\n",
       "      <td>Our 20 Bedded dorm with Shared Facilities offe...</td>\n",
       "    </tr>\n",
       "    <tr>\n",
       "      <th>19</th>\n",
       "      <td>Smart Hyde Park View Hostel</td>\n",
       "      <td>Hostel - 5km from city centre</td>\n",
       "      <td>7.7</td>\n",
       "      <td>Very Good</td>\n",
       "      <td>4514 Total Reviews</td>\n",
       "      <td>Rs13683.45 Rs11357</td>\n",
       "      <td>Everything was perfect...., very clean, perfec...</td>\n",
       "      <td>- Private Room (Max 2 persons) - 2 Single Bed ...</td>\n",
       "    </tr>\n",
       "    <tr>\n",
       "      <th>20</th>\n",
       "      <td>Safestay London Kensington Holland Park</td>\n",
       "      <td>Hostel - 5.9km from city centre</td>\n",
       "      <td>8.2</td>\n",
       "      <td>Fabulous</td>\n",
       "      <td>1105 Total Reviews</td>\n",
       "      <td>Rs3903.68 Rs2928</td>\n",
       "      <td>Safestay Holland Park\\n\\nSafestay Holland Park...</td>\n",
       "      <td>Twin Room with shared bathroom.</td>\n",
       "    </tr>\n",
       "    <tr>\n",
       "      <th>21</th>\n",
       "      <td>Urbany Hostel London</td>\n",
       "      <td>Hostel - 5.4km from city centre</td>\n",
       "      <td>9.6</td>\n",
       "      <td>Superb</td>\n",
       "      <td>183 Total Reviews</td>\n",
       "      <td>Rs1479.68 Rs1332</td>\n",
       "      <td>Welcome to Urbany Hostel London, our first int...</td>\n",
       "      <td>Twin Private Room</td>\n",
       "    </tr>\n",
       "    <tr>\n",
       "      <th>22</th>\n",
       "      <td>Phoenix Hostel</td>\n",
       "      <td>Hostel - 4.2km from city centre</td>\n",
       "      <td>7.7</td>\n",
       "      <td>Very Good</td>\n",
       "      <td>3474 Total Reviews</td>\n",
       "      <td>Rs1774.13 Rs1597</td>\n",
       "      <td>*Please note we are operating on LIMITED recep...</td>\n",
       "      <td>-</td>\n",
       "    </tr>\n",
       "    <tr>\n",
       "      <th>23</th>\n",
       "      <td>Prime Backpackers Angel</td>\n",
       "      <td>Hostel - 3.6km from city centre</td>\n",
       "      <td>9.2</td>\n",
       "      <td>Superb</td>\n",
       "      <td>529 Total Reviews</td>\n",
       "      <td>Rs1796.09 Rs1616</td>\n",
       "      <td>The hostel is housed in a historic building in...</td>\n",
       "      <td>3 Tier Bunks</td>\n",
       "    </tr>\n",
       "    <tr>\n",
       "      <th>24</th>\n",
       "      <td>YHA London Earls Court</td>\n",
       "      <td>Hostel - 5.1km from city centre</td>\n",
       "      <td>9.6</td>\n",
       "      <td>Superb</td>\n",
       "      <td>1382 Total Reviews</td>\n",
       "      <td>Rs1654.27 Rs1489</td>\n",
       "      <td>Temporary changes at YHA London Earl's Court\\n...</td>\n",
       "      <td>-</td>\n",
       "    </tr>\n",
       "    <tr>\n",
       "      <th>25</th>\n",
       "      <td>Generator London</td>\n",
       "      <td>Hostel - 3km from city centre</td>\n",
       "      <td>7.8</td>\n",
       "      <td>Very Good</td>\n",
       "      <td>6788 Total Reviews</td>\n",
       "      <td>Rs1625.23 Rs1463</td>\n",
       "      <td>Generator London is a design hotel-hostel loca...</td>\n",
       "      <td>\"The perfect space for two travellers on tour....</td>\n",
       "    </tr>\n",
       "    <tr>\n",
       "      <th>26</th>\n",
       "      <td>St Christopher's Village</td>\n",
       "      <td>Hostel - 1.8km from city centre</td>\n",
       "      <td>8.2</td>\n",
       "      <td>Fabulous</td>\n",
       "      <td>10958 Total Reviews</td>\n",
       "      <td>Rs1452</td>\n",
       "      <td>COVID 19 Policy Update.\\nIn response to Corona...</td>\n",
       "      <td>Spacious triple bunk room complete with locker...</td>\n",
       "    </tr>\n",
       "    <tr>\n",
       "      <th>27</th>\n",
       "      <td>PubLove @ The Exmouth Arms, Euston</td>\n",
       "      <td>Hostel - 3.4km from city centre</td>\n",
       "      <td>7.5</td>\n",
       "      <td>Very Good</td>\n",
       "      <td>991 Total Reviews</td>\n",
       "      <td>Rs6363</td>\n",
       "      <td>Do Camden by day and curb side beers by night....</td>\n",
       "      <td>Book one bed (or more) in this shared dormitor...</td>\n",
       "    </tr>\n",
       "    <tr>\n",
       "      <th>28</th>\n",
       "      <td>YHA London St Pancras</td>\n",
       "      <td>Hostel - 3.3km from city centre</td>\n",
       "      <td>9.3</td>\n",
       "      <td>Superb</td>\n",
       "      <td>2794 Total Reviews</td>\n",
       "      <td>Rs1787</td>\n",
       "      <td>Temporary changes at YHA London St Pancras, pl...</td>\n",
       "      <td>-</td>\n",
       "    </tr>\n",
       "    <tr>\n",
       "      <th>29</th>\n",
       "      <td>Strand Continental</td>\n",
       "      <td>Hostel - 1.3km from city centre</td>\n",
       "      <td>7.7</td>\n",
       "      <td>Very Good</td>\n",
       "      <td>802 Total Reviews</td>\n",
       "      <td>Rs8141</td>\n",
       "      <td>Welcome to one of London's cheapest, friendlie...</td>\n",
       "      <td>shared bathroom</td>\n",
       "    </tr>\n",
       "    <tr>\n",
       "      <th>30</th>\n",
       "      <td>Clink261</td>\n",
       "      <td>Hostel - 3.2km from city centre</td>\n",
       "      <td>7.0</td>\n",
       "      <td>Very Good</td>\n",
       "      <td>3202 Total Reviews</td>\n",
       "      <td>Rs2235.27</td>\n",
       "      <td>Welcome to Clink261!\\n\\nClink261 is a comforta...</td>\n",
       "      <td>Free\\nLinen Included Free City Maps Free WiFi\\...</td>\n",
       "    </tr>\n",
       "    <tr>\n",
       "      <th>31</th>\n",
       "      <td>YHA London Central</td>\n",
       "      <td>Hostel - 2.9km from city centre</td>\n",
       "      <td>9.1</td>\n",
       "      <td>Superb</td>\n",
       "      <td>4705 Total Reviews</td>\n",
       "      <td>Rs10821.55</td>\n",
       "      <td>Temporary changes at YHA London Central\\n\\nThi...</td>\n",
       "      <td>Free\\nLinen Included Free City Maps Free WiFi\\...</td>\n",
       "    </tr>\n",
       "    <tr>\n",
       "      <th>32</th>\n",
       "      <td>Kensal Green Backpackers</td>\n",
       "      <td>Hostel - 8.2km from city centre</td>\n",
       "      <td>6.6</td>\n",
       "      <td>Good</td>\n",
       "      <td>3608 Total Reviews</td>\n",
       "      <td>Rs1239.25</td>\n",
       "      <td>Kensal Green Backpackers is a legendary hostel...</td>\n",
       "      <td>Free\\nLinen Included Free City Maps\\nGeneral\\n...</td>\n",
       "    </tr>\n",
       "    <tr>\n",
       "      <th>33</th>\n",
       "      <td>Saint James Backpackers</td>\n",
       "      <td>Hostel - 5.5km from city centre</td>\n",
       "      <td>6.8</td>\n",
       "      <td>Good</td>\n",
       "      <td>1778 Total Reviews</td>\n",
       "      <td>Rs5793.21</td>\n",
       "      <td>We are located in central London - just 5 minu...</td>\n",
       "      <td>Free\\nFree Breakfast Linen Included Free City ...</td>\n",
       "    </tr>\n",
       "    <tr>\n",
       "      <th>34</th>\n",
       "      <td>YHA London Oxford Street</td>\n",
       "      <td>Hostel - 2.1km from city centre</td>\n",
       "      <td>9.7</td>\n",
       "      <td>Superb</td>\n",
       "      <td>4498 Total Reviews</td>\n",
       "      <td>Rs9950.16</td>\n",
       "      <td>A quiet hideaway from the bustle of the busies...</td>\n",
       "      <td>Free\\nLinen Included Free City Maps Free WiFi\\...</td>\n",
       "    </tr>\n",
       "    <tr>\n",
       "      <th>35</th>\n",
       "      <td>The Backpackshack</td>\n",
       "      <td>Hostel - 10.9km from city centre</td>\n",
       "      <td>8.9</td>\n",
       "      <td>Fabulous</td>\n",
       "      <td>715 Total Reviews</td>\n",
       "      <td>Rs4020.27</td>\n",
       "      <td>Our hostel is located inside a traditional Eng...</td>\n",
       "      <td>Free\\nLinen Included Free Parking Towels Inclu...</td>\n",
       "    </tr>\n",
       "    <tr>\n",
       "      <th>36</th>\n",
       "      <td>Le Junction Hostel - Pub &amp; Garden</td>\n",
       "      <td>Hostel - 9.8km from city centre</td>\n",
       "      <td>7.5</td>\n",
       "      <td>Very Good</td>\n",
       "      <td>387 Total Reviews</td>\n",
       "      <td>Rs1306.59</td>\n",
       "      <td>Set over a pub and restaurant in Willesden Jun...</td>\n",
       "      <td>Free\\nLinen Included Free City Maps Free WiFi ...</td>\n",
       "    </tr>\n",
       "    <tr>\n",
       "      <th>37</th>\n",
       "      <td>Abercorn House</td>\n",
       "      <td>Hostel - 7.3km from city centre</td>\n",
       "      <td>6.9</td>\n",
       "      <td>Good</td>\n",
       "      <td>3676 Total Reviews</td>\n",
       "      <td>Rs3952.93</td>\n",
       "      <td>-</td>\n",
       "      <td>Free\\nLinen Included Free City Maps Towels Inc...</td>\n",
       "    </tr>\n",
       "    <tr>\n",
       "      <th>38</th>\n",
       "      <td>London Backpackers</td>\n",
       "      <td>Hostel - 11.9km from city centre</td>\n",
       "      <td>8.4</td>\n",
       "      <td>Fabulous</td>\n",
       "      <td>4171 Total Reviews</td>\n",
       "      <td>Rs1990.03</td>\n",
       "      <td>IMPORTANT NOTICE: This hostel is for 18 - 35-y...</td>\n",
       "      <td>Free\\nFree Breakfast Linen Included Free City ...</td>\n",
       "    </tr>\n",
       "    <tr>\n",
       "      <th>39</th>\n",
       "      <td>Venture Hostel</td>\n",
       "      <td>Hostel - 6.9km from city centre</td>\n",
       "      <td>-</td>\n",
       "      <td>Rating</td>\n",
       "      <td>1175 Total Reviews</td>\n",
       "      <td>Rs5728.88</td>\n",
       "      <td>Welcome to Venture Hostel.Venture Hostel is a ...</td>\n",
       "      <td>Free\\nLinen Included Free City Maps Free WiFi ...</td>\n",
       "    </tr>\n",
       "    <tr>\n",
       "      <th>40</th>\n",
       "      <td>Britannia Inn Hotel</td>\n",
       "      <td>Hotel - 14.5km from city centre</td>\n",
       "      <td>9.7</td>\n",
       "      <td>Superb</td>\n",
       "      <td>17 Total Reviews</td>\n",
       "      <td>Rs7437.49</td>\n",
       "      <td>The Britannia Inn Hotel is situated near the I...</td>\n",
       "      <td>Free\\nFree Breakfast Free Parking Free Interne...</td>\n",
       "    </tr>\n",
       "    <tr>\n",
       "      <th>41</th>\n",
       "      <td>London House Hotel</td>\n",
       "      <td>Hotel - 5.3km from city centre</td>\n",
       "      <td>-</td>\n",
       "      <td>No Rating</td>\n",
       "      <td>0 Total Reviews</td>\n",
       "      <td>Rs10995.43</td>\n",
       "      <td>Our lovely boutique hotel is conveniently loca...</td>\n",
       "      <td>Free\\nFree City Maps Free WiFi\\nGeneral\\nKey C...</td>\n",
       "    </tr>\n",
       "    <tr>\n",
       "      <th>42</th>\n",
       "      <td>Park Hotel</td>\n",
       "      <td>Hotel - 4.9km from city centre</td>\n",
       "      <td>-</td>\n",
       "      <td>No Rating</td>\n",
       "      <td>0 Total Reviews</td>\n",
       "      <td>Rs12059.80</td>\n",
       "      <td>A friendly, family run hotel offering comforta...</td>\n",
       "      <td>Free\\nLinen Included Towels Included Free WiFi...</td>\n",
       "    </tr>\n",
       "    <tr>\n",
       "      <th>43</th>\n",
       "      <td>City Hotel Carlton</td>\n",
       "      <td>Hotel - 1.8km from city centre</td>\n",
       "      <td>-</td>\n",
       "      <td>Rating</td>\n",
       "      <td>39 Total Reviews</td>\n",
       "      <td>Rs7638.51</td>\n",
       "      <td>I regret booking this property. The location w...</td>\n",
       "      <td>Free\\nFree Internet Access\\nGeneral\\nSwimming ...</td>\n",
       "    </tr>\n",
       "    <tr>\n",
       "      <th>44</th>\n",
       "      <td>Barry House</td>\n",
       "      <td>Bed and Breakfast - 4.2km from city centre</td>\n",
       "      <td>8.3</td>\n",
       "      <td>Fabulous</td>\n",
       "      <td>6 Total Reviews</td>\n",
       "      <td>Rs7494.78</td>\n",
       "      <td>Barry House is a Central London bed and breakf...</td>\n",
       "      <td>Free\\nFree Breakfast Free City Maps Towels Inc...</td>\n",
       "    </tr>\n",
       "    <tr>\n",
       "      <th>45</th>\n",
       "      <td>The Dover</td>\n",
       "      <td>Hotel - 1.9km from city centre</td>\n",
       "      <td>-</td>\n",
       "      <td>No Rating</td>\n",
       "      <td>0 Total Reviews</td>\n",
       "      <td>-</td>\n",
       "      <td>With friendly staff, excellent service and an ...</td>\n",
       "      <td>Free\\nFree Breakfast Free City Maps Towels Inc...</td>\n",
       "    </tr>\n",
       "    <tr>\n",
       "      <th>46</th>\n",
       "      <td>Best Western Boltons London Kensington</td>\n",
       "      <td>Hotel - 5.4km from city centre</td>\n",
       "      <td>-</td>\n",
       "      <td>Rating</td>\n",
       "      <td>2 Total Reviews</td>\n",
       "      <td>Rs30882.69</td>\n",
       "      <td>Combining Victorian charm with Modern Luxury T...</td>\n",
       "      <td>Free\\nTowels Included Free WiFi\\nGeneral\\nKey ...</td>\n",
       "    </tr>\n",
       "    <tr>\n",
       "      <th>47</th>\n",
       "      <td>Elmwood Hotel</td>\n",
       "      <td>Hotel - 3.2km from city centre</td>\n",
       "      <td>6.3</td>\n",
       "      <td>Good</td>\n",
       "      <td>113 Total Reviews</td>\n",
       "      <td>Rs5997.23</td>\n",
       "      <td>We booked 2 rooms but were told by the recepti...</td>\n",
       "      <td>Free\\nFree Internet Access\\nGeneral\\nHair Drye...</td>\n",
       "    </tr>\n",
       "    <tr>\n",
       "      <th>48</th>\n",
       "      <td>Hyde Park Court Hotel</td>\n",
       "      <td>Hotel - 4.3km from city centre</td>\n",
       "      <td>-</td>\n",
       "      <td>No Rating</td>\n",
       "      <td>0 Total Reviews</td>\n",
       "      <td>Rs7035.47</td>\n",
       "      <td>The Hyde Park Court Hotel is a centrally locat...</td>\n",
       "      <td>Free\\nFree Breakfast Free City Maps Free WiFi ...</td>\n",
       "    </tr>\n",
       "    <tr>\n",
       "      <th>49</th>\n",
       "      <td>Fairway Hotel</td>\n",
       "      <td>Bed and Breakfast - 3.3km from city centre</td>\n",
       "      <td>-</td>\n",
       "      <td>No Rating</td>\n",
       "      <td>0 Total Reviews</td>\n",
       "      <td>Rs8442.56</td>\n",
       "      <td>Comfortable family run B&amp;B hotel , very centra...</td>\n",
       "      <td>Free\\nFree Breakfast Towels Included Free WiFi...</td>\n",
       "    </tr>\n",
       "    <tr>\n",
       "      <th>50</th>\n",
       "      <td>Golders Park Hotel</td>\n",
       "      <td>Hotel - 10.4km from city centre</td>\n",
       "      <td>-</td>\n",
       "      <td>No Rating</td>\n",
       "      <td>0 Total Reviews</td>\n",
       "      <td>Rs6499.77</td>\n",
       "      <td>Set in London, 4.3 miles from London Zoo, Gold...</td>\n",
       "      <td>Free\\nLinen Included Free Parking Towels Inclu...</td>\n",
       "    </tr>\n",
       "    <tr>\n",
       "      <th>51</th>\n",
       "      <td>Wellesley Hotel</td>\n",
       "      <td>Hotel - 14.7km from city centre</td>\n",
       "      <td>-</td>\n",
       "      <td>No Rating</td>\n",
       "      <td>0 Total Reviews</td>\n",
       "      <td>Rs6030.40</td>\n",
       "      <td>In the Heart of Ilford, Greater London region,...</td>\n",
       "      <td>Free\\nLinen Included Free Parking Towels Inclu...</td>\n",
       "    </tr>\n",
       "    <tr>\n",
       "      <th>52</th>\n",
       "      <td>Tony's House Hotel</td>\n",
       "      <td>Hotel - 4.3km from city centre</td>\n",
       "      <td>9.4</td>\n",
       "      <td>Superb</td>\n",
       "      <td>406 Total Reviews</td>\n",
       "      <td>Rs8911.93</td>\n",
       "      <td>Central London Hotel Accommodation situated in...</td>\n",
       "      <td>Free\\nFree Breakfast Free Internet Access\\nGen...</td>\n",
       "    </tr>\n",
       "    <tr>\n",
       "      <th>53</th>\n",
       "      <td>Aron Guest House</td>\n",
       "      <td>Bed and Breakfast - 13.1km from city centre</td>\n",
       "      <td>-</td>\n",
       "      <td>No Rating</td>\n",
       "      <td>0 Total Reviews</td>\n",
       "      <td>Rs7035.47</td>\n",
       "      <td>Aron Guest House provides an excellent base, w...</td>\n",
       "      <td>Free\\nFree Parking Towels Included Free WiFi\\n...</td>\n",
       "    </tr>\n",
       "    <tr>\n",
       "      <th>54</th>\n",
       "      <td>Beaconsfield</td>\n",
       "      <td>Hotel - 8.6km from city centre</td>\n",
       "      <td>-</td>\n",
       "      <td>No Rating</td>\n",
       "      <td>0 Total Reviews</td>\n",
       "      <td>Rs19330.45</td>\n",
       "      <td>Beaconsfield is a basic, budget hotel, situate...</td>\n",
       "      <td>Free\\nFree WiFi\\nFood &amp; Drink\\nBar Tea &amp; Coffe...</td>\n",
       "    </tr>\n",
       "    <tr>\n",
       "      <th>55</th>\n",
       "      <td>The W14 Hotel &amp; Bar</td>\n",
       "      <td>Hotel - 6.5km from city centre</td>\n",
       "      <td>9.7</td>\n",
       "      <td>Superb</td>\n",
       "      <td>277 Total Reviews</td>\n",
       "      <td>Rs9648.64</td>\n",
       "      <td>The W14 Hotel London is a 3 star Superior Budg...</td>\n",
       "      <td>Free\\nFree Breakfast Linen Included Free City ...</td>\n",
       "    </tr>\n",
       "    <tr>\n",
       "      <th>56</th>\n",
       "      <td>Park Hotel Essex</td>\n",
       "      <td>Hotel - 24.1km from city centre</td>\n",
       "      <td>8.0</td>\n",
       "      <td>Fabulous</td>\n",
       "      <td>109 Total Reviews</td>\n",
       "      <td>Rs16248.92</td>\n",
       "      <td>This Hotel is the right choice for visitors wh...</td>\n",
       "      <td>Free\\nFree Breakfast Free Parking\\nGeneral\\nPa...</td>\n",
       "    </tr>\n",
       "    <tr>\n",
       "      <th>57</th>\n",
       "      <td>Cranbrook Hotel</td>\n",
       "      <td>Hotel - 14.8km from city centre</td>\n",
       "      <td>-</td>\n",
       "      <td>No Rating</td>\n",
       "      <td>0 Total Reviews</td>\n",
       "      <td>Rs6934.96</td>\n",
       "      <td>We are located about twenty minutes by tube fr...</td>\n",
       "      <td>Free\\nFree Breakfast Free Parking\\nGeneral\\nHo...</td>\n",
       "    </tr>\n",
       "  </tbody>\n",
       "</table>\n",
       "</div>"
      ],
      "text/plain": [
       "                                Hostel Name  \\\n",
       "0                         Mornington Camden   \n",
       "1               Smart Russell Square Hostel   \n",
       "2                   Smart Camden Inn Hostel   \n",
       "3                   Queen Elizabeth Chelsea   \n",
       "4                             Pickwick Hall   \n",
       "5                      New Cross Inn Hostel   \n",
       "6              No.8 Willesden Hostel London   \n",
       "7         Safestay London Elephant & Castle   \n",
       "8                  Barmy Badger Backpackers   \n",
       "9                        No.8 Seven Sisters   \n",
       "10                     Burlington Residence   \n",
       "11                               Park Villa   \n",
       "12          Wombat's The City Hostel London   \n",
       "13               St Christopher's Greenwich   \n",
       "14       St Christopher's Oasis-Female Only   \n",
       "15                  St Christopher's Camden   \n",
       "16          St Christopher's Shepherds Bush   \n",
       "17             St Christopher's Hammersmith   \n",
       "18               Smart Hyde Park Inn Hostel   \n",
       "19              Smart Hyde Park View Hostel   \n",
       "20  Safestay London Kensington Holland Park   \n",
       "21                     Urbany Hostel London   \n",
       "22                           Phoenix Hostel   \n",
       "23                  Prime Backpackers Angel   \n",
       "24                   YHA London Earls Court   \n",
       "25                         Generator London   \n",
       "26                 St Christopher's Village   \n",
       "27       PubLove @ The Exmouth Arms, Euston   \n",
       "28                    YHA London St Pancras   \n",
       "29                       Strand Continental   \n",
       "30                                 Clink261   \n",
       "31                       YHA London Central   \n",
       "32                 Kensal Green Backpackers   \n",
       "33                  Saint James Backpackers   \n",
       "34                 YHA London Oxford Street   \n",
       "35                        The Backpackshack   \n",
       "36        Le Junction Hostel - Pub & Garden   \n",
       "37                           Abercorn House   \n",
       "38                       London Backpackers   \n",
       "39                           Venture Hostel   \n",
       "40                      Britannia Inn Hotel   \n",
       "41                       London House Hotel   \n",
       "42                               Park Hotel   \n",
       "43                       City Hotel Carlton   \n",
       "44                              Barry House   \n",
       "45                                The Dover   \n",
       "46   Best Western Boltons London Kensington   \n",
       "47                            Elmwood Hotel   \n",
       "48                    Hyde Park Court Hotel   \n",
       "49                            Fairway Hotel   \n",
       "50                       Golders Park Hotel   \n",
       "51                          Wellesley Hotel   \n",
       "52                       Tony's House Hotel   \n",
       "53                         Aron Guest House   \n",
       "54                             Beaconsfield   \n",
       "55                      The W14 Hotel & Bar   \n",
       "56                         Park Hotel Essex   \n",
       "57                          Cranbrook Hotel   \n",
       "\n",
       "                           Distance from Center Hostel Rating Overall Review  \\\n",
       "0               Hostel - 4.1km from city centre           8.3       Fabulous   \n",
       "1               Hostel - 2.6km from city centre           6.7           Good   \n",
       "2               Hostel - 4.4km from city centre           8.4       Fabulous   \n",
       "3               Hostel - 5.7km from city centre           7.5      Very Good   \n",
       "4               Hostel - 2.3km from city centre           9.0         Superb   \n",
       "5               Hostel - 6.1km from city centre           7.4      Very Good   \n",
       "6                Hostel - 10km from city centre           7.5      Very Good   \n",
       "7               Hostel - 1.7km from city centre           7.9      Very Good   \n",
       "8               Hostel - 5.5km from city centre           9.3         Superb   \n",
       "9                 Hostel - 9km from city centre           6.7           Good   \n",
       "10              Hostel - 7.1km from city centre           9.2         Superb   \n",
       "11              Hostel - 6.3km from city centre           8.3       Fabulous   \n",
       "12              Hostel - 3.6km from city centre           8.8       Fabulous   \n",
       "13              Hostel - 7.6km from city centre           6.7           Good   \n",
       "14              Hostel - 1.8km from city centre           8.0       Fabulous   \n",
       "15              Hostel - 4.3km from city centre           7.2      Very Good   \n",
       "16                Hostel - 7km from city centre           8.6       Fabulous   \n",
       "17              Hostel - 7.5km from city centre           7.6      Very Good   \n",
       "18                Hostel - 5km from city centre           6.8           Good   \n",
       "19                Hostel - 5km from city centre           7.7      Very Good   \n",
       "20              Hostel - 5.9km from city centre           8.2       Fabulous   \n",
       "21              Hostel - 5.4km from city centre           9.6         Superb   \n",
       "22              Hostel - 4.2km from city centre           7.7      Very Good   \n",
       "23              Hostel - 3.6km from city centre           9.2         Superb   \n",
       "24              Hostel - 5.1km from city centre           9.6         Superb   \n",
       "25                Hostel - 3km from city centre           7.8      Very Good   \n",
       "26              Hostel - 1.8km from city centre           8.2       Fabulous   \n",
       "27              Hostel - 3.4km from city centre           7.5      Very Good   \n",
       "28              Hostel - 3.3km from city centre           9.3         Superb   \n",
       "29              Hostel - 1.3km from city centre           7.7      Very Good   \n",
       "30              Hostel - 3.2km from city centre           7.0      Very Good   \n",
       "31              Hostel - 2.9km from city centre           9.1         Superb   \n",
       "32              Hostel - 8.2km from city centre           6.6           Good   \n",
       "33              Hostel - 5.5km from city centre           6.8           Good   \n",
       "34              Hostel - 2.1km from city centre           9.7         Superb   \n",
       "35             Hostel - 10.9km from city centre           8.9       Fabulous   \n",
       "36              Hostel - 9.8km from city centre           7.5      Very Good   \n",
       "37              Hostel - 7.3km from city centre           6.9           Good   \n",
       "38             Hostel - 11.9km from city centre           8.4       Fabulous   \n",
       "39              Hostel - 6.9km from city centre             -         Rating   \n",
       "40              Hotel - 14.5km from city centre           9.7         Superb   \n",
       "41               Hotel - 5.3km from city centre             -      No Rating   \n",
       "42               Hotel - 4.9km from city centre             -      No Rating   \n",
       "43               Hotel - 1.8km from city centre             -         Rating   \n",
       "44   Bed and Breakfast - 4.2km from city centre           8.3       Fabulous   \n",
       "45               Hotel - 1.9km from city centre             -      No Rating   \n",
       "46               Hotel - 5.4km from city centre             -         Rating   \n",
       "47               Hotel - 3.2km from city centre           6.3           Good   \n",
       "48               Hotel - 4.3km from city centre             -      No Rating   \n",
       "49   Bed and Breakfast - 3.3km from city centre             -      No Rating   \n",
       "50              Hotel - 10.4km from city centre             -      No Rating   \n",
       "51              Hotel - 14.7km from city centre             -      No Rating   \n",
       "52               Hotel - 4.3km from city centre           9.4         Superb   \n",
       "53  Bed and Breakfast - 13.1km from city centre             -      No Rating   \n",
       "54               Hotel - 8.6km from city centre             -      No Rating   \n",
       "55               Hotel - 6.5km from city centre           9.7         Superb   \n",
       "56              Hotel - 24.1km from city centre           8.0       Fabulous   \n",
       "57              Hotel - 14.8km from city centre             -      No Rating   \n",
       "\n",
       "           Total Review          Dorm Price  \\\n",
       "0      44 Total Reviews              Rs3883   \n",
       "1    9561 Total Reviews              Rs1503   \n",
       "2    2731 Total Reviews              Rs6493   \n",
       "3    3212 Total Reviews              Rs1971   \n",
       "4    2273 Total Reviews              Rs3602   \n",
       "5    1047 Total Reviews              Rs1719   \n",
       "6    4630 Total Reviews              Rs6633   \n",
       "7    4020 Total Reviews    Rs2564.41 Rs2308   \n",
       "8    1687 Total Reviews              Rs2977   \n",
       "9    3681 Total Reviews              Rs1134   \n",
       "10     33 Total Reviews              Rs9649   \n",
       "11    854 Total Reviews              Rs2412   \n",
       "12  13358 Total Reviews              Rs6164   \n",
       "13   3152 Total Reviews              Rs2513   \n",
       "14    617 Total Reviews              Rs1268   \n",
       "15   3729 Total Reviews              Rs5997   \n",
       "16    639 Total Reviews    Rs3484.24 Rs2787   \n",
       "17   3967 Total Reviews              Rs7850   \n",
       "18   6258 Total Reviews              Rs3096   \n",
       "19   4514 Total Reviews  Rs13683.45 Rs11357   \n",
       "20   1105 Total Reviews    Rs3903.68 Rs2928   \n",
       "21    183 Total Reviews    Rs1479.68 Rs1332   \n",
       "22   3474 Total Reviews    Rs1774.13 Rs1597   \n",
       "23    529 Total Reviews    Rs1796.09 Rs1616   \n",
       "24   1382 Total Reviews    Rs1654.27 Rs1489   \n",
       "25   6788 Total Reviews    Rs1625.23 Rs1463   \n",
       "26  10958 Total Reviews              Rs1452   \n",
       "27    991 Total Reviews              Rs6363   \n",
       "28   2794 Total Reviews              Rs1787   \n",
       "29    802 Total Reviews              Rs8141   \n",
       "30   3202 Total Reviews           Rs2235.27   \n",
       "31   4705 Total Reviews          Rs10821.55   \n",
       "32   3608 Total Reviews           Rs1239.25   \n",
       "33   1778 Total Reviews           Rs5793.21   \n",
       "34   4498 Total Reviews           Rs9950.16   \n",
       "35    715 Total Reviews           Rs4020.27   \n",
       "36    387 Total Reviews           Rs1306.59   \n",
       "37   3676 Total Reviews           Rs3952.93   \n",
       "38   4171 Total Reviews           Rs1990.03   \n",
       "39   1175 Total Reviews           Rs5728.88   \n",
       "40     17 Total Reviews           Rs7437.49   \n",
       "41      0 Total Reviews          Rs10995.43   \n",
       "42      0 Total Reviews          Rs12059.80   \n",
       "43     39 Total Reviews           Rs7638.51   \n",
       "44      6 Total Reviews           Rs7494.78   \n",
       "45      0 Total Reviews                   -   \n",
       "46      2 Total Reviews          Rs30882.69   \n",
       "47    113 Total Reviews           Rs5997.23   \n",
       "48      0 Total Reviews           Rs7035.47   \n",
       "49      0 Total Reviews           Rs8442.56   \n",
       "50      0 Total Reviews           Rs6499.77   \n",
       "51      0 Total Reviews           Rs6030.40   \n",
       "52    406 Total Reviews           Rs8911.93   \n",
       "53      0 Total Reviews           Rs7035.47   \n",
       "54      0 Total Reviews          Rs19330.45   \n",
       "55    277 Total Reviews           Rs9648.64   \n",
       "56    109 Total Reviews          Rs16248.92   \n",
       "57      0 Total Reviews           Rs6934.96   \n",
       "\n",
       "                                          Description  \\\n",
       "0   Mornington Camden Hostel is a high class spaci...   \n",
       "1   Really is a great Hostel, at a very reasonable...   \n",
       "2   We booked a private room and it was really lov...   \n",
       "3   PLEASE NOTE WE ONLY ACCEPT GUESTS FROM THE AGE...   \n",
       "4   Pickwick Hall provides accommodation for touri...   \n",
       "5   Welcome to New Cross Inn Hostel!\\n\\nA Friendly...   \n",
       "6   At No.8 we take pride in our Customer Service ...   \n",
       "7   Safestay at Elephant & Castle is ideal if you ...   \n",
       "8   The Badger is unique for London in that we hav...   \n",
       "9   For Great Facilities, Comfort & Affordability ...   \n",
       "10  Situated in South West London, close to Balham...   \n",
       "11  Park Villa is a new boutique hostel in the hea...   \n",
       "12  Wombat's The City Hostel London is definitely ...   \n",
       "13  COVID 19 Policy Update.\\nIn response to Corona...   \n",
       "14  COVID 19 Policy Update.\\nIn response to Corona...   \n",
       "15  COVID 19 Policy Update.\\nIn response to Corona...   \n",
       "16  COVID 19 Policy Update.\\nIn response to Corona...   \n",
       "17  In response to Coronavirus (COVID-19), additio...   \n",
       "18  Hi I was going first time saw staff women shor...   \n",
       "19  Everything was perfect...., very clean, perfec...   \n",
       "20  Safestay Holland Park\\n\\nSafestay Holland Park...   \n",
       "21  Welcome to Urbany Hostel London, our first int...   \n",
       "22  *Please note we are operating on LIMITED recep...   \n",
       "23  The hostel is housed in a historic building in...   \n",
       "24  Temporary changes at YHA London Earl's Court\\n...   \n",
       "25  Generator London is a design hotel-hostel loca...   \n",
       "26  COVID 19 Policy Update.\\nIn response to Corona...   \n",
       "27  Do Camden by day and curb side beers by night....   \n",
       "28  Temporary changes at YHA London St Pancras, pl...   \n",
       "29  Welcome to one of London's cheapest, friendlie...   \n",
       "30  Welcome to Clink261!\\n\\nClink261 is a comforta...   \n",
       "31  Temporary changes at YHA London Central\\n\\nThi...   \n",
       "32  Kensal Green Backpackers is a legendary hostel...   \n",
       "33  We are located in central London - just 5 minu...   \n",
       "34  A quiet hideaway from the bustle of the busies...   \n",
       "35  Our hostel is located inside a traditional Eng...   \n",
       "36  Set over a pub and restaurant in Willesden Jun...   \n",
       "37                                                  -   \n",
       "38  IMPORTANT NOTICE: This hostel is for 18 - 35-y...   \n",
       "39  Welcome to Venture Hostel.Venture Hostel is a ...   \n",
       "40  The Britannia Inn Hotel is situated near the I...   \n",
       "41  Our lovely boutique hotel is conveniently loca...   \n",
       "42  A friendly, family run hotel offering comforta...   \n",
       "43  I regret booking this property. The location w...   \n",
       "44  Barry House is a Central London bed and breakf...   \n",
       "45  With friendly staff, excellent service and an ...   \n",
       "46  Combining Victorian charm with Modern Luxury T...   \n",
       "47  We booked 2 rooms but were told by the recepti...   \n",
       "48  The Hyde Park Court Hotel is a centrally locat...   \n",
       "49  Comfortable family run B&B hotel , very centra...   \n",
       "50  Set in London, 4.3 miles from London Zoo, Gold...   \n",
       "51  In the Heart of Ilford, Greater London region,...   \n",
       "52  Central London Hotel Accommodation situated in...   \n",
       "53  Aron Guest House provides an excellent base, w...   \n",
       "54  Beaconsfield is a basic, budget hotel, situate...   \n",
       "55  The W14 Hotel London is a 3 star Superior Budg...   \n",
       "56  This Hotel is the right choice for visitors wh...   \n",
       "57  We are located about twenty minutes by tube fr...   \n",
       "\n",
       "                                             Facility  \n",
       "0   Deluxe private bathrooms overlooking garden. E...  \n",
       "1   Our 15 Bedded dorm with en-suite bathroom offe...  \n",
       "2   - Private Room (Max 2 persons) - 1 Double Bed ...  \n",
       "3                              Twin room with bunkbed  \n",
       "4                                                   -  \n",
       "5                                                   -  \n",
       "6   Spacious & Modern Bedroom with a Single Bed, C...  \n",
       "7   This room consists of a single bed over a doub...  \n",
       "8   Bunk bed with sink in room. Laptop safe in per...  \n",
       "9   Spacious & Modern Bedroom with 3 Bunk Beds, Co...  \n",
       "10  One brand new in-built triple bunk bed and en-...  \n",
       "11  This room features two single beds, with lots ...  \n",
       "12  Private Double Room with * a comfy double bed ...  \n",
       "13  Spacious triple bunk room complete with locker...  \n",
       "14  Spacious standard bunk room complete with lock...  \n",
       "15  Spacious triple bunk room complete with locker...  \n",
       "16  Spacious triple bunk room complete with locker...  \n",
       "17  Spacious triple bunk room complete with locker...  \n",
       "18  Our 20 Bedded dorm with Shared Facilities offe...  \n",
       "19  - Private Room (Max 2 persons) - 2 Single Bed ...  \n",
       "20                    Twin Room with shared bathroom.  \n",
       "21                                  Twin Private Room  \n",
       "22                                                  -  \n",
       "23                                       3 Tier Bunks  \n",
       "24                                                  -  \n",
       "25  \"The perfect space for two travellers on tour....  \n",
       "26  Spacious triple bunk room complete with locker...  \n",
       "27  Book one bed (or more) in this shared dormitor...  \n",
       "28                                                  -  \n",
       "29                                    shared bathroom  \n",
       "30  Free\\nLinen Included Free City Maps Free WiFi\\...  \n",
       "31  Free\\nLinen Included Free City Maps Free WiFi\\...  \n",
       "32  Free\\nLinen Included Free City Maps\\nGeneral\\n...  \n",
       "33  Free\\nFree Breakfast Linen Included Free City ...  \n",
       "34  Free\\nLinen Included Free City Maps Free WiFi\\...  \n",
       "35  Free\\nLinen Included Free Parking Towels Inclu...  \n",
       "36  Free\\nLinen Included Free City Maps Free WiFi ...  \n",
       "37  Free\\nLinen Included Free City Maps Towels Inc...  \n",
       "38  Free\\nFree Breakfast Linen Included Free City ...  \n",
       "39  Free\\nLinen Included Free City Maps Free WiFi ...  \n",
       "40  Free\\nFree Breakfast Free Parking Free Interne...  \n",
       "41  Free\\nFree City Maps Free WiFi\\nGeneral\\nKey C...  \n",
       "42  Free\\nLinen Included Towels Included Free WiFi...  \n",
       "43  Free\\nFree Internet Access\\nGeneral\\nSwimming ...  \n",
       "44  Free\\nFree Breakfast Free City Maps Towels Inc...  \n",
       "45  Free\\nFree Breakfast Free City Maps Towels Inc...  \n",
       "46  Free\\nTowels Included Free WiFi\\nGeneral\\nKey ...  \n",
       "47  Free\\nFree Internet Access\\nGeneral\\nHair Drye...  \n",
       "48  Free\\nFree Breakfast Free City Maps Free WiFi ...  \n",
       "49  Free\\nFree Breakfast Towels Included Free WiFi...  \n",
       "50  Free\\nLinen Included Free Parking Towels Inclu...  \n",
       "51  Free\\nLinen Included Free Parking Towels Inclu...  \n",
       "52  Free\\nFree Breakfast Free Internet Access\\nGen...  \n",
       "53  Free\\nFree Parking Towels Included Free WiFi\\n...  \n",
       "54  Free\\nFree WiFi\\nFood & Drink\\nBar Tea & Coffe...  \n",
       "55  Free\\nFree Breakfast Linen Included Free City ...  \n",
       "56  Free\\nFree Breakfast Free Parking\\nGeneral\\nPa...  \n",
       "57  Free\\nFree Breakfast Free Parking\\nGeneral\\nHo...  "
      ]
     },
     "execution_count": 67,
     "metadata": {},
     "output_type": "execute_result"
    }
   ],
   "source": [
    "hostel"
   ]
  },
  {
   "cell_type": "code",
   "execution_count": null,
   "id": "b7ed063e",
   "metadata": {},
   "outputs": [],
   "source": []
  }
 ],
 "metadata": {
  "kernelspec": {
   "display_name": "Python 3 (ipykernel)",
   "language": "python",
   "name": "python3"
  },
  "language_info": {
   "codemirror_mode": {
    "name": "ipython",
    "version": 3
   },
   "file_extension": ".py",
   "mimetype": "text/x-python",
   "name": "python",
   "nbconvert_exporter": "python",
   "pygments_lexer": "ipython3",
   "version": "3.9.7"
  }
 },
 "nbformat": 4,
 "nbformat_minor": 5
}
