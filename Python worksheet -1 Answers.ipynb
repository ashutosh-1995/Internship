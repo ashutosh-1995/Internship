{
 "cells": [
  {
   "cell_type": "markdown",
   "id": "32a5a470",
   "metadata": {},
   "source": [
    "Ans 11. - Program to find the factorial of a number"
   ]
  },
  {
   "cell_type": "code",
   "execution_count": 1,
   "id": "527cb7e5",
   "metadata": {},
   "outputs": [
    {
     "name": "stdout",
     "output_type": "stream",
     "text": [
      "5040\n"
     ]
    }
   ],
   "source": [
    "n = 7\n",
    "if n <= 1:\n",
    "    print(1)\n",
    "else:\n",
    "    a = 1\n",
    "    while (n>1):\n",
    "        a *= n\n",
    "        n = n-1\n",
    "    print(a)"
   ]
  },
  {
   "cell_type": "markdown",
   "id": "b51d1704",
   "metadata": {},
   "source": [
    "Ans 12. - Program to find whether a number is prime or composite"
   ]
  },
  {
   "cell_type": "code",
   "execution_count": 2,
   "id": "8cdee0f0",
   "metadata": {},
   "outputs": [
    {
     "name": "stdout",
     "output_type": "stream",
     "text": [
      "17  is a prime number.\n"
     ]
    }
   ],
   "source": [
    "n = 17\n",
    "if n > 1 :\n",
    "    for i in range(2, int(n/2)+1):\n",
    "        if (n%i) == 0:\n",
    "            print(n,' is composite number.')\n",
    "            break\n",
    "    else:\n",
    "        print(n,' is a prime number.')"
   ]
  },
  {
   "cell_type": "markdown",
   "id": "968153c8",
   "metadata": {},
   "source": [
    "Ans 13. - Program to check whether a given string is palindrome or not."
   ]
  },
  {
   "cell_type": "code",
   "execution_count": 3,
   "id": "2d36d6a9",
   "metadata": {},
   "outputs": [
    {
     "name": "stdout",
     "output_type": "stream",
     "text": [
      "elle  is a palindrome\n"
     ]
    }
   ],
   "source": [
    "a = 'elle'\n",
    "if a == a[::-1]:\n",
    "    print(a,' is a palindrome')\n",
    "else:\n",
    "    print(a,' is not a palindrome')"
   ]
  },
  {
   "cell_type": "markdown",
   "id": "02a478bc",
   "metadata": {},
   "source": [
    "Ans 14. - Program to get the third side of right angled triangle from two given sides."
   ]
  },
  {
   "cell_type": "code",
   "execution_count": 4,
   "id": "757152cd",
   "metadata": {},
   "outputs": [
    {
     "name": "stdout",
     "output_type": "stream",
     "text": [
      "Enter the first side of the triangle : 3\n",
      "Enter the second side of the triangle : 4\n",
      "5  is the third side of the given right angled triangle\n"
     ]
    }
   ],
   "source": [
    "import numpy as np\n",
    "a = int(input('Enter the first side of the triangle : '))\n",
    "b = int(input('Enter the second side of the triangle : '))\n",
    "c = np.sqrt((a**2) + (b**2))\n",
    "print(int(c),' is the third side of the given right angled triangle')"
   ]
  },
  {
   "cell_type": "markdown",
   "id": "87445c2e",
   "metadata": {},
   "source": [
    "Ans 15. - Program to print the frequency of each of the characters present in a given string."
   ]
  },
  {
   "cell_type": "code",
   "execution_count": 5,
   "id": "04f3e655",
   "metadata": {},
   "outputs": [
    {
     "name": "stdout",
     "output_type": "stream",
     "text": [
      "Enter the string : possible\n",
      "p,1\n",
      "o,1\n",
      "s,2\n",
      "i,1\n",
      "b,1\n",
      "l,1\n",
      "e,1\n"
     ]
    }
   ],
   "source": [
    "a = input('Enter the string : ')\n",
    "b = list(a)\n",
    "c = []\n",
    "\n",
    "for i in b:\n",
    "    if i not in c:\n",
    "        c.append(i)\n",
    "        count = 0\n",
    "        for j in range(len(b)):\n",
    "            if i == b[j]:\n",
    "                count = count+1\n",
    "        print(\"{},{}\".format(i, count))"
   ]
  },
  {
   "cell_type": "code",
   "execution_count": null,
   "id": "617189cd",
   "metadata": {},
   "outputs": [],
   "source": []
  }
 ],
 "metadata": {
  "kernelspec": {
   "display_name": "Python 3",
   "language": "python",
   "name": "python3"
  },
  "language_info": {
   "codemirror_mode": {
    "name": "ipython",
    "version": 3
   },
   "file_extension": ".py",
   "mimetype": "text/x-python",
   "name": "python",
   "nbconvert_exporter": "python",
   "pygments_lexer": "ipython3",
   "version": "3.8.8"
  }
 },
 "nbformat": 4,
 "nbformat_minor": 5
}
