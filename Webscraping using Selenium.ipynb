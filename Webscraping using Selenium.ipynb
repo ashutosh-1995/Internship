{
 "cells": [
  {
   "cell_type": "markdown",
   "id": "7483491a",
   "metadata": {},
   "source": [
    "# We have to do webscraping of webpages using Selenium\n",
    "\n",
    "Ans 1. - Python program to scrape the data for 'Data Analyst' job position in 'Bangalore' from webpage naukri.com using selenium library."
   ]
  },
  {
   "cell_type": "code",
   "execution_count": 1,
   "id": "3a39cab5",
   "metadata": {},
   "outputs": [],
   "source": [
    "import numpy as np\n",
    "import pandas as pd\n",
    "import selenium\n",
    "from selenium import webdriver"
   ]
  },
  {
   "cell_type": "code",
   "execution_count": 2,
   "id": "dea4b1d6",
   "metadata": {},
   "outputs": [
    {
     "name": "stderr",
     "output_type": "stream",
     "text": [
      "<ipython-input-2-290998761cb5>:1: DeprecationWarning: executable_path has been deprecated, please pass in a Service object\n",
      "  driver = webdriver.Chrome(\"C:/Users/vibhu_o95hv7f/Downloads/chromedriver_win32/chromedriver.exe\")\n"
     ]
    }
   ],
   "source": [
    "driver = webdriver.Chrome(\"C:/Users/vibhu_o95hv7f/Downloads/chromedriver_win32/chromedriver.exe\")"
   ]
  },
  {
   "cell_type": "code",
   "execution_count": 3,
   "id": "34ca5f56",
   "metadata": {},
   "outputs": [],
   "source": [
    "driver.get('https://www.naukri.com/')"
   ]
  },
  {
   "cell_type": "code",
   "execution_count": 9,
   "id": "4e48fbe5",
   "metadata": {},
   "outputs": [
    {
     "name": "stderr",
     "output_type": "stream",
     "text": [
      "<ipython-input-9-cda738b14c6f>:1: DeprecationWarning: find_element_by_* commands are deprecated. Please use find_element() instead\n",
      "  search_job = driver.find_element_by_id('qsb-keyword-sugg')\n",
      "<ipython-input-9-cda738b14c6f>:3: DeprecationWarning: find_element_by_* commands are deprecated. Please use find_element() instead\n",
      "  search_loc = driver.find_element_by_xpath(\"//input[@id='qsb-location-sugg']\")\n"
     ]
    }
   ],
   "source": [
    "search_job = driver.find_element_by_id('qsb-keyword-sugg')\n",
    "search_job.send_keys('Data Analyst')\n",
    "search_loc = driver.find_element_by_xpath(\"//input[@id='qsb-location-sugg']\")\n",
    "search_loc.send_keys('Bangalore')"
   ]
  },
  {
   "cell_type": "code",
   "execution_count": 10,
   "id": "2a8324cf",
   "metadata": {},
   "outputs": [
    {
     "name": "stderr",
     "output_type": "stream",
     "text": [
      "<ipython-input-10-c9b437d84350>:1: DeprecationWarning: find_element_by_* commands are deprecated. Please use find_element() instead\n",
      "  search_btn = driver.find_element_by_xpath(\"//div[@class='search-btn']/button\")\n"
     ]
    }
   ],
   "source": [
    "search_btn = driver.find_element_by_xpath(\"//div[@class='search-btn']/button\")\n",
    "search_btn.click()"
   ]
  },
  {
   "cell_type": "code",
   "execution_count": 11,
   "id": "4d3a005c",
   "metadata": {},
   "outputs": [],
   "source": [
    "job_title = []\n",
    "company_name = []\n",
    "location_list = []\n",
    "experience_list = []"
   ]
  },
  {
   "cell_type": "code",
   "execution_count": 56,
   "id": "73b4031b",
   "metadata": {},
   "outputs": [
    {
     "name": "stderr",
     "output_type": "stream",
     "text": [
      "<ipython-input-56-6108c136b1d4>:1: DeprecationWarning: find_element_by_* commands are deprecated. Please use find_element() instead\n",
      "  a = driver.find_element_by_xpath(\"//a[@Class= 'title fw500 ellipsis']\")\n"
     ]
    },
    {
     "data": {
      "text/plain": [
       "'Assistant/deputy Manager - Geo-spatial Data Analyst'"
      ]
     },
     "execution_count": 56,
     "metadata": {},
     "output_type": "execute_result"
    }
   ],
   "source": [
    "a = driver.find_element_by_xpath(\"//a[@Class= 'title fw500 ellipsis']\")\n",
    "a.text"
   ]
  },
  {
   "cell_type": "code",
   "execution_count": 35,
   "id": "defa8e87",
   "metadata": {},
   "outputs": [
    {
     "name": "stderr",
     "output_type": "stream",
     "text": [
      "<ipython-input-35-ef58064c4a1a>:1: DeprecationWarning: find_element_by_* commands are deprecated. Please use find_element() instead\n",
      "  b = driver.find_element_by_xpath(\"//a[@title= 'Senior Data Analyst']\")\n"
     ]
    },
    {
     "data": {
      "text/plain": [
       "'Senior Data Analyst'"
      ]
     },
     "execution_count": 35,
     "metadata": {},
     "output_type": "execute_result"
    }
   ],
   "source": [
    "b = driver.find_element_by_xpath(\"//a[@title= 'Senior Data Analyst']\")\n",
    "b.text"
   ]
  },
  {
   "cell_type": "code",
   "execution_count": 57,
   "id": "ab43ea59",
   "metadata": {},
   "outputs": [
    {
     "name": "stderr",
     "output_type": "stream",
     "text": [
      "<ipython-input-57-1d256d8c0de6>:1: DeprecationWarning: find_element_by_* commands are deprecated. Please use find_element() instead\n",
      "  c = driver.find_element_by_xpath(\"//a[@title= 'Senior Data Analyst']\")\n"
     ]
    },
    {
     "data": {
      "text/plain": [
       "'Senior Data Analyst'"
      ]
     },
     "execution_count": 57,
     "metadata": {},
     "output_type": "execute_result"
    }
   ],
   "source": [
    "c = driver.find_element_by_xpath(\"//a[@title= 'Senior Data Analyst']\")\n",
    "c.text"
   ]
  },
  {
   "cell_type": "code",
   "execution_count": 58,
   "id": "bf369a76",
   "metadata": {},
   "outputs": [
    {
     "name": "stderr",
     "output_type": "stream",
     "text": [
      "<ipython-input-58-c4593f0946dd>:1: DeprecationWarning: find_element_by_* commands are deprecated. Please use find_element() instead\n",
      "  d = driver.find_element_by_xpath(\"//a[@title= 'Data Analyst / Engineer']\")\n"
     ]
    },
    {
     "data": {
      "text/plain": [
       "'Data Analyst / Engineer'"
      ]
     },
     "execution_count": 58,
     "metadata": {},
     "output_type": "execute_result"
    }
   ],
   "source": [
    "d = driver.find_element_by_xpath(\"//a[@title= 'Data Analyst / Engineer']\")\n",
    "d.text"
   ]
  },
  {
   "cell_type": "code",
   "execution_count": 59,
   "id": "3d2b026f",
   "metadata": {},
   "outputs": [
    {
     "name": "stderr",
     "output_type": "stream",
     "text": [
      "<ipython-input-59-11fea139511b>:1: DeprecationWarning: find_element_by_* commands are deprecated. Please use find_element() instead\n",
      "  e = driver.find_element_by_xpath(\"//a[@title= 'Data Analyst']\")\n"
     ]
    },
    {
     "data": {
      "text/plain": [
       "'Data Analyst'"
      ]
     },
     "execution_count": 59,
     "metadata": {},
     "output_type": "execute_result"
    }
   ],
   "source": [
    "e = driver.find_element_by_xpath(\"//a[@title= 'Data Analyst']\")\n",
    "e.text"
   ]
  },
  {
   "cell_type": "code",
   "execution_count": 60,
   "id": "3ef664e9",
   "metadata": {},
   "outputs": [
    {
     "name": "stderr",
     "output_type": "stream",
     "text": [
      "<ipython-input-60-ad36988ece14>:1: DeprecationWarning: find_element_by_* commands are deprecated. Please use find_element() instead\n",
      "  f = driver.find_element_by_xpath(\"//a[@title= 'Data Analyst (On Contract)']\")\n"
     ]
    },
    {
     "data": {
      "text/plain": [
       "'Data Analyst (On Contract)'"
      ]
     },
     "execution_count": 60,
     "metadata": {},
     "output_type": "execute_result"
    }
   ],
   "source": [
    "f = driver.find_element_by_xpath(\"//a[@title= 'Data Analyst (On Contract)']\")\n",
    "f.text"
   ]
  },
  {
   "cell_type": "code",
   "execution_count": 61,
   "id": "bd404c36",
   "metadata": {},
   "outputs": [
    {
     "name": "stderr",
     "output_type": "stream",
     "text": [
      "<ipython-input-61-be08d4449aff>:1: DeprecationWarning: find_element_by_* commands are deprecated. Please use find_element() instead\n",
      "  g = driver.find_element_by_xpath(\"//a[@title= 'Senior Data Analyst']\")\n"
     ]
    },
    {
     "data": {
      "text/plain": [
       "'Senior Data Analyst'"
      ]
     },
     "execution_count": 61,
     "metadata": {},
     "output_type": "execute_result"
    }
   ],
   "source": [
    "g = driver.find_element_by_xpath(\"//a[@title= 'Senior Data Analyst']\")\n",
    "g.text"
   ]
  },
  {
   "cell_type": "code",
   "execution_count": 62,
   "id": "16141d98",
   "metadata": {},
   "outputs": [
    {
     "name": "stderr",
     "output_type": "stream",
     "text": [
      "<ipython-input-62-7ab91e8f46a4>:1: DeprecationWarning: find_element_by_* commands are deprecated. Please use find_element() instead\n",
      "  h = driver.find_element_by_xpath(\"//a[@title= 'Senior Data Analyst for HANA Platform']\")\n"
     ]
    },
    {
     "data": {
      "text/plain": [
       "'Senior Data Analyst for HANA Platform'"
      ]
     },
     "execution_count": 62,
     "metadata": {},
     "output_type": "execute_result"
    }
   ],
   "source": [
    "h = driver.find_element_by_xpath(\"//a[@title= 'Senior Data Analyst for HANA Platform']\")\n",
    "h.text"
   ]
  },
  {
   "cell_type": "code",
   "execution_count": 63,
   "id": "c65a2af3",
   "metadata": {},
   "outputs": [
    {
     "name": "stderr",
     "output_type": "stream",
     "text": [
      "<ipython-input-63-61b72f22d3b3>:1: DeprecationWarning: find_element_by_* commands are deprecated. Please use find_element() instead\n",
      "  i = driver.find_element_by_xpath(\"//a[@title= 'Supervisor Role, Data Analyst,  six sigma, Analytical skills, Database']\")\n"
     ]
    },
    {
     "data": {
      "text/plain": [
       "'Supervisor Role, Data Analyst, six sigma, Analytical skills, Database'"
      ]
     },
     "execution_count": 63,
     "metadata": {},
     "output_type": "execute_result"
    }
   ],
   "source": [
    "i = driver.find_element_by_xpath(\"//a[@title= 'Supervisor Role, Data Analyst,  six sigma, Analytical skills, Database']\")\n",
    "i.text"
   ]
  },
  {
   "cell_type": "code",
   "execution_count": 64,
   "id": "f3865601",
   "metadata": {},
   "outputs": [
    {
     "name": "stderr",
     "output_type": "stream",
     "text": [
      "<ipython-input-64-cd3d1829777f>:1: DeprecationWarning: find_element_by_* commands are deprecated. Please use find_element() instead\n",
      "  j = driver.find_element_by_xpath(\"//a[@title= 'Jr. Data Analyst/ Jr. Data Scientist']\")\n"
     ]
    },
    {
     "data": {
      "text/plain": [
       "'Jr. Data Analyst/ Jr. Data Scientist'"
      ]
     },
     "execution_count": 64,
     "metadata": {},
     "output_type": "execute_result"
    }
   ],
   "source": [
    "j = driver.find_element_by_xpath(\"//a[@title= 'Jr. Data Analyst/ Jr. Data Scientist']\")\n",
    "j.text"
   ]
  },
  {
   "cell_type": "code",
   "execution_count": 65,
   "id": "2ecc5b02",
   "metadata": {},
   "outputs": [
    {
     "data": {
      "text/plain": [
       "['Assistant/deputy Manager - Geo-spatial Data Analyst',\n",
       " 'SYREN TECHNOLOGIES PRIVATE LIMITED',\n",
       " 'Senior Data Analyst',\n",
       " 'Data Analyst / Engineer',\n",
       " 'Data Analyst',\n",
       " 'Data Analyst (On Contract)',\n",
       " 'Senior Data Analyst',\n",
       " 'Senior Data Analyst for HANA Platform',\n",
       " 'Supervisor Role, Data Analyst, six sigma, Analytical skills, Database',\n",
       " 'Jr. Data Analyst/ Jr. Data Scientist']"
      ]
     },
     "execution_count": 65,
     "metadata": {},
     "output_type": "execute_result"
    }
   ],
   "source": [
    "job_title = [a.text, b.text, c.text, d.text, e.text, f.text, g.text, h.text, i.text, j.text]\n",
    "job_title"
   ]
  },
  {
   "cell_type": "code",
   "execution_count": 70,
   "id": "64e57c8a",
   "metadata": {},
   "outputs": [
    {
     "name": "stderr",
     "output_type": "stream",
     "text": [
      "<ipython-input-70-43bcd26f2998>:1: DeprecationWarning: find_element_by_* commands are deprecated. Please use find_element() instead\n",
      "  a = driver.find_element_by_xpath(\"//a[@title= 'Maruti Suzuki India']\")\n"
     ]
    },
    {
     "data": {
      "text/plain": [
       "'Maruti Suzuki India'"
      ]
     },
     "execution_count": 70,
     "metadata": {},
     "output_type": "execute_result"
    }
   ],
   "source": [
    "a = driver.find_element_by_xpath(\"//a[@title= 'Maruti Suzuki India']\")\n",
    "a.text"
   ]
  },
  {
   "cell_type": "code",
   "execution_count": 71,
   "id": "15278d6a",
   "metadata": {},
   "outputs": [
    {
     "name": "stderr",
     "output_type": "stream",
     "text": [
      "<ipython-input-71-833b4687b121>:1: DeprecationWarning: find_element_by_* commands are deprecated. Please use find_element() instead\n",
      "  b = driver.find_element_by_xpath(\"//a[@title= 'SYREN TECHNOLOGIES PRIVATE LIMITED ']\")\n"
     ]
    },
    {
     "data": {
      "text/plain": [
       "'SYREN TECHNOLOGIES PRIVATE LIMITED'"
      ]
     },
     "execution_count": 71,
     "metadata": {},
     "output_type": "execute_result"
    }
   ],
   "source": [
    "b = driver.find_element_by_xpath(\"//a[@title= 'SYREN TECHNOLOGIES PRIVATE LIMITED ']\")\n",
    "b.text"
   ]
  },
  {
   "cell_type": "code",
   "execution_count": 72,
   "id": "a24e8498",
   "metadata": {},
   "outputs": [
    {
     "name": "stderr",
     "output_type": "stream",
     "text": [
      "<ipython-input-72-eede066ac832>:1: DeprecationWarning: find_element_by_* commands are deprecated. Please use find_element() instead\n",
      "  c = driver.find_element_by_xpath(\"//a[@title= 'Flipkart']\")\n"
     ]
    },
    {
     "data": {
      "text/plain": [
       "'Flipkart'"
      ]
     },
     "execution_count": 72,
     "metadata": {},
     "output_type": "execute_result"
    }
   ],
   "source": [
    "c = driver.find_element_by_xpath(\"//a[@title= 'Flipkart']\")\n",
    "c.text"
   ]
  },
  {
   "cell_type": "code",
   "execution_count": 73,
   "id": "ac4bfcda",
   "metadata": {},
   "outputs": [
    {
     "name": "stderr",
     "output_type": "stream",
     "text": [
      "<ipython-input-73-66b181408ced>:1: DeprecationWarning: find_element_by_* commands are deprecated. Please use find_element() instead\n",
      "  d = driver.find_element_by_xpath(\"//a[@title= 'Animaker India Private Limited']\")\n"
     ]
    },
    {
     "data": {
      "text/plain": [
       "'Animaker India Private Limited'"
      ]
     },
     "execution_count": 73,
     "metadata": {},
     "output_type": "execute_result"
    }
   ],
   "source": [
    "d = driver.find_element_by_xpath(\"//a[@title= 'Animaker India Private Limited']\")\n",
    "d.text"
   ]
  },
  {
   "cell_type": "code",
   "execution_count": 74,
   "id": "c7ea4689",
   "metadata": {},
   "outputs": [
    {
     "name": "stderr",
     "output_type": "stream",
     "text": [
      "<ipython-input-74-7fca7f4fa05a>:1: DeprecationWarning: find_element_by_* commands are deprecated. Please use find_element() instead\n",
      "  e = driver.find_element_by_xpath(\"//a[@title= 'GlaxoSmithKline Pharmaceuticals Limited']\")\n"
     ]
    },
    {
     "data": {
      "text/plain": [
       "'GlaxoSmithKline Pharmaceuticals Limited'"
      ]
     },
     "execution_count": 74,
     "metadata": {},
     "output_type": "execute_result"
    }
   ],
   "source": [
    "e = driver.find_element_by_xpath(\"//a[@title= 'GlaxoSmithKline Pharmaceuticals Limited']\")\n",
    "e.text"
   ]
  },
  {
   "cell_type": "code",
   "execution_count": 75,
   "id": "a45993da",
   "metadata": {},
   "outputs": [
    {
     "name": "stderr",
     "output_type": "stream",
     "text": [
      "<ipython-input-75-cfa5dbd8474d>:1: DeprecationWarning: find_element_by_* commands are deprecated. Please use find_element() instead\n",
      "  f = driver.find_element_by_xpath(\"//a[@title= 'Rupeek Fintech Pvt Ltd ']\")\n"
     ]
    },
    {
     "data": {
      "text/plain": [
       "'Rupeek Fintech Pvt Ltd'"
      ]
     },
     "execution_count": 75,
     "metadata": {},
     "output_type": "execute_result"
    }
   ],
   "source": [
    "f = driver.find_element_by_xpath(\"//a[@title= 'Rupeek Fintech Pvt Ltd ']\")\n",
    "f.text"
   ]
  },
  {
   "cell_type": "code",
   "execution_count": 76,
   "id": "74ca28dc",
   "metadata": {},
   "outputs": [
    {
     "name": "stderr",
     "output_type": "stream",
     "text": [
      "<ipython-input-76-6261955f8e49>:1: DeprecationWarning: find_element_by_* commands are deprecated. Please use find_element() instead\n",
      "  g = driver.find_element_by_xpath(\"//a[@title= 'Flipkart']\")\n"
     ]
    },
    {
     "data": {
      "text/plain": [
       "'Flipkart'"
      ]
     },
     "execution_count": 76,
     "metadata": {},
     "output_type": "execute_result"
    }
   ],
   "source": [
    "g = driver.find_element_by_xpath(\"//a[@title= 'Flipkart']\")\n",
    "g.text"
   ]
  },
  {
   "cell_type": "code",
   "execution_count": 77,
   "id": "4652c0a2",
   "metadata": {},
   "outputs": [
    {
     "name": "stderr",
     "output_type": "stream",
     "text": [
      "<ipython-input-77-6836ac12eb32>:1: DeprecationWarning: find_element_by_* commands are deprecated. Please use find_element() instead\n",
      "  h = driver.find_element_by_xpath(\"//a[@title= 'Intel']\")\n"
     ]
    },
    {
     "data": {
      "text/plain": [
       "'Intel'"
      ]
     },
     "execution_count": 77,
     "metadata": {},
     "output_type": "execute_result"
    }
   ],
   "source": [
    "h = driver.find_element_by_xpath(\"//a[@title= 'Intel']\")\n",
    "h.text"
   ]
  },
  {
   "cell_type": "code",
   "execution_count": 78,
   "id": "fe03dea4",
   "metadata": {},
   "outputs": [
    {
     "name": "stderr",
     "output_type": "stream",
     "text": [
      "<ipython-input-78-0d11c17cf69b>:1: DeprecationWarning: find_element_by_* commands are deprecated. Please use find_element() instead\n",
      "  i = driver.find_element_by_xpath(\"//a[@title= 'Concentrix Daksh Services']\")\n"
     ]
    },
    {
     "data": {
      "text/plain": [
       "'Concentrix Daksh Services'"
      ]
     },
     "execution_count": 78,
     "metadata": {},
     "output_type": "execute_result"
    }
   ],
   "source": [
    "i = driver.find_element_by_xpath(\"//a[@title= 'Concentrix Daksh Services']\")\n",
    "i.text"
   ]
  },
  {
   "cell_type": "code",
   "execution_count": 79,
   "id": "09948f44",
   "metadata": {},
   "outputs": [
    {
     "name": "stderr",
     "output_type": "stream",
     "text": [
      "<ipython-input-79-2fd6424e367d>:1: DeprecationWarning: find_element_by_* commands are deprecated. Please use find_element() instead\n",
      "  j = driver.find_element_by_xpath(\"//a[@title= 'Sejal Consulting Hub ']\")\n"
     ]
    },
    {
     "data": {
      "text/plain": [
       "'Sejal Consulting Hub'"
      ]
     },
     "execution_count": 79,
     "metadata": {},
     "output_type": "execute_result"
    }
   ],
   "source": [
    "j = driver.find_element_by_xpath(\"//a[@title= 'Sejal Consulting Hub ']\")\n",
    "j.text"
   ]
  },
  {
   "cell_type": "code",
   "execution_count": 80,
   "id": "a67d6b26",
   "metadata": {},
   "outputs": [
    {
     "data": {
      "text/plain": [
       "['Maruti Suzuki India',\n",
       " 'SYREN TECHNOLOGIES PRIVATE LIMITED',\n",
       " 'Flipkart',\n",
       " 'Animaker India Private Limited',\n",
       " 'GlaxoSmithKline Pharmaceuticals Limited',\n",
       " 'Rupeek Fintech Pvt Ltd',\n",
       " 'Flipkart',\n",
       " 'Intel',\n",
       " 'Concentrix Daksh Services',\n",
       " 'Sejal Consulting Hub']"
      ]
     },
     "execution_count": 80,
     "metadata": {},
     "output_type": "execute_result"
    }
   ],
   "source": [
    "company_name = [a.text, b.text, c.text, d.text, e.text, f.text, g.text, h.text, i.text, j.text]\n",
    "company_name"
   ]
  },
  {
   "cell_type": "code",
   "execution_count": 86,
   "id": "a7ef2786",
   "metadata": {},
   "outputs": [
    {
     "name": "stderr",
     "output_type": "stream",
     "text": [
      "<ipython-input-86-897d78b9dda0>:1: DeprecationWarning: find_element_by_* commands are deprecated. Please use find_element() instead\n",
      "  a = driver.find_element_by_xpath(\"//span[@title= 'Gurgaon/Gurugram, bangalore ']\")\n"
     ]
    },
    {
     "data": {
      "text/plain": [
       "'Gurgaon/Gurugram, bangalore'"
      ]
     },
     "execution_count": 86,
     "metadata": {},
     "output_type": "execute_result"
    }
   ],
   "source": [
    "a = driver.find_element_by_xpath(\"//span[@title= 'Gurgaon/Gurugram, bangalore ']\")\n",
    "a.text"
   ]
  },
  {
   "cell_type": "code",
   "execution_count": 87,
   "id": "0175ed42",
   "metadata": {},
   "outputs": [
    {
     "name": "stderr",
     "output_type": "stream",
     "text": [
      "<ipython-input-87-e0dbdd3d9946>:1: DeprecationWarning: find_element_by_* commands are deprecated. Please use find_element() instead\n",
      "  b = driver.find_element_by_xpath(\"//span[@title= 'Kolkata, Hyderabad/Secunderabad, Pune, Ahmedabad, Chennai, Bangalore/Bengaluru, Delhi / NCR, Mumbai (All Areas) (WFH during Covid)']\")\n"
     ]
    },
    {
     "data": {
      "text/plain": [
       "'Kolkata, Hyderabad/Secunderabad, Pune, Ahmedabad, Chennai, Bangalore/Bengaluru, Delhi / NCR, Mumbai (All Areas)'"
      ]
     },
     "execution_count": 87,
     "metadata": {},
     "output_type": "execute_result"
    }
   ],
   "source": [
    "b = driver.find_element_by_xpath(\"//span[@title= 'Kolkata, Hyderabad/Secunderabad, Pune, Ahmedabad, Chennai, Bangalore/Bengaluru, Delhi / NCR, Mumbai (All Areas) (WFH during Covid)']\")\n",
    "b.text"
   ]
  },
  {
   "cell_type": "code",
   "execution_count": 88,
   "id": "ab5069f7",
   "metadata": {},
   "outputs": [
    {
     "name": "stderr",
     "output_type": "stream",
     "text": [
      "<ipython-input-88-4786264b053e>:1: DeprecationWarning: find_element_by_* commands are deprecated. Please use find_element() instead\n",
      "  c = driver.find_element_by_xpath(\"//span[@title= 'Bengaluru/Bangalore ']\")\n"
     ]
    },
    {
     "data": {
      "text/plain": [
       "'Bengaluru/Bangalore'"
      ]
     },
     "execution_count": 88,
     "metadata": {},
     "output_type": "execute_result"
    }
   ],
   "source": [
    "c = driver.find_element_by_xpath(\"//span[@title= 'Bengaluru/Bangalore ']\")\n",
    "c.text"
   ]
  },
  {
   "cell_type": "code",
   "execution_count": 90,
   "id": "5ff8cef8",
   "metadata": {},
   "outputs": [
    {
     "name": "stderr",
     "output_type": "stream",
     "text": [
      "<ipython-input-90-97c0836f2e79>:1: DeprecationWarning: find_element_by_* commands are deprecated. Please use find_element() instead\n",
      "  d = driver.find_element_by_xpath(\"//span[@title= 'Chennai, Bangalore/Bengaluru ']\")\n"
     ]
    },
    {
     "data": {
      "text/plain": [
       "'Chennai, Bangalore/Bengaluru'"
      ]
     },
     "execution_count": 90,
     "metadata": {},
     "output_type": "execute_result"
    }
   ],
   "source": [
    "d = driver.find_element_by_xpath(\"//span[@title= 'Chennai, Bangalore/Bengaluru ']\")\n",
    "d.text"
   ]
  },
  {
   "cell_type": "code",
   "execution_count": 91,
   "id": "4335b3ee",
   "metadata": {},
   "outputs": [
    {
     "name": "stderr",
     "output_type": "stream",
     "text": [
      "<ipython-input-91-17ed12150b1e>:1: DeprecationWarning: find_element_by_* commands are deprecated. Please use find_element() instead\n",
      "  e = driver.find_element_by_xpath(\"//span[@title= 'Bangalore/Bengaluru ']\")\n"
     ]
    },
    {
     "data": {
      "text/plain": [
       "'Bangalore/Bengaluru'"
      ]
     },
     "execution_count": 91,
     "metadata": {},
     "output_type": "execute_result"
    }
   ],
   "source": [
    "e = driver.find_element_by_xpath(\"//span[@title= 'Bangalore/Bengaluru ']\")\n",
    "e.text"
   ]
  },
  {
   "cell_type": "code",
   "execution_count": 92,
   "id": "ac7ae60d",
   "metadata": {},
   "outputs": [
    {
     "name": "stderr",
     "output_type": "stream",
     "text": [
      "<ipython-input-92-b33d82a91235>:1: DeprecationWarning: find_element_by_* commands are deprecated. Please use find_element() instead\n",
      "  f = driver.find_element_by_xpath(\"//span[@title= 'Bangalore/Bengaluru ']\")\n"
     ]
    },
    {
     "data": {
      "text/plain": [
       "'Bangalore/Bengaluru'"
      ]
     },
     "execution_count": 92,
     "metadata": {},
     "output_type": "execute_result"
    }
   ],
   "source": [
    "f = driver.find_element_by_xpath(\"//span[@title= 'Bangalore/Bengaluru ']\")\n",
    "f.text"
   ]
  },
  {
   "cell_type": "code",
   "execution_count": 93,
   "id": "46baa284",
   "metadata": {},
   "outputs": [
    {
     "name": "stderr",
     "output_type": "stream",
     "text": [
      "<ipython-input-93-31903ad53537>:1: DeprecationWarning: find_element_by_* commands are deprecated. Please use find_element() instead\n",
      "  g = driver.find_element_by_xpath(\"//span[@title= 'Bangalore/Bengaluru ']\")\n"
     ]
    },
    {
     "data": {
      "text/plain": [
       "'Bangalore/Bengaluru'"
      ]
     },
     "execution_count": 93,
     "metadata": {},
     "output_type": "execute_result"
    }
   ],
   "source": [
    "g = driver.find_element_by_xpath(\"//span[@title= 'Bangalore/Bengaluru ']\")\n",
    "g.text"
   ]
  },
  {
   "cell_type": "code",
   "execution_count": 94,
   "id": "4416f5cf",
   "metadata": {},
   "outputs": [
    {
     "name": "stderr",
     "output_type": "stream",
     "text": [
      "<ipython-input-94-054256155f68>:1: DeprecationWarning: find_element_by_* commands are deprecated. Please use find_element() instead\n",
      "  h = driver.find_element_by_xpath(\"//span[@title= 'Bangalore/Bengaluru ']\")\n"
     ]
    },
    {
     "data": {
      "text/plain": [
       "'Bangalore/Bengaluru'"
      ]
     },
     "execution_count": 94,
     "metadata": {},
     "output_type": "execute_result"
    }
   ],
   "source": [
    "h = driver.find_element_by_xpath(\"//span[@title= 'Bangalore/Bengaluru ']\")\n",
    "h.text"
   ]
  },
  {
   "cell_type": "code",
   "execution_count": 95,
   "id": "2428269e",
   "metadata": {},
   "outputs": [
    {
     "name": "stderr",
     "output_type": "stream",
     "text": [
      "<ipython-input-95-2b5c3de7ec23>:1: DeprecationWarning: find_element_by_* commands are deprecated. Please use find_element() instead\n",
      "  i = driver.find_element_by_xpath(\"//span[@title= 'Bangalore/Bengaluru ']\")\n"
     ]
    },
    {
     "data": {
      "text/plain": [
       "'Bangalore/Bengaluru'"
      ]
     },
     "execution_count": 95,
     "metadata": {},
     "output_type": "execute_result"
    }
   ],
   "source": [
    "i = driver.find_element_by_xpath(\"//span[@title= 'Bangalore/Bengaluru ']\")\n",
    "i.text"
   ]
  },
  {
   "cell_type": "code",
   "execution_count": 96,
   "id": "4b47c081",
   "metadata": {},
   "outputs": [
    {
     "name": "stderr",
     "output_type": "stream",
     "text": [
      "<ipython-input-96-1246a8dde4eb>:1: DeprecationWarning: find_element_by_* commands are deprecated. Please use find_element() instead\n",
      "  j = driver.find_element_by_xpath(\"//span[@title= 'Hyderabad/Secunderabad, Bangalore/Bengaluru, Mumbai (All Areas) ']\")\n"
     ]
    },
    {
     "data": {
      "text/plain": [
       "'Hyderabad/Secunderabad, Bangalore/Bengaluru, Mumbai (All Areas)'"
      ]
     },
     "execution_count": 96,
     "metadata": {},
     "output_type": "execute_result"
    }
   ],
   "source": [
    "j = driver.find_element_by_xpath(\"//span[@title= 'Hyderabad/Secunderabad, Bangalore/Bengaluru, Mumbai (All Areas) ']\")\n",
    "j.text"
   ]
  },
  {
   "cell_type": "code",
   "execution_count": 97,
   "id": "c2a87917",
   "metadata": {},
   "outputs": [
    {
     "data": {
      "text/plain": [
       "['Gurgaon/Gurugram, bangalore',\n",
       " 'Kolkata, Hyderabad/Secunderabad, Pune, Ahmedabad, Chennai, Bangalore/Bengaluru, Delhi / NCR, Mumbai (All Areas)',\n",
       " 'Bengaluru/Bangalore',\n",
       " 'Chennai, Bangalore/Bengaluru',\n",
       " 'Bangalore/Bengaluru',\n",
       " 'Bangalore/Bengaluru',\n",
       " 'Bangalore/Bengaluru',\n",
       " 'Bangalore/Bengaluru',\n",
       " 'Bangalore/Bengaluru',\n",
       " 'Hyderabad/Secunderabad, Bangalore/Bengaluru, Mumbai (All Areas)']"
      ]
     },
     "execution_count": 97,
     "metadata": {},
     "output_type": "execute_result"
    }
   ],
   "source": [
    "location_list = [a.text, b.text, c.text, d.text, e.text, f.text, g.text, h.text, i.text, j.text]\n",
    "location_list"
   ]
  },
  {
   "cell_type": "code",
   "execution_count": 98,
   "id": "8ff10c74",
   "metadata": {},
   "outputs": [
    {
     "name": "stderr",
     "output_type": "stream",
     "text": [
      "<ipython-input-98-10fb5705e8bc>:1: DeprecationWarning: find_element_by_* commands are deprecated. Please use find_element() instead\n",
      "  a = driver.find_element_by_xpath(\"//span[@title= '3-5 Yrs ']\")\n"
     ]
    },
    {
     "data": {
      "text/plain": [
       "'3-5 Yrs'"
      ]
     },
     "execution_count": 98,
     "metadata": {},
     "output_type": "execute_result"
    }
   ],
   "source": [
    "a = driver.find_element_by_xpath(\"//span[@title= '3-5 Yrs ']\")\n",
    "a.text"
   ]
  },
  {
   "cell_type": "code",
   "execution_count": 99,
   "id": "1313602e",
   "metadata": {},
   "outputs": [
    {
     "name": "stderr",
     "output_type": "stream",
     "text": [
      "<ipython-input-99-7b39d6368bf5>:1: DeprecationWarning: find_element_by_* commands are deprecated. Please use find_element() instead\n",
      "  b = driver.find_element_by_xpath(\"//span[@title= '5-10 Yrs ']\")\n"
     ]
    },
    {
     "data": {
      "text/plain": [
       "'5-10 Yrs'"
      ]
     },
     "execution_count": 99,
     "metadata": {},
     "output_type": "execute_result"
    }
   ],
   "source": [
    "b = driver.find_element_by_xpath(\"//span[@title= '5-10 Yrs ']\")\n",
    "b.text"
   ]
  },
  {
   "cell_type": "code",
   "execution_count": 100,
   "id": "1ac234e1",
   "metadata": {},
   "outputs": [
    {
     "name": "stderr",
     "output_type": "stream",
     "text": [
      "<ipython-input-100-bea537ede2ed>:1: DeprecationWarning: find_element_by_* commands are deprecated. Please use find_element() instead\n",
      "  c = driver.find_element_by_xpath(\"//span[@title= '4-5 Yrs ']\")\n"
     ]
    },
    {
     "data": {
      "text/plain": [
       "'4-5 Yrs'"
      ]
     },
     "execution_count": 100,
     "metadata": {},
     "output_type": "execute_result"
    }
   ],
   "source": [
    "c = driver.find_element_by_xpath(\"//span[@title= '4-5 Yrs ']\")\n",
    "c.text"
   ]
  },
  {
   "cell_type": "code",
   "execution_count": 101,
   "id": "d5f4be21",
   "metadata": {},
   "outputs": [
    {
     "name": "stderr",
     "output_type": "stream",
     "text": [
      "<ipython-input-101-acf8a005159e>:1: DeprecationWarning: find_element_by_* commands are deprecated. Please use find_element() instead\n",
      "  d = driver.find_element_by_xpath(\"//span[@title= '4-9 Yrs ']\")\n"
     ]
    },
    {
     "data": {
      "text/plain": [
       "'4-9 Yrs'"
      ]
     },
     "execution_count": 101,
     "metadata": {},
     "output_type": "execute_result"
    }
   ],
   "source": [
    "d = driver.find_element_by_xpath(\"//span[@title= '4-9 Yrs ']\")\n",
    "d.text"
   ]
  },
  {
   "cell_type": "code",
   "execution_count": 102,
   "id": "9e81a110",
   "metadata": {},
   "outputs": [
    {
     "name": "stderr",
     "output_type": "stream",
     "text": [
      "<ipython-input-102-6469fee39e50>:1: DeprecationWarning: find_element_by_* commands are deprecated. Please use find_element() instead\n",
      "  e = driver.find_element_by_xpath(\"//span[@title= '2-5 Yrs ']\")\n"
     ]
    },
    {
     "data": {
      "text/plain": [
       "'2-5 Yrs'"
      ]
     },
     "execution_count": 102,
     "metadata": {},
     "output_type": "execute_result"
    }
   ],
   "source": [
    "e = driver.find_element_by_xpath(\"//span[@title= '2-5 Yrs ']\")\n",
    "e.text"
   ]
  },
  {
   "cell_type": "code",
   "execution_count": 103,
   "id": "7ac3bee6",
   "metadata": {},
   "outputs": [
    {
     "name": "stderr",
     "output_type": "stream",
     "text": [
      "<ipython-input-103-775fc3fdde5f>:1: DeprecationWarning: find_element_by_* commands are deprecated. Please use find_element() instead\n",
      "  f = driver.find_element_by_xpath(\"//span[@title= '0-2 Yrs ']\")\n"
     ]
    },
    {
     "data": {
      "text/plain": [
       "'0-2 Yrs'"
      ]
     },
     "execution_count": 103,
     "metadata": {},
     "output_type": "execute_result"
    }
   ],
   "source": [
    "f = driver.find_element_by_xpath(\"//span[@title= '0-2 Yrs ']\")\n",
    "f.text"
   ]
  },
  {
   "cell_type": "code",
   "execution_count": 105,
   "id": "f919b381",
   "metadata": {},
   "outputs": [
    {
     "name": "stderr",
     "output_type": "stream",
     "text": [
      "<ipython-input-105-6204843b17ff>:1: DeprecationWarning: find_element_by_* commands are deprecated. Please use find_element() instead\n",
      "  g = driver.find_element_by_xpath(\"//span[@title= '3-7 Yrs ']\")\n"
     ]
    },
    {
     "data": {
      "text/plain": [
       "'3-7 Yrs'"
      ]
     },
     "execution_count": 105,
     "metadata": {},
     "output_type": "execute_result"
    }
   ],
   "source": [
    "g = driver.find_element_by_xpath(\"//span[@title= '3-7 Yrs ']\")\n",
    "g.text"
   ]
  },
  {
   "cell_type": "code",
   "execution_count": 106,
   "id": "0d541c30",
   "metadata": {},
   "outputs": [
    {
     "name": "stderr",
     "output_type": "stream",
     "text": [
      "<ipython-input-106-3e47cd5c7173>:1: DeprecationWarning: find_element_by_* commands are deprecated. Please use find_element() instead\n",
      "  h = driver.find_element_by_xpath(\"//span[@title= '5-10 Yrs ']\")\n"
     ]
    },
    {
     "data": {
      "text/plain": [
       "'5-10 Yrs'"
      ]
     },
     "execution_count": 106,
     "metadata": {},
     "output_type": "execute_result"
    }
   ],
   "source": [
    "h = driver.find_element_by_xpath(\"//span[@title= '5-10 Yrs ']\")\n",
    "h.text"
   ]
  },
  {
   "cell_type": "code",
   "execution_count": 107,
   "id": "6e5a2deb",
   "metadata": {},
   "outputs": [
    {
     "name": "stderr",
     "output_type": "stream",
     "text": [
      "<ipython-input-107-493e2bdf89a9>:1: DeprecationWarning: find_element_by_* commands are deprecated. Please use find_element() instead\n",
      "  i = driver.find_element_by_xpath(\"//span[@title= '3-6 Yrs ']\")\n"
     ]
    },
    {
     "data": {
      "text/plain": [
       "'3-6 Yrs'"
      ]
     },
     "execution_count": 107,
     "metadata": {},
     "output_type": "execute_result"
    }
   ],
   "source": [
    "i = driver.find_element_by_xpath(\"//span[@title= '3-6 Yrs ']\")\n",
    "i.text"
   ]
  },
  {
   "cell_type": "code",
   "execution_count": 109,
   "id": "8d933072",
   "metadata": {},
   "outputs": [
    {
     "name": "stderr",
     "output_type": "stream",
     "text": [
      "<ipython-input-109-12f42a4159ad>:1: DeprecationWarning: find_element_by_* commands are deprecated. Please use find_element() instead\n",
      "  j = driver.find_element_by_xpath(\"//span[@title= '0-5 Yrs ']\")\n"
     ]
    },
    {
     "data": {
      "text/plain": [
       "'0-5 Yrs'"
      ]
     },
     "execution_count": 109,
     "metadata": {},
     "output_type": "execute_result"
    }
   ],
   "source": [
    "j = driver.find_element_by_xpath(\"//span[@title= '0-5 Yrs ']\")\n",
    "j.text"
   ]
  },
  {
   "cell_type": "code",
   "execution_count": 110,
   "id": "ded14a60",
   "metadata": {},
   "outputs": [
    {
     "data": {
      "text/plain": [
       "['3-5 Yrs',\n",
       " '5-10 Yrs',\n",
       " '4-5 Yrs',\n",
       " '4-9 Yrs',\n",
       " '2-5 Yrs',\n",
       " '0-2 Yrs',\n",
       " '3-7 Yrs',\n",
       " '5-10 Yrs',\n",
       " '3-6 Yrs',\n",
       " '0-5 Yrs']"
      ]
     },
     "execution_count": 110,
     "metadata": {},
     "output_type": "execute_result"
    }
   ],
   "source": [
    "experience_list= [a.text, b.text, c.text, d.text, e.text, f.text, g.text, h.text, i.text, j.text]\n",
    "experience_list"
   ]
  },
  {
   "cell_type": "code",
   "execution_count": 111,
   "id": "cadf0fcf",
   "metadata": {},
   "outputs": [
    {
     "data": {
      "text/html": [
       "<div>\n",
       "<style scoped>\n",
       "    .dataframe tbody tr th:only-of-type {\n",
       "        vertical-align: middle;\n",
       "    }\n",
       "\n",
       "    .dataframe tbody tr th {\n",
       "        vertical-align: top;\n",
       "    }\n",
       "\n",
       "    .dataframe thead th {\n",
       "        text-align: right;\n",
       "    }\n",
       "</style>\n",
       "<table border=\"1\" class=\"dataframe\">\n",
       "  <thead>\n",
       "    <tr style=\"text-align: right;\">\n",
       "      <th></th>\n",
       "      <th>Job Title</th>\n",
       "      <th>Company Name</th>\n",
       "      <th>Locations</th>\n",
       "      <th>Experience Required</th>\n",
       "    </tr>\n",
       "  </thead>\n",
       "  <tbody>\n",
       "    <tr>\n",
       "      <th>0</th>\n",
       "      <td>Assistant/deputy Manager - Geo-spatial Data An...</td>\n",
       "      <td>Maruti Suzuki India</td>\n",
       "      <td>Gurgaon/Gurugram, bangalore</td>\n",
       "      <td>3-5 Yrs</td>\n",
       "    </tr>\n",
       "    <tr>\n",
       "      <th>1</th>\n",
       "      <td>SYREN TECHNOLOGIES PRIVATE LIMITED</td>\n",
       "      <td>SYREN TECHNOLOGIES PRIVATE LIMITED</td>\n",
       "      <td>Kolkata, Hyderabad/Secunderabad, Pune, Ahmedab...</td>\n",
       "      <td>5-10 Yrs</td>\n",
       "    </tr>\n",
       "    <tr>\n",
       "      <th>2</th>\n",
       "      <td>Senior Data Analyst</td>\n",
       "      <td>Flipkart</td>\n",
       "      <td>Bengaluru/Bangalore</td>\n",
       "      <td>4-5 Yrs</td>\n",
       "    </tr>\n",
       "    <tr>\n",
       "      <th>3</th>\n",
       "      <td>Data Analyst / Engineer</td>\n",
       "      <td>Animaker India Private Limited</td>\n",
       "      <td>Chennai, Bangalore/Bengaluru</td>\n",
       "      <td>4-9 Yrs</td>\n",
       "    </tr>\n",
       "    <tr>\n",
       "      <th>4</th>\n",
       "      <td>Data Analyst</td>\n",
       "      <td>GlaxoSmithKline Pharmaceuticals Limited</td>\n",
       "      <td>Bangalore/Bengaluru</td>\n",
       "      <td>2-5 Yrs</td>\n",
       "    </tr>\n",
       "    <tr>\n",
       "      <th>5</th>\n",
       "      <td>Data Analyst (On Contract)</td>\n",
       "      <td>Rupeek Fintech Pvt Ltd</td>\n",
       "      <td>Bangalore/Bengaluru</td>\n",
       "      <td>0-2 Yrs</td>\n",
       "    </tr>\n",
       "    <tr>\n",
       "      <th>6</th>\n",
       "      <td>Senior Data Analyst</td>\n",
       "      <td>Flipkart</td>\n",
       "      <td>Bangalore/Bengaluru</td>\n",
       "      <td>3-7 Yrs</td>\n",
       "    </tr>\n",
       "    <tr>\n",
       "      <th>7</th>\n",
       "      <td>Senior Data Analyst for HANA Platform</td>\n",
       "      <td>Intel</td>\n",
       "      <td>Bangalore/Bengaluru</td>\n",
       "      <td>5-10 Yrs</td>\n",
       "    </tr>\n",
       "    <tr>\n",
       "      <th>8</th>\n",
       "      <td>Supervisor Role, Data Analyst, six sigma, Anal...</td>\n",
       "      <td>Concentrix Daksh Services</td>\n",
       "      <td>Bangalore/Bengaluru</td>\n",
       "      <td>3-6 Yrs</td>\n",
       "    </tr>\n",
       "    <tr>\n",
       "      <th>9</th>\n",
       "      <td>Jr. Data Analyst/ Jr. Data Scientist</td>\n",
       "      <td>Sejal Consulting Hub</td>\n",
       "      <td>Hyderabad/Secunderabad, Bangalore/Bengaluru, M...</td>\n",
       "      <td>0-5 Yrs</td>\n",
       "    </tr>\n",
       "  </tbody>\n",
       "</table>\n",
       "</div>"
      ],
      "text/plain": [
       "                                           Job Title  \\\n",
       "0  Assistant/deputy Manager - Geo-spatial Data An...   \n",
       "1                 SYREN TECHNOLOGIES PRIVATE LIMITED   \n",
       "2                                Senior Data Analyst   \n",
       "3                            Data Analyst / Engineer   \n",
       "4                                       Data Analyst   \n",
       "5                         Data Analyst (On Contract)   \n",
       "6                                Senior Data Analyst   \n",
       "7              Senior Data Analyst for HANA Platform   \n",
       "8  Supervisor Role, Data Analyst, six sigma, Anal...   \n",
       "9               Jr. Data Analyst/ Jr. Data Scientist   \n",
       "\n",
       "                              Company Name  \\\n",
       "0                      Maruti Suzuki India   \n",
       "1       SYREN TECHNOLOGIES PRIVATE LIMITED   \n",
       "2                                 Flipkart   \n",
       "3           Animaker India Private Limited   \n",
       "4  GlaxoSmithKline Pharmaceuticals Limited   \n",
       "5                   Rupeek Fintech Pvt Ltd   \n",
       "6                                 Flipkart   \n",
       "7                                    Intel   \n",
       "8                Concentrix Daksh Services   \n",
       "9                     Sejal Consulting Hub   \n",
       "\n",
       "                                           Locations Experience Required  \n",
       "0                        Gurgaon/Gurugram, bangalore             3-5 Yrs  \n",
       "1  Kolkata, Hyderabad/Secunderabad, Pune, Ahmedab...            5-10 Yrs  \n",
       "2                                Bengaluru/Bangalore             4-5 Yrs  \n",
       "3                       Chennai, Bangalore/Bengaluru             4-9 Yrs  \n",
       "4                                Bangalore/Bengaluru             2-5 Yrs  \n",
       "5                                Bangalore/Bengaluru             0-2 Yrs  \n",
       "6                                Bangalore/Bengaluru             3-7 Yrs  \n",
       "7                                Bangalore/Bengaluru            5-10 Yrs  \n",
       "8                                Bangalore/Bengaluru             3-6 Yrs  \n",
       "9  Hyderabad/Secunderabad, Bangalore/Bengaluru, M...             0-5 Yrs  "
      ]
     },
     "execution_count": 111,
     "metadata": {},
     "output_type": "execute_result"
    }
   ],
   "source": [
    "analyst_detail = pd.DataFrame({'Job Title': job_title, 'Company Name': company_name, 'Locations': location_list, 'Experience Required': experience_list})\n",
    "analyst_detail"
   ]
  },
  {
   "cell_type": "markdown",
   "id": "497b7a7d",
   "metadata": {},
   "source": [
    "Ans 2. - Python program to scrape the data for 'Data Scientist' job position in 'Bangalore' location from webpage naukri.com using selenium library."
   ]
  },
  {
   "cell_type": "code",
   "execution_count": 114,
   "id": "50f62829",
   "metadata": {},
   "outputs": [
    {
     "name": "stderr",
     "output_type": "stream",
     "text": [
      "<ipython-input-114-8f5c6090a0a4>:1: DeprecationWarning: find_element_by_* commands are deprecated. Please use find_element() instead\n",
      "  search_job = driver.find_element_by_id('qsb-keyword-sugg')\n",
      "<ipython-input-114-8f5c6090a0a4>:3: DeprecationWarning: find_element_by_* commands are deprecated. Please use find_element() instead\n",
      "  search_loc = driver.find_element_by_xpath(\"//input[@id='qsb-location-sugg']\")\n"
     ]
    }
   ],
   "source": [
    "search_job = driver.find_element_by_id('qsb-keyword-sugg')\n",
    "search_job.send_keys('Data Scientist')\n",
    "search_loc = driver.find_element_by_xpath(\"//input[@id='qsb-location-sugg']\")\n",
    "search_loc.send_keys('Bangalore')"
   ]
  },
  {
   "cell_type": "code",
   "execution_count": 116,
   "id": "d6b205f2",
   "metadata": {},
   "outputs": [
    {
     "name": "stderr",
     "output_type": "stream",
     "text": [
      "<ipython-input-116-c9b437d84350>:1: DeprecationWarning: find_element_by_* commands are deprecated. Please use find_element() instead\n",
      "  search_btn = driver.find_element_by_xpath(\"//div[@class='search-btn']/button\")\n"
     ]
    }
   ],
   "source": [
    "search_btn = driver.find_element_by_xpath(\"//div[@class='search-btn']/button\")\n",
    "search_btn.click()"
   ]
  },
  {
   "cell_type": "code",
   "execution_count": 117,
   "id": "ec9ad301",
   "metadata": {},
   "outputs": [],
   "source": [
    "data_science_title = []\n",
    "data_science_company = []\n",
    "data_science_loc = []"
   ]
  },
  {
   "cell_type": "code",
   "execution_count": 119,
   "id": "abc29b6c",
   "metadata": {},
   "outputs": [
    {
     "name": "stderr",
     "output_type": "stream",
     "text": [
      "<ipython-input-119-4da0f3a82a71>:1: DeprecationWarning: find_element_by_* commands are deprecated. Please use find_element() instead\n",
      "  a = driver.find_element_by_xpath(\"//a[@class= 'title fw500 ellipsis']\")\n"
     ]
    },
    {
     "data": {
      "text/plain": [
       "'Lead/Senior Data Scientist (NLP)'"
      ]
     },
     "execution_count": 119,
     "metadata": {},
     "output_type": "execute_result"
    }
   ],
   "source": [
    "a = driver.find_element_by_xpath(\"//a[@class= 'title fw500 ellipsis']\")\n",
    "a.text"
   ]
  },
  {
   "cell_type": "code",
   "execution_count": 120,
   "id": "b75955c0",
   "metadata": {},
   "outputs": [
    {
     "name": "stderr",
     "output_type": "stream",
     "text": [
      "<ipython-input-120-c9beddcb997a>:1: DeprecationWarning: find_element_by_* commands are deprecated. Please use find_element() instead\n",
      "  b = driver.find_element_by_xpath(\"//a[@title= 'Data Scientist: Advanced Analytics']\")\n"
     ]
    },
    {
     "data": {
      "text/plain": [
       "'Data Scientist: Advanced Analytics'"
      ]
     },
     "execution_count": 120,
     "metadata": {},
     "output_type": "execute_result"
    }
   ],
   "source": [
    "b = driver.find_element_by_xpath(\"//a[@title= 'Data Scientist: Advanced Analytics']\")\n",
    "b.text"
   ]
  },
  {
   "cell_type": "code",
   "execution_count": 121,
   "id": "9a982827",
   "metadata": {},
   "outputs": [
    {
     "name": "stderr",
     "output_type": "stream",
     "text": [
      "<ipython-input-121-22696d1445c8>:1: DeprecationWarning: find_element_by_* commands are deprecated. Please use find_element() instead\n",
      "  c = driver.find_element_by_xpath(\"//a[@title= 'Cognitive Data Scientist']\")\n"
     ]
    },
    {
     "data": {
      "text/plain": [
       "'Cognitive Data Scientist'"
      ]
     },
     "execution_count": 121,
     "metadata": {},
     "output_type": "execute_result"
    }
   ],
   "source": [
    "c = driver.find_element_by_xpath(\"//a[@title= 'Cognitive Data Scientist']\")\n",
    "c.text"
   ]
  },
  {
   "cell_type": "code",
   "execution_count": 122,
   "id": "d463b132",
   "metadata": {},
   "outputs": [
    {
     "name": "stderr",
     "output_type": "stream",
     "text": [
      "<ipython-input-122-5f14d5276706>:1: DeprecationWarning: find_element_by_* commands are deprecated. Please use find_element() instead\n",
      "  d = driver.find_element_by_xpath(\"//a[@title= 'Senior Engineer - AIML - Data Scientist']\")\n"
     ]
    },
    {
     "data": {
      "text/plain": [
       "'Senior Engineer - AIML - Data Scientist'"
      ]
     },
     "execution_count": 122,
     "metadata": {},
     "output_type": "execute_result"
    }
   ],
   "source": [
    "d = driver.find_element_by_xpath(\"//a[@title= 'Senior Engineer - AIML - Data Scientist']\")\n",
    "d.text"
   ]
  },
  {
   "cell_type": "code",
   "execution_count": 123,
   "id": "8959823b",
   "metadata": {},
   "outputs": [
    {
     "name": "stderr",
     "output_type": "stream",
     "text": [
      "<ipython-input-123-f06871ddb4d7>:1: DeprecationWarning: find_element_by_* commands are deprecated. Please use find_element() instead\n",
      "  e = driver.find_element_by_xpath(\"//a[@title= 'Lead Data Scientist']\")\n"
     ]
    },
    {
     "data": {
      "text/plain": [
       "'Lead Data Scientist'"
      ]
     },
     "execution_count": 123,
     "metadata": {},
     "output_type": "execute_result"
    }
   ],
   "source": [
    "e = driver.find_element_by_xpath(\"//a[@title= 'Lead Data Scientist']\")\n",
    "e.text"
   ]
  },
  {
   "cell_type": "code",
   "execution_count": 124,
   "id": "05b5763f",
   "metadata": {},
   "outputs": [
    {
     "name": "stderr",
     "output_type": "stream",
     "text": [
      "<ipython-input-124-a3a014dfb8d7>:1: DeprecationWarning: find_element_by_* commands are deprecated. Please use find_element() instead\n",
      "  f = driver.find_element_by_xpath(\"//a[@title= 'Jr. Data Analyst/ Jr. Data Scientist']\")\n"
     ]
    },
    {
     "data": {
      "text/plain": [
       "'Jr. Data Analyst/ Jr. Data Scientist'"
      ]
     },
     "execution_count": 124,
     "metadata": {},
     "output_type": "execute_result"
    }
   ],
   "source": [
    "f = driver.find_element_by_xpath(\"//a[@title= 'Jr. Data Analyst/ Jr. Data Scientist']\")\n",
    "f.text"
   ]
  },
  {
   "cell_type": "code",
   "execution_count": 125,
   "id": "1050a0de",
   "metadata": {},
   "outputs": [
    {
     "name": "stderr",
     "output_type": "stream",
     "text": [
      "<ipython-input-125-adfb16b8dd91>:1: DeprecationWarning: find_element_by_* commands are deprecated. Please use find_element() instead\n",
      "  g = driver.find_element_by_xpath(\"//a[@title= 'Senior Data Scientist']\")\n"
     ]
    },
    {
     "data": {
      "text/plain": [
       "'Senior Data Scientist'"
      ]
     },
     "execution_count": 125,
     "metadata": {},
     "output_type": "execute_result"
    }
   ],
   "source": [
    "g = driver.find_element_by_xpath(\"//a[@title= 'Senior Data Scientist']\")\n",
    "g.text"
   ]
  },
  {
   "cell_type": "code",
   "execution_count": 127,
   "id": "1367cef7",
   "metadata": {},
   "outputs": [
    {
     "name": "stderr",
     "output_type": "stream",
     "text": [
      "<ipython-input-127-1e84c4a387d7>:1: DeprecationWarning: find_element_by_* commands are deprecated. Please use find_element() instead\n",
      "  h = driver.find_element_by_xpath(\"//a[@title= 'Cognitive/AI Senior Data Scientist']\")\n"
     ]
    },
    {
     "data": {
      "text/plain": [
       "'Cognitive/AI Senior Data Scientist'"
      ]
     },
     "execution_count": 127,
     "metadata": {},
     "output_type": "execute_result"
    }
   ],
   "source": [
    "h = driver.find_element_by_xpath(\"//a[@title= 'Cognitive/AI Senior Data Scientist']\")\n",
    "h.text"
   ]
  },
  {
   "cell_type": "code",
   "execution_count": 128,
   "id": "f40d7173",
   "metadata": {},
   "outputs": [
    {
     "name": "stderr",
     "output_type": "stream",
     "text": [
      "<ipython-input-128-0c74cfdab57d>:1: DeprecationWarning: find_element_by_* commands are deprecated. Please use find_element() instead\n",
      "  i = driver.find_element_by_xpath(\"//a[@title= 'Senior Data Scientist']\")\n"
     ]
    },
    {
     "data": {
      "text/plain": [
       "'Senior Data Scientist'"
      ]
     },
     "execution_count": 128,
     "metadata": {},
     "output_type": "execute_result"
    }
   ],
   "source": [
    "i = driver.find_element_by_xpath(\"//a[@title= 'Senior Data Scientist']\")\n",
    "i.text"
   ]
  },
  {
   "cell_type": "code",
   "execution_count": 129,
   "id": "6d37b1dd",
   "metadata": {},
   "outputs": [
    {
     "name": "stderr",
     "output_type": "stream",
     "text": [
      "<ipython-input-129-2ad7c674791d>:1: DeprecationWarning: find_element_by_* commands are deprecated. Please use find_element() instead\n",
      "  j = driver.find_element_by_xpath(\"//a[@title= 'Lead Programmer - Data Scientist']\")\n"
     ]
    },
    {
     "data": {
      "text/plain": [
       "'Lead Programmer - Data Scientist'"
      ]
     },
     "execution_count": 129,
     "metadata": {},
     "output_type": "execute_result"
    }
   ],
   "source": [
    "j = driver.find_element_by_xpath(\"//a[@title= 'Lead Programmer - Data Scientist']\")\n",
    "j.text"
   ]
  },
  {
   "cell_type": "code",
   "execution_count": 130,
   "id": "da897664",
   "metadata": {},
   "outputs": [
    {
     "data": {
      "text/plain": [
       "['Lead/Senior Data Scientist (NLP)',\n",
       " 'Data Scientist: Advanced Analytics',\n",
       " 'Cognitive Data Scientist',\n",
       " 'Senior Engineer - AIML - Data Scientist',\n",
       " 'Lead Data Scientist',\n",
       " 'Jr. Data Analyst/ Jr. Data Scientist',\n",
       " 'Senior Data Scientist',\n",
       " 'Cognitive/AI Senior Data Scientist',\n",
       " 'Senior Data Scientist',\n",
       " 'Lead Programmer - Data Scientist']"
      ]
     },
     "execution_count": 130,
     "metadata": {},
     "output_type": "execute_result"
    }
   ],
   "source": [
    "data_science_title = [a.text, b.text, c.text, d.text, e.text, f.text, g.text, h.text, i.text, j.text]\n",
    "data_science_title"
   ]
  },
  {
   "cell_type": "code",
   "execution_count": 131,
   "id": "fefc4d59",
   "metadata": {},
   "outputs": [
    {
     "name": "stderr",
     "output_type": "stream",
     "text": [
      "<ipython-input-131-20abb0eb2305>:1: DeprecationWarning: find_element_by_* commands are deprecated. Please use find_element() instead\n",
      "  a = driver.find_element_by_xpath(\"//a[@title= 'Samya.AI A FRACTAL Entity  ']\")\n"
     ]
    },
    {
     "data": {
      "text/plain": [
       "'Samya.AI A FRACTAL Entity'"
      ]
     },
     "execution_count": 131,
     "metadata": {},
     "output_type": "execute_result"
    }
   ],
   "source": [
    "a = driver.find_element_by_xpath(\"//a[@title= 'Samya.AI A FRACTAL Entity  ']\")\n",
    "a.text"
   ]
  },
  {
   "cell_type": "code",
   "execution_count": 132,
   "id": "fe8fac4b",
   "metadata": {},
   "outputs": [
    {
     "name": "stderr",
     "output_type": "stream",
     "text": [
      "<ipython-input-132-6a3798938d38>:1: DeprecationWarning: find_element_by_* commands are deprecated. Please use find_element() instead\n",
      "  b = driver.find_element_by_xpath(\"//a[@title= 'IBM India Pvt. Limited']\")\n"
     ]
    },
    {
     "data": {
      "text/plain": [
       "'IBM India Pvt. Limited'"
      ]
     },
     "execution_count": 132,
     "metadata": {},
     "output_type": "execute_result"
    }
   ],
   "source": [
    "b = driver.find_element_by_xpath(\"//a[@title= 'IBM India Pvt. Limited']\")\n",
    "b.text"
   ]
  },
  {
   "cell_type": "code",
   "execution_count": 133,
   "id": "5cbcb378",
   "metadata": {},
   "outputs": [
    {
     "name": "stderr",
     "output_type": "stream",
     "text": [
      "<ipython-input-133-f2af866682d5>:1: DeprecationWarning: find_element_by_* commands are deprecated. Please use find_element() instead\n",
      "  c = driver.find_element_by_xpath(\"//a[@title= 'IBM India Pvt. Limited']\")\n"
     ]
    },
    {
     "data": {
      "text/plain": [
       "'IBM India Pvt. Limited'"
      ]
     },
     "execution_count": 133,
     "metadata": {},
     "output_type": "execute_result"
    }
   ],
   "source": [
    "c = driver.find_element_by_xpath(\"//a[@title= 'IBM India Pvt. Limited']\")\n",
    "c.text"
   ]
  },
  {
   "cell_type": "code",
   "execution_count": 134,
   "id": "0141a4b3",
   "metadata": {},
   "outputs": [
    {
     "name": "stderr",
     "output_type": "stream",
     "text": [
      "<ipython-input-134-71cdb032ba8f>:1: DeprecationWarning: find_element_by_* commands are deprecated. Please use find_element() instead\n",
      "  d = driver.find_element_by_xpath(\"//a[@title= 'Unisys']\")\n"
     ]
    },
    {
     "data": {
      "text/plain": [
       "'Unisys'"
      ]
     },
     "execution_count": 134,
     "metadata": {},
     "output_type": "execute_result"
    }
   ],
   "source": [
    "d = driver.find_element_by_xpath(\"//a[@title= 'Unisys']\")\n",
    "d.text"
   ]
  },
  {
   "cell_type": "code",
   "execution_count": 135,
   "id": "384fe66b",
   "metadata": {},
   "outputs": [
    {
     "name": "stderr",
     "output_type": "stream",
     "text": [
      "<ipython-input-135-c5561e1e83f6>:1: DeprecationWarning: find_element_by_* commands are deprecated. Please use find_element() instead\n",
      "  e = driver.find_element_by_xpath(\"//a[@title= 'Groww']\")\n"
     ]
    },
    {
     "data": {
      "text/plain": [
       "'Groww'"
      ]
     },
     "execution_count": 135,
     "metadata": {},
     "output_type": "execute_result"
    }
   ],
   "source": [
    "e = driver.find_element_by_xpath(\"//a[@title= 'Groww']\")\n",
    "e.text"
   ]
  },
  {
   "cell_type": "code",
   "execution_count": 136,
   "id": "db22dac9",
   "metadata": {},
   "outputs": [
    {
     "name": "stderr",
     "output_type": "stream",
     "text": [
      "<ipython-input-136-4822a0a9adfb>:1: DeprecationWarning: find_element_by_* commands are deprecated. Please use find_element() instead\n",
      "  f = driver.find_element_by_xpath(\"//a[@title= 'Sejal Consulting Hub ']\")\n"
     ]
    },
    {
     "data": {
      "text/plain": [
       "'Sejal Consulting Hub'"
      ]
     },
     "execution_count": 136,
     "metadata": {},
     "output_type": "execute_result"
    }
   ],
   "source": [
    "f = driver.find_element_by_xpath(\"//a[@title= 'Sejal Consulting Hub ']\")\n",
    "f.text"
   ]
  },
  {
   "cell_type": "code",
   "execution_count": 137,
   "id": "bd5145dc",
   "metadata": {},
   "outputs": [
    {
     "name": "stderr",
     "output_type": "stream",
     "text": [
      "<ipython-input-137-da7628ab7a6c>:1: DeprecationWarning: find_element_by_* commands are deprecated. Please use find_element() instead\n",
      "  g = driver.find_element_by_xpath(\"//a[@title= 'Wipro']\")\n"
     ]
    },
    {
     "data": {
      "text/plain": [
       "'Wipro'"
      ]
     },
     "execution_count": 137,
     "metadata": {},
     "output_type": "execute_result"
    }
   ],
   "source": [
    "g = driver.find_element_by_xpath(\"//a[@title= 'Wipro']\")\n",
    "g.text"
   ]
  },
  {
   "cell_type": "code",
   "execution_count": 138,
   "id": "c78f91fc",
   "metadata": {},
   "outputs": [
    {
     "name": "stderr",
     "output_type": "stream",
     "text": [
      "<ipython-input-138-316926b99d80>:1: DeprecationWarning: find_element_by_* commands are deprecated. Please use find_element() instead\n",
      "  h = driver.find_element_by_xpath(\"//a[@title= 'IBM India Pvt. Limited']\")\n"
     ]
    },
    {
     "data": {
      "text/plain": [
       "'IBM India Pvt. Limited'"
      ]
     },
     "execution_count": 138,
     "metadata": {},
     "output_type": "execute_result"
    }
   ],
   "source": [
    "h = driver.find_element_by_xpath(\"//a[@title= 'IBM India Pvt. Limited']\")\n",
    "h.text"
   ]
  },
  {
   "cell_type": "code",
   "execution_count": 139,
   "id": "e9045faa",
   "metadata": {},
   "outputs": [
    {
     "name": "stderr",
     "output_type": "stream",
     "text": [
      "<ipython-input-139-481574c5b33d>:1: DeprecationWarning: find_element_by_* commands are deprecated. Please use find_element() instead\n",
      "  i = driver.find_element_by_xpath(\"//a[@title= 'Wipro']\")\n"
     ]
    },
    {
     "data": {
      "text/plain": [
       "'Wipro'"
      ]
     },
     "execution_count": 139,
     "metadata": {},
     "output_type": "execute_result"
    }
   ],
   "source": [
    "i = driver.find_element_by_xpath(\"//a[@title= 'Wipro']\")\n",
    "i.text"
   ]
  },
  {
   "cell_type": "code",
   "execution_count": 140,
   "id": "58367d7e",
   "metadata": {},
   "outputs": [
    {
     "name": "stderr",
     "output_type": "stream",
     "text": [
      "<ipython-input-140-f5f46396b951>:1: DeprecationWarning: find_element_by_* commands are deprecated. Please use find_element() instead\n",
      "  j = driver.find_element_by_xpath(\"//a[@title= 'GlaxoSmithKline Pharmaceuticals Limited']\")\n"
     ]
    },
    {
     "data": {
      "text/plain": [
       "'GlaxoSmithKline Pharmaceuticals Limited'"
      ]
     },
     "execution_count": 140,
     "metadata": {},
     "output_type": "execute_result"
    }
   ],
   "source": [
    "j = driver.find_element_by_xpath(\"//a[@title= 'GlaxoSmithKline Pharmaceuticals Limited']\")\n",
    "j.text"
   ]
  },
  {
   "cell_type": "code",
   "execution_count": 141,
   "id": "ad4b6b55",
   "metadata": {},
   "outputs": [
    {
     "data": {
      "text/plain": [
       "['Samya.AI A FRACTAL Entity',\n",
       " 'IBM India Pvt. Limited',\n",
       " 'IBM India Pvt. Limited',\n",
       " 'Unisys',\n",
       " 'Groww',\n",
       " 'Sejal Consulting Hub',\n",
       " 'Wipro',\n",
       " 'IBM India Pvt. Limited',\n",
       " 'Wipro',\n",
       " 'GlaxoSmithKline Pharmaceuticals Limited']"
      ]
     },
     "execution_count": 141,
     "metadata": {},
     "output_type": "execute_result"
    }
   ],
   "source": [
    "data_science_company = [a.text, b.text, c.text, d.text, e.text, f.text, g.text, h.text, i.text, j.text]\n",
    "data_science_company"
   ]
  },
  {
   "cell_type": "code",
   "execution_count": 142,
   "id": "ce7fe99e",
   "metadata": {},
   "outputs": [
    {
     "name": "stderr",
     "output_type": "stream",
     "text": [
      "<ipython-input-142-7e268bd015f4>:1: DeprecationWarning: find_element_by_* commands are deprecated. Please use find_element() instead\n",
      "  a = driver.find_element_by_xpath(\"//span[@title= 'Bangalore/Bengaluru (WFH during Covid)']\")\n"
     ]
    },
    {
     "data": {
      "text/plain": [
       "'Bangalore/Bengaluru'"
      ]
     },
     "execution_count": 142,
     "metadata": {},
     "output_type": "execute_result"
    }
   ],
   "source": [
    "a = driver.find_element_by_xpath(\"//span[@title= 'Bangalore/Bengaluru (WFH during Covid)']\")\n",
    "a.text"
   ]
  },
  {
   "cell_type": "code",
   "execution_count": 143,
   "id": "bc99836d",
   "metadata": {},
   "outputs": [
    {
     "name": "stderr",
     "output_type": "stream",
     "text": [
      "<ipython-input-143-0f256d405977>:1: DeprecationWarning: find_element_by_* commands are deprecated. Please use find_element() instead\n",
      "  b = driver.find_element_by_xpath(\"//span[@title= 'Bangalore/Bengaluru ']\")\n"
     ]
    },
    {
     "data": {
      "text/plain": [
       "'Bangalore/Bengaluru'"
      ]
     },
     "execution_count": 143,
     "metadata": {},
     "output_type": "execute_result"
    }
   ],
   "source": [
    "b = driver.find_element_by_xpath(\"//span[@title= 'Bangalore/Bengaluru ']\")\n",
    "b.text"
   ]
  },
  {
   "cell_type": "code",
   "execution_count": 145,
   "id": "4be3eac4",
   "metadata": {},
   "outputs": [
    {
     "name": "stderr",
     "output_type": "stream",
     "text": [
      "<ipython-input-145-9f8b44039746>:1: DeprecationWarning: find_element_by_* commands are deprecated. Please use find_element() instead\n",
      "  c = driver.find_element_by_xpath(\"//span[@title= 'Bangalore/Bengaluru ']\")\n"
     ]
    },
    {
     "data": {
      "text/plain": [
       "'Bangalore/Bengaluru'"
      ]
     },
     "execution_count": 145,
     "metadata": {},
     "output_type": "execute_result"
    }
   ],
   "source": [
    "c = driver.find_element_by_xpath(\"//span[@title= 'Bangalore/Bengaluru ']\")\n",
    "c.text"
   ]
  },
  {
   "cell_type": "code",
   "execution_count": 146,
   "id": "d29fdabb",
   "metadata": {},
   "outputs": [
    {
     "name": "stderr",
     "output_type": "stream",
     "text": [
      "<ipython-input-146-cafbea2e4083>:1: DeprecationWarning: find_element_by_* commands are deprecated. Please use find_element() instead\n",
      "  d = driver.find_element_by_xpath(\"//span[@title= 'Bangalore/Bengaluru ']\")\n"
     ]
    },
    {
     "data": {
      "text/plain": [
       "'Bangalore/Bengaluru'"
      ]
     },
     "execution_count": 146,
     "metadata": {},
     "output_type": "execute_result"
    }
   ],
   "source": [
    "d = driver.find_element_by_xpath(\"//span[@title= 'Bangalore/Bengaluru ']\")\n",
    "d.text"
   ]
  },
  {
   "cell_type": "code",
   "execution_count": 147,
   "id": "bcf249ed",
   "metadata": {},
   "outputs": [
    {
     "name": "stderr",
     "output_type": "stream",
     "text": [
      "<ipython-input-147-7d0ad7b2716e>:1: DeprecationWarning: find_element_by_* commands are deprecated. Please use find_element() instead\n",
      "  e = driver.find_element_by_xpath(\"//span[@title= 'Palani, Bangalore/Bengaluru ']\")\n"
     ]
    },
    {
     "data": {
      "text/plain": [
       "'Palani, Bangalore/Bengaluru'"
      ]
     },
     "execution_count": 147,
     "metadata": {},
     "output_type": "execute_result"
    }
   ],
   "source": [
    "e = driver.find_element_by_xpath(\"//span[@title= 'Palani, Bangalore/Bengaluru ']\")\n",
    "e.text"
   ]
  },
  {
   "cell_type": "code",
   "execution_count": 148,
   "id": "61d18d00",
   "metadata": {},
   "outputs": [
    {
     "name": "stderr",
     "output_type": "stream",
     "text": [
      "<ipython-input-148-15a5734b30c1>:1: DeprecationWarning: find_element_by_* commands are deprecated. Please use find_element() instead\n",
      "  f = driver.find_element_by_xpath(\"//span[@title= 'Hyderabad/Secunderabad, Bangalore/Bengaluru, Mumbai (All Areas) ']\")\n"
     ]
    },
    {
     "data": {
      "text/plain": [
       "'Hyderabad/Secunderabad, Bangalore/Bengaluru, Mumbai (All Areas)'"
      ]
     },
     "execution_count": 148,
     "metadata": {},
     "output_type": "execute_result"
    }
   ],
   "source": [
    "f = driver.find_element_by_xpath(\"//span[@title= 'Hyderabad/Secunderabad, Bangalore/Bengaluru, Mumbai (All Areas) ']\")\n",
    "f.text"
   ]
  },
  {
   "cell_type": "code",
   "execution_count": 149,
   "id": "1092420a",
   "metadata": {},
   "outputs": [
    {
     "name": "stderr",
     "output_type": "stream",
     "text": [
      "<ipython-input-149-335bbc29ac68>:1: DeprecationWarning: find_element_by_* commands are deprecated. Please use find_element() instead\n",
      "  g = driver.find_element_by_xpath(\"//span[@title= 'Pune, Bangalore/Bengaluru, Delhi / NCR ']\")\n"
     ]
    },
    {
     "data": {
      "text/plain": [
       "'Pune, Bangalore/Bengaluru, Delhi / NCR'"
      ]
     },
     "execution_count": 149,
     "metadata": {},
     "output_type": "execute_result"
    }
   ],
   "source": [
    "g = driver.find_element_by_xpath(\"//span[@title= 'Pune, Bangalore/Bengaluru, Delhi / NCR ']\")\n",
    "g.text"
   ]
  },
  {
   "cell_type": "code",
   "execution_count": 150,
   "id": "b658dace",
   "metadata": {},
   "outputs": [
    {
     "name": "stderr",
     "output_type": "stream",
     "text": [
      "<ipython-input-150-66e792f7408d>:1: DeprecationWarning: find_element_by_* commands are deprecated. Please use find_element() instead\n",
      "  h = driver.find_element_by_xpath(\"//span[@title= 'Bengaluru/Bangalore ']\")\n"
     ]
    },
    {
     "data": {
      "text/plain": [
       "'Bengaluru/Bangalore'"
      ]
     },
     "execution_count": 150,
     "metadata": {},
     "output_type": "execute_result"
    }
   ],
   "source": [
    "h = driver.find_element_by_xpath(\"//span[@title= 'Bengaluru/Bangalore ']\")\n",
    "h.text"
   ]
  },
  {
   "cell_type": "code",
   "execution_count": 151,
   "id": "9a2fcdce",
   "metadata": {},
   "outputs": [
    {
     "name": "stderr",
     "output_type": "stream",
     "text": [
      "<ipython-input-151-219674fa3226>:1: DeprecationWarning: find_element_by_* commands are deprecated. Please use find_element() instead\n",
      "  i = driver.find_element_by_xpath(\"//span[@title= 'Kolkata, Hyderabad/Secunderabad, Pune, Chennai, Bangalore/Bengaluru, Delhi / NCR, Mumbai (All Areas) (WFH during Covid)']\")\n"
     ]
    },
    {
     "data": {
      "text/plain": [
       "'Kolkata, Hyderabad/Secunderabad, Pune, Chennai, Bangalore/Bengaluru, Delhi / NCR, Mumbai (All Areas)'"
      ]
     },
     "execution_count": 151,
     "metadata": {},
     "output_type": "execute_result"
    }
   ],
   "source": [
    "i = driver.find_element_by_xpath(\"//span[@title= 'Kolkata, Hyderabad/Secunderabad, Pune, Chennai, Bangalore/Bengaluru, Delhi / NCR, Mumbai (All Areas) (WFH during Covid)']\")\n",
    "i.text"
   ]
  },
  {
   "cell_type": "code",
   "execution_count": 152,
   "id": "dd8b6f69",
   "metadata": {},
   "outputs": [
    {
     "name": "stderr",
     "output_type": "stream",
     "text": [
      "<ipython-input-152-215428b34d33>:1: DeprecationWarning: find_element_by_* commands are deprecated. Please use find_element() instead\n",
      "  j = driver.find_element_by_xpath(\"//span[@title= 'Bangalore/Bengaluru ']\")\n"
     ]
    },
    {
     "data": {
      "text/plain": [
       "'Bangalore/Bengaluru'"
      ]
     },
     "execution_count": 152,
     "metadata": {},
     "output_type": "execute_result"
    }
   ],
   "source": [
    "j = driver.find_element_by_xpath(\"//span[@title= 'Bangalore/Bengaluru ']\")\n",
    "j.text"
   ]
  },
  {
   "cell_type": "code",
   "execution_count": 153,
   "id": "46975cfd",
   "metadata": {},
   "outputs": [
    {
     "data": {
      "text/plain": [
       "['Bangalore/Bengaluru',\n",
       " 'Bangalore/Bengaluru',\n",
       " 'Bangalore/Bengaluru',\n",
       " 'Bangalore/Bengaluru',\n",
       " 'Palani, Bangalore/Bengaluru',\n",
       " 'Hyderabad/Secunderabad, Bangalore/Bengaluru, Mumbai (All Areas)',\n",
       " 'Pune, Bangalore/Bengaluru, Delhi / NCR',\n",
       " 'Bengaluru/Bangalore',\n",
       " 'Kolkata, Hyderabad/Secunderabad, Pune, Chennai, Bangalore/Bengaluru, Delhi / NCR, Mumbai (All Areas)',\n",
       " 'Bangalore/Bengaluru']"
      ]
     },
     "execution_count": 153,
     "metadata": {},
     "output_type": "execute_result"
    }
   ],
   "source": [
    "data_science_loc = [a.text, b.text, c.text, d.text, e.text, f.text, g.text, h.text, i.text, j.text]\n",
    "data_science_loc"
   ]
  },
  {
   "cell_type": "code",
   "execution_count": 154,
   "id": "372a8b70",
   "metadata": {},
   "outputs": [
    {
     "data": {
      "text/html": [
       "<div>\n",
       "<style scoped>\n",
       "    .dataframe tbody tr th:only-of-type {\n",
       "        vertical-align: middle;\n",
       "    }\n",
       "\n",
       "    .dataframe tbody tr th {\n",
       "        vertical-align: top;\n",
       "    }\n",
       "\n",
       "    .dataframe thead th {\n",
       "        text-align: right;\n",
       "    }\n",
       "</style>\n",
       "<table border=\"1\" class=\"dataframe\">\n",
       "  <thead>\n",
       "    <tr style=\"text-align: right;\">\n",
       "      <th></th>\n",
       "      <th>Job Title</th>\n",
       "      <th>Company Name</th>\n",
       "      <th>Locations</th>\n",
       "    </tr>\n",
       "  </thead>\n",
       "  <tbody>\n",
       "    <tr>\n",
       "      <th>0</th>\n",
       "      <td>Lead/Senior Data Scientist (NLP)</td>\n",
       "      <td>Samya.AI A FRACTAL Entity</td>\n",
       "      <td>Bangalore/Bengaluru</td>\n",
       "    </tr>\n",
       "    <tr>\n",
       "      <th>1</th>\n",
       "      <td>Data Scientist: Advanced Analytics</td>\n",
       "      <td>IBM India Pvt. Limited</td>\n",
       "      <td>Bangalore/Bengaluru</td>\n",
       "    </tr>\n",
       "    <tr>\n",
       "      <th>2</th>\n",
       "      <td>Cognitive Data Scientist</td>\n",
       "      <td>IBM India Pvt. Limited</td>\n",
       "      <td>Bangalore/Bengaluru</td>\n",
       "    </tr>\n",
       "    <tr>\n",
       "      <th>3</th>\n",
       "      <td>Senior Engineer - AIML - Data Scientist</td>\n",
       "      <td>Unisys</td>\n",
       "      <td>Bangalore/Bengaluru</td>\n",
       "    </tr>\n",
       "    <tr>\n",
       "      <th>4</th>\n",
       "      <td>Lead Data Scientist</td>\n",
       "      <td>Groww</td>\n",
       "      <td>Palani, Bangalore/Bengaluru</td>\n",
       "    </tr>\n",
       "    <tr>\n",
       "      <th>5</th>\n",
       "      <td>Jr. Data Analyst/ Jr. Data Scientist</td>\n",
       "      <td>Sejal Consulting Hub</td>\n",
       "      <td>Hyderabad/Secunderabad, Bangalore/Bengaluru, M...</td>\n",
       "    </tr>\n",
       "    <tr>\n",
       "      <th>6</th>\n",
       "      <td>Senior Data Scientist</td>\n",
       "      <td>Wipro</td>\n",
       "      <td>Pune, Bangalore/Bengaluru, Delhi / NCR</td>\n",
       "    </tr>\n",
       "    <tr>\n",
       "      <th>7</th>\n",
       "      <td>Cognitive/AI Senior Data Scientist</td>\n",
       "      <td>IBM India Pvt. Limited</td>\n",
       "      <td>Bengaluru/Bangalore</td>\n",
       "    </tr>\n",
       "    <tr>\n",
       "      <th>8</th>\n",
       "      <td>Senior Data Scientist</td>\n",
       "      <td>Wipro</td>\n",
       "      <td>Kolkata, Hyderabad/Secunderabad, Pune, Chennai...</td>\n",
       "    </tr>\n",
       "    <tr>\n",
       "      <th>9</th>\n",
       "      <td>Lead Programmer - Data Scientist</td>\n",
       "      <td>GlaxoSmithKline Pharmaceuticals Limited</td>\n",
       "      <td>Bangalore/Bengaluru</td>\n",
       "    </tr>\n",
       "  </tbody>\n",
       "</table>\n",
       "</div>"
      ],
      "text/plain": [
       "                                 Job Title  \\\n",
       "0         Lead/Senior Data Scientist (NLP)   \n",
       "1       Data Scientist: Advanced Analytics   \n",
       "2                 Cognitive Data Scientist   \n",
       "3  Senior Engineer - AIML - Data Scientist   \n",
       "4                      Lead Data Scientist   \n",
       "5     Jr. Data Analyst/ Jr. Data Scientist   \n",
       "6                    Senior Data Scientist   \n",
       "7       Cognitive/AI Senior Data Scientist   \n",
       "8                    Senior Data Scientist   \n",
       "9         Lead Programmer - Data Scientist   \n",
       "\n",
       "                              Company Name  \\\n",
       "0                Samya.AI A FRACTAL Entity   \n",
       "1                   IBM India Pvt. Limited   \n",
       "2                   IBM India Pvt. Limited   \n",
       "3                                   Unisys   \n",
       "4                                    Groww   \n",
       "5                     Sejal Consulting Hub   \n",
       "6                                    Wipro   \n",
       "7                   IBM India Pvt. Limited   \n",
       "8                                    Wipro   \n",
       "9  GlaxoSmithKline Pharmaceuticals Limited   \n",
       "\n",
       "                                           Locations  \n",
       "0                                Bangalore/Bengaluru  \n",
       "1                                Bangalore/Bengaluru  \n",
       "2                                Bangalore/Bengaluru  \n",
       "3                                Bangalore/Bengaluru  \n",
       "4                        Palani, Bangalore/Bengaluru  \n",
       "5  Hyderabad/Secunderabad, Bangalore/Bengaluru, M...  \n",
       "6             Pune, Bangalore/Bengaluru, Delhi / NCR  \n",
       "7                                Bengaluru/Bangalore  \n",
       "8  Kolkata, Hyderabad/Secunderabad, Pune, Chennai...  \n",
       "9                                Bangalore/Bengaluru  "
      ]
     },
     "execution_count": 154,
     "metadata": {},
     "output_type": "execute_result"
    }
   ],
   "source": [
    "data_science_detail = pd.DataFrame({'Job Title': data_science_title, 'Company Name': data_science_company, 'Locations': data_science_loc})\n",
    "data_science_detail"
   ]
  },
  {
   "cell_type": "markdown",
   "id": "0ac9332a",
   "metadata": {},
   "source": [
    "Ans 3. - Python program to scrape the data for 'Data scientist' using location and salary filter using selenium library."
   ]
  },
  {
   "cell_type": "code",
   "execution_count": 4,
   "id": "567b1520",
   "metadata": {},
   "outputs": [
    {
     "name": "stderr",
     "output_type": "stream",
     "text": [
      "<ipython-input-4-2980616edddb>:1: DeprecationWarning: find_element_by_* commands are deprecated. Please use find_element() instead\n",
      "  search_job = driver.find_element_by_id('qsb-keyword-sugg')\n"
     ]
    }
   ],
   "source": [
    "search_job = driver.find_element_by_id('qsb-keyword-sugg')\n",
    "search_job.send_keys('Data Scientist')"
   ]
  },
  {
   "cell_type": "code",
   "execution_count": 5,
   "id": "add89d5c",
   "metadata": {},
   "outputs": [
    {
     "name": "stderr",
     "output_type": "stream",
     "text": [
      "<ipython-input-5-c9b437d84350>:1: DeprecationWarning: find_element_by_* commands are deprecated. Please use find_element() instead\n",
      "  search_btn = driver.find_element_by_xpath(\"//div[@class='search-btn']/button\")\n"
     ]
    }
   ],
   "source": [
    "search_btn = driver.find_element_by_xpath(\"//div[@class='search-btn']/button\")\n",
    "search_btn.click()"
   ]
  },
  {
   "cell_type": "code",
   "execution_count": 6,
   "id": "bf21948b",
   "metadata": {},
   "outputs": [
    {
     "name": "stderr",
     "output_type": "stream",
     "text": [
      "<ipython-input-6-ee0160e22e53>:1: DeprecationWarning: find_element_by_* commands are deprecated. Please use find_element() instead\n",
      "  first_filter = driver.find_element_by_xpath(\"/html/body/div[1]/div[3]/div[2]/section[1]/div[2]/div[3]/div[2]/div[3]/label/i\")\n"
     ]
    }
   ],
   "source": [
    "first_filter = driver.find_element_by_xpath(\"/html/body/div[1]/div[3]/div[2]/section[1]/div[2]/div[3]/div[2]/div[3]/label/i\")\n",
    "first_filter.click()"
   ]
  },
  {
   "cell_type": "code",
   "execution_count": 7,
   "id": "50d63341",
   "metadata": {},
   "outputs": [
    {
     "name": "stderr",
     "output_type": "stream",
     "text": [
      "<ipython-input-7-d2c99006caa2>:1: DeprecationWarning: find_element_by_* commands are deprecated. Please use find_element() instead\n",
      "  second_filter = driver.find_element_by_xpath(\"/html/body/div[1]/div[3]/div[2]/section[1]/div[2]/div[4]/div[2]/div[2]/label/i\")\n"
     ]
    }
   ],
   "source": [
    "second_filter = driver.find_element_by_xpath(\"/html/body/div[1]/div[3]/div[2]/section[1]/div[2]/div[4]/div[2]/div[2]/label/i\")\n",
    "second_filter.click()"
   ]
  },
  {
   "cell_type": "code",
   "execution_count": 8,
   "id": "dae69770",
   "metadata": {},
   "outputs": [],
   "source": [
    "dsjt = []\n",
    "dscn = []\n",
    "dsloc = []\n",
    "dsexp = []"
   ]
  },
  {
   "cell_type": "code",
   "execution_count": 9,
   "id": "b6394aa2",
   "metadata": {},
   "outputs": [
    {
     "name": "stderr",
     "output_type": "stream",
     "text": [
      "<ipython-input-9-4da0f3a82a71>:1: DeprecationWarning: find_element_by_* commands are deprecated. Please use find_element() instead\n",
      "  a = driver.find_element_by_xpath(\"//a[@class= 'title fw500 ellipsis']\")\n"
     ]
    },
    {
     "data": {
      "text/plain": [
       "'Data Scientist'"
      ]
     },
     "execution_count": 9,
     "metadata": {},
     "output_type": "execute_result"
    }
   ],
   "source": [
    "a = driver.find_element_by_xpath(\"//a[@class= 'title fw500 ellipsis']\")\n",
    "a.text"
   ]
  },
  {
   "cell_type": "code",
   "execution_count": 10,
   "id": "db9fcd5e",
   "metadata": {},
   "outputs": [
    {
     "name": "stderr",
     "output_type": "stream",
     "text": [
      "<ipython-input-10-a58e0a1c8fb9>:1: DeprecationWarning: find_element_by_* commands are deprecated. Please use find_element() instead\n",
      "  b = driver.find_element_by_xpath(\"//a[@title= 'Data Scientist']\")\n"
     ]
    },
    {
     "data": {
      "text/plain": [
       "'Data Scientist'"
      ]
     },
     "execution_count": 10,
     "metadata": {},
     "output_type": "execute_result"
    }
   ],
   "source": [
    "b = driver.find_element_by_xpath(\"//a[@title= 'Data Scientist']\")\n",
    "b.text"
   ]
  },
  {
   "cell_type": "code",
   "execution_count": 11,
   "id": "a08ea722",
   "metadata": {},
   "outputs": [
    {
     "name": "stderr",
     "output_type": "stream",
     "text": [
      "<ipython-input-11-245841242383>:1: DeprecationWarning: find_element_by_* commands are deprecated. Please use find_element() instead\n",
      "  c = driver.find_element_by_xpath(\"//a[@title= 'Hiring For Data Scientist']\")\n"
     ]
    },
    {
     "data": {
      "text/plain": [
       "'Hiring For Data Scientist'"
      ]
     },
     "execution_count": 11,
     "metadata": {},
     "output_type": "execute_result"
    }
   ],
   "source": [
    "c = driver.find_element_by_xpath(\"//a[@title= 'Hiring For Data Scientist']\")\n",
    "c.text"
   ]
  },
  {
   "cell_type": "code",
   "execution_count": 12,
   "id": "2587aba4",
   "metadata": {},
   "outputs": [
    {
     "name": "stderr",
     "output_type": "stream",
     "text": [
      "<ipython-input-12-81991d59ad72>:1: DeprecationWarning: find_element_by_* commands are deprecated. Please use find_element() instead\n",
      "  d = driver.find_element_by_xpath(\"//a[@title= 'Project Manager | Team Leader | Senior Data Scientist']\")\n"
     ]
    },
    {
     "data": {
      "text/plain": [
       "'Project Manager | Team Leader | Senior Data Scientist'"
      ]
     },
     "execution_count": 12,
     "metadata": {},
     "output_type": "execute_result"
    }
   ],
   "source": [
    "d = driver.find_element_by_xpath(\"//a[@title= 'Project Manager | Team Leader | Senior Data Scientist']\")\n",
    "d.text"
   ]
  },
  {
   "cell_type": "code",
   "execution_count": 13,
   "id": "f1dec5a4",
   "metadata": {},
   "outputs": [
    {
     "name": "stderr",
     "output_type": "stream",
     "text": [
      "<ipython-input-13-e33ea7eb3f75>:1: DeprecationWarning: find_element_by_* commands are deprecated. Please use find_element() instead\n",
      "  e = driver.find_element_by_xpath(\"//a[@title= 'Data Scientist']\")\n"
     ]
    },
    {
     "data": {
      "text/plain": [
       "'Data Scientist'"
      ]
     },
     "execution_count": 13,
     "metadata": {},
     "output_type": "execute_result"
    }
   ],
   "source": [
    "e = driver.find_element_by_xpath(\"//a[@title= 'Data Scientist']\")\n",
    "e.text"
   ]
  },
  {
   "cell_type": "code",
   "execution_count": 14,
   "id": "d659969a",
   "metadata": {},
   "outputs": [
    {
     "name": "stderr",
     "output_type": "stream",
     "text": [
      "<ipython-input-14-1f6dcc5085d4>:1: DeprecationWarning: find_element_by_* commands are deprecated. Please use find_element() instead\n",
      "  f = driver.find_element_by_xpath(\"//a[@title= 'NTT DATA_ Hiring For BIG DATA ,DATA Scientist, Devops']\")\n"
     ]
    },
    {
     "data": {
      "text/plain": [
       "'NTT DATA_ Hiring For BIG DATA ,DATA Scientist, Devops'"
      ]
     },
     "execution_count": 14,
     "metadata": {},
     "output_type": "execute_result"
    }
   ],
   "source": [
    "f = driver.find_element_by_xpath(\"//a[@title= 'NTT DATA_ Hiring For BIG DATA ,DATA Scientist, Devops']\")\n",
    "f.text"
   ]
  },
  {
   "cell_type": "code",
   "execution_count": 15,
   "id": "086c3c36",
   "metadata": {},
   "outputs": [
    {
     "name": "stderr",
     "output_type": "stream",
     "text": [
      "<ipython-input-15-3d6148cc594e>:1: DeprecationWarning: find_element_by_* commands are deprecated. Please use find_element() instead\n",
      "  g = driver.find_element_by_xpath(\"//a[@title= 'Hiring For Data Analyst / Data Scientist']\")\n"
     ]
    },
    {
     "data": {
      "text/plain": [
       "'Hiring For Data Analyst / Data Scientist'"
      ]
     },
     "execution_count": 15,
     "metadata": {},
     "output_type": "execute_result"
    }
   ],
   "source": [
    "g = driver.find_element_by_xpath(\"//a[@title= 'Hiring For Data Analyst / Data Scientist']\")\n",
    "g.text"
   ]
  },
  {
   "cell_type": "code",
   "execution_count": 17,
   "id": "65153c8c",
   "metadata": {},
   "outputs": [
    {
     "name": "stderr",
     "output_type": "stream",
     "text": [
      "<ipython-input-17-6ddd48e31a36>:1: DeprecationWarning: find_element_by_* commands are deprecated. Please use find_element() instead\n",
      "  h = driver.find_element_by_xpath(\"//a[@title= 'Data Scientist Internship']\")\n"
     ]
    },
    {
     "data": {
      "text/plain": [
       "'Data Scientist Internship'"
      ]
     },
     "execution_count": 17,
     "metadata": {},
     "output_type": "execute_result"
    }
   ],
   "source": [
    "h = driver.find_element_by_xpath(\"//a[@title= 'Data Scientist Internship']\")\n",
    "h.text"
   ]
  },
  {
   "cell_type": "code",
   "execution_count": 18,
   "id": "a53fc03c",
   "metadata": {},
   "outputs": [
    {
     "name": "stderr",
     "output_type": "stream",
     "text": [
      "<ipython-input-18-939dd4d3d9eb>:1: DeprecationWarning: find_element_by_* commands are deprecated. Please use find_element() instead\n",
      "  i = driver.find_element_by_xpath(\"//a[@title= 'Data Scientist']\")\n"
     ]
    },
    {
     "data": {
      "text/plain": [
       "'Data Scientist'"
      ]
     },
     "execution_count": 18,
     "metadata": {},
     "output_type": "execute_result"
    }
   ],
   "source": [
    "i = driver.find_element_by_xpath(\"//a[@title= 'Data Scientist']\")\n",
    "i.text"
   ]
  },
  {
   "cell_type": "code",
   "execution_count": 19,
   "id": "5f432ca5",
   "metadata": {},
   "outputs": [
    {
     "name": "stderr",
     "output_type": "stream",
     "text": [
      "<ipython-input-19-d8568f1c0259>:1: DeprecationWarning: find_element_by_* commands are deprecated. Please use find_element() instead\n",
      "  j = driver.find_element_by_xpath(\"//a[@title= 'Data Scientist']\")\n"
     ]
    },
    {
     "data": {
      "text/plain": [
       "'Data Scientist'"
      ]
     },
     "execution_count": 19,
     "metadata": {},
     "output_type": "execute_result"
    }
   ],
   "source": [
    "j = driver.find_element_by_xpath(\"//a[@title= 'Data Scientist']\")\n",
    "j.text"
   ]
  },
  {
   "cell_type": "code",
   "execution_count": 20,
   "id": "4dd7e5aa",
   "metadata": {},
   "outputs": [
    {
     "data": {
      "text/plain": [
       "['Data Scientist',\n",
       " 'Data Scientist',\n",
       " 'Hiring For Data Scientist',\n",
       " 'Project Manager | Team Leader | Senior Data Scientist',\n",
       " 'Data Scientist',\n",
       " 'NTT DATA_ Hiring For BIG DATA ,DATA Scientist, Devops',\n",
       " 'Hiring For Data Analyst / Data Scientist',\n",
       " 'Data Scientist Internship',\n",
       " 'Data Scientist',\n",
       " 'Data Scientist']"
      ]
     },
     "execution_count": 20,
     "metadata": {},
     "output_type": "execute_result"
    }
   ],
   "source": [
    "dsjt = [a.text, b.text, c.text, d.text, e.text, f.text, g.text, h.text, i.text, j.text]\n",
    "dsjt"
   ]
  },
  {
   "cell_type": "code",
   "execution_count": 21,
   "id": "189c8bd6",
   "metadata": {},
   "outputs": [
    {
     "name": "stderr",
     "output_type": "stream",
     "text": [
      "<ipython-input-21-9317705f30f5>:1: DeprecationWarning: find_element_by_* commands are deprecated. Please use find_element() instead\n",
      "  a = driver.find_element_by_xpath(\"/html/body/div[1]/div[3]/div[2]/section[2]/div[2]/article[1]/div[1]/div[1]/div/a[1]\")\n"
     ]
    },
    {
     "data": {
      "text/plain": [
       "'LG Electronics India Pvt. Ltd.'"
      ]
     },
     "execution_count": 21,
     "metadata": {},
     "output_type": "execute_result"
    }
   ],
   "source": [
    "a = driver.find_element_by_xpath(\"/html/body/div[1]/div[3]/div[2]/section[2]/div[2]/article[1]/div[1]/div[1]/div/a[1]\")\n",
    "a.text"
   ]
  },
  {
   "cell_type": "code",
   "execution_count": 22,
   "id": "2654a3fc",
   "metadata": {},
   "outputs": [
    {
     "name": "stderr",
     "output_type": "stream",
     "text": [
      "<ipython-input-22-069e2bc383e8>:1: DeprecationWarning: find_element_by_* commands are deprecated. Please use find_element() instead\n",
      "  b = driver.find_element_by_xpath(\"/html/body/div[1]/div[3]/div[2]/section[2]/div[2]/article[2]/div[1]/div/div/a\")\n"
     ]
    },
    {
     "data": {
      "text/plain": [
       "'Navikenz India Pvt Ltd'"
      ]
     },
     "execution_count": 22,
     "metadata": {},
     "output_type": "execute_result"
    }
   ],
   "source": [
    "b = driver.find_element_by_xpath(\"/html/body/div[1]/div[3]/div[2]/section[2]/div[2]/article[2]/div[1]/div/div/a\")\n",
    "b.text"
   ]
  },
  {
   "cell_type": "code",
   "execution_count": 23,
   "id": "a6350d06",
   "metadata": {},
   "outputs": [
    {
     "name": "stderr",
     "output_type": "stream",
     "text": [
      "<ipython-input-23-118f302cb930>:1: DeprecationWarning: find_element_by_* commands are deprecated. Please use find_element() instead\n",
      "  c = driver.find_element_by_xpath(\"/html/body/div[1]/div[3]/div[2]/section[2]/div[2]/article[3]/div[1]/div[1]/div/a[1]\")\n"
     ]
    },
    {
     "data": {
      "text/plain": [
       "'Tata Consultancy Services Ltd.'"
      ]
     },
     "execution_count": 23,
     "metadata": {},
     "output_type": "execute_result"
    }
   ],
   "source": [
    "c = driver.find_element_by_xpath(\"/html/body/div[1]/div[3]/div[2]/section[2]/div[2]/article[3]/div[1]/div[1]/div/a[1]\")\n",
    "c.text"
   ]
  },
  {
   "cell_type": "code",
   "execution_count": 24,
   "id": "421a0e3e",
   "metadata": {},
   "outputs": [
    {
     "name": "stderr",
     "output_type": "stream",
     "text": [
      "<ipython-input-24-f36a7caaea4e>:1: DeprecationWarning: find_element_by_* commands are deprecated. Please use find_element() instead\n",
      "  d = driver.find_element_by_xpath(\"/html/body/div[1]/div[3]/div[2]/section[2]/div[2]/article[4]/div[1]/div/div/a[1]\")\n"
     ]
    },
    {
     "data": {
      "text/plain": [
       "'Tidyquant (OPC) Private Limited'"
      ]
     },
     "execution_count": 24,
     "metadata": {},
     "output_type": "execute_result"
    }
   ],
   "source": [
    "d = driver.find_element_by_xpath(\"/html/body/div[1]/div[3]/div[2]/section[2]/div[2]/article[4]/div[1]/div/div/a[1]\")\n",
    "d.text"
   ]
  },
  {
   "cell_type": "code",
   "execution_count": 25,
   "id": "96855a86",
   "metadata": {},
   "outputs": [
    {
     "name": "stderr",
     "output_type": "stream",
     "text": [
      "<ipython-input-25-2cb451f677db>:1: DeprecationWarning: find_element_by_* commands are deprecated. Please use find_element() instead\n",
      "  e = driver.find_element_by_xpath(\"/html/body/div[1]/div[3]/div[2]/section[2]/div[2]/article[5]/div[1]/div[1]/div/a[1]\")\n"
     ]
    },
    {
     "data": {
      "text/plain": [
       "'Teleperformance'"
      ]
     },
     "execution_count": 25,
     "metadata": {},
     "output_type": "execute_result"
    }
   ],
   "source": [
    "e = driver.find_element_by_xpath(\"/html/body/div[1]/div[3]/div[2]/section[2]/div[2]/article[5]/div[1]/div[1]/div/a[1]\")\n",
    "e.text"
   ]
  },
  {
   "cell_type": "code",
   "execution_count": 26,
   "id": "922ceb90",
   "metadata": {},
   "outputs": [
    {
     "name": "stderr",
     "output_type": "stream",
     "text": [
      "<ipython-input-26-6d6819813cf5>:1: DeprecationWarning: find_element_by_* commands are deprecated. Please use find_element() instead\n",
      "  f = driver.find_element_by_xpath(\"/html/body/div[1]/div[3]/div[2]/section[2]/div[2]/article[6]/div[1]/div[1]/div/a[1]\")\n"
     ]
    },
    {
     "data": {
      "text/plain": [
       "'NTT Data Business Solutions Pvt Ltd'"
      ]
     },
     "execution_count": 26,
     "metadata": {},
     "output_type": "execute_result"
    }
   ],
   "source": [
    "f = driver.find_element_by_xpath(\"/html/body/div[1]/div[3]/div[2]/section[2]/div[2]/article[6]/div[1]/div[1]/div/a[1]\")\n",
    "f.text"
   ]
  },
  {
   "cell_type": "code",
   "execution_count": 27,
   "id": "ae6473de",
   "metadata": {},
   "outputs": [
    {
     "name": "stderr",
     "output_type": "stream",
     "text": [
      "<ipython-input-27-6a062bb0a925>:1: DeprecationWarning: find_element_by_* commands are deprecated. Please use find_element() instead\n",
      "  g = driver.find_element_by_xpath(\"/html/body/div[1]/div[3]/div[2]/section[2]/div[2]/article[7]/div[1]/div[1]/div/a\")\n"
     ]
    },
    {
     "data": {
      "text/plain": [
       "'Careerera'"
      ]
     },
     "execution_count": 27,
     "metadata": {},
     "output_type": "execute_result"
    }
   ],
   "source": [
    "g = driver.find_element_by_xpath(\"/html/body/div[1]/div[3]/div[2]/section[2]/div[2]/article[7]/div[1]/div[1]/div/a\")\n",
    "g.text"
   ]
  },
  {
   "cell_type": "code",
   "execution_count": 28,
   "id": "948ca6f8",
   "metadata": {},
   "outputs": [
    {
     "name": "stderr",
     "output_type": "stream",
     "text": [
      "<ipython-input-28-ba57965635da>:1: DeprecationWarning: find_element_by_* commands are deprecated. Please use find_element() instead\n",
      "  h = driver.find_element_by_xpath(\"/html/body/div[1]/div[3]/div[2]/section[2]/div[2]/article[8]/div[1]/div/div/a\")\n"
     ]
    },
    {
     "data": {
      "text/plain": [
       "'iHackers Inc'"
      ]
     },
     "execution_count": 28,
     "metadata": {},
     "output_type": "execute_result"
    }
   ],
   "source": [
    "h = driver.find_element_by_xpath(\"/html/body/div[1]/div[3]/div[2]/section[2]/div[2]/article[8]/div[1]/div/div/a\")\n",
    "h.text"
   ]
  },
  {
   "cell_type": "code",
   "execution_count": 29,
   "id": "067ed343",
   "metadata": {},
   "outputs": [
    {
     "name": "stderr",
     "output_type": "stream",
     "text": [
      "<ipython-input-29-395491572e52>:1: DeprecationWarning: find_element_by_* commands are deprecated. Please use find_element() instead\n",
      "  i = driver.find_element_by_xpath(\"/html/body/div[1]/div[3]/div[2]/section[2]/div[2]/article[9]/div[1]/div/div/a\")\n"
     ]
    },
    {
     "data": {
      "text/plain": [
       "'Whizhack Technologies pvt ltd'"
      ]
     },
     "execution_count": 29,
     "metadata": {},
     "output_type": "execute_result"
    }
   ],
   "source": [
    "i = driver.find_element_by_xpath(\"/html/body/div[1]/div[3]/div[2]/section[2]/div[2]/article[9]/div[1]/div/div/a\")\n",
    "i.text"
   ]
  },
  {
   "cell_type": "code",
   "execution_count": 30,
   "id": "bdcb3292",
   "metadata": {},
   "outputs": [
    {
     "name": "stderr",
     "output_type": "stream",
     "text": [
      "<ipython-input-30-7353f549363f>:1: DeprecationWarning: find_element_by_* commands are deprecated. Please use find_element() instead\n",
      "  j = driver.find_element_by_xpath(\"/html/body/div[1]/div[3]/div[2]/section[2]/div[2]/article[10]/div[1]/div/div/a[1]\")\n"
     ]
    },
    {
     "data": {
      "text/plain": [
       "'One Mobikwik Systems Private Limited'"
      ]
     },
     "execution_count": 30,
     "metadata": {},
     "output_type": "execute_result"
    }
   ],
   "source": [
    "j = driver.find_element_by_xpath(\"/html/body/div[1]/div[3]/div[2]/section[2]/div[2]/article[10]/div[1]/div/div/a[1]\")\n",
    "j.text"
   ]
  },
  {
   "cell_type": "code",
   "execution_count": 31,
   "id": "20b48b5b",
   "metadata": {},
   "outputs": [
    {
     "data": {
      "text/plain": [
       "['LG Electronics India Pvt. Ltd.',\n",
       " 'Navikenz India Pvt Ltd',\n",
       " 'Tata Consultancy Services Ltd.',\n",
       " 'Tidyquant (OPC) Private Limited',\n",
       " 'Teleperformance',\n",
       " 'NTT Data Business Solutions Pvt Ltd',\n",
       " 'Careerera',\n",
       " 'iHackers Inc',\n",
       " 'Whizhack Technologies pvt ltd',\n",
       " 'One Mobikwik Systems Private Limited']"
      ]
     },
     "execution_count": 31,
     "metadata": {},
     "output_type": "execute_result"
    }
   ],
   "source": [
    "dscn = [a.text, b.text, c.text, d.text, e.text, f.text, g.text, h.text, i.text, j.text]\n",
    "dscn"
   ]
  },
  {
   "cell_type": "code",
   "execution_count": 32,
   "id": "33c38af8",
   "metadata": {},
   "outputs": [
    {
     "name": "stderr",
     "output_type": "stream",
     "text": [
      "<ipython-input-32-d229a9925e77>:1: DeprecationWarning: find_element_by_* commands are deprecated. Please use find_element() instead\n",
      "  a = driver.find_element_by_xpath(\"/html/body/div[1]/div[3]/div[2]/section[2]/div[2]/article[1]/div[1]/div[1]/ul/li[3]/span\")\n"
     ]
    },
    {
     "data": {
      "text/plain": [
       "'Noida, New Delhi, Faridabad, Gurgaon/Gurugram, Delhi / NCR'"
      ]
     },
     "execution_count": 32,
     "metadata": {},
     "output_type": "execute_result"
    }
   ],
   "source": [
    "a = driver.find_element_by_xpath(\"/html/body/div[1]/div[3]/div[2]/section[2]/div[2]/article[1]/div[1]/div[1]/ul/li[3]/span\")\n",
    "a.text"
   ]
  },
  {
   "cell_type": "code",
   "execution_count": 33,
   "id": "bd34dd48",
   "metadata": {},
   "outputs": [
    {
     "name": "stderr",
     "output_type": "stream",
     "text": [
      "<ipython-input-33-463d71424f35>:1: DeprecationWarning: find_element_by_* commands are deprecated. Please use find_element() instead\n",
      "  b = driver.find_element_by_xpath(\"/html/body/div[1]/div[3]/div[2]/section[2]/div[2]/article[2]/div[1]/div/ul/li[3]/span[1]\")\n"
     ]
    },
    {
     "data": {
      "text/plain": [
       "'Noida, Nodia'"
      ]
     },
     "execution_count": 33,
     "metadata": {},
     "output_type": "execute_result"
    }
   ],
   "source": [
    "b = driver.find_element_by_xpath(\"/html/body/div[1]/div[3]/div[2]/section[2]/div[2]/article[2]/div[1]/div/ul/li[3]/span[1]\")\n",
    "b.text"
   ]
  },
  {
   "cell_type": "code",
   "execution_count": 34,
   "id": "b4b5f4ee",
   "metadata": {},
   "outputs": [
    {
     "name": "stderr",
     "output_type": "stream",
     "text": [
      "<ipython-input-34-a498af04708e>:1: DeprecationWarning: find_element_by_* commands are deprecated. Please use find_element() instead\n",
      "  c = driver.find_element_by_xpath(\"/html/body/div[1]/div[3]/div[2]/section[2]/div[2]/article[3]/div[1]/div[1]/ul/li[3]/span[1]\")\n"
     ]
    },
    {
     "data": {
      "text/plain": [
       "'Hyderabad/Secunderabad, Pune, Chennai, Bangalore/Bengaluru, Delhi / NCR, Mumbai (All Areas)'"
      ]
     },
     "execution_count": 34,
     "metadata": {},
     "output_type": "execute_result"
    }
   ],
   "source": [
    "c = driver.find_element_by_xpath(\"/html/body/div[1]/div[3]/div[2]/section[2]/div[2]/article[3]/div[1]/div[1]/ul/li[3]/span[1]\")\n",
    "c.text"
   ]
  },
  {
   "cell_type": "code",
   "execution_count": 35,
   "id": "452ce420",
   "metadata": {},
   "outputs": [
    {
     "name": "stderr",
     "output_type": "stream",
     "text": [
      "<ipython-input-35-41cfad9dbd56>:1: DeprecationWarning: find_element_by_* commands are deprecated. Please use find_element() instead\n",
      "  d = driver.find_element_by_xpath(\"//span[@title= 'Remote']\")\n"
     ]
    },
    {
     "data": {
      "text/plain": [
       "'Remote'"
      ]
     },
     "execution_count": 35,
     "metadata": {},
     "output_type": "execute_result"
    }
   ],
   "source": [
    "d = driver.find_element_by_xpath(\"//span[@title= 'Remote']\")\n",
    "d.text"
   ]
  },
  {
   "cell_type": "code",
   "execution_count": 36,
   "id": "6856fee5",
   "metadata": {},
   "outputs": [
    {
     "name": "stderr",
     "output_type": "stream",
     "text": [
      "<ipython-input-36-00abaf00ddd4>:1: DeprecationWarning: find_element_by_* commands are deprecated. Please use find_element() instead\n",
      "  e = driver.find_element_by_xpath(\"/html/body/div[1]/div[3]/div[2]/section[2]/div[2]/article[5]/div[1]/div[1]/ul/li[3]/span\")\n"
     ]
    },
    {
     "data": {
      "text/plain": [
       "'Gurgaon/Gurugram, Chennai'"
      ]
     },
     "execution_count": 36,
     "metadata": {},
     "output_type": "execute_result"
    }
   ],
   "source": [
    "e = driver.find_element_by_xpath(\"/html/body/div[1]/div[3]/div[2]/section[2]/div[2]/article[5]/div[1]/div[1]/ul/li[3]/span\")\n",
    "e.text"
   ]
  },
  {
   "cell_type": "code",
   "execution_count": 37,
   "id": "0955c17f",
   "metadata": {},
   "outputs": [
    {
     "name": "stderr",
     "output_type": "stream",
     "text": [
      "<ipython-input-37-4ed64a079634>:1: DeprecationWarning: find_element_by_* commands are deprecated. Please use find_element() instead\n",
      "  f = driver.find_element_by_xpath(\"/html/body/div[1]/div[3]/div[2]/section[2]/div[2]/article[6]/div[1]/div[1]/ul/li[3]/span[1]\")\n"
     ]
    },
    {
     "data": {
      "text/plain": [
       "'Noida, Kolkata, Hyderabad/Secunderabad, Ahmedabad, Chennai, Coimbatore, Bangalore/Bengaluru, Delhi / NCR, Mumbai (All Areas)'"
      ]
     },
     "execution_count": 37,
     "metadata": {},
     "output_type": "execute_result"
    }
   ],
   "source": [
    "f = driver.find_element_by_xpath(\"/html/body/div[1]/div[3]/div[2]/section[2]/div[2]/article[6]/div[1]/div[1]/ul/li[3]/span[1]\")\n",
    "f.text"
   ]
  },
  {
   "cell_type": "code",
   "execution_count": 38,
   "id": "018ca26b",
   "metadata": {},
   "outputs": [
    {
     "name": "stderr",
     "output_type": "stream",
     "text": [
      "<ipython-input-38-5b1ce4940a0b>:1: DeprecationWarning: find_element_by_* commands are deprecated. Please use find_element() instead\n",
      "  g = driver.find_element_by_xpath(\"/html/body/div[1]/div[3]/div[2]/section[2]/div[2]/article[7]/div[1]/div[1]/ul/li[3]/span\")\n"
     ]
    },
    {
     "data": {
      "text/plain": [
       "'Noida(Sector-59 Noida)'"
      ]
     },
     "execution_count": 38,
     "metadata": {},
     "output_type": "execute_result"
    }
   ],
   "source": [
    "g = driver.find_element_by_xpath(\"/html/body/div[1]/div[3]/div[2]/section[2]/div[2]/article[7]/div[1]/div[1]/ul/li[3]/span\")\n",
    "g.text"
   ]
  },
  {
   "cell_type": "code",
   "execution_count": 39,
   "id": "8104abed",
   "metadata": {},
   "outputs": [
    {
     "name": "stderr",
     "output_type": "stream",
     "text": [
      "<ipython-input-39-be2e2653e1f9>:1: DeprecationWarning: find_element_by_* commands are deprecated. Please use find_element() instead\n",
      "  h = driver.find_element_by_xpath(\"/html/body/div[1]/div[3]/div[2]/section[2]/div[2]/article[8]/div[1]/div/ul/li[3]/span\")\n"
     ]
    },
    {
     "data": {
      "text/plain": [
       "'New Delhi'"
      ]
     },
     "execution_count": 39,
     "metadata": {},
     "output_type": "execute_result"
    }
   ],
   "source": [
    "h = driver.find_element_by_xpath(\"/html/body/div[1]/div[3]/div[2]/section[2]/div[2]/article[8]/div[1]/div/ul/li[3]/span\")\n",
    "h.text"
   ]
  },
  {
   "cell_type": "code",
   "execution_count": 40,
   "id": "0f175649",
   "metadata": {},
   "outputs": [
    {
     "name": "stderr",
     "output_type": "stream",
     "text": [
      "<ipython-input-40-bbdf72713284>:1: DeprecationWarning: find_element_by_* commands are deprecated. Please use find_element() instead\n",
      "  i = driver.find_element_by_xpath(\"/html/body/div[1]/div[3]/div[2]/section[2]/div[2]/article[9]/div[1]/div/ul/li[3]/span\")\n"
     ]
    },
    {
     "data": {
      "text/plain": [
       "'Gurgaon/Gurugram'"
      ]
     },
     "execution_count": 40,
     "metadata": {},
     "output_type": "execute_result"
    }
   ],
   "source": [
    "i = driver.find_element_by_xpath(\"/html/body/div[1]/div[3]/div[2]/section[2]/div[2]/article[9]/div[1]/div/ul/li[3]/span\")\n",
    "i.text"
   ]
  },
  {
   "cell_type": "code",
   "execution_count": 41,
   "id": "10565671",
   "metadata": {},
   "outputs": [
    {
     "name": "stderr",
     "output_type": "stream",
     "text": [
      "<ipython-input-41-19d2bbb064e3>:1: DeprecationWarning: find_element_by_* commands are deprecated. Please use find_element() instead\n",
      "  j = driver.find_element_by_xpath(\"/html/body/div[1]/div[3]/div[2]/section[2]/div[2]/article[10]/div[1]/div/ul/li[3]/span\")\n"
     ]
    },
    {
     "data": {
      "text/plain": [
       "'Gurgaon/Gurugram'"
      ]
     },
     "execution_count": 41,
     "metadata": {},
     "output_type": "execute_result"
    }
   ],
   "source": [
    "j = driver.find_element_by_xpath(\"/html/body/div[1]/div[3]/div[2]/section[2]/div[2]/article[10]/div[1]/div/ul/li[3]/span\")\n",
    "j.text"
   ]
  },
  {
   "cell_type": "code",
   "execution_count": 42,
   "id": "598891e8",
   "metadata": {},
   "outputs": [
    {
     "data": {
      "text/plain": [
       "['Noida, New Delhi, Faridabad, Gurgaon/Gurugram, Delhi / NCR',\n",
       " 'Noida, Nodia',\n",
       " 'Hyderabad/Secunderabad, Pune, Chennai, Bangalore/Bengaluru, Delhi / NCR, Mumbai (All Areas)',\n",
       " 'Remote',\n",
       " 'Gurgaon/Gurugram, Chennai',\n",
       " 'Noida, Kolkata, Hyderabad/Secunderabad, Ahmedabad, Chennai, Coimbatore, Bangalore/Bengaluru, Delhi / NCR, Mumbai (All Areas)',\n",
       " 'Noida(Sector-59 Noida)',\n",
       " 'New Delhi',\n",
       " 'Gurgaon/Gurugram',\n",
       " 'Gurgaon/Gurugram']"
      ]
     },
     "execution_count": 42,
     "metadata": {},
     "output_type": "execute_result"
    }
   ],
   "source": [
    "dsloc = [a.text, b.text, c.text, d.text, e.text, f.text, g.text, h.text, i.text, j.text]\n",
    "dsloc"
   ]
  },
  {
   "cell_type": "code",
   "execution_count": 43,
   "id": "1db49290",
   "metadata": {},
   "outputs": [
    {
     "name": "stderr",
     "output_type": "stream",
     "text": [
      "<ipython-input-43-d12493cf9d7f>:1: DeprecationWarning: find_element_by_* commands are deprecated. Please use find_element() instead\n",
      "  a = driver.find_element_by_xpath(\"/html/body/div[1]/div[3]/div[2]/section[2]/div[2]/article[1]/div[1]/div[1]/ul/li[1]/span\")\n"
     ]
    },
    {
     "data": {
      "text/plain": [
       "'0-2 Yrs'"
      ]
     },
     "execution_count": 43,
     "metadata": {},
     "output_type": "execute_result"
    }
   ],
   "source": [
    "a = driver.find_element_by_xpath(\"/html/body/div[1]/div[3]/div[2]/section[2]/div[2]/article[1]/div[1]/div[1]/ul/li[1]/span\")\n",
    "a.text"
   ]
  },
  {
   "cell_type": "code",
   "execution_count": 44,
   "id": "2385870e",
   "metadata": {},
   "outputs": [
    {
     "name": "stderr",
     "output_type": "stream",
     "text": [
      "<ipython-input-44-bba6edbd3aaa>:1: DeprecationWarning: find_element_by_* commands are deprecated. Please use find_element() instead\n",
      "  b = driver.find_element_by_xpath(\"/html/body/div[1]/div[3]/div[2]/section[2]/div[2]/article[2]/div[1]/div/ul/li[1]/span\")\n"
     ]
    },
    {
     "data": {
      "text/plain": [
       "'2-7 Yrs'"
      ]
     },
     "execution_count": 44,
     "metadata": {},
     "output_type": "execute_result"
    }
   ],
   "source": [
    "b = driver.find_element_by_xpath(\"/html/body/div[1]/div[3]/div[2]/section[2]/div[2]/article[2]/div[1]/div/ul/li[1]/span\")\n",
    "b.text"
   ]
  },
  {
   "cell_type": "code",
   "execution_count": 45,
   "id": "7815bfed",
   "metadata": {},
   "outputs": [
    {
     "name": "stderr",
     "output_type": "stream",
     "text": [
      "<ipython-input-45-0845c7d67d82>:1: DeprecationWarning: find_element_by_* commands are deprecated. Please use find_element() instead\n",
      "  c = driver.find_element_by_xpath(\"/html/body/div[1]/div[3]/div[2]/section[2]/div[2]/article[3]/div[1]/div[1]/ul/li[1]/span\")\n"
     ]
    },
    {
     "data": {
      "text/plain": [
       "'4-9 Yrs'"
      ]
     },
     "execution_count": 45,
     "metadata": {},
     "output_type": "execute_result"
    }
   ],
   "source": [
    "c = driver.find_element_by_xpath(\"/html/body/div[1]/div[3]/div[2]/section[2]/div[2]/article[3]/div[1]/div[1]/ul/li[1]/span\")\n",
    "c.text"
   ]
  },
  {
   "cell_type": "code",
   "execution_count": 46,
   "id": "e20f1471",
   "metadata": {},
   "outputs": [
    {
     "name": "stderr",
     "output_type": "stream",
     "text": [
      "<ipython-input-46-925e4603d42f>:1: DeprecationWarning: find_element_by_* commands are deprecated. Please use find_element() instead\n",
      "  d = driver.find_element_by_xpath(\"/html/body/div[1]/div[3]/div[2]/section[2]/div[2]/article[4]/div[1]/div/ul/li[1]/span\")\n"
     ]
    },
    {
     "data": {
      "text/plain": [
       "'1-5 Yrs'"
      ]
     },
     "execution_count": 46,
     "metadata": {},
     "output_type": "execute_result"
    }
   ],
   "source": [
    "d = driver.find_element_by_xpath(\"/html/body/div[1]/div[3]/div[2]/section[2]/div[2]/article[4]/div[1]/div/ul/li[1]/span\")\n",
    "d.text"
   ]
  },
  {
   "cell_type": "code",
   "execution_count": 47,
   "id": "fcd5dc49",
   "metadata": {},
   "outputs": [
    {
     "name": "stderr",
     "output_type": "stream",
     "text": [
      "<ipython-input-47-1a96bfdecf49>:1: DeprecationWarning: find_element_by_* commands are deprecated. Please use find_element() instead\n",
      "  e = driver.find_element_by_xpath(\"/html/body/div[1]/div[3]/div[2]/section[2]/div[2]/article[5]/div[1]/div[1]/ul/li[1]/span\")\n"
     ]
    },
    {
     "data": {
      "text/plain": [
       "'4-9 Yrs'"
      ]
     },
     "execution_count": 47,
     "metadata": {},
     "output_type": "execute_result"
    }
   ],
   "source": [
    "e = driver.find_element_by_xpath(\"/html/body/div[1]/div[3]/div[2]/section[2]/div[2]/article[5]/div[1]/div[1]/ul/li[1]/span\")\n",
    "e.text"
   ]
  },
  {
   "cell_type": "code",
   "execution_count": 48,
   "id": "f663e9cb",
   "metadata": {},
   "outputs": [
    {
     "name": "stderr",
     "output_type": "stream",
     "text": [
      "<ipython-input-48-9cdd2673152a>:1: DeprecationWarning: find_element_by_* commands are deprecated. Please use find_element() instead\n",
      "  f = driver.find_element_by_xpath(\"/html/body/div[1]/div[3]/div[2]/section[2]/div[2]/article[6]/div[1]/div[1]/ul/li[1]/span\")\n"
     ]
    },
    {
     "data": {
      "text/plain": [
       "'3-8 Yrs'"
      ]
     },
     "execution_count": 48,
     "metadata": {},
     "output_type": "execute_result"
    }
   ],
   "source": [
    "f = driver.find_element_by_xpath(\"/html/body/div[1]/div[3]/div[2]/section[2]/div[2]/article[6]/div[1]/div[1]/ul/li[1]/span\")\n",
    "f.text"
   ]
  },
  {
   "cell_type": "code",
   "execution_count": 49,
   "id": "4e082669",
   "metadata": {},
   "outputs": [
    {
     "name": "stderr",
     "output_type": "stream",
     "text": [
      "<ipython-input-49-6f576cf472ca>:1: DeprecationWarning: find_element_by_* commands are deprecated. Please use find_element() instead\n",
      "  g = driver.find_element_by_xpath(\"/html/body/div[1]/div[3]/div[2]/section[2]/div[2]/article[7]/div[1]/div[1]/ul/li[1]/span\")\n"
     ]
    },
    {
     "data": {
      "text/plain": [
       "'1-3 Yrs'"
      ]
     },
     "execution_count": 49,
     "metadata": {},
     "output_type": "execute_result"
    }
   ],
   "source": [
    "g = driver.find_element_by_xpath(\"/html/body/div[1]/div[3]/div[2]/section[2]/div[2]/article[7]/div[1]/div[1]/ul/li[1]/span\")\n",
    "g.text"
   ]
  },
  {
   "cell_type": "code",
   "execution_count": 50,
   "id": "b02f8cd7",
   "metadata": {},
   "outputs": [
    {
     "name": "stderr",
     "output_type": "stream",
     "text": [
      "<ipython-input-50-d69b0e40f7db>:1: DeprecationWarning: find_element_by_* commands are deprecated. Please use find_element() instead\n",
      "  h = driver.find_element_by_xpath(\"/html/body/div[1]/div[3]/div[2]/section[2]/div[2]/article[8]/div[1]/div/ul/li[1]/span\")\n"
     ]
    },
    {
     "data": {
      "text/plain": [
       "'0-1 Yrs'"
      ]
     },
     "execution_count": 50,
     "metadata": {},
     "output_type": "execute_result"
    }
   ],
   "source": [
    "h = driver.find_element_by_xpath(\"/html/body/div[1]/div[3]/div[2]/section[2]/div[2]/article[8]/div[1]/div/ul/li[1]/span\")\n",
    "h.text"
   ]
  },
  {
   "cell_type": "code",
   "execution_count": 51,
   "id": "1e0741a0",
   "metadata": {},
   "outputs": [
    {
     "name": "stderr",
     "output_type": "stream",
     "text": [
      "<ipython-input-51-f2c23eebd81f>:1: DeprecationWarning: find_element_by_* commands are deprecated. Please use find_element() instead\n",
      "  i = driver.find_element_by_xpath(\"/html/body/div[1]/div[3]/div[2]/section[2]/div[2]/article[9]/div[1]/div/ul/li[1]/span\")\n"
     ]
    },
    {
     "data": {
      "text/plain": [
       "'2-5 Yrs'"
      ]
     },
     "execution_count": 51,
     "metadata": {},
     "output_type": "execute_result"
    }
   ],
   "source": [
    "i = driver.find_element_by_xpath(\"/html/body/div[1]/div[3]/div[2]/section[2]/div[2]/article[9]/div[1]/div/ul/li[1]/span\")\n",
    "i.text"
   ]
  },
  {
   "cell_type": "code",
   "execution_count": 52,
   "id": "8e056829",
   "metadata": {},
   "outputs": [
    {
     "name": "stderr",
     "output_type": "stream",
     "text": [
      "<ipython-input-52-56dadb6e107c>:1: DeprecationWarning: find_element_by_* commands are deprecated. Please use find_element() instead\n",
      "  j = driver.find_element_by_xpath(\"/html/body/div[1]/div[3]/div[2]/section[2]/div[2]/article[10]/div[1]/div/ul/li[1]/span\")\n"
     ]
    },
    {
     "data": {
      "text/plain": [
       "'2-5 Yrs'"
      ]
     },
     "execution_count": 52,
     "metadata": {},
     "output_type": "execute_result"
    }
   ],
   "source": [
    "j = driver.find_element_by_xpath(\"/html/body/div[1]/div[3]/div[2]/section[2]/div[2]/article[10]/div[1]/div/ul/li[1]/span\")\n",
    "j.text"
   ]
  },
  {
   "cell_type": "code",
   "execution_count": 53,
   "id": "7d3faed2",
   "metadata": {},
   "outputs": [
    {
     "data": {
      "text/plain": [
       "['0-2 Yrs',\n",
       " '2-7 Yrs',\n",
       " '4-9 Yrs',\n",
       " '1-5 Yrs',\n",
       " '4-9 Yrs',\n",
       " '3-8 Yrs',\n",
       " '1-3 Yrs',\n",
       " '0-1 Yrs',\n",
       " '2-5 Yrs',\n",
       " '2-5 Yrs']"
      ]
     },
     "execution_count": 53,
     "metadata": {},
     "output_type": "execute_result"
    }
   ],
   "source": [
    "dsexp = [a.text, b.text, c.text, d.text, e.text, f.text, g.text, h.text, i.text, j.text]\n",
    "dsexp"
   ]
  },
  {
   "cell_type": "code",
   "execution_count": 54,
   "id": "ccdcc24e",
   "metadata": {},
   "outputs": [
    {
     "data": {
      "text/html": [
       "<div>\n",
       "<style scoped>\n",
       "    .dataframe tbody tr th:only-of-type {\n",
       "        vertical-align: middle;\n",
       "    }\n",
       "\n",
       "    .dataframe tbody tr th {\n",
       "        vertical-align: top;\n",
       "    }\n",
       "\n",
       "    .dataframe thead th {\n",
       "        text-align: right;\n",
       "    }\n",
       "</style>\n",
       "<table border=\"1\" class=\"dataframe\">\n",
       "  <thead>\n",
       "    <tr style=\"text-align: right;\">\n",
       "      <th></th>\n",
       "      <th>Job Title</th>\n",
       "      <th>Company Name</th>\n",
       "      <th>Location</th>\n",
       "      <th>Experience Required</th>\n",
       "    </tr>\n",
       "  </thead>\n",
       "  <tbody>\n",
       "    <tr>\n",
       "      <th>0</th>\n",
       "      <td>Data Scientist</td>\n",
       "      <td>LG Electronics India Pvt. Ltd.</td>\n",
       "      <td>Noida, New Delhi, Faridabad, Gurgaon/Gurugram,...</td>\n",
       "      <td>0-2 Yrs</td>\n",
       "    </tr>\n",
       "    <tr>\n",
       "      <th>1</th>\n",
       "      <td>Data Scientist</td>\n",
       "      <td>Navikenz India Pvt Ltd</td>\n",
       "      <td>Noida, Nodia</td>\n",
       "      <td>2-7 Yrs</td>\n",
       "    </tr>\n",
       "    <tr>\n",
       "      <th>2</th>\n",
       "      <td>Hiring For Data Scientist</td>\n",
       "      <td>Tata Consultancy Services Ltd.</td>\n",
       "      <td>Hyderabad/Secunderabad, Pune, Chennai, Bangalo...</td>\n",
       "      <td>4-9 Yrs</td>\n",
       "    </tr>\n",
       "    <tr>\n",
       "      <th>3</th>\n",
       "      <td>Project Manager | Team Leader | Senior Data Sc...</td>\n",
       "      <td>Tidyquant (OPC) Private Limited</td>\n",
       "      <td>Remote</td>\n",
       "      <td>1-5 Yrs</td>\n",
       "    </tr>\n",
       "    <tr>\n",
       "      <th>4</th>\n",
       "      <td>Data Scientist</td>\n",
       "      <td>Teleperformance</td>\n",
       "      <td>Gurgaon/Gurugram, Chennai</td>\n",
       "      <td>4-9 Yrs</td>\n",
       "    </tr>\n",
       "    <tr>\n",
       "      <th>5</th>\n",
       "      <td>NTT DATA_ Hiring For BIG DATA ,DATA Scientist,...</td>\n",
       "      <td>NTT Data Business Solutions Pvt Ltd</td>\n",
       "      <td>Noida, Kolkata, Hyderabad/Secunderabad, Ahmeda...</td>\n",
       "      <td>3-8 Yrs</td>\n",
       "    </tr>\n",
       "    <tr>\n",
       "      <th>6</th>\n",
       "      <td>Hiring For Data Analyst / Data Scientist</td>\n",
       "      <td>Careerera</td>\n",
       "      <td>Noida(Sector-59 Noida)</td>\n",
       "      <td>1-3 Yrs</td>\n",
       "    </tr>\n",
       "    <tr>\n",
       "      <th>7</th>\n",
       "      <td>Data Scientist Internship</td>\n",
       "      <td>iHackers Inc</td>\n",
       "      <td>New Delhi</td>\n",
       "      <td>0-1 Yrs</td>\n",
       "    </tr>\n",
       "    <tr>\n",
       "      <th>8</th>\n",
       "      <td>Data Scientist</td>\n",
       "      <td>Whizhack Technologies pvt ltd</td>\n",
       "      <td>Gurgaon/Gurugram</td>\n",
       "      <td>2-5 Yrs</td>\n",
       "    </tr>\n",
       "    <tr>\n",
       "      <th>9</th>\n",
       "      <td>Data Scientist</td>\n",
       "      <td>One Mobikwik Systems Private Limited</td>\n",
       "      <td>Gurgaon/Gurugram</td>\n",
       "      <td>2-5 Yrs</td>\n",
       "    </tr>\n",
       "  </tbody>\n",
       "</table>\n",
       "</div>"
      ],
      "text/plain": [
       "                                           Job Title  \\\n",
       "0                                     Data Scientist   \n",
       "1                                     Data Scientist   \n",
       "2                          Hiring For Data Scientist   \n",
       "3  Project Manager | Team Leader | Senior Data Sc...   \n",
       "4                                     Data Scientist   \n",
       "5  NTT DATA_ Hiring For BIG DATA ,DATA Scientist,...   \n",
       "6           Hiring For Data Analyst / Data Scientist   \n",
       "7                          Data Scientist Internship   \n",
       "8                                     Data Scientist   \n",
       "9                                     Data Scientist   \n",
       "\n",
       "                           Company Name  \\\n",
       "0        LG Electronics India Pvt. Ltd.   \n",
       "1                Navikenz India Pvt Ltd   \n",
       "2        Tata Consultancy Services Ltd.   \n",
       "3       Tidyquant (OPC) Private Limited   \n",
       "4                       Teleperformance   \n",
       "5   NTT Data Business Solutions Pvt Ltd   \n",
       "6                             Careerera   \n",
       "7                          iHackers Inc   \n",
       "8         Whizhack Technologies pvt ltd   \n",
       "9  One Mobikwik Systems Private Limited   \n",
       "\n",
       "                                            Location Experience Required  \n",
       "0  Noida, New Delhi, Faridabad, Gurgaon/Gurugram,...             0-2 Yrs  \n",
       "1                                       Noida, Nodia             2-7 Yrs  \n",
       "2  Hyderabad/Secunderabad, Pune, Chennai, Bangalo...             4-9 Yrs  \n",
       "3                                             Remote             1-5 Yrs  \n",
       "4                          Gurgaon/Gurugram, Chennai             4-9 Yrs  \n",
       "5  Noida, Kolkata, Hyderabad/Secunderabad, Ahmeda...             3-8 Yrs  \n",
       "6                             Noida(Sector-59 Noida)             1-3 Yrs  \n",
       "7                                          New Delhi             0-1 Yrs  \n",
       "8                                   Gurgaon/Gurugram             2-5 Yrs  \n",
       "9                                   Gurgaon/Gurugram             2-5 Yrs  "
      ]
     },
     "execution_count": 54,
     "metadata": {},
     "output_type": "execute_result"
    }
   ],
   "source": [
    "ds_delhincr = pd.DataFrame({'Job Title': dsjt, 'Company Name': dscn, 'Location': dsloc, 'Experience Required': dsexp})\n",
    "ds_delhincr"
   ]
  },
  {
   "cell_type": "markdown",
   "id": "3eda3870",
   "metadata": {},
   "source": [
    "Ans 4. - Python program to scrape the data for Sunglasses from flipkart.com webpage using selenium."
   ]
  },
  {
   "cell_type": "code",
   "execution_count": 3,
   "id": "b5afdd87",
   "metadata": {},
   "outputs": [],
   "source": [
    "url = \"https://www.flipkart.com/search?q=sunglasses&otracker=search&otracker1=search&marketplace=FLIPKART&as-show=on&as=off\"\n",
    "driver.get(url)"
   ]
  },
  {
   "cell_type": "code",
   "execution_count": 4,
   "id": "8193d902",
   "metadata": {},
   "outputs": [
    {
     "name": "stderr",
     "output_type": "stream",
     "text": [
      "<ipython-input-4-b111e4f7ef70>:5: DeprecationWarning: find_elements_by_* commands are deprecated. Please use find_elements() instead\n",
      "  brands = driver.find_elements_by_class_name(\"_2WkVRV\")\n"
     ]
    },
    {
     "data": {
      "text/plain": [
       "120"
      ]
     },
     "execution_count": 4,
     "metadata": {},
     "output_type": "execute_result"
    }
   ],
   "source": [
    "brand = []\n",
    "start = 0\n",
    "end = 3\n",
    "for page in range(start, end):\n",
    "    brands = driver.find_elements_by_class_name(\"_2WkVRV\")\n",
    "    for i in brands:\n",
    "        brand.append(i.text)\n",
    "len(brand)"
   ]
  },
  {
   "cell_type": "code",
   "execution_count": 5,
   "id": "5ec831c1",
   "metadata": {},
   "outputs": [
    {
     "name": "stderr",
     "output_type": "stream",
     "text": [
      "<ipython-input-5-1805b0a3a906>:3: DeprecationWarning: find_elements_by_* commands are deprecated. Please use find_elements() instead\n",
      "  descri = driver.find_elements_by_class_name(\"IRpwTa\")\n"
     ]
    },
    {
     "data": {
      "text/plain": [
       "120"
      ]
     },
     "execution_count": 5,
     "metadata": {},
     "output_type": "execute_result"
    }
   ],
   "source": [
    "desc = []\n",
    "for page in range(start, end):\n",
    "    descri = driver.find_elements_by_class_name(\"IRpwTa\")\n",
    "    for j in descri:\n",
    "        desc.append(j.text)\n",
    "len(desc)"
   ]
  },
  {
   "cell_type": "code",
   "execution_count": 14,
   "id": "754d812c",
   "metadata": {},
   "outputs": [
    {
     "name": "stderr",
     "output_type": "stream",
     "text": [
      "<ipython-input-14-dcb52b0b4f14>:3: DeprecationWarning: find_elements_by_* commands are deprecated. Please use find_elements() instead\n",
      "  prices = driver.find_elements_by_class_name(\"_30jeq3\")\n"
     ]
    }
   ],
   "source": [
    "price = []\n",
    "for page in range(start, end):\n",
    "    prices = driver.find_elements_by_class_name(\"_30jeq3\")\n",
    "    for k in prices:\n",
    "        price.append(k.text)"
   ]
  },
  {
   "cell_type": "code",
   "execution_count": 15,
   "id": "9416e2dd",
   "metadata": {},
   "outputs": [
    {
     "data": {
      "text/plain": [
       "135"
      ]
     },
     "execution_count": 15,
     "metadata": {},
     "output_type": "execute_result"
    }
   ],
   "source": [
    "len(price)"
   ]
  },
  {
   "cell_type": "code",
   "execution_count": 16,
   "id": "e0de1d5c",
   "metadata": {},
   "outputs": [],
   "source": [
    "price = price[:120]"
   ]
  },
  {
   "cell_type": "code",
   "execution_count": 17,
   "id": "b4406ec8",
   "metadata": {},
   "outputs": [
    {
     "data": {
      "text/plain": [
       "120"
      ]
     },
     "execution_count": 17,
     "metadata": {},
     "output_type": "execute_result"
    }
   ],
   "source": [
    "len(price)"
   ]
  },
  {
   "cell_type": "code",
   "execution_count": 18,
   "id": "33723cd4",
   "metadata": {},
   "outputs": [
    {
     "data": {
      "text/html": [
       "<div>\n",
       "<style scoped>\n",
       "    .dataframe tbody tr th:only-of-type {\n",
       "        vertical-align: middle;\n",
       "    }\n",
       "\n",
       "    .dataframe tbody tr th {\n",
       "        vertical-align: top;\n",
       "    }\n",
       "\n",
       "    .dataframe thead th {\n",
       "        text-align: right;\n",
       "    }\n",
       "</style>\n",
       "<table border=\"1\" class=\"dataframe\">\n",
       "  <thead>\n",
       "    <tr style=\"text-align: right;\">\n",
       "      <th></th>\n",
       "      <th>Brand Name</th>\n",
       "      <th>Product Description</th>\n",
       "      <th>Price</th>\n",
       "    </tr>\n",
       "  </thead>\n",
       "  <tbody>\n",
       "    <tr>\n",
       "      <th>0</th>\n",
       "      <td>Kanishka</td>\n",
       "      <td>UV Protection Aviator Sunglasses (55)</td>\n",
       "      <td>₹165</td>\n",
       "    </tr>\n",
       "    <tr>\n",
       "      <th>1</th>\n",
       "      <td>Kanishka</td>\n",
       "      <td>Others Round Sunglasses (55)</td>\n",
       "      <td>₹151</td>\n",
       "    </tr>\n",
       "    <tr>\n",
       "      <th>2</th>\n",
       "      <td>SRPM</td>\n",
       "      <td>UV Protection Wayfarer Sunglasses (56)</td>\n",
       "      <td>₹188</td>\n",
       "    </tr>\n",
       "    <tr>\n",
       "      <th>3</th>\n",
       "      <td>PIRASO</td>\n",
       "      <td>UV Protection Aviator Sunglasses (54)</td>\n",
       "      <td>₹212</td>\n",
       "    </tr>\n",
       "    <tr>\n",
       "      <th>4</th>\n",
       "      <td>Elligator</td>\n",
       "      <td>UV Protection Round Sunglasses (54)</td>\n",
       "      <td>₹248</td>\n",
       "    </tr>\n",
       "    <tr>\n",
       "      <th>...</th>\n",
       "      <td>...</td>\n",
       "      <td>...</td>\n",
       "      <td>...</td>\n",
       "    </tr>\n",
       "    <tr>\n",
       "      <th>95</th>\n",
       "      <td>ROZZETTA CRAFT</td>\n",
       "      <td>Gradient, UV Protection Round Sunglasses (Free...</td>\n",
       "      <td>₹274</td>\n",
       "    </tr>\n",
       "    <tr>\n",
       "      <th>96</th>\n",
       "      <td>SHAAH COLLECTIONS</td>\n",
       "      <td>UV Protection, Polarized, Mirrored Rectangular...</td>\n",
       "      <td>₹259</td>\n",
       "    </tr>\n",
       "    <tr>\n",
       "      <th>97</th>\n",
       "      <td>ROZZETTA CRAFT</td>\n",
       "      <td>UV Protection, Gradient Rectangular Sunglasses...</td>\n",
       "      <td>₹664</td>\n",
       "    </tr>\n",
       "    <tr>\n",
       "      <th>98</th>\n",
       "      <td>ROZZETTA CRAFT</td>\n",
       "      <td>UV Protection Retro Square Sunglasses (Free Size)</td>\n",
       "      <td>₹187</td>\n",
       "    </tr>\n",
       "    <tr>\n",
       "      <th>99</th>\n",
       "      <td>ROYAL SON</td>\n",
       "      <td>Polarized, UV Protection Round Sunglasses (52)</td>\n",
       "      <td>₹699</td>\n",
       "    </tr>\n",
       "  </tbody>\n",
       "</table>\n",
       "<p>100 rows × 3 columns</p>\n",
       "</div>"
      ],
      "text/plain": [
       "           Brand Name                                Product Description Price\n",
       "0            Kanishka              UV Protection Aviator Sunglasses (55)  ₹165\n",
       "1            Kanishka                       Others Round Sunglasses (55)  ₹151\n",
       "2                SRPM             UV Protection Wayfarer Sunglasses (56)  ₹188\n",
       "3              PIRASO              UV Protection Aviator Sunglasses (54)  ₹212\n",
       "4           Elligator                UV Protection Round Sunglasses (54)  ₹248\n",
       "..                ...                                                ...   ...\n",
       "95     ROZZETTA CRAFT  Gradient, UV Protection Round Sunglasses (Free...  ₹274\n",
       "96  SHAAH COLLECTIONS  UV Protection, Polarized, Mirrored Rectangular...  ₹259\n",
       "97     ROZZETTA CRAFT  UV Protection, Gradient Rectangular Sunglasses...  ₹664\n",
       "98     ROZZETTA CRAFT  UV Protection Retro Square Sunglasses (Free Size)  ₹187\n",
       "99          ROYAL SON     Polarized, UV Protection Round Sunglasses (52)  ₹699\n",
       "\n",
       "[100 rows x 3 columns]"
      ]
     },
     "execution_count": 18,
     "metadata": {},
     "output_type": "execute_result"
    }
   ],
   "source": [
    "sunglass = pd.DataFrame({'Brand Name': brand, 'Product Description': desc, 'Price': price})\n",
    "sunglass = sunglass.iloc[:100, :]\n",
    "sunglass"
   ]
  },
  {
   "cell_type": "markdown",
   "id": "75fd9f58",
   "metadata": {},
   "source": [
    "Ans 5. - Python program to scrape reviews data from flipkart.com for iphone11 using selenium."
   ]
  },
  {
   "cell_type": "code",
   "execution_count": 19,
   "id": "5ed30cc2",
   "metadata": {},
   "outputs": [],
   "source": [
    "url = \"https://www.flipkart.com/apple-iphone-11-black-64-gb-includes- earpods-poweradapter/p/itm0f37c2240b217?pid=MOBFKCTSVZAXUHGR&lid=LSTMOBFKCTSVZAXUHGREPBFGI&marketplace. \""
   ]
  },
  {
   "cell_type": "code",
   "execution_count": 20,
   "id": "3eea3975",
   "metadata": {},
   "outputs": [],
   "source": [
    "driver.get(url)"
   ]
  },
  {
   "cell_type": "code",
   "execution_count": 22,
   "id": "1296b20d",
   "metadata": {},
   "outputs": [
    {
     "name": "stderr",
     "output_type": "stream",
     "text": [
      "<ipython-input-22-a1dfe7a67da1>:1: DeprecationWarning: find_element_by_* commands are deprecated. Please use find_element() instead\n",
      "  review = driver.find_element_by_xpath(\"/html/body/div[1]/div/div[3]/div[1]/div[2]/div[8]/div/div/div[5]/div/a/div/span\")\n"
     ]
    }
   ],
   "source": [
    "review = driver.find_element_by_xpath(\"/html/body/div[1]/div/div[3]/div[1]/div[2]/div[8]/div/div/div[5]/div/a/div/span\")"
   ]
  },
  {
   "cell_type": "code",
   "execution_count": 23,
   "id": "fd6f9470",
   "metadata": {},
   "outputs": [],
   "source": [
    "review.click()"
   ]
  },
  {
   "cell_type": "code",
   "execution_count": 33,
   "id": "ebfeba6d",
   "metadata": {},
   "outputs": [
    {
     "name": "stderr",
     "output_type": "stream",
     "text": [
      "<ipython-input-33-2c6b6a6328c0>:5: DeprecationWarning: find_elements_by_* commands are deprecated. Please use find_elements() instead\n",
      "  rating = driver.find_elements_by_xpath(\"//div[@class= '_3LWZlK _1BLPMq']\")\n"
     ]
    }
   ],
   "source": [
    "rate = []\n",
    "start = 0\n",
    "end = 10\n",
    "for page in range(start,end):\n",
    "    rating = driver.find_elements_by_xpath(\"//div[@class= '_3LWZlK _1BLPMq']\")\n",
    "    for i in rating:\n",
    "        rate.append(i.text)"
   ]
  },
  {
   "cell_type": "code",
   "execution_count": 35,
   "id": "9cff74be",
   "metadata": {},
   "outputs": [
    {
     "data": {
      "text/plain": [
       "100"
      ]
     },
     "execution_count": 35,
     "metadata": {},
     "output_type": "execute_result"
    }
   ],
   "source": [
    "len(rate)"
   ]
  },
  {
   "cell_type": "code",
   "execution_count": 36,
   "id": "6161c9cd",
   "metadata": {},
   "outputs": [
    {
     "name": "stderr",
     "output_type": "stream",
     "text": [
      "<ipython-input-36-df73633d5b42>:3: DeprecationWarning: find_elements_by_* commands are deprecated. Please use find_elements() instead\n",
      "  summary = driver.find_elements_by_class_name(\"_2-N8zT\")\n"
     ]
    }
   ],
   "source": [
    "summ = []\n",
    "for page in range(start, end):\n",
    "    summary = driver.find_elements_by_class_name(\"_2-N8zT\")\n",
    "    for j in summary:\n",
    "        summ.append(j.text)"
   ]
  },
  {
   "cell_type": "code",
   "execution_count": 38,
   "id": "6551ecc1",
   "metadata": {},
   "outputs": [
    {
     "data": {
      "text/plain": [
       "100"
      ]
     },
     "execution_count": 38,
     "metadata": {},
     "output_type": "execute_result"
    }
   ],
   "source": [
    "len(summ)"
   ]
  },
  {
   "cell_type": "code",
   "execution_count": 39,
   "id": "7133bec4",
   "metadata": {},
   "outputs": [
    {
     "name": "stderr",
     "output_type": "stream",
     "text": [
      "<ipython-input-39-6dae61510993>:3: DeprecationWarning: find_elements_by_* commands are deprecated. Please use find_elements() instead\n",
      "  revis = driver.find_elements_by_class_name(\"t-ZTKy\")\n"
     ]
    }
   ],
   "source": [
    "revi = []\n",
    "for page in range(start, end):\n",
    "    revis = driver.find_elements_by_class_name(\"t-ZTKy\")\n",
    "    for k in revis:\n",
    "        revi.append(k.text)"
   ]
  },
  {
   "cell_type": "code",
   "execution_count": 41,
   "id": "0dc5476c",
   "metadata": {},
   "outputs": [
    {
     "data": {
      "text/plain": [
       "100"
      ]
     },
     "execution_count": 41,
     "metadata": {},
     "output_type": "execute_result"
    }
   ],
   "source": [
    "len(revi)"
   ]
  },
  {
   "cell_type": "code",
   "execution_count": 42,
   "id": "3447bf36",
   "metadata": {},
   "outputs": [
    {
     "data": {
      "text/html": [
       "<div>\n",
       "<style scoped>\n",
       "    .dataframe tbody tr th:only-of-type {\n",
       "        vertical-align: middle;\n",
       "    }\n",
       "\n",
       "    .dataframe tbody tr th {\n",
       "        vertical-align: top;\n",
       "    }\n",
       "\n",
       "    .dataframe thead th {\n",
       "        text-align: right;\n",
       "    }\n",
       "</style>\n",
       "<table border=\"1\" class=\"dataframe\">\n",
       "  <thead>\n",
       "    <tr style=\"text-align: right;\">\n",
       "      <th></th>\n",
       "      <th>Rating</th>\n",
       "      <th>Review Summary</th>\n",
       "      <th>Review</th>\n",
       "    </tr>\n",
       "  </thead>\n",
       "  <tbody>\n",
       "    <tr>\n",
       "      <th>0</th>\n",
       "      <td>5</td>\n",
       "      <td>Brilliant</td>\n",
       "      <td>The Best Phone for the Money\\n\\nThe iPhone 11 ...</td>\n",
       "    </tr>\n",
       "    <tr>\n",
       "      <th>1</th>\n",
       "      <td>5</td>\n",
       "      <td>Simply awesome</td>\n",
       "      <td>Really satisfied with the Product I received.....</td>\n",
       "    </tr>\n",
       "    <tr>\n",
       "      <th>2</th>\n",
       "      <td>5</td>\n",
       "      <td>Best in the market!</td>\n",
       "      <td>Great iPhone very snappy experience as apple k...</td>\n",
       "    </tr>\n",
       "    <tr>\n",
       "      <th>3</th>\n",
       "      <td>5</td>\n",
       "      <td>Perfect product!</td>\n",
       "      <td>Amazing phone with great cameras and better ba...</td>\n",
       "    </tr>\n",
       "    <tr>\n",
       "      <th>4</th>\n",
       "      <td>5</td>\n",
       "      <td>Worth every penny</td>\n",
       "      <td>Previously I was using one plus 3t it was a gr...</td>\n",
       "    </tr>\n",
       "    <tr>\n",
       "      <th>...</th>\n",
       "      <td>...</td>\n",
       "      <td>...</td>\n",
       "      <td>...</td>\n",
       "    </tr>\n",
       "    <tr>\n",
       "      <th>95</th>\n",
       "      <td>5</td>\n",
       "      <td>Fabulous!</td>\n",
       "      <td>This is my first iOS phone. I am very happy wi...</td>\n",
       "    </tr>\n",
       "    <tr>\n",
       "      <th>96</th>\n",
       "      <td>5</td>\n",
       "      <td>Great product</td>\n",
       "      <td>Amazing Powerful and Durable Gadget.\\n\\nI’m am...</td>\n",
       "    </tr>\n",
       "    <tr>\n",
       "      <th>97</th>\n",
       "      <td>4</td>\n",
       "      <td>Good choice</td>\n",
       "      <td>So far it’s been an AMAZING experience coming ...</td>\n",
       "    </tr>\n",
       "    <tr>\n",
       "      <th>98</th>\n",
       "      <td>5</td>\n",
       "      <td>Worth every penny</td>\n",
       "      <td>i11 is worthy to buy, too much happy with the ...</td>\n",
       "    </tr>\n",
       "    <tr>\n",
       "      <th>99</th>\n",
       "      <td>5</td>\n",
       "      <td>Highly recommended</td>\n",
       "      <td>iphone 11 is a very good phone to buy only if ...</td>\n",
       "    </tr>\n",
       "  </tbody>\n",
       "</table>\n",
       "<p>100 rows × 3 columns</p>\n",
       "</div>"
      ],
      "text/plain": [
       "   Rating       Review Summary  \\\n",
       "0       5            Brilliant   \n",
       "1       5       Simply awesome   \n",
       "2       5  Best in the market!   \n",
       "3       5     Perfect product!   \n",
       "4       5    Worth every penny   \n",
       "..    ...                  ...   \n",
       "95      5            Fabulous!   \n",
       "96      5        Great product   \n",
       "97      4          Good choice   \n",
       "98      5    Worth every penny   \n",
       "99      5   Highly recommended   \n",
       "\n",
       "                                               Review  \n",
       "0   The Best Phone for the Money\\n\\nThe iPhone 11 ...  \n",
       "1   Really satisfied with the Product I received.....  \n",
       "2   Great iPhone very snappy experience as apple k...  \n",
       "3   Amazing phone with great cameras and better ba...  \n",
       "4   Previously I was using one plus 3t it was a gr...  \n",
       "..                                                ...  \n",
       "95  This is my first iOS phone. I am very happy wi...  \n",
       "96  Amazing Powerful and Durable Gadget.\\n\\nI’m am...  \n",
       "97  So far it’s been an AMAZING experience coming ...  \n",
       "98  i11 is worthy to buy, too much happy with the ...  \n",
       "99  iphone 11 is a very good phone to buy only if ...  \n",
       "\n",
       "[100 rows x 3 columns]"
      ]
     },
     "execution_count": 42,
     "metadata": {},
     "output_type": "execute_result"
    }
   ],
   "source": [
    "iphone11_review = pd.DataFrame({'Rating': rate, 'Review Summary': summ, 'Review': revi})\n",
    "iphone11_review"
   ]
  },
  {
   "cell_type": "markdown",
   "id": "3b0b6878",
   "metadata": {},
   "source": [
    "Ans 6. - Python program to scrape data for sneakers from flipkart.com webpage using selenium"
   ]
  },
  {
   "cell_type": "code",
   "execution_count": 43,
   "id": "ea0c6ca3",
   "metadata": {},
   "outputs": [],
   "source": [
    "driver.get(\"https://www.flipkart.com/\")"
   ]
  },
  {
   "cell_type": "code",
   "execution_count": 44,
   "id": "81aced0e",
   "metadata": {},
   "outputs": [
    {
     "name": "stderr",
     "output_type": "stream",
     "text": [
      "<ipython-input-44-3b2938fc15b2>:1: DeprecationWarning: find_element_by_* commands are deprecated. Please use find_element() instead\n",
      "  search = driver.find_element_by_xpath(\"//input[@type= 'text']\")\n"
     ]
    }
   ],
   "source": [
    "search = driver.find_element_by_xpath(\"//input[@type= 'text']\")\n",
    "search.send_keys('sneakers')"
   ]
  },
  {
   "cell_type": "code",
   "execution_count": 47,
   "id": "8a1df77a",
   "metadata": {},
   "outputs": [
    {
     "name": "stderr",
     "output_type": "stream",
     "text": [
      "<ipython-input-47-1bc2aef2cb33>:1: DeprecationWarning: find_element_by_* commands are deprecated. Please use find_element() instead\n",
      "  search_btn = driver.find_element_by_xpath(\"/html/body/div[1]/div/div[1]/div[1]/div[2]/div[2]/form/div/button\")\n"
     ]
    }
   ],
   "source": [
    "search_btn = driver.find_element_by_xpath(\"/html/body/div[1]/div/div[1]/div[1]/div[2]/div[2]/form/div/button\")\n",
    "search_btn.click()"
   ]
  },
  {
   "cell_type": "code",
   "execution_count": 48,
   "id": "cd5427c6",
   "metadata": {},
   "outputs": [
    {
     "name": "stderr",
     "output_type": "stream",
     "text": [
      "<ipython-input-48-6768cbfd78a4>:5: DeprecationWarning: find_elements_by_* commands are deprecated. Please use find_elements() instead\n",
      "  brands = driver.find_elements_by_class_name(\"_2WkVRV\")\n"
     ]
    }
   ],
   "source": [
    "brand = []\n",
    "start = 0\n",
    "end = 3\n",
    "for page in range(start, end):\n",
    "    brands = driver.find_elements_by_class_name(\"_2WkVRV\")\n",
    "    for i in brands:\n",
    "        brand.append(i.text)"
   ]
  },
  {
   "cell_type": "code",
   "execution_count": 50,
   "id": "d0c378dc",
   "metadata": {},
   "outputs": [
    {
     "data": {
      "text/plain": [
       "120"
      ]
     },
     "execution_count": 50,
     "metadata": {},
     "output_type": "execute_result"
    }
   ],
   "source": [
    "len(brand)"
   ]
  },
  {
   "cell_type": "code",
   "execution_count": 51,
   "id": "df1573b2",
   "metadata": {},
   "outputs": [
    {
     "name": "stderr",
     "output_type": "stream",
     "text": [
      "<ipython-input-51-c71fe981c8b6>:3: DeprecationWarning: find_elements_by_* commands are deprecated. Please use find_elements() instead\n",
      "  descri = driver.find_elements_by_class_name(\"IRpwTa\")\n"
     ]
    }
   ],
   "source": [
    "desc = []\n",
    "for page in range(start, end):\n",
    "    descri = driver.find_elements_by_class_name(\"IRpwTa\")\n",
    "    for j in descri:\n",
    "        desc.append(j.text)"
   ]
  },
  {
   "cell_type": "code",
   "execution_count": 53,
   "id": "ed310923",
   "metadata": {},
   "outputs": [
    {
     "data": {
      "text/plain": [
       "120"
      ]
     },
     "execution_count": 53,
     "metadata": {},
     "output_type": "execute_result"
    }
   ],
   "source": [
    "len(desc)"
   ]
  },
  {
   "cell_type": "code",
   "execution_count": 54,
   "id": "b17dd7c3",
   "metadata": {},
   "outputs": [
    {
     "name": "stderr",
     "output_type": "stream",
     "text": [
      "<ipython-input-54-dcb52b0b4f14>:3: DeprecationWarning: find_elements_by_* commands are deprecated. Please use find_elements() instead\n",
      "  prices = driver.find_elements_by_class_name(\"_30jeq3\")\n"
     ]
    }
   ],
   "source": [
    "price = []\n",
    "for page in range(start, end):\n",
    "    prices = driver.find_elements_by_class_name(\"_30jeq3\")\n",
    "    for k in prices:\n",
    "        price.append(k.text)"
   ]
  },
  {
   "cell_type": "code",
   "execution_count": 57,
   "id": "24958941",
   "metadata": {},
   "outputs": [
    {
     "data": {
      "text/plain": [
       "135"
      ]
     },
     "execution_count": 57,
     "metadata": {},
     "output_type": "execute_result"
    }
   ],
   "source": [
    "len(price)"
   ]
  },
  {
   "cell_type": "code",
   "execution_count": 58,
   "id": "83d3150e",
   "metadata": {},
   "outputs": [
    {
     "data": {
      "text/plain": [
       "120"
      ]
     },
     "execution_count": 58,
     "metadata": {},
     "output_type": "execute_result"
    }
   ],
   "source": [
    "price = price[:120]\n",
    "len(price)"
   ]
  },
  {
   "cell_type": "code",
   "execution_count": 59,
   "id": "835a7cd4",
   "metadata": {},
   "outputs": [
    {
     "data": {
      "text/html": [
       "<div>\n",
       "<style scoped>\n",
       "    .dataframe tbody tr th:only-of-type {\n",
       "        vertical-align: middle;\n",
       "    }\n",
       "\n",
       "    .dataframe tbody tr th {\n",
       "        vertical-align: top;\n",
       "    }\n",
       "\n",
       "    .dataframe thead th {\n",
       "        text-align: right;\n",
       "    }\n",
       "</style>\n",
       "<table border=\"1\" class=\"dataframe\">\n",
       "  <thead>\n",
       "    <tr style=\"text-align: right;\">\n",
       "      <th></th>\n",
       "      <th>Brand Name</th>\n",
       "      <th>Product Description</th>\n",
       "      <th>Price</th>\n",
       "    </tr>\n",
       "  </thead>\n",
       "  <tbody>\n",
       "    <tr>\n",
       "      <th>0</th>\n",
       "      <td>BIRDE</td>\n",
       "      <td>Men Casual Shoes Sneakers For Men</td>\n",
       "      <td>₹339</td>\n",
       "    </tr>\n",
       "    <tr>\n",
       "      <th>1</th>\n",
       "      <td>BIRDE</td>\n",
       "      <td>Sneakers For Men</td>\n",
       "      <td>₹423</td>\n",
       "    </tr>\n",
       "    <tr>\n",
       "      <th>2</th>\n",
       "      <td>Chevit</td>\n",
       "      <td>Super Stylish &amp; Trendy Combo Pack of 02 Pairs ...</td>\n",
       "      <td>₹536</td>\n",
       "    </tr>\n",
       "    <tr>\n",
       "      <th>3</th>\n",
       "      <td>BIRDE</td>\n",
       "      <td>Sports Running Shoes Sneakers For Men</td>\n",
       "      <td>₹299</td>\n",
       "    </tr>\n",
       "    <tr>\n",
       "      <th>4</th>\n",
       "      <td>BRUTON</td>\n",
       "      <td>Modern Trendy Sneakers Shoes Sneakers For Men</td>\n",
       "      <td>₹299</td>\n",
       "    </tr>\n",
       "    <tr>\n",
       "      <th>...</th>\n",
       "      <td>...</td>\n",
       "      <td>...</td>\n",
       "      <td>...</td>\n",
       "    </tr>\n",
       "    <tr>\n",
       "      <th>95</th>\n",
       "      <td>BIRDE</td>\n",
       "      <td>Combo Pack of 2 Casual Shoes Sneakers For Men</td>\n",
       "      <td>₹680</td>\n",
       "    </tr>\n",
       "    <tr>\n",
       "      <th>96</th>\n",
       "      <td>SCATCHITE</td>\n",
       "      <td>Sneakers Sneakers For Men</td>\n",
       "      <td>₹769</td>\n",
       "    </tr>\n",
       "    <tr>\n",
       "      <th>97</th>\n",
       "      <td>ganpati traders</td>\n",
       "      <td>Sneakers For Men</td>\n",
       "      <td>₹535</td>\n",
       "    </tr>\n",
       "    <tr>\n",
       "      <th>98</th>\n",
       "      <td>Clymb</td>\n",
       "      <td>Sneakers For Men</td>\n",
       "      <td>₹479</td>\n",
       "    </tr>\n",
       "    <tr>\n",
       "      <th>99</th>\n",
       "      <td>BIRDE</td>\n",
       "      <td>Trendy Casual Shoes For Men Sneakers For Men</td>\n",
       "      <td>₹420</td>\n",
       "    </tr>\n",
       "  </tbody>\n",
       "</table>\n",
       "<p>100 rows × 3 columns</p>\n",
       "</div>"
      ],
      "text/plain": [
       "         Brand Name                                Product Description Price\n",
       "0             BIRDE                  Men Casual Shoes Sneakers For Men  ₹339\n",
       "1             BIRDE                                   Sneakers For Men  ₹423\n",
       "2            Chevit  Super Stylish & Trendy Combo Pack of 02 Pairs ...  ₹536\n",
       "3             BIRDE              Sports Running Shoes Sneakers For Men  ₹299\n",
       "4            BRUTON      Modern Trendy Sneakers Shoes Sneakers For Men  ₹299\n",
       "..              ...                                                ...   ...\n",
       "95            BIRDE      Combo Pack of 2 Casual Shoes Sneakers For Men  ₹680\n",
       "96        SCATCHITE                          Sneakers Sneakers For Men  ₹769\n",
       "97  ganpati traders                                   Sneakers For Men  ₹535\n",
       "98            Clymb                                   Sneakers For Men  ₹479\n",
       "99            BIRDE       Trendy Casual Shoes For Men Sneakers For Men  ₹420\n",
       "\n",
       "[100 rows x 3 columns]"
      ]
     },
     "execution_count": 59,
     "metadata": {},
     "output_type": "execute_result"
    }
   ],
   "source": [
    "sneakers = pd.DataFrame({'Brand Name': brand, 'Product Description': desc, 'Price': price})\n",
    "sneakers = sneakers.iloc[:100, :]\n",
    "sneakers"
   ]
  },
  {
   "cell_type": "markdown",
   "id": "b57d8730",
   "metadata": {},
   "source": [
    "Ans 7. - Python program to scrape data for shoes from myntra.com webpage using selenium."
   ]
  },
  {
   "cell_type": "code",
   "execution_count": 60,
   "id": "20a354cf",
   "metadata": {},
   "outputs": [],
   "source": [
    "driver.get(\"https://www.myntra.com/shoes \")"
   ]
  },
  {
   "cell_type": "code",
   "execution_count": 62,
   "id": "c5167e99",
   "metadata": {},
   "outputs": [
    {
     "name": "stderr",
     "output_type": "stream",
     "text": [
      "<ipython-input-62-8c6aea368c6b>:1: DeprecationWarning: find_element_by_* commands are deprecated. Please use find_element() instead\n",
      "  price_filter = driver.find_element_by_xpath(\"/html/body/div[2]/div/div[1]/main/div[3]/div[1]/section/div/div[5]/ul/li[2]/label/div\")\n"
     ]
    }
   ],
   "source": [
    "price_filter = driver.find_element_by_xpath(\"/html/body/div[2]/div/div[1]/main/div[3]/div[1]/section/div/div[5]/ul/li[2]/label/div\")"
   ]
  },
  {
   "cell_type": "code",
   "execution_count": 64,
   "id": "c09dd625",
   "metadata": {},
   "outputs": [
    {
     "name": "stderr",
     "output_type": "stream",
     "text": [
      "<ipython-input-64-f73ea9aebb8a>:1: DeprecationWarning: find_element_by_* commands are deprecated. Please use find_element() instead\n",
      "  color_filter = driver.find_element_by_xpath(\"/html/body/div[2]/div/div[1]/main/div[3]/div[1]/section/div/div[6]/ul/li[1]/label/div\")\n"
     ]
    }
   ],
   "source": [
    "color_filter = driver.find_element_by_xpath(\"/html/body/div[2]/div/div[1]/main/div[3]/div[1]/section/div/div[6]/ul/li[1]/label/div\")"
   ]
  },
  {
   "cell_type": "code",
   "execution_count": 67,
   "id": "8a97f008",
   "metadata": {},
   "outputs": [],
   "source": [
    "price_filter.click()"
   ]
  },
  {
   "cell_type": "code",
   "execution_count": 69,
   "id": "ed1398a9",
   "metadata": {},
   "outputs": [],
   "source": [
    "color_filter.click()"
   ]
  },
  {
   "cell_type": "code",
   "execution_count": 73,
   "id": "84ad28a5",
   "metadata": {},
   "outputs": [
    {
     "name": "stderr",
     "output_type": "stream",
     "text": [
      "<ipython-input-73-14a7cdfacc3b>:5: DeprecationWarning: find_elements_by_* commands are deprecated. Please use find_elements() instead\n",
      "  brands = driver.find_elements_by_class_name(\"product-brand\")\n"
     ]
    }
   ],
   "source": [
    "brand = []\n",
    "start = 0\n",
    "end = 2\n",
    "for page in range(start, end):\n",
    "    brands = driver.find_elements_by_class_name(\"product-brand\")\n",
    "    for i in brands:\n",
    "        brand.append(i.text)"
   ]
  },
  {
   "cell_type": "code",
   "execution_count": 74,
   "id": "34ec62ca",
   "metadata": {},
   "outputs": [
    {
     "data": {
      "text/plain": [
       "100"
      ]
     },
     "execution_count": 74,
     "metadata": {},
     "output_type": "execute_result"
    }
   ],
   "source": [
    "len(brand)"
   ]
  },
  {
   "cell_type": "code",
   "execution_count": 75,
   "id": "61188833",
   "metadata": {},
   "outputs": [
    {
     "name": "stderr",
     "output_type": "stream",
     "text": [
      "<ipython-input-75-f76d08068e20>:3: DeprecationWarning: find_elements_by_* commands are deprecated. Please use find_elements() instead\n",
      "  descri = driver.find_elements_by_class_name(\"product-product\")\n"
     ]
    }
   ],
   "source": [
    "desc = []\n",
    "for page in range(start, end):\n",
    "    descri = driver.find_elements_by_class_name(\"product-product\")\n",
    "    for j in descri:\n",
    "        desc.append(j.text)"
   ]
  },
  {
   "cell_type": "code",
   "execution_count": 77,
   "id": "87f3fd59",
   "metadata": {},
   "outputs": [
    {
     "data": {
      "text/plain": [
       "100"
      ]
     },
     "execution_count": 77,
     "metadata": {},
     "output_type": "execute_result"
    }
   ],
   "source": [
    "len(desc)"
   ]
  },
  {
   "cell_type": "code",
   "execution_count": 78,
   "id": "e8261973",
   "metadata": {},
   "outputs": [
    {
     "name": "stderr",
     "output_type": "stream",
     "text": [
      "<ipython-input-78-63315c01d4e4>:3: DeprecationWarning: find_elements_by_* commands are deprecated. Please use find_elements() instead\n",
      "  prices = driver.find_elements_by_class_name(\"product-price\")\n"
     ]
    }
   ],
   "source": [
    "price = []\n",
    "for page in range(start, end):\n",
    "    prices = driver.find_elements_by_class_name(\"product-price\")\n",
    "    for k in prices:\n",
    "        price.append(k.text)"
   ]
  },
  {
   "cell_type": "code",
   "execution_count": 80,
   "id": "92fd09c8",
   "metadata": {},
   "outputs": [
    {
     "data": {
      "text/plain": [
       "100"
      ]
     },
     "execution_count": 80,
     "metadata": {},
     "output_type": "execute_result"
    }
   ],
   "source": [
    "len(price)"
   ]
  },
  {
   "cell_type": "code",
   "execution_count": 81,
   "id": "6268a1a5",
   "metadata": {},
   "outputs": [
    {
     "data": {
      "text/html": [
       "<div>\n",
       "<style scoped>\n",
       "    .dataframe tbody tr th:only-of-type {\n",
       "        vertical-align: middle;\n",
       "    }\n",
       "\n",
       "    .dataframe tbody tr th {\n",
       "        vertical-align: top;\n",
       "    }\n",
       "\n",
       "    .dataframe thead th {\n",
       "        text-align: right;\n",
       "    }\n",
       "</style>\n",
       "<table border=\"1\" class=\"dataframe\">\n",
       "  <thead>\n",
       "    <tr style=\"text-align: right;\">\n",
       "      <th></th>\n",
       "      <th>Brand Name</th>\n",
       "      <th>Product Description</th>\n",
       "      <th>Price</th>\n",
       "    </tr>\n",
       "  </thead>\n",
       "  <tbody>\n",
       "    <tr>\n",
       "      <th>0</th>\n",
       "      <td>Nike</td>\n",
       "      <td>Men Zoom Span 4 Running Shoes</td>\n",
       "      <td>Rs. 7195</td>\n",
       "    </tr>\n",
       "    <tr>\n",
       "      <th>1</th>\n",
       "      <td>UNDER ARMOUR</td>\n",
       "      <td>Men HOVR Apex 2 Training</td>\n",
       "      <td>Rs. 13999</td>\n",
       "    </tr>\n",
       "    <tr>\n",
       "      <th>2</th>\n",
       "      <td>Nike</td>\n",
       "      <td>Men Waffle One SE Sneakers</td>\n",
       "      <td>Rs. 8295</td>\n",
       "    </tr>\n",
       "    <tr>\n",
       "      <th>3</th>\n",
       "      <td>Puma</td>\n",
       "      <td>Men Deviate Nitro Running Shoe</td>\n",
       "      <td>Rs. 11249Rs. 14999(25% OFF)</td>\n",
       "    </tr>\n",
       "    <tr>\n",
       "      <th>4</th>\n",
       "      <td>ASICS</td>\n",
       "      <td>Men Running Shoes</td>\n",
       "      <td>Rs. 7999</td>\n",
       "    </tr>\n",
       "    <tr>\n",
       "      <th>...</th>\n",
       "      <td>...</td>\n",
       "      <td>...</td>\n",
       "      <td>...</td>\n",
       "    </tr>\n",
       "    <tr>\n",
       "      <th>95</th>\n",
       "      <td>Tommy Hilfiger</td>\n",
       "      <td>Women Hybrid Leather Sneakers</td>\n",
       "      <td>Rs. 7999</td>\n",
       "    </tr>\n",
       "    <tr>\n",
       "      <th>96</th>\n",
       "      <td>Saint G</td>\n",
       "      <td>Men Leather Chelsea Boots</td>\n",
       "      <td>Rs. 10710Rs. 11900(Rs. 1190 OFF)</td>\n",
       "    </tr>\n",
       "    <tr>\n",
       "      <th>97</th>\n",
       "      <td>Tommy Hilfiger</td>\n",
       "      <td>Women Leather Sneakers</td>\n",
       "      <td>Rs. 7599</td>\n",
       "    </tr>\n",
       "    <tr>\n",
       "      <th>98</th>\n",
       "      <td>Geox</td>\n",
       "      <td>Men Leather Formal Derbys</td>\n",
       "      <td>Rs. 9999</td>\n",
       "    </tr>\n",
       "    <tr>\n",
       "      <th>99</th>\n",
       "      <td>Hush Puppies</td>\n",
       "      <td>Men Solid Formal Leather Slip-Ons</td>\n",
       "      <td>Rs. 8999Rs. 9999(10% OFF)</td>\n",
       "    </tr>\n",
       "  </tbody>\n",
       "</table>\n",
       "<p>100 rows × 3 columns</p>\n",
       "</div>"
      ],
      "text/plain": [
       "        Brand Name                Product Description  \\\n",
       "0             Nike      Men Zoom Span 4 Running Shoes   \n",
       "1     UNDER ARMOUR           Men HOVR Apex 2 Training   \n",
       "2             Nike         Men Waffle One SE Sneakers   \n",
       "3             Puma     Men Deviate Nitro Running Shoe   \n",
       "4            ASICS                  Men Running Shoes   \n",
       "..             ...                                ...   \n",
       "95  Tommy Hilfiger      Women Hybrid Leather Sneakers   \n",
       "96         Saint G          Men Leather Chelsea Boots   \n",
       "97  Tommy Hilfiger             Women Leather Sneakers   \n",
       "98            Geox          Men Leather Formal Derbys   \n",
       "99    Hush Puppies  Men Solid Formal Leather Slip-Ons   \n",
       "\n",
       "                               Price  \n",
       "0                           Rs. 7195  \n",
       "1                          Rs. 13999  \n",
       "2                           Rs. 8295  \n",
       "3        Rs. 11249Rs. 14999(25% OFF)  \n",
       "4                           Rs. 7999  \n",
       "..                               ...  \n",
       "95                          Rs. 7999  \n",
       "96  Rs. 10710Rs. 11900(Rs. 1190 OFF)  \n",
       "97                          Rs. 7599  \n",
       "98                          Rs. 9999  \n",
       "99         Rs. 8999Rs. 9999(10% OFF)  \n",
       "\n",
       "[100 rows x 3 columns]"
      ]
     },
     "execution_count": 81,
     "metadata": {},
     "output_type": "execute_result"
    }
   ],
   "source": [
    "myntra_shoes = pd.DataFrame({'Brand Name': brand, 'Product Description': desc, 'Price': price})\n",
    "myntra_shoes"
   ]
  },
  {
   "cell_type": "markdown",
   "id": "a60e7349",
   "metadata": {},
   "source": [
    "Ans 8. - Python program to scrape the data for laptop from amazon.in webpage using selenium."
   ]
  },
  {
   "cell_type": "code",
   "execution_count": 82,
   "id": "4d674262",
   "metadata": {},
   "outputs": [],
   "source": [
    "driver.get(\"https://www.amazon.in/\")"
   ]
  },
  {
   "cell_type": "code",
   "execution_count": 83,
   "id": "ab5dd07f",
   "metadata": {},
   "outputs": [
    {
     "name": "stderr",
     "output_type": "stream",
     "text": [
      "<ipython-input-83-3dacf8ba19e2>:1: DeprecationWarning: find_element_by_* commands are deprecated. Please use find_element() instead\n",
      "  se = driver.find_element_by_id(\"twotabsearchtextbox\")\n"
     ]
    }
   ],
   "source": [
    "se = driver.find_element_by_id(\"twotabsearchtextbox\")"
   ]
  },
  {
   "cell_type": "code",
   "execution_count": 84,
   "id": "edffdd38",
   "metadata": {},
   "outputs": [],
   "source": [
    "se.send_keys('Laptop')"
   ]
  },
  {
   "cell_type": "code",
   "execution_count": 85,
   "id": "0deae6aa",
   "metadata": {},
   "outputs": [
    {
     "name": "stderr",
     "output_type": "stream",
     "text": [
      "<ipython-input-85-f9f738f3ba9c>:1: DeprecationWarning: find_element_by_* commands are deprecated. Please use find_element() instead\n",
      "  se_btn = driver.find_element_by_id(\"nav-search-submit-button\")\n"
     ]
    }
   ],
   "source": [
    "se_btn = driver.find_element_by_id(\"nav-search-submit-button\")"
   ]
  },
  {
   "cell_type": "code",
   "execution_count": 86,
   "id": "81d1e7f0",
   "metadata": {},
   "outputs": [],
   "source": [
    "se_btn.click()"
   ]
  },
  {
   "cell_type": "markdown",
   "id": "fe6530d4",
   "metadata": {},
   "source": [
    "There isn't any filter available for i9 intel core  processor so i would scrape the data for i5 intel core processor instead."
   ]
  },
  {
   "cell_type": "code",
   "execution_count": 100,
   "id": "23bf0c73",
   "metadata": {},
   "outputs": [
    {
     "name": "stderr",
     "output_type": "stream",
     "text": [
      "<ipython-input-100-09d62db65fc2>:1: DeprecationWarning: find_element_by_* commands are deprecated. Please use find_element() instead\n",
      "  i5_filter = driver.find_element_by_xpath(\"/html/body/div[1]/div[2]/div[1]/div[2]/div/div[3]/span/div[1]/span/div/div/div[6]/ul[1]/li[11]/span/a/div/label/i\")\n"
     ]
    }
   ],
   "source": [
    "i5_filter = driver.find_element_by_xpath(\"/html/body/div[1]/div[2]/div[1]/div[2]/div/div[3]/span/div[1]/span/div/div/div[6]/ul[1]/li[11]/span/a/div/label/i\")"
   ]
  },
  {
   "cell_type": "code",
   "execution_count": 101,
   "id": "6eb2ef8e",
   "metadata": {},
   "outputs": [],
   "source": [
    "i5_filter.click()"
   ]
  },
  {
   "cell_type": "code",
   "execution_count": 111,
   "id": "2dce2d93",
   "metadata": {},
   "outputs": [
    {
     "name": "stderr",
     "output_type": "stream",
     "text": [
      "<ipython-input-111-c42b0db46965>:2: DeprecationWarning: find_element_by_* commands are deprecated. Please use find_element() instead\n",
      "  a = driver.find_element_by_xpath(\"/html/body/div[1]/div[2]/div[1]/div[1]/div/span[3]/div[2]/div[2]/div/span/div/div/div/div/div[2]/div[2]/div/div/div[1]/h2\")\n",
      "<ipython-input-111-c42b0db46965>:3: DeprecationWarning: find_element_by_* commands are deprecated. Please use find_element() instead\n",
      "  b = driver.find_element_by_xpath(\"/html/body/div[1]/div[2]/div[1]/div[1]/div/span[3]/div[2]/div[3]/div/span/div/div/div/div/div[2]/div[2]/div/div/div[1]/h2\")\n",
      "<ipython-input-111-c42b0db46965>:4: DeprecationWarning: find_element_by_* commands are deprecated. Please use find_element() instead\n",
      "  c = driver.find_element_by_xpath(\"/html/body/div[1]/div[2]/div[1]/div[1]/div/span[3]/div[2]/div[4]/div/span/div/div/div[2]/div[2]/div/div/div[1]/h2\")\n",
      "<ipython-input-111-c42b0db46965>:5: DeprecationWarning: find_element_by_* commands are deprecated. Please use find_element() instead\n",
      "  d = driver.find_element_by_xpath(\"/html/body/div[1]/div[2]/div[1]/div[1]/div/span[3]/div[2]/div[5]/div/span/div/div/div[2]/div[2]/div/div/div[1]/h2\")\n",
      "<ipython-input-111-c42b0db46965>:6: DeprecationWarning: find_element_by_* commands are deprecated. Please use find_element() instead\n",
      "  e = driver.find_element_by_xpath(\"/html/body/div[1]/div[2]/div[1]/div[1]/div/span[3]/div[2]/div[6]/div/span/div/div/div[2]/div[2]/div/div/div[1]/h2\")\n",
      "<ipython-input-111-c42b0db46965>:7: DeprecationWarning: find_element_by_* commands are deprecated. Please use find_element() instead\n",
      "  f = driver.find_element_by_xpath(\"/html/body/div[1]/div[2]/div[1]/div[1]/div/span[3]/div[2]/div[7]/div/span/div/div/div[2]/div[2]/div/div/div[1]/h2\")\n",
      "<ipython-input-111-c42b0db46965>:8: DeprecationWarning: find_element_by_* commands are deprecated. Please use find_element() instead\n",
      "  g = driver.find_element_by_xpath(\"/html/body/div[1]/div[2]/div[1]/div[1]/div/span[3]/div[2]/div[8]/div/span/div/div/div[2]/div[2]/div/div/div[1]/h2\")\n",
      "<ipython-input-111-c42b0db46965>:9: DeprecationWarning: find_element_by_* commands are deprecated. Please use find_element() instead\n",
      "  h = driver.find_element_by_xpath(\"/html/body/div[1]/div[2]/div[1]/div[1]/div/span[3]/div[2]/div[9]/div/span/div/div/div[2]/div[2]/div/div/div[1]/h2\")\n",
      "<ipython-input-111-c42b0db46965>:10: DeprecationWarning: find_element_by_* commands are deprecated. Please use find_element() instead\n",
      "  i = driver.find_element_by_xpath(\"/html/body/div[1]/div[2]/div[1]/div[1]/div/span[3]/div[2]/div[10]/div/span/div/div/div[2]/div[2]/div/div/div[1]/h2\")\n",
      "<ipython-input-111-c42b0db46965>:11: DeprecationWarning: find_element_by_* commands are deprecated. Please use find_element() instead\n",
      "  j = driver.find_element_by_xpath(\"/html/body/div[1]/div[2]/div[1]/div[1]/div/span[3]/div[2]/div[11]/div/span/div/div/div[2]/div[2]/div/div/div[1]/h2\")\n"
     ]
    }
   ],
   "source": [
    "title = []\n",
    "a = driver.find_element_by_xpath(\"/html/body/div[1]/div[2]/div[1]/div[1]/div/span[3]/div[2]/div[2]/div/span/div/div/div/div/div[2]/div[2]/div/div/div[1]/h2\")\n",
    "b = driver.find_element_by_xpath(\"/html/body/div[1]/div[2]/div[1]/div[1]/div/span[3]/div[2]/div[3]/div/span/div/div/div/div/div[2]/div[2]/div/div/div[1]/h2\")\n",
    "c = driver.find_element_by_xpath(\"/html/body/div[1]/div[2]/div[1]/div[1]/div/span[3]/div[2]/div[4]/div/span/div/div/div[2]/div[2]/div/div/div[1]/h2\")\n",
    "d = driver.find_element_by_xpath(\"/html/body/div[1]/div[2]/div[1]/div[1]/div/span[3]/div[2]/div[5]/div/span/div/div/div[2]/div[2]/div/div/div[1]/h2\")\n",
    "e = driver.find_element_by_xpath(\"/html/body/div[1]/div[2]/div[1]/div[1]/div/span[3]/div[2]/div[6]/div/span/div/div/div[2]/div[2]/div/div/div[1]/h2\")\n",
    "f = driver.find_element_by_xpath(\"/html/body/div[1]/div[2]/div[1]/div[1]/div/span[3]/div[2]/div[7]/div/span/div/div/div[2]/div[2]/div/div/div[1]/h2\")\n",
    "g = driver.find_element_by_xpath(\"/html/body/div[1]/div[2]/div[1]/div[1]/div/span[3]/div[2]/div[8]/div/span/div/div/div[2]/div[2]/div/div/div[1]/h2\")\n",
    "h = driver.find_element_by_xpath(\"/html/body/div[1]/div[2]/div[1]/div[1]/div/span[3]/div[2]/div[9]/div/span/div/div/div[2]/div[2]/div/div/div[1]/h2\")\n",
    "i = driver.find_element_by_xpath(\"/html/body/div[1]/div[2]/div[1]/div[1]/div/span[3]/div[2]/div[10]/div/span/div/div/div[2]/div[2]/div/div/div[1]/h2\")\n",
    "j = driver.find_element_by_xpath(\"/html/body/div[1]/div[2]/div[1]/div[1]/div/span[3]/div[2]/div[11]/div/span/div/div/div[2]/div[2]/div/div/div[1]/h2\")"
   ]
  },
  {
   "cell_type": "code",
   "execution_count": 114,
   "id": "8dc6489c",
   "metadata": {},
   "outputs": [],
   "source": [
    "title = [a.text, b.text, c.text, d.text, e.text, f.text, g.text, h.text, i.text, j.text]"
   ]
  },
  {
   "cell_type": "code",
   "execution_count": 124,
   "id": "633bf437",
   "metadata": {},
   "outputs": [
    {
     "name": "stderr",
     "output_type": "stream",
     "text": [
      "<ipython-input-124-925d75b4515a>:2: DeprecationWarning: find_element_by_* commands are deprecated. Please use find_element() instead\n",
      "  a = driver.find_element_by_xpath(\"/html/body/div[1]/div[2]/div[1]/div[1]/div/span[3]/div[2]/div[2]/div/span/div/div/div/div/div[2]/div[2]/div/div/div[2]/div/span[1]/span/a/i[1]\")\n",
      "<ipython-input-124-925d75b4515a>:3: DeprecationWarning: find_element_by_* commands are deprecated. Please use find_element() instead\n",
      "  b = driver.find_element_by_xpath(\"/html/body/div[1]/div[2]/div[1]/div[1]/div/span[3]/div[2]/div[3]/div/span/div/div/div/div/div[2]/div[2]/div/div/div[2]/div/span[1]/span/a/i[1]\")\n",
      "<ipython-input-124-925d75b4515a>:4: DeprecationWarning: find_element_by_* commands are deprecated. Please use find_element() instead\n",
      "  c = driver.find_element_by_xpath(\"/html/body/div[1]/div[2]/div[1]/div[1]/div/span[3]/div[2]/div[4]/div/span/div/div/div[2]/div[2]/div/div/div[2]/div/span[1]/span/a/i[1]\")\n",
      "<ipython-input-124-925d75b4515a>:5: DeprecationWarning: find_element_by_* commands are deprecated. Please use find_element() instead\n",
      "  d = driver.find_element_by_xpath(\"/html/body/div[1]/div[2]/div[1]/div[1]/div/span[3]/div[2]/div[5]/div/span/div/div/div[2]/div[2]/div/div/div[2]/div/span[1]/span/a/i[1]\")\n",
      "<ipython-input-124-925d75b4515a>:6: DeprecationWarning: find_element_by_* commands are deprecated. Please use find_element() instead\n",
      "  e = driver.find_element_by_xpath(\"/html/body/div[1]/div[2]/div[1]/div[1]/div/span[3]/div[2]/div[6]/div/span/div/div/div[2]/div[2]/div/div/div[2]/div/span[1]/span/a/i[1]\")\n",
      "<ipython-input-124-925d75b4515a>:7: DeprecationWarning: find_element_by_* commands are deprecated. Please use find_element() instead\n",
      "  f = driver.find_element_by_xpath(\"/html/body/div[1]/div[2]/div[1]/div[1]/div/span[3]/div[2]/div[7]/div/span/div/div/div[2]/div[2]/div/div/div[2]/div/span[1]/span/a/i[1]\")\n",
      "<ipython-input-124-925d75b4515a>:8: DeprecationWarning: find_element_by_* commands are deprecated. Please use find_element() instead\n",
      "  g = driver.find_element_by_xpath(\"/html/body/div[1]/div[2]/div[1]/div[1]/div/span[3]/div[2]/div[8]/div/span/div/div/div[2]/div[2]/div/div/div[2]/div/span[1]/span/a/i[1]\")\n",
      "<ipython-input-124-925d75b4515a>:9: DeprecationWarning: find_element_by_* commands are deprecated. Please use find_element() instead\n",
      "  h = driver.find_element_by_xpath(\"/html/body/div[1]/div[2]/div[1]/div[1]/div/span[3]/div[2]/div[9]/div/span/div/div/div[2]/div[2]/div/div/div[2]/div/span[1]/span/a/i[1]\")\n",
      "<ipython-input-124-925d75b4515a>:10: DeprecationWarning: find_element_by_* commands are deprecated. Please use find_element() instead\n",
      "  i = driver.find_element_by_xpath(\"/html/body/div[1]/div[2]/div[1]/div[1]/div/span[3]/div[2]/div[10]/div/span/div/div/div[2]/div[2]/div/div/div[2]/div/span[1]/span/a/i[1]\")\n",
      "<ipython-input-124-925d75b4515a>:11: DeprecationWarning: find_element_by_* commands are deprecated. Please use find_element() instead\n",
      "  j = driver.find_element_by_xpath(\"/html/body/div[1]/div[2]/div[1]/div[1]/div/span[3]/div[2]/div[11]/div/span/div/div/div[2]/div[2]/div/div/div[2]/div/span[1]/span/a/i[1]\")\n"
     ]
    }
   ],
   "source": [
    "rating = []\n",
    "a = driver.find_element_by_xpath(\"/html/body/div[1]/div[2]/div[1]/div[1]/div/span[3]/div[2]/div[2]/div/span/div/div/div/div/div[2]/div[2]/div/div/div[2]/div/span[1]/span/a/i[1]\")\n",
    "b = driver.find_element_by_xpath(\"/html/body/div[1]/div[2]/div[1]/div[1]/div/span[3]/div[2]/div[3]/div/span/div/div/div/div/div[2]/div[2]/div/div/div[2]/div/span[1]/span/a/i[1]\")\n",
    "c = driver.find_element_by_xpath(\"/html/body/div[1]/div[2]/div[1]/div[1]/div/span[3]/div[2]/div[4]/div/span/div/div/div[2]/div[2]/div/div/div[2]/div/span[1]/span/a/i[1]\")\n",
    "d = driver.find_element_by_xpath(\"/html/body/div[1]/div[2]/div[1]/div[1]/div/span[3]/div[2]/div[5]/div/span/div/div/div[2]/div[2]/div/div/div[2]/div/span[1]/span/a/i[1]\")\n",
    "e = driver.find_element_by_xpath(\"/html/body/div[1]/div[2]/div[1]/div[1]/div/span[3]/div[2]/div[6]/div/span/div/div/div[2]/div[2]/div/div/div[2]/div/span[1]/span/a/i[1]\")\n",
    "f = driver.find_element_by_xpath(\"/html/body/div[1]/div[2]/div[1]/div[1]/div/span[3]/div[2]/div[7]/div/span/div/div/div[2]/div[2]/div/div/div[2]/div/span[1]/span/a/i[1]\")\n",
    "g = driver.find_element_by_xpath(\"/html/body/div[1]/div[2]/div[1]/div[1]/div/span[3]/div[2]/div[8]/div/span/div/div/div[2]/div[2]/div/div/div[2]/div/span[1]/span/a/i[1]\")\n",
    "h = driver.find_element_by_xpath(\"/html/body/div[1]/div[2]/div[1]/div[1]/div/span[3]/div[2]/div[9]/div/span/div/div/div[2]/div[2]/div/div/div[2]/div/span[1]/span/a/i[1]\")\n",
    "i = driver.find_element_by_xpath(\"/html/body/div[1]/div[2]/div[1]/div[1]/div/span[3]/div[2]/div[10]/div/span/div/div/div[2]/div[2]/div/div/div[2]/div/span[1]/span/a/i[1]\")\n",
    "j = driver.find_element_by_xpath(\"/html/body/div[1]/div[2]/div[1]/div[1]/div/span[3]/div[2]/div[11]/div/span/div/div/div[2]/div[2]/div/div/div[2]/div/span[1]/span/a/i[1]\")"
   ]
  },
  {
   "cell_type": "code",
   "execution_count": 125,
   "id": "d913518e",
   "metadata": {},
   "outputs": [],
   "source": [
    "rating = [a.text, b.text, c.text, d.text, e.text, f.text, g.text, h.text, i.text, j.text]"
   ]
  },
  {
   "cell_type": "code",
   "execution_count": 127,
   "id": "6f6b9190",
   "metadata": {},
   "outputs": [
    {
     "name": "stderr",
     "output_type": "stream",
     "text": [
      "<ipython-input-127-27dce625210f>:2: DeprecationWarning: find_element_by_* commands are deprecated. Please use find_element() instead\n",
      "  a = driver.find_element_by_xpath(\"/html/body/div[1]/div[2]/div[1]/div[1]/div/span[3]/div[2]/div[2]/div/span/div/div/div/div/div[2]/div[2]/div/div/div[3]/div[1]/div/div[1]/div[1]/a/span[1]/span[2]\")\n",
      "<ipython-input-127-27dce625210f>:3: DeprecationWarning: find_element_by_* commands are deprecated. Please use find_element() instead\n",
      "  b = driver.find_element_by_xpath(\"/html/body/div[1]/div[2]/div[1]/div[1]/div/span[3]/div[2]/div[3]/div/span/div/div/div/div/div[2]/div[2]/div/div/div[3]/div[1]/div/div[1]/div[1]/a/span[1]/span[2]\")\n",
      "<ipython-input-127-27dce625210f>:4: DeprecationWarning: find_element_by_* commands are deprecated. Please use find_element() instead\n",
      "  c = driver.find_element_by_xpath(\"/html/body/div[1]/div[2]/div[1]/div[1]/div/span[3]/div[2]/div[4]/div/span/div/div/div[2]/div[2]/div/div/div[3]/div[1]/div/div[1]/div[1]/a/span[1]/span[2]\")\n",
      "<ipython-input-127-27dce625210f>:5: DeprecationWarning: find_element_by_* commands are deprecated. Please use find_element() instead\n",
      "  d = driver.find_element_by_xpath(\"/html/body/div[1]/div[2]/div[1]/div[1]/div/span[3]/div[2]/div[5]/div/span/div/div/div[2]/div[2]/div/div/div[3]/div[1]/div/div[1]/div[2]/a/span[1]/span[2]\")\n",
      "<ipython-input-127-27dce625210f>:6: DeprecationWarning: find_element_by_* commands are deprecated. Please use find_element() instead\n",
      "  e = driver.find_element_by_xpath(\"/html/body/div[1]/div[2]/div[1]/div[1]/div/span[3]/div[2]/div[6]/div/span/div/div/div[2]/div[2]/div/div/div[3]/div[1]/div/div[1]/div[2]/a/span[1]/span[2]\")\n",
      "<ipython-input-127-27dce625210f>:7: DeprecationWarning: find_element_by_* commands are deprecated. Please use find_element() instead\n",
      "  f = driver.find_element_by_xpath(\"/html/body/div[1]/div[2]/div[1]/div[1]/div/span[3]/div[2]/div[7]/div/span/div/div/div[2]/div[2]/div/div/div[3]/div[1]/div/div[1]/div[2]/a/span[1]/span[2]\")\n",
      "<ipython-input-127-27dce625210f>:8: DeprecationWarning: find_element_by_* commands are deprecated. Please use find_element() instead\n",
      "  g = driver.find_element_by_xpath(\"/html/body/div[1]/div[2]/div[1]/div[1]/div/span[3]/div[2]/div[8]/div/span/div/div/div[2]/div[2]/div/div/div[3]/div[1]/div/div[1]/div[2]/a/span[1]/span[2]\")\n",
      "<ipython-input-127-27dce625210f>:9: DeprecationWarning: find_element_by_* commands are deprecated. Please use find_element() instead\n",
      "  h = driver.find_element_by_xpath(\"/html/body/div[1]/div[2]/div[1]/div[1]/div/span[3]/div[2]/div[9]/div/span/div/div/div[2]/div[2]/div/div/div[3]/div[1]/div/div[1]/div[1]/a/span[1]/span[2]\")\n",
      "<ipython-input-127-27dce625210f>:10: DeprecationWarning: find_element_by_* commands are deprecated. Please use find_element() instead\n",
      "  i = driver.find_element_by_xpath(\"/html/body/div[1]/div[2]/div[1]/div[1]/div/span[3]/div[2]/div[10]/div/span/div/div/div[2]/div[2]/div/div/div[3]/div[1]/div/div[1]/div/a/span[1]/span[2]\")\n",
      "<ipython-input-127-27dce625210f>:11: DeprecationWarning: find_element_by_* commands are deprecated. Please use find_element() instead\n",
      "  j = driver.find_element_by_xpath(\"/html/body/div[1]/div[2]/div[1]/div[1]/div/span[3]/div[2]/div[11]/div/span/div/div/div[2]/div[2]/div/div/div[3]/div[1]/div/div[1]/div[2]/a/span[1]/span[2]\")\n"
     ]
    }
   ],
   "source": [
    "price = []\n",
    "a = driver.find_element_by_xpath(\"/html/body/div[1]/div[2]/div[1]/div[1]/div/span[3]/div[2]/div[2]/div/span/div/div/div/div/div[2]/div[2]/div/div/div[3]/div[1]/div/div[1]/div[1]/a/span[1]/span[2]\")\n",
    "b = driver.find_element_by_xpath(\"/html/body/div[1]/div[2]/div[1]/div[1]/div/span[3]/div[2]/div[3]/div/span/div/div/div/div/div[2]/div[2]/div/div/div[3]/div[1]/div/div[1]/div[1]/a/span[1]/span[2]\")\n",
    "c = driver.find_element_by_xpath(\"/html/body/div[1]/div[2]/div[1]/div[1]/div/span[3]/div[2]/div[4]/div/span/div/div/div[2]/div[2]/div/div/div[3]/div[1]/div/div[1]/div[1]/a/span[1]/span[2]\")\n",
    "d = driver.find_element_by_xpath(\"/html/body/div[1]/div[2]/div[1]/div[1]/div/span[3]/div[2]/div[5]/div/span/div/div/div[2]/div[2]/div/div/div[3]/div[1]/div/div[1]/div[2]/a/span[1]/span[2]\")\n",
    "e = driver.find_element_by_xpath(\"/html/body/div[1]/div[2]/div[1]/div[1]/div/span[3]/div[2]/div[6]/div/span/div/div/div[2]/div[2]/div/div/div[3]/div[1]/div/div[1]/div[2]/a/span[1]/span[2]\")\n",
    "f = driver.find_element_by_xpath(\"/html/body/div[1]/div[2]/div[1]/div[1]/div/span[3]/div[2]/div[7]/div/span/div/div/div[2]/div[2]/div/div/div[3]/div[1]/div/div[1]/div[2]/a/span[1]/span[2]\")\n",
    "g = driver.find_element_by_xpath(\"/html/body/div[1]/div[2]/div[1]/div[1]/div/span[3]/div[2]/div[8]/div/span/div/div/div[2]/div[2]/div/div/div[3]/div[1]/div/div[1]/div[2]/a/span[1]/span[2]\")\n",
    "h = driver.find_element_by_xpath(\"/html/body/div[1]/div[2]/div[1]/div[1]/div/span[3]/div[2]/div[9]/div/span/div/div/div[2]/div[2]/div/div/div[3]/div[1]/div/div[1]/div[1]/a/span[1]/span[2]\")\n",
    "i = driver.find_element_by_xpath(\"/html/body/div[1]/div[2]/div[1]/div[1]/div/span[3]/div[2]/div[10]/div/span/div/div/div[2]/div[2]/div/div/div[3]/div[1]/div/div[1]/div/a/span[1]/span[2]\")\n",
    "j = driver.find_element_by_xpath(\"/html/body/div[1]/div[2]/div[1]/div[1]/div/span[3]/div[2]/div[11]/div/span/div/div/div[2]/div[2]/div/div/div[3]/div[1]/div/div[1]/div[2]/a/span[1]/span[2]\")"
   ]
  },
  {
   "cell_type": "code",
   "execution_count": 128,
   "id": "a678ffe1",
   "metadata": {},
   "outputs": [
    {
     "data": {
      "text/plain": [
       "['₹59,990',\n",
       " '₹76,990',\n",
       " '₹56,999',\n",
       " '₹54,990',\n",
       " '₹54,990',\n",
       " '₹59,990',\n",
       " '₹53,990',\n",
       " '₹66,999',\n",
       " '₹29,999',\n",
       " '₹55,990']"
      ]
     },
     "execution_count": 128,
     "metadata": {},
     "output_type": "execute_result"
    }
   ],
   "source": [
    "price = [a.text, b.text, c.text, d.text, e.text, f.text, g.text, h.text, i.text, j.text]\n",
    "price"
   ]
  },
  {
   "cell_type": "code",
   "execution_count": 129,
   "id": "fc8b34b8",
   "metadata": {},
   "outputs": [
    {
     "data": {
      "text/html": [
       "<div>\n",
       "<style scoped>\n",
       "    .dataframe tbody tr th:only-of-type {\n",
       "        vertical-align: middle;\n",
       "    }\n",
       "\n",
       "    .dataframe tbody tr th {\n",
       "        vertical-align: top;\n",
       "    }\n",
       "\n",
       "    .dataframe thead th {\n",
       "        text-align: right;\n",
       "    }\n",
       "</style>\n",
       "<table border=\"1\" class=\"dataframe\">\n",
       "  <thead>\n",
       "    <tr style=\"text-align: right;\">\n",
       "      <th></th>\n",
       "      <th>Laptop Title</th>\n",
       "      <th>Rating</th>\n",
       "      <th>Price</th>\n",
       "    </tr>\n",
       "  </thead>\n",
       "  <tbody>\n",
       "    <tr>\n",
       "      <th>0</th>\n",
       "      <td>Fujitsu UH-X 11th Gen Intel Core i5 13.3 inche...</td>\n",
       "      <td></td>\n",
       "      <td>₹59,990</td>\n",
       "    </tr>\n",
       "    <tr>\n",
       "      <th>1</th>\n",
       "      <td>Acer Nitro 5 AN515-57 Gaming Laptop | Intel Co...</td>\n",
       "      <td></td>\n",
       "      <td>₹76,990</td>\n",
       "    </tr>\n",
       "    <tr>\n",
       "      <th>2</th>\n",
       "      <td>Mi Notebook Pro QHD+ IPS Anti Glare Display In...</td>\n",
       "      <td></td>\n",
       "      <td>₹56,999</td>\n",
       "    </tr>\n",
       "    <tr>\n",
       "      <th>3</th>\n",
       "      <td>Lenovo ThinkBook 15 Intel 11th Gen Core i5 15....</td>\n",
       "      <td></td>\n",
       "      <td>₹54,990</td>\n",
       "    </tr>\n",
       "    <tr>\n",
       "      <th>4</th>\n",
       "      <td>HP 14(2021) 10th Gen Intel Core i5 Laptop, 8GB...</td>\n",
       "      <td></td>\n",
       "      <td>₹54,990</td>\n",
       "    </tr>\n",
       "    <tr>\n",
       "      <th>5</th>\n",
       "      <td>Lenovo ThinkBook 15 Intel 11th Gen Core i5 15....</td>\n",
       "      <td></td>\n",
       "      <td>₹59,990</td>\n",
       "    </tr>\n",
       "    <tr>\n",
       "      <th>6</th>\n",
       "      <td>Dell 14 (2021) i5-1135G7 Laptop, 8GB, 512GB SS...</td>\n",
       "      <td></td>\n",
       "      <td>₹53,990</td>\n",
       "    </tr>\n",
       "    <tr>\n",
       "      <th>7</th>\n",
       "      <td>HP Pavilion (2021) Intel 11th Gen Core i5 14 i...</td>\n",
       "      <td></td>\n",
       "      <td>₹66,999</td>\n",
       "    </tr>\n",
       "    <tr>\n",
       "      <th>8</th>\n",
       "      <td>(Renewed) HP ProBook 640 G1 14-inch Laptop (Co...</td>\n",
       "      <td></td>\n",
       "      <td>₹29,999</td>\n",
       "    </tr>\n",
       "    <tr>\n",
       "      <th>9</th>\n",
       "      <td>HP 14 11th Gen Intel Core i5 Processor 14 inch...</td>\n",
       "      <td></td>\n",
       "      <td>₹55,990</td>\n",
       "    </tr>\n",
       "  </tbody>\n",
       "</table>\n",
       "</div>"
      ],
      "text/plain": [
       "                                        Laptop Title Rating    Price\n",
       "0  Fujitsu UH-X 11th Gen Intel Core i5 13.3 inche...         ₹59,990\n",
       "1  Acer Nitro 5 AN515-57 Gaming Laptop | Intel Co...         ₹76,990\n",
       "2  Mi Notebook Pro QHD+ IPS Anti Glare Display In...         ₹56,999\n",
       "3  Lenovo ThinkBook 15 Intel 11th Gen Core i5 15....         ₹54,990\n",
       "4  HP 14(2021) 10th Gen Intel Core i5 Laptop, 8GB...         ₹54,990\n",
       "5  Lenovo ThinkBook 15 Intel 11th Gen Core i5 15....         ₹59,990\n",
       "6  Dell 14 (2021) i5-1135G7 Laptop, 8GB, 512GB SS...         ₹53,990\n",
       "7  HP Pavilion (2021) Intel 11th Gen Core i5 14 i...         ₹66,999\n",
       "8  (Renewed) HP ProBook 640 G1 14-inch Laptop (Co...         ₹29,999\n",
       "9  HP 14 11th Gen Intel Core i5 Processor 14 inch...         ₹55,990"
      ]
     },
     "execution_count": 129,
     "metadata": {},
     "output_type": "execute_result"
    }
   ],
   "source": [
    "i5_core = pd.DataFrame({'Laptop Title': title, 'Rating': rating, 'Price': price})\n",
    "i5_core"
   ]
  },
  {
   "cell_type": "code",
   "execution_count": 130,
   "id": "a72856ab",
   "metadata": {},
   "outputs": [
    {
     "name": "stderr",
     "output_type": "stream",
     "text": [
      "<ipython-input-130-5f7ab483151a>:1: DeprecationWarning: find_element_by_* commands are deprecated. Please use find_element() instead\n",
      "  i7_filter = driver.find_element_by_xpath('/html/body/div[1]/div[2]/div[1]/div[2]/div/div[3]/span/div[1]/span/div/div/div[6]/ul[1]/li[12]/span/a/div/label/i')\n"
     ]
    }
   ],
   "source": [
    "i7_filter = driver.find_element_by_xpath('/html/body/div[1]/div[2]/div[1]/div[2]/div/div[3]/span/div[1]/span/div/div/div[6]/ul[1]/li[12]/span/a/div/label/i')"
   ]
  },
  {
   "cell_type": "code",
   "execution_count": 131,
   "id": "1628288f",
   "metadata": {},
   "outputs": [],
   "source": [
    "i7_filter.click()"
   ]
  },
  {
   "cell_type": "code",
   "execution_count": 133,
   "id": "9960f218",
   "metadata": {},
   "outputs": [
    {
     "name": "stderr",
     "output_type": "stream",
     "text": [
      "<ipython-input-133-1de9f62c5688>:1: DeprecationWarning: find_element_by_* commands are deprecated. Please use find_element() instead\n",
      "  a = driver.find_element_by_xpath('/html/body/div[1]/div[2]/div[1]/div[1]/div/span[3]/div[2]/div[2]/div/span/div/div/div/div/div[2]/div[2]/div/div/div[1]/h2')\n",
      "<ipython-input-133-1de9f62c5688>:2: DeprecationWarning: find_element_by_* commands are deprecated. Please use find_element() instead\n",
      "  b = driver.find_element_by_xpath('/html/body/div[1]/div[2]/div[1]/div[1]/div/span[3]/div[2]/div[3]/div/span/div/div/div/div/div[2]/div[2]/div/div/div[1]/h2')\n",
      "<ipython-input-133-1de9f62c5688>:3: DeprecationWarning: find_element_by_* commands are deprecated. Please use find_element() instead\n",
      "  c = driver.find_element_by_xpath('/html/body/div[1]/div[2]/div[1]/div[1]/div/span[3]/div[2]/div[4]/div/span/div/div/div[2]/div[2]/div/div/div[1]/h2')\n",
      "<ipython-input-133-1de9f62c5688>:4: DeprecationWarning: find_element_by_* commands are deprecated. Please use find_element() instead\n",
      "  d = driver.find_element_by_xpath('/html/body/div[1]/div[2]/div[1]/div[1]/div/span[3]/div[2]/div[5]/div/span/div/div/div[2]/div[2]/div/div/div[1]/h2')\n",
      "<ipython-input-133-1de9f62c5688>:5: DeprecationWarning: find_element_by_* commands are deprecated. Please use find_element() instead\n",
      "  e = driver.find_element_by_xpath('/html/body/div[1]/div[2]/div[1]/div[1]/div/span[3]/div[2]/div[6]/div/span/div/div/div[2]/div[2]/div/div/div[1]/h2')\n",
      "<ipython-input-133-1de9f62c5688>:6: DeprecationWarning: find_element_by_* commands are deprecated. Please use find_element() instead\n",
      "  f = driver.find_element_by_xpath('/html/body/div[1]/div[2]/div[1]/div[1]/div/span[3]/div[2]/div[7]/div/span/div/div/div[2]/div[2]/div/div/div[1]/h2')\n",
      "<ipython-input-133-1de9f62c5688>:7: DeprecationWarning: find_element_by_* commands are deprecated. Please use find_element() instead\n",
      "  g = driver.find_element_by_xpath('/html/body/div[1]/div[2]/div[1]/div[1]/div/span[3]/div[2]/div[8]/div/span/div/div/div[2]/div[2]/div/div/div[1]/h2')\n",
      "<ipython-input-133-1de9f62c5688>:8: DeprecationWarning: find_element_by_* commands are deprecated. Please use find_element() instead\n",
      "  h = driver.find_element_by_xpath('/html/body/div[1]/div[2]/div[1]/div[1]/div/span[3]/div[2]/div[9]/div/span/div/div/div[2]/div[2]/div/div/div[1]/h2')\n",
      "<ipython-input-133-1de9f62c5688>:9: DeprecationWarning: find_element_by_* commands are deprecated. Please use find_element() instead\n",
      "  i = driver.find_element_by_xpath('/html/body/div[1]/div[2]/div[1]/div[1]/div/span[3]/div[2]/div[10]/div/span/div/div/div[2]/div[2]/div/div/div[1]/h2')\n",
      "<ipython-input-133-1de9f62c5688>:10: DeprecationWarning: find_element_by_* commands are deprecated. Please use find_element() instead\n",
      "  j = driver.find_element_by_xpath('/html/body/div[1]/div[2]/div[1]/div[1]/div/span[3]/div[2]/div[11]/div/span/div/div/div[2]/div[2]/div/div/div[1]/h2')\n"
     ]
    }
   ],
   "source": [
    "a = driver.find_element_by_xpath('/html/body/div[1]/div[2]/div[1]/div[1]/div/span[3]/div[2]/div[2]/div/span/div/div/div/div/div[2]/div[2]/div/div/div[1]/h2')\n",
    "b = driver.find_element_by_xpath('/html/body/div[1]/div[2]/div[1]/div[1]/div/span[3]/div[2]/div[3]/div/span/div/div/div/div/div[2]/div[2]/div/div/div[1]/h2')\n",
    "c = driver.find_element_by_xpath('/html/body/div[1]/div[2]/div[1]/div[1]/div/span[3]/div[2]/div[4]/div/span/div/div/div[2]/div[2]/div/div/div[1]/h2')\n",
    "d = driver.find_element_by_xpath('/html/body/div[1]/div[2]/div[1]/div[1]/div/span[3]/div[2]/div[5]/div/span/div/div/div[2]/div[2]/div/div/div[1]/h2')\n",
    "e = driver.find_element_by_xpath('/html/body/div[1]/div[2]/div[1]/div[1]/div/span[3]/div[2]/div[6]/div/span/div/div/div[2]/div[2]/div/div/div[1]/h2')\n",
    "f = driver.find_element_by_xpath('/html/body/div[1]/div[2]/div[1]/div[1]/div/span[3]/div[2]/div[7]/div/span/div/div/div[2]/div[2]/div/div/div[1]/h2')\n",
    "g = driver.find_element_by_xpath('/html/body/div[1]/div[2]/div[1]/div[1]/div/span[3]/div[2]/div[8]/div/span/div/div/div[2]/div[2]/div/div/div[1]/h2')\n",
    "h = driver.find_element_by_xpath('/html/body/div[1]/div[2]/div[1]/div[1]/div/span[3]/div[2]/div[9]/div/span/div/div/div[2]/div[2]/div/div/div[1]/h2')\n",
    "i = driver.find_element_by_xpath('/html/body/div[1]/div[2]/div[1]/div[1]/div/span[3]/div[2]/div[10]/div/span/div/div/div[2]/div[2]/div/div/div[1]/h2')\n",
    "j = driver.find_element_by_xpath('/html/body/div[1]/div[2]/div[1]/div[1]/div/span[3]/div[2]/div[11]/div/span/div/div/div[2]/div[2]/div/div/div[1]/h2')"
   ]
  },
  {
   "cell_type": "code",
   "execution_count": 135,
   "id": "d4ab98b1",
   "metadata": {},
   "outputs": [],
   "source": [
    "titles = [a.text, b.text, c.text, d.text, e.text, f.text, g.text, h.text, i.text, j.text]"
   ]
  },
  {
   "cell_type": "code",
   "execution_count": 136,
   "id": "d2f050aa",
   "metadata": {},
   "outputs": [
    {
     "name": "stderr",
     "output_type": "stream",
     "text": [
      "<ipython-input-136-fe113416212d>:1: DeprecationWarning: find_element_by_* commands are deprecated. Please use find_element() instead\n",
      "  a = driver.find_element_by_xpath('/html/body/div[1]/div[2]/div[1]/div[1]/div/span[3]/div[2]/div[2]/div/span/div/div/div/div/div[2]/div[2]/div/div/div[2]/div/span[1]/span/a/i[1]')\n",
      "<ipython-input-136-fe113416212d>:2: DeprecationWarning: find_element_by_* commands are deprecated. Please use find_element() instead\n",
      "  b = driver.find_element_by_xpath('/html/body/div[1]/div[2]/div[1]/div[1]/div/span[3]/div[2]/div[3]/div/span/div/div/div/div/div[2]/div[2]/div/div/div[2]/div/span[1]/span/a/i[1]')\n",
      "<ipython-input-136-fe113416212d>:3: DeprecationWarning: find_element_by_* commands are deprecated. Please use find_element() instead\n",
      "  c = driver.find_element_by_xpath('/html/body/div[1]/div[2]/div[1]/div[1]/div/span[3]/div[2]/div[4]/div/span/div/div/div[2]/div[2]/div/div/div[2]/div/span[1]/span/a/i[1]')\n",
      "<ipython-input-136-fe113416212d>:4: DeprecationWarning: find_element_by_* commands are deprecated. Please use find_element() instead\n",
      "  d = driver.find_element_by_xpath('/html/body/div[1]/div[2]/div[1]/div[1]/div/span[3]/div[2]/div[4]/div/span/div/div/div[2]/div[2]/div/div/div[2]/div/span[1]/span/a/i[1]')\n",
      "<ipython-input-136-fe113416212d>:5: DeprecationWarning: find_element_by_* commands are deprecated. Please use find_element() instead\n",
      "  e = driver.find_element_by_xpath('/html/body/div[1]/div[2]/div[1]/div[1]/div/span[3]/div[2]/div[6]/div/span/div/div/div[2]/div[2]/div/div/div[2]/div/span[1]/span/a/i[1]')\n",
      "<ipython-input-136-fe113416212d>:6: DeprecationWarning: find_element_by_* commands are deprecated. Please use find_element() instead\n",
      "  f = driver.find_element_by_xpath('/html/body/div[1]/div[2]/div[1]/div[1]/div/span[3]/div[2]/div[7]/div/span/div/div/div[2]/div[2]/div/div/div[2]/div/span[1]/span/a/i[1]')\n",
      "<ipython-input-136-fe113416212d>:7: DeprecationWarning: find_element_by_* commands are deprecated. Please use find_element() instead\n",
      "  g = driver.find_element_by_xpath('/html/body/div[1]/div[2]/div[1]/div[1]/div/span[3]/div[2]/div[8]/div/span/div/div/div[2]/div[2]/div/div/div[2]/div/span[1]/span/a/i[1]')\n",
      "<ipython-input-136-fe113416212d>:8: DeprecationWarning: find_element_by_* commands are deprecated. Please use find_element() instead\n",
      "  h = driver.find_element_by_xpath('/html/body/div[1]/div[2]/div[1]/div[1]/div/span[3]/div[2]/div[9]/div/span/div/div/div[2]/div[2]/div/div/div[2]/div/span[1]/span/a/i[1]')\n",
      "<ipython-input-136-fe113416212d>:9: DeprecationWarning: find_element_by_* commands are deprecated. Please use find_element() instead\n",
      "  i = driver.find_element_by_xpath('/html/body/div[1]/div[2]/div[1]/div[1]/div/span[3]/div[2]/div[10]/div/span/div/div/div[2]/div[2]/div/div/div[2]/div/span[1]/span/a/i[1]')\n",
      "<ipython-input-136-fe113416212d>:10: DeprecationWarning: find_element_by_* commands are deprecated. Please use find_element() instead\n",
      "  j = driver.find_element_by_xpath('/html/body/div[1]/div[2]/div[1]/div[1]/div/span[3]/div[2]/div[11]/div/span/div/div/div[2]/div[2]/div/div/div[2]/div/span[1]/span/a/i[1]')\n"
     ]
    }
   ],
   "source": [
    "a = driver.find_element_by_xpath('/html/body/div[1]/div[2]/div[1]/div[1]/div/span[3]/div[2]/div[2]/div/span/div/div/div/div/div[2]/div[2]/div/div/div[2]/div/span[1]/span/a/i[1]')\n",
    "b = driver.find_element_by_xpath('/html/body/div[1]/div[2]/div[1]/div[1]/div/span[3]/div[2]/div[3]/div/span/div/div/div/div/div[2]/div[2]/div/div/div[2]/div/span[1]/span/a/i[1]')\n",
    "c = driver.find_element_by_xpath('/html/body/div[1]/div[2]/div[1]/div[1]/div/span[3]/div[2]/div[4]/div/span/div/div/div[2]/div[2]/div/div/div[2]/div/span[1]/span/a/i[1]')\n",
    "d = driver.find_element_by_xpath('/html/body/div[1]/div[2]/div[1]/div[1]/div/span[3]/div[2]/div[4]/div/span/div/div/div[2]/div[2]/div/div/div[2]/div/span[1]/span/a/i[1]')\n",
    "e = driver.find_element_by_xpath('/html/body/div[1]/div[2]/div[1]/div[1]/div/span[3]/div[2]/div[6]/div/span/div/div/div[2]/div[2]/div/div/div[2]/div/span[1]/span/a/i[1]')\n",
    "f = driver.find_element_by_xpath('/html/body/div[1]/div[2]/div[1]/div[1]/div/span[3]/div[2]/div[7]/div/span/div/div/div[2]/div[2]/div/div/div[2]/div/span[1]/span/a/i[1]')\n",
    "g = driver.find_element_by_xpath('/html/body/div[1]/div[2]/div[1]/div[1]/div/span[3]/div[2]/div[8]/div/span/div/div/div[2]/div[2]/div/div/div[2]/div/span[1]/span/a/i[1]')\n",
    "h = driver.find_element_by_xpath('/html/body/div[1]/div[2]/div[1]/div[1]/div/span[3]/div[2]/div[9]/div/span/div/div/div[2]/div[2]/div/div/div[2]/div/span[1]/span/a/i[1]')\n",
    "i = driver.find_element_by_xpath('/html/body/div[1]/div[2]/div[1]/div[1]/div/span[3]/div[2]/div[10]/div/span/div/div/div[2]/div[2]/div/div/div[2]/div/span[1]/span/a/i[1]')\n",
    "j = driver.find_element_by_xpath('/html/body/div[1]/div[2]/div[1]/div[1]/div/span[3]/div[2]/div[11]/div/span/div/div/div[2]/div[2]/div/div/div[2]/div/span[1]/span/a/i[1]')"
   ]
  },
  {
   "cell_type": "code",
   "execution_count": 137,
   "id": "a1af7ec0",
   "metadata": {},
   "outputs": [],
   "source": [
    "rate = [a.text, b.text, c.text, d.text, e.text, f.text, g.text, h.text, i.text, j.text]"
   ]
  },
  {
   "cell_type": "code",
   "execution_count": 146,
   "id": "d0bffffc",
   "metadata": {},
   "outputs": [
    {
     "name": "stderr",
     "output_type": "stream",
     "text": [
      "<ipython-input-146-dca1958d90d4>:1: DeprecationWarning: find_element_by_* commands are deprecated. Please use find_element() instead\n",
      "  a = driver.find_element_by_xpath('/html/body/div[1]/div[2]/div[1]/div[1]/div/span[3]/div[2]/div[2]/div/span/div/div/div/div/div[2]/div[2]/div/div/div[3]/div[1]/div/div[1]/div[1]/a/span[1]/span[2]')\n",
      "<ipython-input-146-dca1958d90d4>:2: DeprecationWarning: find_element_by_* commands are deprecated. Please use find_element() instead\n",
      "  b = driver.find_element_by_xpath('/html/body/div[1]/div[2]/div[1]/div[1]/div/span[3]/div[2]/div[3]/div/span/div/div/div/div/div[2]/div[2]/div/div/div[3]/div[1]/div/div[1]/div[1]/a/span[1]/span[2]')\n",
      "<ipython-input-146-dca1958d90d4>:3: DeprecationWarning: find_element_by_* commands are deprecated. Please use find_element() instead\n",
      "  c = driver.find_element_by_xpath('/html/body/div[1]/div[2]/div[1]/div[1]/div/span[3]/div[2]/div[4]/div/span/div/div/div[2]/div[2]/div/div/div[3]/div[1]/div/div[1]/div[2]/a/span[1]/span[2]')\n",
      "<ipython-input-146-dca1958d90d4>:4: DeprecationWarning: find_element_by_* commands are deprecated. Please use find_element() instead\n",
      "  d = driver.find_element_by_xpath('/html/body/div[1]/div[2]/div[1]/div[1]/div/span[3]/div[2]/div[5]/div/span/div/div/div[2]/div[2]/div/div/div[3]/div[1]/div/div[1]/div[1]/a/span[1]/span[2]')\n",
      "<ipython-input-146-dca1958d90d4>:5: DeprecationWarning: find_element_by_* commands are deprecated. Please use find_element() instead\n",
      "  e = driver.find_element_by_xpath('/html/body/div[1]/div[2]/div[1]/div[1]/div/span[3]/div[2]/div[6]/div/span/div/div/div[2]/div[2]/div/div/div[3]/div[1]/div/div[1]/div[1]/a/span[1]/span[2]')\n",
      "<ipython-input-146-dca1958d90d4>:6: DeprecationWarning: find_element_by_* commands are deprecated. Please use find_element() instead\n",
      "  f = driver.find_element_by_xpath('/html/body/div[1]/div[2]/div[1]/div[1]/div/span[3]/div[2]/div[7]/div/span/div/div/div[2]/div[2]/div/div/div[3]/div[1]/div/div[1]/div[2]/a/span[1]/span[2]')\n",
      "<ipython-input-146-dca1958d90d4>:7: DeprecationWarning: find_element_by_* commands are deprecated. Please use find_element() instead\n",
      "  g = driver.find_element_by_xpath('/html/body/div[1]/div[2]/div[1]/div[1]/div/span[3]/div[2]/div[8]/div/span/div/div/div[2]/div[2]/div/div/div[3]/div[1]/div/div[1]/div[1]/a/span[1]/span[2]')\n",
      "<ipython-input-146-dca1958d90d4>:8: DeprecationWarning: find_element_by_* commands are deprecated. Please use find_element() instead\n",
      "  h = driver.find_element_by_xpath('/html/body/div[1]/div[2]/div[1]/div[1]/div/span[3]/div[2]/div[9]/div/span/div/div/div[2]/div[2]/div/div/div[3]/div[1]/div/div[1]/div[2]/a/span[1]/span[2]')\n",
      "<ipython-input-146-dca1958d90d4>:9: DeprecationWarning: find_element_by_* commands are deprecated. Please use find_element() instead\n",
      "  i = driver.find_element_by_xpath('/html/body/div[1]/div[2]/div[1]/div[1]/div/span[3]/div[2]/div[10]/div/span/div/div/div[2]/div[2]/div/div/div[3]/div[1]/div/div[1]/div/a/span[1]/span[2]')\n",
      "<ipython-input-146-dca1958d90d4>:10: DeprecationWarning: find_element_by_* commands are deprecated. Please use find_element() instead\n",
      "  j = driver.find_element_by_xpath('/html/body/div[1]/div[2]/div[1]/div[1]/div/span[3]/div[2]/div[11]/div/span/div/div/div[2]/div[2]/div/div/div[3]/div[1]/div/div[1]/div[2]/a/span[1]/span[2]')\n"
     ]
    }
   ],
   "source": [
    "a = driver.find_element_by_xpath('/html/body/div[1]/div[2]/div[1]/div[1]/div/span[3]/div[2]/div[2]/div/span/div/div/div/div/div[2]/div[2]/div/div/div[3]/div[1]/div/div[1]/div[1]/a/span[1]/span[2]')\n",
    "b = driver.find_element_by_xpath('/html/body/div[1]/div[2]/div[1]/div[1]/div/span[3]/div[2]/div[3]/div/span/div/div/div/div/div[2]/div[2]/div/div/div[3]/div[1]/div/div[1]/div[1]/a/span[1]/span[2]')\n",
    "c = driver.find_element_by_xpath('/html/body/div[1]/div[2]/div[1]/div[1]/div/span[3]/div[2]/div[4]/div/span/div/div/div[2]/div[2]/div/div/div[3]/div[1]/div/div[1]/div[2]/a/span[1]/span[2]')\n",
    "d = driver.find_element_by_xpath('/html/body/div[1]/div[2]/div[1]/div[1]/div/span[3]/div[2]/div[5]/div/span/div/div/div[2]/div[2]/div/div/div[3]/div[1]/div/div[1]/div[1]/a/span[1]/span[2]')\n",
    "e = driver.find_element_by_xpath('/html/body/div[1]/div[2]/div[1]/div[1]/div/span[3]/div[2]/div[6]/div/span/div/div/div[2]/div[2]/div/div/div[3]/div[1]/div/div[1]/div[1]/a/span[1]/span[2]')\n",
    "f = driver.find_element_by_xpath('/html/body/div[1]/div[2]/div[1]/div[1]/div/span[3]/div[2]/div[7]/div/span/div/div/div[2]/div[2]/div/div/div[3]/div[1]/div/div[1]/div[2]/a/span[1]/span[2]')\n",
    "g = driver.find_element_by_xpath('/html/body/div[1]/div[2]/div[1]/div[1]/div/span[3]/div[2]/div[8]/div/span/div/div/div[2]/div[2]/div/div/div[3]/div[1]/div/div[1]/div[1]/a/span[1]/span[2]')\n",
    "h = driver.find_element_by_xpath('/html/body/div[1]/div[2]/div[1]/div[1]/div/span[3]/div[2]/div[9]/div/span/div/div/div[2]/div[2]/div/div/div[3]/div[1]/div/div[1]/div[2]/a/span[1]/span[2]')\n",
    "i = driver.find_element_by_xpath('/html/body/div[1]/div[2]/div[1]/div[1]/div/span[3]/div[2]/div[10]/div/span/div/div/div[2]/div[2]/div/div/div[3]/div[1]/div/div[1]/div/a/span[1]/span[2]')\n",
    "j = driver.find_element_by_xpath('/html/body/div[1]/div[2]/div[1]/div[1]/div/span[3]/div[2]/div[11]/div/span/div/div/div[2]/div[2]/div/div/div[3]/div[1]/div/div[1]/div[2]/a/span[1]/span[2]')"
   ]
  },
  {
   "cell_type": "code",
   "execution_count": 154,
   "id": "d40ff076",
   "metadata": {},
   "outputs": [],
   "source": [
    "prcies = [a.text, b.text, c.text, d.text, e.text, f.text, g.text, h.text, i.text, j.text]"
   ]
  },
  {
   "cell_type": "code",
   "execution_count": 153,
   "id": "66a1a8c0",
   "metadata": {},
   "outputs": [
    {
     "name": "stdout",
     "output_type": "stream",
     "text": [
      "10\n",
      "10\n",
      "10\n"
     ]
    }
   ],
   "source": [
    "print(len(titles))\n",
    "print(len(rate))\n",
    "print(len(prcies))"
   ]
  },
  {
   "cell_type": "code",
   "execution_count": 155,
   "id": "cacba697",
   "metadata": {},
   "outputs": [],
   "source": [
    "i7_core = pd.DataFrame({\"Laptop Title\": titles, 'Rating': rate, 'Price': prcies})"
   ]
  },
  {
   "cell_type": "code",
   "execution_count": 156,
   "id": "cec99f92",
   "metadata": {},
   "outputs": [
    {
     "data": {
      "text/html": [
       "<div>\n",
       "<style scoped>\n",
       "    .dataframe tbody tr th:only-of-type {\n",
       "        vertical-align: middle;\n",
       "    }\n",
       "\n",
       "    .dataframe tbody tr th {\n",
       "        vertical-align: top;\n",
       "    }\n",
       "\n",
       "    .dataframe thead th {\n",
       "        text-align: right;\n",
       "    }\n",
       "</style>\n",
       "<table border=\"1\" class=\"dataframe\">\n",
       "  <thead>\n",
       "    <tr style=\"text-align: right;\">\n",
       "      <th></th>\n",
       "      <th>Laptop Title</th>\n",
       "      <th>Rating</th>\n",
       "      <th>Price</th>\n",
       "    </tr>\n",
       "  </thead>\n",
       "  <tbody>\n",
       "    <tr>\n",
       "      <th>0</th>\n",
       "      <td>Fujitsu UH-X 11th Gen Intel i7 Core 13.3 inche...</td>\n",
       "      <td></td>\n",
       "      <td>₹92,990</td>\n",
       "    </tr>\n",
       "    <tr>\n",
       "      <th>1</th>\n",
       "      <td>Acer Nitro 5 AN515-57 Gaming Laptop | Intel Co...</td>\n",
       "      <td></td>\n",
       "      <td>₹88,990</td>\n",
       "    </tr>\n",
       "    <tr>\n",
       "      <th>2</th>\n",
       "      <td>Mi Notebook Horizon Edition 14 Intel Core i7-1...</td>\n",
       "      <td></td>\n",
       "      <td>₹49,990</td>\n",
       "    </tr>\n",
       "    <tr>\n",
       "      <th>3</th>\n",
       "      <td>HP Pavilion (2021) Intel 11th Gen Core i7 14 i...</td>\n",
       "      <td></td>\n",
       "      <td>₹84,990</td>\n",
       "    </tr>\n",
       "    <tr>\n",
       "      <th>4</th>\n",
       "      <td>Mi Notebook Pro QHD+ IPS Anti Glare Display In...</td>\n",
       "      <td></td>\n",
       "      <td>₹72,999</td>\n",
       "    </tr>\n",
       "    <tr>\n",
       "      <th>5</th>\n",
       "      <td>Lenovo ThinkBook 15 Intel 11th Gen Core i7 15....</td>\n",
       "      <td></td>\n",
       "      <td>₹85,990</td>\n",
       "    </tr>\n",
       "    <tr>\n",
       "      <th>6</th>\n",
       "      <td>Acer Nitro 5 AN515-57 Gaming Laptop | Intel Co...</td>\n",
       "      <td></td>\n",
       "      <td>₹1,07,199</td>\n",
       "    </tr>\n",
       "    <tr>\n",
       "      <th>7</th>\n",
       "      <td>Lenovo Yoga 7 11th Gen Intel Core i7 14\" Full ...</td>\n",
       "      <td></td>\n",
       "      <td>₹97,490</td>\n",
       "    </tr>\n",
       "    <tr>\n",
       "      <th>8</th>\n",
       "      <td>ASUS TUF Gaming F15 (2021) 15.6-inch (39.62 cm...</td>\n",
       "      <td></td>\n",
       "      <td>₹1,24,990</td>\n",
       "    </tr>\n",
       "    <tr>\n",
       "      <th>9</th>\n",
       "      <td>HP Pavilion Gaming(2021) 10th Gen Intel Core i...</td>\n",
       "      <td></td>\n",
       "      <td>₹86,990</td>\n",
       "    </tr>\n",
       "  </tbody>\n",
       "</table>\n",
       "</div>"
      ],
      "text/plain": [
       "                                        Laptop Title Rating      Price\n",
       "0  Fujitsu UH-X 11th Gen Intel i7 Core 13.3 inche...           ₹92,990\n",
       "1  Acer Nitro 5 AN515-57 Gaming Laptop | Intel Co...           ₹88,990\n",
       "2  Mi Notebook Horizon Edition 14 Intel Core i7-1...           ₹49,990\n",
       "3  HP Pavilion (2021) Intel 11th Gen Core i7 14 i...           ₹84,990\n",
       "4  Mi Notebook Pro QHD+ IPS Anti Glare Display In...           ₹72,999\n",
       "5  Lenovo ThinkBook 15 Intel 11th Gen Core i7 15....           ₹85,990\n",
       "6  Acer Nitro 5 AN515-57 Gaming Laptop | Intel Co...         ₹1,07,199\n",
       "7  Lenovo Yoga 7 11th Gen Intel Core i7 14\" Full ...           ₹97,490\n",
       "8  ASUS TUF Gaming F15 (2021) 15.6-inch (39.62 cm...         ₹1,24,990\n",
       "9  HP Pavilion Gaming(2021) 10th Gen Intel Core i...           ₹86,990"
      ]
     },
     "execution_count": 156,
     "metadata": {},
     "output_type": "execute_result"
    }
   ],
   "source": [
    "i7_core"
   ]
  },
  {
   "cell_type": "markdown",
   "id": "e2c59d8f",
   "metadata": {},
   "source": [
    "Ans 9. - Python program to scrape data for 'Data Scientist' job from ambitionbox.com webpage using selenium. "
   ]
  },
  {
   "cell_type": "code",
   "execution_count": 3,
   "id": "2d773834",
   "metadata": {},
   "outputs": [],
   "source": [
    "driver.get('https://www.ambitionbox.com/')"
   ]
  },
  {
   "cell_type": "code",
   "execution_count": 4,
   "id": "30d4aff4",
   "metadata": {},
   "outputs": [
    {
     "name": "stderr",
     "output_type": "stream",
     "text": [
      "<ipython-input-4-b420dd8a334a>:1: DeprecationWarning: find_element_by_* commands are deprecated. Please use find_element() instead\n",
      "  se_job = driver.find_element_by_xpath('/html/body/div[1]/nav/nav/a[6]')\n"
     ]
    }
   ],
   "source": [
    "se_job = driver.find_element_by_xpath('/html/body/div[1]/nav/nav/a[6]')"
   ]
  },
  {
   "cell_type": "code",
   "execution_count": 5,
   "id": "71503d48",
   "metadata": {},
   "outputs": [],
   "source": [
    "se_job.click()"
   ]
  },
  {
   "cell_type": "code",
   "execution_count": 6,
   "id": "39549e4b",
   "metadata": {},
   "outputs": [
    {
     "name": "stderr",
     "output_type": "stream",
     "text": [
      "<ipython-input-6-d520c1236f13>:1: DeprecationWarning: find_element_by_* commands are deprecated. Please use find_element() instead\n",
      "  se_bar = driver.find_element_by_xpath('/html/body/div/div/div/div[2]/div[1]/div/div/div/div/span/input')\n"
     ]
    }
   ],
   "source": [
    "se_bar = driver.find_element_by_xpath('/html/body/div/div/div/div[2]/div[1]/div/div/div/div/span/input')"
   ]
  },
  {
   "cell_type": "code",
   "execution_count": 7,
   "id": "7689be38",
   "metadata": {},
   "outputs": [],
   "source": [
    "se_bar.send_keys('Data Scientist')"
   ]
  },
  {
   "cell_type": "code",
   "execution_count": 8,
   "id": "3f910067",
   "metadata": {},
   "outputs": [
    {
     "name": "stderr",
     "output_type": "stream",
     "text": [
      "<ipython-input-8-b6dcb1ec25d6>:1: DeprecationWarning: find_element_by_* commands are deprecated. Please use find_element() instead\n",
      "  se_btn = driver.find_element_by_xpath('/html/body/div/div/div/div[2]/div[1]/div/div/div/button/span')\n"
     ]
    }
   ],
   "source": [
    "se_btn = driver.find_element_by_xpath('/html/body/div/div/div/div[2]/div[1]/div/div/div/button/span')"
   ]
  },
  {
   "cell_type": "code",
   "execution_count": 9,
   "id": "c51d2be2",
   "metadata": {},
   "outputs": [],
   "source": [
    "se_btn.click()"
   ]
  },
  {
   "cell_type": "code",
   "execution_count": 10,
   "id": "7bd66d6f",
   "metadata": {},
   "outputs": [
    {
     "name": "stderr",
     "output_type": "stream",
     "text": [
      "<ipython-input-10-600934b06122>:1: DeprecationWarning: find_element_by_* commands are deprecated. Please use find_element() instead\n",
      "  se_loc = driver.find_element_by_xpath(\"/html/body/div/div/div/div[2]/div[2]/div[1]/div/div/div/div[2]/div[1]/p\")\n"
     ]
    }
   ],
   "source": [
    "se_loc = driver.find_element_by_xpath(\"/html/body/div/div/div/div[2]/div[2]/div[1]/div/div/div/div[2]/div[1]/p\")"
   ]
  },
  {
   "cell_type": "code",
   "execution_count": 11,
   "id": "797905d8",
   "metadata": {},
   "outputs": [],
   "source": [
    "se_loc.click()"
   ]
  },
  {
   "cell_type": "code",
   "execution_count": 12,
   "id": "0c2efd84",
   "metadata": {},
   "outputs": [
    {
     "name": "stderr",
     "output_type": "stream",
     "text": [
      "<ipython-input-12-e7bf276e8663>:1: DeprecationWarning: find_element_by_* commands are deprecated. Please use find_element() instead\n",
      "  locate = driver.find_element_by_xpath('/html/body/div/div/div/div[2]/div[2]/div[1]/div/div/div/div[2]/div[2]/div/div[2]/input')\n"
     ]
    }
   ],
   "source": [
    "locate = driver.find_element_by_xpath('/html/body/div/div/div/div[2]/div[2]/div[1]/div/div/div/div[2]/div[2]/div/div[2]/input')"
   ]
  },
  {
   "cell_type": "code",
   "execution_count": 13,
   "id": "9f2f51c9",
   "metadata": {},
   "outputs": [],
   "source": [
    "locate.send_keys('Noida')"
   ]
  },
  {
   "cell_type": "code",
   "execution_count": 14,
   "id": "068d0359",
   "metadata": {},
   "outputs": [
    {
     "name": "stderr",
     "output_type": "stream",
     "text": [
      "<ipython-input-14-e15603e44e09>:1: DeprecationWarning: find_element_by_* commands are deprecated. Please use find_element() instead\n",
      "  loc_btn = driver.find_element_by_xpath('/html/body/div/div/div/div[2]/div[2]/div[1]/div/div/div/div[2]/div[2]/div/div[3]/div[1]/div[1]/div/label')\n"
     ]
    }
   ],
   "source": [
    "loc_btn = driver.find_element_by_xpath('/html/body/div/div/div/div[2]/div[2]/div[1]/div/div/div/div[2]/div[2]/div/div[3]/div[1]/div[1]/div/label')"
   ]
  },
  {
   "cell_type": "code",
   "execution_count": 15,
   "id": "dbe57be0",
   "metadata": {},
   "outputs": [],
   "source": [
    "loc_btn.click()"
   ]
  },
  {
   "cell_type": "code",
   "execution_count": 16,
   "id": "81896a24",
   "metadata": {},
   "outputs": [
    {
     "name": "stderr",
     "output_type": "stream",
     "text": [
      "<ipython-input-16-b18a877069d0>:1: DeprecationWarning: find_element_by_* commands are deprecated. Please use find_element() instead\n",
      "  a = driver.find_element_by_xpath(\"//p[@class = 'company body-medium']\")\n",
      "<ipython-input-16-b18a877069d0>:2: DeprecationWarning: find_element_by_* commands are deprecated. Please use find_element() instead\n",
      "  b = driver.find_element_by_xpath('/html/body/div/div/div/div[2]/div[2]/div[2]/div[2]/div/div[1]/div[2]/div[2]/div/p')\n",
      "<ipython-input-16-b18a877069d0>:3: DeprecationWarning: find_element_by_* commands are deprecated. Please use find_element() instead\n",
      "  c = driver.find_element_by_xpath('/html/body/div/div/div/div[2]/div[2]/div[2]/div[2]/div/div[1]/div[3]/div[2]/div/p')\n",
      "<ipython-input-16-b18a877069d0>:4: DeprecationWarning: find_element_by_* commands are deprecated. Please use find_element() instead\n",
      "  d = driver.find_element_by_xpath('/html/body/div/div/div/div[2]/div[2]/div[2]/div[2]/div/div[1]/div[4]/div[2]/div/p')\n",
      "<ipython-input-16-b18a877069d0>:5: DeprecationWarning: find_element_by_* commands are deprecated. Please use find_element() instead\n",
      "  e = driver.find_element_by_xpath('/html/body/div/div/div/div[2]/div[2]/div[2]/div[2]/div/div[1]/div[5]/div[2]/div/p')\n",
      "<ipython-input-16-b18a877069d0>:6: DeprecationWarning: find_element_by_* commands are deprecated. Please use find_element() instead\n",
      "  f = driver.find_element_by_xpath('/html/body/div/div/div/div[2]/div[2]/div[2]/div[2]/div/div[1]/div[6]/div[2]/div/p')\n",
      "<ipython-input-16-b18a877069d0>:7: DeprecationWarning: find_element_by_* commands are deprecated. Please use find_element() instead\n",
      "  g = driver.find_element_by_xpath('/html/body/div/div/div/div[2]/div[2]/div[2]/div[2]/div/div[1]/div[7]/div[2]/div/p')\n",
      "<ipython-input-16-b18a877069d0>:8: DeprecationWarning: find_element_by_* commands are deprecated. Please use find_element() instead\n",
      "  h = driver.find_element_by_xpath('/html/body/div/div/div/div[2]/div[2]/div[2]/div[2]/div/div[1]/div[8]/div[2]/div/p')\n",
      "<ipython-input-16-b18a877069d0>:9: DeprecationWarning: find_element_by_* commands are deprecated. Please use find_element() instead\n",
      "  i = driver.find_element_by_xpath('/html/body/div/div/div/div[2]/div[2]/div[2]/div[2]/div/div[1]/div[9]/div[2]/div/p')\n",
      "<ipython-input-16-b18a877069d0>:10: DeprecationWarning: find_element_by_* commands are deprecated. Please use find_element() instead\n",
      "  j = driver.find_element_by_xpath('/html/body/div/div/div/div[2]/div[2]/div[2]/div[2]/div/div[1]/div[10]/div[2]/div/p')\n"
     ]
    }
   ],
   "source": [
    "a = driver.find_element_by_xpath(\"//p[@class = 'company body-medium']\")\n",
    "b = driver.find_element_by_xpath('/html/body/div/div/div/div[2]/div[2]/div[2]/div[2]/div/div[1]/div[2]/div[2]/div/p')\n",
    "c = driver.find_element_by_xpath('/html/body/div/div/div/div[2]/div[2]/div[2]/div[2]/div/div[1]/div[3]/div[2]/div/p')\n",
    "d = driver.find_element_by_xpath('/html/body/div/div/div/div[2]/div[2]/div[2]/div[2]/div/div[1]/div[4]/div[2]/div/p')\n",
    "e = driver.find_element_by_xpath('/html/body/div/div/div/div[2]/div[2]/div[2]/div[2]/div/div[1]/div[5]/div[2]/div/p')\n",
    "f = driver.find_element_by_xpath('/html/body/div/div/div/div[2]/div[2]/div[2]/div[2]/div/div[1]/div[6]/div[2]/div/p')\n",
    "g = driver.find_element_by_xpath('/html/body/div/div/div/div[2]/div[2]/div[2]/div[2]/div/div[1]/div[7]/div[2]/div/p')\n",
    "h = driver.find_element_by_xpath('/html/body/div/div/div/div[2]/div[2]/div[2]/div[2]/div/div[1]/div[8]/div[2]/div/p')\n",
    "i = driver.find_element_by_xpath('/html/body/div/div/div/div[2]/div[2]/div[2]/div[2]/div/div[1]/div[9]/div[2]/div/p')\n",
    "j = driver.find_element_by_xpath('/html/body/div/div/div/div[2]/div[2]/div[2]/div[2]/div/div[1]/div[10]/div[2]/div/p')"
   ]
  },
  {
   "cell_type": "code",
   "execution_count": 17,
   "id": "d94fa03c",
   "metadata": {},
   "outputs": [],
   "source": [
    "company = [a.text, b.text, c.text, d.text, e.text,f.text,g.text, h.text,i.text,j.text]"
   ]
  },
  {
   "cell_type": "code",
   "execution_count": 18,
   "id": "13e66a6d",
   "metadata": {},
   "outputs": [
    {
     "name": "stderr",
     "output_type": "stream",
     "text": [
      "<ipython-input-18-a65ac1db9142>:1: DeprecationWarning: find_element_by_* commands are deprecated. Please use find_element() instead\n",
      "  a = driver.find_element_by_xpath('/html/body/div/div/div/div[2]/div[2]/div[2]/div[2]/div/div[1]/div[1]/div[2]/div/div/a[1]/span')\n",
      "<ipython-input-18-a65ac1db9142>:2: DeprecationWarning: find_element_by_* commands are deprecated. Please use find_element() instead\n",
      "  b = driver.find_element_by_xpath('/html/body/div/div/div/div[2]/div[2]/div[2]/div[2]/div/div[1]/div[2]/div[2]/div/div/a[1]/span')\n",
      "<ipython-input-18-a65ac1db9142>:3: DeprecationWarning: find_element_by_* commands are deprecated. Please use find_element() instead\n",
      "  c = driver.find_element_by_xpath('/html/body/div/div/div/div[2]/div[2]/div[2]/div[2]/div/div[1]/div[3]/div[2]/div/div/a[1]/span')\n",
      "<ipython-input-18-a65ac1db9142>:4: DeprecationWarning: find_element_by_* commands are deprecated. Please use find_element() instead\n",
      "  d = driver.find_element_by_xpath('/html/body/div/div/div/div[2]/div[2]/div[2]/div[2]/div/div[1]/div[4]/div[2]/div/div/a[1]/span')\n",
      "<ipython-input-18-a65ac1db9142>:5: DeprecationWarning: find_element_by_* commands are deprecated. Please use find_element() instead\n",
      "  e = driver.find_element_by_xpath('/html/body/div/div/div/div[2]/div[2]/div[2]/div[2]/div/div[1]/div[5]/div[2]/div/div/a[1]/span')\n",
      "<ipython-input-18-a65ac1db9142>:6: DeprecationWarning: find_element_by_* commands are deprecated. Please use find_element() instead\n",
      "  f = driver.find_element_by_xpath('/html/body/div/div/div/div[2]/div[2]/div[2]/div[2]/div/div[1]/div[6]/div[2]/div/div/a[1]/span')\n",
      "<ipython-input-18-a65ac1db9142>:7: DeprecationWarning: find_element_by_* commands are deprecated. Please use find_element() instead\n",
      "  g = driver.find_element_by_xpath('/html/body/div/div/div/div[2]/div[2]/div[2]/div[2]/div/div[1]/div[7]/div[2]/div/div/a[1]/span')\n",
      "<ipython-input-18-a65ac1db9142>:8: DeprecationWarning: find_element_by_* commands are deprecated. Please use find_element() instead\n",
      "  h = driver.find_element_by_xpath('/html/body/div/div/div/div[2]/div[2]/div[2]/div[2]/div/div[1]/div[8]/div[2]/div/div/a[1]/span')\n",
      "<ipython-input-18-a65ac1db9142>:9: DeprecationWarning: find_element_by_* commands are deprecated. Please use find_element() instead\n",
      "  i = driver.find_element_by_xpath('/html/body/div/div/div/div[2]/div[2]/div[2]/div[2]/div/div[1]/div[9]/div[2]/div/div/a[1]/span')\n",
      "<ipython-input-18-a65ac1db9142>:10: DeprecationWarning: find_element_by_* commands are deprecated. Please use find_element() instead\n",
      "  j = driver.find_element_by_xpath('/html/body/div/div/div/div[2]/div[2]/div[2]/div[2]/div/div[1]/div[10]/div[2]/div/div/a[1]/span')\n"
     ]
    }
   ],
   "source": [
    "a = driver.find_element_by_xpath('/html/body/div/div/div/div[2]/div[2]/div[2]/div[2]/div/div[1]/div[1]/div[2]/div/div/a[1]/span')\n",
    "b = driver.find_element_by_xpath('/html/body/div/div/div/div[2]/div[2]/div[2]/div[2]/div/div[1]/div[2]/div[2]/div/div/a[1]/span')\n",
    "c = driver.find_element_by_xpath('/html/body/div/div/div/div[2]/div[2]/div[2]/div[2]/div/div[1]/div[3]/div[2]/div/div/a[1]/span')\n",
    "d = driver.find_element_by_xpath('/html/body/div/div/div/div[2]/div[2]/div[2]/div[2]/div/div[1]/div[4]/div[2]/div/div/a[1]/span')\n",
    "e = driver.find_element_by_xpath('/html/body/div/div/div/div[2]/div[2]/div[2]/div[2]/div/div[1]/div[5]/div[2]/div/div/a[1]/span')\n",
    "f = driver.find_element_by_xpath('/html/body/div/div/div/div[2]/div[2]/div[2]/div[2]/div/div[1]/div[6]/div[2]/div/div/a[1]/span')\n",
    "g = driver.find_element_by_xpath('/html/body/div/div/div/div[2]/div[2]/div[2]/div[2]/div/div[1]/div[7]/div[2]/div/div/a[1]/span')\n",
    "h = driver.find_element_by_xpath('/html/body/div/div/div/div[2]/div[2]/div[2]/div[2]/div/div[1]/div[8]/div[2]/div/div/a[1]/span')\n",
    "i = driver.find_element_by_xpath('/html/body/div/div/div/div[2]/div[2]/div[2]/div[2]/div/div[1]/div[9]/div[2]/div/div/a[1]/span')\n",
    "j = driver.find_element_by_xpath('/html/body/div/div/div/div[2]/div[2]/div[2]/div[2]/div/div[1]/div[10]/div[2]/div/div/a[1]/span')"
   ]
  },
  {
   "cell_type": "code",
   "execution_count": 19,
   "id": "f0ad4d75",
   "metadata": {},
   "outputs": [],
   "source": [
    "rating = [a.text, b.text, c.text, d.text, e.text, f.text, g.text, h.text, i.text, j.text]"
   ]
  },
  {
   "cell_type": "code",
   "execution_count": 20,
   "id": "048dfc1c",
   "metadata": {},
   "outputs": [
    {
     "data": {
      "text/plain": [
       "['4.1', '4.0', '4.0', '3.8', '4.0', '3.7', '4.0', '4.0', '4.0', '4.1']"
      ]
     },
     "execution_count": 20,
     "metadata": {},
     "output_type": "execute_result"
    }
   ],
   "source": [
    "rating"
   ]
  },
  {
   "cell_type": "code",
   "execution_count": 21,
   "id": "643ff6af",
   "metadata": {},
   "outputs": [
    {
     "data": {
      "text/plain": [
       "['LG Electronics India Pvt. Ltd.',\n",
       " 'GENPACT India Private Limited',\n",
       " 'GENPACT India Private Limited',\n",
       " 'NTT Data Business Solutions Pvt Ltd',\n",
       " 'GENPACT India Private Limited',\n",
       " 'Paytm',\n",
       " 'GI Group',\n",
       " 'GI Group',\n",
       " 'GI Group',\n",
       " 'Steria India Ltd']"
      ]
     },
     "execution_count": 21,
     "metadata": {},
     "output_type": "execute_result"
    }
   ],
   "source": [
    "company"
   ]
  },
  {
   "cell_type": "code",
   "execution_count": 25,
   "id": "bdd4c748",
   "metadata": {},
   "outputs": [
    {
     "name": "stderr",
     "output_type": "stream",
     "text": [
      "<ipython-input-25-2bce332047aa>:1: DeprecationWarning: find_element_by_* commands are deprecated. Please use find_element() instead\n",
      "  a = driver.find_element_by_xpath('/html/body/div/div/div/div[2]/div[2]/div[2]/div[2]/div/div[1]/div[1]/div[3]/span[1]')\n",
      "<ipython-input-25-2bce332047aa>:2: DeprecationWarning: find_element_by_* commands are deprecated. Please use find_element() instead\n",
      "  b = driver.find_element_by_xpath('/html/body/div/div/div/div[2]/div[2]/div[2]/div[2]/div/div[1]/div[2]/div[3]/span[1]')\n",
      "<ipython-input-25-2bce332047aa>:3: DeprecationWarning: find_element_by_* commands are deprecated. Please use find_element() instead\n",
      "  c = driver.find_element_by_xpath('/html/body/div/div/div/div[2]/div[2]/div[2]/div[2]/div/div[1]/div[3]/div[3]/span[1]')\n",
      "<ipython-input-25-2bce332047aa>:4: DeprecationWarning: find_element_by_* commands are deprecated. Please use find_element() instead\n",
      "  d = driver.find_element_by_xpath('/html/body/div/div/div/div[2]/div[2]/div[2]/div[2]/div/div[1]/div[4]/div[3]/span[1]')\n",
      "<ipython-input-25-2bce332047aa>:5: DeprecationWarning: find_element_by_* commands are deprecated. Please use find_element() instead\n",
      "  e = driver.find_element_by_xpath('/html/body/div/div/div/div[2]/div[2]/div[2]/div[2]/div/div[1]/div[5]/div[3]/span[1]')\n",
      "<ipython-input-25-2bce332047aa>:6: DeprecationWarning: find_element_by_* commands are deprecated. Please use find_element() instead\n",
      "  f = driver.find_element_by_xpath('/html/body/div/div/div/div[2]/div[2]/div[2]/div[2]/div/div[1]/div[6]/div[3]/span[1]')\n",
      "<ipython-input-25-2bce332047aa>:7: DeprecationWarning: find_element_by_* commands are deprecated. Please use find_element() instead\n",
      "  g = driver.find_element_by_xpath('/html/body/div/div/div/div[2]/div[2]/div[2]/div[2]/div/div[1]/div[7]/div[3]/span[1]')\n",
      "<ipython-input-25-2bce332047aa>:8: DeprecationWarning: find_element_by_* commands are deprecated. Please use find_element() instead\n",
      "  h = driver.find_element_by_xpath('/html/body/div/div/div/div[2]/div[2]/div[2]/div[2]/div/div[1]/div[8]/div[3]/span[1]')\n",
      "<ipython-input-25-2bce332047aa>:9: DeprecationWarning: find_element_by_* commands are deprecated. Please use find_element() instead\n",
      "  i = driver.find_element_by_xpath('/html/body/div/div/div/div[2]/div[2]/div[2]/div[2]/div/div[1]/div[9]/div[3]/span[1]')\n",
      "<ipython-input-25-2bce332047aa>:10: DeprecationWarning: find_element_by_* commands are deprecated. Please use find_element() instead\n",
      "  j = driver.find_element_by_xpath('/html/body/div/div/div/div[2]/div[2]/div[2]/div[2]/div/div[1]/div[10]/div[3]/span[1]')\n"
     ]
    }
   ],
   "source": [
    "a = driver.find_element_by_xpath('/html/body/div/div/div/div[2]/div[2]/div[2]/div[2]/div/div[1]/div[1]/div[3]/span[1]')\n",
    "b = driver.find_element_by_xpath('/html/body/div/div/div/div[2]/div[2]/div[2]/div[2]/div/div[1]/div[2]/div[3]/span[1]')\n",
    "c = driver.find_element_by_xpath('/html/body/div/div/div/div[2]/div[2]/div[2]/div[2]/div/div[1]/div[3]/div[3]/span[1]')\n",
    "d = driver.find_element_by_xpath('/html/body/div/div/div/div[2]/div[2]/div[2]/div[2]/div/div[1]/div[4]/div[3]/span[1]')\n",
    "e = driver.find_element_by_xpath('/html/body/div/div/div/div[2]/div[2]/div[2]/div[2]/div/div[1]/div[5]/div[3]/span[1]')\n",
    "f = driver.find_element_by_xpath('/html/body/div/div/div/div[2]/div[2]/div[2]/div[2]/div/div[1]/div[6]/div[3]/span[1]')\n",
    "g = driver.find_element_by_xpath('/html/body/div/div/div/div[2]/div[2]/div[2]/div[2]/div/div[1]/div[7]/div[3]/span[1]')\n",
    "h = driver.find_element_by_xpath('/html/body/div/div/div/div[2]/div[2]/div[2]/div[2]/div/div[1]/div[8]/div[3]/span[1]')\n",
    "i = driver.find_element_by_xpath('/html/body/div/div/div/div[2]/div[2]/div[2]/div[2]/div/div[1]/div[9]/div[3]/span[1]')\n",
    "j = driver.find_element_by_xpath('/html/body/div/div/div/div[2]/div[2]/div[2]/div[2]/div/div[1]/div[10]/div[3]/span[1]')"
   ]
  },
  {
   "cell_type": "code",
   "execution_count": 26,
   "id": "81365fac",
   "metadata": {},
   "outputs": [],
   "source": [
    "time = [a.text, b.text, c.text, d.text, e.text, f.text, g.text, h.text, i.text, j.text]"
   ]
  },
  {
   "cell_type": "code",
   "execution_count": 27,
   "id": "cec184ad",
   "metadata": {},
   "outputs": [
    {
     "data": {
      "text/plain": [
       "['7d ago',\n",
       " '14d ago',\n",
       " '14d ago',\n",
       " '15d ago',\n",
       " '16d ago',\n",
       " '20hr ago',\n",
       " '9hr ago',\n",
       " '9hr ago',\n",
       " '9hr ago',\n",
       " '1mon ago']"
      ]
     },
     "execution_count": 27,
     "metadata": {},
     "output_type": "execute_result"
    }
   ],
   "source": [
    "time"
   ]
  },
  {
   "cell_type": "code",
   "execution_count": 28,
   "id": "525f9838",
   "metadata": {},
   "outputs": [
    {
     "data": {
      "text/html": [
       "<div>\n",
       "<style scoped>\n",
       "    .dataframe tbody tr th:only-of-type {\n",
       "        vertical-align: middle;\n",
       "    }\n",
       "\n",
       "    .dataframe tbody tr th {\n",
       "        vertical-align: top;\n",
       "    }\n",
       "\n",
       "    .dataframe thead th {\n",
       "        text-align: right;\n",
       "    }\n",
       "</style>\n",
       "<table border=\"1\" class=\"dataframe\">\n",
       "  <thead>\n",
       "    <tr style=\"text-align: right;\">\n",
       "      <th></th>\n",
       "      <th>Company Name</th>\n",
       "      <th>Rating</th>\n",
       "      <th>Job posted Days ago</th>\n",
       "    </tr>\n",
       "  </thead>\n",
       "  <tbody>\n",
       "    <tr>\n",
       "      <th>0</th>\n",
       "      <td>LG Electronics India Pvt. Ltd.</td>\n",
       "      <td>4.1</td>\n",
       "      <td>7d ago</td>\n",
       "    </tr>\n",
       "    <tr>\n",
       "      <th>1</th>\n",
       "      <td>GENPACT India Private Limited</td>\n",
       "      <td>4.0</td>\n",
       "      <td>14d ago</td>\n",
       "    </tr>\n",
       "    <tr>\n",
       "      <th>2</th>\n",
       "      <td>GENPACT India Private Limited</td>\n",
       "      <td>4.0</td>\n",
       "      <td>14d ago</td>\n",
       "    </tr>\n",
       "    <tr>\n",
       "      <th>3</th>\n",
       "      <td>NTT Data Business Solutions Pvt Ltd</td>\n",
       "      <td>3.8</td>\n",
       "      <td>15d ago</td>\n",
       "    </tr>\n",
       "    <tr>\n",
       "      <th>4</th>\n",
       "      <td>GENPACT India Private Limited</td>\n",
       "      <td>4.0</td>\n",
       "      <td>16d ago</td>\n",
       "    </tr>\n",
       "    <tr>\n",
       "      <th>5</th>\n",
       "      <td>Paytm</td>\n",
       "      <td>3.7</td>\n",
       "      <td>20hr ago</td>\n",
       "    </tr>\n",
       "    <tr>\n",
       "      <th>6</th>\n",
       "      <td>GI Group</td>\n",
       "      <td>4.0</td>\n",
       "      <td>9hr ago</td>\n",
       "    </tr>\n",
       "    <tr>\n",
       "      <th>7</th>\n",
       "      <td>GI Group</td>\n",
       "      <td>4.0</td>\n",
       "      <td>9hr ago</td>\n",
       "    </tr>\n",
       "    <tr>\n",
       "      <th>8</th>\n",
       "      <td>GI Group</td>\n",
       "      <td>4.0</td>\n",
       "      <td>9hr ago</td>\n",
       "    </tr>\n",
       "    <tr>\n",
       "      <th>9</th>\n",
       "      <td>Steria India Ltd</td>\n",
       "      <td>4.1</td>\n",
       "      <td>1mon ago</td>\n",
       "    </tr>\n",
       "  </tbody>\n",
       "</table>\n",
       "</div>"
      ],
      "text/plain": [
       "                          Company Name Rating Job posted Days ago\n",
       "0       LG Electronics India Pvt. Ltd.    4.1              7d ago\n",
       "1        GENPACT India Private Limited    4.0             14d ago\n",
       "2        GENPACT India Private Limited    4.0             14d ago\n",
       "3  NTT Data Business Solutions Pvt Ltd    3.8             15d ago\n",
       "4        GENPACT India Private Limited    4.0             16d ago\n",
       "5                                Paytm    3.7            20hr ago\n",
       "6                             GI Group    4.0             9hr ago\n",
       "7                             GI Group    4.0             9hr ago\n",
       "8                             GI Group    4.0             9hr ago\n",
       "9                     Steria India Ltd    4.1            1mon ago"
      ]
     },
     "execution_count": 28,
     "metadata": {},
     "output_type": "execute_result"
    }
   ],
   "source": [
    "job_detail = pd.DataFrame({'Company Name': company, 'Rating': rating, 'Job posted Days ago': time})\n",
    "job_detail"
   ]
  },
  {
   "cell_type": "markdown",
   "id": "5acee958",
   "metadata": {},
   "source": [
    "Ans 10. - Python program scrape the data for 'Data Scientist' job on the basis of the salary from ambitionbox.com webpage using selenium."
   ]
  },
  {
   "cell_type": "code",
   "execution_count": 29,
   "id": "e5a0730c",
   "metadata": {},
   "outputs": [],
   "source": [
    "driver.get('https://www.ambitionbox.com/')"
   ]
  },
  {
   "cell_type": "code",
   "execution_count": 30,
   "id": "a96a4234",
   "metadata": {},
   "outputs": [
    {
     "name": "stderr",
     "output_type": "stream",
     "text": [
      "<ipython-input-30-0f43814f4d72>:1: DeprecationWarning: find_element_by_* commands are deprecated. Please use find_element() instead\n",
      "  se_salary = driver.find_element_by_xpath('/html/body/div[1]/nav/nav/a[4]')\n"
     ]
    }
   ],
   "source": [
    "se_salary = driver.find_element_by_xpath('/html/body/div[1]/nav/nav/a[4]')"
   ]
  },
  {
   "cell_type": "code",
   "execution_count": 31,
   "id": "f67afa9a",
   "metadata": {},
   "outputs": [],
   "source": [
    "se_salary.click()"
   ]
  },
  {
   "cell_type": "code",
   "execution_count": 32,
   "id": "04711661",
   "metadata": {},
   "outputs": [
    {
     "name": "stderr",
     "output_type": "stream",
     "text": [
      "<ipython-input-32-70c9316bfc0c>:1: DeprecationWarning: find_element_by_* commands are deprecated. Please use find_element() instead\n",
      "  se_bar = driver.find_element_by_id('jobProfileSearchbox')\n"
     ]
    }
   ],
   "source": [
    "se_bar = driver.find_element_by_id('jobProfileSearchbox')"
   ]
  },
  {
   "cell_type": "code",
   "execution_count": 33,
   "id": "7f2fd8d8",
   "metadata": {},
   "outputs": [],
   "source": [
    "se_bar.send_keys('Data Scientist')"
   ]
  },
  {
   "cell_type": "code",
   "execution_count": 34,
   "id": "a5920780",
   "metadata": {},
   "outputs": [
    {
     "name": "stderr",
     "output_type": "stream",
     "text": [
      "<ipython-input-34-19a0a05288c8>:1: DeprecationWarning: find_element_by_* commands are deprecated. Please use find_element() instead\n",
      "  se_btn = driver.find_element_by_xpath('/html/body/div/div/div/main/section[1]/div[2]/div[1]/i[1]')\n"
     ]
    }
   ],
   "source": [
    "se_btn = driver.find_element_by_xpath('/html/body/div/div/div/main/section[1]/div[2]/div[1]/i[1]')"
   ]
  },
  {
   "cell_type": "code",
   "execution_count": 36,
   "id": "8d55f311",
   "metadata": {},
   "outputs": [],
   "source": [
    "se_btn.click()"
   ]
  },
  {
   "cell_type": "code",
   "execution_count": 37,
   "id": "ba10def2",
   "metadata": {},
   "outputs": [
    {
     "name": "stderr",
     "output_type": "stream",
     "text": [
      "<ipython-input-37-08b61036c104>:1: DeprecationWarning: find_element_by_* commands are deprecated. Please use find_element() instead\n",
      "  a = driver.find_element_by_xpath('/html/body/div/div/div/main/section[1]/div[2]/div[3]/div[2]/div[1]/div[1]/div/div/div[1]/a')\n",
      "<ipython-input-37-08b61036c104>:2: DeprecationWarning: find_element_by_* commands are deprecated. Please use find_element() instead\n",
      "  b = driver.find_element_by_xpath('/html/body/div/div/div/main/section[1]/div[2]/div[3]/div[2]/div[2]/div[1]/div/div/div[1]/a')\n",
      "<ipython-input-37-08b61036c104>:3: DeprecationWarning: find_element_by_* commands are deprecated. Please use find_element() instead\n",
      "  c = driver.find_element_by_xpath('/html/body/div/div/div/main/section[1]/div[2]/div[3]/div[2]/div[3]/div[1]/div/div/div[1]/a')\n",
      "<ipython-input-37-08b61036c104>:4: DeprecationWarning: find_element_by_* commands are deprecated. Please use find_element() instead\n",
      "  d = driver.find_element_by_xpath('/html/body/div/div/div/main/section[1]/div[2]/div[3]/div[2]/div[4]/div[1]/div/div/div[1]/a')\n",
      "<ipython-input-37-08b61036c104>:5: DeprecationWarning: find_element_by_* commands are deprecated. Please use find_element() instead\n",
      "  e = driver.find_element_by_xpath('/html/body/div/div/div/main/section[1]/div[2]/div[3]/div[2]/div[5]/div[1]/div/div/div[1]/a')\n",
      "<ipython-input-37-08b61036c104>:6: DeprecationWarning: find_element_by_* commands are deprecated. Please use find_element() instead\n",
      "  f = driver.find_element_by_xpath('/html/body/div/div/div/main/section[1]/div[2]/div[3]/div[2]/div[6]/div[1]/div/div/div[1]/a')\n",
      "<ipython-input-37-08b61036c104>:7: DeprecationWarning: find_element_by_* commands are deprecated. Please use find_element() instead\n",
      "  g = driver.find_element_by_xpath('/html/body/div/div/div/main/section[1]/div[2]/div[3]/div[2]/div[7]/div[1]/div/div/div[1]/a')\n",
      "<ipython-input-37-08b61036c104>:8: DeprecationWarning: find_element_by_* commands are deprecated. Please use find_element() instead\n",
      "  h = driver.find_element_by_xpath('/html/body/div/div/div/main/section[1]/div[2]/div[3]/div[2]/div[8]/div[1]/div/div/div[1]/a')\n",
      "<ipython-input-37-08b61036c104>:9: DeprecationWarning: find_element_by_* commands are deprecated. Please use find_element() instead\n",
      "  i = driver.find_element_by_xpath('/html/body/div/div/div/main/section[1]/div[2]/div[3]/div[2]/div[9]/div[1]/div/div/div[1]/a')\n",
      "<ipython-input-37-08b61036c104>:10: DeprecationWarning: find_element_by_* commands are deprecated. Please use find_element() instead\n",
      "  j = driver.find_element_by_xpath('/html/body/div/div/div/main/section[1]/div[2]/div[3]/div[2]/div[10]/div[1]/div/div/div[1]/a')\n"
     ]
    }
   ],
   "source": [
    "a = driver.find_element_by_xpath('/html/body/div/div/div/main/section[1]/div[2]/div[3]/div[2]/div[1]/div[1]/div/div/div[1]/a')\n",
    "b = driver.find_element_by_xpath('/html/body/div/div/div/main/section[1]/div[2]/div[3]/div[2]/div[2]/div[1]/div/div/div[1]/a')\n",
    "c = driver.find_element_by_xpath('/html/body/div/div/div/main/section[1]/div[2]/div[3]/div[2]/div[3]/div[1]/div/div/div[1]/a')\n",
    "d = driver.find_element_by_xpath('/html/body/div/div/div/main/section[1]/div[2]/div[3]/div[2]/div[4]/div[1]/div/div/div[1]/a')\n",
    "e = driver.find_element_by_xpath('/html/body/div/div/div/main/section[1]/div[2]/div[3]/div[2]/div[5]/div[1]/div/div/div[1]/a')\n",
    "f = driver.find_element_by_xpath('/html/body/div/div/div/main/section[1]/div[2]/div[3]/div[2]/div[6]/div[1]/div/div/div[1]/a')\n",
    "g = driver.find_element_by_xpath('/html/body/div/div/div/main/section[1]/div[2]/div[3]/div[2]/div[7]/div[1]/div/div/div[1]/a')\n",
    "h = driver.find_element_by_xpath('/html/body/div/div/div/main/section[1]/div[2]/div[3]/div[2]/div[8]/div[1]/div/div/div[1]/a')\n",
    "i = driver.find_element_by_xpath('/html/body/div/div/div/main/section[1]/div[2]/div[3]/div[2]/div[9]/div[1]/div/div/div[1]/a')\n",
    "j = driver.find_element_by_xpath('/html/body/div/div/div/main/section[1]/div[2]/div[3]/div[2]/div[10]/div[1]/div/div/div[1]/a')"
   ]
  },
  {
   "cell_type": "code",
   "execution_count": 38,
   "id": "0d662ee7",
   "metadata": {},
   "outputs": [],
   "source": [
    "company = [a.text, b.text, c.text, d.text, e.text, f.text, g.text, h.text, i.text, j.text]"
   ]
  },
  {
   "cell_type": "code",
   "execution_count": 39,
   "id": "aa842698",
   "metadata": {},
   "outputs": [
    {
     "data": {
      "text/plain": [
       "['Ab Inbev',\n",
       " 'ZS',\n",
       " 'Optum',\n",
       " 'Fractal Analytics',\n",
       " 'UnitedHealth',\n",
       " 'Tiger Analytics',\n",
       " 'Verizon',\n",
       " 'Ganit Business Solutions',\n",
       " 'Ericsson',\n",
       " 'Deloitte']"
      ]
     },
     "execution_count": 39,
     "metadata": {},
     "output_type": "execute_result"
    }
   ],
   "source": [
    "company"
   ]
  },
  {
   "cell_type": "code",
   "execution_count": 40,
   "id": "5d8730dd",
   "metadata": {},
   "outputs": [
    {
     "name": "stderr",
     "output_type": "stream",
     "text": [
      "<ipython-input-40-fc180faede7e>:1: DeprecationWarning: find_element_by_* commands are deprecated. Please use find_element() instead\n",
      "  a = driver.find_element_by_xpath('/html/body/div/div/div/main/section[1]/div[2]/div[3]/div[2]/div[1]/div[1]/div/div/div[1]/span')\n",
      "<ipython-input-40-fc180faede7e>:2: DeprecationWarning: find_element_by_* commands are deprecated. Please use find_element() instead\n",
      "  b = driver.find_element_by_xpath('/html/body/div/div/div/main/section[1]/div[2]/div[3]/div[2]/div[2]/div[1]/div/div/div[1]/span')\n",
      "<ipython-input-40-fc180faede7e>:3: DeprecationWarning: find_element_by_* commands are deprecated. Please use find_element() instead\n",
      "  c = driver.find_element_by_xpath('/html/body/div/div/div/main/section[1]/div[2]/div[3]/div[2]/div[3]/div[1]/div/div/div[1]/span')\n",
      "<ipython-input-40-fc180faede7e>:4: DeprecationWarning: find_element_by_* commands are deprecated. Please use find_element() instead\n",
      "  d = driver.find_element_by_xpath('/html/body/div/div/div/main/section[1]/div[2]/div[3]/div[2]/div[4]/div[1]/div/div/div[1]/span')\n",
      "<ipython-input-40-fc180faede7e>:5: DeprecationWarning: find_element_by_* commands are deprecated. Please use find_element() instead\n",
      "  e = driver.find_element_by_xpath('/html/body/div/div/div/main/section[1]/div[2]/div[3]/div[2]/div[5]/div[1]/div/div/div[1]/span')\n",
      "<ipython-input-40-fc180faede7e>:6: DeprecationWarning: find_element_by_* commands are deprecated. Please use find_element() instead\n",
      "  f = driver.find_element_by_xpath('/html/body/div/div/div/main/section[1]/div[2]/div[3]/div[2]/div[6]/div[1]/div/div/div[1]/span')\n",
      "<ipython-input-40-fc180faede7e>:7: DeprecationWarning: find_element_by_* commands are deprecated. Please use find_element() instead\n",
      "  g = driver.find_element_by_xpath('/html/body/div/div/div/main/section[1]/div[2]/div[3]/div[2]/div[7]/div[1]/div/div/div[1]/span')\n",
      "<ipython-input-40-fc180faede7e>:8: DeprecationWarning: find_element_by_* commands are deprecated. Please use find_element() instead\n",
      "  h = driver.find_element_by_xpath('/html/body/div/div/div/main/section[1]/div[2]/div[3]/div[2]/div[8]/div[1]/div/div/div[1]/span')\n",
      "<ipython-input-40-fc180faede7e>:9: DeprecationWarning: find_element_by_* commands are deprecated. Please use find_element() instead\n",
      "  i = driver.find_element_by_xpath('/html/body/div/div/div/main/section[1]/div[2]/div[3]/div[2]/div[9]/div[1]/div/div/div[1]/span')\n",
      "<ipython-input-40-fc180faede7e>:10: DeprecationWarning: find_element_by_* commands are deprecated. Please use find_element() instead\n",
      "  j = driver.find_element_by_xpath('/html/body/div/div/div/main/section[1]/div[2]/div[3]/div[2]/div[10]/div[1]/div/div/div[1]/span')\n"
     ]
    }
   ],
   "source": [
    "a = driver.find_element_by_xpath('/html/body/div/div/div/main/section[1]/div[2]/div[3]/div[2]/div[1]/div[1]/div/div/div[1]/span')\n",
    "b = driver.find_element_by_xpath('/html/body/div/div/div/main/section[1]/div[2]/div[3]/div[2]/div[2]/div[1]/div/div/div[1]/span')\n",
    "c = driver.find_element_by_xpath('/html/body/div/div/div/main/section[1]/div[2]/div[3]/div[2]/div[3]/div[1]/div/div/div[1]/span')\n",
    "d = driver.find_element_by_xpath('/html/body/div/div/div/main/section[1]/div[2]/div[3]/div[2]/div[4]/div[1]/div/div/div[1]/span')\n",
    "e = driver.find_element_by_xpath('/html/body/div/div/div/main/section[1]/div[2]/div[3]/div[2]/div[5]/div[1]/div/div/div[1]/span')\n",
    "f = driver.find_element_by_xpath('/html/body/div/div/div/main/section[1]/div[2]/div[3]/div[2]/div[6]/div[1]/div/div/div[1]/span')\n",
    "g = driver.find_element_by_xpath('/html/body/div/div/div/main/section[1]/div[2]/div[3]/div[2]/div[7]/div[1]/div/div/div[1]/span')\n",
    "h = driver.find_element_by_xpath('/html/body/div/div/div/main/section[1]/div[2]/div[3]/div[2]/div[8]/div[1]/div/div/div[1]/span')\n",
    "i = driver.find_element_by_xpath('/html/body/div/div/div/main/section[1]/div[2]/div[3]/div[2]/div[9]/div[1]/div/div/div[1]/span')\n",
    "j = driver.find_element_by_xpath('/html/body/div/div/div/main/section[1]/div[2]/div[3]/div[2]/div[10]/div[1]/div/div/div[1]/span')"
   ]
  },
  {
   "cell_type": "code",
   "execution_count": 41,
   "id": "b6eec7a7",
   "metadata": {},
   "outputs": [],
   "source": [
    "record = [a.text, b.text, c.text, d.text, e.text, f.text, g.text, h.text, i.text, j.text]"
   ]
  },
  {
   "cell_type": "code",
   "execution_count": 42,
   "id": "81305196",
   "metadata": {},
   "outputs": [
    {
     "data": {
      "text/plain": [
       "['based on 20 salaries',\n",
       " 'based on 12 salaries',\n",
       " 'based on 23 salaries',\n",
       " 'based on 66 salaries',\n",
       " 'based on 47 salaries',\n",
       " 'based on 26 salaries',\n",
       " 'based on 14 salaries',\n",
       " 'based on 13 salaries',\n",
       " 'based on 42 salaries',\n",
       " 'based on 49 salaries']"
      ]
     },
     "execution_count": 42,
     "metadata": {},
     "output_type": "execute_result"
    }
   ],
   "source": [
    "record"
   ]
  },
  {
   "cell_type": "code",
   "execution_count": 43,
   "id": "bdc3d804",
   "metadata": {},
   "outputs": [
    {
     "name": "stderr",
     "output_type": "stream",
     "text": [
      "<ipython-input-43-b2dd99c97cd6>:1: DeprecationWarning: find_element_by_* commands are deprecated. Please use find_element() instead\n",
      "  a = driver.find_element_by_xpath('/html/body/div/div/div/main/section[1]/div[2]/div[3]/div[2]/div[1]/div[2]/div/div[2]/div[1]')\n",
      "<ipython-input-43-b2dd99c97cd6>:2: DeprecationWarning: find_element_by_* commands are deprecated. Please use find_element() instead\n",
      "  b = driver.find_element_by_xpath('/html/body/div/div/div/main/section[1]/div[2]/div[3]/div[2]/div[2]/div[2]/div/div[2]/div[1]')\n",
      "<ipython-input-43-b2dd99c97cd6>:3: DeprecationWarning: find_element_by_* commands are deprecated. Please use find_element() instead\n",
      "  c = driver.find_element_by_xpath('/html/body/div/div/div/main/section[1]/div[2]/div[3]/div[2]/div[3]/div[2]/div/div[2]/div[1]')\n",
      "<ipython-input-43-b2dd99c97cd6>:4: DeprecationWarning: find_element_by_* commands are deprecated. Please use find_element() instead\n",
      "  d = driver.find_element_by_xpath('/html/body/div/div/div/main/section[1]/div[2]/div[3]/div[2]/div[3]/div[2]/div/div[2]/div[1]')\n",
      "<ipython-input-43-b2dd99c97cd6>:5: DeprecationWarning: find_element_by_* commands are deprecated. Please use find_element() instead\n",
      "  e = driver.find_element_by_xpath('/html/body/div/div/div/main/section[1]/div[2]/div[3]/div[2]/div[5]/div[2]/div/div[2]/div[1]')\n",
      "<ipython-input-43-b2dd99c97cd6>:6: DeprecationWarning: find_element_by_* commands are deprecated. Please use find_element() instead\n",
      "  f = driver.find_element_by_xpath('/html/body/div/div/div/main/section[1]/div[2]/div[3]/div[2]/div[6]/div[2]/div/div[2]/div[1]')\n",
      "<ipython-input-43-b2dd99c97cd6>:7: DeprecationWarning: find_element_by_* commands are deprecated. Please use find_element() instead\n",
      "  g = driver.find_element_by_xpath('/html/body/div/div/div/main/section[1]/div[2]/div[3]/div[2]/div[7]/div[2]/div/div[2]/div[1]')\n",
      "<ipython-input-43-b2dd99c97cd6>:8: DeprecationWarning: find_element_by_* commands are deprecated. Please use find_element() instead\n",
      "  h = driver.find_element_by_xpath('/html/body/div/div/div/main/section[1]/div[2]/div[3]/div[2]/div[8]/div[2]/div/div[2]/div[1]')\n",
      "<ipython-input-43-b2dd99c97cd6>:9: DeprecationWarning: find_element_by_* commands are deprecated. Please use find_element() instead\n",
      "  i = driver.find_element_by_xpath('/html/body/div/div/div/main/section[1]/div[2]/div[3]/div[2]/div[9]/div[2]/div/div[2]/div[1]')\n",
      "<ipython-input-43-b2dd99c97cd6>:10: DeprecationWarning: find_element_by_* commands are deprecated. Please use find_element() instead\n",
      "  j = driver.find_element_by_xpath('/html/body/div/div/div/main/section[1]/div[2]/div[3]/div[2]/div[10]/div[2]/div/div[2]/div[1]')\n"
     ]
    }
   ],
   "source": [
    "a = driver.find_element_by_xpath('/html/body/div/div/div/main/section[1]/div[2]/div[3]/div[2]/div[1]/div[2]/div/div[2]/div[1]')\n",
    "b = driver.find_element_by_xpath('/html/body/div/div/div/main/section[1]/div[2]/div[3]/div[2]/div[2]/div[2]/div/div[2]/div[1]')\n",
    "c = driver.find_element_by_xpath('/html/body/div/div/div/main/section[1]/div[2]/div[3]/div[2]/div[3]/div[2]/div/div[2]/div[1]')\n",
    "d = driver.find_element_by_xpath('/html/body/div/div/div/main/section[1]/div[2]/div[3]/div[2]/div[3]/div[2]/div/div[2]/div[1]')\n",
    "e = driver.find_element_by_xpath('/html/body/div/div/div/main/section[1]/div[2]/div[3]/div[2]/div[5]/div[2]/div/div[2]/div[1]')\n",
    "f = driver.find_element_by_xpath('/html/body/div/div/div/main/section[1]/div[2]/div[3]/div[2]/div[6]/div[2]/div/div[2]/div[1]')\n",
    "g = driver.find_element_by_xpath('/html/body/div/div/div/main/section[1]/div[2]/div[3]/div[2]/div[7]/div[2]/div/div[2]/div[1]')\n",
    "h = driver.find_element_by_xpath('/html/body/div/div/div/main/section[1]/div[2]/div[3]/div[2]/div[8]/div[2]/div/div[2]/div[1]')\n",
    "i = driver.find_element_by_xpath('/html/body/div/div/div/main/section[1]/div[2]/div[3]/div[2]/div[9]/div[2]/div/div[2]/div[1]')\n",
    "j = driver.find_element_by_xpath('/html/body/div/div/div/main/section[1]/div[2]/div[3]/div[2]/div[10]/div[2]/div/div[2]/div[1]')"
   ]
  },
  {
   "cell_type": "code",
   "execution_count": 44,
   "id": "3484b3f5",
   "metadata": {},
   "outputs": [],
   "source": [
    "min_salary = [a.text, b.text, c.text, d.text, e.text, f.text, g.text, h.text, i.text, j.text]"
   ]
  },
  {
   "cell_type": "code",
   "execution_count": 45,
   "id": "529225a1",
   "metadata": {},
   "outputs": [
    {
     "data": {
      "text/plain": [
       "['₹ 15.0L',\n",
       " '₹ 9.8L',\n",
       " '₹ 11.0L',\n",
       " '₹ 11.0L',\n",
       " '₹ 7.2L',\n",
       " '₹ 8.3L',\n",
       " '₹ 10.0L',\n",
       " '₹ 8.5L',\n",
       " '₹ 5.2L',\n",
       " '₹ 6.8L']"
      ]
     },
     "execution_count": 45,
     "metadata": {},
     "output_type": "execute_result"
    }
   ],
   "source": [
    "min_salary"
   ]
  },
  {
   "cell_type": "code",
   "execution_count": 46,
   "id": "2a06c001",
   "metadata": {},
   "outputs": [
    {
     "name": "stderr",
     "output_type": "stream",
     "text": [
      "<ipython-input-46-97483dac4527>:1: DeprecationWarning: find_element_by_* commands are deprecated. Please use find_element() instead\n",
      "  a = driver.find_element_by_xpath('/html/body/div/div/div/main/section[1]/div[2]/div[3]/div[2]/div[1]/div[2]/div/div[2]/div[2]')\n",
      "<ipython-input-46-97483dac4527>:2: DeprecationWarning: find_element_by_* commands are deprecated. Please use find_element() instead\n",
      "  b = driver.find_element_by_xpath('/html/body/div/div/div/main/section[1]/div[2]/div[3]/div[2]/div[2]/div[2]/div/div[2]/div[2]')\n",
      "<ipython-input-46-97483dac4527>:3: DeprecationWarning: find_element_by_* commands are deprecated. Please use find_element() instead\n",
      "  c = driver.find_element_by_xpath('/html/body/div/div/div/main/section[1]/div[2]/div[3]/div[2]/div[3]/div[2]/div/div[2]/div[2]')\n",
      "<ipython-input-46-97483dac4527>:4: DeprecationWarning: find_element_by_* commands are deprecated. Please use find_element() instead\n",
      "  d = driver.find_element_by_xpath('/html/body/div/div/div/main/section[1]/div[2]/div[3]/div[2]/div[4]/div[2]/div/div[2]/div[2]')\n",
      "<ipython-input-46-97483dac4527>:5: DeprecationWarning: find_element_by_* commands are deprecated. Please use find_element() instead\n",
      "  e = driver.find_element_by_xpath('/html/body/div/div/div/main/section[1]/div[2]/div[3]/div[2]/div[5]/div[2]/div/div[2]/div[2]')\n",
      "<ipython-input-46-97483dac4527>:6: DeprecationWarning: find_element_by_* commands are deprecated. Please use find_element() instead\n",
      "  f = driver.find_element_by_xpath('/html/body/div/div/div/main/section[1]/div[2]/div[3]/div[2]/div[6]/div[2]/div/div[2]/div[2]')\n",
      "<ipython-input-46-97483dac4527>:7: DeprecationWarning: find_element_by_* commands are deprecated. Please use find_element() instead\n",
      "  g = driver.find_element_by_xpath('/html/body/div/div/div/main/section[1]/div[2]/div[3]/div[2]/div[7]/div[2]/div/div[2]/div[2]')\n",
      "<ipython-input-46-97483dac4527>:8: DeprecationWarning: find_element_by_* commands are deprecated. Please use find_element() instead\n",
      "  h = driver.find_element_by_xpath('/html/body/div/div/div/main/section[1]/div[2]/div[3]/div[2]/div[8]/div[2]/div/div[2]/div[2]')\n",
      "<ipython-input-46-97483dac4527>:9: DeprecationWarning: find_element_by_* commands are deprecated. Please use find_element() instead\n",
      "  i = driver.find_element_by_xpath('/html/body/div/div/div/main/section[1]/div[2]/div[3]/div[2]/div[8]/div[2]/div/div[2]/div[2]')\n",
      "<ipython-input-46-97483dac4527>:10: DeprecationWarning: find_element_by_* commands are deprecated. Please use find_element() instead\n",
      "  j = driver.find_element_by_xpath('/html/body/div/div/div/main/section[1]/div[2]/div[3]/div[2]/div[10]/div[2]/div/div[2]/div[2]')\n"
     ]
    }
   ],
   "source": [
    "a = driver.find_element_by_xpath('/html/body/div/div/div/main/section[1]/div[2]/div[3]/div[2]/div[1]/div[2]/div/div[2]/div[2]')\n",
    "b = driver.find_element_by_xpath('/html/body/div/div/div/main/section[1]/div[2]/div[3]/div[2]/div[2]/div[2]/div/div[2]/div[2]')\n",
    "c = driver.find_element_by_xpath('/html/body/div/div/div/main/section[1]/div[2]/div[3]/div[2]/div[3]/div[2]/div/div[2]/div[2]')\n",
    "d = driver.find_element_by_xpath('/html/body/div/div/div/main/section[1]/div[2]/div[3]/div[2]/div[4]/div[2]/div/div[2]/div[2]')\n",
    "e = driver.find_element_by_xpath('/html/body/div/div/div/main/section[1]/div[2]/div[3]/div[2]/div[5]/div[2]/div/div[2]/div[2]')\n",
    "f = driver.find_element_by_xpath('/html/body/div/div/div/main/section[1]/div[2]/div[3]/div[2]/div[6]/div[2]/div/div[2]/div[2]')\n",
    "g = driver.find_element_by_xpath('/html/body/div/div/div/main/section[1]/div[2]/div[3]/div[2]/div[7]/div[2]/div/div[2]/div[2]')\n",
    "h = driver.find_element_by_xpath('/html/body/div/div/div/main/section[1]/div[2]/div[3]/div[2]/div[8]/div[2]/div/div[2]/div[2]')\n",
    "i = driver.find_element_by_xpath('/html/body/div/div/div/main/section[1]/div[2]/div[3]/div[2]/div[8]/div[2]/div/div[2]/div[2]')\n",
    "j = driver.find_element_by_xpath('/html/body/div/div/div/main/section[1]/div[2]/div[3]/div[2]/div[10]/div[2]/div/div[2]/div[2]')"
   ]
  },
  {
   "cell_type": "code",
   "execution_count": 47,
   "id": "f2379dae",
   "metadata": {},
   "outputs": [],
   "source": [
    "max_salary = [a.text, b.text, c.text, d.text, e.text, f.text, g.text, h.text, i.text, j.text]"
   ]
  },
  {
   "cell_type": "code",
   "execution_count": 48,
   "id": "a03917a6",
   "metadata": {},
   "outputs": [
    {
     "data": {
      "text/plain": [
       "['₹ 23.0L',\n",
       " '₹ 19.5L',\n",
       " '₹ 21.3L',\n",
       " '₹ 22.0L',\n",
       " '₹ 20.5L',\n",
       " '₹ 18.5L',\n",
       " '₹ 21.0L',\n",
       " '₹ 15.0L',\n",
       " '₹ 15.0L',\n",
       " '₹ 20.5L']"
      ]
     },
     "execution_count": 48,
     "metadata": {},
     "output_type": "execute_result"
    }
   ],
   "source": [
    "max_salary"
   ]
  },
  {
   "cell_type": "code",
   "execution_count": 49,
   "id": "424751fd",
   "metadata": {},
   "outputs": [
    {
     "name": "stderr",
     "output_type": "stream",
     "text": [
      "<ipython-input-49-6fdd11d4604a>:1: DeprecationWarning: find_element_by_* commands are deprecated. Please use find_element() instead\n",
      "  a = driver.find_element_by_xpath('/html/body/div/div/div/main/section[1]/div[2]/div[3]/div[2]/div[1]/div[2]/div/div[1]/div/p')\n",
      "<ipython-input-49-6fdd11d4604a>:2: DeprecationWarning: find_element_by_* commands are deprecated. Please use find_element() instead\n",
      "  b = driver.find_element_by_xpath('/html/body/div/div/div/main/section[1]/div[2]/div[3]/div[2]/div[2]/div[2]/div/div[1]/div/p')\n",
      "<ipython-input-49-6fdd11d4604a>:3: DeprecationWarning: find_element_by_* commands are deprecated. Please use find_element() instead\n",
      "  c = driver.find_element_by_xpath('/html/body/div/div/div/main/section[1]/div[2]/div[3]/div[2]/div[3]/div[2]/div/div[1]/div/p')\n",
      "<ipython-input-49-6fdd11d4604a>:4: DeprecationWarning: find_element_by_* commands are deprecated. Please use find_element() instead\n",
      "  d = driver.find_element_by_xpath('/html/body/div/div/div/main/section[1]/div[2]/div[3]/div[2]/div[4]/div[2]/div/div[1]/div/p')\n",
      "<ipython-input-49-6fdd11d4604a>:5: DeprecationWarning: find_element_by_* commands are deprecated. Please use find_element() instead\n",
      "  e = driver.find_element_by_xpath('/html/body/div/div/div/main/section[1]/div[2]/div[3]/div[2]/div[5]/div[2]/div/div[1]/div/p')\n",
      "<ipython-input-49-6fdd11d4604a>:6: DeprecationWarning: find_element_by_* commands are deprecated. Please use find_element() instead\n",
      "  f = driver.find_element_by_xpath('/html/body/div/div/div/main/section[1]/div[2]/div[3]/div[2]/div[6]/div[2]/div/div[1]/div/p')\n",
      "<ipython-input-49-6fdd11d4604a>:7: DeprecationWarning: find_element_by_* commands are deprecated. Please use find_element() instead\n",
      "  g = driver.find_element_by_xpath('/html/body/div/div/div/main/section[1]/div[2]/div[3]/div[2]/div[7]/div[2]/div/div[1]/div/p')\n",
      "<ipython-input-49-6fdd11d4604a>:8: DeprecationWarning: find_element_by_* commands are deprecated. Please use find_element() instead\n",
      "  h = driver.find_element_by_xpath('/html/body/div/div/div/main/section[1]/div[2]/div[3]/div[2]/div[8]/div[2]/div/div[1]/div/p')\n",
      "<ipython-input-49-6fdd11d4604a>:9: DeprecationWarning: find_element_by_* commands are deprecated. Please use find_element() instead\n",
      "  i = driver.find_element_by_xpath('/html/body/div/div/div/main/section[1]/div[2]/div[3]/div[2]/div[9]/div[2]/div/div[1]/div/p')\n",
      "<ipython-input-49-6fdd11d4604a>:10: DeprecationWarning: find_element_by_* commands are deprecated. Please use find_element() instead\n",
      "  j = driver.find_element_by_xpath('/html/body/div/div/div/main/section[1]/div[2]/div[3]/div[2]/div[10]/div[2]/div/div[1]/div/p')\n"
     ]
    }
   ],
   "source": [
    "a = driver.find_element_by_xpath('/html/body/div/div/div/main/section[1]/div[2]/div[3]/div[2]/div[1]/div[2]/div/div[1]/div/p')\n",
    "b = driver.find_element_by_xpath('/html/body/div/div/div/main/section[1]/div[2]/div[3]/div[2]/div[2]/div[2]/div/div[1]/div/p')\n",
    "c = driver.find_element_by_xpath('/html/body/div/div/div/main/section[1]/div[2]/div[3]/div[2]/div[3]/div[2]/div/div[1]/div/p')\n",
    "d = driver.find_element_by_xpath('/html/body/div/div/div/main/section[1]/div[2]/div[3]/div[2]/div[4]/div[2]/div/div[1]/div/p')\n",
    "e = driver.find_element_by_xpath('/html/body/div/div/div/main/section[1]/div[2]/div[3]/div[2]/div[5]/div[2]/div/div[1]/div/p')\n",
    "f = driver.find_element_by_xpath('/html/body/div/div/div/main/section[1]/div[2]/div[3]/div[2]/div[6]/div[2]/div/div[1]/div/p')\n",
    "g = driver.find_element_by_xpath('/html/body/div/div/div/main/section[1]/div[2]/div[3]/div[2]/div[7]/div[2]/div/div[1]/div/p')\n",
    "h = driver.find_element_by_xpath('/html/body/div/div/div/main/section[1]/div[2]/div[3]/div[2]/div[8]/div[2]/div/div[1]/div/p')\n",
    "i = driver.find_element_by_xpath('/html/body/div/div/div/main/section[1]/div[2]/div[3]/div[2]/div[9]/div[2]/div/div[1]/div/p')\n",
    "j = driver.find_element_by_xpath('/html/body/div/div/div/main/section[1]/div[2]/div[3]/div[2]/div[10]/div[2]/div/div[1]/div/p')"
   ]
  },
  {
   "cell_type": "code",
   "execution_count": 50,
   "id": "0d6b522f",
   "metadata": {},
   "outputs": [],
   "source": [
    "avg_salary = [a.text, b.text, c.text, d.text, e.text, f.text, g.text, h.text, i.text, j.text]"
   ]
  },
  {
   "cell_type": "code",
   "execution_count": 51,
   "id": "03acee57",
   "metadata": {},
   "outputs": [],
   "source": [
    "salary_record = pd.DataFrame({'Company Name': company, 'Total Salary Records': record, 'Minimum Salary': min_salary, 'Average Salary': avg_salary, 'Maximum Salary': max_salary})"
   ]
  },
  {
   "cell_type": "code",
   "execution_count": 52,
   "id": "db5457e1",
   "metadata": {},
   "outputs": [
    {
     "data": {
      "text/html": [
       "<div>\n",
       "<style scoped>\n",
       "    .dataframe tbody tr th:only-of-type {\n",
       "        vertical-align: middle;\n",
       "    }\n",
       "\n",
       "    .dataframe tbody tr th {\n",
       "        vertical-align: top;\n",
       "    }\n",
       "\n",
       "    .dataframe thead th {\n",
       "        text-align: right;\n",
       "    }\n",
       "</style>\n",
       "<table border=\"1\" class=\"dataframe\">\n",
       "  <thead>\n",
       "    <tr style=\"text-align: right;\">\n",
       "      <th></th>\n",
       "      <th>Company Name</th>\n",
       "      <th>Total Salary Records</th>\n",
       "      <th>Minimum Salary</th>\n",
       "      <th>Average Salary</th>\n",
       "      <th>Maximum Salary</th>\n",
       "    </tr>\n",
       "  </thead>\n",
       "  <tbody>\n",
       "    <tr>\n",
       "      <th>0</th>\n",
       "      <td>Ab Inbev</td>\n",
       "      <td>based on 20 salaries</td>\n",
       "      <td>₹ 15.0L</td>\n",
       "      <td>₹ 19.0L</td>\n",
       "      <td>₹ 23.0L</td>\n",
       "    </tr>\n",
       "    <tr>\n",
       "      <th>1</th>\n",
       "      <td>ZS</td>\n",
       "      <td>based on 12 salaries</td>\n",
       "      <td>₹ 9.8L</td>\n",
       "      <td>₹ 15.3L</td>\n",
       "      <td>₹ 19.5L</td>\n",
       "    </tr>\n",
       "    <tr>\n",
       "      <th>2</th>\n",
       "      <td>Optum</td>\n",
       "      <td>based on 23 salaries</td>\n",
       "      <td>₹ 11.0L</td>\n",
       "      <td>₹ 15.0L</td>\n",
       "      <td>₹ 21.3L</td>\n",
       "    </tr>\n",
       "    <tr>\n",
       "      <th>3</th>\n",
       "      <td>Fractal Analytics</td>\n",
       "      <td>based on 66 salaries</td>\n",
       "      <td>₹ 11.0L</td>\n",
       "      <td>₹ 15.0L</td>\n",
       "      <td>₹ 22.0L</td>\n",
       "    </tr>\n",
       "    <tr>\n",
       "      <th>4</th>\n",
       "      <td>UnitedHealth</td>\n",
       "      <td>based on 47 salaries</td>\n",
       "      <td>₹ 7.2L</td>\n",
       "      <td>₹ 13.5L</td>\n",
       "      <td>₹ 20.5L</td>\n",
       "    </tr>\n",
       "    <tr>\n",
       "      <th>5</th>\n",
       "      <td>Tiger Analytics</td>\n",
       "      <td>based on 26 salaries</td>\n",
       "      <td>₹ 8.3L</td>\n",
       "      <td>₹ 13.5L</td>\n",
       "      <td>₹ 18.5L</td>\n",
       "    </tr>\n",
       "    <tr>\n",
       "      <th>6</th>\n",
       "      <td>Verizon</td>\n",
       "      <td>based on 14 salaries</td>\n",
       "      <td>₹ 10.0L</td>\n",
       "      <td>₹ 12.7L</td>\n",
       "      <td>₹ 21.0L</td>\n",
       "    </tr>\n",
       "    <tr>\n",
       "      <th>7</th>\n",
       "      <td>Ganit Business Solutions</td>\n",
       "      <td>based on 13 salaries</td>\n",
       "      <td>₹ 8.5L</td>\n",
       "      <td>₹ 12.4L</td>\n",
       "      <td>₹ 15.0L</td>\n",
       "    </tr>\n",
       "    <tr>\n",
       "      <th>8</th>\n",
       "      <td>Ericsson</td>\n",
       "      <td>based on 42 salaries</td>\n",
       "      <td>₹ 5.2L</td>\n",
       "      <td>₹ 11.7L</td>\n",
       "      <td>₹ 15.0L</td>\n",
       "    </tr>\n",
       "    <tr>\n",
       "      <th>9</th>\n",
       "      <td>Deloitte</td>\n",
       "      <td>based on 49 salaries</td>\n",
       "      <td>₹ 6.8L</td>\n",
       "      <td>₹ 11.2L</td>\n",
       "      <td>₹ 20.5L</td>\n",
       "    </tr>\n",
       "  </tbody>\n",
       "</table>\n",
       "</div>"
      ],
      "text/plain": [
       "               Company Name  Total Salary Records Minimum Salary  \\\n",
       "0                  Ab Inbev  based on 20 salaries        ₹ 15.0L   \n",
       "1                        ZS  based on 12 salaries         ₹ 9.8L   \n",
       "2                     Optum  based on 23 salaries        ₹ 11.0L   \n",
       "3         Fractal Analytics  based on 66 salaries        ₹ 11.0L   \n",
       "4              UnitedHealth  based on 47 salaries         ₹ 7.2L   \n",
       "5           Tiger Analytics  based on 26 salaries         ₹ 8.3L   \n",
       "6                   Verizon  based on 14 salaries        ₹ 10.0L   \n",
       "7  Ganit Business Solutions  based on 13 salaries         ₹ 8.5L   \n",
       "8                  Ericsson  based on 42 salaries         ₹ 5.2L   \n",
       "9                  Deloitte  based on 49 salaries         ₹ 6.8L   \n",
       "\n",
       "  Average Salary Maximum Salary  \n",
       "0        ₹ 19.0L        ₹ 23.0L  \n",
       "1        ₹ 15.3L        ₹ 19.5L  \n",
       "2        ₹ 15.0L        ₹ 21.3L  \n",
       "3        ₹ 15.0L        ₹ 22.0L  \n",
       "4        ₹ 13.5L        ₹ 20.5L  \n",
       "5        ₹ 13.5L        ₹ 18.5L  \n",
       "6        ₹ 12.7L        ₹ 21.0L  \n",
       "7        ₹ 12.4L        ₹ 15.0L  \n",
       "8        ₹ 11.7L        ₹ 15.0L  \n",
       "9        ₹ 11.2L        ₹ 20.5L  "
      ]
     },
     "execution_count": 52,
     "metadata": {},
     "output_type": "execute_result"
    }
   ],
   "source": [
    "salary_record"
   ]
  },
  {
   "cell_type": "code",
   "execution_count": null,
   "id": "2d00a3e2",
   "metadata": {},
   "outputs": [],
   "source": []
  }
 ],
 "metadata": {
  "kernelspec": {
   "display_name": "Python 3",
   "language": "python",
   "name": "python3"
  },
  "language_info": {
   "codemirror_mode": {
    "name": "ipython",
    "version": 3
   },
   "file_extension": ".py",
   "mimetype": "text/x-python",
   "name": "python",
   "nbconvert_exporter": "python",
   "pygments_lexer": "ipython3",
   "version": "3.8.8"
  }
 },
 "nbformat": 4,
 "nbformat_minor": 5
}
