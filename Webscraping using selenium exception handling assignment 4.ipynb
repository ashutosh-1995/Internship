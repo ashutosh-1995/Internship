{
 "cells": [
  {
   "cell_type": "code",
   "execution_count": 1,
   "id": "dceb5121",
   "metadata": {},
   "outputs": [],
   "source": [
    "import pandas as pd\n",
    "import numpy as np\n",
    "import time\n",
    "import selenium\n",
    "from selenium import webdriver\n",
    "import warnings\n",
    "warnings.filterwarnings('ignore')"
   ]
  },
  {
   "cell_type": "code",
   "execution_count": 122,
   "id": "5cde4d85",
   "metadata": {},
   "outputs": [],
   "source": [
    "driver = webdriver.Chrome('C:/Users/dell/Downloads/chromedriver_win32/chromedriver.exe')"
   ]
  },
  {
   "cell_type": "markdown",
   "id": "b5ace075",
   "metadata": {},
   "source": [
    "Ans 1. - Python program to scrape details of most viewed youtube videos from wikipedia webpage using selenium exception handling."
   ]
  },
  {
   "cell_type": "code",
   "execution_count": 3,
   "id": "1902e6aa",
   "metadata": {},
   "outputs": [],
   "source": [
    "driver.get('https://en.wikipedia.org/wiki/List_of_most-viewed_YouTube_videos')"
   ]
  },
  {
   "cell_type": "code",
   "execution_count": 89,
   "id": "bba0734d",
   "metadata": {},
   "outputs": [],
   "source": [
    "ran = []\n",
    "na = driver.find_elements_by_xpath(\"//table[@class= 'wikitable sortable jquery-tablesorter']/tbody/tr\")\n",
    "for i in na:\n",
    "    ran.append(i.text)"
   ]
  },
  {
   "cell_type": "code",
   "execution_count": 92,
   "id": "f73041c0",
   "metadata": {},
   "outputs": [],
   "source": [
    "ran = ran[:30]"
   ]
  },
  {
   "cell_type": "code",
   "execution_count": 97,
   "id": "0b0a4bf4",
   "metadata": {},
   "outputs": [],
   "source": [
    "a = pd.DataFrame(ran, columns= ['ab'])"
   ]
  },
  {
   "cell_type": "code",
   "execution_count": 100,
   "id": "ad69a4a8",
   "metadata": {},
   "outputs": [],
   "source": [
    "numb = []"
   ]
  },
  {
   "cell_type": "code",
   "execution_count": 101,
   "id": "dad88ad5",
   "metadata": {},
   "outputs": [],
   "source": [
    "for i in a['ab']:\n",
    "    i = i[:2]\n",
    "    numb.append(i)"
   ]
  },
  {
   "cell_type": "code",
   "execution_count": 103,
   "id": "fe5b80c9",
   "metadata": {},
   "outputs": [
    {
     "data": {
      "text/plain": [
       "30"
      ]
     },
     "execution_count": 103,
     "metadata": {},
     "output_type": "execute_result"
    }
   ],
   "source": [
    "len(numb)"
   ]
  },
  {
   "cell_type": "code",
   "execution_count": 131,
   "id": "44e90831",
   "metadata": {},
   "outputs": [
    {
     "data": {
      "text/plain": [
       "['1. \"Baby Shark Dance\"[3] Pinkfong Baby Shark - Kids\\' Songs & Stories 9.96 June 17, 2016 [B]',\n",
       " '2. \"Despacito\"[5] Luis Fonsi 7.69 January 12, 2017 [C]',\n",
       " '3. \"Johny Johny Yes Papa\"[11] LooLoo Kids 6.08 October 8, 2016 [D]',\n",
       " '4. \"Shape of You\"[12] Ed Sheeran 5.58 January 30, 2017 [E]',\n",
       " '5. \"See You Again\"[14] Wiz Khalifa 5.38 April 6, 2015 [F]',\n",
       " '6. \"Bath Song\"[19] Cocomelon – Nursery Rhymes 4.83 May 2, 2018 [G]',\n",
       " '7. \"Learning Colors – Colorful Eggs on a Farm\"[20] Miroshka TV 4.55 February 27, 2018 [H]',\n",
       " '8. \"Masha and the Bear – Recipe for Disaster\"[21] Get Movies 4.48 January 31, 2012 [I]',\n",
       " '9. \"Uptown Funk\"[22] Mark Ronson 4.42 November 19, 2014 [J]',\n",
       " '10. \"Phonics Song with Two Words\"[23] ChuChu TV 4.39 March 6, 2014',\n",
       " '11. \"Gangnam Style\"[24] Psy 4.30 July 15, 2012 [K]',\n",
       " '12. \"Dame Tu Cosita\"[29] El Chombo 3.79 April 5, 2018',\n",
       " '13. \"Sugar\"[30] Maroon 5 3.62 January 14, 2015',\n",
       " '14. \"Sorry\"[31] Justin Bieber 3.50 October 22, 2015',\n",
       " '15. \"Roar\"[32] Katy Perry 3.50 September 5, 2013',\n",
       " '16. \"Counting Stars\"[33] OneRepublic 3.48 May 31, 2013',\n",
       " '17. \"Wheels on the Bus\"[34] Cocomelon – Nursery Rhymes 3.47 May 24, 2018',\n",
       " '18. \"Thinking Out Loud\"[35] Ed Sheeran 3.39 October 7, 2014',\n",
       " '19. \"Girls Like You\"[36] Maroon 5 3.21 May 31, 2018',\n",
       " '20. \"Faded\"[37] Alan Walker 3.21 December 3, 2015',\n",
       " '21. \"Dark Horse\"[38] Katy Perry 3.20 February 20, 2014',\n",
       " '22. \"Axel F\"[39] Crazy Frog 3.16 June 16, 2009',\n",
       " '23. \"Let Her Go\"[40] Passenger 3.15 July 25, 2012',\n",
       " '24. \"Bailando\"[41] Enrique Iglesias 3.15 April 11, 2014',\n",
       " '25. \"Lean On\"[42] Major Lazer 3.15 March 22, 2015',\n",
       " '26. \"Shake It Off\"[43] Taylor Swift 3.13 August 18, 2014',\n",
       " '27. \"Perfect\"[44] Ed Sheeran 3.06 November 9, 2017',\n",
       " '28. \"Baa Baa Black Sheep\"[45] Cocomelon – Nursery Rhymes 3.05 June 25, 2018',\n",
       " '29. \"Waka Waka (This Time for Africa)\"[46] Shakira 3.02 June 4, 2010',\n",
       " '30. \"Mi Gente\"[47] J Balvin 3.02 June 29, 2017']"
      ]
     },
     "execution_count": 131,
     "metadata": {},
     "output_type": "execute_result"
    }
   ],
   "source": [
    "ran"
   ]
  },
  {
   "cell_type": "code",
   "execution_count": 135,
   "id": "1a58d2fb",
   "metadata": {},
   "outputs": [],
   "source": [
    "name = []\n",
    "for i in a['ab']:\n",
    "    i = i[2:20]\n",
    "    name.append(i)"
   ]
  },
  {
   "cell_type": "code",
   "execution_count": 137,
   "id": "34ee7d40",
   "metadata": {},
   "outputs": [
    {
     "data": {
      "text/plain": [
       "30"
      ]
     },
     "execution_count": 137,
     "metadata": {},
     "output_type": "execute_result"
    }
   ],
   "source": [
    "len(name)"
   ]
  },
  {
   "cell_type": "code",
   "execution_count": 143,
   "id": "e31ac7e9",
   "metadata": {},
   "outputs": [],
   "source": [
    "upload = []\n",
    "for i in a['ab']:\n",
    "    i = i[25:44]\n",
    "    upload.append(i)"
   ]
  },
  {
   "cell_type": "code",
   "execution_count": 145,
   "id": "1e36be76",
   "metadata": {},
   "outputs": [
    {
     "data": {
      "text/plain": [
       "30"
      ]
     },
     "execution_count": 145,
     "metadata": {},
     "output_type": "execute_result"
    }
   ],
   "source": [
    "len(upload)"
   ]
  },
  {
   "cell_type": "code",
   "execution_count": 146,
   "id": "160f27d8",
   "metadata": {},
   "outputs": [],
   "source": [
    "view = []\n",
    "for i in a['ab']:\n",
    "    i = i[-22:-18]\n",
    "    view.append(i)"
   ]
  },
  {
   "cell_type": "code",
   "execution_count": 148,
   "id": "4564a6c1",
   "metadata": {},
   "outputs": [
    {
     "data": {
      "text/plain": [
       "30"
      ]
     },
     "execution_count": 148,
     "metadata": {},
     "output_type": "execute_result"
    }
   ],
   "source": [
    "len(view)"
   ]
  },
  {
   "cell_type": "code",
   "execution_count": 150,
   "id": "54ca158e",
   "metadata": {},
   "outputs": [],
   "source": [
    "dates = []\n",
    "for i in a['ab']:\n",
    "    i = i[-17:-3]\n",
    "    dates.append(i)"
   ]
  },
  {
   "cell_type": "code",
   "execution_count": 151,
   "id": "ef6252c5",
   "metadata": {},
   "outputs": [
    {
     "data": {
      "text/plain": [
       "['June 17, 2016 ',\n",
       " 'uary 12, 2017 ',\n",
       " 'tober 8, 2016 ',\n",
       " 'uary 30, 2017 ',\n",
       " 'April 6, 2015 ',\n",
       " '3 May 2, 2018 ',\n",
       " 'uary 27, 2018 ',\n",
       " 'uary 31, 2012 ',\n",
       " 'mber 19, 2014 ',\n",
       " '.39 March 6, 2',\n",
       " 'July 15, 2012 ',\n",
       " '.79 April 5, 2',\n",
       " ' January 14, 2',\n",
       " ' October 22, 2',\n",
       " 'September 5, 2',\n",
       " '3.48 May 31, 2',\n",
       " '3.47 May 24, 2',\n",
       " '9 October 7, 2',\n",
       " '3.21 May 31, 2',\n",
       " ' December 3, 2',\n",
       " 'February 20, 2',\n",
       " '.16 June 16, 2',\n",
       " '.15 July 25, 2',\n",
       " '15 April 11, 2',\n",
       " '15 March 22, 2',\n",
       " '3 August 18, 2',\n",
       " ' November 9, 2',\n",
       " '.05 June 25, 2',\n",
       " '3.02 June 4, 2',\n",
       " '.02 June 29, 2']"
      ]
     },
     "execution_count": 151,
     "metadata": {},
     "output_type": "execute_result"
    }
   ],
   "source": [
    "dates"
   ]
  },
  {
   "cell_type": "code",
   "execution_count": 152,
   "id": "b59cc681",
   "metadata": {},
   "outputs": [],
   "source": [
    "videos = pd.DataFrame({'Rank': numb, 'Video Name': name, 'Video Uploader': upload, 'Views in billions': view, 'Release Date': dates})"
   ]
  },
  {
   "cell_type": "code",
   "execution_count": 153,
   "id": "7e5f3847",
   "metadata": {},
   "outputs": [
    {
     "data": {
      "text/html": [
       "<div>\n",
       "<style scoped>\n",
       "    .dataframe tbody tr th:only-of-type {\n",
       "        vertical-align: middle;\n",
       "    }\n",
       "\n",
       "    .dataframe tbody tr th {\n",
       "        vertical-align: top;\n",
       "    }\n",
       "\n",
       "    .dataframe thead th {\n",
       "        text-align: right;\n",
       "    }\n",
       "</style>\n",
       "<table border=\"1\" class=\"dataframe\">\n",
       "  <thead>\n",
       "    <tr style=\"text-align: right;\">\n",
       "      <th></th>\n",
       "      <th>Rank</th>\n",
       "      <th>Video Name</th>\n",
       "      <th>Video Uploader</th>\n",
       "      <th>Views in billions</th>\n",
       "      <th>Release Date</th>\n",
       "    </tr>\n",
       "  </thead>\n",
       "  <tbody>\n",
       "    <tr>\n",
       "      <th>0</th>\n",
       "      <td>1.</td>\n",
       "      <td>\"Baby Shark Dance</td>\n",
       "      <td>Pinkfong Baby Shark</td>\n",
       "      <td>9.96</td>\n",
       "      <td>June 17, 2016</td>\n",
       "    </tr>\n",
       "    <tr>\n",
       "      <th>1</th>\n",
       "      <td>2.</td>\n",
       "      <td>\"Despacito\"[5] Lu</td>\n",
       "      <td>nsi 7.69 January 12</td>\n",
       "      <td>9 Ja</td>\n",
       "      <td>uary 12, 2017</td>\n",
       "    </tr>\n",
       "    <tr>\n",
       "      <th>2</th>\n",
       "      <td>3.</td>\n",
       "      <td>\"Johny Johny Yes</td>\n",
       "      <td>[11] LooLoo Kids 6.</td>\n",
       "      <td>08 O</td>\n",
       "      <td>tober 8, 2016</td>\n",
       "    </tr>\n",
       "    <tr>\n",
       "      <th>3</th>\n",
       "      <td>4.</td>\n",
       "      <td>\"Shape of You\"[12</td>\n",
       "      <td>Sheeran 5.58 Januar</td>\n",
       "      <td>8 Ja</td>\n",
       "      <td>uary 30, 2017</td>\n",
       "    </tr>\n",
       "    <tr>\n",
       "      <th>4</th>\n",
       "      <td>5.</td>\n",
       "      <td>\"See You Again\"[1</td>\n",
       "      <td>z Khalifa 5.38 Apri</td>\n",
       "      <td>5.38</td>\n",
       "      <td>April 6, 2015</td>\n",
       "    </tr>\n",
       "    <tr>\n",
       "      <th>5</th>\n",
       "      <td>6.</td>\n",
       "      <td>\"Bath Song\"[19] C</td>\n",
       "      <td>lon – Nursery Rhyme</td>\n",
       "      <td>s 4.</td>\n",
       "      <td>3 May 2, 2018</td>\n",
       "    </tr>\n",
       "    <tr>\n",
       "      <th>6</th>\n",
       "      <td>7.</td>\n",
       "      <td>\"Learning Colors</td>\n",
       "      <td>orful Eggs on a Far</td>\n",
       "      <td>Feb</td>\n",
       "      <td>uary 27, 2018</td>\n",
       "    </tr>\n",
       "    <tr>\n",
       "      <th>7</th>\n",
       "      <td>8.</td>\n",
       "      <td>\"Masha and the Be</td>\n",
       "      <td>Recipe for Disaster</td>\n",
       "      <td>8 Ja</td>\n",
       "      <td>uary 31, 2012</td>\n",
       "    </tr>\n",
       "    <tr>\n",
       "      <th>8</th>\n",
       "      <td>9.</td>\n",
       "      <td>\"Uptown Funk\"[22]</td>\n",
       "      <td>Ronson 4.42 Novemb</td>\n",
       "      <td>Nov</td>\n",
       "      <td>mber 19, 2014</td>\n",
       "    </tr>\n",
       "    <tr>\n",
       "      <th>9</th>\n",
       "      <td>10</td>\n",
       "      <td>. \"Phonics Song wi</td>\n",
       "      <td>o Words\"[23] ChuChu</td>\n",
       "      <td>TV</td>\n",
       "      <td>.39 March 6, 2</td>\n",
       "    </tr>\n",
       "    <tr>\n",
       "      <th>10</th>\n",
       "      <td>11</td>\n",
       "      <td>. \"Gangnam Style\"[</td>\n",
       "      <td>sy 4.30 July 15, 20</td>\n",
       "      <td>4.30</td>\n",
       "      <td>July 15, 2012</td>\n",
       "    </tr>\n",
       "    <tr>\n",
       "      <th>11</th>\n",
       "      <td>12</td>\n",
       "      <td>. \"Dame Tu Cosita\"</td>\n",
       "      <td>El Chombo 3.79 Apri</td>\n",
       "      <td>mbo</td>\n",
       "      <td>.79 April 5, 2</td>\n",
       "    </tr>\n",
       "    <tr>\n",
       "      <th>12</th>\n",
       "      <td>13</td>\n",
       "      <td>. \"Sugar\"[30] Maro</td>\n",
       "      <td>3.62 January 14, 20</td>\n",
       "      <td>3.6</td>\n",
       "      <td>January 14, 2</td>\n",
       "    </tr>\n",
       "    <tr>\n",
       "      <th>13</th>\n",
       "      <td>14</td>\n",
       "      <td>. \"Sorry\"[31] Just</td>\n",
       "      <td>eber 3.50 October 2</td>\n",
       "      <td>3.5</td>\n",
       "      <td>October 22, 2</td>\n",
       "    </tr>\n",
       "    <tr>\n",
       "      <th>14</th>\n",
       "      <td>15</td>\n",
       "      <td>. \"Roar\"[32] Katy</td>\n",
       "      <td>3.50 September 5,</td>\n",
       "      <td>3.50</td>\n",
       "      <td>September 5, 2</td>\n",
       "    </tr>\n",
       "    <tr>\n",
       "      <th>15</th>\n",
       "      <td>16</td>\n",
       "      <td>. \"Counting Stars\"</td>\n",
       "      <td>OneRepublic 3.48 Ma</td>\n",
       "      <td>blic</td>\n",
       "      <td>3.48 May 31, 2</td>\n",
       "    </tr>\n",
       "    <tr>\n",
       "      <th>16</th>\n",
       "      <td>17</td>\n",
       "      <td>. \"Wheels on the B</td>\n",
       "      <td>4] Cocomelon – Nurs</td>\n",
       "      <td>ymes</td>\n",
       "      <td>3.47 May 24, 2</td>\n",
       "    </tr>\n",
       "    <tr>\n",
       "      <th>17</th>\n",
       "      <td>18</td>\n",
       "      <td>. \"Thinking Out Lo</td>\n",
       "      <td>5] Ed Sheeran 3.39</td>\n",
       "      <td>n 3.</td>\n",
       "      <td>9 October 7, 2</td>\n",
       "    </tr>\n",
       "    <tr>\n",
       "      <th>18</th>\n",
       "      <td>19</td>\n",
       "      <td>. \"Girls Like You\"</td>\n",
       "      <td>Maroon 5 3.21 May 3</td>\n",
       "      <td>on 5</td>\n",
       "      <td>3.21 May 31, 2</td>\n",
       "    </tr>\n",
       "    <tr>\n",
       "      <th>19</th>\n",
       "      <td>20</td>\n",
       "      <td>. \"Faded\"[37] Alan</td>\n",
       "      <td>er 3.21 December 3,</td>\n",
       "      <td>3.2</td>\n",
       "      <td>December 3, 2</td>\n",
       "    </tr>\n",
       "    <tr>\n",
       "      <th>20</th>\n",
       "      <td>21</td>\n",
       "      <td>. \"Dark Horse\"[38]</td>\n",
       "      <td>Perry 3.20 Februar</td>\n",
       "      <td>3.20</td>\n",
       "      <td>February 20, 2</td>\n",
       "    </tr>\n",
       "    <tr>\n",
       "      <th>21</th>\n",
       "      <td>22</td>\n",
       "      <td>. \"Axel F\"[39] Cra</td>\n",
       "      <td>og 3.16 June 16, 20</td>\n",
       "      <td>rog</td>\n",
       "      <td>.16 June 16, 2</td>\n",
       "    </tr>\n",
       "    <tr>\n",
       "      <th>22</th>\n",
       "      <td>23</td>\n",
       "      <td>. \"Let Her Go\"[40]</td>\n",
       "      <td>enger 3.15 July 25,</td>\n",
       "      <td>ger</td>\n",
       "      <td>.15 July 25, 2</td>\n",
       "    </tr>\n",
       "    <tr>\n",
       "      <th>23</th>\n",
       "      <td>24</td>\n",
       "      <td>. \"Bailando\"[41] E</td>\n",
       "      <td>e Iglesias 3.15 Apr</td>\n",
       "      <td>as 3</td>\n",
       "      <td>15 April 11, 2</td>\n",
       "    </tr>\n",
       "    <tr>\n",
       "      <th>24</th>\n",
       "      <td>25</td>\n",
       "      <td>. \"Lean On\"[42] Ma</td>\n",
       "      <td>azer 3.15 March 22,</td>\n",
       "      <td>er 3</td>\n",
       "      <td>15 March 22, 2</td>\n",
       "    </tr>\n",
       "    <tr>\n",
       "      <th>25</th>\n",
       "      <td>26</td>\n",
       "      <td>. \"Shake It Off\"[4</td>\n",
       "      <td>ylor Swift 3.13 Aug</td>\n",
       "      <td>t 3.</td>\n",
       "      <td>3 August 18, 2</td>\n",
       "    </tr>\n",
       "    <tr>\n",
       "      <th>26</th>\n",
       "      <td>27</td>\n",
       "      <td>. \"Perfect\"[44] Ed</td>\n",
       "      <td>ran 3.06 November 9</td>\n",
       "      <td>3.0</td>\n",
       "      <td>November 9, 2</td>\n",
       "    </tr>\n",
       "    <tr>\n",
       "      <th>27</th>\n",
       "      <td>28</td>\n",
       "      <td>. \"Baa Baa Black S</td>\n",
       "      <td>[45] Cocomelon – Nu</td>\n",
       "      <td>mes</td>\n",
       "      <td>.05 June 25, 2</td>\n",
       "    </tr>\n",
       "    <tr>\n",
       "      <th>28</th>\n",
       "      <td>29</td>\n",
       "      <td>. \"Waka Waka (This</td>\n",
       "      <td>for Africa)\"[46] S</td>\n",
       "      <td>kira</td>\n",
       "      <td>3.02 June 4, 2</td>\n",
       "    </tr>\n",
       "    <tr>\n",
       "      <th>29</th>\n",
       "      <td>30</td>\n",
       "      <td>. \"Mi Gente\"[47] J</td>\n",
       "      <td>in 3.02 June 29, 20</td>\n",
       "      <td>vin</td>\n",
       "      <td>.02 June 29, 2</td>\n",
       "    </tr>\n",
       "  </tbody>\n",
       "</table>\n",
       "</div>"
      ],
      "text/plain": [
       "   Rank          Video Name       Video Uploader Views in billions  \\\n",
       "0    1.   \"Baby Shark Dance  Pinkfong Baby Shark              9.96   \n",
       "1    2.   \"Despacito\"[5] Lu  nsi 7.69 January 12              9 Ja   \n",
       "2    3.   \"Johny Johny Yes   [11] LooLoo Kids 6.              08 O   \n",
       "3    4.   \"Shape of You\"[12  Sheeran 5.58 Januar              8 Ja   \n",
       "4    5.   \"See You Again\"[1  z Khalifa 5.38 Apri              5.38   \n",
       "5    6.   \"Bath Song\"[19] C  lon – Nursery Rhyme              s 4.   \n",
       "6    7.   \"Learning Colors   orful Eggs on a Far               Feb   \n",
       "7    8.   \"Masha and the Be  Recipe for Disaster              8 Ja   \n",
       "8    9.   \"Uptown Funk\"[22]   Ronson 4.42 Novemb               Nov   \n",
       "9    10  . \"Phonics Song wi  o Words\"[23] ChuChu               TV    \n",
       "10   11  . \"Gangnam Style\"[  sy 4.30 July 15, 20              4.30   \n",
       "11   12  . \"Dame Tu Cosita\"  El Chombo 3.79 Apri              mbo    \n",
       "12   13  . \"Sugar\"[30] Maro  3.62 January 14, 20               3.6   \n",
       "13   14  . \"Sorry\"[31] Just  eber 3.50 October 2               3.5   \n",
       "14   15  . \"Roar\"[32] Katy    3.50 September 5,               3.50   \n",
       "15   16  . \"Counting Stars\"  OneRepublic 3.48 Ma              blic   \n",
       "16   17  . \"Wheels on the B  4] Cocomelon – Nurs              ymes   \n",
       "17   18  . \"Thinking Out Lo  5] Ed Sheeran 3.39               n 3.   \n",
       "18   19  . \"Girls Like You\"  Maroon 5 3.21 May 3              on 5   \n",
       "19   20  . \"Faded\"[37] Alan  er 3.21 December 3,               3.2   \n",
       "20   21  . \"Dark Horse\"[38]   Perry 3.20 Februar              3.20   \n",
       "21   22  . \"Axel F\"[39] Cra  og 3.16 June 16, 20              rog    \n",
       "22   23  . \"Let Her Go\"[40]  enger 3.15 July 25,              ger    \n",
       "23   24  . \"Bailando\"[41] E  e Iglesias 3.15 Apr              as 3   \n",
       "24   25  . \"Lean On\"[42] Ma  azer 3.15 March 22,              er 3   \n",
       "25   26  . \"Shake It Off\"[4  ylor Swift 3.13 Aug              t 3.   \n",
       "26   27  . \"Perfect\"[44] Ed  ran 3.06 November 9               3.0   \n",
       "27   28  . \"Baa Baa Black S  [45] Cocomelon – Nu              mes    \n",
       "28   29  . \"Waka Waka (This   for Africa)\"[46] S              kira   \n",
       "29   30  . \"Mi Gente\"[47] J  in 3.02 June 29, 20              vin    \n",
       "\n",
       "      Release Date  \n",
       "0   June 17, 2016   \n",
       "1   uary 12, 2017   \n",
       "2   tober 8, 2016   \n",
       "3   uary 30, 2017   \n",
       "4   April 6, 2015   \n",
       "5   3 May 2, 2018   \n",
       "6   uary 27, 2018   \n",
       "7   uary 31, 2012   \n",
       "8   mber 19, 2014   \n",
       "9   .39 March 6, 2  \n",
       "10  July 15, 2012   \n",
       "11  .79 April 5, 2  \n",
       "12   January 14, 2  \n",
       "13   October 22, 2  \n",
       "14  September 5, 2  \n",
       "15  3.48 May 31, 2  \n",
       "16  3.47 May 24, 2  \n",
       "17  9 October 7, 2  \n",
       "18  3.21 May 31, 2  \n",
       "19   December 3, 2  \n",
       "20  February 20, 2  \n",
       "21  .16 June 16, 2  \n",
       "22  .15 July 25, 2  \n",
       "23  15 April 11, 2  \n",
       "24  15 March 22, 2  \n",
       "25  3 August 18, 2  \n",
       "26   November 9, 2  \n",
       "27  .05 June 25, 2  \n",
       "28  3.02 June 4, 2  \n",
       "29  .02 June 29, 2  "
      ]
     },
     "execution_count": 153,
     "metadata": {},
     "output_type": "execute_result"
    }
   ],
   "source": [
    "videos"
   ]
  },
  {
   "cell_type": "markdown",
   "id": "51582a2b",
   "metadata": {},
   "source": [
    "Ans 2. - Python program to scrape the team india's fixture from bcci webpage using selenium exception handling."
   ]
  },
  {
   "cell_type": "code",
   "execution_count": 3,
   "id": "883aac9f",
   "metadata": {},
   "outputs": [],
   "source": [
    "driver.get('https://www.bcci.tv/')"
   ]
  },
  {
   "cell_type": "code",
   "execution_count": 4,
   "id": "23384029",
   "metadata": {},
   "outputs": [],
   "source": [
    "side = driver.find_element_by_xpath(\"//button[@class= 'navbar-toggler menu-btn menu-icon collapsed']\")"
   ]
  },
  {
   "cell_type": "code",
   "execution_count": 5,
   "id": "fdb75032",
   "metadata": {},
   "outputs": [],
   "source": [
    "side.click()"
   ]
  },
  {
   "cell_type": "code",
   "execution_count": 6,
   "id": "8e11aa8e",
   "metadata": {},
   "outputs": [],
   "source": [
    "inter = driver.find_element_by_xpath(\"//a[@class= 'nav-link  ']\")"
   ]
  },
  {
   "cell_type": "code",
   "execution_count": 7,
   "id": "aff6be8c",
   "metadata": {},
   "outputs": [],
   "source": [
    "inter.click()"
   ]
  },
  {
   "cell_type": "code",
   "execution_count": 8,
   "id": "41c4a1ce",
   "metadata": {},
   "outputs": [],
   "source": [
    "more1 = driver.find_element_by_xpath(\"//button[@class= 'match-btn btn-red d-flex align-items-center justify-content-center mx-auto mt-3']\")"
   ]
  },
  {
   "cell_type": "code",
   "execution_count": 9,
   "id": "84e6e3b5",
   "metadata": {},
   "outputs": [],
   "source": [
    "more1.click()"
   ]
  },
  {
   "cell_type": "code",
   "execution_count": 10,
   "id": "71082002",
   "metadata": {},
   "outputs": [],
   "source": [
    "more1.click()"
   ]
  },
  {
   "cell_type": "code",
   "execution_count": 11,
   "id": "56d44c27",
   "metadata": {},
   "outputs": [],
   "source": [
    "series_name = []\n",
    "se = driver.find_elements_by_xpath(\"//span[@class= 'ng-binding']\")\n",
    "for i in se:\n",
    "    series_name.append(i.text)"
   ]
  },
  {
   "cell_type": "code",
   "execution_count": 13,
   "id": "4599ae15",
   "metadata": {},
   "outputs": [
    {
     "data": {
      "text/plain": [
       "20"
      ]
     },
     "execution_count": 13,
     "metadata": {},
     "output_type": "execute_result"
    }
   ],
   "source": [
    "len(series_name)"
   ]
  },
  {
   "cell_type": "code",
   "execution_count": 14,
   "id": "63f81fa1",
   "metadata": {},
   "outputs": [],
   "source": [
    "stadium = []\n",
    "st = driver.find_elements_by_xpath(\"//div[@class= 'fix-place ng-binding ng-scope']\")\n",
    "for i in st:\n",
    "    stadium.append(i.text)"
   ]
  },
  {
   "cell_type": "code",
   "execution_count": 16,
   "id": "ba83bae0",
   "metadata": {},
   "outputs": [
    {
     "data": {
      "text/plain": [
       "20"
      ]
     },
     "execution_count": 16,
     "metadata": {},
     "output_type": "execute_result"
    }
   ],
   "source": [
    "len(stadium)"
   ]
  },
  {
   "cell_type": "code",
   "execution_count": 19,
   "id": "deb7e549",
   "metadata": {},
   "outputs": [],
   "source": [
    "match_title = []\n",
    "for j in stadium:\n",
    "    j = j[:8]\n",
    "    match_title.append(j)"
   ]
  },
  {
   "cell_type": "code",
   "execution_count": 21,
   "id": "822a51bc",
   "metadata": {},
   "outputs": [
    {
     "data": {
      "text/plain": [
       "20"
      ]
     },
     "execution_count": 21,
     "metadata": {},
     "output_type": "execute_result"
    }
   ],
   "source": [
    "len(match_title)"
   ]
  },
  {
   "cell_type": "code",
   "execution_count": 22,
   "id": "7d38bba4",
   "metadata": {},
   "outputs": [],
   "source": [
    "center = []\n",
    "for j in stadium:\n",
    "    j = j[10:]\n",
    "    center.append(j)"
   ]
  },
  {
   "cell_type": "code",
   "execution_count": 24,
   "id": "d50fb84a",
   "metadata": {},
   "outputs": [
    {
     "data": {
      "text/plain": [
       "20"
      ]
     },
     "execution_count": 24,
     "metadata": {},
     "output_type": "execute_result"
    }
   ],
   "source": [
    "len(center)"
   ]
  },
  {
   "cell_type": "code",
   "execution_count": 25,
   "id": "48245236",
   "metadata": {},
   "outputs": [],
   "source": [
    "dates = []\n",
    "da = driver.find_elements_by_xpath(\"//h5[@class= 'ng-binding']\")\n",
    "for i in da:\n",
    "    dates.append(i.text)"
   ]
  },
  {
   "cell_type": "code",
   "execution_count": 27,
   "id": "309f154e",
   "metadata": {},
   "outputs": [
    {
     "data": {
      "text/plain": [
       "20"
      ]
     },
     "execution_count": 27,
     "metadata": {},
     "output_type": "execute_result"
    }
   ],
   "source": [
    "len(dates)"
   ]
  },
  {
   "cell_type": "code",
   "execution_count": 28,
   "id": "16bbf9d6",
   "metadata": {},
   "outputs": [],
   "source": [
    "times = []\n",
    "ti = driver.find_elements_by_xpath(\"//h5[@class= 'text-right ng-binding']\")\n",
    "for i in ti:\n",
    "    times.append(i.text)"
   ]
  },
  {
   "cell_type": "code",
   "execution_count": 30,
   "id": "0f551826",
   "metadata": {},
   "outputs": [
    {
     "data": {
      "text/plain": [
       "20"
      ]
     },
     "execution_count": 30,
     "metadata": {},
     "output_type": "execute_result"
    }
   ],
   "source": [
    "len(times)"
   ]
  },
  {
   "cell_type": "code",
   "execution_count": 31,
   "id": "4bc57d70",
   "metadata": {},
   "outputs": [],
   "source": [
    "india_fixtures = pd.DataFrame({'Series Name': series_name, 'Match Title': match_title, 'Stadium Venue': center, 'Fixture Date': dates, 'Fixture Time': times})"
   ]
  },
  {
   "cell_type": "code",
   "execution_count": 32,
   "id": "c1c5c31c",
   "metadata": {},
   "outputs": [
    {
     "data": {
      "text/html": [
       "<div>\n",
       "<style scoped>\n",
       "    .dataframe tbody tr th:only-of-type {\n",
       "        vertical-align: middle;\n",
       "    }\n",
       "\n",
       "    .dataframe tbody tr th {\n",
       "        vertical-align: top;\n",
       "    }\n",
       "\n",
       "    .dataframe thead th {\n",
       "        text-align: right;\n",
       "    }\n",
       "</style>\n",
       "<table border=\"1\" class=\"dataframe\">\n",
       "  <thead>\n",
       "    <tr style=\"text-align: right;\">\n",
       "      <th></th>\n",
       "      <th>Series Name</th>\n",
       "      <th>Match Title</th>\n",
       "      <th>Stadium Venue</th>\n",
       "      <th>Fixture Date</th>\n",
       "      <th>Fixture Time</th>\n",
       "    </tr>\n",
       "  </thead>\n",
       "  <tbody>\n",
       "    <tr>\n",
       "      <th>0</th>\n",
       "      <td>INDIA TOUR OF SOUTH AFRICA TEST SERIES 2021-22</td>\n",
       "      <td>3rd Test</td>\n",
       "      <td>Newlands, Cape Town</td>\n",
       "      <td>11 JAN 2022</td>\n",
       "      <td>2:00 PM IST</td>\n",
       "    </tr>\n",
       "    <tr>\n",
       "      <th>1</th>\n",
       "      <td>INDIA TOUR OF SOUTH AFRICA ODI SERIES 2021/22</td>\n",
       "      <td>1st ODI</td>\n",
       "      <td>Boland Park, Paarl</td>\n",
       "      <td>19 JAN 2022</td>\n",
       "      <td>2:00 PM IST</td>\n",
       "    </tr>\n",
       "    <tr>\n",
       "      <th>2</th>\n",
       "      <td>INDIA TOUR OF SOUTH AFRICA ODI SERIES 2021/22</td>\n",
       "      <td>2nd ODI</td>\n",
       "      <td>Boland Park, Paarl</td>\n",
       "      <td>21 JAN 2022</td>\n",
       "      <td>2:00 PM IST</td>\n",
       "    </tr>\n",
       "    <tr>\n",
       "      <th>3</th>\n",
       "      <td>INDIA TOUR OF SOUTH AFRICA ODI SERIES 2021/22</td>\n",
       "      <td>3rd ODI</td>\n",
       "      <td>Newlands, Cape Town</td>\n",
       "      <td>23 JAN 2022</td>\n",
       "      <td>2:00 PM IST</td>\n",
       "    </tr>\n",
       "    <tr>\n",
       "      <th>4</th>\n",
       "      <td>WEST INDIES TOUR OF INDIA ODI SERIES 2022</td>\n",
       "      <td>1st ODI</td>\n",
       "      <td>NARENDRA MODI STADIUM, Ahmedabad</td>\n",
       "      <td>6 FEB 2022</td>\n",
       "      <td>9:30 AM IST</td>\n",
       "    </tr>\n",
       "    <tr>\n",
       "      <th>5</th>\n",
       "      <td>WEST INDIES TOUR OF INDIA ODI SERIES 2022</td>\n",
       "      <td>2nd ODI</td>\n",
       "      <td>Sawai Mansingh Stadium, Jaipur</td>\n",
       "      <td>9 FEB 2022</td>\n",
       "      <td>9:30 AM IST</td>\n",
       "    </tr>\n",
       "    <tr>\n",
       "      <th>6</th>\n",
       "      <td>WEST INDIES TOUR OF INDIA ODI SERIES 2022</td>\n",
       "      <td>3rd ODI</td>\n",
       "      <td>Eden Gardens, Kolkata</td>\n",
       "      <td>12 FEB 2022</td>\n",
       "      <td>9:30 AM IST</td>\n",
       "    </tr>\n",
       "    <tr>\n",
       "      <th>7</th>\n",
       "      <td>WEST INDIES TOUR OF INDIA T20 SERIES 2022</td>\n",
       "      <td>1st T20I</td>\n",
       "      <td>Barabati Stadium, Cuttack</td>\n",
       "      <td>15 FEB 2022</td>\n",
       "      <td>7:30 PM IST</td>\n",
       "    </tr>\n",
       "    <tr>\n",
       "      <th>8</th>\n",
       "      <td>WEST INDIES TOUR OF INDIA T20 SERIES 2022</td>\n",
       "      <td>2nd T20I</td>\n",
       "      <td>Dr YS Rajasekhara Reddy ACA-VDCA Cricket Stad...</td>\n",
       "      <td>18 FEB 2022</td>\n",
       "      <td>7:30 PM IST</td>\n",
       "    </tr>\n",
       "    <tr>\n",
       "      <th>9</th>\n",
       "      <td>WEST INDIES TOUR OF INDIA T20 SERIES 2022</td>\n",
       "      <td>3rd T20I</td>\n",
       "      <td>Greenfield International Stadium, Thiruvanant...</td>\n",
       "      <td>20 FEB 2022</td>\n",
       "      <td>7:30 PM IST</td>\n",
       "    </tr>\n",
       "    <tr>\n",
       "      <th>10</th>\n",
       "      <td>SRI LANKA TOUR OF INDIA TEST SERIES 2022</td>\n",
       "      <td>1st Test</td>\n",
       "      <td>M Chinnaswamy Stadium, Bengaluru</td>\n",
       "      <td>25 FEB 2022</td>\n",
       "      <td>9:30 AM IST</td>\n",
       "    </tr>\n",
       "    <tr>\n",
       "      <th>11</th>\n",
       "      <td>SRI LANKA TOUR OF INDIA TEST SERIES 2022</td>\n",
       "      <td>2nd Test</td>\n",
       "      <td>Punjab Cricket Association IS Bindra Stadium,...</td>\n",
       "      <td>5 MAR 2022</td>\n",
       "      <td>9:30 AM IST</td>\n",
       "    </tr>\n",
       "    <tr>\n",
       "      <th>12</th>\n",
       "      <td>SRI LANKA TOUR OF INDIA T20 SERIES 2022</td>\n",
       "      <td>1st T20I</td>\n",
       "      <td>Punjab Cricket Association IS Bindra Stadium,...</td>\n",
       "      <td>13 MAR 2022</td>\n",
       "      <td>7:30 PM IST</td>\n",
       "    </tr>\n",
       "    <tr>\n",
       "      <th>13</th>\n",
       "      <td>SRI LANKA TOUR OF INDIA T20 SERIES 2022</td>\n",
       "      <td>2nd T20I</td>\n",
       "      <td>Himachal Pradesh Cricket Association Stadium,...</td>\n",
       "      <td>15 MAR 2022</td>\n",
       "      <td>7:30 PM IST</td>\n",
       "    </tr>\n",
       "    <tr>\n",
       "      <th>14</th>\n",
       "      <td>SRI LANKA TOUR OF INDIA T20 SERIES 2022</td>\n",
       "      <td>3rd T20I</td>\n",
       "      <td>Bharat Ratna Shri Atal Bihari Vajpayee Ekana ...</td>\n",
       "      <td>18 MAR 2022</td>\n",
       "      <td>7:30 PM IST</td>\n",
       "    </tr>\n",
       "    <tr>\n",
       "      <th>15</th>\n",
       "      <td>SOUTH AFRICA TOUR OF INDIA T20 SERIES 2022</td>\n",
       "      <td>1st T20I</td>\n",
       "      <td>MA Chidambaram Stadium, Chennai</td>\n",
       "      <td>9 JUN 2022</td>\n",
       "      <td>7:30 PM IST</td>\n",
       "    </tr>\n",
       "    <tr>\n",
       "      <th>16</th>\n",
       "      <td>SOUTH AFRICA TOUR OF INDIA T20 SERIES 2022</td>\n",
       "      <td>2nd T20I</td>\n",
       "      <td>M Chinnaswamy Stadium, Bengaluru</td>\n",
       "      <td>12 JUN 2022</td>\n",
       "      <td>7:30 PM IST</td>\n",
       "    </tr>\n",
       "    <tr>\n",
       "      <th>17</th>\n",
       "      <td>SOUTH AFRICA TOUR OF INDIA T20 SERIES 2022</td>\n",
       "      <td>3rd T20I</td>\n",
       "      <td>Vidarbha Cricket Association Stadium, Nagpur</td>\n",
       "      <td>14 JUN 2022</td>\n",
       "      <td>7:30 PM IST</td>\n",
       "    </tr>\n",
       "    <tr>\n",
       "      <th>18</th>\n",
       "      <td>SOUTH AFRICA TOUR OF INDIA T20 SERIES 2022</td>\n",
       "      <td>4th T20I</td>\n",
       "      <td>Saurashtra Cricket Association Stadium, Rajkot</td>\n",
       "      <td>17 JUN 2022</td>\n",
       "      <td>7:30 PM IST</td>\n",
       "    </tr>\n",
       "    <tr>\n",
       "      <th>19</th>\n",
       "      <td>SOUTH AFRICA TOUR OF INDIA T20 SERIES 2022</td>\n",
       "      <td>5th T20I</td>\n",
       "      <td>Arun Jaitley Stadium, Delhi</td>\n",
       "      <td>19 JUN 2022</td>\n",
       "      <td>7:30 PM IST</td>\n",
       "    </tr>\n",
       "  </tbody>\n",
       "</table>\n",
       "</div>"
      ],
      "text/plain": [
       "                                       Series Name Match Title  \\\n",
       "0   INDIA TOUR OF SOUTH AFRICA TEST SERIES 2021-22    3rd Test   \n",
       "1    INDIA TOUR OF SOUTH AFRICA ODI SERIES 2021/22    1st ODI    \n",
       "2    INDIA TOUR OF SOUTH AFRICA ODI SERIES 2021/22    2nd ODI    \n",
       "3    INDIA TOUR OF SOUTH AFRICA ODI SERIES 2021/22    3rd ODI    \n",
       "4        WEST INDIES TOUR OF INDIA ODI SERIES 2022    1st ODI    \n",
       "5        WEST INDIES TOUR OF INDIA ODI SERIES 2022    2nd ODI    \n",
       "6        WEST INDIES TOUR OF INDIA ODI SERIES 2022    3rd ODI    \n",
       "7        WEST INDIES TOUR OF INDIA T20 SERIES 2022    1st T20I   \n",
       "8        WEST INDIES TOUR OF INDIA T20 SERIES 2022    2nd T20I   \n",
       "9        WEST INDIES TOUR OF INDIA T20 SERIES 2022    3rd T20I   \n",
       "10        SRI LANKA TOUR OF INDIA TEST SERIES 2022    1st Test   \n",
       "11        SRI LANKA TOUR OF INDIA TEST SERIES 2022    2nd Test   \n",
       "12         SRI LANKA TOUR OF INDIA T20 SERIES 2022    1st T20I   \n",
       "13         SRI LANKA TOUR OF INDIA T20 SERIES 2022    2nd T20I   \n",
       "14         SRI LANKA TOUR OF INDIA T20 SERIES 2022    3rd T20I   \n",
       "15      SOUTH AFRICA TOUR OF INDIA T20 SERIES 2022    1st T20I   \n",
       "16      SOUTH AFRICA TOUR OF INDIA T20 SERIES 2022    2nd T20I   \n",
       "17      SOUTH AFRICA TOUR OF INDIA T20 SERIES 2022    3rd T20I   \n",
       "18      SOUTH AFRICA TOUR OF INDIA T20 SERIES 2022    4th T20I   \n",
       "19      SOUTH AFRICA TOUR OF INDIA T20 SERIES 2022    5th T20I   \n",
       "\n",
       "                                        Stadium Venue Fixture Date  \\\n",
       "0                                 Newlands, Cape Town  11 JAN 2022   \n",
       "1                                  Boland Park, Paarl  19 JAN 2022   \n",
       "2                                  Boland Park, Paarl  21 JAN 2022   \n",
       "3                                 Newlands, Cape Town  23 JAN 2022   \n",
       "4                    NARENDRA MODI STADIUM, Ahmedabad   6 FEB 2022   \n",
       "5                      Sawai Mansingh Stadium, Jaipur   9 FEB 2022   \n",
       "6                               Eden Gardens, Kolkata  12 FEB 2022   \n",
       "7                           Barabati Stadium, Cuttack  15 FEB 2022   \n",
       "8    Dr YS Rajasekhara Reddy ACA-VDCA Cricket Stad...  18 FEB 2022   \n",
       "9    Greenfield International Stadium, Thiruvanant...  20 FEB 2022   \n",
       "10                   M Chinnaswamy Stadium, Bengaluru  25 FEB 2022   \n",
       "11   Punjab Cricket Association IS Bindra Stadium,...   5 MAR 2022   \n",
       "12   Punjab Cricket Association IS Bindra Stadium,...  13 MAR 2022   \n",
       "13   Himachal Pradesh Cricket Association Stadium,...  15 MAR 2022   \n",
       "14   Bharat Ratna Shri Atal Bihari Vajpayee Ekana ...  18 MAR 2022   \n",
       "15                    MA Chidambaram Stadium, Chennai   9 JUN 2022   \n",
       "16                   M Chinnaswamy Stadium, Bengaluru  12 JUN 2022   \n",
       "17       Vidarbha Cricket Association Stadium, Nagpur  14 JUN 2022   \n",
       "18     Saurashtra Cricket Association Stadium, Rajkot  17 JUN 2022   \n",
       "19                        Arun Jaitley Stadium, Delhi  19 JUN 2022   \n",
       "\n",
       "   Fixture Time  \n",
       "0   2:00 PM IST  \n",
       "1   2:00 PM IST  \n",
       "2   2:00 PM IST  \n",
       "3   2:00 PM IST  \n",
       "4   9:30 AM IST  \n",
       "5   9:30 AM IST  \n",
       "6   9:30 AM IST  \n",
       "7   7:30 PM IST  \n",
       "8   7:30 PM IST  \n",
       "9   7:30 PM IST  \n",
       "10  9:30 AM IST  \n",
       "11  9:30 AM IST  \n",
       "12  7:30 PM IST  \n",
       "13  7:30 PM IST  \n",
       "14  7:30 PM IST  \n",
       "15  7:30 PM IST  \n",
       "16  7:30 PM IST  \n",
       "17  7:30 PM IST  \n",
       "18  7:30 PM IST  \n",
       "19  7:30 PM IST  "
      ]
     },
     "execution_count": 32,
     "metadata": {},
     "output_type": "execute_result"
    }
   ],
   "source": [
    "india_fixtures"
   ]
  },
  {
   "cell_type": "markdown",
   "id": "5675292a",
   "metadata": {},
   "source": [
    "Ans 3. - Python program to scrape data about type of selenium exception from guru99.com webpage using selenium exception handling."
   ]
  },
  {
   "cell_type": "code",
   "execution_count": 70,
   "id": "92254542",
   "metadata": {},
   "outputs": [],
   "source": [
    "driver.get('https://www.guru99.com/')"
   ]
  },
  {
   "cell_type": "code",
   "execution_count": 71,
   "id": "2915dc1d",
   "metadata": {},
   "outputs": [],
   "source": [
    "se = driver.find_element_by_xpath(\"//input[@class= 'gsc-input']\")"
   ]
  },
  {
   "cell_type": "code",
   "execution_count": 73,
   "id": "c4d1a787",
   "metadata": {},
   "outputs": [],
   "source": [
    "se.send_keys(\"selenium exception handling\")"
   ]
  },
  {
   "cell_type": "code",
   "execution_count": 75,
   "id": "a91145a4",
   "metadata": {},
   "outputs": [],
   "source": [
    "se_btn = driver.find_element_by_xpath(\"//button[@class= 'gsc-search-button gsc-search-button-v2']\")"
   ]
  },
  {
   "cell_type": "code",
   "execution_count": 76,
   "id": "9e8b48a8",
   "metadata": {},
   "outputs": [],
   "source": [
    "se_btn.click()"
   ]
  },
  {
   "cell_type": "code",
   "execution_count": 38,
   "id": "6295d21f",
   "metadata": {},
   "outputs": [],
   "source": [
    "sel = driver.find_element_by_xpath(\"//a[@class= 'gs-title']\")"
   ]
  },
  {
   "cell_type": "code",
   "execution_count": 39,
   "id": "9a85eadb",
   "metadata": {},
   "outputs": [],
   "source": [
    "sel.click()"
   ]
  },
  {
   "cell_type": "code",
   "execution_count": 77,
   "id": "1d1b44b6",
   "metadata": {},
   "outputs": [],
   "source": [
    "ex = driver.find_element_by_xpath(\"//a[@class= 'gs-title']\").get_attribute('href')"
   ]
  },
  {
   "cell_type": "code",
   "execution_count": 78,
   "id": "eab679ad",
   "metadata": {},
   "outputs": [],
   "source": [
    "driver.get(ex)"
   ]
  },
  {
   "cell_type": "code",
   "execution_count": 79,
   "id": "890a353e",
   "metadata": {},
   "outputs": [],
   "source": [
    "s = driver.find_element_by_xpath(\"/html/body/div[1]/div/div/div/main/div/article/div/div/table/tbody/tr\")"
   ]
  },
  {
   "cell_type": "code",
   "execution_count": 80,
   "id": "e69ab666",
   "metadata": {},
   "outputs": [
    {
     "data": {
      "text/plain": [
       "'Exception name Description'"
      ]
     },
     "execution_count": 80,
     "metadata": {},
     "output_type": "execute_result"
    }
   ],
   "source": [
    "s.text"
   ]
  },
  {
   "cell_type": "code",
   "execution_count": 81,
   "id": "724b610c",
   "metadata": {},
   "outputs": [],
   "source": [
    "name=[]\n",
    "desc=[]\n",
    "for i in range(2,43):\n",
    "    name_chk = driver.find_element_by_xpath('//table[@class=\"table table-striped\"]/tbody/tr[{}]/td[1]'.format(i))\n",
    "    name.append(name_chk.text)\n",
    "\n",
    "    desc_chk = driver.find_element_by_xpath('//table[@class=\"table table-striped\"]/tbody/tr[{}]/td[2]'.format(i))\n",
    "    desc.append(desc_chk.text)"
   ]
  },
  {
   "cell_type": "code",
   "execution_count": 83,
   "id": "354fbd68",
   "metadata": {},
   "outputs": [
    {
     "data": {
      "text/plain": [
       "41"
      ]
     },
     "execution_count": 83,
     "metadata": {},
     "output_type": "execute_result"
    }
   ],
   "source": [
    "len(name)"
   ]
  },
  {
   "cell_type": "code",
   "execution_count": 85,
   "id": "386661c4",
   "metadata": {},
   "outputs": [
    {
     "data": {
      "text/plain": [
       "41"
      ]
     },
     "execution_count": 85,
     "metadata": {},
     "output_type": "execute_result"
    }
   ],
   "source": [
    "len(desc)"
   ]
  },
  {
   "cell_type": "code",
   "execution_count": 86,
   "id": "3e13aa2c",
   "metadata": {},
   "outputs": [],
   "source": [
    "exe_name = pd.DataFrame({'Name': name, 'Description': desc})"
   ]
  },
  {
   "cell_type": "code",
   "execution_count": 87,
   "id": "96b533eb",
   "metadata": {},
   "outputs": [
    {
     "data": {
      "text/html": [
       "<div>\n",
       "<style scoped>\n",
       "    .dataframe tbody tr th:only-of-type {\n",
       "        vertical-align: middle;\n",
       "    }\n",
       "\n",
       "    .dataframe tbody tr th {\n",
       "        vertical-align: top;\n",
       "    }\n",
       "\n",
       "    .dataframe thead th {\n",
       "        text-align: right;\n",
       "    }\n",
       "</style>\n",
       "<table border=\"1\" class=\"dataframe\">\n",
       "  <thead>\n",
       "    <tr style=\"text-align: right;\">\n",
       "      <th></th>\n",
       "      <th>Name</th>\n",
       "      <th>Description</th>\n",
       "    </tr>\n",
       "  </thead>\n",
       "  <tbody>\n",
       "    <tr>\n",
       "      <th>0</th>\n",
       "      <td>ElementNotVisibleException</td>\n",
       "      <td>This type of Selenium exception occurs when an...</td>\n",
       "    </tr>\n",
       "    <tr>\n",
       "      <th>1</th>\n",
       "      <td>ElementNotSelectableException</td>\n",
       "      <td>This Selenium exception occurs when an element...</td>\n",
       "    </tr>\n",
       "    <tr>\n",
       "      <th>2</th>\n",
       "      <td>NoSuchElementException</td>\n",
       "      <td>This Exception occurs if an element could not ...</td>\n",
       "    </tr>\n",
       "    <tr>\n",
       "      <th>3</th>\n",
       "      <td>NoSuchFrameException</td>\n",
       "      <td>This Exception occurs if the frame target to b...</td>\n",
       "    </tr>\n",
       "    <tr>\n",
       "      <th>4</th>\n",
       "      <td>NoAlertPresentException</td>\n",
       "      <td>This Exception occurs when you switch to no pr...</td>\n",
       "    </tr>\n",
       "    <tr>\n",
       "      <th>5</th>\n",
       "      <td>NoSuchWindowException</td>\n",
       "      <td>This Exception occurs if the window target to ...</td>\n",
       "    </tr>\n",
       "    <tr>\n",
       "      <th>6</th>\n",
       "      <td>StaleElementReferenceException</td>\n",
       "      <td>This Selenium exception occurs happens when th...</td>\n",
       "    </tr>\n",
       "    <tr>\n",
       "      <th>7</th>\n",
       "      <td>SessionNotFoundException</td>\n",
       "      <td>The WebDriver is acting after you quit the bro...</td>\n",
       "    </tr>\n",
       "    <tr>\n",
       "      <th>8</th>\n",
       "      <td>TimeoutException</td>\n",
       "      <td>Thrown when there is not enough time for a com...</td>\n",
       "    </tr>\n",
       "    <tr>\n",
       "      <th>9</th>\n",
       "      <td>WebDriverException</td>\n",
       "      <td>This Exception takes place when the WebDriver ...</td>\n",
       "    </tr>\n",
       "    <tr>\n",
       "      <th>10</th>\n",
       "      <td>ConnectionClosedException</td>\n",
       "      <td>This type of Exception takes place when there ...</td>\n",
       "    </tr>\n",
       "    <tr>\n",
       "      <th>11</th>\n",
       "      <td>ElementClickInterceptedException</td>\n",
       "      <td>The command may not be completed as the elemen...</td>\n",
       "    </tr>\n",
       "    <tr>\n",
       "      <th>12</th>\n",
       "      <td>ElementNotInteractableException</td>\n",
       "      <td>This Selenium exception is thrown when any ele...</td>\n",
       "    </tr>\n",
       "    <tr>\n",
       "      <th>13</th>\n",
       "      <td>ErrorInResponseException</td>\n",
       "      <td>This happens while interacting with the Firefo...</td>\n",
       "    </tr>\n",
       "    <tr>\n",
       "      <th>14</th>\n",
       "      <td>ErrorHandler.UnknownServerException</td>\n",
       "      <td>Exception is used as a placeholder in case if ...</td>\n",
       "    </tr>\n",
       "    <tr>\n",
       "      <th>15</th>\n",
       "      <td>ImeActivationFailedException</td>\n",
       "      <td>This expectation will occur when IME engine ac...</td>\n",
       "    </tr>\n",
       "    <tr>\n",
       "      <th>16</th>\n",
       "      <td>ImeNotAvailableException</td>\n",
       "      <td>It takes place when IME support is unavailable.</td>\n",
       "    </tr>\n",
       "    <tr>\n",
       "      <th>17</th>\n",
       "      <td>InsecureCertificateException</td>\n",
       "      <td>Navigation made the user agent to hit a certif...</td>\n",
       "    </tr>\n",
       "    <tr>\n",
       "      <th>18</th>\n",
       "      <td>InvalidArgumentException</td>\n",
       "      <td>It occurs when an argument does not belong to ...</td>\n",
       "    </tr>\n",
       "    <tr>\n",
       "      <th>19</th>\n",
       "      <td>InvalidCookieDomainException</td>\n",
       "      <td>This happens when you try to add a cookie unde...</td>\n",
       "    </tr>\n",
       "    <tr>\n",
       "      <th>20</th>\n",
       "      <td>InvalidCoordinatesException</td>\n",
       "      <td>This type of Exception matches an interacting ...</td>\n",
       "    </tr>\n",
       "    <tr>\n",
       "      <th>21</th>\n",
       "      <td>InvalidElementStateExceptio</td>\n",
       "      <td>It occurs when command can’t be finished when ...</td>\n",
       "    </tr>\n",
       "    <tr>\n",
       "      <th>22</th>\n",
       "      <td>InvalidSessionIdException</td>\n",
       "      <td>This Exception took place when the given sessi...</td>\n",
       "    </tr>\n",
       "    <tr>\n",
       "      <th>23</th>\n",
       "      <td>InvalidSwitchToTargetException</td>\n",
       "      <td>This occurs when the frame or window target to...</td>\n",
       "    </tr>\n",
       "    <tr>\n",
       "      <th>24</th>\n",
       "      <td>JavascriptException</td>\n",
       "      <td>This issue occurs while executing JavaScript g...</td>\n",
       "    </tr>\n",
       "    <tr>\n",
       "      <th>25</th>\n",
       "      <td>JsonException</td>\n",
       "      <td>It occurs when you afford to get the session w...</td>\n",
       "    </tr>\n",
       "    <tr>\n",
       "      <th>26</th>\n",
       "      <td>NoSuchAttributeException</td>\n",
       "      <td>This kind of Exception occurs when the attribu...</td>\n",
       "    </tr>\n",
       "    <tr>\n",
       "      <th>27</th>\n",
       "      <td>MoveTargetOutOfBoundsException</td>\n",
       "      <td>It takes place if the target provided to the A...</td>\n",
       "    </tr>\n",
       "    <tr>\n",
       "      <th>28</th>\n",
       "      <td>NoSuchContextException</td>\n",
       "      <td>ContextAware does mobile device testing.</td>\n",
       "    </tr>\n",
       "    <tr>\n",
       "      <th>29</th>\n",
       "      <td>NoSuchCookieException</td>\n",
       "      <td>This Exception occurs when no cookie matching ...</td>\n",
       "    </tr>\n",
       "    <tr>\n",
       "      <th>30</th>\n",
       "      <td>NotFoundException</td>\n",
       "      <td>This Exception is a subclass of WebDriverExcep...</td>\n",
       "    </tr>\n",
       "    <tr>\n",
       "      <th>31</th>\n",
       "      <td>RemoteDriverServerException</td>\n",
       "      <td>This Selenium exception is thrown when the ser...</td>\n",
       "    </tr>\n",
       "    <tr>\n",
       "      <th>32</th>\n",
       "      <td>ScreenshotException</td>\n",
       "      <td>It is not possible to capture a screen.</td>\n",
       "    </tr>\n",
       "    <tr>\n",
       "      <th>33</th>\n",
       "      <td>SessionNotCreatedException</td>\n",
       "      <td>It happens when a new session could not be suc...</td>\n",
       "    </tr>\n",
       "    <tr>\n",
       "      <th>34</th>\n",
       "      <td>UnableToSetCookieException</td>\n",
       "      <td>This occurs if a driver is unable to set a coo...</td>\n",
       "    </tr>\n",
       "    <tr>\n",
       "      <th>35</th>\n",
       "      <td>UnexpectedTagNameException</td>\n",
       "      <td>Happens if a support class did not get a web e...</td>\n",
       "    </tr>\n",
       "    <tr>\n",
       "      <th>36</th>\n",
       "      <td>UnhandledAlertException</td>\n",
       "      <td>This expectation occurs when there is an alert...</td>\n",
       "    </tr>\n",
       "    <tr>\n",
       "      <th>37</th>\n",
       "      <td>UnexpectedAlertPresentException</td>\n",
       "      <td>It occurs when there is the appearance of an u...</td>\n",
       "    </tr>\n",
       "    <tr>\n",
       "      <th>38</th>\n",
       "      <td>UnknownMethodException</td>\n",
       "      <td>This Exception happens when the requested comm...</td>\n",
       "    </tr>\n",
       "    <tr>\n",
       "      <th>39</th>\n",
       "      <td>UnreachableBrowserException</td>\n",
       "      <td>This Exception occurs only when the browser is...</td>\n",
       "    </tr>\n",
       "    <tr>\n",
       "      <th>40</th>\n",
       "      <td>UnsupportedCommandException</td>\n",
       "      <td>This occurs when remote WebDriver does n’t sen...</td>\n",
       "    </tr>\n",
       "  </tbody>\n",
       "</table>\n",
       "</div>"
      ],
      "text/plain": [
       "                                   Name  \\\n",
       "0            ElementNotVisibleException   \n",
       "1         ElementNotSelectableException   \n",
       "2                NoSuchElementException   \n",
       "3                  NoSuchFrameException   \n",
       "4               NoAlertPresentException   \n",
       "5                 NoSuchWindowException   \n",
       "6        StaleElementReferenceException   \n",
       "7              SessionNotFoundException   \n",
       "8                      TimeoutException   \n",
       "9                    WebDriverException   \n",
       "10            ConnectionClosedException   \n",
       "11     ElementClickInterceptedException   \n",
       "12      ElementNotInteractableException   \n",
       "13             ErrorInResponseException   \n",
       "14  ErrorHandler.UnknownServerException   \n",
       "15         ImeActivationFailedException   \n",
       "16             ImeNotAvailableException   \n",
       "17         InsecureCertificateException   \n",
       "18             InvalidArgumentException   \n",
       "19         InvalidCookieDomainException   \n",
       "20          InvalidCoordinatesException   \n",
       "21          InvalidElementStateExceptio   \n",
       "22            InvalidSessionIdException   \n",
       "23       InvalidSwitchToTargetException   \n",
       "24                  JavascriptException   \n",
       "25                        JsonException   \n",
       "26             NoSuchAttributeException   \n",
       "27       MoveTargetOutOfBoundsException   \n",
       "28               NoSuchContextException   \n",
       "29                NoSuchCookieException   \n",
       "30                    NotFoundException   \n",
       "31          RemoteDriverServerException   \n",
       "32                  ScreenshotException   \n",
       "33           SessionNotCreatedException   \n",
       "34           UnableToSetCookieException   \n",
       "35           UnexpectedTagNameException   \n",
       "36              UnhandledAlertException   \n",
       "37      UnexpectedAlertPresentException   \n",
       "38               UnknownMethodException   \n",
       "39          UnreachableBrowserException   \n",
       "40          UnsupportedCommandException   \n",
       "\n",
       "                                          Description  \n",
       "0   This type of Selenium exception occurs when an...  \n",
       "1   This Selenium exception occurs when an element...  \n",
       "2   This Exception occurs if an element could not ...  \n",
       "3   This Exception occurs if the frame target to b...  \n",
       "4   This Exception occurs when you switch to no pr...  \n",
       "5   This Exception occurs if the window target to ...  \n",
       "6   This Selenium exception occurs happens when th...  \n",
       "7   The WebDriver is acting after you quit the bro...  \n",
       "8   Thrown when there is not enough time for a com...  \n",
       "9   This Exception takes place when the WebDriver ...  \n",
       "10  This type of Exception takes place when there ...  \n",
       "11  The command may not be completed as the elemen...  \n",
       "12  This Selenium exception is thrown when any ele...  \n",
       "13  This happens while interacting with the Firefo...  \n",
       "14  Exception is used as a placeholder in case if ...  \n",
       "15  This expectation will occur when IME engine ac...  \n",
       "16    It takes place when IME support is unavailable.  \n",
       "17  Navigation made the user agent to hit a certif...  \n",
       "18  It occurs when an argument does not belong to ...  \n",
       "19  This happens when you try to add a cookie unde...  \n",
       "20  This type of Exception matches an interacting ...  \n",
       "21  It occurs when command can’t be finished when ...  \n",
       "22  This Exception took place when the given sessi...  \n",
       "23  This occurs when the frame or window target to...  \n",
       "24  This issue occurs while executing JavaScript g...  \n",
       "25  It occurs when you afford to get the session w...  \n",
       "26  This kind of Exception occurs when the attribu...  \n",
       "27  It takes place if the target provided to the A...  \n",
       "28           ContextAware does mobile device testing.  \n",
       "29  This Exception occurs when no cookie matching ...  \n",
       "30  This Exception is a subclass of WebDriverExcep...  \n",
       "31  This Selenium exception is thrown when the ser...  \n",
       "32            It is not possible to capture a screen.  \n",
       "33  It happens when a new session could not be suc...  \n",
       "34  This occurs if a driver is unable to set a coo...  \n",
       "35  Happens if a support class did not get a web e...  \n",
       "36  This expectation occurs when there is an alert...  \n",
       "37  It occurs when there is the appearance of an u...  \n",
       "38  This Exception happens when the requested comm...  \n",
       "39  This Exception occurs only when the browser is...  \n",
       "40  This occurs when remote WebDriver does n’t sen...  "
      ]
     },
     "execution_count": 87,
     "metadata": {},
     "output_type": "execute_result"
    }
   ],
   "source": [
    "exe_name"
   ]
  },
  {
   "cell_type": "markdown",
   "id": "9deef179",
   "metadata": {},
   "source": [
    "Ans 4. - Python program to scrape of GDP data of India state wise from statistics.com webpage using selenium."
   ]
  },
  {
   "cell_type": "code",
   "execution_count": 3,
   "id": "d43991bb",
   "metadata": {},
   "outputs": [],
   "source": [
    "driver.get('https://www.statisticstimes.com/')"
   ]
  },
  {
   "cell_type": "code",
   "execution_count": 4,
   "id": "be837347",
   "metadata": {},
   "outputs": [],
   "source": [
    "db = []\n",
    "d_btn = driver.find_elements_by_xpath(\"//div[@class= 'dropdown-content']/a\")"
   ]
  },
  {
   "cell_type": "code",
   "execution_count": 5,
   "id": "85242485",
   "metadata": {},
   "outputs": [],
   "source": [
    "for i in d_btn:\n",
    "    db.append(i.get_attribute('href'))"
   ]
  },
  {
   "cell_type": "code",
   "execution_count": 6,
   "id": "5049a9b1",
   "metadata": {},
   "outputs": [
    {
     "data": {
      "text/plain": [
       "['https://www.statisticstimes.com/index.php',\n",
       " 'https://www.statisticstimes.com/india.php',\n",
       " 'https://www.statisticstimes.com/economy/world-statistics.php',\n",
       " 'https://www.statisticstimes.com/economy/country-statistics.php',\n",
       " 'https://www.statisticstimes.com/economy/india-statistics.php',\n",
       " 'https://www.statisticstimes.com/demographics/world-statistics.php',\n",
       " 'https://www.statisticstimes.com/demographics/country-statistics.php',\n",
       " 'https://www.statisticstimes.com/demographics/india-statistics.php',\n",
       " 'https://www.statisticstimes.com/politics/india-statistics.php',\n",
       " 'https://www.statisticstimes.com/geography/world-statistics.php',\n",
       " 'https://www.statisticstimes.com/geography/india-statistics.php',\n",
       " 'https://www.statisticstimes.com/sports/world-statistics.php',\n",
       " 'https://www.statisticstimes.com/sports/india-statistics.php',\n",
       " 'https://www.statisticstimes.com/article/world-statistics.php',\n",
       " 'https://www.statisticstimes.com/article/india-statistics.php']"
      ]
     },
     "execution_count": 6,
     "metadata": {},
     "output_type": "execute_result"
    }
   ],
   "source": [
    "db"
   ]
  },
  {
   "cell_type": "code",
   "execution_count": 7,
   "id": "152351a1",
   "metadata": {},
   "outputs": [],
   "source": [
    "d = db[4]"
   ]
  },
  {
   "cell_type": "code",
   "execution_count": 8,
   "id": "6134379f",
   "metadata": {},
   "outputs": [
    {
     "data": {
      "text/plain": [
       "'https://www.statisticstimes.com/economy/india-statistics.php'"
      ]
     },
     "execution_count": 8,
     "metadata": {},
     "output_type": "execute_result"
    }
   ],
   "source": [
    "d"
   ]
  },
  {
   "cell_type": "code",
   "execution_count": 9,
   "id": "bb0694b6",
   "metadata": {},
   "outputs": [],
   "source": [
    "driver.get(d)"
   ]
  },
  {
   "cell_type": "code",
   "execution_count": 10,
   "id": "08729975",
   "metadata": {},
   "outputs": [],
   "source": [
    "sta = []\n",
    "state = driver.find_elements_by_xpath(\"//a[@class= 'ec']\")\n",
    "for i in state:\n",
    "    sta.append(i.get_attribute('href'))"
   ]
  },
  {
   "cell_type": "code",
   "execution_count": 11,
   "id": "204462a2",
   "metadata": {},
   "outputs": [
    {
     "data": {
      "text/plain": [
       "53"
      ]
     },
     "execution_count": 11,
     "metadata": {},
     "output_type": "execute_result"
    }
   ],
   "source": [
    "len(sta)"
   ]
  },
  {
   "cell_type": "code",
   "execution_count": 12,
   "id": "558ecae1",
   "metadata": {},
   "outputs": [
    {
     "data": {
      "text/plain": [
       "'https://www.statisticstimes.com/economy/india/indian-states-gdp.php'"
      ]
     },
     "execution_count": 12,
     "metadata": {},
     "output_type": "execute_result"
    }
   ],
   "source": [
    "sta[13]"
   ]
  },
  {
   "cell_type": "code",
   "execution_count": 13,
   "id": "57f61b1f",
   "metadata": {},
   "outputs": [],
   "source": [
    "driver.get(sta[13])"
   ]
  },
  {
   "cell_type": "code",
   "execution_count": 14,
   "id": "161b6e47",
   "metadata": {},
   "outputs": [],
   "source": [
    "rank1 = []\n",
    "ran1 = driver.find_elements_by_xpath(\"//tr[@class= 'odd']/td[1]\")\n",
    "for i in ran1:\n",
    "    rank1.append(i.text)"
   ]
  },
  {
   "cell_type": "code",
   "execution_count": 26,
   "id": "6bdf1e22",
   "metadata": {},
   "outputs": [
    {
     "data": {
      "text/plain": [
       "['1',\n",
       " '3',\n",
       " '5',\n",
       " '7',\n",
       " '9',\n",
       " '11',\n",
       " '13',\n",
       " '15',\n",
       " '17',\n",
       " '19',\n",
       " '21',\n",
       " '23',\n",
       " '25',\n",
       " '27',\n",
       " '29',\n",
       " '31',\n",
       " '33']"
      ]
     },
     "execution_count": 26,
     "metadata": {},
     "output_type": "execute_result"
    }
   ],
   "source": [
    "rank1 = rank1[:17]\n",
    "rank1"
   ]
  },
  {
   "cell_type": "code",
   "execution_count": 27,
   "id": "bc47da53",
   "metadata": {},
   "outputs": [],
   "source": [
    "rank2 = []\n",
    "ran2 = driver.find_elements_by_xpath(\"//tr[@class= 'even']/td[1]\")\n",
    "for i in ran2:\n",
    "    rank2.append(i.text)"
   ]
  },
  {
   "cell_type": "code",
   "execution_count": 28,
   "id": "3e00f8ac",
   "metadata": {},
   "outputs": [],
   "source": [
    "rank2 = rank2[:17]"
   ]
  },
  {
   "cell_type": "code",
   "execution_count": 29,
   "id": "26fb35ec",
   "metadata": {},
   "outputs": [],
   "source": [
    "rank3 = []\n",
    "for x, y in zip(rank1, rank2):\n",
    "    rank3 += [x, y]"
   ]
  },
  {
   "cell_type": "code",
   "execution_count": 31,
   "id": "0c4dfc71",
   "metadata": {},
   "outputs": [],
   "source": [
    "rank3 = rank3[:-1]"
   ]
  },
  {
   "cell_type": "code",
   "execution_count": 33,
   "id": "45025d64",
   "metadata": {},
   "outputs": [
    {
     "data": {
      "text/plain": [
       "33"
      ]
     },
     "execution_count": 33,
     "metadata": {},
     "output_type": "execute_result"
    }
   ],
   "source": [
    "len(rank3)"
   ]
  },
  {
   "cell_type": "code",
   "execution_count": 34,
   "id": "c4e01822",
   "metadata": {},
   "outputs": [],
   "source": [
    "name1 = []\n",
    "nam1 = driver.find_elements_by_xpath(\"//tr[@class= 'odd']/td[2]\")\n",
    "for i in nam1:\n",
    "    name1.append(i.text)\n",
    "    \n",
    "name2 = []\n",
    "for j in driver.find_elements_by_xpath(\"//tr[@class= 'even']/td[2]\"):\n",
    "    name2.append(j.text)"
   ]
  },
  {
   "cell_type": "code",
   "execution_count": 36,
   "id": "f4efe798",
   "metadata": {},
   "outputs": [],
   "source": [
    "name1 = name1[:17]"
   ]
  },
  {
   "cell_type": "code",
   "execution_count": 38,
   "id": "36fa066f",
   "metadata": {},
   "outputs": [
    {
     "data": {
      "text/plain": [
       "17"
      ]
     },
     "execution_count": 38,
     "metadata": {},
     "output_type": "execute_result"
    }
   ],
   "source": [
    "len(name1)"
   ]
  },
  {
   "cell_type": "code",
   "execution_count": 40,
   "id": "714e6c29",
   "metadata": {},
   "outputs": [],
   "source": [
    "name2 = name2[:17]"
   ]
  },
  {
   "cell_type": "code",
   "execution_count": 42,
   "id": "04638aa4",
   "metadata": {},
   "outputs": [
    {
     "data": {
      "text/plain": [
       "17"
      ]
     },
     "execution_count": 42,
     "metadata": {},
     "output_type": "execute_result"
    }
   ],
   "source": [
    "len(name2)"
   ]
  },
  {
   "cell_type": "code",
   "execution_count": 43,
   "id": "fdaa6d9e",
   "metadata": {},
   "outputs": [],
   "source": [
    "name3 = []\n",
    "for x, y in zip(name1, name2):\n",
    "    name3 += [x, y]"
   ]
  },
  {
   "cell_type": "code",
   "execution_count": 45,
   "id": "54e9dfa8",
   "metadata": {},
   "outputs": [],
   "source": [
    "name3 = name3[:-1]"
   ]
  },
  {
   "cell_type": "code",
   "execution_count": 47,
   "id": "cb6b100c",
   "metadata": {},
   "outputs": [
    {
     "data": {
      "text/plain": [
       "33"
      ]
     },
     "execution_count": 47,
     "metadata": {},
     "output_type": "execute_result"
    }
   ],
   "source": [
    "len(name3)"
   ]
  },
  {
   "cell_type": "code",
   "execution_count": 48,
   "id": "9a342ad0",
   "metadata": {},
   "outputs": [],
   "source": [
    "curr_gsdp1 = []\n",
    "for i in driver.find_elements_by_xpath(\"//tr[@class= 'odd']/td[3]\"):\n",
    "    curr_gsdp1.append(i.text)\n",
    "    \n",
    "curr_gsdp2 = []\n",
    "for j in driver.find_elements_by_xpath(\"//tr[@class= 'even']/td[3]\"):\n",
    "    curr_gsdp2.append(j.text)"
   ]
  },
  {
   "cell_type": "code",
   "execution_count": 51,
   "id": "0b513df6",
   "metadata": {},
   "outputs": [
    {
     "data": {
      "text/plain": [
       "17"
      ]
     },
     "execution_count": 51,
     "metadata": {},
     "output_type": "execute_result"
    }
   ],
   "source": [
    "curr_gsdp1 = curr_gsdp1[:17]\n",
    "len(curr_gsdp1)"
   ]
  },
  {
   "cell_type": "code",
   "execution_count": 52,
   "id": "f1bb3afb",
   "metadata": {},
   "outputs": [
    {
     "data": {
      "text/plain": [
       "17"
      ]
     },
     "execution_count": 52,
     "metadata": {},
     "output_type": "execute_result"
    }
   ],
   "source": [
    "curr_gsdp2 = curr_gsdp2[:17]\n",
    "len(curr_gsdp2)"
   ]
  },
  {
   "cell_type": "code",
   "execution_count": 53,
   "id": "12b21317",
   "metadata": {},
   "outputs": [],
   "source": [
    "curr_gsdp3 = []\n",
    "for x, y in zip(curr_gsdp1, curr_gsdp2):\n",
    "    curr_gsdp3 += [x, y]"
   ]
  },
  {
   "cell_type": "code",
   "execution_count": 55,
   "id": "ad483858",
   "metadata": {},
   "outputs": [
    {
     "data": {
      "text/plain": [
       "33"
      ]
     },
     "execution_count": 55,
     "metadata": {},
     "output_type": "execute_result"
    }
   ],
   "source": [
    "curr_gsdp3 = curr_gsdp3[:-1]\n",
    "len(curr_gsdp3)"
   ]
  },
  {
   "cell_type": "code",
   "execution_count": 56,
   "id": "db69036f",
   "metadata": {},
   "outputs": [],
   "source": [
    "c_gsdp1 = []\n",
    "for i in driver.find_elements_by_xpath(\"//tr[@class= 'odd']/td[4]\"):\n",
    "    c_gsdp1.append(i.text)\n",
    "    \n",
    "c_gsdp2 = []\n",
    "for j in driver.find_elements_by_xpath(\"//tr[@class= 'even']/td[4]\"):\n",
    "    c_gsdp2.append(j.text)"
   ]
  },
  {
   "cell_type": "code",
   "execution_count": 57,
   "id": "4df54eb9",
   "metadata": {},
   "outputs": [],
   "source": [
    "c_gsdp1 = c_gsdp1[:17]\n",
    "c_gsdp2 = c_gsdp2[:17]"
   ]
  },
  {
   "cell_type": "code",
   "execution_count": 58,
   "id": "f25b8319",
   "metadata": {},
   "outputs": [],
   "source": [
    "c_gsdp3 = []\n",
    "for x, y in zip(c_gsdp1, c_gsdp2):\n",
    "    c_gsdp3 += [x, y]"
   ]
  },
  {
   "cell_type": "code",
   "execution_count": 59,
   "id": "2f9a51ef",
   "metadata": {},
   "outputs": [
    {
     "data": {
      "text/plain": [
       "33"
      ]
     },
     "execution_count": 59,
     "metadata": {},
     "output_type": "execute_result"
    }
   ],
   "source": [
    "c_gsdp3 = c_gsdp3[:-1]\n",
    "len(c_gsdp3)"
   ]
  },
  {
   "cell_type": "code",
   "execution_count": 60,
   "id": "14ec499e",
   "metadata": {},
   "outputs": [],
   "source": [
    "share1 = []\n",
    "c_gsdp1 = []\n",
    "for i in driver.find_elements_by_xpath(\"//tr[@class= 'odd']/td[5]\"):\n",
    "    share1.append(i.text)\n",
    "    \n",
    "share2 = []\n",
    "for j in driver.find_elements_by_xpath(\"//tr[@class= 'even']/td[5]\"):\n",
    "    share2.append(j.text)"
   ]
  },
  {
   "cell_type": "code",
   "execution_count": 61,
   "id": "9443432d",
   "metadata": {},
   "outputs": [],
   "source": [
    "share1 = share1[:17]\n",
    "share2 = share2[:17]"
   ]
  },
  {
   "cell_type": "code",
   "execution_count": 62,
   "id": "e6161030",
   "metadata": {},
   "outputs": [],
   "source": [
    "share3 = []\n",
    "for x, y in zip(share1, share2):\n",
    "    share3 += [x, y]"
   ]
  },
  {
   "cell_type": "code",
   "execution_count": 63,
   "id": "597dd2bb",
   "metadata": {},
   "outputs": [
    {
     "data": {
      "text/plain": [
       "33"
      ]
     },
     "execution_count": 63,
     "metadata": {},
     "output_type": "execute_result"
    }
   ],
   "source": [
    "share3 = share3[:-1]\n",
    "len(share3)"
   ]
  },
  {
   "cell_type": "code",
   "execution_count": 64,
   "id": "bc047bea",
   "metadata": {},
   "outputs": [],
   "source": [
    "gdp1 = []\n",
    "for i in driver.find_elements_by_xpath(\"//tr[@class= 'odd']/td[6]\"):\n",
    "    gdp1.append(i.text)\n",
    "    \n",
    "gdp2 = []\n",
    "for j in driver.find_elements_by_xpath(\"//tr[@class= 'even']/td[6]\"):\n",
    "    gdp2.append(j.text)"
   ]
  },
  {
   "cell_type": "code",
   "execution_count": 65,
   "id": "b2a7d86e",
   "metadata": {},
   "outputs": [],
   "source": [
    "gdp1 = gdp1[:17]\n",
    "gdp2 = gdp2[:17]"
   ]
  },
  {
   "cell_type": "code",
   "execution_count": 67,
   "id": "374e114a",
   "metadata": {},
   "outputs": [],
   "source": [
    "gdp3 = []\n",
    "for x, y in zip(gdp1, gdp2):\n",
    "    gdp3 += [x, y]"
   ]
  },
  {
   "cell_type": "code",
   "execution_count": 68,
   "id": "5e7f9779",
   "metadata": {},
   "outputs": [
    {
     "data": {
      "text/plain": [
       "33"
      ]
     },
     "execution_count": 68,
     "metadata": {},
     "output_type": "execute_result"
    }
   ],
   "source": [
    "gdp3 = gdp3[:-1]\n",
    "len(gdp3)"
   ]
  },
  {
   "cell_type": "code",
   "execution_count": 69,
   "id": "4838cf7c",
   "metadata": {},
   "outputs": [],
   "source": [
    "past_gsdp1 = []\n",
    "for i in driver.find_elements_by_xpath(\"//tr[@class= 'odd']/td[7]\"):\n",
    "    past_gsdp1.append(i.text)\n",
    "    \n",
    "past_gsdp2 = []\n",
    "for j in driver.find_elements_by_xpath(\"//tr[@class= 'even']/td[7]\"):\n",
    "    past_gsdp2.append(j.text)"
   ]
  },
  {
   "cell_type": "code",
   "execution_count": 70,
   "id": "12e8b4a9",
   "metadata": {},
   "outputs": [],
   "source": [
    "past_gsdp1 = past_gsdp1[:17]\n",
    "past_gsdp2 = past_gsdp2[:17]"
   ]
  },
  {
   "cell_type": "code",
   "execution_count": 71,
   "id": "0975edef",
   "metadata": {},
   "outputs": [],
   "source": [
    "past_gsdp3 = []\n",
    "for x, y in zip(past_gsdp1, past_gsdp2):\n",
    "    past_gsdp3 += [x, y]"
   ]
  },
  {
   "cell_type": "code",
   "execution_count": 72,
   "id": "b8beef44",
   "metadata": {},
   "outputs": [
    {
     "data": {
      "text/plain": [
       "33"
      ]
     },
     "execution_count": 72,
     "metadata": {},
     "output_type": "execute_result"
    }
   ],
   "source": [
    "past_gsdp3 = past_gsdp3[:-1]\n",
    "len(past_gsdp3)"
   ]
  },
  {
   "cell_type": "code",
   "execution_count": 73,
   "id": "644d2083",
   "metadata": {},
   "outputs": [],
   "source": [
    "p_gsdp1 = []\n",
    "for i in driver.find_elements_by_xpath(\"//tr[@class= 'odd']/td[8]\"):\n",
    "    p_gsdp1.append(i.text)\n",
    "    \n",
    "p_gsdp2 = []\n",
    "for j in driver.find_elements_by_xpath(\"//tr[@class= 'even']/td[8]\"):\n",
    "    p_gsdp2.append(j.text)"
   ]
  },
  {
   "cell_type": "code",
   "execution_count": 74,
   "id": "03e77a32",
   "metadata": {},
   "outputs": [],
   "source": [
    "p_gsdp1 = p_gsdp1[:17]\n",
    "p_gsdp2 = p_gsdp2[:17]"
   ]
  },
  {
   "cell_type": "code",
   "execution_count": 77,
   "id": "47303cbc",
   "metadata": {},
   "outputs": [],
   "source": [
    "p_gsdp3 = []\n",
    "for x, y in zip(p_gsdp1, p_gsdp2):\n",
    "    p_gsdp3 += [x, y]"
   ]
  },
  {
   "cell_type": "code",
   "execution_count": 79,
   "id": "20928e14",
   "metadata": {},
   "outputs": [
    {
     "data": {
      "text/plain": [
       "32"
      ]
     },
     "execution_count": 79,
     "metadata": {},
     "output_type": "execute_result"
    }
   ],
   "source": [
    "len(p_gsdp3)"
   ]
  },
  {
   "cell_type": "code",
   "execution_count": 80,
   "id": "c913cff9",
   "metadata": {},
   "outputs": [],
   "source": [
    "p_gsdp3.append(np.nan)"
   ]
  },
  {
   "cell_type": "code",
   "execution_count": 82,
   "id": "9e785825",
   "metadata": {},
   "outputs": [],
   "source": [
    "states_gdp = pd.DataFrame({'Rank': rank3, 'State Name': name3, 'GSDP 1 at current prices': curr_gsdp3,\n",
    "                          'GSDP 2 at current prices': c_gsdp3, 'Share': share3, 'GDP in Billion $': gdp3,\n",
    "                          'GSDP 1 at 2011-12 prices': past_gsdp3, 'GSDP 2 at 2011-12 prices': p_gsdp3})"
   ]
  },
  {
   "cell_type": "code",
   "execution_count": 84,
   "id": "a0fe7354",
   "metadata": {},
   "outputs": [],
   "source": [
    "states_gdp['GSDP 2 at 2011-12 prices'] = states_gdp['GSDP 2 at 2011-12 prices'].replace(np.nan, '-')"
   ]
  },
  {
   "cell_type": "code",
   "execution_count": 85,
   "id": "dc187884",
   "metadata": {},
   "outputs": [
    {
     "data": {
      "text/html": [
       "<div>\n",
       "<style scoped>\n",
       "    .dataframe tbody tr th:only-of-type {\n",
       "        vertical-align: middle;\n",
       "    }\n",
       "\n",
       "    .dataframe tbody tr th {\n",
       "        vertical-align: top;\n",
       "    }\n",
       "\n",
       "    .dataframe thead th {\n",
       "        text-align: right;\n",
       "    }\n",
       "</style>\n",
       "<table border=\"1\" class=\"dataframe\">\n",
       "  <thead>\n",
       "    <tr style=\"text-align: right;\">\n",
       "      <th></th>\n",
       "      <th>Rank</th>\n",
       "      <th>State Name</th>\n",
       "      <th>GSDP 1 at current prices</th>\n",
       "      <th>GSDP 2 at current prices</th>\n",
       "      <th>Share</th>\n",
       "      <th>GDP in Billion $</th>\n",
       "      <th>GSDP 1 at 2011-12 prices</th>\n",
       "      <th>GSDP 2 at 2011-12 prices</th>\n",
       "    </tr>\n",
       "  </thead>\n",
       "  <tbody>\n",
       "    <tr>\n",
       "      <th>0</th>\n",
       "      <td>1</td>\n",
       "      <td>Maharashtra</td>\n",
       "      <td>-</td>\n",
       "      <td>2,632,792</td>\n",
       "      <td>13.94%</td>\n",
       "      <td>399.921</td>\n",
       "      <td>-</td>\n",
       "      <td>2,039,074</td>\n",
       "    </tr>\n",
       "    <tr>\n",
       "      <th>1</th>\n",
       "      <td>2</td>\n",
       "      <td>Tamil Nadu</td>\n",
       "      <td>1,845,853</td>\n",
       "      <td>1,630,208</td>\n",
       "      <td>8.63%</td>\n",
       "      <td>247.629</td>\n",
       "      <td>1,312,929</td>\n",
       "      <td>1,215,307</td>\n",
       "    </tr>\n",
       "    <tr>\n",
       "      <th>2</th>\n",
       "      <td>3</td>\n",
       "      <td>Uttar Pradesh</td>\n",
       "      <td>1,687,818</td>\n",
       "      <td>1,584,764</td>\n",
       "      <td>8.39%</td>\n",
       "      <td>240.726</td>\n",
       "      <td>1,166,817</td>\n",
       "      <td>1,123,982</td>\n",
       "    </tr>\n",
       "    <tr>\n",
       "      <th>3</th>\n",
       "      <td>4</td>\n",
       "      <td>Gujarat</td>\n",
       "      <td>-</td>\n",
       "      <td>1,502,899</td>\n",
       "      <td>7.96%</td>\n",
       "      <td>228.290</td>\n",
       "      <td>-</td>\n",
       "      <td>1,186,379</td>\n",
       "    </tr>\n",
       "    <tr>\n",
       "      <th>4</th>\n",
       "      <td>5</td>\n",
       "      <td>Karnataka</td>\n",
       "      <td>1,631,977</td>\n",
       "      <td>1,493,127</td>\n",
       "      <td>7.91%</td>\n",
       "      <td>226.806</td>\n",
       "      <td>1,156,039</td>\n",
       "      <td>1,091,077</td>\n",
       "    </tr>\n",
       "    <tr>\n",
       "      <th>5</th>\n",
       "      <td>6</td>\n",
       "      <td>West Bengal</td>\n",
       "      <td>1,253,832</td>\n",
       "      <td>1,089,898</td>\n",
       "      <td>5.77%</td>\n",
       "      <td>165.556</td>\n",
       "      <td>793,223</td>\n",
       "      <td>739,525</td>\n",
       "    </tr>\n",
       "    <tr>\n",
       "      <th>6</th>\n",
       "      <td>7</td>\n",
       "      <td>Rajasthan</td>\n",
       "      <td>1,020,989</td>\n",
       "      <td>942,586</td>\n",
       "      <td>4.99%</td>\n",
       "      <td>143.179</td>\n",
       "      <td>711,627</td>\n",
       "      <td>677,428</td>\n",
       "    </tr>\n",
       "    <tr>\n",
       "      <th>7</th>\n",
       "      <td>8</td>\n",
       "      <td>Andhra Pradesh</td>\n",
       "      <td>972,782</td>\n",
       "      <td>862,957</td>\n",
       "      <td>4.57%</td>\n",
       "      <td>131.083</td>\n",
       "      <td>672,018</td>\n",
       "      <td>621,301</td>\n",
       "    </tr>\n",
       "    <tr>\n",
       "      <th>8</th>\n",
       "      <td>9</td>\n",
       "      <td>Telangana</td>\n",
       "      <td>969,604</td>\n",
       "      <td>861,031</td>\n",
       "      <td>4.56%</td>\n",
       "      <td>130.791</td>\n",
       "      <td>663,258</td>\n",
       "      <td>612,828</td>\n",
       "    </tr>\n",
       "    <tr>\n",
       "      <th>9</th>\n",
       "      <td>10</td>\n",
       "      <td>Madhya Pradesh</td>\n",
       "      <td>906,672</td>\n",
       "      <td>809,592</td>\n",
       "      <td>4.29%</td>\n",
       "      <td>122.977</td>\n",
       "      <td>561,801</td>\n",
       "      <td>522,009</td>\n",
       "    </tr>\n",
       "    <tr>\n",
       "      <th>10</th>\n",
       "      <td>11</td>\n",
       "      <td>Kerala</td>\n",
       "      <td>-</td>\n",
       "      <td>781,653</td>\n",
       "      <td>4.14%</td>\n",
       "      <td>118.733</td>\n",
       "      <td>-</td>\n",
       "      <td>559,412</td>\n",
       "    </tr>\n",
       "    <tr>\n",
       "      <th>11</th>\n",
       "      <td>12</td>\n",
       "      <td>Delhi</td>\n",
       "      <td>856,112</td>\n",
       "      <td>774,870</td>\n",
       "      <td>4.10%</td>\n",
       "      <td>117.703</td>\n",
       "      <td>634,408</td>\n",
       "      <td>590,569</td>\n",
       "    </tr>\n",
       "    <tr>\n",
       "      <th>12</th>\n",
       "      <td>13</td>\n",
       "      <td>Haryana</td>\n",
       "      <td>831,610</td>\n",
       "      <td>734,163</td>\n",
       "      <td>3.89%</td>\n",
       "      <td>111.519</td>\n",
       "      <td>572,240</td>\n",
       "      <td>531,085</td>\n",
       "    </tr>\n",
       "    <tr>\n",
       "      <th>13</th>\n",
       "      <td>14</td>\n",
       "      <td>Bihar</td>\n",
       "      <td>611,804</td>\n",
       "      <td>530,363</td>\n",
       "      <td>2.81%</td>\n",
       "      <td>80.562</td>\n",
       "      <td>414,977</td>\n",
       "      <td>375,651</td>\n",
       "    </tr>\n",
       "    <tr>\n",
       "      <th>14</th>\n",
       "      <td>15</td>\n",
       "      <td>Punjab</td>\n",
       "      <td>574,760</td>\n",
       "      <td>526,376</td>\n",
       "      <td>2.79%</td>\n",
       "      <td>79.957</td>\n",
       "      <td>418,868</td>\n",
       "      <td>397,669</td>\n",
       "    </tr>\n",
       "    <tr>\n",
       "      <th>15</th>\n",
       "      <td>16</td>\n",
       "      <td>Odisha</td>\n",
       "      <td>521,275</td>\n",
       "      <td>487,805</td>\n",
       "      <td>2.58%</td>\n",
       "      <td>74.098</td>\n",
       "      <td>396,499</td>\n",
       "      <td>376,877</td>\n",
       "    </tr>\n",
       "    <tr>\n",
       "      <th>16</th>\n",
       "      <td>17</td>\n",
       "      <td>Assam</td>\n",
       "      <td>-</td>\n",
       "      <td>315,881</td>\n",
       "      <td>1.67%</td>\n",
       "      <td>47.982</td>\n",
       "      <td>-</td>\n",
       "      <td>234,048</td>\n",
       "    </tr>\n",
       "    <tr>\n",
       "      <th>17</th>\n",
       "      <td>18</td>\n",
       "      <td>Chhattisgarh</td>\n",
       "      <td>329,180</td>\n",
       "      <td>304,063</td>\n",
       "      <td>1.61%</td>\n",
       "      <td>46.187</td>\n",
       "      <td>243,477</td>\n",
       "      <td>231,182</td>\n",
       "    </tr>\n",
       "    <tr>\n",
       "      <th>18</th>\n",
       "      <td>19</td>\n",
       "      <td>Jharkhand</td>\n",
       "      <td>328,598</td>\n",
       "      <td>297,204</td>\n",
       "      <td>1.57%</td>\n",
       "      <td>45.145</td>\n",
       "      <td>240,036</td>\n",
       "      <td>224,986</td>\n",
       "    </tr>\n",
       "    <tr>\n",
       "      <th>19</th>\n",
       "      <td>20</td>\n",
       "      <td>Uttarakhand</td>\n",
       "      <td>-</td>\n",
       "      <td>245,895</td>\n",
       "      <td>1.30%</td>\n",
       "      <td>37.351</td>\n",
       "      <td>-</td>\n",
       "      <td>193,273</td>\n",
       "    </tr>\n",
       "    <tr>\n",
       "      <th>20</th>\n",
       "      <td>21</td>\n",
       "      <td>Jammu &amp; Kashmir</td>\n",
       "      <td>-</td>\n",
       "      <td>155,956</td>\n",
       "      <td>0.83%</td>\n",
       "      <td>23.690</td>\n",
       "      <td>-</td>\n",
       "      <td>112,755</td>\n",
       "    </tr>\n",
       "    <tr>\n",
       "      <th>21</th>\n",
       "      <td>22</td>\n",
       "      <td>Himachal Pradesh</td>\n",
       "      <td>165,472</td>\n",
       "      <td>153,845</td>\n",
       "      <td>0.81%</td>\n",
       "      <td>23.369</td>\n",
       "      <td>124,403</td>\n",
       "      <td>117,851</td>\n",
       "    </tr>\n",
       "    <tr>\n",
       "      <th>22</th>\n",
       "      <td>23</td>\n",
       "      <td>Goa</td>\n",
       "      <td>80,449</td>\n",
       "      <td>73,170</td>\n",
       "      <td>0.39%</td>\n",
       "      <td>11.115</td>\n",
       "      <td>63,408</td>\n",
       "      <td>57,787</td>\n",
       "    </tr>\n",
       "    <tr>\n",
       "      <th>23</th>\n",
       "      <td>24</td>\n",
       "      <td>Tripura</td>\n",
       "      <td>55,984</td>\n",
       "      <td>49,845</td>\n",
       "      <td>0.26%</td>\n",
       "      <td>7.571</td>\n",
       "      <td>40,583</td>\n",
       "      <td>36,963</td>\n",
       "    </tr>\n",
       "    <tr>\n",
       "      <th>24</th>\n",
       "      <td>25</td>\n",
       "      <td>Chandigarh</td>\n",
       "      <td>-</td>\n",
       "      <td>42,114</td>\n",
       "      <td>0.22%</td>\n",
       "      <td>6.397</td>\n",
       "      <td>-</td>\n",
       "      <td>31,192</td>\n",
       "    </tr>\n",
       "    <tr>\n",
       "      <th>25</th>\n",
       "      <td>26</td>\n",
       "      <td>Puducherry</td>\n",
       "      <td>38,253</td>\n",
       "      <td>34,433</td>\n",
       "      <td>0.18%</td>\n",
       "      <td>5.230</td>\n",
       "      <td>25,093</td>\n",
       "      <td>23,013</td>\n",
       "    </tr>\n",
       "    <tr>\n",
       "      <th>26</th>\n",
       "      <td>27</td>\n",
       "      <td>Meghalaya</td>\n",
       "      <td>36,572</td>\n",
       "      <td>33,481</td>\n",
       "      <td>0.18%</td>\n",
       "      <td>5.086</td>\n",
       "      <td>26,695</td>\n",
       "      <td>24,682</td>\n",
       "    </tr>\n",
       "    <tr>\n",
       "      <th>27</th>\n",
       "      <td>28</td>\n",
       "      <td>Sikkim</td>\n",
       "      <td>32,496</td>\n",
       "      <td>28,723</td>\n",
       "      <td>0.15%</td>\n",
       "      <td>4.363</td>\n",
       "      <td>20,017</td>\n",
       "      <td>18,722</td>\n",
       "    </tr>\n",
       "    <tr>\n",
       "      <th>28</th>\n",
       "      <td>29</td>\n",
       "      <td>Manipur</td>\n",
       "      <td>31,790</td>\n",
       "      <td>27,870</td>\n",
       "      <td>0.15%</td>\n",
       "      <td>4.233</td>\n",
       "      <td>20,673</td>\n",
       "      <td>19,300</td>\n",
       "    </tr>\n",
       "    <tr>\n",
       "      <th>29</th>\n",
       "      <td>30</td>\n",
       "      <td>Nagaland</td>\n",
       "      <td>-</td>\n",
       "      <td>27,283</td>\n",
       "      <td>0.14%</td>\n",
       "      <td>4.144</td>\n",
       "      <td>-</td>\n",
       "      <td>17,647</td>\n",
       "    </tr>\n",
       "    <tr>\n",
       "      <th>30</th>\n",
       "      <td>31</td>\n",
       "      <td>Arunachal Pradesh</td>\n",
       "      <td>-</td>\n",
       "      <td>24,603</td>\n",
       "      <td>0.13%</td>\n",
       "      <td>3.737</td>\n",
       "      <td>-</td>\n",
       "      <td>16,676</td>\n",
       "    </tr>\n",
       "    <tr>\n",
       "      <th>31</th>\n",
       "      <td>32</td>\n",
       "      <td>Mizoram</td>\n",
       "      <td>26,503</td>\n",
       "      <td>22,287</td>\n",
       "      <td>0.12%</td>\n",
       "      <td>3.385</td>\n",
       "      <td>18,797</td>\n",
       "      <td>16,478</td>\n",
       "    </tr>\n",
       "    <tr>\n",
       "      <th>32</th>\n",
       "      <td>33</td>\n",
       "      <td>Andaman &amp; Nicobar Islands</td>\n",
       "      <td>-</td>\n",
       "      <td>-</td>\n",
       "      <td>-</td>\n",
       "      <td>-</td>\n",
       "      <td>-</td>\n",
       "      <td>-</td>\n",
       "    </tr>\n",
       "  </tbody>\n",
       "</table>\n",
       "</div>"
      ],
      "text/plain": [
       "   Rank                 State Name GSDP 1 at current prices  \\\n",
       "0     1                Maharashtra                        -   \n",
       "1     2                 Tamil Nadu                1,845,853   \n",
       "2     3              Uttar Pradesh                1,687,818   \n",
       "3     4                    Gujarat                        -   \n",
       "4     5                  Karnataka                1,631,977   \n",
       "5     6                West Bengal                1,253,832   \n",
       "6     7                  Rajasthan                1,020,989   \n",
       "7     8             Andhra Pradesh                  972,782   \n",
       "8     9                  Telangana                  969,604   \n",
       "9    10             Madhya Pradesh                  906,672   \n",
       "10   11                     Kerala                        -   \n",
       "11   12                      Delhi                  856,112   \n",
       "12   13                    Haryana                  831,610   \n",
       "13   14                      Bihar                  611,804   \n",
       "14   15                     Punjab                  574,760   \n",
       "15   16                     Odisha                  521,275   \n",
       "16   17                      Assam                        -   \n",
       "17   18               Chhattisgarh                  329,180   \n",
       "18   19                  Jharkhand                  328,598   \n",
       "19   20                Uttarakhand                        -   \n",
       "20   21            Jammu & Kashmir                        -   \n",
       "21   22           Himachal Pradesh                  165,472   \n",
       "22   23                        Goa                   80,449   \n",
       "23   24                    Tripura                   55,984   \n",
       "24   25                 Chandigarh                        -   \n",
       "25   26                 Puducherry                   38,253   \n",
       "26   27                  Meghalaya                   36,572   \n",
       "27   28                     Sikkim                   32,496   \n",
       "28   29                    Manipur                   31,790   \n",
       "29   30                   Nagaland                        -   \n",
       "30   31          Arunachal Pradesh                        -   \n",
       "31   32                    Mizoram                   26,503   \n",
       "32   33  Andaman & Nicobar Islands                        -   \n",
       "\n",
       "   GSDP 2 at current prices   Share GDP in Billion $ GSDP 1 at 2011-12 prices  \\\n",
       "0                 2,632,792  13.94%          399.921                        -   \n",
       "1                 1,630,208   8.63%          247.629                1,312,929   \n",
       "2                 1,584,764   8.39%          240.726                1,166,817   \n",
       "3                 1,502,899   7.96%          228.290                        -   \n",
       "4                 1,493,127   7.91%          226.806                1,156,039   \n",
       "5                 1,089,898   5.77%          165.556                  793,223   \n",
       "6                   942,586   4.99%          143.179                  711,627   \n",
       "7                   862,957   4.57%          131.083                  672,018   \n",
       "8                   861,031   4.56%          130.791                  663,258   \n",
       "9                   809,592   4.29%          122.977                  561,801   \n",
       "10                  781,653   4.14%          118.733                        -   \n",
       "11                  774,870   4.10%          117.703                  634,408   \n",
       "12                  734,163   3.89%          111.519                  572,240   \n",
       "13                  530,363   2.81%           80.562                  414,977   \n",
       "14                  526,376   2.79%           79.957                  418,868   \n",
       "15                  487,805   2.58%           74.098                  396,499   \n",
       "16                  315,881   1.67%           47.982                        -   \n",
       "17                  304,063   1.61%           46.187                  243,477   \n",
       "18                  297,204   1.57%           45.145                  240,036   \n",
       "19                  245,895   1.30%           37.351                        -   \n",
       "20                  155,956   0.83%           23.690                        -   \n",
       "21                  153,845   0.81%           23.369                  124,403   \n",
       "22                   73,170   0.39%           11.115                   63,408   \n",
       "23                   49,845   0.26%            7.571                   40,583   \n",
       "24                   42,114   0.22%            6.397                        -   \n",
       "25                   34,433   0.18%            5.230                   25,093   \n",
       "26                   33,481   0.18%            5.086                   26,695   \n",
       "27                   28,723   0.15%            4.363                   20,017   \n",
       "28                   27,870   0.15%            4.233                   20,673   \n",
       "29                   27,283   0.14%            4.144                        -   \n",
       "30                   24,603   0.13%            3.737                        -   \n",
       "31                   22,287   0.12%            3.385                   18,797   \n",
       "32                        -       -                -                        -   \n",
       "\n",
       "   GSDP 2 at 2011-12 prices  \n",
       "0                 2,039,074  \n",
       "1                 1,215,307  \n",
       "2                 1,123,982  \n",
       "3                 1,186,379  \n",
       "4                 1,091,077  \n",
       "5                   739,525  \n",
       "6                   677,428  \n",
       "7                   621,301  \n",
       "8                   612,828  \n",
       "9                   522,009  \n",
       "10                  559,412  \n",
       "11                  590,569  \n",
       "12                  531,085  \n",
       "13                  375,651  \n",
       "14                  397,669  \n",
       "15                  376,877  \n",
       "16                  234,048  \n",
       "17                  231,182  \n",
       "18                  224,986  \n",
       "19                  193,273  \n",
       "20                  112,755  \n",
       "21                  117,851  \n",
       "22                   57,787  \n",
       "23                   36,963  \n",
       "24                   31,192  \n",
       "25                   23,013  \n",
       "26                   24,682  \n",
       "27                   18,722  \n",
       "28                   19,300  \n",
       "29                   17,647  \n",
       "30                   16,676  \n",
       "31                   16,478  \n",
       "32                        -  "
      ]
     },
     "execution_count": 85,
     "metadata": {},
     "output_type": "execute_result"
    }
   ],
   "source": [
    "states_gdp"
   ]
  },
  {
   "cell_type": "markdown",
   "id": "349286ed",
   "metadata": {},
   "source": [
    "Ans 5. - Python program to scrape the data of trending repository from github webpage using selenium."
   ]
  },
  {
   "cell_type": "code",
   "execution_count": 86,
   "id": "89bf4d80",
   "metadata": {},
   "outputs": [],
   "source": [
    "driver.get('https://github.com/')"
   ]
  },
  {
   "cell_type": "code",
   "execution_count": 88,
   "id": "7122393f",
   "metadata": {},
   "outputs": [],
   "source": [
    "slide = driver.find_element_by_xpath(\"//button[@class= 'js-details-target btn-link d-lg-none mt-1 color-fg-inherit']\")"
   ]
  },
  {
   "cell_type": "code",
   "execution_count": 89,
   "id": "62d2c5fb",
   "metadata": {},
   "outputs": [],
   "source": [
    "slide.click()"
   ]
  },
  {
   "cell_type": "code",
   "execution_count": 101,
   "id": "6fc7fb77",
   "metadata": {},
   "outputs": [],
   "source": [
    "ex = []\n",
    "exp = driver.find_elements_by_xpath(\"//ul[@class= 'list-style-none f5 pb-1']/li/a\")"
   ]
  },
  {
   "cell_type": "code",
   "execution_count": 102,
   "id": "5069b2cf",
   "metadata": {},
   "outputs": [],
   "source": [
    "for i in exp:\n",
    "    ex.append(i.get_attribute('href'))"
   ]
  },
  {
   "cell_type": "code",
   "execution_count": 103,
   "id": "3ff9e098",
   "metadata": {},
   "outputs": [
    {
     "data": {
      "text/plain": [
       "['https://github.com/features',\n",
       " 'https://github.com/mobile',\n",
       " 'https://github.com/features/actions',\n",
       " 'https://github.com/features/codespaces',\n",
       " 'https://github.com/features/packages',\n",
       " 'https://github.com/features/security',\n",
       " 'https://github.com/features/code-review',\n",
       " 'https://github.com/features/issues',\n",
       " 'https://github.com/features/integrations',\n",
       " 'https://github.com/sponsors',\n",
       " 'https://github.com/customer-stories',\n",
       " 'https://github.com/explore',\n",
       " 'https://github.com/topics',\n",
       " 'https://github.com/collections',\n",
       " 'https://github.com/trending',\n",
       " 'https://lab.github.com/',\n",
       " 'https://opensource.guide/',\n",
       " 'https://github.com/readme',\n",
       " 'https://github.com/events',\n",
       " 'https://github.community/',\n",
       " 'https://education.github.com/',\n",
       " 'https://stars.github.com/',\n",
       " 'https://github.com/pricing',\n",
       " 'https://github.com/pricing#compare-features',\n",
       " 'https://github.com/enterprise/contact',\n",
       " 'https://education.github.com/']"
      ]
     },
     "execution_count": 103,
     "metadata": {},
     "output_type": "execute_result"
    }
   ],
   "source": [
    "ex"
   ]
  },
  {
   "cell_type": "code",
   "execution_count": 105,
   "id": "b5a8d437",
   "metadata": {},
   "outputs": [
    {
     "data": {
      "text/plain": [
       "'https://github.com/trending'"
      ]
     },
     "execution_count": 105,
     "metadata": {},
     "output_type": "execute_result"
    }
   ],
   "source": [
    "ex[14]"
   ]
  },
  {
   "cell_type": "code",
   "execution_count": 106,
   "id": "125c6e4a",
   "metadata": {},
   "outputs": [],
   "source": [
    "driver.get(ex[14])"
   ]
  },
  {
   "cell_type": "code",
   "execution_count": 107,
   "id": "b26411cb",
   "metadata": {},
   "outputs": [],
   "source": [
    "url = []\n",
    "ur = driver.find_elements_by_xpath(\"//h1[@class= 'h3 lh-condensed']/a\")\n",
    "for i in ur:\n",
    "    url.append(i.get_attribute('href'))"
   ]
  },
  {
   "cell_type": "code",
   "execution_count": 108,
   "id": "1171a5a1",
   "metadata": {},
   "outputs": [
    {
     "data": {
      "text/plain": [
       "['https://github.com/Asabeneh/30-Days-Of-JavaScript',\n",
       " 'https://github.com/Igglybuff/awesome-piracy',\n",
       " 'https://github.com/521xueweihan/HelloGitHub',\n",
       " 'https://github.com/megadose/holehe',\n",
       " 'https://github.com/alibaba/xquic',\n",
       " 'https://github.com/TheAlgorithms/Python',\n",
       " 'https://github.com/freeCodeCamp/freeCodeCamp',\n",
       " 'https://github.com/VGVentures/slide_puzzle',\n",
       " 'https://github.com/iluwatar/java-design-patterns',\n",
       " 'https://github.com/withshepherd/faker.js',\n",
       " 'https://github.com/lynn/hello-wordl',\n",
       " 'https://github.com/TheAlgorithms/Java',\n",
       " 'https://github.com/sunym1993/flash-linux0.11-talk',\n",
       " 'https://github.com/ibraheemdev/modern-unix',\n",
       " 'https://github.com/faridrashidi/kaggle-solutions',\n",
       " 'https://github.com/solo-io/bumblebee',\n",
       " 'https://github.com/MichMich/MagicMirror',\n",
       " 'https://github.com/LaravelDaily/laravel-tips',\n",
       " 'https://github.com/BookStackApp/BookStack',\n",
       " 'https://github.com/akullpp/awesome-java',\n",
       " 'https://github.com/microsoft/PowerToys',\n",
       " 'https://github.com/kdn251/interviews',\n",
       " 'https://github.com/ascoders/weekly',\n",
       " 'https://github.com/facebookresearch/mae',\n",
       " 'https://github.com/JumpCrypto/crypto-reading-list']"
      ]
     },
     "execution_count": 108,
     "metadata": {},
     "output_type": "execute_result"
    }
   ],
   "source": [
    "url"
   ]
  },
  {
   "cell_type": "code",
   "execution_count": 109,
   "id": "a58d600e",
   "metadata": {},
   "outputs": [
    {
     "data": {
      "text/plain": [
       "25"
      ]
     },
     "execution_count": 109,
     "metadata": {},
     "output_type": "execute_result"
    }
   ],
   "source": [
    "len(url)"
   ]
  },
  {
   "cell_type": "code",
   "execution_count": 119,
   "id": "01b5252e",
   "metadata": {},
   "outputs": [],
   "source": [
    "title = []\n",
    "desc = []\n",
    "contr = []\n",
    "lang = []\n",
    "for i in url:\n",
    "    driver.get(i)\n",
    "    time.sleep(2)\n",
    "    try:\n",
    "        na = driver.find_element_by_xpath(\"//strong[@class= 'mr-2 flex-self-stretch']\")\n",
    "        title.append(na.text.replace(\"/n\",\"new line\"))\n",
    "    except:\n",
    "        title.append(\"-\")\n",
    "        \n",
    "    try:\n",
    "        de = driver.find_element_by_xpath(\"//p[@class= 'f4 my-3']\")\n",
    "        desc.append(de.text.replace(\"/n\",\"new line\"))\n",
    "    except:\n",
    "        desc.append(\"-\")\n",
    "        \n",
    "    try:\n",
    "        co = driver.find_element_by_xpath(\"//span[@class= 'Counter']\")\n",
    "        contr.append(co.text.replace(\"/n\",\"new line\"))\n",
    "    except:\n",
    "        contr.append(\"-\")\n",
    "        \n",
    "    try:\n",
    "        la = driver.find_element_by_xpath(\"//span[@class= 'color-fg-default text-bold mr-1']\")\n",
    "        lang.append(la.text.replace(\"/n\",\"new line\"))\n",
    "    except:\n",
    "        lang.append(\"-\")"
   ]
  },
  {
   "cell_type": "code",
   "execution_count": 124,
   "id": "33967fab",
   "metadata": {},
   "outputs": [],
   "source": [
    "trending_repository = pd.DataFrame({'Title': title, 'Description': desc, 'Contributors': contr, 'Language used': lang})"
   ]
  },
  {
   "cell_type": "code",
   "execution_count": 125,
   "id": "064d8242",
   "metadata": {},
   "outputs": [
    {
     "data": {
      "text/html": [
       "<div>\n",
       "<style scoped>\n",
       "    .dataframe tbody tr th:only-of-type {\n",
       "        vertical-align: middle;\n",
       "    }\n",
       "\n",
       "    .dataframe tbody tr th {\n",
       "        vertical-align: top;\n",
       "    }\n",
       "\n",
       "    .dataframe thead th {\n",
       "        text-align: right;\n",
       "    }\n",
       "</style>\n",
       "<table border=\"1\" class=\"dataframe\">\n",
       "  <thead>\n",
       "    <tr style=\"text-align: right;\">\n",
       "      <th></th>\n",
       "      <th>Title</th>\n",
       "      <th>Description</th>\n",
       "      <th>Contributors</th>\n",
       "      <th>Language used</th>\n",
       "    </tr>\n",
       "  </thead>\n",
       "  <tbody>\n",
       "    <tr>\n",
       "      <th>0</th>\n",
       "      <td>30-Days-Of-JavaScript</td>\n",
       "      <td>30 days of JavaScript programming challenge is...</td>\n",
       "      <td>2.7k</td>\n",
       "      <td>JavaScript</td>\n",
       "    </tr>\n",
       "    <tr>\n",
       "      <th>1</th>\n",
       "      <td>awesome-piracy</td>\n",
       "      <td>A curated list of awesome warez and piracy links</td>\n",
       "      <td>1.5k</td>\n",
       "      <td>HTML</td>\n",
       "    </tr>\n",
       "    <tr>\n",
       "      <th>2</th>\n",
       "      <td>HelloGitHub</td>\n",
       "      <td>分享 GitHub 上有趣、入门级的开源项目。Share interesting, entr...</td>\n",
       "      <td>7.3k</td>\n",
       "      <td>Python</td>\n",
       "    </tr>\n",
       "    <tr>\n",
       "      <th>3</th>\n",
       "      <td>holehe</td>\n",
       "      <td>holehe allows you to check if the mail is used...</td>\n",
       "      <td>218</td>\n",
       "      <td>Python</td>\n",
       "    </tr>\n",
       "    <tr>\n",
       "      <th>4</th>\n",
       "      <td>xquic</td>\n",
       "      <td>-</td>\n",
       "      <td>89</td>\n",
       "      <td>C</td>\n",
       "    </tr>\n",
       "    <tr>\n",
       "      <th>5</th>\n",
       "      <td>Python</td>\n",
       "      <td>All Algorithms implemented in Python</td>\n",
       "      <td>33.8k</td>\n",
       "      <td>Python</td>\n",
       "    </tr>\n",
       "    <tr>\n",
       "      <th>6</th>\n",
       "      <td>freeCodeCamp</td>\n",
       "      <td>freeCodeCamp.org's open-source codebase and cu...</td>\n",
       "      <td>27.7k</td>\n",
       "      <td>JavaScript</td>\n",
       "    </tr>\n",
       "    <tr>\n",
       "      <th>7</th>\n",
       "      <td>slide_puzzle</td>\n",
       "      <td>-</td>\n",
       "      <td>64</td>\n",
       "      <td>Dart</td>\n",
       "    </tr>\n",
       "    <tr>\n",
       "      <th>8</th>\n",
       "      <td>java-design-patterns</td>\n",
       "      <td>Design patterns implemented in Java</td>\n",
       "      <td>22.5k</td>\n",
       "      <td>Java</td>\n",
       "    </tr>\n",
       "    <tr>\n",
       "      <th>9</th>\n",
       "      <td>faker.js</td>\n",
       "      <td>-</td>\n",
       "      <td>172</td>\n",
       "      <td>JavaScript</td>\n",
       "    </tr>\n",
       "    <tr>\n",
       "      <th>10</th>\n",
       "      <td>hello-wordl</td>\n",
       "      <td>Wordle clone you can play forever</td>\n",
       "      <td>16</td>\n",
       "      <td>TypeScript</td>\n",
       "    </tr>\n",
       "    <tr>\n",
       "      <th>11</th>\n",
       "      <td>Java</td>\n",
       "      <td>All Algorithms implemented in Java</td>\n",
       "      <td>14.3k</td>\n",
       "      <td>Java</td>\n",
       "    </tr>\n",
       "    <tr>\n",
       "      <th>12</th>\n",
       "      <td>flash-linux0.11-talk</td>\n",
       "      <td>你管这破玩意叫操作系统源码 — 像小说一样品读 Linux 0.11 核心代码</td>\n",
       "      <td>346</td>\n",
       "      <td>C</td>\n",
       "    </tr>\n",
       "    <tr>\n",
       "      <th>13</th>\n",
       "      <td>modern-unix</td>\n",
       "      <td>A collection of modern/faster/saner alternativ...</td>\n",
       "      <td>444</td>\n",
       "      <td>-</td>\n",
       "    </tr>\n",
       "    <tr>\n",
       "      <th>14</th>\n",
       "      <td>kaggle-solutions</td>\n",
       "      <td>🏅 Collection of Kaggle Solutions and Ideas 🏅</td>\n",
       "      <td>282</td>\n",
       "      <td>HTML</td>\n",
       "    </tr>\n",
       "    <tr>\n",
       "      <th>15</th>\n",
       "      <td>bumblebee</td>\n",
       "      <td>Get eBPF programs running from the cloud to th...</td>\n",
       "      <td>13</td>\n",
       "      <td>C</td>\n",
       "    </tr>\n",
       "    <tr>\n",
       "      <th>16</th>\n",
       "      <td>MagicMirror</td>\n",
       "      <td>MagicMirror² is an open source modular smart m...</td>\n",
       "      <td>3.7k</td>\n",
       "      <td>JavaScript</td>\n",
       "    </tr>\n",
       "    <tr>\n",
       "      <th>17</th>\n",
       "      <td>laravel-tips</td>\n",
       "      <td>Awesome tips for Laravel</td>\n",
       "      <td>751</td>\n",
       "      <td>-</td>\n",
       "    </tr>\n",
       "    <tr>\n",
       "      <th>18</th>\n",
       "      <td>BookStack</td>\n",
       "      <td>A platform to create documentation/wiki conten...</td>\n",
       "      <td>1.2k</td>\n",
       "      <td>PHP</td>\n",
       "    </tr>\n",
       "    <tr>\n",
       "      <th>19</th>\n",
       "      <td>awesome-java</td>\n",
       "      <td>A curated list of awesome frameworks, librarie...</td>\n",
       "      <td>6.6k</td>\n",
       "      <td>-</td>\n",
       "    </tr>\n",
       "    <tr>\n",
       "      <th>20</th>\n",
       "      <td>PowerToys</td>\n",
       "      <td>Windows system utilities to maximize productivity</td>\n",
       "      <td>3.7k</td>\n",
       "      <td>C#</td>\n",
       "    </tr>\n",
       "    <tr>\n",
       "      <th>21</th>\n",
       "      <td>interviews</td>\n",
       "      <td>Everything you need to know to get the job.</td>\n",
       "      <td>11.7k</td>\n",
       "      <td>Java</td>\n",
       "    </tr>\n",
       "    <tr>\n",
       "      <th>22</th>\n",
       "      <td>weekly</td>\n",
       "      <td>前端精读周刊。帮你理解最前沿、实用的技术。</td>\n",
       "      <td>2k</td>\n",
       "      <td>JavaScript</td>\n",
       "    </tr>\n",
       "    <tr>\n",
       "      <th>23</th>\n",
       "      <td>mae</td>\n",
       "      <td>PyTorch implementation of MAE https//arxiv.org...</td>\n",
       "      <td>62</td>\n",
       "      <td>Python</td>\n",
       "    </tr>\n",
       "    <tr>\n",
       "      <th>24</th>\n",
       "      <td>crypto-reading-list</td>\n",
       "      <td>-</td>\n",
       "      <td>27</td>\n",
       "      <td>-</td>\n",
       "    </tr>\n",
       "  </tbody>\n",
       "</table>\n",
       "</div>"
      ],
      "text/plain": [
       "                    Title                                        Description  \\\n",
       "0   30-Days-Of-JavaScript  30 days of JavaScript programming challenge is...   \n",
       "1          awesome-piracy   A curated list of awesome warez and piracy links   \n",
       "2             HelloGitHub  分享 GitHub 上有趣、入门级的开源项目。Share interesting, entr...   \n",
       "3                  holehe  holehe allows you to check if the mail is used...   \n",
       "4                   xquic                                                  -   \n",
       "5                  Python               All Algorithms implemented in Python   \n",
       "6            freeCodeCamp  freeCodeCamp.org's open-source codebase and cu...   \n",
       "7            slide_puzzle                                                  -   \n",
       "8    java-design-patterns                Design patterns implemented in Java   \n",
       "9                faker.js                                                  -   \n",
       "10            hello-wordl                  Wordle clone you can play forever   \n",
       "11                   Java                 All Algorithms implemented in Java   \n",
       "12   flash-linux0.11-talk            你管这破玩意叫操作系统源码 — 像小说一样品读 Linux 0.11 核心代码   \n",
       "13            modern-unix  A collection of modern/faster/saner alternativ...   \n",
       "14       kaggle-solutions       🏅 Collection of Kaggle Solutions and Ideas 🏅   \n",
       "15              bumblebee  Get eBPF programs running from the cloud to th...   \n",
       "16            MagicMirror  MagicMirror² is an open source modular smart m...   \n",
       "17           laravel-tips                           Awesome tips for Laravel   \n",
       "18              BookStack  A platform to create documentation/wiki conten...   \n",
       "19           awesome-java  A curated list of awesome frameworks, librarie...   \n",
       "20              PowerToys  Windows system utilities to maximize productivity   \n",
       "21             interviews        Everything you need to know to get the job.   \n",
       "22                 weekly                              前端精读周刊。帮你理解最前沿、实用的技术。   \n",
       "23                    mae  PyTorch implementation of MAE https//arxiv.org...   \n",
       "24    crypto-reading-list                                                  -   \n",
       "\n",
       "   Contributors Language used  \n",
       "0          2.7k    JavaScript  \n",
       "1          1.5k          HTML  \n",
       "2          7.3k        Python  \n",
       "3           218        Python  \n",
       "4            89             C  \n",
       "5         33.8k        Python  \n",
       "6         27.7k    JavaScript  \n",
       "7            64          Dart  \n",
       "8         22.5k          Java  \n",
       "9           172    JavaScript  \n",
       "10           16    TypeScript  \n",
       "11        14.3k          Java  \n",
       "12          346             C  \n",
       "13          444             -  \n",
       "14          282          HTML  \n",
       "15           13             C  \n",
       "16         3.7k    JavaScript  \n",
       "17          751             -  \n",
       "18         1.2k           PHP  \n",
       "19         6.6k             -  \n",
       "20         3.7k            C#  \n",
       "21        11.7k          Java  \n",
       "22           2k    JavaScript  \n",
       "23           62        Python  \n",
       "24           27             -  "
      ]
     },
     "execution_count": 125,
     "metadata": {},
     "output_type": "execute_result"
    }
   ],
   "source": [
    "trending_repository"
   ]
  },
  {
   "cell_type": "markdown",
   "id": "05d4cf24",
   "metadata": {},
   "source": [
    "Ans 6. - Python program to scrape top 100 songs from billboards webpage using selenium."
   ]
  },
  {
   "cell_type": "code",
   "execution_count": 128,
   "id": "89792c3e",
   "metadata": {},
   "outputs": [],
   "source": [
    "driver.get('https://www.billboard.com/')"
   ]
  },
  {
   "cell_type": "code",
   "execution_count": 129,
   "id": "107e61bc",
   "metadata": {},
   "outputs": [],
   "source": [
    "slide = driver.find_element_by_xpath(\"//button[@class= 'o-icon-button lrv-a-unstyle-button lrv-a-unstyle-link lrv-u-cursor-pointer lrv-u-flex js-MegaMenu-Trigger lrv-u-color-grey:hover lrv-a-hover-effect']\")"
   ]
  },
  {
   "cell_type": "code",
   "execution_count": 130,
   "id": "6e0de108",
   "metadata": {},
   "outputs": [],
   "source": [
    "slide.click()"
   ]
  },
  {
   "cell_type": "code",
   "execution_count": 132,
   "id": "73b85cb1",
   "metadata": {},
   "outputs": [],
   "source": [
    "c = []\n",
    "ch = driver.find_elements_by_xpath(\"//a[@class= 'c-link  lrv-a-unstyle-link a-font-primary-bold lrv-u-font-size-28@desktop-xl lrv-u-font-size-18 lrv-u-color-grey:hover u-padding-a-1@desktop-max lrv-u-padding-b-050']\")\n",
    "for i in ch:\n",
    "    c.append(i.get_attribute('href'))"
   ]
  },
  {
   "cell_type": "code",
   "execution_count": 134,
   "id": "41bfbf1c",
   "metadata": {},
   "outputs": [
    {
     "data": {
      "text/plain": [
       "'https://www.billboard.com/charts/'"
      ]
     },
     "execution_count": 134,
     "metadata": {},
     "output_type": "execute_result"
    }
   ],
   "source": [
    "c[0]"
   ]
  },
  {
   "cell_type": "code",
   "execution_count": 135,
   "id": "46f25496",
   "metadata": {},
   "outputs": [],
   "source": [
    "driver.get(c[0])"
   ]
  },
  {
   "cell_type": "code",
   "execution_count": 138,
   "id": "3bae0a26",
   "metadata": {},
   "outputs": [],
   "source": [
    "bi = []\n",
    "bill = driver.find_elements_by_xpath(\"//a[@class= 'lrv-u-flex lrv-u-flex-direction-column']\")\n",
    "for i in bill:\n",
    "    bi.append(i.get_attribute('href'))"
   ]
  },
  {
   "cell_type": "code",
   "execution_count": 139,
   "id": "39968f03",
   "metadata": {},
   "outputs": [
    {
     "data": {
      "text/plain": [
       "['https://www.billboard.com/charts/hot-100/',\n",
       " 'https://www.billboard.com/charts/billboard-200/',\n",
       " 'https://www.billboard.com/charts/artist-100',\n",
       " 'https://www.billboard.com/charts/social-50',\n",
       " 'https://www.billboard.com/charts/streaming-songs',\n",
       " 'https://www.billboard.com/charts/radio-songs',\n",
       " 'https://www.billboard.com/charts/digital-song-sales',\n",
       " 'https://www.billboard.com/charts/top-album-sales',\n",
       " 'https://www.billboard.com/charts/current-albums',\n",
       " 'https://www.billboard.com/charts/catalog-albums',\n",
       " 'https://www.billboard.com/charts/independent-albums',\n",
       " 'https://www.billboard.com/charts/soundtracks',\n",
       " 'https://www.billboard.com/charts/vinyl-albums']"
      ]
     },
     "execution_count": 139,
     "metadata": {},
     "output_type": "execute_result"
    }
   ],
   "source": [
    "bi"
   ]
  },
  {
   "cell_type": "code",
   "execution_count": 142,
   "id": "0366a5e7",
   "metadata": {},
   "outputs": [
    {
     "data": {
      "text/plain": [
       "'https://www.billboard.com/charts/hot-100/'"
      ]
     },
     "execution_count": 142,
     "metadata": {},
     "output_type": "execute_result"
    }
   ],
   "source": [
    "bi[0]"
   ]
  },
  {
   "cell_type": "code",
   "execution_count": 143,
   "id": "e734ffea",
   "metadata": {},
   "outputs": [],
   "source": [
    "driver.get(bi[0])"
   ]
  },
  {
   "cell_type": "code",
   "execution_count": 144,
   "id": "301b94d2",
   "metadata": {},
   "outputs": [],
   "source": [
    "song_name = []\n",
    "for i in driver.find_elements_by_xpath(\"//h3[@class= 'c-title  a-no-trucate a-font-primary-bold-s u-letter-spacing-0021 u-font-size-23@tablet lrv-u-font-size-16 u-line-height-125 u-line-height-normal@mobile-max a-truncate-ellipsis u-max-width-245 u-max-width-230@tablet-only u-letter-spacing-0028@tablet']\"):\n",
    "    song_name.append(i.text)"
   ]
  },
  {
   "cell_type": "code",
   "execution_count": 145,
   "id": "ec8f06df",
   "metadata": {},
   "outputs": [
    {
     "data": {
      "text/plain": [
       "['All I Want For Christmas Is You']"
      ]
     },
     "execution_count": 145,
     "metadata": {},
     "output_type": "execute_result"
    }
   ],
   "source": [
    "song_name"
   ]
  },
  {
   "cell_type": "code",
   "execution_count": 146,
   "id": "d28c774d",
   "metadata": {},
   "outputs": [],
   "source": [
    "artist_name = []\n",
    "for i in driver.find_elements_by_xpath(\"//span[@class= 'c-label  a-no-trucate a-font-primary-s lrv-u-font-size-14@mobile-max u-line-height-normal@mobile-max u-letter-spacing-0021 lrv-u-display-block a-truncate-ellipsis-2line u-max-width-330 u-max-width-230@tablet-only u-font-size-20@tablet']\"):\n",
    "    artist_name.append(i.text)"
   ]
  },
  {
   "cell_type": "code",
   "execution_count": 147,
   "id": "c6a17e83",
   "metadata": {},
   "outputs": [
    {
     "data": {
      "text/plain": [
       "['Mariah Carey']"
      ]
     },
     "execution_count": 147,
     "metadata": {},
     "output_type": "execute_result"
    }
   ],
   "source": [
    "artist_name"
   ]
  },
  {
   "cell_type": "code",
   "execution_count": 165,
   "id": "dd4ef660",
   "metadata": {},
   "outputs": [],
   "source": [
    "last_week = []\n",
    "for i in driver.find_elements_by_xpath(\"//span[@class= 'c-label  a-font-primary-bold-l a-font-primary-m@mobile-max u-font-weight-normal@mobile-max lrv-u-padding-tb-050@mobile-max u-font-size-32@tablet']\"):\n",
    "    last_week.append(i.text)"
   ]
  },
  {
   "cell_type": "code",
   "execution_count": 166,
   "id": "3e71753c",
   "metadata": {},
   "outputs": [
    {
     "data": {
      "text/plain": [
       "['1', '1', '51', '', '', '']"
      ]
     },
     "execution_count": 166,
     "metadata": {},
     "output_type": "execute_result"
    }
   ],
   "source": [
    "last_week"
   ]
  },
  {
   "cell_type": "code",
   "execution_count": 167,
   "id": "91550500",
   "metadata": {},
   "outputs": [],
   "source": [
    "last = last_week[0]\n",
    "peak = last_week[1]\n",
    "weeks = last_week[2]"
   ]
  },
  {
   "cell_type": "code",
   "execution_count": 168,
   "id": "2cc25d12",
   "metadata": {},
   "outputs": [],
   "source": [
    "a = pd.DataFrame({'Name': song_name, 'Artitst': artist_name, 'Last Week Rank': last, 'Peak Rank': peak, 'Weeks on Board': weeks})"
   ]
  },
  {
   "cell_type": "code",
   "execution_count": 169,
   "id": "a4df548d",
   "metadata": {},
   "outputs": [
    {
     "data": {
      "text/html": [
       "<div>\n",
       "<style scoped>\n",
       "    .dataframe tbody tr th:only-of-type {\n",
       "        vertical-align: middle;\n",
       "    }\n",
       "\n",
       "    .dataframe tbody tr th {\n",
       "        vertical-align: top;\n",
       "    }\n",
       "\n",
       "    .dataframe thead th {\n",
       "        text-align: right;\n",
       "    }\n",
       "</style>\n",
       "<table border=\"1\" class=\"dataframe\">\n",
       "  <thead>\n",
       "    <tr style=\"text-align: right;\">\n",
       "      <th></th>\n",
       "      <th>Name</th>\n",
       "      <th>Artitst</th>\n",
       "      <th>Last Week Rank</th>\n",
       "      <th>Peak Rank</th>\n",
       "      <th>Weeks on Board</th>\n",
       "    </tr>\n",
       "  </thead>\n",
       "  <tbody>\n",
       "    <tr>\n",
       "      <th>0</th>\n",
       "      <td>All I Want For Christmas Is You</td>\n",
       "      <td>Mariah Carey</td>\n",
       "      <td>1</td>\n",
       "      <td>1</td>\n",
       "      <td>51</td>\n",
       "    </tr>\n",
       "  </tbody>\n",
       "</table>\n",
       "</div>"
      ],
      "text/plain": [
       "                              Name       Artitst Last Week Rank Peak Rank  \\\n",
       "0  All I Want For Christmas Is You  Mariah Carey              1         1   \n",
       "\n",
       "  Weeks on Board  \n",
       "0             51  "
      ]
     },
     "execution_count": 169,
     "metadata": {},
     "output_type": "execute_result"
    }
   ],
   "source": [
    "a"
   ]
  },
  {
   "cell_type": "code",
   "execution_count": 170,
   "id": "a4e64fd3",
   "metadata": {},
   "outputs": [],
   "source": [
    "song_name = []\n",
    "for i in driver.find_elements_by_xpath(\"//h3[@class= 'c-title  a-no-trucate a-font-primary-bold-s u-letter-spacing-0021 lrv-u-font-size-18@tablet lrv-u-font-size-16 u-line-height-125 u-line-height-normal@mobile-max a-truncate-ellipsis u-max-width-330 u-max-width-230@tablet-only']\"):\n",
    "    song_name.append(i.text)"
   ]
  },
  {
   "cell_type": "code",
   "execution_count": 172,
   "id": "d832740d",
   "metadata": {},
   "outputs": [
    {
     "data": {
      "text/plain": [
       "99"
      ]
     },
     "execution_count": 172,
     "metadata": {},
     "output_type": "execute_result"
    }
   ],
   "source": [
    "len(song_name)"
   ]
  },
  {
   "cell_type": "code",
   "execution_count": 173,
   "id": "d06458f3",
   "metadata": {},
   "outputs": [],
   "source": [
    "artist_name = []\n",
    "for i in driver.find_elements_by_xpath(\"//span[@class= 'c-label  a-no-trucate a-font-primary-s lrv-u-font-size-14@mobile-max u-line-height-normal@mobile-max u-letter-spacing-0021 lrv-u-display-block a-truncate-ellipsis-2line u-max-width-330 u-max-width-230@tablet-only']\"):\n",
    "    artist_name.append(i.text)"
   ]
  },
  {
   "cell_type": "code",
   "execution_count": 175,
   "id": "f0a8408f",
   "metadata": {},
   "outputs": [
    {
     "data": {
      "text/plain": [
       "99"
      ]
     },
     "execution_count": 175,
     "metadata": {},
     "output_type": "execute_result"
    }
   ],
   "source": [
    "len(artist_name)"
   ]
  },
  {
   "cell_type": "code",
   "execution_count": 181,
   "id": "f1c177fd",
   "metadata": {},
   "outputs": [],
   "source": [
    "last_week = []\n",
    "for i in driver.find_elements_by_xpath(\"//ul[@class= 'lrv-a-unstyle-list lrv-u-flex lrv-u-height-100p lrv-u-flex-direction-column@mobile-max']\"):\n",
    "    last_week.append(i.text)"
   ]
  },
  {
   "cell_type": "code",
   "execution_count": 183,
   "id": "0a8c6124",
   "metadata": {},
   "outputs": [
    {
     "data": {
      "text/plain": [
       "100"
      ]
     },
     "execution_count": 183,
     "metadata": {},
     "output_type": "execute_result"
    }
   ],
   "source": [
    "len(last_week)"
   ]
  },
  {
   "cell_type": "code",
   "execution_count": 185,
   "id": "9c78182e",
   "metadata": {},
   "outputs": [],
   "source": [
    "weeks = []\n",
    "for i in last_week:\n",
    "    i = i[-2:]\n",
    "    weeks.append(i)"
   ]
  },
  {
   "cell_type": "code",
   "execution_count": 188,
   "id": "fd138a35",
   "metadata": {},
   "outputs": [
    {
     "data": {
      "text/plain": [
       "99"
      ]
     },
     "execution_count": 188,
     "metadata": {},
     "output_type": "execute_result"
    }
   ],
   "source": [
    "weeks = weeks[1:]\n",
    "len(weeks)"
   ]
  },
  {
   "cell_type": "code",
   "execution_count": 207,
   "id": "c236ebbd",
   "metadata": {},
   "outputs": [],
   "source": [
    "peak = []\n",
    "for i in last_week:\n",
    "    i = i[-4:-3]\n",
    "    peak.append(i)"
   ]
  },
  {
   "cell_type": "code",
   "execution_count": 210,
   "id": "80134dd9",
   "metadata": {},
   "outputs": [
    {
     "data": {
      "text/plain": [
       "99"
      ]
     },
     "execution_count": 210,
     "metadata": {},
     "output_type": "execute_result"
    }
   ],
   "source": [
    "peak = peak[1:]\n",
    "len(peak)"
   ]
  },
  {
   "cell_type": "code",
   "execution_count": 211,
   "id": "b0a2aad3",
   "metadata": {},
   "outputs": [],
   "source": [
    "last = []\n",
    "for i in last_week:\n",
    "    i = i[-6:-5]\n",
    "    last.append(i)"
   ]
  },
  {
   "cell_type": "code",
   "execution_count": 214,
   "id": "f936e7c8",
   "metadata": {},
   "outputs": [
    {
     "data": {
      "text/plain": [
       "99"
      ]
     },
     "execution_count": 214,
     "metadata": {},
     "output_type": "execute_result"
    }
   ],
   "source": [
    "last = last[1:]\n",
    "len(last)"
   ]
  },
  {
   "cell_type": "code",
   "execution_count": 219,
   "id": "f0f3cf62",
   "metadata": {},
   "outputs": [],
   "source": [
    "b = pd.DataFrame({'Name': song_name, 'Artitst': artist_name, 'Last Week Rank': last, 'Peak Rank': peak, 'Weeks on Board': weeks})"
   ]
  },
  {
   "cell_type": "code",
   "execution_count": 220,
   "id": "ee005459",
   "metadata": {},
   "outputs": [],
   "source": [
    "top_songs = pd.concat([a, b], axis= 0)"
   ]
  },
  {
   "cell_type": "code",
   "execution_count": 223,
   "id": "9502df49",
   "metadata": {},
   "outputs": [],
   "source": [
    "top_songs = top_songs.reset_index()"
   ]
  },
  {
   "cell_type": "code",
   "execution_count": 225,
   "id": "a344ba0e",
   "metadata": {},
   "outputs": [],
   "source": [
    "top_songs.drop(['index'], axis= 1, inplace= True)"
   ]
  },
  {
   "cell_type": "code",
   "execution_count": 226,
   "id": "723c2d45",
   "metadata": {},
   "outputs": [
    {
     "data": {
      "text/html": [
       "<div>\n",
       "<style scoped>\n",
       "    .dataframe tbody tr th:only-of-type {\n",
       "        vertical-align: middle;\n",
       "    }\n",
       "\n",
       "    .dataframe tbody tr th {\n",
       "        vertical-align: top;\n",
       "    }\n",
       "\n",
       "    .dataframe thead th {\n",
       "        text-align: right;\n",
       "    }\n",
       "</style>\n",
       "<table border=\"1\" class=\"dataframe\">\n",
       "  <thead>\n",
       "    <tr style=\"text-align: right;\">\n",
       "      <th></th>\n",
       "      <th>Name</th>\n",
       "      <th>Artitst</th>\n",
       "      <th>Last Week Rank</th>\n",
       "      <th>Peak Rank</th>\n",
       "      <th>Weeks on Board</th>\n",
       "    </tr>\n",
       "  </thead>\n",
       "  <tbody>\n",
       "    <tr>\n",
       "      <th>0</th>\n",
       "      <td>All I Want For Christmas Is You</td>\n",
       "      <td>Mariah Carey</td>\n",
       "      <td>1</td>\n",
       "      <td>1</td>\n",
       "      <td>51</td>\n",
       "    </tr>\n",
       "    <tr>\n",
       "      <th>1</th>\n",
       "      <td>Easy On Me</td>\n",
       "      <td>Adele</td>\n",
       "      <td>5</td>\n",
       "      <td>1</td>\n",
       "      <td>12</td>\n",
       "    </tr>\n",
       "    <tr>\n",
       "      <th>2</th>\n",
       "      <td>Rockin' Around The Christmas Tree</td>\n",
       "      <td>Brenda Lee</td>\n",
       "      <td>2</td>\n",
       "      <td>2</td>\n",
       "      <td>45</td>\n",
       "    </tr>\n",
       "    <tr>\n",
       "      <th>3</th>\n",
       "      <td>Jingle Bell Rock</td>\n",
       "      <td>Bobby Helms</td>\n",
       "      <td>3</td>\n",
       "      <td>3</td>\n",
       "      <td>42</td>\n",
       "    </tr>\n",
       "    <tr>\n",
       "      <th>4</th>\n",
       "      <td>A Holly Jolly Christmas</td>\n",
       "      <td>Burl Ives</td>\n",
       "      <td>4</td>\n",
       "      <td>4</td>\n",
       "      <td>26</td>\n",
       "    </tr>\n",
       "    <tr>\n",
       "      <th>...</th>\n",
       "      <td>...</td>\n",
       "      <td>...</td>\n",
       "      <td>...</td>\n",
       "      <td>...</td>\n",
       "      <td>...</td>\n",
       "    </tr>\n",
       "    <tr>\n",
       "      <th>95</th>\n",
       "      <td>Beers On Me</td>\n",
       "      <td>Dierks Bentley, Breland &amp; HARDY</td>\n",
       "      <td>-</td>\n",
       "      <td>9</td>\n",
       "      <td>\\n1</td>\n",
       "    </tr>\n",
       "    <tr>\n",
       "      <th>96</th>\n",
       "      <td>Already Dead</td>\n",
       "      <td>Juice WRLD</td>\n",
       "      <td>8</td>\n",
       "      <td>2</td>\n",
       "      <td>\\n6</td>\n",
       "    </tr>\n",
       "    <tr>\n",
       "      <th>97</th>\n",
       "      <td>No Love</td>\n",
       "      <td>Summer Walker &amp; SZA</td>\n",
       "      <td>8</td>\n",
       "      <td>1</td>\n",
       "      <td>\\n8</td>\n",
       "    </tr>\n",
       "    <tr>\n",
       "      <th>98</th>\n",
       "      <td>23</td>\n",
       "      <td>Sam Hunt</td>\n",
       "      <td>-</td>\n",
       "      <td>9</td>\n",
       "      <td>\\n1</td>\n",
       "    </tr>\n",
       "    <tr>\n",
       "      <th>99</th>\n",
       "      <td>Family Ties</td>\n",
       "      <td>Baby Keem &amp; Kendrick Lamar</td>\n",
       "      <td>\\n</td>\n",
       "      <td>8</td>\n",
       "      <td>18</td>\n",
       "    </tr>\n",
       "  </tbody>\n",
       "</table>\n",
       "<p>100 rows × 5 columns</p>\n",
       "</div>"
      ],
      "text/plain": [
       "                                 Name                          Artitst  \\\n",
       "0     All I Want For Christmas Is You                     Mariah Carey   \n",
       "1                          Easy On Me                            Adele   \n",
       "2   Rockin' Around The Christmas Tree                       Brenda Lee   \n",
       "3                    Jingle Bell Rock                      Bobby Helms   \n",
       "4             A Holly Jolly Christmas                        Burl Ives   \n",
       "..                                ...                              ...   \n",
       "95                        Beers On Me  Dierks Bentley, Breland & HARDY   \n",
       "96                       Already Dead                       Juice WRLD   \n",
       "97                            No Love              Summer Walker & SZA   \n",
       "98                                 23                         Sam Hunt   \n",
       "99                        Family Ties       Baby Keem & Kendrick Lamar   \n",
       "\n",
       "   Last Week Rank Peak Rank Weeks on Board  \n",
       "0               1         1             51  \n",
       "1               5         1             12  \n",
       "2               2         2             45  \n",
       "3               3         3             42  \n",
       "4               4         4             26  \n",
       "..            ...       ...            ...  \n",
       "95              -         9            \\n1  \n",
       "96              8         2            \\n6  \n",
       "97              8         1            \\n8  \n",
       "98              -         9            \\n1  \n",
       "99             \\n         8             18  \n",
       "\n",
       "[100 rows x 5 columns]"
      ]
     },
     "execution_count": 226,
     "metadata": {},
     "output_type": "execute_result"
    }
   ],
   "source": [
    "top_songs"
   ]
  },
  {
   "cell_type": "markdown",
   "id": "30102bb0",
   "metadata": {},
   "source": [
    "Ans 7. - Python program to scrape data for recruiters from naukri.com webpage using selenium."
   ]
  },
  {
   "cell_type": "code",
   "execution_count": 4,
   "id": "f42f1639",
   "metadata": {},
   "outputs": [],
   "source": [
    "driver.get('https://www.naukri.com/')"
   ]
  },
  {
   "cell_type": "code",
   "execution_count": 5,
   "id": "96364fc7",
   "metadata": {},
   "outputs": [],
   "source": [
    "sub = []\n",
    "su = driver.find_elements_by_xpath(\"//div[@class= 'subMenu']/ul/li/a\")\n",
    "for i in su:\n",
    "    sub.append(i.get_attribute('href'))"
   ]
  },
  {
   "cell_type": "code",
   "execution_count": 6,
   "id": "4faefdfc",
   "metadata": {},
   "outputs": [
    {
     "data": {
      "text/plain": [
       "['https://www.naukri.com/recruiters/browse-all-recruiters',\n",
       " 'https://resume.naukri.com/contact-recruiters-hr?fftid=GNB_RC',\n",
       " 'https://naukrirecruiter.naukri.com/?src=128',\n",
       " 'https://www.naukri.com/top-company-jobs',\n",
       " 'https://www.ambitionbox.com/list-of-companies?utm_source=naukri&utm_medium=gnb',\n",
       " 'https://www.ambitionbox.com/interviews?utm_source=naukri&utm_medium=gnb',\n",
       " 'https://www.ambitionbox.com/contribute/company-review?utm_source=naukri&utm_medium=gnb',\n",
       " 'https://www.ambitionbox.com/contribute/interview-story?utm_source=naukri&utm_medium=gnb',\n",
       " 'https://www.ambitionbox.com/reviews?utm_source=naukri&utm_medium=gnb',\n",
       " 'https://www.ambitionbox.com/salaries?utm_source=naukri&utm_medium=desktop&utm_campaign=gnb',\n",
       " 'https://insights.naukri.com/careertools',\n",
       " 'https://insights.naukri.com/careertools/careerRole/',\n",
       " 'https://insights.naukri.com/careertools/industrytrends',\n",
       " 'https://insights.naukri.com/careertools/naukriLab',\n",
       " 'https://www.naukri.com/recruit/buy-resume-database-access-packages',\n",
       " 'https://www.naukri.com/recruit/login']"
      ]
     },
     "execution_count": 6,
     "metadata": {},
     "output_type": "execute_result"
    }
   ],
   "source": [
    "sub"
   ]
  },
  {
   "cell_type": "code",
   "execution_count": 7,
   "id": "e926a722",
   "metadata": {},
   "outputs": [
    {
     "data": {
      "text/plain": [
       "'https://www.naukri.com/recruiters/browse-all-recruiters'"
      ]
     },
     "execution_count": 7,
     "metadata": {},
     "output_type": "execute_result"
    }
   ],
   "source": [
    "sub[0]"
   ]
  },
  {
   "cell_type": "code",
   "execution_count": 8,
   "id": "946e1e8c",
   "metadata": {},
   "outputs": [],
   "source": [
    "driver.get(sub[0])"
   ]
  },
  {
   "cell_type": "code",
   "execution_count": 9,
   "id": "dd29e3ad",
   "metadata": {},
   "outputs": [],
   "source": [
    "se = driver.find_element_by_xpath(\"//input[@class= 'sugInp']\")"
   ]
  },
  {
   "cell_type": "code",
   "execution_count": 10,
   "id": "e3043b1f",
   "metadata": {},
   "outputs": [],
   "source": [
    "se.send_keys('Data Science')"
   ]
  },
  {
   "cell_type": "code",
   "execution_count": 11,
   "id": "d311b460",
   "metadata": {},
   "outputs": [],
   "source": [
    "se_btn = driver.find_element_by_xpath(\"//button[@class= 'fl qsbSrch blueBtn']\")"
   ]
  },
  {
   "cell_type": "code",
   "execution_count": 12,
   "id": "5c2de599",
   "metadata": {},
   "outputs": [],
   "source": [
    "se_btn.click()"
   ]
  },
  {
   "cell_type": "code",
   "execution_count": 23,
   "id": "62523b3f",
   "metadata": {},
   "outputs": [],
   "source": [
    "name = []\n",
    "for i in driver.find_elements_by_xpath(\"//span[@class= 'fl ellipsis']\"):\n",
    "    name.append(i.text)"
   ]
  },
  {
   "cell_type": "code",
   "execution_count": 26,
   "id": "17d74cab",
   "metadata": {},
   "outputs": [
    {
     "data": {
      "text/plain": [
       "50"
      ]
     },
     "execution_count": 26,
     "metadata": {},
     "output_type": "execute_result"
    }
   ],
   "source": [
    "len(name)"
   ]
  },
  {
   "cell_type": "code",
   "execution_count": 27,
   "id": "e0fc7e8d",
   "metadata": {},
   "outputs": [],
   "source": [
    "title = []\n",
    "for i in driver.find_elements_by_xpath(\"//span[@class= 'ellipsis clr']\"):\n",
    "    title.append(i.text)"
   ]
  },
  {
   "cell_type": "code",
   "execution_count": 29,
   "id": "1495cdcb",
   "metadata": {},
   "outputs": [
    {
     "data": {
      "text/plain": [
       "50"
      ]
     },
     "execution_count": 29,
     "metadata": {},
     "output_type": "execute_result"
    }
   ],
   "source": [
    "len(title)"
   ]
  },
  {
   "cell_type": "code",
   "execution_count": 30,
   "id": "45359180",
   "metadata": {},
   "outputs": [],
   "source": [
    "company = []\n",
    "for i in driver.find_elements_by_xpath(\"//a[@class= 'ellipsis']\"):\n",
    "    company.append(i.text)"
   ]
  },
  {
   "cell_type": "code",
   "execution_count": 64,
   "id": "705f7c8b",
   "metadata": {},
   "outputs": [
    {
     "data": {
      "text/plain": [
       "50"
      ]
     },
     "execution_count": 64,
     "metadata": {},
     "output_type": "execute_result"
    }
   ],
   "source": [
    "len(company) "
   ]
  },
  {
   "cell_type": "code",
   "execution_count": 35,
   "id": "5a381357",
   "metadata": {},
   "outputs": [],
   "source": [
    "company = company[1::2]"
   ]
  },
  {
   "cell_type": "code",
   "execution_count": 37,
   "id": "e09eab9d",
   "metadata": {},
   "outputs": [
    {
     "data": {
      "text/plain": [
       "50"
      ]
     },
     "execution_count": 37,
     "metadata": {},
     "output_type": "execute_result"
    }
   ],
   "source": [
    "len(company)"
   ]
  },
  {
   "cell_type": "code",
   "execution_count": 51,
   "id": "7bea7d44",
   "metadata": {},
   "outputs": [],
   "source": [
    "url = []\n",
    "for i in driver.find_elements_by_xpath(\"//p[@class= 'highlightable']/a\"):\n",
    "    url.append(i.get_attribute('href'))"
   ]
  },
  {
   "cell_type": "code",
   "execution_count": 54,
   "id": "17fd9dbc",
   "metadata": {},
   "outputs": [
    {
     "data": {
      "text/plain": [
       "50"
      ]
     },
     "execution_count": 54,
     "metadata": {},
     "output_type": "execute_result"
    }
   ],
   "source": [
    "len(url[0::2])"
   ]
  },
  {
   "cell_type": "code",
   "execution_count": 55,
   "id": "ea76093e",
   "metadata": {},
   "outputs": [],
   "source": [
    "url = url[0::2]"
   ]
  },
  {
   "cell_type": "code",
   "execution_count": 59,
   "id": "487bf37a",
   "metadata": {},
   "outputs": [],
   "source": [
    "location = []\n",
    "skill = []\n",
    "for i in url:\n",
    "    driver.get(i)\n",
    "    time.sleep(2)\n",
    "    try:\n",
    "        lo = driver.find_element_by_xpath(\"//div[@class= 'rFrame fl infoWrapper']/div[5]\")\n",
    "        location.append(lo.text.replace(\"/n\",\"new line\"))\n",
    "    except:\n",
    "        location.append(\"-\")\n",
    "        \n",
    "    try:\n",
    "        sk = driver.find_element_by_xpath(\"//div[@class= 'fl lPortn']/p\")\n",
    "        skill.append(sk.text.replace(\"/n\",\"new line\"))\n",
    "    except:\n",
    "        skill.append(\"-\")"
   ]
  },
  {
   "cell_type": "code",
   "execution_count": 61,
   "id": "2a7b9bef",
   "metadata": {},
   "outputs": [
    {
     "data": {
      "text/plain": [
       "50"
      ]
     },
     "execution_count": 61,
     "metadata": {},
     "output_type": "execute_result"
    }
   ],
   "source": [
    "len(location)"
   ]
  },
  {
   "cell_type": "code",
   "execution_count": 63,
   "id": "c4e70e4f",
   "metadata": {},
   "outputs": [
    {
     "data": {
      "text/plain": [
       "50"
      ]
     },
     "execution_count": 63,
     "metadata": {},
     "output_type": "execute_result"
    }
   ],
   "source": [
    "len(skill)"
   ]
  },
  {
   "cell_type": "code",
   "execution_count": 65,
   "id": "7325fd2f",
   "metadata": {},
   "outputs": [],
   "source": [
    "recruiter = pd.DataFrame({'Name': name, 'Job Title': title, 'Company': company, 'Location': location, 'Skills looking for hire': skill})"
   ]
  },
  {
   "cell_type": "code",
   "execution_count": 66,
   "id": "9a054244",
   "metadata": {},
   "outputs": [
    {
     "data": {
      "text/html": [
       "<div>\n",
       "<style scoped>\n",
       "    .dataframe tbody tr th:only-of-type {\n",
       "        vertical-align: middle;\n",
       "    }\n",
       "\n",
       "    .dataframe tbody tr th {\n",
       "        vertical-align: top;\n",
       "    }\n",
       "\n",
       "    .dataframe thead th {\n",
       "        text-align: right;\n",
       "    }\n",
       "</style>\n",
       "<table border=\"1\" class=\"dataframe\">\n",
       "  <thead>\n",
       "    <tr style=\"text-align: right;\">\n",
       "      <th></th>\n",
       "      <th>Name</th>\n",
       "      <th>Job Title</th>\n",
       "      <th>Company</th>\n",
       "      <th>Location</th>\n",
       "      <th>Skills looking for hire</th>\n",
       "    </tr>\n",
       "  </thead>\n",
       "  <tbody>\n",
       "    <tr>\n",
       "      <th>0</th>\n",
       "      <td>Aakash Harit</td>\n",
       "      <td>HR Manager</td>\n",
       "      <td>Data Science Network</td>\n",
       "      <td>Delhi</td>\n",
       "      <td>Classic ASP Developer , Internet Marketing Pro...</td>\n",
       "    </tr>\n",
       "    <tr>\n",
       "      <th>1</th>\n",
       "      <td>shravan Kumar Gaddam</td>\n",
       "      <td>Company Recruiter</td>\n",
       "      <td>Shore Infotech India Pvt. Ltd</td>\n",
       "      <td>Hyderabad / Secunderabad</td>\n",
       "      <td>.Net , Java , Data Science , Linux Administrat...</td>\n",
       "    </tr>\n",
       "    <tr>\n",
       "      <th>2</th>\n",
       "      <td>MARSIAN Technologies LLP</td>\n",
       "      <td>Company HR</td>\n",
       "      <td>MARSIAN Technologies LLP</td>\n",
       "      <td>Pune</td>\n",
       "      <td>Mid Level, Junior Level</td>\n",
       "    </tr>\n",
       "    <tr>\n",
       "      <th>3</th>\n",
       "      <td>Anik Agrawal</td>\n",
       "      <td>Company Recruiter</td>\n",
       "      <td>Enerlytics Software Solutions Pvt Ltd</td>\n",
       "      <td>Ahmedabad</td>\n",
       "      <td>, Mean Stack , javascript , angularjs , mongod...</td>\n",
       "    </tr>\n",
       "    <tr>\n",
       "      <th>4</th>\n",
       "      <td>subhas patel</td>\n",
       "      <td>Founder CEO</td>\n",
       "      <td>LibraryXProject</td>\n",
       "      <td>UK - (london)</td>\n",
       "      <td>Hadoop , Spark , Digital Strategy , Data Archi...</td>\n",
       "    </tr>\n",
       "    <tr>\n",
       "      <th>5</th>\n",
       "      <td>Abhishek - Only Analytics Hiring - India and</td>\n",
       "      <td>Recruitment Lead Consultant</td>\n",
       "      <td>Apidel Technologies Division of Transpower</td>\n",
       "      <td>Vadodara / Baroda</td>\n",
       "      <td>Analytics , Business Intelligence , Business A...</td>\n",
       "    </tr>\n",
       "    <tr>\n",
       "      <th>6</th>\n",
       "      <td>Institute for Financial Management and Resear</td>\n",
       "      <td>Programme Manager</td>\n",
       "      <td>IFMR</td>\n",
       "      <td>Chennai</td>\n",
       "      <td>Analytics &amp; Business Intelligence</td>\n",
       "    </tr>\n",
       "    <tr>\n",
       "      <th>7</th>\n",
       "      <td>Balu Ramesh</td>\n",
       "      <td>HR Administrator</td>\n",
       "      <td>Techvantage Systems Pvt Ltd</td>\n",
       "      <td>Trivandrum</td>\n",
       "      <td>Machine Learning , algorithms , Go Getter , Co...</td>\n",
       "    </tr>\n",
       "    <tr>\n",
       "      <th>8</th>\n",
       "      <td>Asif Lucknowi</td>\n",
       "      <td>Director</td>\n",
       "      <td>Weupskill- Live Wire India</td>\n",
       "      <td>Indore</td>\n",
       "      <td>-</td>\n",
       "    </tr>\n",
       "    <tr>\n",
       "      <th>9</th>\n",
       "      <td>InstaFinancials</td>\n",
       "      <td>Human Resource</td>\n",
       "      <td>CBL Data Science Private Limited</td>\n",
       "      <td>Bengaluru / Bangalore</td>\n",
       "      <td>Junior Level, Mid Level</td>\n",
       "    </tr>\n",
       "    <tr>\n",
       "      <th>10</th>\n",
       "      <td>Priyanka Akiri</td>\n",
       "      <td>HR Manager</td>\n",
       "      <td>Infinitive Software Solutions</td>\n",
       "      <td>Hyderabad</td>\n",
       "      <td>Mid Level, High Level</td>\n",
       "    </tr>\n",
       "    <tr>\n",
       "      <th>11</th>\n",
       "      <td>Kalpana Dumpala</td>\n",
       "      <td>Executive Hiring</td>\n",
       "      <td>Innominds Software</td>\n",
       "      <td>Hyderabad / Secunderabad</td>\n",
       "      <td>Qa , Ui , ux , Java Developer , Java Architect...</td>\n",
       "    </tr>\n",
       "    <tr>\n",
       "      <th>12</th>\n",
       "      <td>Mubarak</td>\n",
       "      <td>Company HR</td>\n",
       "      <td>MoneyTap</td>\n",
       "      <td>Bengaluru / Bangalore</td>\n",
       "      <td>-</td>\n",
       "    </tr>\n",
       "    <tr>\n",
       "      <th>13</th>\n",
       "      <td>Kushal Rastogi</td>\n",
       "      <td>Company HR</td>\n",
       "      <td>QuantMagnum Technologies Pvt. Ltd.</td>\n",
       "      <td>Mumbai</td>\n",
       "      <td>-</td>\n",
       "    </tr>\n",
       "    <tr>\n",
       "      <th>14</th>\n",
       "      <td>Mahesh Babu Channa</td>\n",
       "      <td>HR Team Lead</td>\n",
       "      <td>SocialPrachar.com</td>\n",
       "      <td>Hyderabad / Secunderabad</td>\n",
       "      <td>Junior Level, Mid Level</td>\n",
       "    </tr>\n",
       "    <tr>\n",
       "      <th>15</th>\n",
       "      <td>Sakshi Chhikara</td>\n",
       "      <td>Assistant Manager HR</td>\n",
       "      <td>BIZ INFOTECNO PRIVATE LIMITED</td>\n",
       "      <td>Chandigarh</td>\n",
       "      <td>High Level</td>\n",
       "    </tr>\n",
       "    <tr>\n",
       "      <th>16</th>\n",
       "      <td>Kapil Devang</td>\n",
       "      <td>HR Manager</td>\n",
       "      <td>BISP Solutions</td>\n",
       "      <td>Bhopal</td>\n",
       "      <td>Big Data , Hadoop , Data Analytics , Data Science</td>\n",
       "    </tr>\n",
       "    <tr>\n",
       "      <th>17</th>\n",
       "      <td>Ruchi Dhote</td>\n",
       "      <td>Senior Executive Talent Acquisition</td>\n",
       "      <td>Bristlecone India Ltd</td>\n",
       "      <td>Pune</td>\n",
       "      <td>IT Skills</td>\n",
       "    </tr>\n",
       "    <tr>\n",
       "      <th>18</th>\n",
       "      <td>Sandhya Khandagale</td>\n",
       "      <td>HR Recruiter</td>\n",
       "      <td>Compumatrice Multimedia Pvt Ltd</td>\n",
       "      <td>Pune</td>\n",
       "      <td>High Level, Mid Level</td>\n",
       "    </tr>\n",
       "    <tr>\n",
       "      <th>19</th>\n",
       "      <td>Manisha Yadav</td>\n",
       "      <td>HR Executive</td>\n",
       "      <td>Easi Tax</td>\n",
       "      <td>Navi Mumbai</td>\n",
       "      <td>Mid Level</td>\n",
       "    </tr>\n",
       "    <tr>\n",
       "      <th>20</th>\n",
       "      <td>Riya Rajesh</td>\n",
       "      <td>Manager Talent Acquisition</td>\n",
       "      <td>Novelworx Digital Solutions</td>\n",
       "      <td>Cochin</td>\n",
       "      <td>IT-Software/Software Services</td>\n",
       "    </tr>\n",
       "    <tr>\n",
       "      <th>21</th>\n",
       "      <td>Rashmi Bhattacharjee</td>\n",
       "      <td>HR Head</td>\n",
       "      <td>AXESTRACK SOFTWARE SOLUTIONS PRIVATE...</td>\n",
       "      <td>Delhi</td>\n",
       "      <td>Mid Level, Top Mangement Level</td>\n",
       "    </tr>\n",
       "    <tr>\n",
       "      <th>22</th>\n",
       "      <td>Faizan Kareem</td>\n",
       "      <td>HR MANAGER</td>\n",
       "      <td>FirstTech Consaltants Pvt.Ltd</td>\n",
       "      <td>Hyderabad / Secunderabad</td>\n",
       "      <td>Data Analytics , Data Science , Machine Learni...</td>\n",
       "    </tr>\n",
       "    <tr>\n",
       "      <th>23</th>\n",
       "      <td>Rithika dadwal</td>\n",
       "      <td>HR Recruiter</td>\n",
       "      <td>Affine Analytics</td>\n",
       "      <td>Pune</td>\n",
       "      <td>Junior Level, Mid Level</td>\n",
       "    </tr>\n",
       "    <tr>\n",
       "      <th>24</th>\n",
       "      <td>Shaun Rao</td>\n",
       "      <td>Manager Human Resources</td>\n",
       "      <td>Exela Technologies</td>\n",
       "      <td>Pune</td>\n",
       "      <td>Java , Net , Angularjs , Hr , Infrastructure ,...</td>\n",
       "    </tr>\n",
       "    <tr>\n",
       "      <th>25</th>\n",
       "      <td>Azahar Shaikh</td>\n",
       "      <td>Company Recruiter</td>\n",
       "      <td>NEAL ANALYTICS SERVICES PVT LTD</td>\n",
       "      <td>Pune</td>\n",
       "      <td>Mid Level, High Level</td>\n",
       "    </tr>\n",
       "    <tr>\n",
       "      <th>26</th>\n",
       "      <td>Manas</td>\n",
       "      <td>Lead Talent acquisition</td>\n",
       "      <td>Autumn Leaf Consulting Services Private...</td>\n",
       "      <td>Bengaluru / Bangalore</td>\n",
       "      <td>High Level, Top Mangement Level</td>\n",
       "    </tr>\n",
       "    <tr>\n",
       "      <th>27</th>\n",
       "      <td>kumar</td>\n",
       "      <td>Proprietor</td>\n",
       "      <td>trainin</td>\n",
       "      <td>Bengaluru / Bangalore</td>\n",
       "      <td>Data Science , Hadoop , Rpas , Devops , Python...</td>\n",
       "    </tr>\n",
       "    <tr>\n",
       "      <th>28</th>\n",
       "      <td>Sunil Vedula</td>\n",
       "      <td>CEO</td>\n",
       "      <td>Nanoprecise Sci Corp</td>\n",
       "      <td>Others</td>\n",
       "      <td>Signal Processing , Machine Learning , Neural ...</td>\n",
       "    </tr>\n",
       "    <tr>\n",
       "      <th>29</th>\n",
       "      <td>Rajat Kumar</td>\n",
       "      <td>Founder CEO</td>\n",
       "      <td>R.S Consultancy &amp;amp; Services</td>\n",
       "      <td>Delhi</td>\n",
       "      <td>Web Technologies , Project Management , Softwa...</td>\n",
       "    </tr>\n",
       "    <tr>\n",
       "      <th>30</th>\n",
       "      <td>Avodha</td>\n",
       "      <td>Business Development Associate</td>\n",
       "      <td>Nikitha Palaparthi</td>\n",
       "      <td>Hyderabad / Secunderabad</td>\n",
       "      <td>-</td>\n",
       "    </tr>\n",
       "    <tr>\n",
       "      <th>31</th>\n",
       "      <td>Jayanth N</td>\n",
       "      <td>Project Manager</td>\n",
       "      <td>Dollarbird Information Services Pvt, Ltd</td>\n",
       "      <td>Mysoru / Mysore</td>\n",
       "      <td>Data Analytics , Managed Services , Team Leading</td>\n",
       "    </tr>\n",
       "    <tr>\n",
       "      <th>32</th>\n",
       "      <td>Priya Khare</td>\n",
       "      <td>Senior Manager</td>\n",
       "      <td>Independent Consultant</td>\n",
       "      <td>Bengaluru / Bangalore</td>\n",
       "      <td>-</td>\n",
       "    </tr>\n",
       "    <tr>\n",
       "      <th>33</th>\n",
       "      <td>Dhruv Dev Dubey</td>\n",
       "      <td>Company Recruitment Head</td>\n",
       "      <td>Confidential</td>\n",
       "      <td>Bengaluru / Bangalore</td>\n",
       "      <td>S. Finance Manager , Freshers , Experience , S...</td>\n",
       "    </tr>\n",
       "    <tr>\n",
       "      <th>34</th>\n",
       "      <td>Amit Sharma</td>\n",
       "      <td>Consultant</td>\n",
       "      <td>ASCO consulting</td>\n",
       "      <td>New Delhi</td>\n",
       "      <td>-</td>\n",
       "    </tr>\n",
       "    <tr>\n",
       "      <th>35</th>\n",
       "      <td>Kanan</td>\n",
       "      <td>senior technology instructor</td>\n",
       "      <td>NY INST</td>\n",
       "      <td>Chennai</td>\n",
       "      <td>Mid Level, Junior Level</td>\n",
       "    </tr>\n",
       "    <tr>\n",
       "      <th>36</th>\n",
       "      <td>Shashikant Chaudhary</td>\n",
       "      <td>HR Recruiter/HR Excutive</td>\n",
       "      <td>3D India Staffing Research &amp;amp; Consulting...</td>\n",
       "      <td>Aligarh</td>\n",
       "      <td>-</td>\n",
       "    </tr>\n",
       "    <tr>\n",
       "      <th>37</th>\n",
       "      <td>Brad</td>\n",
       "      <td>Manager, Technical Recruiting</td>\n",
       "      <td>O.C. Tanner</td>\n",
       "      <td>Salt Lake City</td>\n",
       "      <td>Junior Level, High Level</td>\n",
       "    </tr>\n",
       "    <tr>\n",
       "      <th>38</th>\n",
       "      <td>Rutuja Pawar</td>\n",
       "      <td>Technical Recruiter</td>\n",
       "      <td>Demand Matrix</td>\n",
       "      <td>Pune</td>\n",
       "      <td>Python , Php , Qa Automation , Ui , Wordpre</td>\n",
       "    </tr>\n",
       "    <tr>\n",
       "      <th>39</th>\n",
       "      <td>Madhusudhan Sridhar</td>\n",
       "      <td>Erp Implementer</td>\n",
       "      <td>MADHUSUDHAN SRIDHAR</td>\n",
       "      <td>Bengaluru / Bangalore</td>\n",
       "      <td>-</td>\n",
       "    </tr>\n",
       "    <tr>\n",
       "      <th>40</th>\n",
       "      <td>Ankit Sinha</td>\n",
       "      <td>Head Analytics</td>\n",
       "      <td>Suntech Global</td>\n",
       "      <td>Mumbai</td>\n",
       "      <td>-</td>\n",
       "    </tr>\n",
       "    <tr>\n",
       "      <th>41</th>\n",
       "      <td>Gaurav Chouhan</td>\n",
       "      <td>Chief Technical Officer</td>\n",
       "      <td>Strategic Consulting Lab</td>\n",
       "      <td>Indore</td>\n",
       "      <td>Top Mangement Level, Junior Level</td>\n",
       "    </tr>\n",
       "    <tr>\n",
       "      <th>42</th>\n",
       "      <td>Rashi Kacker</td>\n",
       "      <td>Sr Product Manager</td>\n",
       "      <td>Impel Labs Pvt. Ltd.</td>\n",
       "      <td>Bengaluru / Bangalore</td>\n",
       "      <td>Data Science , Node.js , Angularjs</td>\n",
       "    </tr>\n",
       "    <tr>\n",
       "      <th>43</th>\n",
       "      <td>Ashwini</td>\n",
       "      <td>Director Global Delivery</td>\n",
       "      <td>MRP Advisers</td>\n",
       "      <td>MYSORE</td>\n",
       "      <td>-</td>\n",
       "    </tr>\n",
       "    <tr>\n",
       "      <th>44</th>\n",
       "      <td>Balaji Kolli</td>\n",
       "      <td>Co Founder</td>\n",
       "      <td>Saras Solutions India Pvt Ltd</td>\n",
       "      <td>Hyderabad / Secunderabad</td>\n",
       "      <td>-</td>\n",
       "    </tr>\n",
       "    <tr>\n",
       "      <th>45</th>\n",
       "      <td>Rajani Nagaraj</td>\n",
       "      <td>HR Manager</td>\n",
       "      <td>WildJasmine</td>\n",
       "      <td>Bengaluru / Bangalore</td>\n",
       "      <td>java , hadoop , r , Machine Learning , spark ,...</td>\n",
       "    </tr>\n",
       "    <tr>\n",
       "      <th>46</th>\n",
       "      <td>ROHIT Kumar</td>\n",
       "      <td>Architect</td>\n",
       "      <td>LNT Private Limited</td>\n",
       "      <td>Mumbai</td>\n",
       "      <td>Mid Level, High Level</td>\n",
       "    </tr>\n",
       "    <tr>\n",
       "      <th>47</th>\n",
       "      <td>Amir Chowdhury</td>\n",
       "      <td>Managing Partner</td>\n",
       "      <td>Granular.ai</td>\n",
       "      <td></td>\n",
       "      <td>-</td>\n",
       "    </tr>\n",
       "    <tr>\n",
       "      <th>48</th>\n",
       "      <td>SREEDHAR</td>\n",
       "      <td>Recruitment Consultant</td>\n",
       "      <td>JOBSMILL BUSINESS SOLUTIONS PRIVATE LIMITED</td>\n",
       "      <td>Hyderabad / Secunderabad</td>\n",
       "      <td>-</td>\n",
       "    </tr>\n",
       "    <tr>\n",
       "      <th>49</th>\n",
       "      <td>Radha Manivasagam</td>\n",
       "      <td>HR Executive</td>\n",
       "      <td>Techcovery</td>\n",
       "      <td>Bengaluru / Bangalore</td>\n",
       "      <td>Junior Level</td>\n",
       "    </tr>\n",
       "  </tbody>\n",
       "</table>\n",
       "</div>"
      ],
      "text/plain": [
       "                                             Name  \\\n",
       "0                                    Aakash Harit   \n",
       "1                            shravan Kumar Gaddam   \n",
       "2                        MARSIAN Technologies LLP   \n",
       "3                                    Anik Agrawal   \n",
       "4                                    subhas patel   \n",
       "5    Abhishek - Only Analytics Hiring - India and   \n",
       "6   Institute for Financial Management and Resear   \n",
       "7                                     Balu Ramesh   \n",
       "8                                   Asif Lucknowi   \n",
       "9                                 InstaFinancials   \n",
       "10                                 Priyanka Akiri   \n",
       "11                                Kalpana Dumpala   \n",
       "12                                        Mubarak   \n",
       "13                                 Kushal Rastogi   \n",
       "14                             Mahesh Babu Channa   \n",
       "15                                Sakshi Chhikara   \n",
       "16                                   Kapil Devang   \n",
       "17                                    Ruchi Dhote   \n",
       "18                             Sandhya Khandagale   \n",
       "19                                  Manisha Yadav   \n",
       "20                                    Riya Rajesh   \n",
       "21                           Rashmi Bhattacharjee   \n",
       "22                                  Faizan Kareem   \n",
       "23                                 Rithika dadwal   \n",
       "24                                      Shaun Rao   \n",
       "25                                  Azahar Shaikh   \n",
       "26                                          Manas   \n",
       "27                                          kumar   \n",
       "28                                   Sunil Vedula   \n",
       "29                                    Rajat Kumar   \n",
       "30                                         Avodha   \n",
       "31                                      Jayanth N   \n",
       "32                                    Priya Khare   \n",
       "33                                Dhruv Dev Dubey   \n",
       "34                                    Amit Sharma   \n",
       "35                                          Kanan   \n",
       "36                           Shashikant Chaudhary   \n",
       "37                                           Brad   \n",
       "38                                   Rutuja Pawar   \n",
       "39                            Madhusudhan Sridhar   \n",
       "40                                    Ankit Sinha   \n",
       "41                                 Gaurav Chouhan   \n",
       "42                                   Rashi Kacker   \n",
       "43                                        Ashwini   \n",
       "44                                   Balaji Kolli   \n",
       "45                                 Rajani Nagaraj   \n",
       "46                                    ROHIT Kumar   \n",
       "47                                 Amir Chowdhury   \n",
       "48                                       SREEDHAR   \n",
       "49                              Radha Manivasagam   \n",
       "\n",
       "                              Job Title  \\\n",
       "0                            HR Manager   \n",
       "1                     Company Recruiter   \n",
       "2                            Company HR   \n",
       "3                     Company Recruiter   \n",
       "4                           Founder CEO   \n",
       "5           Recruitment Lead Consultant   \n",
       "6                     Programme Manager   \n",
       "7                      HR Administrator   \n",
       "8                              Director   \n",
       "9                        Human Resource   \n",
       "10                           HR Manager   \n",
       "11                     Executive Hiring   \n",
       "12                           Company HR   \n",
       "13                           Company HR   \n",
       "14                         HR Team Lead   \n",
       "15                 Assistant Manager HR   \n",
       "16                           HR Manager   \n",
       "17  Senior Executive Talent Acquisition   \n",
       "18                         HR Recruiter   \n",
       "19                         HR Executive   \n",
       "20           Manager Talent Acquisition   \n",
       "21                              HR Head   \n",
       "22                           HR MANAGER   \n",
       "23                         HR Recruiter   \n",
       "24              Manager Human Resources   \n",
       "25                    Company Recruiter   \n",
       "26              Lead Talent acquisition   \n",
       "27                           Proprietor   \n",
       "28                                  CEO   \n",
       "29                          Founder CEO   \n",
       "30       Business Development Associate   \n",
       "31                      Project Manager   \n",
       "32                       Senior Manager   \n",
       "33             Company Recruitment Head   \n",
       "34                           Consultant   \n",
       "35         senior technology instructor   \n",
       "36             HR Recruiter/HR Excutive   \n",
       "37        Manager, Technical Recruiting   \n",
       "38                  Technical Recruiter   \n",
       "39                      Erp Implementer   \n",
       "40                       Head Analytics   \n",
       "41              Chief Technical Officer   \n",
       "42                   Sr Product Manager   \n",
       "43             Director Global Delivery   \n",
       "44                           Co Founder   \n",
       "45                           HR Manager   \n",
       "46                            Architect   \n",
       "47                     Managing Partner   \n",
       "48               Recruitment Consultant   \n",
       "49                         HR Executive   \n",
       "\n",
       "                                           Company                  Location  \\\n",
       "0                             Data Science Network                     Delhi   \n",
       "1                    Shore Infotech India Pvt. Ltd  Hyderabad / Secunderabad   \n",
       "2                         MARSIAN Technologies LLP                      Pune   \n",
       "3            Enerlytics Software Solutions Pvt Ltd                 Ahmedabad   \n",
       "4                                  LibraryXProject             UK - (london)   \n",
       "5       Apidel Technologies Division of Transpower         Vadodara / Baroda   \n",
       "6                                             IFMR                   Chennai   \n",
       "7                      Techvantage Systems Pvt Ltd                Trivandrum   \n",
       "8                       Weupskill- Live Wire India                    Indore   \n",
       "9                 CBL Data Science Private Limited     Bengaluru / Bangalore   \n",
       "10                   Infinitive Software Solutions                 Hyderabad   \n",
       "11                              Innominds Software  Hyderabad / Secunderabad   \n",
       "12                                        MoneyTap     Bengaluru / Bangalore   \n",
       "13              QuantMagnum Technologies Pvt. Ltd.                    Mumbai   \n",
       "14                               SocialPrachar.com  Hyderabad / Secunderabad   \n",
       "15                   BIZ INFOTECNO PRIVATE LIMITED                Chandigarh   \n",
       "16                                  BISP Solutions                    Bhopal   \n",
       "17                           Bristlecone India Ltd                      Pune   \n",
       "18                 Compumatrice Multimedia Pvt Ltd                      Pune   \n",
       "19                                        Easi Tax               Navi Mumbai   \n",
       "20                     Novelworx Digital Solutions                    Cochin   \n",
       "21         AXESTRACK SOFTWARE SOLUTIONS PRIVATE...                     Delhi   \n",
       "22                   FirstTech Consaltants Pvt.Ltd  Hyderabad / Secunderabad   \n",
       "23                                Affine Analytics                      Pune   \n",
       "24                              Exela Technologies                      Pune   \n",
       "25                 NEAL ANALYTICS SERVICES PVT LTD                      Pune   \n",
       "26      Autumn Leaf Consulting Services Private...     Bengaluru / Bangalore   \n",
       "27                                         trainin     Bengaluru / Bangalore   \n",
       "28                            Nanoprecise Sci Corp                    Others   \n",
       "29                  R.S Consultancy &amp; Services                     Delhi   \n",
       "30                              Nikitha Palaparthi  Hyderabad / Secunderabad   \n",
       "31        Dollarbird Information Services Pvt, Ltd           Mysoru / Mysore   \n",
       "32                          Independent Consultant     Bengaluru / Bangalore   \n",
       "33                                    Confidential     Bengaluru / Bangalore   \n",
       "34                                 ASCO consulting                 New Delhi   \n",
       "35                                         NY INST                   Chennai   \n",
       "36  3D India Staffing Research &amp; Consulting...                   Aligarh   \n",
       "37                                     O.C. Tanner            Salt Lake City   \n",
       "38                                   Demand Matrix                      Pune   \n",
       "39                             MADHUSUDHAN SRIDHAR     Bengaluru / Bangalore   \n",
       "40                                  Suntech Global                    Mumbai   \n",
       "41                        Strategic Consulting Lab                    Indore   \n",
       "42                            Impel Labs Pvt. Ltd.     Bengaluru / Bangalore   \n",
       "43                                    MRP Advisers                    MYSORE   \n",
       "44                   Saras Solutions India Pvt Ltd  Hyderabad / Secunderabad   \n",
       "45                                     WildJasmine     Bengaluru / Bangalore   \n",
       "46                             LNT Private Limited                    Mumbai   \n",
       "47                                     Granular.ai                             \n",
       "48     JOBSMILL BUSINESS SOLUTIONS PRIVATE LIMITED  Hyderabad / Secunderabad   \n",
       "49                                      Techcovery     Bengaluru / Bangalore   \n",
       "\n",
       "                              Skills looking for hire  \n",
       "0   Classic ASP Developer , Internet Marketing Pro...  \n",
       "1   .Net , Java , Data Science , Linux Administrat...  \n",
       "2                             Mid Level, Junior Level  \n",
       "3   , Mean Stack , javascript , angularjs , mongod...  \n",
       "4   Hadoop , Spark , Digital Strategy , Data Archi...  \n",
       "5   Analytics , Business Intelligence , Business A...  \n",
       "6                   Analytics & Business Intelligence  \n",
       "7   Machine Learning , algorithms , Go Getter , Co...  \n",
       "8                                                   -  \n",
       "9                             Junior Level, Mid Level  \n",
       "10                              Mid Level, High Level  \n",
       "11  Qa , Ui , ux , Java Developer , Java Architect...  \n",
       "12                                                  -  \n",
       "13                                                  -  \n",
       "14                            Junior Level, Mid Level  \n",
       "15                                         High Level  \n",
       "16  Big Data , Hadoop , Data Analytics , Data Science  \n",
       "17                                          IT Skills  \n",
       "18                              High Level, Mid Level  \n",
       "19                                          Mid Level  \n",
       "20                      IT-Software/Software Services  \n",
       "21                     Mid Level, Top Mangement Level  \n",
       "22  Data Analytics , Data Science , Machine Learni...  \n",
       "23                            Junior Level, Mid Level  \n",
       "24  Java , Net , Angularjs , Hr , Infrastructure ,...  \n",
       "25                              Mid Level, High Level  \n",
       "26                    High Level, Top Mangement Level  \n",
       "27  Data Science , Hadoop , Rpas , Devops , Python...  \n",
       "28  Signal Processing , Machine Learning , Neural ...  \n",
       "29  Web Technologies , Project Management , Softwa...  \n",
       "30                                                  -  \n",
       "31   Data Analytics , Managed Services , Team Leading  \n",
       "32                                                  -  \n",
       "33  S. Finance Manager , Freshers , Experience , S...  \n",
       "34                                                  -  \n",
       "35                            Mid Level, Junior Level  \n",
       "36                                                  -  \n",
       "37                           Junior Level, High Level  \n",
       "38        Python , Php , Qa Automation , Ui , Wordpre  \n",
       "39                                                  -  \n",
       "40                                                  -  \n",
       "41                  Top Mangement Level, Junior Level  \n",
       "42                 Data Science , Node.js , Angularjs  \n",
       "43                                                  -  \n",
       "44                                                  -  \n",
       "45  java , hadoop , r , Machine Learning , spark ,...  \n",
       "46                              Mid Level, High Level  \n",
       "47                                                  -  \n",
       "48                                                  -  \n",
       "49                                       Junior Level  "
      ]
     },
     "execution_count": 66,
     "metadata": {},
     "output_type": "execute_result"
    }
   ],
   "source": [
    "recruiter"
   ]
  },
  {
   "cell_type": "markdown",
   "id": "6f239c96",
   "metadata": {},
   "source": [
    "Ans 8. - Python program to scrape data of best selling novels from theguardian.com webpage using selenium."
   ]
  },
  {
   "cell_type": "code",
   "execution_count": 68,
   "id": "52d0f691",
   "metadata": {},
   "outputs": [],
   "source": [
    "driver.get(\"https://www.theguardian.com/news/datablog/2012/aug/09/best-selling-books-all-time-fifty-shades-grey-compare\")"
   ]
  },
  {
   "cell_type": "code",
   "execution_count": 72,
   "id": "e3f2d735",
   "metadata": {},
   "outputs": [],
   "source": [
    "name = []\n",
    "for i in driver.find_elements_by_xpath(\"//table[@class= 'in-article sortable']/tbody/tr/td[2]\"):\n",
    "    name.append(i.text)"
   ]
  },
  {
   "cell_type": "code",
   "execution_count": 74,
   "id": "e491ffa3",
   "metadata": {},
   "outputs": [
    {
     "data": {
      "text/plain": [
       "100"
      ]
     },
     "execution_count": 74,
     "metadata": {},
     "output_type": "execute_result"
    }
   ],
   "source": [
    "len(name)"
   ]
  },
  {
   "cell_type": "code",
   "execution_count": 75,
   "id": "eefdbdc6",
   "metadata": {},
   "outputs": [],
   "source": [
    "author = []\n",
    "for i in driver.find_elements_by_xpath(\"//table[@class= 'in-article sortable']/tbody/tr/td[3]\"):\n",
    "    author.append(i.text)"
   ]
  },
  {
   "cell_type": "code",
   "execution_count": 77,
   "id": "1d388a16",
   "metadata": {},
   "outputs": [
    {
     "data": {
      "text/plain": [
       "100"
      ]
     },
     "execution_count": 77,
     "metadata": {},
     "output_type": "execute_result"
    }
   ],
   "source": [
    "len(author)"
   ]
  },
  {
   "cell_type": "code",
   "execution_count": 78,
   "id": "1d308320",
   "metadata": {},
   "outputs": [],
   "source": [
    "volume = []\n",
    "for i in driver.find_elements_by_xpath(\"//table[@class= 'in-article sortable']/tbody/tr/td[4]\"):\n",
    "    volume.append(i.text)"
   ]
  },
  {
   "cell_type": "code",
   "execution_count": 80,
   "id": "bfb0de89",
   "metadata": {},
   "outputs": [
    {
     "data": {
      "text/plain": [
       "100"
      ]
     },
     "execution_count": 80,
     "metadata": {},
     "output_type": "execute_result"
    }
   ],
   "source": [
    "len(volume)"
   ]
  },
  {
   "cell_type": "code",
   "execution_count": 81,
   "id": "a88789c1",
   "metadata": {},
   "outputs": [],
   "source": [
    "publisher = []\n",
    "for i in driver.find_elements_by_xpath(\"//table[@class= 'in-article sortable']/tbody/tr/td[5]\"):\n",
    "    publisher.append(i.text)"
   ]
  },
  {
   "cell_type": "code",
   "execution_count": 83,
   "id": "0fb68c95",
   "metadata": {},
   "outputs": [
    {
     "data": {
      "text/plain": [
       "100"
      ]
     },
     "execution_count": 83,
     "metadata": {},
     "output_type": "execute_result"
    }
   ],
   "source": [
    "len(publisher)"
   ]
  },
  {
   "cell_type": "code",
   "execution_count": 84,
   "id": "6a2eed96",
   "metadata": {},
   "outputs": [],
   "source": [
    "genre = []\n",
    "for i in driver.find_elements_by_xpath(\"//table[@class= 'in-article sortable']/tbody/tr/td[6]\"):\n",
    "    genre.append(i.text)"
   ]
  },
  {
   "cell_type": "code",
   "execution_count": 86,
   "id": "d0f657e3",
   "metadata": {},
   "outputs": [
    {
     "data": {
      "text/plain": [
       "100"
      ]
     },
     "execution_count": 86,
     "metadata": {},
     "output_type": "execute_result"
    }
   ],
   "source": [
    "len(genre)"
   ]
  },
  {
   "cell_type": "code",
   "execution_count": 87,
   "id": "341fae50",
   "metadata": {},
   "outputs": [],
   "source": [
    "novel = pd.DataFrame({'Name': name, 'Author': author, 'Volume in Sales': volume, 'Publisher': publisher, 'Genre': genre})"
   ]
  },
  {
   "cell_type": "code",
   "execution_count": 88,
   "id": "b769be10",
   "metadata": {},
   "outputs": [
    {
     "data": {
      "text/html": [
       "<div>\n",
       "<style scoped>\n",
       "    .dataframe tbody tr th:only-of-type {\n",
       "        vertical-align: middle;\n",
       "    }\n",
       "\n",
       "    .dataframe tbody tr th {\n",
       "        vertical-align: top;\n",
       "    }\n",
       "\n",
       "    .dataframe thead th {\n",
       "        text-align: right;\n",
       "    }\n",
       "</style>\n",
       "<table border=\"1\" class=\"dataframe\">\n",
       "  <thead>\n",
       "    <tr style=\"text-align: right;\">\n",
       "      <th></th>\n",
       "      <th>Name</th>\n",
       "      <th>Author</th>\n",
       "      <th>Volume in Sales</th>\n",
       "      <th>Publisher</th>\n",
       "      <th>Genre</th>\n",
       "    </tr>\n",
       "  </thead>\n",
       "  <tbody>\n",
       "    <tr>\n",
       "      <th>0</th>\n",
       "      <td>Da Vinci Code,The</td>\n",
       "      <td>Brown, Dan</td>\n",
       "      <td>5,094,805</td>\n",
       "      <td>Transworld</td>\n",
       "      <td>Crime, Thriller &amp; Adventure</td>\n",
       "    </tr>\n",
       "    <tr>\n",
       "      <th>1</th>\n",
       "      <td>Harry Potter and the Deathly Hallows</td>\n",
       "      <td>Rowling, J.K.</td>\n",
       "      <td>4,475,152</td>\n",
       "      <td>Bloomsbury</td>\n",
       "      <td>Children's Fiction</td>\n",
       "    </tr>\n",
       "    <tr>\n",
       "      <th>2</th>\n",
       "      <td>Harry Potter and the Philosopher's Stone</td>\n",
       "      <td>Rowling, J.K.</td>\n",
       "      <td>4,200,654</td>\n",
       "      <td>Bloomsbury</td>\n",
       "      <td>Children's Fiction</td>\n",
       "    </tr>\n",
       "    <tr>\n",
       "      <th>3</th>\n",
       "      <td>Harry Potter and the Order of the Phoenix</td>\n",
       "      <td>Rowling, J.K.</td>\n",
       "      <td>4,179,479</td>\n",
       "      <td>Bloomsbury</td>\n",
       "      <td>Children's Fiction</td>\n",
       "    </tr>\n",
       "    <tr>\n",
       "      <th>4</th>\n",
       "      <td>Fifty Shades of Grey</td>\n",
       "      <td>James, E. L.</td>\n",
       "      <td>3,758,936</td>\n",
       "      <td>Random House</td>\n",
       "      <td>Romance &amp; Sagas</td>\n",
       "    </tr>\n",
       "    <tr>\n",
       "      <th>...</th>\n",
       "      <td>...</td>\n",
       "      <td>...</td>\n",
       "      <td>...</td>\n",
       "      <td>...</td>\n",
       "      <td>...</td>\n",
       "    </tr>\n",
       "    <tr>\n",
       "      <th>95</th>\n",
       "      <td>Ghost,The</td>\n",
       "      <td>Harris, Robert</td>\n",
       "      <td>807,311</td>\n",
       "      <td>Random House</td>\n",
       "      <td>General &amp; Literary Fiction</td>\n",
       "    </tr>\n",
       "    <tr>\n",
       "      <th>96</th>\n",
       "      <td>Happy Days with the Naked Chef</td>\n",
       "      <td>Oliver, Jamie</td>\n",
       "      <td>794,201</td>\n",
       "      <td>Penguin</td>\n",
       "      <td>Food &amp; Drink: General</td>\n",
       "    </tr>\n",
       "    <tr>\n",
       "      <th>97</th>\n",
       "      <td>Hunger Games,The:Hunger Games Trilogy</td>\n",
       "      <td>Collins, Suzanne</td>\n",
       "      <td>792,187</td>\n",
       "      <td>Scholastic Ltd.</td>\n",
       "      <td>Young Adult Fiction</td>\n",
       "    </tr>\n",
       "    <tr>\n",
       "      <th>98</th>\n",
       "      <td>Lost Boy,The:A Foster Child's Search for the L...</td>\n",
       "      <td>Pelzer, Dave</td>\n",
       "      <td>791,507</td>\n",
       "      <td>Orion</td>\n",
       "      <td>Biography: General</td>\n",
       "    </tr>\n",
       "    <tr>\n",
       "      <th>99</th>\n",
       "      <td>Jamie's Ministry of Food:Anyone Can Learn to C...</td>\n",
       "      <td>Oliver, Jamie</td>\n",
       "      <td>791,095</td>\n",
       "      <td>Penguin</td>\n",
       "      <td>Food &amp; Drink: General</td>\n",
       "    </tr>\n",
       "  </tbody>\n",
       "</table>\n",
       "<p>100 rows × 5 columns</p>\n",
       "</div>"
      ],
      "text/plain": [
       "                                                 Name            Author  \\\n",
       "0                                   Da Vinci Code,The        Brown, Dan   \n",
       "1                Harry Potter and the Deathly Hallows     Rowling, J.K.   \n",
       "2            Harry Potter and the Philosopher's Stone     Rowling, J.K.   \n",
       "3           Harry Potter and the Order of the Phoenix     Rowling, J.K.   \n",
       "4                                Fifty Shades of Grey      James, E. L.   \n",
       "..                                                ...               ...   \n",
       "95                                          Ghost,The    Harris, Robert   \n",
       "96                     Happy Days with the Naked Chef     Oliver, Jamie   \n",
       "97              Hunger Games,The:Hunger Games Trilogy  Collins, Suzanne   \n",
       "98  Lost Boy,The:A Foster Child's Search for the L...      Pelzer, Dave   \n",
       "99  Jamie's Ministry of Food:Anyone Can Learn to C...     Oliver, Jamie   \n",
       "\n",
       "   Volume in Sales        Publisher                        Genre  \n",
       "0        5,094,805       Transworld  Crime, Thriller & Adventure  \n",
       "1        4,475,152       Bloomsbury           Children's Fiction  \n",
       "2        4,200,654       Bloomsbury           Children's Fiction  \n",
       "3        4,179,479       Bloomsbury           Children's Fiction  \n",
       "4        3,758,936     Random House              Romance & Sagas  \n",
       "..             ...              ...                          ...  \n",
       "95         807,311     Random House   General & Literary Fiction  \n",
       "96         794,201          Penguin        Food & Drink: General  \n",
       "97         792,187  Scholastic Ltd.          Young Adult Fiction  \n",
       "98         791,507            Orion           Biography: General  \n",
       "99         791,095          Penguin        Food & Drink: General  \n",
       "\n",
       "[100 rows x 5 columns]"
      ]
     },
     "execution_count": 88,
     "metadata": {},
     "output_type": "execute_result"
    }
   ],
   "source": [
    "novel"
   ]
  },
  {
   "cell_type": "markdown",
   "id": "97e000a2",
   "metadata": {},
   "source": [
    "Ans 9. - Python program to scrape data for most watched tv series from imdb.com webpage using selenium."
   ]
  },
  {
   "cell_type": "code",
   "execution_count": 89,
   "id": "3f739ef0",
   "metadata": {},
   "outputs": [],
   "source": [
    "driver.get('https://www.imdb.com/list/ls095964455/')"
   ]
  },
  {
   "cell_type": "code",
   "execution_count": 90,
   "id": "11538f3e",
   "metadata": {},
   "outputs": [],
   "source": [
    "url = []\n",
    "for i in driver.find_elements_by_xpath(\"//h3[@class= 'lister-item-header']/a\"):\n",
    "    url.append(i.get_attribute('href'))"
   ]
  },
  {
   "cell_type": "code",
   "execution_count": 92,
   "id": "29bb4b70",
   "metadata": {},
   "outputs": [
    {
     "data": {
      "text/plain": [
       "100"
      ]
     },
     "execution_count": 92,
     "metadata": {},
     "output_type": "execute_result"
    }
   ],
   "source": [
    "len(url)"
   ]
  },
  {
   "cell_type": "code",
   "execution_count": 93,
   "id": "8385b955",
   "metadata": {},
   "outputs": [],
   "source": [
    "name = []\n",
    "year = []\n",
    "genre = []\n",
    "runtime = []\n",
    "rating = []\n",
    "vote = []\n",
    "for i in url:\n",
    "    driver.get(i)\n",
    "    time.sleep(2)\n",
    "    try:\n",
    "        na = driver.find_element_by_xpath(\"//h1[@class= 'TitleHeader__TitleText-sc-1wu6n3d-0 dxSWFG']\")\n",
    "        name.append(na.text.replace(\"/n\",\"new line\"))\n",
    "    except:\n",
    "        name.append(\"-\")\n",
    "        \n",
    "    try:\n",
    "        ye = driver.find_element_by_xpath(\"//a[@class= 'ipc-link ipc-link--baseAlt ipc-link--inherit-color TitleBlockMetaData__StyledTextLink-sc-12ein40-1 rgaOW']\")\n",
    "        year.append(ye.text.replace(\"/n\",\"new line\"))\n",
    "    except:\n",
    "        year.append(\"-\")\n",
    "        \n",
    "    try:\n",
    "        ge = driver.find_element_by_xpath(\"//div[@class= 'ipc-chip-list GenresAndPlot__GenresChipList-sc-cum89p-4 cDpOeC']\")\n",
    "        genre.append(ge.text.replace(\"/n\",\"new line\"))\n",
    "    except:\n",
    "        genre.append(\"-\")\n",
    "        \n",
    "    try:\n",
    "        ru = driver.find_element_by_xpath(\"//ul[@class= 'ipc-inline-list ipc-inline-list--show-dividers TitleBlockMetaData__MetaDataList-sc-12ein40-0 dxizHm baseAlt']/li[4]\")\n",
    "        runtime.append(ru.text.replace(\"/n\",\"new line\"))\n",
    "    except:\n",
    "        runtime.append(\"-\")\n",
    "        \n",
    "    try:\n",
    "        ra = driver.find_element_by_xpath(\"//span[@class= 'AggregateRatingButton__RatingScore-sc-1ll29m0-1 iTLWoV']\")\n",
    "        rating.append(ra.text.replace(\"/n\",\"new line\"))\n",
    "    except:\n",
    "        rating.append(\"-\")\n",
    "        \n",
    "    try:\n",
    "        vo = driver.find_element_by_xpath(\"//div[@class= 'AggregateRatingButton__TotalRatingAmount-sc-1ll29m0-3 jkCVKJ']\")\n",
    "        vote.append(vo.text.replace(\"/n\",\"new line\"))\n",
    "    except:\n",
    "        vote.append(\"-\")"
   ]
  },
  {
   "cell_type": "code",
   "execution_count": 95,
   "id": "c0c4960c",
   "metadata": {},
   "outputs": [
    {
     "data": {
      "text/plain": [
       "100"
      ]
     },
     "execution_count": 95,
     "metadata": {},
     "output_type": "execute_result"
    }
   ],
   "source": [
    "len(name)"
   ]
  },
  {
   "cell_type": "code",
   "execution_count": 97,
   "id": "ae388629",
   "metadata": {},
   "outputs": [
    {
     "data": {
      "text/plain": [
       "100"
      ]
     },
     "execution_count": 97,
     "metadata": {},
     "output_type": "execute_result"
    }
   ],
   "source": [
    "len(year)"
   ]
  },
  {
   "cell_type": "code",
   "execution_count": 99,
   "id": "39bc8b8b",
   "metadata": {},
   "outputs": [
    {
     "data": {
      "text/plain": [
       "100"
      ]
     },
     "execution_count": 99,
     "metadata": {},
     "output_type": "execute_result"
    }
   ],
   "source": [
    "len(genre)"
   ]
  },
  {
   "cell_type": "code",
   "execution_count": 102,
   "id": "2e9f4acd",
   "metadata": {},
   "outputs": [
    {
     "data": {
      "text/plain": [
       "100"
      ]
     },
     "execution_count": 102,
     "metadata": {},
     "output_type": "execute_result"
    }
   ],
   "source": [
    "len(rating)"
   ]
  },
  {
   "cell_type": "code",
   "execution_count": 104,
   "id": "2a497bca",
   "metadata": {},
   "outputs": [
    {
     "data": {
      "text/plain": [
       "100"
      ]
     },
     "execution_count": 104,
     "metadata": {},
     "output_type": "execute_result"
    }
   ],
   "source": [
    "len(vote)"
   ]
  },
  {
   "cell_type": "code",
   "execution_count": 114,
   "id": "070ae8a6",
   "metadata": {},
   "outputs": [],
   "source": [
    "run1 = []\n",
    "for i in url:\n",
    "    driver.get(i)\n",
    "    time.sleep(2)\n",
    "    try:\n",
    "        ru = driver.find_element_by_xpath(\"//ul[@class= 'ipc-inline-list ipc-inline-list--show-dividers TitleBlockMetaData__MetaDataList-sc-12ein40-0 dxizHm baseAlt']\")\n",
    "        run1.append(ru.text.replace(\"/n\",\"new line\"))\n",
    "    except:\n",
    "        run1.append(\"-\")"
   ]
  },
  {
   "cell_type": "code",
   "execution_count": 117,
   "id": "13955af4",
   "metadata": {},
   "outputs": [],
   "source": [
    "run2 = []\n",
    "for i in run1:\n",
    "    i = i[-3:]\n",
    "    run2.append(i)"
   ]
  },
  {
   "cell_type": "code",
   "execution_count": 119,
   "id": "d8563f1a",
   "metadata": {},
   "outputs": [
    {
     "data": {
      "text/plain": [
       "100"
      ]
     },
     "execution_count": 119,
     "metadata": {},
     "output_type": "execute_result"
    }
   ],
   "source": [
    "len(run2)"
   ]
  },
  {
   "cell_type": "code",
   "execution_count": 120,
   "id": "8c0d230d",
   "metadata": {},
   "outputs": [],
   "source": [
    "tv_series = pd.DataFrame({'Name': name, 'Year Span': year, 'Genre': genre, 'Runtime': run2, 'Rating': rating, 'No. of Votes': vote})"
   ]
  },
  {
   "cell_type": "code",
   "execution_count": 121,
   "id": "3de7a38a",
   "metadata": {},
   "outputs": [
    {
     "data": {
      "text/html": [
       "<div>\n",
       "<style scoped>\n",
       "    .dataframe tbody tr th:only-of-type {\n",
       "        vertical-align: middle;\n",
       "    }\n",
       "\n",
       "    .dataframe tbody tr th {\n",
       "        vertical-align: top;\n",
       "    }\n",
       "\n",
       "    .dataframe thead th {\n",
       "        text-align: right;\n",
       "    }\n",
       "</style>\n",
       "<table border=\"1\" class=\"dataframe\">\n",
       "  <thead>\n",
       "    <tr style=\"text-align: right;\">\n",
       "      <th></th>\n",
       "      <th>Name</th>\n",
       "      <th>Year Span</th>\n",
       "      <th>Genre</th>\n",
       "      <th>Runtime</th>\n",
       "      <th>Rating</th>\n",
       "      <th>No. of Votes</th>\n",
       "    </tr>\n",
       "  </thead>\n",
       "  <tbody>\n",
       "    <tr>\n",
       "      <th>0</th>\n",
       "      <td>Game of Thrones</td>\n",
       "      <td>2011–2019</td>\n",
       "      <td>Action\\nAdventure\\nDrama</td>\n",
       "      <td>57m</td>\n",
       "      <td>9.2</td>\n",
       "      <td>1.9M</td>\n",
       "    </tr>\n",
       "    <tr>\n",
       "      <th>1</th>\n",
       "      <td>Stranger Things</td>\n",
       "      <td>2016–</td>\n",
       "      <td>Drama\\nFantasy\\nHorror</td>\n",
       "      <td>51m</td>\n",
       "      <td>8.7</td>\n",
       "      <td>950K</td>\n",
       "    </tr>\n",
       "    <tr>\n",
       "      <th>2</th>\n",
       "      <td>The Walking Dead</td>\n",
       "      <td>2010–2022</td>\n",
       "      <td>Drama\\nHorror\\nThriller</td>\n",
       "      <td>44m</td>\n",
       "      <td>8.2</td>\n",
       "      <td>921K</td>\n",
       "    </tr>\n",
       "    <tr>\n",
       "      <th>3</th>\n",
       "      <td>13 Reasons Why</td>\n",
       "      <td>2017–2020</td>\n",
       "      <td>Drama\\nMystery\\nThriller</td>\n",
       "      <td>\\n1h</td>\n",
       "      <td>7.5</td>\n",
       "      <td>276K</td>\n",
       "    </tr>\n",
       "    <tr>\n",
       "      <th>4</th>\n",
       "      <td>The 100</td>\n",
       "      <td>2014–2020</td>\n",
       "      <td>Drama\\nMystery\\nSci-Fi</td>\n",
       "      <td>43m</td>\n",
       "      <td>7.6</td>\n",
       "      <td>236K</td>\n",
       "    </tr>\n",
       "    <tr>\n",
       "      <th>...</th>\n",
       "      <td>...</td>\n",
       "      <td>...</td>\n",
       "      <td>...</td>\n",
       "      <td>...</td>\n",
       "      <td>...</td>\n",
       "      <td>...</td>\n",
       "    </tr>\n",
       "    <tr>\n",
       "      <th>95</th>\n",
       "      <td>Reign</td>\n",
       "      <td>2013–2017</td>\n",
       "      <td>Drama\\nFantasy</td>\n",
       "      <td>42m</td>\n",
       "      <td>7.5</td>\n",
       "      <td>47K</td>\n",
       "    </tr>\n",
       "    <tr>\n",
       "      <th>96</th>\n",
       "      <td>-</td>\n",
       "      <td>2017–2019</td>\n",
       "      <td>Adventure\\nComedy\\nDrama</td>\n",
       "      <td>50m</td>\n",
       "      <td>7.8</td>\n",
       "      <td>58K</td>\n",
       "    </tr>\n",
       "    <tr>\n",
       "      <th>97</th>\n",
       "      <td>Criminal Minds</td>\n",
       "      <td>2005–2020</td>\n",
       "      <td>Crime\\nDrama\\nMystery</td>\n",
       "      <td>42m</td>\n",
       "      <td>8.1</td>\n",
       "      <td>183K</td>\n",
       "    </tr>\n",
       "    <tr>\n",
       "      <th>98</th>\n",
       "      <td>Scream: The TV Series</td>\n",
       "      <td>2015–2019</td>\n",
       "      <td>Comedy\\nCrime\\nDrama</td>\n",
       "      <td>45m</td>\n",
       "      <td>7.1</td>\n",
       "      <td>38K</td>\n",
       "    </tr>\n",
       "    <tr>\n",
       "      <th>99</th>\n",
       "      <td>-</td>\n",
       "      <td>2018</td>\n",
       "      <td>Drama\\nHorror\\nMystery</td>\n",
       "      <td>32m</td>\n",
       "      <td>8.6</td>\n",
       "      <td>218K</td>\n",
       "    </tr>\n",
       "  </tbody>\n",
       "</table>\n",
       "<p>100 rows × 6 columns</p>\n",
       "</div>"
      ],
      "text/plain": [
       "                     Name  Year Span                     Genre Runtime Rating  \\\n",
       "0         Game of Thrones  2011–2019  Action\\nAdventure\\nDrama     57m    9.2   \n",
       "1         Stranger Things      2016–    Drama\\nFantasy\\nHorror     51m    8.7   \n",
       "2        The Walking Dead  2010–2022   Drama\\nHorror\\nThriller     44m    8.2   \n",
       "3          13 Reasons Why  2017–2020  Drama\\nMystery\\nThriller    \\n1h    7.5   \n",
       "4                 The 100  2014–2020    Drama\\nMystery\\nSci-Fi     43m    7.6   \n",
       "..                    ...        ...                       ...     ...    ...   \n",
       "95                  Reign  2013–2017            Drama\\nFantasy     42m    7.5   \n",
       "96                      -  2017–2019  Adventure\\nComedy\\nDrama     50m    7.8   \n",
       "97         Criminal Minds  2005–2020     Crime\\nDrama\\nMystery     42m    8.1   \n",
       "98  Scream: The TV Series  2015–2019      Comedy\\nCrime\\nDrama     45m    7.1   \n",
       "99                      -       2018    Drama\\nHorror\\nMystery     32m    8.6   \n",
       "\n",
       "   No. of Votes  \n",
       "0          1.9M  \n",
       "1          950K  \n",
       "2          921K  \n",
       "3          276K  \n",
       "4          236K  \n",
       "..          ...  \n",
       "95          47K  \n",
       "96          58K  \n",
       "97         183K  \n",
       "98          38K  \n",
       "99         218K  \n",
       "\n",
       "[100 rows x 6 columns]"
      ]
     },
     "execution_count": 121,
     "metadata": {},
     "output_type": "execute_result"
    }
   ],
   "source": [
    "tv_series"
   ]
  },
  {
   "cell_type": "markdown",
   "id": "d3313f92",
   "metadata": {},
   "source": [
    "Ans 10. - Python program to scrape data about datasets from archive.ics.uci.edu webpage using selenium."
   ]
  },
  {
   "cell_type": "code",
   "execution_count": 123,
   "id": "ae46fafa",
   "metadata": {},
   "outputs": [],
   "source": [
    "driver.get('https://archive.ics.uci.edu/ml/index.php')"
   ]
  },
  {
   "cell_type": "code",
   "execution_count": 124,
   "id": "7d14def2",
   "metadata": {},
   "outputs": [],
   "source": [
    "dat = []\n",
    "da = driver.find_elements_by_xpath(\"//span[@class= 'whitetext']/a\")\n",
    "for i in da:\n",
    "    dat.append(i.get_attribute('href'))"
   ]
  },
  {
   "cell_type": "code",
   "execution_count": 125,
   "id": "b3194a01",
   "metadata": {},
   "outputs": [
    {
     "data": {
      "text/plain": [
       "['https://archive.ics.uci.edu/ml/about.html',\n",
       " 'https://archive.ics.uci.edu/ml/citation_policy.html',\n",
       " 'https://archive.ics.uci.edu/ml/donation_policy.html',\n",
       " 'https://archive.ics.uci.edu/ml/contact.html',\n",
       " 'https://archive.ics.uci.edu/ml/datasets.php']"
      ]
     },
     "execution_count": 125,
     "metadata": {},
     "output_type": "execute_result"
    }
   ],
   "source": [
    "dat"
   ]
  },
  {
   "cell_type": "code",
   "execution_count": 126,
   "id": "6d2a0213",
   "metadata": {},
   "outputs": [],
   "source": [
    "driver.get(dat[4])"
   ]
  },
  {
   "cell_type": "code",
   "execution_count": 140,
   "id": "4ab4a250",
   "metadata": {},
   "outputs": [],
   "source": [
    "url = []\n",
    "for i in driver.find_elements_by_xpath(\"//p[@class= 'normal']/b/a\"):\n",
    "    url.append(i.get_attribute('href'))"
   ]
  },
  {
   "cell_type": "code",
   "execution_count": 142,
   "id": "ccec10fa",
   "metadata": {},
   "outputs": [
    {
     "data": {
      "text/plain": [
       "622"
      ]
     },
     "execution_count": 142,
     "metadata": {},
     "output_type": "execute_result"
    }
   ],
   "source": [
    "len(url)"
   ]
  },
  {
   "cell_type": "code",
   "execution_count": 144,
   "id": "3115b87e",
   "metadata": {},
   "outputs": [],
   "source": [
    "name = []\n",
    "for i in driver.find_elements_by_xpath(\"//p[@class= 'normal']/b/a\"):\n",
    "    name.append(i.text)"
   ]
  },
  {
   "cell_type": "code",
   "execution_count": 146,
   "id": "4be8f004",
   "metadata": {},
   "outputs": [
    {
     "data": {
      "text/plain": [
       "622"
      ]
     },
     "execution_count": 146,
     "metadata": {},
     "output_type": "execute_result"
    }
   ],
   "source": [
    "len(name)"
   ]
  },
  {
   "cell_type": "code",
   "execution_count": 153,
   "id": "63be26ab",
   "metadata": {},
   "outputs": [],
   "source": [
    "data_type = []\n",
    "for i in driver.find_elements_by_xpath(\"//p[@class= 'normal']\"):\n",
    "    data_type.append(i.text)"
   ]
  },
  {
   "cell_type": "code",
   "execution_count": 156,
   "id": "ed7a70b2",
   "metadata": {},
   "outputs": [],
   "source": [
    "da = data_type[8:]"
   ]
  },
  {
   "cell_type": "code",
   "execution_count": 163,
   "id": "be31e736",
   "metadata": {},
   "outputs": [
    {
     "data": {
      "text/plain": [
       "623"
      ]
     },
     "execution_count": 163,
     "metadata": {},
     "output_type": "execute_result"
    }
   ],
   "source": [
    "dat_type = da[1::7]\n",
    "len(dat_type)"
   ]
  },
  {
   "cell_type": "code",
   "execution_count": 164,
   "id": "31c47a06",
   "metadata": {},
   "outputs": [
    {
     "data": {
      "text/plain": [
       "622"
      ]
     },
     "execution_count": 164,
     "metadata": {},
     "output_type": "execute_result"
    }
   ],
   "source": [
    "dat_type = dat_type[:-1]\n",
    "len(dat_type)"
   ]
  },
  {
   "cell_type": "code",
   "execution_count": 165,
   "id": "9a0c0791",
   "metadata": {},
   "outputs": [
    {
     "data": {
      "text/plain": [
       "['Abalone',\n",
       " 'Multivariate ',\n",
       " 'Classification ',\n",
       " 'Categorical, Integer, Real ',\n",
       " '4177 ',\n",
       " '8 ',\n",
       " '1995 ',\n",
       " 'Adult',\n",
       " 'Multivariate ',\n",
       " 'Classification ',\n",
       " 'Categorical, Integer ',\n",
       " '48842 ',\n",
       " '14 ',\n",
       " '1996 ',\n",
       " 'Annealing',\n",
       " 'Multivariate ',\n",
       " 'Classification ',\n",
       " 'Categorical, Integer, Real ',\n",
       " '798 ',\n",
       " '38 ',\n",
       " ' ',\n",
       " 'Anonymous Microsoft Web Data',\n",
       " ' ',\n",
       " 'Recommender-Systems ',\n",
       " 'Categorical ',\n",
       " '37711 ',\n",
       " '294 ',\n",
       " '1998 ',\n",
       " 'Arrhythmia',\n",
       " 'Multivariate ',\n",
       " 'Classification ',\n",
       " 'Categorical, Integer, Real ',\n",
       " '452 ',\n",
       " '279 ',\n",
       " '1998 ',\n",
       " 'Artificial Characters',\n",
       " 'Multivariate ',\n",
       " 'Classification ',\n",
       " 'Categorical, Integer, Real ',\n",
       " '6000 ',\n",
       " '7 ',\n",
       " '1992 ',\n",
       " 'Audiology (Original)',\n",
       " 'Multivariate ',\n",
       " 'Classification ',\n",
       " 'Categorical ',\n",
       " '226 ',\n",
       " ' ',\n",
       " '1987 ',\n",
       " 'Audiology (Standardized)',\n",
       " 'Multivariate ',\n",
       " 'Classification ',\n",
       " 'Categorical ',\n",
       " '226 ',\n",
       " '69 ',\n",
       " '1992 ',\n",
       " 'Auto MPG',\n",
       " 'Multivariate ',\n",
       " 'Regression ',\n",
       " 'Categorical, Real ',\n",
       " '398 ',\n",
       " '8 ',\n",
       " '1993 ',\n",
       " 'Automobile',\n",
       " 'Multivariate ',\n",
       " 'Regression ',\n",
       " 'Categorical, Integer, Real ',\n",
       " '205 ',\n",
       " '26 ',\n",
       " '1987 ',\n",
       " 'Badges',\n",
       " 'Univariate, Text ',\n",
       " 'Classification ',\n",
       " ' ',\n",
       " '294 ',\n",
       " '1 ',\n",
       " '1994 ',\n",
       " 'Balance Scale',\n",
       " 'Multivariate ',\n",
       " 'Classification ',\n",
       " 'Categorical ',\n",
       " '625 ',\n",
       " '4 ',\n",
       " '1994 ',\n",
       " 'Balloons',\n",
       " 'Multivariate ',\n",
       " 'Classification ',\n",
       " 'Categorical ',\n",
       " '16 ',\n",
       " '4 ',\n",
       " ' ',\n",
       " 'Breast Cancer',\n",
       " 'Multivariate ',\n",
       " 'Classification ',\n",
       " 'Categorical ',\n",
       " '286 ',\n",
       " '9 ',\n",
       " '1988 ',\n",
       " 'Breast Cancer Wisconsin (Original)',\n",
       " 'Multivariate ',\n",
       " 'Classification ',\n",
       " 'Integer ',\n",
       " '699 ',\n",
       " '10 ',\n",
       " '1992 ',\n",
       " 'Breast Cancer Wisconsin (Prognostic)',\n",
       " 'Multivariate ',\n",
       " 'Classification, Regression ',\n",
       " 'Real ',\n",
       " '198 ',\n",
       " '34 ',\n",
       " '1995 ',\n",
       " 'Breast Cancer Wisconsin (Diagnostic)',\n",
       " 'Multivariate ',\n",
       " 'Classification ',\n",
       " 'Real ',\n",
       " '569 ',\n",
       " '32 ',\n",
       " '1995 ',\n",
       " 'Pittsburgh Bridges',\n",
       " 'Multivariate ',\n",
       " 'Classification ',\n",
       " 'Categorical, Integer ',\n",
       " '108 ',\n",
       " '13 ',\n",
       " '1990 ',\n",
       " 'Car Evaluation',\n",
       " 'Multivariate ',\n",
       " 'Classification ',\n",
       " 'Categorical ',\n",
       " '1728 ',\n",
       " '6 ',\n",
       " '1997 ',\n",
       " 'Census Income',\n",
       " 'Multivariate ',\n",
       " 'Classification ',\n",
       " 'Categorical, Integer ',\n",
       " '48842 ',\n",
       " '14 ',\n",
       " '1996 ',\n",
       " 'Chess (King-Rook vs. King-Knight)',\n",
       " 'Multivariate, Data-Generator ',\n",
       " 'Classification ',\n",
       " 'Categorical, Integer ',\n",
       " ' ',\n",
       " '22 ',\n",
       " '1988 ',\n",
       " 'Chess (King-Rook vs. King-Pawn)',\n",
       " 'Multivariate ',\n",
       " 'Classification ',\n",
       " 'Categorical ',\n",
       " '3196 ',\n",
       " '36 ',\n",
       " '1989 ',\n",
       " 'Chess (King-Rook vs. King)',\n",
       " 'Multivariate ',\n",
       " 'Classification ',\n",
       " 'Categorical, Integer ',\n",
       " '28056 ',\n",
       " '6 ',\n",
       " '1994 ',\n",
       " 'Chess (Domain Theories)',\n",
       " 'Domain-Theory ',\n",
       " ' ',\n",
       " ' ',\n",
       " ' ',\n",
       " ' ',\n",
       " ' ',\n",
       " 'Bach Chorales',\n",
       " 'Univariate, Time-Series ',\n",
       " ' ',\n",
       " 'Categorical, Integer ',\n",
       " '100 ',\n",
       " '6 ',\n",
       " ' ',\n",
       " 'Connect-4',\n",
       " 'Multivariate, Spatial ',\n",
       " 'Classification ',\n",
       " 'Categorical ',\n",
       " '67557 ',\n",
       " '42 ',\n",
       " '1995 ',\n",
       " 'Credit Approval',\n",
       " 'Multivariate ',\n",
       " 'Classification ',\n",
       " 'Categorical, Integer, Real ',\n",
       " '690 ',\n",
       " '15 ',\n",
       " ' ',\n",
       " 'Japanese Credit Screening',\n",
       " 'Multivariate, Domain-Theory ',\n",
       " 'Classification ',\n",
       " 'Categorical, Real, Integer ',\n",
       " '125 ',\n",
       " ' ',\n",
       " '1992 ',\n",
       " 'Computer Hardware',\n",
       " 'Multivariate ',\n",
       " 'Regression ',\n",
       " 'Integer ',\n",
       " '209 ',\n",
       " '9 ',\n",
       " '1987 ',\n",
       " 'Contraceptive Method Choice',\n",
       " 'Multivariate ',\n",
       " 'Classification ',\n",
       " 'Categorical, Integer ',\n",
       " '1473 ',\n",
       " '9 ',\n",
       " '1997 ',\n",
       " 'Covertype',\n",
       " 'Multivariate ',\n",
       " 'Classification ',\n",
       " 'Categorical, Integer ',\n",
       " '581012 ',\n",
       " '54 ',\n",
       " '1998 ',\n",
       " 'Cylinder Bands',\n",
       " 'Multivariate ',\n",
       " 'Classification ',\n",
       " 'Categorical, Integer, Real ',\n",
       " '512 ',\n",
       " '39 ',\n",
       " '1995 ',\n",
       " 'Dermatology',\n",
       " 'Multivariate ',\n",
       " 'Classification ',\n",
       " 'Categorical, Integer ',\n",
       " '366 ',\n",
       " '33 ',\n",
       " '1998 ',\n",
       " 'Diabetes',\n",
       " 'Multivariate, Time-Series ',\n",
       " ' ',\n",
       " 'Categorical, Integer ',\n",
       " ' ',\n",
       " '20 ',\n",
       " ' ',\n",
       " 'DGP2 - The Second Data Generation Program',\n",
       " 'Data-Generator ',\n",
       " ' ',\n",
       " 'Real ',\n",
       " ' ',\n",
       " ' ',\n",
       " ' ',\n",
       " 'Document Understanding',\n",
       " ' ',\n",
       " ' ',\n",
       " ' ',\n",
       " ' ',\n",
       " ' ',\n",
       " '1994 ',\n",
       " 'EBL Domain Theories',\n",
       " ' ',\n",
       " ' ',\n",
       " ' ',\n",
       " ' ',\n",
       " ' ',\n",
       " ' ',\n",
       " 'Echocardiogram',\n",
       " 'Multivariate ',\n",
       " 'Classification ',\n",
       " 'Categorical, Integer, Real ',\n",
       " '132 ',\n",
       " '12 ',\n",
       " '1989 ',\n",
       " 'Ecoli',\n",
       " 'Multivariate ',\n",
       " 'Classification ',\n",
       " 'Real ',\n",
       " '336 ',\n",
       " '8 ',\n",
       " '1996 ',\n",
       " 'Flags',\n",
       " 'Multivariate ',\n",
       " 'Classification ',\n",
       " 'Categorical, Integer ',\n",
       " '194 ',\n",
       " '30 ',\n",
       " '1990 ',\n",
       " 'Function Finding',\n",
       " ' ',\n",
       " 'Function-Learning ',\n",
       " 'Real ',\n",
       " '352 ',\n",
       " ' ',\n",
       " '1990 ',\n",
       " 'Glass Identification',\n",
       " 'Multivariate ',\n",
       " 'Classification ',\n",
       " 'Real ',\n",
       " '214 ',\n",
       " '10 ',\n",
       " '1987 ',\n",
       " \"Haberman's Survival\",\n",
       " 'Multivariate ',\n",
       " 'Classification ',\n",
       " 'Integer ',\n",
       " '306 ',\n",
       " '3 ',\n",
       " '1999 ',\n",
       " 'Hayes-Roth',\n",
       " 'Multivariate ',\n",
       " 'Classification ',\n",
       " 'Categorical ',\n",
       " '160 ',\n",
       " '5 ',\n",
       " '1989 ',\n",
       " 'Heart Disease',\n",
       " 'Multivariate ',\n",
       " 'Classification ',\n",
       " 'Categorical, Integer, Real ',\n",
       " '303 ',\n",
       " '75 ',\n",
       " '1988 ',\n",
       " 'Hepatitis',\n",
       " 'Multivariate ',\n",
       " 'Classification ',\n",
       " 'Categorical, Integer, Real ',\n",
       " '155 ',\n",
       " '19 ',\n",
       " '1988 ',\n",
       " 'Horse Colic',\n",
       " 'Multivariate ',\n",
       " 'Classification ',\n",
       " 'Categorical, Integer, Real ',\n",
       " '368 ',\n",
       " '27 ',\n",
       " '1989 ',\n",
       " 'ICU',\n",
       " 'Multivariate, Time-Series ',\n",
       " ' ',\n",
       " 'Real ',\n",
       " ' ',\n",
       " ' ',\n",
       " ' ',\n",
       " 'Image Segmentation',\n",
       " 'Multivariate ',\n",
       " 'Classification ',\n",
       " 'Real ',\n",
       " '2310 ',\n",
       " '19 ',\n",
       " '1990 ',\n",
       " 'Internet Advertisements',\n",
       " 'Multivariate ',\n",
       " 'Classification ',\n",
       " 'Categorical, Integer, Real ',\n",
       " '3279 ',\n",
       " '1558 ',\n",
       " '1998 ',\n",
       " 'Ionosphere',\n",
       " 'Multivariate ',\n",
       " 'Classification ',\n",
       " 'Integer, Real ',\n",
       " '351 ',\n",
       " '34 ',\n",
       " '1989 ',\n",
       " 'Iris',\n",
       " 'Multivariate ',\n",
       " 'Classification ',\n",
       " 'Real ',\n",
       " '150 ',\n",
       " '4 ',\n",
       " '1988 ',\n",
       " 'ISOLET',\n",
       " 'Multivariate ',\n",
       " 'Classification ',\n",
       " 'Real ',\n",
       " '7797 ',\n",
       " '617 ',\n",
       " '1994 ',\n",
       " 'Kinship',\n",
       " 'Relational ',\n",
       " 'Relational-Learning ',\n",
       " 'Categorical ',\n",
       " '104 ',\n",
       " '12 ',\n",
       " '1990 ',\n",
       " 'Labor Relations',\n",
       " 'Multivariate ',\n",
       " ' ',\n",
       " 'Categorical, Integer, Real ',\n",
       " '57 ',\n",
       " '16 ',\n",
       " '1988 ',\n",
       " 'LED Display Domain',\n",
       " 'Multivariate, Data-Generator ',\n",
       " 'Classification ',\n",
       " 'Categorical ',\n",
       " ' ',\n",
       " '7 ',\n",
       " '1988 ',\n",
       " 'Lenses',\n",
       " 'Multivariate ',\n",
       " 'Classification ',\n",
       " 'Categorical ',\n",
       " '24 ',\n",
       " '4 ',\n",
       " '1990 ',\n",
       " 'Letter Recognition',\n",
       " 'Multivariate ',\n",
       " 'Classification ',\n",
       " 'Integer ',\n",
       " '20000 ',\n",
       " '16 ',\n",
       " '1991 ',\n",
       " 'Liver Disorders',\n",
       " 'Multivariate ',\n",
       " ' ',\n",
       " 'Categorical, Integer, Real ',\n",
       " '345 ',\n",
       " '7 ',\n",
       " '1990 ',\n",
       " 'Logic Theorist',\n",
       " 'Domain-Theory ',\n",
       " ' ',\n",
       " ' ',\n",
       " ' ',\n",
       " ' ',\n",
       " ' ',\n",
       " 'Lung Cancer',\n",
       " 'Multivariate ',\n",
       " 'Classification ',\n",
       " 'Integer ',\n",
       " '32 ',\n",
       " '56 ',\n",
       " '1992 ',\n",
       " 'Lymphography',\n",
       " 'Multivariate ',\n",
       " 'Classification ',\n",
       " 'Categorical ',\n",
       " '148 ',\n",
       " '18 ',\n",
       " '1988 ',\n",
       " 'Mechanical Analysis',\n",
       " 'Multivariate ',\n",
       " 'Classification ',\n",
       " 'Categorical, Integer, Real ',\n",
       " '209 ',\n",
       " '8 ',\n",
       " '1990 ',\n",
       " 'Meta-data',\n",
       " 'Multivariate ',\n",
       " 'Classification ',\n",
       " 'Categorical, Integer, Real ',\n",
       " '528 ',\n",
       " '22 ',\n",
       " '1996 ',\n",
       " 'Mobile Robots',\n",
       " 'Domain-Theory ',\n",
       " ' ',\n",
       " 'Categorical, Integer, Real ',\n",
       " ' ',\n",
       " ' ',\n",
       " '1995 ',\n",
       " 'Molecular Biology (Promoter Gene Sequences)',\n",
       " 'Sequential, Domain-Theory ',\n",
       " 'Classification ',\n",
       " 'Categorical ',\n",
       " '106 ',\n",
       " '58 ',\n",
       " '1990 ',\n",
       " 'Molecular Biology (Protein Secondary Structure)',\n",
       " 'Sequential ',\n",
       " 'Classification ',\n",
       " 'Categorical ',\n",
       " '128 ',\n",
       " ' ',\n",
       " ' ',\n",
       " 'Molecular Biology (Splice-junction Gene Sequences)',\n",
       " 'Sequential, Domain-Theory ',\n",
       " 'Classification ',\n",
       " 'Categorical ',\n",
       " '3190 ',\n",
       " '61 ',\n",
       " '1992 ',\n",
       " \"MONK's Problems\",\n",
       " 'Multivariate ',\n",
       " 'Classification ',\n",
       " 'Categorical ',\n",
       " '432 ',\n",
       " '7 ',\n",
       " '1992 ',\n",
       " 'Moral Reasoner',\n",
       " 'Domain-Theory ',\n",
       " ' ',\n",
       " ' ',\n",
       " '202 ',\n",
       " ' ',\n",
       " '1994 ',\n",
       " 'Multiple Features',\n",
       " 'Multivariate ',\n",
       " 'Classification ',\n",
       " 'Integer, Real ',\n",
       " '2000 ',\n",
       " '649 ',\n",
       " ' ',\n",
       " 'Mushroom',\n",
       " 'Multivariate ',\n",
       " 'Classification ',\n",
       " 'Categorical ',\n",
       " '8124 ',\n",
       " '22 ',\n",
       " '1987 ',\n",
       " 'Musk (Version 1)',\n",
       " 'Multivariate ',\n",
       " 'Classification ',\n",
       " 'Integer ',\n",
       " '476 ',\n",
       " '168 ',\n",
       " '1994 ',\n",
       " 'Musk (Version 2)',\n",
       " 'Multivariate ',\n",
       " 'Classification ',\n",
       " 'Integer ',\n",
       " '6598 ',\n",
       " '168 ',\n",
       " '1994 ',\n",
       " 'Nursery',\n",
       " 'Multivariate ',\n",
       " 'Classification ',\n",
       " 'Categorical ',\n",
       " '12960 ',\n",
       " '8 ',\n",
       " '1997 ',\n",
       " 'Othello Domain Theory',\n",
       " 'Domain-Theory ',\n",
       " ' ',\n",
       " ' ',\n",
       " ' ',\n",
       " ' ',\n",
       " '1991 ',\n",
       " 'Page Blocks Classification',\n",
       " 'Multivariate ',\n",
       " 'Classification ',\n",
       " 'Integer, Real ',\n",
       " '5473 ',\n",
       " '10 ',\n",
       " '1995 ',\n",
       " 'Optical Recognition of Handwritten Digits',\n",
       " 'Multivariate ',\n",
       " 'Classification ',\n",
       " 'Integer ',\n",
       " '5620 ',\n",
       " '64 ',\n",
       " '1998 ',\n",
       " 'Pen-Based Recognition of Handwritten Digits',\n",
       " 'Multivariate ',\n",
       " 'Classification ',\n",
       " 'Integer ',\n",
       " '10992 ',\n",
       " '16 ',\n",
       " '1998 ',\n",
       " 'Post-Operative Patient',\n",
       " 'Multivariate ',\n",
       " 'Classification ',\n",
       " 'Categorical, Integer ',\n",
       " '90 ',\n",
       " '8 ',\n",
       " '1993 ',\n",
       " 'Primary Tumor',\n",
       " 'Multivariate ',\n",
       " 'Classification ',\n",
       " 'Categorical ',\n",
       " '339 ',\n",
       " '17 ',\n",
       " '1988 ',\n",
       " 'Prodigy',\n",
       " 'Domain-Theory ',\n",
       " ' ',\n",
       " ' ',\n",
       " ' ',\n",
       " ' ',\n",
       " ' ',\n",
       " 'Qualitative Structure Activity Relationships',\n",
       " 'Domain-Theory ',\n",
       " ' ',\n",
       " ' ',\n",
       " ' ',\n",
       " ' ',\n",
       " ' ',\n",
       " 'Quadruped Mammals',\n",
       " 'Multivariate, Data-Generator ',\n",
       " 'Classification ',\n",
       " 'Real ',\n",
       " ' ',\n",
       " '72 ',\n",
       " '1992 ',\n",
       " 'Servo',\n",
       " 'Multivariate ',\n",
       " 'Regression ',\n",
       " 'Categorical, Integer ',\n",
       " '167 ',\n",
       " '4 ',\n",
       " '1993 ',\n",
       " 'Shuttle Landing Control',\n",
       " 'Multivariate ',\n",
       " 'Classification ',\n",
       " 'Categorical ',\n",
       " '15 ',\n",
       " '6 ',\n",
       " '1988 ',\n",
       " 'Solar Flare',\n",
       " 'Multivariate ',\n",
       " 'Regression ',\n",
       " 'Categorical ',\n",
       " '1389 ',\n",
       " '10 ',\n",
       " '1989 ',\n",
       " 'Soybean (Large)',\n",
       " 'Multivariate ',\n",
       " 'Classification ',\n",
       " 'Categorical ',\n",
       " '307 ',\n",
       " '35 ',\n",
       " '1988 ',\n",
       " 'Soybean (Small)',\n",
       " 'Multivariate ',\n",
       " 'Classification ',\n",
       " 'Categorical ',\n",
       " '47 ',\n",
       " '35 ',\n",
       " '1987 ',\n",
       " 'Challenger USA Space Shuttle O-Ring',\n",
       " 'Multivariate ',\n",
       " 'Regression ',\n",
       " 'Integer ',\n",
       " '23 ',\n",
       " '4 ',\n",
       " '1993 ',\n",
       " 'Low Resolution Spectrometer',\n",
       " 'Multivariate ',\n",
       " 'Classification ',\n",
       " 'Integer, Real ',\n",
       " '531 ',\n",
       " '102 ',\n",
       " '1988 ',\n",
       " 'Spambase',\n",
       " 'Multivariate ',\n",
       " 'Classification ',\n",
       " 'Integer, Real ',\n",
       " '4601 ',\n",
       " '57 ',\n",
       " '1999 ',\n",
       " 'SPECT Heart',\n",
       " 'Multivariate ',\n",
       " 'Classification ',\n",
       " 'Categorical ',\n",
       " '267 ',\n",
       " '22 ',\n",
       " '2001 ',\n",
       " 'SPECTF Heart',\n",
       " 'Multivariate ',\n",
       " 'Classification ',\n",
       " 'Integer ',\n",
       " '267 ',\n",
       " '44 ',\n",
       " '2001 ',\n",
       " 'Sponge',\n",
       " 'Multivariate ',\n",
       " 'Clustering ',\n",
       " 'Categorical, Integer ',\n",
       " '76 ',\n",
       " '45 ',\n",
       " ' ',\n",
       " 'Statlog Project',\n",
       " ' ',\n",
       " ' ',\n",
       " ' ',\n",
       " ' ',\n",
       " ' ',\n",
       " '1992 ',\n",
       " 'Student Loan Relational',\n",
       " 'Domain-Theory ',\n",
       " ' ',\n",
       " ' ',\n",
       " '1000 ',\n",
       " ' ',\n",
       " '1993 ',\n",
       " 'Teaching Assistant Evaluation',\n",
       " 'Multivariate ',\n",
       " 'Classification ',\n",
       " 'Categorical, Integer ',\n",
       " '151 ',\n",
       " '5 ',\n",
       " '1997 ',\n",
       " 'Tic-Tac-Toe Endgame',\n",
       " 'Multivariate ',\n",
       " 'Classification ',\n",
       " 'Categorical ',\n",
       " '958 ',\n",
       " '9 ',\n",
       " '1991 ',\n",
       " 'Thyroid Disease',\n",
       " 'Multivariate, Domain-Theory ',\n",
       " 'Classification ',\n",
       " 'Categorical, Real ',\n",
       " '7200 ',\n",
       " '21 ',\n",
       " '1987 ',\n",
       " 'Trains',\n",
       " 'Multivariate ',\n",
       " 'Classification ',\n",
       " 'Categorical ',\n",
       " '10 ',\n",
       " '32 ',\n",
       " '1994 ',\n",
       " 'University',\n",
       " 'Multivariate ',\n",
       " 'Classification ',\n",
       " 'Categorical, Integer ',\n",
       " '285 ',\n",
       " '17 ',\n",
       " '1988 ',\n",
       " 'Congressional Voting Records',\n",
       " 'Multivariate ',\n",
       " 'Classification ',\n",
       " 'Categorical ',\n",
       " '435 ',\n",
       " '16 ',\n",
       " '1987 ',\n",
       " 'Water Treatment Plant',\n",
       " 'Multivariate ',\n",
       " 'Clustering ',\n",
       " 'Integer, Real ',\n",
       " '527 ',\n",
       " '38 ',\n",
       " '1993 ',\n",
       " 'Waveform Database Generator (Version 1)',\n",
       " 'Multivariate, Data-Generator ',\n",
       " 'Classification ',\n",
       " 'Real ',\n",
       " '5000 ',\n",
       " '21 ',\n",
       " '1988 ',\n",
       " 'Waveform Database Generator (Version 2)',\n",
       " 'Multivariate, Data-Generator ',\n",
       " 'Classification ',\n",
       " 'Real ',\n",
       " '5000 ',\n",
       " '40 ',\n",
       " '1988 ',\n",
       " 'Wine',\n",
       " 'Multivariate ',\n",
       " 'Classification ',\n",
       " 'Integer, Real ',\n",
       " '178 ',\n",
       " '13 ',\n",
       " '1991 ',\n",
       " 'Yeast',\n",
       " 'Multivariate ',\n",
       " 'Classification ',\n",
       " 'Real ',\n",
       " '1484 ',\n",
       " '8 ',\n",
       " '1996 ',\n",
       " 'Zoo',\n",
       " 'Multivariate ',\n",
       " 'Classification ',\n",
       " 'Categorical, Integer ',\n",
       " '101 ',\n",
       " '17 ',\n",
       " '1990 ',\n",
       " 'Undocumented',\n",
       " ' ',\n",
       " ' ',\n",
       " ' ',\n",
       " ' ',\n",
       " ' ',\n",
       " ' ',\n",
       " 'Twenty Newsgroups',\n",
       " 'Text ',\n",
       " ' ',\n",
       " ' ',\n",
       " '20000 ',\n",
       " ' ',\n",
       " '1999 ',\n",
       " 'Australian Sign Language signs',\n",
       " 'Multivariate, Time-Series ',\n",
       " 'Classification ',\n",
       " 'Categorical, Real ',\n",
       " '6650 ',\n",
       " '15 ',\n",
       " '1999 ',\n",
       " 'Australian Sign Language signs (High Quality)',\n",
       " 'Multivariate, Time-Series ',\n",
       " 'Classification ',\n",
       " 'Real ',\n",
       " '2565 ',\n",
       " '22 ',\n",
       " '2002 ',\n",
       " 'US Census Data (1990)',\n",
       " 'Multivariate ',\n",
       " 'Clustering ',\n",
       " 'Categorical ',\n",
       " '2458285 ',\n",
       " '68 ',\n",
       " ' ',\n",
       " 'Census-Income (KDD)',\n",
       " 'Multivariate ',\n",
       " 'Classification ',\n",
       " 'Categorical, Integer ',\n",
       " '299285 ',\n",
       " '40 ',\n",
       " '2000 ',\n",
       " 'Coil 1999 Competition Data',\n",
       " 'Multivariate ',\n",
       " ' ',\n",
       " 'Categorical, Real ',\n",
       " '340 ',\n",
       " '17 ',\n",
       " '1999 ',\n",
       " 'Corel Image Features',\n",
       " 'Multivariate ',\n",
       " ' ',\n",
       " 'Real ',\n",
       " '68040 ',\n",
       " '89 ',\n",
       " '1999 ',\n",
       " 'E. Coli Genes',\n",
       " 'Relational ',\n",
       " ' ',\n",
       " ' ',\n",
       " ' ',\n",
       " ' ',\n",
       " '2001 ',\n",
       " 'EEG Database',\n",
       " 'Multivariate, Time-Series ',\n",
       " ' ',\n",
       " 'Categorical, Integer, Real ',\n",
       " '122 ',\n",
       " '4 ',\n",
       " '1999 ',\n",
       " 'El Nino',\n",
       " 'Spatio-temporal ',\n",
       " ' ',\n",
       " 'Integer, Real ',\n",
       " '178080 ',\n",
       " '12 ',\n",
       " '1999 ',\n",
       " 'Entree Chicago Recommendation Data',\n",
       " 'Transactional, Sequential ',\n",
       " 'Recommender-Systems ',\n",
       " 'Categorical ',\n",
       " '50672 ',\n",
       " ' ',\n",
       " '2000 ',\n",
       " 'CMU Face Images',\n",
       " 'Image ',\n",
       " 'Classification ',\n",
       " 'Integer ',\n",
       " '640 ',\n",
       " ' ',\n",
       " '1999 ',\n",
       " 'Insurance Company Benchmark (COIL 2000)',\n",
       " 'Multivariate ',\n",
       " 'Regression, Description ',\n",
       " 'Categorical, Integer ',\n",
       " '9000 ',\n",
       " '86 ',\n",
       " '2000 ',\n",
       " 'Internet Usage Data',\n",
       " 'Multivariate ',\n",
       " ' ',\n",
       " 'Categorical, Integer ',\n",
       " '10104 ',\n",
       " '72 ',\n",
       " '1999 ',\n",
       " 'IPUMS Census Database',\n",
       " 'Multivariate ',\n",
       " ' ',\n",
       " 'Categorical, Integer ',\n",
       " '256932 ',\n",
       " '61 ',\n",
       " '1999 ',\n",
       " 'Japanese Vowels',\n",
       " 'Multivariate, Time-Series ',\n",
       " 'Classification ',\n",
       " 'Real ',\n",
       " '640 ',\n",
       " '12 ',\n",
       " ' ',\n",
       " 'KDD Cup 1998 Data',\n",
       " 'Multivariate ',\n",
       " 'Regression ',\n",
       " 'Categorical, Integer ',\n",
       " '191779 ',\n",
       " '481 ',\n",
       " '1998 ',\n",
       " 'KDD Cup 1999 Data',\n",
       " 'Multivariate ',\n",
       " 'Classification ',\n",
       " 'Categorical, Integer ',\n",
       " '4000000 ',\n",
       " '42 ',\n",
       " '1999 ',\n",
       " 'M. Tuberculosis Genes',\n",
       " 'Relational ',\n",
       " ' ',\n",
       " ' ',\n",
       " ' ',\n",
       " ' ',\n",
       " '2001 ',\n",
       " 'Movie',\n",
       " 'Multivariate, Relational ',\n",
       " ' ',\n",
       " ' ',\n",
       " '10000 ',\n",
       " ' ',\n",
       " '1999 ',\n",
       " 'MSNBC.com Anonymous Web Data',\n",
       " 'Sequential ',\n",
       " ' ',\n",
       " 'Categorical ',\n",
       " '989818 ',\n",
       " ' ',\n",
       " ' ',\n",
       " 'NSF Research Award Abstracts 1990-2003',\n",
       " 'Text ',\n",
       " ' ',\n",
       " ' ',\n",
       " '129000 ',\n",
       " ' ',\n",
       " '2003 ',\n",
       " 'Pioneer-1 Mobile Robot Data',\n",
       " 'Multivariate, Time-Series ',\n",
       " ' ',\n",
       " 'Categorical, Real ',\n",
       " ' ',\n",
       " ' ',\n",
       " '1999 ',\n",
       " 'Pseudo Periodic Synthetic Time Series',\n",
       " 'Univariate, Time-Series ',\n",
       " ' ',\n",
       " ' ',\n",
       " '100000 ',\n",
       " ' ',\n",
       " '1999 ',\n",
       " 'Reuters-21578 Text Categorization Collection',\n",
       " 'Text ',\n",
       " 'Classification ',\n",
       " 'Categorical ',\n",
       " '21578 ',\n",
       " '5 ',\n",
       " '1997 ',\n",
       " 'Robot Execution Failures',\n",
       " 'Multivariate, Time-Series ',\n",
       " 'Classification ',\n",
       " 'Integer ',\n",
       " '463 ',\n",
       " '90 ',\n",
       " '1999 ',\n",
       " 'Synthetic Control Chart Time Series',\n",
       " 'Time-Series ',\n",
       " 'Classification, Clustering ',\n",
       " 'Real ',\n",
       " '600 ',\n",
       " ' ',\n",
       " '1999 ',\n",
       " 'Syskill and Webert Web Page Ratings',\n",
       " 'Multivariate, Text ',\n",
       " 'Classification ',\n",
       " 'Categorical ',\n",
       " '332 ',\n",
       " '5 ',\n",
       " '1998 ',\n",
       " 'UNIX User Data',\n",
       " 'Text, Sequential ',\n",
       " ' ',\n",
       " ' ',\n",
       " ' ',\n",
       " ' ',\n",
       " ' ',\n",
       " 'Volcanoes on Venus - JARtool experiment',\n",
       " 'Image ',\n",
       " 'Classification ',\n",
       " ' ',\n",
       " ' ',\n",
       " ' ',\n",
       " ' ',\n",
       " 'Statlog (Australian Credit Approval)',\n",
       " 'Multivariate ',\n",
       " 'Classification ',\n",
       " 'Categorical, Integer, Real ',\n",
       " '690 ',\n",
       " '14 ',\n",
       " ' ',\n",
       " 'Statlog (German Credit Data)',\n",
       " 'Multivariate ',\n",
       " 'Classification ',\n",
       " 'Categorical, Integer ',\n",
       " '1000 ',\n",
       " '20 ',\n",
       " '1994 ',\n",
       " 'Statlog (Heart)',\n",
       " 'Multivariate ',\n",
       " 'Classification ',\n",
       " 'Categorical, Real ',\n",
       " '270 ',\n",
       " '13 ',\n",
       " ...]"
      ]
     },
     "execution_count": 165,
     "metadata": {},
     "output_type": "execute_result"
    }
   ],
   "source": [
    "da "
   ]
  },
  {
   "cell_type": "code",
   "execution_count": 166,
   "id": "845b9748",
   "metadata": {},
   "outputs": [],
   "source": [
    "task = da[2::7]"
   ]
  },
  {
   "cell_type": "code",
   "execution_count": 168,
   "id": "112a6d52",
   "metadata": {},
   "outputs": [
    {
     "data": {
      "text/plain": [
       "622"
      ]
     },
     "execution_count": 168,
     "metadata": {},
     "output_type": "execute_result"
    }
   ],
   "source": [
    "len(task)"
   ]
  },
  {
   "cell_type": "code",
   "execution_count": 169,
   "id": "ab797c25",
   "metadata": {},
   "outputs": [],
   "source": [
    "att_type = da[3::7]"
   ]
  },
  {
   "cell_type": "code",
   "execution_count": 171,
   "id": "139480f5",
   "metadata": {},
   "outputs": [
    {
     "data": {
      "text/plain": [
       "622"
      ]
     },
     "execution_count": 171,
     "metadata": {},
     "output_type": "execute_result"
    }
   ],
   "source": [
    "len(att_type)"
   ]
  },
  {
   "cell_type": "code",
   "execution_count": 172,
   "id": "efc1bed9",
   "metadata": {},
   "outputs": [],
   "source": [
    "n_inst = da[4::7]"
   ]
  },
  {
   "cell_type": "code",
   "execution_count": 174,
   "id": "37ce04db",
   "metadata": {},
   "outputs": [
    {
     "data": {
      "text/plain": [
       "622"
      ]
     },
     "execution_count": 174,
     "metadata": {},
     "output_type": "execute_result"
    }
   ],
   "source": [
    "len(n_inst)"
   ]
  },
  {
   "cell_type": "code",
   "execution_count": 175,
   "id": "15fcac8d",
   "metadata": {},
   "outputs": [],
   "source": [
    "n_att = da[5::7]"
   ]
  },
  {
   "cell_type": "code",
   "execution_count": 177,
   "id": "9038a35e",
   "metadata": {},
   "outputs": [
    {
     "data": {
      "text/plain": [
       "622"
      ]
     },
     "execution_count": 177,
     "metadata": {},
     "output_type": "execute_result"
    }
   ],
   "source": [
    "len(n_att)"
   ]
  },
  {
   "cell_type": "code",
   "execution_count": 178,
   "id": "534d6d61",
   "metadata": {},
   "outputs": [],
   "source": [
    "year = da[6::7]"
   ]
  },
  {
   "cell_type": "code",
   "execution_count": 180,
   "id": "dbd658be",
   "metadata": {},
   "outputs": [
    {
     "data": {
      "text/plain": [
       "622"
      ]
     },
     "execution_count": 180,
     "metadata": {},
     "output_type": "execute_result"
    }
   ],
   "source": [
    "len(year)"
   ]
  },
  {
   "cell_type": "code",
   "execution_count": 181,
   "id": "30df3f32",
   "metadata": {},
   "outputs": [],
   "source": [
    "datasets = pd.DataFrame({'Name': name, 'Data Type': dat_type, 'Task': task, 'Attribute Types': att_type, 'No. of Instances': n_inst,\n",
    "                        'No. of Attributes': n_att, 'Year': year})"
   ]
  },
  {
   "cell_type": "code",
   "execution_count": 182,
   "id": "52c61590",
   "metadata": {},
   "outputs": [
    {
     "data": {
      "text/html": [
       "<div>\n",
       "<style scoped>\n",
       "    .dataframe tbody tr th:only-of-type {\n",
       "        vertical-align: middle;\n",
       "    }\n",
       "\n",
       "    .dataframe tbody tr th {\n",
       "        vertical-align: top;\n",
       "    }\n",
       "\n",
       "    .dataframe thead th {\n",
       "        text-align: right;\n",
       "    }\n",
       "</style>\n",
       "<table border=\"1\" class=\"dataframe\">\n",
       "  <thead>\n",
       "    <tr style=\"text-align: right;\">\n",
       "      <th></th>\n",
       "      <th>Name</th>\n",
       "      <th>Data Type</th>\n",
       "      <th>Task</th>\n",
       "      <th>Attribute Types</th>\n",
       "      <th>No. of Instances</th>\n",
       "      <th>No. of Attributes</th>\n",
       "      <th>Year</th>\n",
       "    </tr>\n",
       "  </thead>\n",
       "  <tbody>\n",
       "    <tr>\n",
       "      <th>0</th>\n",
       "      <td>Abalone</td>\n",
       "      <td>Multivariate</td>\n",
       "      <td>Classification</td>\n",
       "      <td>Categorical, Integer, Real</td>\n",
       "      <td>4177</td>\n",
       "      <td>8</td>\n",
       "      <td>1995</td>\n",
       "    </tr>\n",
       "    <tr>\n",
       "      <th>1</th>\n",
       "      <td>Adult</td>\n",
       "      <td>Multivariate</td>\n",
       "      <td>Classification</td>\n",
       "      <td>Categorical, Integer</td>\n",
       "      <td>48842</td>\n",
       "      <td>14</td>\n",
       "      <td>1996</td>\n",
       "    </tr>\n",
       "    <tr>\n",
       "      <th>2</th>\n",
       "      <td>Annealing</td>\n",
       "      <td>Multivariate</td>\n",
       "      <td>Classification</td>\n",
       "      <td>Categorical, Integer, Real</td>\n",
       "      <td>798</td>\n",
       "      <td>38</td>\n",
       "      <td></td>\n",
       "    </tr>\n",
       "    <tr>\n",
       "      <th>3</th>\n",
       "      <td>Anonymous Microsoft Web Data</td>\n",
       "      <td></td>\n",
       "      <td>Recommender-Systems</td>\n",
       "      <td>Categorical</td>\n",
       "      <td>37711</td>\n",
       "      <td>294</td>\n",
       "      <td>1998</td>\n",
       "    </tr>\n",
       "    <tr>\n",
       "      <th>4</th>\n",
       "      <td>Arrhythmia</td>\n",
       "      <td>Multivariate</td>\n",
       "      <td>Classification</td>\n",
       "      <td>Categorical, Integer, Real</td>\n",
       "      <td>452</td>\n",
       "      <td>279</td>\n",
       "      <td>1998</td>\n",
       "    </tr>\n",
       "    <tr>\n",
       "      <th>...</th>\n",
       "      <td>...</td>\n",
       "      <td>...</td>\n",
       "      <td>...</td>\n",
       "      <td>...</td>\n",
       "      <td>...</td>\n",
       "      <td>...</td>\n",
       "      <td>...</td>\n",
       "    </tr>\n",
       "    <tr>\n",
       "      <th>617</th>\n",
       "      <td>Influenza outbreak event prediction via Twitte...</td>\n",
       "      <td>Multivariate</td>\n",
       "      <td>Classification</td>\n",
       "      <td>Integer, Real</td>\n",
       "      <td>75840</td>\n",
       "      <td>525</td>\n",
       "      <td>2020</td>\n",
       "    </tr>\n",
       "    <tr>\n",
       "      <th>618</th>\n",
       "      <td>Turkish Music Emotion Dataset</td>\n",
       "      <td>Multivariate</td>\n",
       "      <td>Classification</td>\n",
       "      <td>Integer, Real</td>\n",
       "      <td>400</td>\n",
       "      <td>50</td>\n",
       "      <td>2020</td>\n",
       "    </tr>\n",
       "    <tr>\n",
       "      <th>619</th>\n",
       "      <td>Maternal Health Risk Data Set</td>\n",
       "      <td></td>\n",
       "      <td>Classification</td>\n",
       "      <td></td>\n",
       "      <td>1014</td>\n",
       "      <td>7</td>\n",
       "      <td>2020</td>\n",
       "    </tr>\n",
       "    <tr>\n",
       "      <th>620</th>\n",
       "      <td>Room Occupancy Estimation</td>\n",
       "      <td>Multivariate, Time-Series</td>\n",
       "      <td>Classification</td>\n",
       "      <td>Real</td>\n",
       "      <td>10129</td>\n",
       "      <td>16</td>\n",
       "      <td>2021</td>\n",
       "    </tr>\n",
       "    <tr>\n",
       "      <th>621</th>\n",
       "      <td>Image Recognition Task Execution Times in Mobi...</td>\n",
       "      <td>Univariate</td>\n",
       "      <td>Regression</td>\n",
       "      <td>Real</td>\n",
       "      <td>4000</td>\n",
       "      <td>2</td>\n",
       "      <td>2021</td>\n",
       "    </tr>\n",
       "  </tbody>\n",
       "</table>\n",
       "<p>622 rows × 7 columns</p>\n",
       "</div>"
      ],
      "text/plain": [
       "                                                  Name  \\\n",
       "0                                              Abalone   \n",
       "1                                                Adult   \n",
       "2                                            Annealing   \n",
       "3                         Anonymous Microsoft Web Data   \n",
       "4                                           Arrhythmia   \n",
       "..                                                 ...   \n",
       "617  Influenza outbreak event prediction via Twitte...   \n",
       "618                      Turkish Music Emotion Dataset   \n",
       "619                      Maternal Health Risk Data Set   \n",
       "620                          Room Occupancy Estimation   \n",
       "621  Image Recognition Task Execution Times in Mobi...   \n",
       "\n",
       "                      Data Type                  Task  \\\n",
       "0                 Multivariate        Classification    \n",
       "1                 Multivariate        Classification    \n",
       "2                 Multivariate        Classification    \n",
       "3                                Recommender-Systems    \n",
       "4                 Multivariate        Classification    \n",
       "..                          ...                   ...   \n",
       "617               Multivariate        Classification    \n",
       "618               Multivariate        Classification    \n",
       "619                                   Classification    \n",
       "620  Multivariate, Time-Series        Classification    \n",
       "621                 Univariate            Regression    \n",
       "\n",
       "                 Attribute Types No. of Instances No. of Attributes   Year  \n",
       "0    Categorical, Integer, Real             4177                 8   1995   \n",
       "1          Categorical, Integer            48842                14   1996   \n",
       "2    Categorical, Integer, Real              798                38          \n",
       "3                   Categorical            37711               294   1998   \n",
       "4    Categorical, Integer, Real              452               279   1998   \n",
       "..                           ...              ...               ...    ...  \n",
       "617               Integer, Real            75840               525   2020   \n",
       "618               Integer, Real              400                50   2020   \n",
       "619                                         1014                 7   2020   \n",
       "620                        Real            10129                16   2021   \n",
       "621                        Real             4000                 2   2021   \n",
       "\n",
       "[622 rows x 7 columns]"
      ]
     },
     "execution_count": 182,
     "metadata": {},
     "output_type": "execute_result"
    }
   ],
   "source": [
    "datasets"
   ]
  },
  {
   "cell_type": "code",
   "execution_count": null,
   "id": "35869dbe",
   "metadata": {},
   "outputs": [],
   "source": []
  }
 ],
 "metadata": {
  "kernelspec": {
   "display_name": "Python 3 (ipykernel)",
   "language": "python",
   "name": "python3"
  },
  "language_info": {
   "codemirror_mode": {
    "name": "ipython",
    "version": 3
   },
   "file_extension": ".py",
   "mimetype": "text/x-python",
   "name": "python",
   "nbconvert_exporter": "python",
   "pygments_lexer": "ipython3",
   "version": "3.9.7"
  }
 },
 "nbformat": 4,
 "nbformat_minor": 5
}
